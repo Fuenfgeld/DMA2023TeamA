{
  "nbformat": 4,
  "nbformat_minor": 0,
  "metadata": {
    "colab": {
      "provenance": []
    },
    "kernelspec": {
      "name": "python3",
      "display_name": "Python 3"
    },
    "language_info": {
      "name": "python"
    }
  },
  "cells": [
    {
      "cell_type": "markdown",
      "source": [
        "# Datenanalyse\n",
        "\n",
        "\n",
        "---\n",
        "\n",
        "Datensatz: [Synthea Breast Cancer Dataset](https://github.com/Fuenfgeld/DMA2023TeamA/tree/main/Daten/Quelldaten)\n",
        "\n",
        "Primär- und Fremdschlüsseldefinitionen: [Synthea GitHub Repository](https://github.com/synthetichealth/synthea/wiki/CSV-File-Data-Dictionary)\n",
        "\n",
        "Projektgruppe GitHub Repository: [DMA2023TeamA](https://github.com/Fuenfgeld/DMA2023TeamA)\n",
        "\n",
        "Source-DB: [GoogleDrive Ablage](https://drive.google.com/drive/folders/1k5cfjGXjNHmwQkydzjTdVHoBvCniBU_W), erstellt mit [Setup_and_fill_Database.ipynb](https://github.com/Fuenfgeld/DMA2023TeamA/blob/main/Code/Setup_and_fill_Database.ipynb)\n",
        "\n",
        "Data Warehouse-Datenbank: [GoogleDrive Ablage](https://drive.google.com/file/d/1l-HcqCezubHnR737DkbiRzdHanP7_g_D), erstellt mit [ETL_process.ipynb](https://github.com/Fuenfgeld/DMA2023TeamA/blob/main/Code/ETL_Process.ipynb)\n"
      ],
      "metadata": {
        "id": "A1UMVTCi1Mvc"
      }
    },
    {
      "cell_type": "markdown",
      "source": [
        "*Version*: 0.2\n",
        "\n",
        "Version Date: 07/02/2023\n",
        "\n",
        "Changes: \n",
        "\n",
        "* Erstellung eines Analysedatensatzes aus den aus der DWH-Datenbank extrahierten Daten (Gesamtkosten für Aufenthalte / Prozeduren / Medikationen pro Patient)\n",
        "* Explorative Datenanalyse (EDA)\n",
        "* Ergänzung Versionsnummern für neue Pakete\n",
        "\n"
      ],
      "metadata": {
        "id": "kyGzZm9lfe0i"
      }
    },
    {
      "cell_type": "markdown",
      "source": [
        "# Vorbereitung des Notebooks"
      ],
      "metadata": {
        "id": "uDC-NY3jl4dL"
      }
    },
    {
      "cell_type": "code",
      "source": [
        "# Vorsichtshalber: Löschen aller Variablen\n",
        "%reset -f\n",
        "\n",
        "# Laden der benötigten Libraries\n",
        "from google.colab import drive\n",
        "import sqlite3 as sq\n",
        "from sqlite3 import Error\n",
        "import pandas as pd\n",
        "import numpy as np\n",
        "import seaborn as sns\n",
        "import matplotlib\n",
        "from matplotlib import pyplot as plt\n",
        "from pandas_profiling import ProfileReport\n",
        "# will make plot outputs appear and stored within the notebook.\n",
        "%matplotlib inline"
      ],
      "metadata": {
        "id": "seY5T_uZ1pra"
      },
      "execution_count": 1,
      "outputs": []
    },
    {
      "cell_type": "code",
      "source": [
        "# Google Drive mounten, force_remount auf True setzen, damit ein Remount erzwungen wird\n",
        "drive.mount('/content/gdrive/', force_remount=True)\n",
        "\n",
        "# Datenbankordner auf dem Shareddrive checken, es müssen source_breast_cancer.db und DWH_breast_cancer.db vorhanden sein\n",
        "!ls \"/content/gdrive/Shareddrives/DMA_Datenprojekt_TeamA/Daten/Datenbank\"\n",
        "\n",
        "# Patiententyp festlegen\n",
        "patient_type = \"breast_cancer\"\n",
        "\n",
        "# Pfad zur DWH-Datenbank setzen\n",
        "DB_DWH_PATH = \"/content/gdrive/Shareddrives/DMA_Datenprojekt_TeamA/Daten/Datenbank/DWH_breast_cancer.db\"\n",
        "\n",
        "# Pfad zum Analyse-Datensatz setzen\n",
        "DATA_PATH = \"/content/gdrive/Shareddrives/DMA_Datenprojekt_TeamA/Daten/Analyse/\"\n",
        "\n",
        "# Pfad zum Ergebnisordner setzen\n",
        "RESULTS_PATH = \"/content/gdrive/Shareddrives/DMA_Datenprojekt_TeamA/Ergebnisse/\"\n",
        "\n",
        "# Check\n",
        "print(\"\\n\" + DB_DWH_PATH)\n",
        "print(\"\\n\" + DATA_PATH)\n",
        "print(\"\\n\" + RESULTS_PATH)"
      ],
      "metadata": {
        "id": "sSgyiyqNUoCY",
        "colab": {
          "base_uri": "https://localhost:8080/"
        },
        "outputId": "67fa12cf-442b-47a2-a123-4ce614fa34e0"
      },
      "execution_count": 2,
      "outputs": [
        {
          "output_type": "stream",
          "name": "stdout",
          "text": [
            "Mounted at /content/gdrive/\n",
            "DWH_breast_cancer.db  source_breast_cancer.db  TEST_DWH_breast_cancer.db\n",
            "\n",
            "/content/gdrive/Shareddrives/DMA_Datenprojekt_TeamA/Daten/Datenbank/DWH_breast_cancer.db\n",
            "\n",
            "/content/gdrive/Shareddrives/DMA_Datenprojekt_TeamA/Daten/Analyse/\n",
            "\n",
            "/content/gdrive/Shareddrives/DMA_Datenprojekt_TeamA/Ergebnisse/\n"
          ]
        }
      ]
    },
    {
      "cell_type": "markdown",
      "source": [
        "# Versionen der verwendeten Pakete abfragen \n",
        "\n",
        "Die Versionen der verwendeten Python-Installation und der Python-Pakete abfragen. "
      ],
      "metadata": {
        "id": "0CiLSmoxK2EH"
      }
    },
    {
      "cell_type": "code",
      "source": [
        "# Python-Version\n",
        "print(\"Python-Version:\")\n",
        "!python --version\n",
        "\n",
        "# Pandas-Version\n",
        "print(\"\\n\" + \"Pandas-Version:\")\n",
        "print(\"Pandas \" + pd.__version__)\n",
        "\n",
        "# numpy-Version\n",
        "print(\"\\n\" + \"numpy-Version:\")\n",
        "print(\"numpy \" + np.version.version)\n",
        "\n",
        "# sqlite-Version\n",
        "print(\"\\n\" + \"sqlite3-Version:\")\n",
        "print(\"sqlite3 \" + sq.sqlite_version)\n",
        "\n",
        "# Seaborn-Version\n",
        "print(\"\\n\" + \"Seaborn-Version:\")\n",
        "print(\"Seaborn \" + sns.__version__)\n",
        "\n",
        "# Matplotlib-Version\n",
        "print(\"\\n\" + \"Matplotlib-Version:\")\n",
        "print(\"Matplotlib \" + matplotlib.__version__)\n"
      ],
      "metadata": {
        "id": "GefZIi4qLj-n",
        "colab": {
          "base_uri": "https://localhost:8080/"
        },
        "outputId": "c2a5514c-7160-45f8-b041-8ed2da0d2795"
      },
      "execution_count": 3,
      "outputs": [
        {
          "output_type": "stream",
          "name": "stdout",
          "text": [
            "Python-Version:\n",
            "Python 3.8.10\n",
            "\n",
            "Pandas-Version:\n",
            "Pandas 1.3.5\n",
            "\n",
            "numpy-Version:\n",
            "numpy 1.21.6\n",
            "\n",
            "sqlite3-Version:\n",
            "sqlite3 3.31.1\n",
            "\n",
            "Seaborn-Version:\n",
            "Seaborn 0.11.2\n",
            "\n",
            "Matplotlib-Version:\n",
            "Matplotlib 3.2.2\n"
          ]
        }
      ]
    },
    {
      "cell_type": "markdown",
      "source": [
        "# Extraktion der Daten aus der DWH-Datenbank\n"
      ],
      "metadata": {
        "id": "5M6KhPXEemNu"
      }
    },
    {
      "cell_type": "code",
      "source": [
        "# Datenbankverbindung zum DWH aufbauen\n",
        "dwh_conn = sq.connect(DB_DWH_PATH) \n",
        "if dwh_conn is not None:\n",
        "  dwh_cursor = dwh_conn.cursor()\n",
        "else:\n",
        "  print(\"Verbindung fehlgeschlagen. Bitte überprüfen!\")\n",
        "\n",
        "# Alle Tabellennamen aus der Datenbank ziehen\n",
        "dwh_cursor.execute(\"SELECT name FROM sqlite_master WHERE type='table';\")\n",
        "tablelist = dwh_cursor.fetchall()\n",
        "tablelist"
      ],
      "metadata": {
        "id": "2myoVebU42oM",
        "colab": {
          "base_uri": "https://localhost:8080/"
        },
        "outputId": "cddfd30b-f3ac-42eb-b066-68b4db1165d6"
      },
      "execution_count": 4,
      "outputs": [
        {
          "output_type": "execute_result",
          "data": {
            "text/plain": [
              "[('D_payers',),\n",
              " ('D_snomedct',),\n",
              " ('D_rxnorm',),\n",
              " ('D_patients',),\n",
              " ('F_encounter_costs',)]"
            ]
          },
          "metadata": {},
          "execution_count": 4
        }
      ]
    },
    {
      "cell_type": "code",
      "source": [
        "# SQL Abfrage zur Ausleitung der Daten zu den Behandlungskosten\n",
        "extract_costs = \"\"\"SELECT enc.enc_id,\n",
        "                enc.patient,\n",
        "                pat.gender    AS PAT_GENDER,\n",
        "                pat.race      AS PAT_RACE,\n",
        "                enc.enc_payer,\n",
        "                pay.NAME      AS ENC_PAYER_NAME,\n",
        "                enc.enc_base_cost,\n",
        "                enc.enc_total_claim_cost,\n",
        "                enc.enc_payer_coverage,\n",
        "                enc.pro_code,\n",
        "                enc.pro_base_cost,\n",
        "                enc.med_code,\n",
        "                enc.med_base_cost,\n",
        "                enc.med_dispenses,\n",
        "                enc.med_total_cost,\n",
        "                enc.med_payer_coverage,\n",
        "                enc.med_payer,\n",
        "                enc.con_code,\n",
        "                sct.term      AS CON_TERM\n",
        "                FROM  f_encounter_costs AS enc\n",
        "                      JOIN d_patients AS pat\n",
        "                        ON enc.patient = pat.id\n",
        "                      JOIN d_payers AS pay\n",
        "                        ON enc.enc_payer = pay.id\n",
        "                      LEFT JOIN d_snomedct AS sct\n",
        "                        ON enc.con_code = sct.code\n",
        "                ORDER  BY patient, enc.enc_id;\"\"\"\n",
        "data_costs = pd.read_sql(extract_costs, dwh_conn)\n",
        "data_costs.head()"
      ],
      "metadata": {
        "id": "_Gygq5PcjHty",
        "colab": {
          "base_uri": "https://localhost:8080/",
          "height": 531
        },
        "outputId": "3ca7d338-1f36-49ce-b7e1-3b7815ff3902"
      },
      "execution_count": 5,
      "outputs": [
        {
          "output_type": "execute_result",
          "data": {
            "text/plain": [
              "                                 ENC_ID  \\\n",
              "0  05dff93f-eb6b-2dd8-aa46-293788d9e21b   \n",
              "1  0ac04541-7d10-93d2-18a6-ce7aeb7de470   \n",
              "2  3abca259-7ca7-4f5b-9d90-d61622ab2264   \n",
              "3  3e5d8265-edaa-a5b5-fea9-e277b5e5eb62   \n",
              "4  421f7b85-7ce5-c0be-6c0c-877127ec069d   \n",
              "\n",
              "                                             PATIENT PAT_GENDER PAT_RACE  \\\n",
              "0  0018ce49a6843a6e3330cbbbb8eadd8ccdcdf0b94932d7...          F    white   \n",
              "1  0018ce49a6843a6e3330cbbbb8eadd8ccdcdf0b94932d7...          F    white   \n",
              "2  0018ce49a6843a6e3330cbbbb8eadd8ccdcdf0b94932d7...          F    white   \n",
              "3  0018ce49a6843a6e3330cbbbb8eadd8ccdcdf0b94932d7...          F    white   \n",
              "4  0018ce49a6843a6e3330cbbbb8eadd8ccdcdf0b94932d7...          F    white   \n",
              "\n",
              "                              ENC_PAYER ENC_PAYER_NAME  ENC_BASE_COST  \\\n",
              "0  d47b3510-2895-3b70-9897-342d681c769d         Humana         129.16   \n",
              "1  d47b3510-2895-3b70-9897-342d681c769d         Humana         129.16   \n",
              "2  d47b3510-2895-3b70-9897-342d681c769d         Humana         129.16   \n",
              "3  d47b3510-2895-3b70-9897-342d681c769d         Humana         129.16   \n",
              "4  d47b3510-2895-3b70-9897-342d681c769d         Humana         129.16   \n",
              "\n",
              "   ENC_TOTAL_CLAIM_COST  ENC_PAYER_COVERAGE  PRO_CODE  PRO_BASE_COST  \\\n",
              "0                129.16              129.16       NaN            NaN   \n",
              "1                129.16              129.16       NaN            NaN   \n",
              "2                129.16              129.16       NaN            NaN   \n",
              "3                129.16              129.16       NaN            NaN   \n",
              "4                129.16              129.16       NaN            NaN   \n",
              "\n",
              "   MED_CODE  MED_BASE_COST  MED_DISPENSES  MED_TOTAL_COST  MED_PAYER_COVERAGE  \\\n",
              "0       NaN            NaN            NaN             NaN                 NaN   \n",
              "1       NaN            NaN            NaN             NaN                 NaN   \n",
              "2       NaN            NaN            NaN             NaN                 NaN   \n",
              "3       NaN            NaN            NaN             NaN                 NaN   \n",
              "4       NaN            NaN            NaN             NaN                 NaN   \n",
              "\n",
              "  MED_PAYER  CON_CODE CON_TERM  \n",
              "0      None       NaN     None  \n",
              "1      None       NaN     None  \n",
              "2      None       NaN     None  \n",
              "3      None       NaN     None  \n",
              "4      None       NaN     None  "
            ],
            "text/html": [
              "\n",
              "  <div id=\"df-d7b430d7-cccc-44cf-b4f6-fd9ca1099538\">\n",
              "    <div class=\"colab-df-container\">\n",
              "      <div>\n",
              "<style scoped>\n",
              "    .dataframe tbody tr th:only-of-type {\n",
              "        vertical-align: middle;\n",
              "    }\n",
              "\n",
              "    .dataframe tbody tr th {\n",
              "        vertical-align: top;\n",
              "    }\n",
              "\n",
              "    .dataframe thead th {\n",
              "        text-align: right;\n",
              "    }\n",
              "</style>\n",
              "<table border=\"1\" class=\"dataframe\">\n",
              "  <thead>\n",
              "    <tr style=\"text-align: right;\">\n",
              "      <th></th>\n",
              "      <th>ENC_ID</th>\n",
              "      <th>PATIENT</th>\n",
              "      <th>PAT_GENDER</th>\n",
              "      <th>PAT_RACE</th>\n",
              "      <th>ENC_PAYER</th>\n",
              "      <th>ENC_PAYER_NAME</th>\n",
              "      <th>ENC_BASE_COST</th>\n",
              "      <th>ENC_TOTAL_CLAIM_COST</th>\n",
              "      <th>ENC_PAYER_COVERAGE</th>\n",
              "      <th>PRO_CODE</th>\n",
              "      <th>PRO_BASE_COST</th>\n",
              "      <th>MED_CODE</th>\n",
              "      <th>MED_BASE_COST</th>\n",
              "      <th>MED_DISPENSES</th>\n",
              "      <th>MED_TOTAL_COST</th>\n",
              "      <th>MED_PAYER_COVERAGE</th>\n",
              "      <th>MED_PAYER</th>\n",
              "      <th>CON_CODE</th>\n",
              "      <th>CON_TERM</th>\n",
              "    </tr>\n",
              "  </thead>\n",
              "  <tbody>\n",
              "    <tr>\n",
              "      <th>0</th>\n",
              "      <td>05dff93f-eb6b-2dd8-aa46-293788d9e21b</td>\n",
              "      <td>0018ce49a6843a6e3330cbbbb8eadd8ccdcdf0b94932d7...</td>\n",
              "      <td>F</td>\n",
              "      <td>white</td>\n",
              "      <td>d47b3510-2895-3b70-9897-342d681c769d</td>\n",
              "      <td>Humana</td>\n",
              "      <td>129.16</td>\n",
              "      <td>129.16</td>\n",
              "      <td>129.16</td>\n",
              "      <td>NaN</td>\n",
              "      <td>NaN</td>\n",
              "      <td>NaN</td>\n",
              "      <td>NaN</td>\n",
              "      <td>NaN</td>\n",
              "      <td>NaN</td>\n",
              "      <td>NaN</td>\n",
              "      <td>None</td>\n",
              "      <td>NaN</td>\n",
              "      <td>None</td>\n",
              "    </tr>\n",
              "    <tr>\n",
              "      <th>1</th>\n",
              "      <td>0ac04541-7d10-93d2-18a6-ce7aeb7de470</td>\n",
              "      <td>0018ce49a6843a6e3330cbbbb8eadd8ccdcdf0b94932d7...</td>\n",
              "      <td>F</td>\n",
              "      <td>white</td>\n",
              "      <td>d47b3510-2895-3b70-9897-342d681c769d</td>\n",
              "      <td>Humana</td>\n",
              "      <td>129.16</td>\n",
              "      <td>129.16</td>\n",
              "      <td>129.16</td>\n",
              "      <td>NaN</td>\n",
              "      <td>NaN</td>\n",
              "      <td>NaN</td>\n",
              "      <td>NaN</td>\n",
              "      <td>NaN</td>\n",
              "      <td>NaN</td>\n",
              "      <td>NaN</td>\n",
              "      <td>None</td>\n",
              "      <td>NaN</td>\n",
              "      <td>None</td>\n",
              "    </tr>\n",
              "    <tr>\n",
              "      <th>2</th>\n",
              "      <td>3abca259-7ca7-4f5b-9d90-d61622ab2264</td>\n",
              "      <td>0018ce49a6843a6e3330cbbbb8eadd8ccdcdf0b94932d7...</td>\n",
              "      <td>F</td>\n",
              "      <td>white</td>\n",
              "      <td>d47b3510-2895-3b70-9897-342d681c769d</td>\n",
              "      <td>Humana</td>\n",
              "      <td>129.16</td>\n",
              "      <td>129.16</td>\n",
              "      <td>129.16</td>\n",
              "      <td>NaN</td>\n",
              "      <td>NaN</td>\n",
              "      <td>NaN</td>\n",
              "      <td>NaN</td>\n",
              "      <td>NaN</td>\n",
              "      <td>NaN</td>\n",
              "      <td>NaN</td>\n",
              "      <td>None</td>\n",
              "      <td>NaN</td>\n",
              "      <td>None</td>\n",
              "    </tr>\n",
              "    <tr>\n",
              "      <th>3</th>\n",
              "      <td>3e5d8265-edaa-a5b5-fea9-e277b5e5eb62</td>\n",
              "      <td>0018ce49a6843a6e3330cbbbb8eadd8ccdcdf0b94932d7...</td>\n",
              "      <td>F</td>\n",
              "      <td>white</td>\n",
              "      <td>d47b3510-2895-3b70-9897-342d681c769d</td>\n",
              "      <td>Humana</td>\n",
              "      <td>129.16</td>\n",
              "      <td>129.16</td>\n",
              "      <td>129.16</td>\n",
              "      <td>NaN</td>\n",
              "      <td>NaN</td>\n",
              "      <td>NaN</td>\n",
              "      <td>NaN</td>\n",
              "      <td>NaN</td>\n",
              "      <td>NaN</td>\n",
              "      <td>NaN</td>\n",
              "      <td>None</td>\n",
              "      <td>NaN</td>\n",
              "      <td>None</td>\n",
              "    </tr>\n",
              "    <tr>\n",
              "      <th>4</th>\n",
              "      <td>421f7b85-7ce5-c0be-6c0c-877127ec069d</td>\n",
              "      <td>0018ce49a6843a6e3330cbbbb8eadd8ccdcdf0b94932d7...</td>\n",
              "      <td>F</td>\n",
              "      <td>white</td>\n",
              "      <td>d47b3510-2895-3b70-9897-342d681c769d</td>\n",
              "      <td>Humana</td>\n",
              "      <td>129.16</td>\n",
              "      <td>129.16</td>\n",
              "      <td>129.16</td>\n",
              "      <td>NaN</td>\n",
              "      <td>NaN</td>\n",
              "      <td>NaN</td>\n",
              "      <td>NaN</td>\n",
              "      <td>NaN</td>\n",
              "      <td>NaN</td>\n",
              "      <td>NaN</td>\n",
              "      <td>None</td>\n",
              "      <td>NaN</td>\n",
              "      <td>None</td>\n",
              "    </tr>\n",
              "  </tbody>\n",
              "</table>\n",
              "</div>\n",
              "      <button class=\"colab-df-convert\" onclick=\"convertToInteractive('df-d7b430d7-cccc-44cf-b4f6-fd9ca1099538')\"\n",
              "              title=\"Convert this dataframe to an interactive table.\"\n",
              "              style=\"display:none;\">\n",
              "        \n",
              "  <svg xmlns=\"http://www.w3.org/2000/svg\" height=\"24px\"viewBox=\"0 0 24 24\"\n",
              "       width=\"24px\">\n",
              "    <path d=\"M0 0h24v24H0V0z\" fill=\"none\"/>\n",
              "    <path d=\"M18.56 5.44l.94 2.06.94-2.06 2.06-.94-2.06-.94-.94-2.06-.94 2.06-2.06.94zm-11 1L8.5 8.5l.94-2.06 2.06-.94-2.06-.94L8.5 2.5l-.94 2.06-2.06.94zm10 10l.94 2.06.94-2.06 2.06-.94-2.06-.94-.94-2.06-.94 2.06-2.06.94z\"/><path d=\"M17.41 7.96l-1.37-1.37c-.4-.4-.92-.59-1.43-.59-.52 0-1.04.2-1.43.59L10.3 9.45l-7.72 7.72c-.78.78-.78 2.05 0 2.83L4 21.41c.39.39.9.59 1.41.59.51 0 1.02-.2 1.41-.59l7.78-7.78 2.81-2.81c.8-.78.8-2.07 0-2.86zM5.41 20L4 18.59l7.72-7.72 1.47 1.35L5.41 20z\"/>\n",
              "  </svg>\n",
              "      </button>\n",
              "      \n",
              "  <style>\n",
              "    .colab-df-container {\n",
              "      display:flex;\n",
              "      flex-wrap:wrap;\n",
              "      gap: 12px;\n",
              "    }\n",
              "\n",
              "    .colab-df-convert {\n",
              "      background-color: #E8F0FE;\n",
              "      border: none;\n",
              "      border-radius: 50%;\n",
              "      cursor: pointer;\n",
              "      display: none;\n",
              "      fill: #1967D2;\n",
              "      height: 32px;\n",
              "      padding: 0 0 0 0;\n",
              "      width: 32px;\n",
              "    }\n",
              "\n",
              "    .colab-df-convert:hover {\n",
              "      background-color: #E2EBFA;\n",
              "      box-shadow: 0px 1px 2px rgba(60, 64, 67, 0.3), 0px 1px 3px 1px rgba(60, 64, 67, 0.15);\n",
              "      fill: #174EA6;\n",
              "    }\n",
              "\n",
              "    [theme=dark] .colab-df-convert {\n",
              "      background-color: #3B4455;\n",
              "      fill: #D2E3FC;\n",
              "    }\n",
              "\n",
              "    [theme=dark] .colab-df-convert:hover {\n",
              "      background-color: #434B5C;\n",
              "      box-shadow: 0px 1px 3px 1px rgba(0, 0, 0, 0.15);\n",
              "      filter: drop-shadow(0px 1px 2px rgba(0, 0, 0, 0.3));\n",
              "      fill: #FFFFFF;\n",
              "    }\n",
              "  </style>\n",
              "\n",
              "      <script>\n",
              "        const buttonEl =\n",
              "          document.querySelector('#df-d7b430d7-cccc-44cf-b4f6-fd9ca1099538 button.colab-df-convert');\n",
              "        buttonEl.style.display =\n",
              "          google.colab.kernel.accessAllowed ? 'block' : 'none';\n",
              "\n",
              "        async function convertToInteractive(key) {\n",
              "          const element = document.querySelector('#df-d7b430d7-cccc-44cf-b4f6-fd9ca1099538');\n",
              "          const dataTable =\n",
              "            await google.colab.kernel.invokeFunction('convertToInteractive',\n",
              "                                                     [key], {});\n",
              "          if (!dataTable) return;\n",
              "\n",
              "          const docLinkHtml = 'Like what you see? Visit the ' +\n",
              "            '<a target=\"_blank\" href=https://colab.research.google.com/notebooks/data_table.ipynb>data table notebook</a>'\n",
              "            + ' to learn more about interactive tables.';\n",
              "          element.innerHTML = '';\n",
              "          dataTable['output_type'] = 'display_data';\n",
              "          await google.colab.output.renderOutput(dataTable, element);\n",
              "          const docLink = document.createElement('div');\n",
              "          docLink.innerHTML = docLinkHtml;\n",
              "          element.appendChild(docLink);\n",
              "        }\n",
              "      </script>\n",
              "    </div>\n",
              "  </div>\n",
              "  "
            ]
          },
          "metadata": {},
          "execution_count": 5
        }
      ]
    },
    {
      "cell_type": "code",
      "source": [
        "# SQL Abfrage zur Ausleitung der Diagnosedaten\n",
        "extract_conditions = \"\"\"SELECT enc.patient,\n",
        "                               enc.con_start,\n",
        "                               enc.con_code,\n",
        "                               sct.term\n",
        "                        FROM   f_encounter_costs AS enc\n",
        "                               JOIN d_snomedct AS sct\n",
        "                                 ON enc.con_code = sct.code\n",
        "                        ORDER  BY enc.patient,\n",
        "                                  enc.con_code;\"\"\"\n",
        "# data_conditions = pd.read_sql(extract_conditions, dwh_conn)\n",
        "# data_conditions.head()"
      ],
      "metadata": {
        "id": "LnujU43Mj8tq"
      },
      "execution_count": 6,
      "outputs": []
    },
    {
      "cell_type": "code",
      "source": [
        "# SQL Abfrage zur Ausleitung der Diagnoseart (none = keine, breast_cancer = Brustkrebs, other = andere Diagnose)\n",
        "extract_diagnoses = \"\"\"SELECT pat.id AS patient,\n",
        "                              CASE\n",
        "                                WHEN pat.id IN (SELECT DISTINCT( enc.patient )\n",
        "                                                FROM   f_encounter_costs AS enc\n",
        "                                                WHERE  enc.con_code = \"254837009\") THEN 'breast_cancer'\n",
        "                                WHEN pat.id IN (SELECT DISTINCT( enc.patient )\n",
        "                                                FROM   f_encounter_costs AS enc\n",
        "                                                WHERE  NOT enc.con_code = \"254837009\"\n",
        "                                                        AND enc.con_code IS NOT NULL) THEN 'other'\n",
        "                                ELSE 'none'\n",
        "                              END    AS diagnosis\n",
        "                        FROM   d_patients AS pat;\"\"\"\n",
        "data_diagnoses = pd.read_sql(extract_diagnoses, dwh_conn)\n",
        "data_diagnoses.head()"
      ],
      "metadata": {
        "id": "8EtFTg8qorq2",
        "colab": {
          "base_uri": "https://localhost:8080/",
          "height": 206
        },
        "outputId": "09bef395-5435-4458-974e-39496d40635a"
      },
      "execution_count": 7,
      "outputs": [
        {
          "output_type": "execute_result",
          "data": {
            "text/plain": [
              "                                             patient diagnosis\n",
              "0  0018ce49a6843a6e3330cbbbb8eadd8ccdcdf0b94932d7...      none\n",
              "1  00397419b24deefc22d3aa48f4411fe021652c5b9768b8...      none\n",
              "2  006f1c1edfb28afb66d49adca0252e5b4c457374382232...      none\n",
              "3  00828a545bd5103410c608ef66616c95b6df39b7f8ec2a...     other\n",
              "4  00be4c5c175cc3ec49e5e943d2f854eb55f60e1ef5ed3f...      none"
            ],
            "text/html": [
              "\n",
              "  <div id=\"df-ccb466d2-0e2d-458e-b681-e6c01de6043d\">\n",
              "    <div class=\"colab-df-container\">\n",
              "      <div>\n",
              "<style scoped>\n",
              "    .dataframe tbody tr th:only-of-type {\n",
              "        vertical-align: middle;\n",
              "    }\n",
              "\n",
              "    .dataframe tbody tr th {\n",
              "        vertical-align: top;\n",
              "    }\n",
              "\n",
              "    .dataframe thead th {\n",
              "        text-align: right;\n",
              "    }\n",
              "</style>\n",
              "<table border=\"1\" class=\"dataframe\">\n",
              "  <thead>\n",
              "    <tr style=\"text-align: right;\">\n",
              "      <th></th>\n",
              "      <th>patient</th>\n",
              "      <th>diagnosis</th>\n",
              "    </tr>\n",
              "  </thead>\n",
              "  <tbody>\n",
              "    <tr>\n",
              "      <th>0</th>\n",
              "      <td>0018ce49a6843a6e3330cbbbb8eadd8ccdcdf0b94932d7...</td>\n",
              "      <td>none</td>\n",
              "    </tr>\n",
              "    <tr>\n",
              "      <th>1</th>\n",
              "      <td>00397419b24deefc22d3aa48f4411fe021652c5b9768b8...</td>\n",
              "      <td>none</td>\n",
              "    </tr>\n",
              "    <tr>\n",
              "      <th>2</th>\n",
              "      <td>006f1c1edfb28afb66d49adca0252e5b4c457374382232...</td>\n",
              "      <td>none</td>\n",
              "    </tr>\n",
              "    <tr>\n",
              "      <th>3</th>\n",
              "      <td>00828a545bd5103410c608ef66616c95b6df39b7f8ec2a...</td>\n",
              "      <td>other</td>\n",
              "    </tr>\n",
              "    <tr>\n",
              "      <th>4</th>\n",
              "      <td>00be4c5c175cc3ec49e5e943d2f854eb55f60e1ef5ed3f...</td>\n",
              "      <td>none</td>\n",
              "    </tr>\n",
              "  </tbody>\n",
              "</table>\n",
              "</div>\n",
              "      <button class=\"colab-df-convert\" onclick=\"convertToInteractive('df-ccb466d2-0e2d-458e-b681-e6c01de6043d')\"\n",
              "              title=\"Convert this dataframe to an interactive table.\"\n",
              "              style=\"display:none;\">\n",
              "        \n",
              "  <svg xmlns=\"http://www.w3.org/2000/svg\" height=\"24px\"viewBox=\"0 0 24 24\"\n",
              "       width=\"24px\">\n",
              "    <path d=\"M0 0h24v24H0V0z\" fill=\"none\"/>\n",
              "    <path d=\"M18.56 5.44l.94 2.06.94-2.06 2.06-.94-2.06-.94-.94-2.06-.94 2.06-2.06.94zm-11 1L8.5 8.5l.94-2.06 2.06-.94-2.06-.94L8.5 2.5l-.94 2.06-2.06.94zm10 10l.94 2.06.94-2.06 2.06-.94-2.06-.94-.94-2.06-.94 2.06-2.06.94z\"/><path d=\"M17.41 7.96l-1.37-1.37c-.4-.4-.92-.59-1.43-.59-.52 0-1.04.2-1.43.59L10.3 9.45l-7.72 7.72c-.78.78-.78 2.05 0 2.83L4 21.41c.39.39.9.59 1.41.59.51 0 1.02-.2 1.41-.59l7.78-7.78 2.81-2.81c.8-.78.8-2.07 0-2.86zM5.41 20L4 18.59l7.72-7.72 1.47 1.35L5.41 20z\"/>\n",
              "  </svg>\n",
              "      </button>\n",
              "      \n",
              "  <style>\n",
              "    .colab-df-container {\n",
              "      display:flex;\n",
              "      flex-wrap:wrap;\n",
              "      gap: 12px;\n",
              "    }\n",
              "\n",
              "    .colab-df-convert {\n",
              "      background-color: #E8F0FE;\n",
              "      border: none;\n",
              "      border-radius: 50%;\n",
              "      cursor: pointer;\n",
              "      display: none;\n",
              "      fill: #1967D2;\n",
              "      height: 32px;\n",
              "      padding: 0 0 0 0;\n",
              "      width: 32px;\n",
              "    }\n",
              "\n",
              "    .colab-df-convert:hover {\n",
              "      background-color: #E2EBFA;\n",
              "      box-shadow: 0px 1px 2px rgba(60, 64, 67, 0.3), 0px 1px 3px 1px rgba(60, 64, 67, 0.15);\n",
              "      fill: #174EA6;\n",
              "    }\n",
              "\n",
              "    [theme=dark] .colab-df-convert {\n",
              "      background-color: #3B4455;\n",
              "      fill: #D2E3FC;\n",
              "    }\n",
              "\n",
              "    [theme=dark] .colab-df-convert:hover {\n",
              "      background-color: #434B5C;\n",
              "      box-shadow: 0px 1px 3px 1px rgba(0, 0, 0, 0.15);\n",
              "      filter: drop-shadow(0px 1px 2px rgba(0, 0, 0, 0.3));\n",
              "      fill: #FFFFFF;\n",
              "    }\n",
              "  </style>\n",
              "\n",
              "      <script>\n",
              "        const buttonEl =\n",
              "          document.querySelector('#df-ccb466d2-0e2d-458e-b681-e6c01de6043d button.colab-df-convert');\n",
              "        buttonEl.style.display =\n",
              "          google.colab.kernel.accessAllowed ? 'block' : 'none';\n",
              "\n",
              "        async function convertToInteractive(key) {\n",
              "          const element = document.querySelector('#df-ccb466d2-0e2d-458e-b681-e6c01de6043d');\n",
              "          const dataTable =\n",
              "            await google.colab.kernel.invokeFunction('convertToInteractive',\n",
              "                                                     [key], {});\n",
              "          if (!dataTable) return;\n",
              "\n",
              "          const docLinkHtml = 'Like what you see? Visit the ' +\n",
              "            '<a target=\"_blank\" href=https://colab.research.google.com/notebooks/data_table.ipynb>data table notebook</a>'\n",
              "            + ' to learn more about interactive tables.';\n",
              "          element.innerHTML = '';\n",
              "          dataTable['output_type'] = 'display_data';\n",
              "          await google.colab.output.renderOutput(dataTable, element);\n",
              "          const docLink = document.createElement('div');\n",
              "          docLink.innerHTML = docLinkHtml;\n",
              "          element.appendChild(docLink);\n",
              "        }\n",
              "      </script>\n",
              "    </div>\n",
              "  </div>\n",
              "  "
            ]
          },
          "metadata": {},
          "execution_count": 7
        }
      ]
    },
    {
      "cell_type": "code",
      "source": [
        "# Commit und Close\n",
        "dwh_conn.commit()\n",
        "dwh_conn.close()"
      ],
      "metadata": {
        "id": "86L6xaCr6Miz"
      },
      "execution_count": 8,
      "outputs": []
    },
    {
      "cell_type": "markdown",
      "source": [
        "# Erstellung einer Analysetabelle\n",
        "\n",
        "---\n",
        "\n"
      ],
      "metadata": {
        "id": "eOHabB28k3r7"
      }
    },
    {
      "cell_type": "markdown",
      "source": [
        "## Explorative Datenanalyse der aus der DWH-Datenbank erstellten Tabellen"
      ],
      "metadata": {
        "id": "yZVBCX5SHSMi"
      }
    },
    {
      "cell_type": "code",
      "source": [
        "# Überblick über Tabelle data_costs\n",
        "data_costs.info()"
      ],
      "metadata": {
        "id": "Vi5KzqcHmSPR",
        "colab": {
          "base_uri": "https://localhost:8080/"
        },
        "outputId": "7f30623b-82ae-4f4f-989c-fbedd64ddda3"
      },
      "execution_count": 9,
      "outputs": [
        {
          "output_type": "stream",
          "name": "stdout",
          "text": [
            "<class 'pandas.core.frame.DataFrame'>\n",
            "RangeIndex: 9329 entries, 0 to 9328\n",
            "Data columns (total 19 columns):\n",
            " #   Column                Non-Null Count  Dtype  \n",
            "---  ------                --------------  -----  \n",
            " 0   ENC_ID                9329 non-null   object \n",
            " 1   PATIENT               9329 non-null   object \n",
            " 2   PAT_GENDER            9329 non-null   object \n",
            " 3   PAT_RACE              9329 non-null   object \n",
            " 4   ENC_PAYER             9329 non-null   object \n",
            " 5   ENC_PAYER_NAME        9329 non-null   object \n",
            " 6   ENC_BASE_COST         9329 non-null   float64\n",
            " 7   ENC_TOTAL_CLAIM_COST  9329 non-null   float64\n",
            " 8   ENC_PAYER_COVERAGE    9329 non-null   float64\n",
            " 9   PRO_CODE              1144 non-null   float64\n",
            " 10  PRO_BASE_COST         1144 non-null   float64\n",
            " 11  MED_CODE              813 non-null    float64\n",
            " 12  MED_BASE_COST         813 non-null    float64\n",
            " 13  MED_DISPENSES         813 non-null    float64\n",
            " 14  MED_TOTAL_COST        813 non-null    float64\n",
            " 15  MED_PAYER_COVERAGE    813 non-null    float64\n",
            " 16  MED_PAYER             813 non-null    object \n",
            " 17  CON_CODE              784 non-null    float64\n",
            " 18  CON_TERM              784 non-null    object \n",
            "dtypes: float64(11), object(8)\n",
            "memory usage: 1.4+ MB\n"
          ]
        }
      ]
    },
    {
      "cell_type": "code",
      "source": [
        "# Anzahl einmaliger Werte pro Spalte in Tabelle data_costs\n",
        "data_costs.nunique(axis=0)"
      ],
      "metadata": {
        "id": "Adp1FYlAvzP6",
        "colab": {
          "base_uri": "https://localhost:8080/"
        },
        "outputId": "1f4efc2b-1fa9-4646-ae3d-d2b341d35c98"
      },
      "execution_count": 10,
      "outputs": [
        {
          "output_type": "execute_result",
          "data": {
            "text/plain": [
              "ENC_ID                  8603\n",
              "PATIENT                 1019\n",
              "PAT_GENDER                 2\n",
              "PAT_RACE                   5\n",
              "ENC_PAYER                 10\n",
              "ENC_PAYER_NAME            10\n",
              "ENC_BASE_COST              2\n",
              "ENC_TOTAL_CLAIM_COST       2\n",
              "ENC_PAYER_COVERAGE        12\n",
              "PRO_CODE                  26\n",
              "PRO_BASE_COST            662\n",
              "MED_CODE                  21\n",
              "MED_BASE_COST            414\n",
              "MED_DISPENSES             94\n",
              "MED_TOTAL_COST           418\n",
              "MED_PAYER_COVERAGE        37\n",
              "MED_PAYER                 10\n",
              "CON_CODE                   8\n",
              "CON_TERM                   8\n",
              "dtype: int64"
            ]
          },
          "metadata": {},
          "execution_count": 10
        }
      ]
    },
    {
      "cell_type": "code",
      "source": [
        "# Analyse Duplikate in Tabelle data_costs (je nach Kostentyp)\n",
        "print(\"Anzahl doppelte Aufenthalte:\", data_costs.duplicated(subset=[\"PATIENT\", \"ENC_ID\", \"ENC_BASE_COST\", \"ENC_PAYER_COVERAGE\"]).sum())\n",
        "print(\"Anzahl doppelte Prozeduren:\", data_costs.duplicated(subset=[\"PATIENT\", \"ENC_ID\", \"PRO_CODE\", \"PRO_BASE_COST\"]).sum())\n",
        "print(\"Anzahl doppelte Medikationen:\", data_costs.duplicated(subset=[\"PATIENT\", \"ENC_ID\", \"MED_CODE\", \"MED_BASE_COST\", \"MED_DISPENSES\", \"MED_TOTAL_COST\", \"MED_PAYER_COVERAGE\"]).sum())"
      ],
      "metadata": {
        "id": "aoEP8lrRwFZJ",
        "colab": {
          "base_uri": "https://localhost:8080/"
        },
        "outputId": "72f39f52-55b6-4400-f1a4-d438768917aa"
      },
      "execution_count": 11,
      "outputs": [
        {
          "output_type": "stream",
          "name": "stdout",
          "text": [
            "Anzahl doppelte Aufenthalte: 726\n",
            "Anzahl doppelte Prozeduren: 554\n",
            "Anzahl doppelte Medikationen: 513\n"
          ]
        }
      ]
    },
    {
      "cell_type": "code",
      "source": [
        "# Überblick über Tabelle data_diagnoses\n",
        "data_diagnoses.info()"
      ],
      "metadata": {
        "id": "N01yU_GPoyX4",
        "colab": {
          "base_uri": "https://localhost:8080/"
        },
        "outputId": "9140de31-f293-4583-f439-271d75f50d40"
      },
      "execution_count": 12,
      "outputs": [
        {
          "output_type": "stream",
          "name": "stdout",
          "text": [
            "<class 'pandas.core.frame.DataFrame'>\n",
            "RangeIndex: 1019 entries, 0 to 1018\n",
            "Data columns (total 2 columns):\n",
            " #   Column     Non-Null Count  Dtype \n",
            "---  ------     --------------  ----- \n",
            " 0   patient    1019 non-null   object\n",
            " 1   diagnosis  1019 non-null   object\n",
            "dtypes: object(2)\n",
            "memory usage: 16.0+ KB\n"
          ]
        }
      ]
    },
    {
      "cell_type": "code",
      "source": [
        "# Anzahl einmaliger Werte pro Spalte in Tabelle data_diagnoses\n",
        "data_diagnoses.nunique(axis=0)"
      ],
      "metadata": {
        "id": "iYye7ONH6B0N",
        "colab": {
          "base_uri": "https://localhost:8080/"
        },
        "outputId": "fc882486-8011-4984-8452-94c1ee475375"
      },
      "execution_count": 13,
      "outputs": [
        {
          "output_type": "execute_result",
          "data": {
            "text/plain": [
              "patient      1019\n",
              "diagnosis       3\n",
              "dtype: int64"
            ]
          },
          "metadata": {},
          "execution_count": 13
        }
      ]
    },
    {
      "cell_type": "code",
      "source": [
        "# Analyse Duplikate in Tabelle data_diagnoses\n",
        "print(\"Anzahl doppelte Patienten:\", data_costs.duplicated().sum())"
      ],
      "metadata": {
        "id": "bDTroK3C6FXO",
        "colab": {
          "base_uri": "https://localhost:8080/"
        },
        "outputId": "88ed40c7-5aa4-4fbd-fe77-b3c8b5a938af"
      },
      "execution_count": 14,
      "outputs": [
        {
          "output_type": "stream",
          "name": "stdout",
          "text": [
            "Anzahl doppelte Patienten: 0\n"
          ]
        }
      ]
    },
    {
      "cell_type": "markdown",
      "source": [
        "## Erstellung Tabelle mit Gesamtkosten für Aufenthalte pro Patient"
      ],
      "metadata": {
        "id": "H7wF9qd6o_OI"
      }
    },
    {
      "cell_type": "code",
      "source": [
        "# Erstellung Subset mit Kostendaten zu Aufenthalten\n",
        "data_encounters = data_costs[[\"PATIENT\", \"ENC_ID\", \"ENC_BASE_COST\", \"ENC_PAYER_COVERAGE\"]]\n",
        "data_encounters.shape"
      ],
      "metadata": {
        "id": "zp3WV0MEpDID",
        "colab": {
          "base_uri": "https://localhost:8080/"
        },
        "outputId": "a61839da-ac2e-48ea-b14a-7e58dbdfe723"
      },
      "execution_count": 15,
      "outputs": [
        {
          "output_type": "execute_result",
          "data": {
            "text/plain": [
              "(9329, 4)"
            ]
          },
          "metadata": {},
          "execution_count": 15
        }
      ]
    },
    {
      "cell_type": "code",
      "source": [
        "# Entfernen von Duplikaten (gleicher Patient, gleicher Aufenthalt, gleiche Kosten)\n",
        "data_encounters_nodups = data_encounters.drop_duplicates()\n",
        "data_encounters_nodups.shape\n",
        "print(len(data_encounters) - len(data_encounters_nodups), \"Duplikate entfernt.\")"
      ],
      "metadata": {
        "id": "0EFhu6ATqShQ",
        "colab": {
          "base_uri": "https://localhost:8080/"
        },
        "outputId": "fe929d62-6f0e-48e2-89c1-cbfc00841d4f"
      },
      "execution_count": 16,
      "outputs": [
        {
          "output_type": "stream",
          "name": "stdout",
          "text": [
            "726 Duplikate entfernt.\n"
          ]
        }
      ]
    },
    {
      "cell_type": "code",
      "source": [
        "# Gruppierung nach Patienten, Aufsummierung der Kosten\n",
        "data_encounters_grouped = data_encounters_nodups.groupby(by=\"PATIENT\")\n",
        "data_encounters_final = data_encounters_grouped[[\"ENC_BASE_COST\", \"ENC_PAYER_COVERAGE\"]].sum()\n",
        "data_encounters_final.rename(columns={\"ENC_BASE_COST\": \"OVERALL_ENC_BASE_COST\", \n",
        "                                        \"ENC_PAYER_COVERAGE\": \"OVERALL_ENC_PAYER_COVERAGE\"}, inplace=True)\n",
        "data_encounters_final[\"NUMBER_ENCOUNTERS\"] = data_encounters_grouped.size()\n",
        "data_encounters_final.shape"
      ],
      "metadata": {
        "id": "b5s60Ff1rStw",
        "colab": {
          "base_uri": "https://localhost:8080/"
        },
        "outputId": "dec61508-2df2-49e6-bab2-c0f5973f3814"
      },
      "execution_count": 17,
      "outputs": [
        {
          "output_type": "execute_result",
          "data": {
            "text/plain": [
              "(1019, 3)"
            ]
          },
          "metadata": {},
          "execution_count": 17
        }
      ]
    },
    {
      "cell_type": "code",
      "source": [
        "data_encounters_final"
      ],
      "metadata": {
        "id": "A7OYJ1FvslBZ",
        "colab": {
          "base_uri": "https://localhost:8080/",
          "height": 455
        },
        "outputId": "4fe7ecc2-047a-4359-f9bb-e0eafcb219f1"
      },
      "execution_count": 18,
      "outputs": [
        {
          "output_type": "execute_result",
          "data": {
            "text/plain": [
              "                                                    OVERALL_ENC_BASE_COST  \\\n",
              "PATIENT                                                                     \n",
              "0018ce49a6843a6e3330cbbbb8eadd8ccdcdf0b94932d74...                1162.44   \n",
              "00397419b24deefc22d3aa48f4411fe021652c5b9768b8b...                1291.60   \n",
              "006f1c1edfb28afb66d49adca0252e5b4c4573743822323...                 774.96   \n",
              "00828a545bd5103410c608ef66616c95b6df39b7f8ec2ae...                1420.76   \n",
              "00be4c5c175cc3ec49e5e943d2f854eb55f60e1ef5ed3fa...                 904.12   \n",
              "...                                                                   ...   \n",
              "fe87159e95d586e0955c40590c496cff32d679f31a246fe...                 387.48   \n",
              "fe8c0f0418b506099231d53089cfb005b19942dc40d5d2e...                 387.48   \n",
              "feeb1abbb6f6e093a3bcbd5309ff1df95379dac47e25743...                 516.64   \n",
              "ffabcc2d5b6ecbde7e39b73669026fdcdd8dec9c47f8091...                 516.64   \n",
              "fff9ad6b5fa22d2bd998e62015213784402492b4beb3f27...                 387.48   \n",
              "\n",
              "                                                    OVERALL_ENC_PAYER_COVERAGE  \\\n",
              "PATIENT                                                                          \n",
              "0018ce49a6843a6e3330cbbbb8eadd8ccdcdf0b94932d74...                     1162.44   \n",
              "00397419b24deefc22d3aa48f4411fe021652c5b9768b8b...                     1291.60   \n",
              "006f1c1edfb28afb66d49adca0252e5b4c4573743822323...                      774.96   \n",
              "00828a545bd5103410c608ef66616c95b6df39b7f8ec2ae...                     1320.76   \n",
              "00be4c5c175cc3ec49e5e943d2f854eb55f60e1ef5ed3fa...                      904.12   \n",
              "...                                                                        ...   \n",
              "fe87159e95d586e0955c40590c496cff32d679f31a246fe...                      387.48   \n",
              "fe8c0f0418b506099231d53089cfb005b19942dc40d5d2e...                      387.48   \n",
              "feeb1abbb6f6e093a3bcbd5309ff1df95379dac47e25743...                      516.64   \n",
              "ffabcc2d5b6ecbde7e39b73669026fdcdd8dec9c47f8091...                      516.64   \n",
              "fff9ad6b5fa22d2bd998e62015213784402492b4beb3f27...                      387.48   \n",
              "\n",
              "                                                    NUMBER_ENCOUNTERS  \n",
              "PATIENT                                                                \n",
              "0018ce49a6843a6e3330cbbbb8eadd8ccdcdf0b94932d74...                  9  \n",
              "00397419b24deefc22d3aa48f4411fe021652c5b9768b8b...                 10  \n",
              "006f1c1edfb28afb66d49adca0252e5b4c4573743822323...                  6  \n",
              "00828a545bd5103410c608ef66616c95b6df39b7f8ec2ae...                 11  \n",
              "00be4c5c175cc3ec49e5e943d2f854eb55f60e1ef5ed3fa...                  7  \n",
              "...                                                               ...  \n",
              "fe87159e95d586e0955c40590c496cff32d679f31a246fe...                  3  \n",
              "fe8c0f0418b506099231d53089cfb005b19942dc40d5d2e...                  3  \n",
              "feeb1abbb6f6e093a3bcbd5309ff1df95379dac47e25743...                  4  \n",
              "ffabcc2d5b6ecbde7e39b73669026fdcdd8dec9c47f8091...                  4  \n",
              "fff9ad6b5fa22d2bd998e62015213784402492b4beb3f27...                  3  \n",
              "\n",
              "[1019 rows x 3 columns]"
            ],
            "text/html": [
              "\n",
              "  <div id=\"df-43b5e1b9-e340-48b9-9aee-a75496c70b5b\">\n",
              "    <div class=\"colab-df-container\">\n",
              "      <div>\n",
              "<style scoped>\n",
              "    .dataframe tbody tr th:only-of-type {\n",
              "        vertical-align: middle;\n",
              "    }\n",
              "\n",
              "    .dataframe tbody tr th {\n",
              "        vertical-align: top;\n",
              "    }\n",
              "\n",
              "    .dataframe thead th {\n",
              "        text-align: right;\n",
              "    }\n",
              "</style>\n",
              "<table border=\"1\" class=\"dataframe\">\n",
              "  <thead>\n",
              "    <tr style=\"text-align: right;\">\n",
              "      <th></th>\n",
              "      <th>OVERALL_ENC_BASE_COST</th>\n",
              "      <th>OVERALL_ENC_PAYER_COVERAGE</th>\n",
              "      <th>NUMBER_ENCOUNTERS</th>\n",
              "    </tr>\n",
              "    <tr>\n",
              "      <th>PATIENT</th>\n",
              "      <th></th>\n",
              "      <th></th>\n",
              "      <th></th>\n",
              "    </tr>\n",
              "  </thead>\n",
              "  <tbody>\n",
              "    <tr>\n",
              "      <th>0018ce49a6843a6e3330cbbbb8eadd8ccdcdf0b94932d74002b41a7fdae2cb72</th>\n",
              "      <td>1162.44</td>\n",
              "      <td>1162.44</td>\n",
              "      <td>9</td>\n",
              "    </tr>\n",
              "    <tr>\n",
              "      <th>00397419b24deefc22d3aa48f4411fe021652c5b9768b8ba5901634c2cb59f0e</th>\n",
              "      <td>1291.60</td>\n",
              "      <td>1291.60</td>\n",
              "      <td>10</td>\n",
              "    </tr>\n",
              "    <tr>\n",
              "      <th>006f1c1edfb28afb66d49adca0252e5b4c4573743822323511ef2561cf65a569</th>\n",
              "      <td>774.96</td>\n",
              "      <td>774.96</td>\n",
              "      <td>6</td>\n",
              "    </tr>\n",
              "    <tr>\n",
              "      <th>00828a545bd5103410c608ef66616c95b6df39b7f8ec2ae41147b110faaace9f</th>\n",
              "      <td>1420.76</td>\n",
              "      <td>1320.76</td>\n",
              "      <td>11</td>\n",
              "    </tr>\n",
              "    <tr>\n",
              "      <th>00be4c5c175cc3ec49e5e943d2f854eb55f60e1ef5ed3fab11d78c83ffea6e22</th>\n",
              "      <td>904.12</td>\n",
              "      <td>904.12</td>\n",
              "      <td>7</td>\n",
              "    </tr>\n",
              "    <tr>\n",
              "      <th>...</th>\n",
              "      <td>...</td>\n",
              "      <td>...</td>\n",
              "      <td>...</td>\n",
              "    </tr>\n",
              "    <tr>\n",
              "      <th>fe87159e95d586e0955c40590c496cff32d679f31a246fe9ac877de2ba1dff33</th>\n",
              "      <td>387.48</td>\n",
              "      <td>387.48</td>\n",
              "      <td>3</td>\n",
              "    </tr>\n",
              "    <tr>\n",
              "      <th>fe8c0f0418b506099231d53089cfb005b19942dc40d5d2edc8030d6e7388224d</th>\n",
              "      <td>387.48</td>\n",
              "      <td>387.48</td>\n",
              "      <td>3</td>\n",
              "    </tr>\n",
              "    <tr>\n",
              "      <th>feeb1abbb6f6e093a3bcbd5309ff1df95379dac47e25743dce40fe6419ba05b4</th>\n",
              "      <td>516.64</td>\n",
              "      <td>516.64</td>\n",
              "      <td>4</td>\n",
              "    </tr>\n",
              "    <tr>\n",
              "      <th>ffabcc2d5b6ecbde7e39b73669026fdcdd8dec9c47f80918a6439aa9987e78c0</th>\n",
              "      <td>516.64</td>\n",
              "      <td>516.64</td>\n",
              "      <td>4</td>\n",
              "    </tr>\n",
              "    <tr>\n",
              "      <th>fff9ad6b5fa22d2bd998e62015213784402492b4beb3f270137211c020395052</th>\n",
              "      <td>387.48</td>\n",
              "      <td>387.48</td>\n",
              "      <td>3</td>\n",
              "    </tr>\n",
              "  </tbody>\n",
              "</table>\n",
              "<p>1019 rows × 3 columns</p>\n",
              "</div>\n",
              "      <button class=\"colab-df-convert\" onclick=\"convertToInteractive('df-43b5e1b9-e340-48b9-9aee-a75496c70b5b')\"\n",
              "              title=\"Convert this dataframe to an interactive table.\"\n",
              "              style=\"display:none;\">\n",
              "        \n",
              "  <svg xmlns=\"http://www.w3.org/2000/svg\" height=\"24px\"viewBox=\"0 0 24 24\"\n",
              "       width=\"24px\">\n",
              "    <path d=\"M0 0h24v24H0V0z\" fill=\"none\"/>\n",
              "    <path d=\"M18.56 5.44l.94 2.06.94-2.06 2.06-.94-2.06-.94-.94-2.06-.94 2.06-2.06.94zm-11 1L8.5 8.5l.94-2.06 2.06-.94-2.06-.94L8.5 2.5l-.94 2.06-2.06.94zm10 10l.94 2.06.94-2.06 2.06-.94-2.06-.94-.94-2.06-.94 2.06-2.06.94z\"/><path d=\"M17.41 7.96l-1.37-1.37c-.4-.4-.92-.59-1.43-.59-.52 0-1.04.2-1.43.59L10.3 9.45l-7.72 7.72c-.78.78-.78 2.05 0 2.83L4 21.41c.39.39.9.59 1.41.59.51 0 1.02-.2 1.41-.59l7.78-7.78 2.81-2.81c.8-.78.8-2.07 0-2.86zM5.41 20L4 18.59l7.72-7.72 1.47 1.35L5.41 20z\"/>\n",
              "  </svg>\n",
              "      </button>\n",
              "      \n",
              "  <style>\n",
              "    .colab-df-container {\n",
              "      display:flex;\n",
              "      flex-wrap:wrap;\n",
              "      gap: 12px;\n",
              "    }\n",
              "\n",
              "    .colab-df-convert {\n",
              "      background-color: #E8F0FE;\n",
              "      border: none;\n",
              "      border-radius: 50%;\n",
              "      cursor: pointer;\n",
              "      display: none;\n",
              "      fill: #1967D2;\n",
              "      height: 32px;\n",
              "      padding: 0 0 0 0;\n",
              "      width: 32px;\n",
              "    }\n",
              "\n",
              "    .colab-df-convert:hover {\n",
              "      background-color: #E2EBFA;\n",
              "      box-shadow: 0px 1px 2px rgba(60, 64, 67, 0.3), 0px 1px 3px 1px rgba(60, 64, 67, 0.15);\n",
              "      fill: #174EA6;\n",
              "    }\n",
              "\n",
              "    [theme=dark] .colab-df-convert {\n",
              "      background-color: #3B4455;\n",
              "      fill: #D2E3FC;\n",
              "    }\n",
              "\n",
              "    [theme=dark] .colab-df-convert:hover {\n",
              "      background-color: #434B5C;\n",
              "      box-shadow: 0px 1px 3px 1px rgba(0, 0, 0, 0.15);\n",
              "      filter: drop-shadow(0px 1px 2px rgba(0, 0, 0, 0.3));\n",
              "      fill: #FFFFFF;\n",
              "    }\n",
              "  </style>\n",
              "\n",
              "      <script>\n",
              "        const buttonEl =\n",
              "          document.querySelector('#df-43b5e1b9-e340-48b9-9aee-a75496c70b5b button.colab-df-convert');\n",
              "        buttonEl.style.display =\n",
              "          google.colab.kernel.accessAllowed ? 'block' : 'none';\n",
              "\n",
              "        async function convertToInteractive(key) {\n",
              "          const element = document.querySelector('#df-43b5e1b9-e340-48b9-9aee-a75496c70b5b');\n",
              "          const dataTable =\n",
              "            await google.colab.kernel.invokeFunction('convertToInteractive',\n",
              "                                                     [key], {});\n",
              "          if (!dataTable) return;\n",
              "\n",
              "          const docLinkHtml = 'Like what you see? Visit the ' +\n",
              "            '<a target=\"_blank\" href=https://colab.research.google.com/notebooks/data_table.ipynb>data table notebook</a>'\n",
              "            + ' to learn more about interactive tables.';\n",
              "          element.innerHTML = '';\n",
              "          dataTable['output_type'] = 'display_data';\n",
              "          await google.colab.output.renderOutput(dataTable, element);\n",
              "          const docLink = document.createElement('div');\n",
              "          docLink.innerHTML = docLinkHtml;\n",
              "          element.appendChild(docLink);\n",
              "        }\n",
              "      </script>\n",
              "    </div>\n",
              "  </div>\n",
              "  "
            ]
          },
          "metadata": {},
          "execution_count": 18
        }
      ]
    },
    {
      "cell_type": "markdown",
      "source": [
        "## Erstellung Tabelle mit Gesamtkosten für Prozeduren pro Patient"
      ],
      "metadata": {
        "id": "ualvm323tTVp"
      }
    },
    {
      "cell_type": "code",
      "source": [
        "# Erstellung Subset mit Kostendaten zu Prozeduren\n",
        "data_procedures = data_costs[[\"PATIENT\", \"ENC_ID\", \"PRO_CODE\", \"PRO_BASE_COST\"]]\n",
        "data_procedures.shape"
      ],
      "metadata": {
        "id": "-NWQUBeWtls-",
        "colab": {
          "base_uri": "https://localhost:8080/"
        },
        "outputId": "f1ee9ec0-b221-4b7d-b992-e46b39540dde"
      },
      "execution_count": 19,
      "outputs": [
        {
          "output_type": "execute_result",
          "data": {
            "text/plain": [
              "(9329, 4)"
            ]
          },
          "metadata": {},
          "execution_count": 19
        }
      ]
    },
    {
      "cell_type": "code",
      "source": [
        "# Entfernen von Duplikaten (gleicher Patient, gleicher Aufenthalt, gleiche Prozedur, gleiche Kosten)\n",
        "data_procedures_nodups = data_procedures.drop_duplicates()\n",
        "data_procedures_nodups.shape\n",
        "print(len(data_procedures) - len(data_procedures_nodups), \"Duplikate entfernt.\")"
      ],
      "metadata": {
        "id": "oYQv3K2ltlzJ",
        "colab": {
          "base_uri": "https://localhost:8080/"
        },
        "outputId": "671ca424-cb30-4a0a-8a19-ffbc0f98aaaa"
      },
      "execution_count": 20,
      "outputs": [
        {
          "output_type": "stream",
          "name": "stdout",
          "text": [
            "554 Duplikate entfernt.\n"
          ]
        }
      ]
    },
    {
      "cell_type": "code",
      "source": [
        "# Gruppierung nach Patienten, Aufsummierung der Kosten\n",
        "data_procedures_grouped = data_procedures_nodups.groupby(by=\"PATIENT\")\n",
        "data_procedures_final = data_procedures_grouped[[\"PRO_BASE_COST\"]].sum(min_count=1)\n",
        "data_procedures_final.rename(columns={\"PRO_BASE_COST\": \"OVERALL_PRO_BASE_COST\"}, inplace=True)\n",
        "data_procedures_final[\"NUMBER_PROCEDURES\"] = data_procedures_grouped[[\"PRO_BASE_COST\"]].count()\n",
        "data_procedures_final.shape"
      ],
      "metadata": {
        "id": "OqnSYGuttl7f",
        "colab": {
          "base_uri": "https://localhost:8080/"
        },
        "outputId": "a58b784b-454b-4f8d-85b6-49ea3248c071"
      },
      "execution_count": 21,
      "outputs": [
        {
          "output_type": "execute_result",
          "data": {
            "text/plain": [
              "(1019, 2)"
            ]
          },
          "metadata": {},
          "execution_count": 21
        }
      ]
    },
    {
      "cell_type": "code",
      "source": [
        "data_procedures_final"
      ],
      "metadata": {
        "id": "LwOyvHsRtl_X",
        "colab": {
          "base_uri": "https://localhost:8080/",
          "height": 455
        },
        "outputId": "04518375-db07-4f29-9eac-c2ca87c028a3"
      },
      "execution_count": 22,
      "outputs": [
        {
          "output_type": "execute_result",
          "data": {
            "text/plain": [
              "                                                    OVERALL_PRO_BASE_COST  \\\n",
              "PATIENT                                                                     \n",
              "0018ce49a6843a6e3330cbbbb8eadd8ccdcdf0b94932d74...                    NaN   \n",
              "00397419b24deefc22d3aa48f4411fe021652c5b9768b8b...                    NaN   \n",
              "006f1c1edfb28afb66d49adca0252e5b4c4573743822323...                    NaN   \n",
              "00828a545bd5103410c608ef66616c95b6df39b7f8ec2ae...               54956.61   \n",
              "00be4c5c175cc3ec49e5e943d2f854eb55f60e1ef5ed3fa...                    NaN   \n",
              "...                                                                   ...   \n",
              "fe87159e95d586e0955c40590c496cff32d679f31a246fe...                    NaN   \n",
              "fe8c0f0418b506099231d53089cfb005b19942dc40d5d2e...                    NaN   \n",
              "feeb1abbb6f6e093a3bcbd5309ff1df95379dac47e25743...                    NaN   \n",
              "ffabcc2d5b6ecbde7e39b73669026fdcdd8dec9c47f8091...                    NaN   \n",
              "fff9ad6b5fa22d2bd998e62015213784402492b4beb3f27...                    NaN   \n",
              "\n",
              "                                                    NUMBER_PROCEDURES  \n",
              "PATIENT                                                                \n",
              "0018ce49a6843a6e3330cbbbb8eadd8ccdcdf0b94932d74...                  0  \n",
              "00397419b24deefc22d3aa48f4411fe021652c5b9768b8b...                  0  \n",
              "006f1c1edfb28afb66d49adca0252e5b4c4573743822323...                  0  \n",
              "00828a545bd5103410c608ef66616c95b6df39b7f8ec2ae...                  3  \n",
              "00be4c5c175cc3ec49e5e943d2f854eb55f60e1ef5ed3fa...                  0  \n",
              "...                                                               ...  \n",
              "fe87159e95d586e0955c40590c496cff32d679f31a246fe...                  0  \n",
              "fe8c0f0418b506099231d53089cfb005b19942dc40d5d2e...                  0  \n",
              "feeb1abbb6f6e093a3bcbd5309ff1df95379dac47e25743...                  0  \n",
              "ffabcc2d5b6ecbde7e39b73669026fdcdd8dec9c47f8091...                  0  \n",
              "fff9ad6b5fa22d2bd998e62015213784402492b4beb3f27...                  0  \n",
              "\n",
              "[1019 rows x 2 columns]"
            ],
            "text/html": [
              "\n",
              "  <div id=\"df-3bfab46a-5e61-4777-92c5-e20c8428cd60\">\n",
              "    <div class=\"colab-df-container\">\n",
              "      <div>\n",
              "<style scoped>\n",
              "    .dataframe tbody tr th:only-of-type {\n",
              "        vertical-align: middle;\n",
              "    }\n",
              "\n",
              "    .dataframe tbody tr th {\n",
              "        vertical-align: top;\n",
              "    }\n",
              "\n",
              "    .dataframe thead th {\n",
              "        text-align: right;\n",
              "    }\n",
              "</style>\n",
              "<table border=\"1\" class=\"dataframe\">\n",
              "  <thead>\n",
              "    <tr style=\"text-align: right;\">\n",
              "      <th></th>\n",
              "      <th>OVERALL_PRO_BASE_COST</th>\n",
              "      <th>NUMBER_PROCEDURES</th>\n",
              "    </tr>\n",
              "    <tr>\n",
              "      <th>PATIENT</th>\n",
              "      <th></th>\n",
              "      <th></th>\n",
              "    </tr>\n",
              "  </thead>\n",
              "  <tbody>\n",
              "    <tr>\n",
              "      <th>0018ce49a6843a6e3330cbbbb8eadd8ccdcdf0b94932d74002b41a7fdae2cb72</th>\n",
              "      <td>NaN</td>\n",
              "      <td>0</td>\n",
              "    </tr>\n",
              "    <tr>\n",
              "      <th>00397419b24deefc22d3aa48f4411fe021652c5b9768b8ba5901634c2cb59f0e</th>\n",
              "      <td>NaN</td>\n",
              "      <td>0</td>\n",
              "    </tr>\n",
              "    <tr>\n",
              "      <th>006f1c1edfb28afb66d49adca0252e5b4c4573743822323511ef2561cf65a569</th>\n",
              "      <td>NaN</td>\n",
              "      <td>0</td>\n",
              "    </tr>\n",
              "    <tr>\n",
              "      <th>00828a545bd5103410c608ef66616c95b6df39b7f8ec2ae41147b110faaace9f</th>\n",
              "      <td>54956.61</td>\n",
              "      <td>3</td>\n",
              "    </tr>\n",
              "    <tr>\n",
              "      <th>00be4c5c175cc3ec49e5e943d2f854eb55f60e1ef5ed3fab11d78c83ffea6e22</th>\n",
              "      <td>NaN</td>\n",
              "      <td>0</td>\n",
              "    </tr>\n",
              "    <tr>\n",
              "      <th>...</th>\n",
              "      <td>...</td>\n",
              "      <td>...</td>\n",
              "    </tr>\n",
              "    <tr>\n",
              "      <th>fe87159e95d586e0955c40590c496cff32d679f31a246fe9ac877de2ba1dff33</th>\n",
              "      <td>NaN</td>\n",
              "      <td>0</td>\n",
              "    </tr>\n",
              "    <tr>\n",
              "      <th>fe8c0f0418b506099231d53089cfb005b19942dc40d5d2edc8030d6e7388224d</th>\n",
              "      <td>NaN</td>\n",
              "      <td>0</td>\n",
              "    </tr>\n",
              "    <tr>\n",
              "      <th>feeb1abbb6f6e093a3bcbd5309ff1df95379dac47e25743dce40fe6419ba05b4</th>\n",
              "      <td>NaN</td>\n",
              "      <td>0</td>\n",
              "    </tr>\n",
              "    <tr>\n",
              "      <th>ffabcc2d5b6ecbde7e39b73669026fdcdd8dec9c47f80918a6439aa9987e78c0</th>\n",
              "      <td>NaN</td>\n",
              "      <td>0</td>\n",
              "    </tr>\n",
              "    <tr>\n",
              "      <th>fff9ad6b5fa22d2bd998e62015213784402492b4beb3f270137211c020395052</th>\n",
              "      <td>NaN</td>\n",
              "      <td>0</td>\n",
              "    </tr>\n",
              "  </tbody>\n",
              "</table>\n",
              "<p>1019 rows × 2 columns</p>\n",
              "</div>\n",
              "      <button class=\"colab-df-convert\" onclick=\"convertToInteractive('df-3bfab46a-5e61-4777-92c5-e20c8428cd60')\"\n",
              "              title=\"Convert this dataframe to an interactive table.\"\n",
              "              style=\"display:none;\">\n",
              "        \n",
              "  <svg xmlns=\"http://www.w3.org/2000/svg\" height=\"24px\"viewBox=\"0 0 24 24\"\n",
              "       width=\"24px\">\n",
              "    <path d=\"M0 0h24v24H0V0z\" fill=\"none\"/>\n",
              "    <path d=\"M18.56 5.44l.94 2.06.94-2.06 2.06-.94-2.06-.94-.94-2.06-.94 2.06-2.06.94zm-11 1L8.5 8.5l.94-2.06 2.06-.94-2.06-.94L8.5 2.5l-.94 2.06-2.06.94zm10 10l.94 2.06.94-2.06 2.06-.94-2.06-.94-.94-2.06-.94 2.06-2.06.94z\"/><path d=\"M17.41 7.96l-1.37-1.37c-.4-.4-.92-.59-1.43-.59-.52 0-1.04.2-1.43.59L10.3 9.45l-7.72 7.72c-.78.78-.78 2.05 0 2.83L4 21.41c.39.39.9.59 1.41.59.51 0 1.02-.2 1.41-.59l7.78-7.78 2.81-2.81c.8-.78.8-2.07 0-2.86zM5.41 20L4 18.59l7.72-7.72 1.47 1.35L5.41 20z\"/>\n",
              "  </svg>\n",
              "      </button>\n",
              "      \n",
              "  <style>\n",
              "    .colab-df-container {\n",
              "      display:flex;\n",
              "      flex-wrap:wrap;\n",
              "      gap: 12px;\n",
              "    }\n",
              "\n",
              "    .colab-df-convert {\n",
              "      background-color: #E8F0FE;\n",
              "      border: none;\n",
              "      border-radius: 50%;\n",
              "      cursor: pointer;\n",
              "      display: none;\n",
              "      fill: #1967D2;\n",
              "      height: 32px;\n",
              "      padding: 0 0 0 0;\n",
              "      width: 32px;\n",
              "    }\n",
              "\n",
              "    .colab-df-convert:hover {\n",
              "      background-color: #E2EBFA;\n",
              "      box-shadow: 0px 1px 2px rgba(60, 64, 67, 0.3), 0px 1px 3px 1px rgba(60, 64, 67, 0.15);\n",
              "      fill: #174EA6;\n",
              "    }\n",
              "\n",
              "    [theme=dark] .colab-df-convert {\n",
              "      background-color: #3B4455;\n",
              "      fill: #D2E3FC;\n",
              "    }\n",
              "\n",
              "    [theme=dark] .colab-df-convert:hover {\n",
              "      background-color: #434B5C;\n",
              "      box-shadow: 0px 1px 3px 1px rgba(0, 0, 0, 0.15);\n",
              "      filter: drop-shadow(0px 1px 2px rgba(0, 0, 0, 0.3));\n",
              "      fill: #FFFFFF;\n",
              "    }\n",
              "  </style>\n",
              "\n",
              "      <script>\n",
              "        const buttonEl =\n",
              "          document.querySelector('#df-3bfab46a-5e61-4777-92c5-e20c8428cd60 button.colab-df-convert');\n",
              "        buttonEl.style.display =\n",
              "          google.colab.kernel.accessAllowed ? 'block' : 'none';\n",
              "\n",
              "        async function convertToInteractive(key) {\n",
              "          const element = document.querySelector('#df-3bfab46a-5e61-4777-92c5-e20c8428cd60');\n",
              "          const dataTable =\n",
              "            await google.colab.kernel.invokeFunction('convertToInteractive',\n",
              "                                                     [key], {});\n",
              "          if (!dataTable) return;\n",
              "\n",
              "          const docLinkHtml = 'Like what you see? Visit the ' +\n",
              "            '<a target=\"_blank\" href=https://colab.research.google.com/notebooks/data_table.ipynb>data table notebook</a>'\n",
              "            + ' to learn more about interactive tables.';\n",
              "          element.innerHTML = '';\n",
              "          dataTable['output_type'] = 'display_data';\n",
              "          await google.colab.output.renderOutput(dataTable, element);\n",
              "          const docLink = document.createElement('div');\n",
              "          docLink.innerHTML = docLinkHtml;\n",
              "          element.appendChild(docLink);\n",
              "        }\n",
              "      </script>\n",
              "    </div>\n",
              "  </div>\n",
              "  "
            ]
          },
          "metadata": {},
          "execution_count": 22
        }
      ]
    },
    {
      "cell_type": "markdown",
      "source": [
        "## Erstellung Tabelle mit Gesamtkosten für Medikation pro Patient"
      ],
      "metadata": {
        "id": "9Q74xfbStXSR"
      }
    },
    {
      "cell_type": "code",
      "source": [
        "# Erstellung Subset mit Kostendaten zu Medikationen\n",
        "data_medications = data_costs[[\"PATIENT\", \"ENC_ID\", \"MED_CODE\", \"MED_BASE_COST\", \"MED_DISPENSES\", \"MED_TOTAL_COST\", \"MED_PAYER_COVERAGE\"]]\n",
        "data_medications.shape"
      ],
      "metadata": {
        "id": "nHTN1gVzx042",
        "colab": {
          "base_uri": "https://localhost:8080/"
        },
        "outputId": "80582104-b9e9-4532-d016-4a62d34c49d7"
      },
      "execution_count": 23,
      "outputs": [
        {
          "output_type": "execute_result",
          "data": {
            "text/plain": [
              "(9329, 7)"
            ]
          },
          "metadata": {},
          "execution_count": 23
        }
      ]
    },
    {
      "cell_type": "code",
      "source": [
        "# Entfernen von Duplikaten (gleicher Patient, gleicher Aufenthalt, gleiche Medikation, gleiche Kosten)\n",
        "data_medications_nodups = data_medications.drop_duplicates()\n",
        "data_medications_nodups.shape\n",
        "print(len(data_medications) - len(data_medications_nodups), \"Duplikate entfernt.\")"
      ],
      "metadata": {
        "id": "xhwUqmS-zg49",
        "colab": {
          "base_uri": "https://localhost:8080/"
        },
        "outputId": "5bcbcc8f-f481-4f41-d83a-1ab6669bc318"
      },
      "execution_count": 24,
      "outputs": [
        {
          "output_type": "stream",
          "name": "stdout",
          "text": [
            "513 Duplikate entfernt.\n"
          ]
        }
      ]
    },
    {
      "cell_type": "code",
      "source": [
        "# Gruppierung nach Patienten, Aufsummierung der Kosten\n",
        "data_medications_grouped = data_medications_nodups.groupby(by=\"PATIENT\")\n",
        "data_medications_final = data_medications_grouped[[\"MED_BASE_COST\", \"MED_DISPENSES\", \"MED_TOTAL_COST\", \"MED_PAYER_COVERAGE\"]].sum(min_count=1)\n",
        "data_medications_final.rename(columns={\"MED_BASE_COST\": \"OVERALL_MED_BASE_COST\", \n",
        "                                         \"MED_DISPENSES\": \"OVERALL_MED_DISPENSES\", \n",
        "                                         \"MED_TOTAL_COST\": \"OVERALL_MED_TOTAL_COST\", \n",
        "                                         \"MED_PAYER_COVERAGE\": \"OVERALL_MED_PAYER_COVERAGE\"}, inplace=True)\n",
        "data_medications_final[\"NUMBER_MEDICATIONS\"] = data_medications_grouped[[\"MED_BASE_COST\"]].count()\n",
        "data_medications_final.shape"
      ],
      "metadata": {
        "id": "9U07Oh8ZzhBi",
        "colab": {
          "base_uri": "https://localhost:8080/"
        },
        "outputId": "ce7dc9f7-a54e-42ae-dd14-a25824ebda74"
      },
      "execution_count": 25,
      "outputs": [
        {
          "output_type": "execute_result",
          "data": {
            "text/plain": [
              "(1019, 5)"
            ]
          },
          "metadata": {},
          "execution_count": 25
        }
      ]
    },
    {
      "cell_type": "code",
      "source": [
        "data_medications_final"
      ],
      "metadata": {
        "id": "Y-UmGfTQzhN3",
        "colab": {
          "base_uri": "https://localhost:8080/",
          "height": 519
        },
        "outputId": "763a6f4b-7b01-46c7-94a1-82c947b7b112"
      },
      "execution_count": 26,
      "outputs": [
        {
          "output_type": "execute_result",
          "data": {
            "text/plain": [
              "                                                    OVERALL_MED_BASE_COST  \\\n",
              "PATIENT                                                                     \n",
              "0018ce49a6843a6e3330cbbbb8eadd8ccdcdf0b94932d74...                    NaN   \n",
              "00397419b24deefc22d3aa48f4411fe021652c5b9768b8b...                    NaN   \n",
              "006f1c1edfb28afb66d49adca0252e5b4c4573743822323...                    NaN   \n",
              "00828a545bd5103410c608ef66616c95b6df39b7f8ec2ae...                 124.02   \n",
              "00be4c5c175cc3ec49e5e943d2f854eb55f60e1ef5ed3fa...                    NaN   \n",
              "...                                                                   ...   \n",
              "fe87159e95d586e0955c40590c496cff32d679f31a246fe...                    NaN   \n",
              "fe8c0f0418b506099231d53089cfb005b19942dc40d5d2e...                    NaN   \n",
              "feeb1abbb6f6e093a3bcbd5309ff1df95379dac47e25743...                    NaN   \n",
              "ffabcc2d5b6ecbde7e39b73669026fdcdd8dec9c47f8091...                    NaN   \n",
              "fff9ad6b5fa22d2bd998e62015213784402492b4beb3f27...                    NaN   \n",
              "\n",
              "                                                    OVERALL_MED_DISPENSES  \\\n",
              "PATIENT                                                                     \n",
              "0018ce49a6843a6e3330cbbbb8eadd8ccdcdf0b94932d74...                    NaN   \n",
              "00397419b24deefc22d3aa48f4411fe021652c5b9768b8b...                    NaN   \n",
              "006f1c1edfb28afb66d49adca0252e5b4c4573743822323...                    NaN   \n",
              "00828a545bd5103410c608ef66616c95b6df39b7f8ec2ae...                    3.0   \n",
              "00be4c5c175cc3ec49e5e943d2f854eb55f60e1ef5ed3fa...                    NaN   \n",
              "...                                                                   ...   \n",
              "fe87159e95d586e0955c40590c496cff32d679f31a246fe...                    NaN   \n",
              "fe8c0f0418b506099231d53089cfb005b19942dc40d5d2e...                    NaN   \n",
              "feeb1abbb6f6e093a3bcbd5309ff1df95379dac47e25743...                    NaN   \n",
              "ffabcc2d5b6ecbde7e39b73669026fdcdd8dec9c47f8091...                    NaN   \n",
              "fff9ad6b5fa22d2bd998e62015213784402492b4beb3f27...                    NaN   \n",
              "\n",
              "                                                    OVERALL_MED_TOTAL_COST  \\\n",
              "PATIENT                                                                      \n",
              "0018ce49a6843a6e3330cbbbb8eadd8ccdcdf0b94932d74...                     NaN   \n",
              "00397419b24deefc22d3aa48f4411fe021652c5b9768b8b...                     NaN   \n",
              "006f1c1edfb28afb66d49adca0252e5b4c4573743822323...                     NaN   \n",
              "00828a545bd5103410c608ef66616c95b6df39b7f8ec2ae...                  124.02   \n",
              "00be4c5c175cc3ec49e5e943d2f854eb55f60e1ef5ed3fa...                     NaN   \n",
              "...                                                                    ...   \n",
              "fe87159e95d586e0955c40590c496cff32d679f31a246fe...                     NaN   \n",
              "fe8c0f0418b506099231d53089cfb005b19942dc40d5d2e...                     NaN   \n",
              "feeb1abbb6f6e093a3bcbd5309ff1df95379dac47e25743...                     NaN   \n",
              "ffabcc2d5b6ecbde7e39b73669026fdcdd8dec9c47f8091...                     NaN   \n",
              "fff9ad6b5fa22d2bd998e62015213784402492b4beb3f27...                     NaN   \n",
              "\n",
              "                                                    OVERALL_MED_PAYER_COVERAGE  \\\n",
              "PATIENT                                                                          \n",
              "0018ce49a6843a6e3330cbbbb8eadd8ccdcdf0b94932d74...                         NaN   \n",
              "00397419b24deefc22d3aa48f4411fe021652c5b9768b8b...                         NaN   \n",
              "006f1c1edfb28afb66d49adca0252e5b4c4573743822323...                         NaN   \n",
              "00828a545bd5103410c608ef66616c95b6df39b7f8ec2ae...                         0.0   \n",
              "00be4c5c175cc3ec49e5e943d2f854eb55f60e1ef5ed3fa...                         NaN   \n",
              "...                                                                        ...   \n",
              "fe87159e95d586e0955c40590c496cff32d679f31a246fe...                         NaN   \n",
              "fe8c0f0418b506099231d53089cfb005b19942dc40d5d2e...                         NaN   \n",
              "feeb1abbb6f6e093a3bcbd5309ff1df95379dac47e25743...                         NaN   \n",
              "ffabcc2d5b6ecbde7e39b73669026fdcdd8dec9c47f8091...                         NaN   \n",
              "fff9ad6b5fa22d2bd998e62015213784402492b4beb3f27...                         NaN   \n",
              "\n",
              "                                                    NUMBER_MEDICATIONS  \n",
              "PATIENT                                                                 \n",
              "0018ce49a6843a6e3330cbbbb8eadd8ccdcdf0b94932d74...                   0  \n",
              "00397419b24deefc22d3aa48f4411fe021652c5b9768b8b...                   0  \n",
              "006f1c1edfb28afb66d49adca0252e5b4c4573743822323...                   0  \n",
              "00828a545bd5103410c608ef66616c95b6df39b7f8ec2ae...                   3  \n",
              "00be4c5c175cc3ec49e5e943d2f854eb55f60e1ef5ed3fa...                   0  \n",
              "...                                                                ...  \n",
              "fe87159e95d586e0955c40590c496cff32d679f31a246fe...                   0  \n",
              "fe8c0f0418b506099231d53089cfb005b19942dc40d5d2e...                   0  \n",
              "feeb1abbb6f6e093a3bcbd5309ff1df95379dac47e25743...                   0  \n",
              "ffabcc2d5b6ecbde7e39b73669026fdcdd8dec9c47f8091...                   0  \n",
              "fff9ad6b5fa22d2bd998e62015213784402492b4beb3f27...                   0  \n",
              "\n",
              "[1019 rows x 5 columns]"
            ],
            "text/html": [
              "\n",
              "  <div id=\"df-c3af40ca-4412-48f9-8f77-0771d4a3d7c2\">\n",
              "    <div class=\"colab-df-container\">\n",
              "      <div>\n",
              "<style scoped>\n",
              "    .dataframe tbody tr th:only-of-type {\n",
              "        vertical-align: middle;\n",
              "    }\n",
              "\n",
              "    .dataframe tbody tr th {\n",
              "        vertical-align: top;\n",
              "    }\n",
              "\n",
              "    .dataframe thead th {\n",
              "        text-align: right;\n",
              "    }\n",
              "</style>\n",
              "<table border=\"1\" class=\"dataframe\">\n",
              "  <thead>\n",
              "    <tr style=\"text-align: right;\">\n",
              "      <th></th>\n",
              "      <th>OVERALL_MED_BASE_COST</th>\n",
              "      <th>OVERALL_MED_DISPENSES</th>\n",
              "      <th>OVERALL_MED_TOTAL_COST</th>\n",
              "      <th>OVERALL_MED_PAYER_COVERAGE</th>\n",
              "      <th>NUMBER_MEDICATIONS</th>\n",
              "    </tr>\n",
              "    <tr>\n",
              "      <th>PATIENT</th>\n",
              "      <th></th>\n",
              "      <th></th>\n",
              "      <th></th>\n",
              "      <th></th>\n",
              "      <th></th>\n",
              "    </tr>\n",
              "  </thead>\n",
              "  <tbody>\n",
              "    <tr>\n",
              "      <th>0018ce49a6843a6e3330cbbbb8eadd8ccdcdf0b94932d74002b41a7fdae2cb72</th>\n",
              "      <td>NaN</td>\n",
              "      <td>NaN</td>\n",
              "      <td>NaN</td>\n",
              "      <td>NaN</td>\n",
              "      <td>0</td>\n",
              "    </tr>\n",
              "    <tr>\n",
              "      <th>00397419b24deefc22d3aa48f4411fe021652c5b9768b8ba5901634c2cb59f0e</th>\n",
              "      <td>NaN</td>\n",
              "      <td>NaN</td>\n",
              "      <td>NaN</td>\n",
              "      <td>NaN</td>\n",
              "      <td>0</td>\n",
              "    </tr>\n",
              "    <tr>\n",
              "      <th>006f1c1edfb28afb66d49adca0252e5b4c4573743822323511ef2561cf65a569</th>\n",
              "      <td>NaN</td>\n",
              "      <td>NaN</td>\n",
              "      <td>NaN</td>\n",
              "      <td>NaN</td>\n",
              "      <td>0</td>\n",
              "    </tr>\n",
              "    <tr>\n",
              "      <th>00828a545bd5103410c608ef66616c95b6df39b7f8ec2ae41147b110faaace9f</th>\n",
              "      <td>124.02</td>\n",
              "      <td>3.0</td>\n",
              "      <td>124.02</td>\n",
              "      <td>0.0</td>\n",
              "      <td>3</td>\n",
              "    </tr>\n",
              "    <tr>\n",
              "      <th>00be4c5c175cc3ec49e5e943d2f854eb55f60e1ef5ed3fab11d78c83ffea6e22</th>\n",
              "      <td>NaN</td>\n",
              "      <td>NaN</td>\n",
              "      <td>NaN</td>\n",
              "      <td>NaN</td>\n",
              "      <td>0</td>\n",
              "    </tr>\n",
              "    <tr>\n",
              "      <th>...</th>\n",
              "      <td>...</td>\n",
              "      <td>...</td>\n",
              "      <td>...</td>\n",
              "      <td>...</td>\n",
              "      <td>...</td>\n",
              "    </tr>\n",
              "    <tr>\n",
              "      <th>fe87159e95d586e0955c40590c496cff32d679f31a246fe9ac877de2ba1dff33</th>\n",
              "      <td>NaN</td>\n",
              "      <td>NaN</td>\n",
              "      <td>NaN</td>\n",
              "      <td>NaN</td>\n",
              "      <td>0</td>\n",
              "    </tr>\n",
              "    <tr>\n",
              "      <th>fe8c0f0418b506099231d53089cfb005b19942dc40d5d2edc8030d6e7388224d</th>\n",
              "      <td>NaN</td>\n",
              "      <td>NaN</td>\n",
              "      <td>NaN</td>\n",
              "      <td>NaN</td>\n",
              "      <td>0</td>\n",
              "    </tr>\n",
              "    <tr>\n",
              "      <th>feeb1abbb6f6e093a3bcbd5309ff1df95379dac47e25743dce40fe6419ba05b4</th>\n",
              "      <td>NaN</td>\n",
              "      <td>NaN</td>\n",
              "      <td>NaN</td>\n",
              "      <td>NaN</td>\n",
              "      <td>0</td>\n",
              "    </tr>\n",
              "    <tr>\n",
              "      <th>ffabcc2d5b6ecbde7e39b73669026fdcdd8dec9c47f80918a6439aa9987e78c0</th>\n",
              "      <td>NaN</td>\n",
              "      <td>NaN</td>\n",
              "      <td>NaN</td>\n",
              "      <td>NaN</td>\n",
              "      <td>0</td>\n",
              "    </tr>\n",
              "    <tr>\n",
              "      <th>fff9ad6b5fa22d2bd998e62015213784402492b4beb3f270137211c020395052</th>\n",
              "      <td>NaN</td>\n",
              "      <td>NaN</td>\n",
              "      <td>NaN</td>\n",
              "      <td>NaN</td>\n",
              "      <td>0</td>\n",
              "    </tr>\n",
              "  </tbody>\n",
              "</table>\n",
              "<p>1019 rows × 5 columns</p>\n",
              "</div>\n",
              "      <button class=\"colab-df-convert\" onclick=\"convertToInteractive('df-c3af40ca-4412-48f9-8f77-0771d4a3d7c2')\"\n",
              "              title=\"Convert this dataframe to an interactive table.\"\n",
              "              style=\"display:none;\">\n",
              "        \n",
              "  <svg xmlns=\"http://www.w3.org/2000/svg\" height=\"24px\"viewBox=\"0 0 24 24\"\n",
              "       width=\"24px\">\n",
              "    <path d=\"M0 0h24v24H0V0z\" fill=\"none\"/>\n",
              "    <path d=\"M18.56 5.44l.94 2.06.94-2.06 2.06-.94-2.06-.94-.94-2.06-.94 2.06-2.06.94zm-11 1L8.5 8.5l.94-2.06 2.06-.94-2.06-.94L8.5 2.5l-.94 2.06-2.06.94zm10 10l.94 2.06.94-2.06 2.06-.94-2.06-.94-.94-2.06-.94 2.06-2.06.94z\"/><path d=\"M17.41 7.96l-1.37-1.37c-.4-.4-.92-.59-1.43-.59-.52 0-1.04.2-1.43.59L10.3 9.45l-7.72 7.72c-.78.78-.78 2.05 0 2.83L4 21.41c.39.39.9.59 1.41.59.51 0 1.02-.2 1.41-.59l7.78-7.78 2.81-2.81c.8-.78.8-2.07 0-2.86zM5.41 20L4 18.59l7.72-7.72 1.47 1.35L5.41 20z\"/>\n",
              "  </svg>\n",
              "      </button>\n",
              "      \n",
              "  <style>\n",
              "    .colab-df-container {\n",
              "      display:flex;\n",
              "      flex-wrap:wrap;\n",
              "      gap: 12px;\n",
              "    }\n",
              "\n",
              "    .colab-df-convert {\n",
              "      background-color: #E8F0FE;\n",
              "      border: none;\n",
              "      border-radius: 50%;\n",
              "      cursor: pointer;\n",
              "      display: none;\n",
              "      fill: #1967D2;\n",
              "      height: 32px;\n",
              "      padding: 0 0 0 0;\n",
              "      width: 32px;\n",
              "    }\n",
              "\n",
              "    .colab-df-convert:hover {\n",
              "      background-color: #E2EBFA;\n",
              "      box-shadow: 0px 1px 2px rgba(60, 64, 67, 0.3), 0px 1px 3px 1px rgba(60, 64, 67, 0.15);\n",
              "      fill: #174EA6;\n",
              "    }\n",
              "\n",
              "    [theme=dark] .colab-df-convert {\n",
              "      background-color: #3B4455;\n",
              "      fill: #D2E3FC;\n",
              "    }\n",
              "\n",
              "    [theme=dark] .colab-df-convert:hover {\n",
              "      background-color: #434B5C;\n",
              "      box-shadow: 0px 1px 3px 1px rgba(0, 0, 0, 0.15);\n",
              "      filter: drop-shadow(0px 1px 2px rgba(0, 0, 0, 0.3));\n",
              "      fill: #FFFFFF;\n",
              "    }\n",
              "  </style>\n",
              "\n",
              "      <script>\n",
              "        const buttonEl =\n",
              "          document.querySelector('#df-c3af40ca-4412-48f9-8f77-0771d4a3d7c2 button.colab-df-convert');\n",
              "        buttonEl.style.display =\n",
              "          google.colab.kernel.accessAllowed ? 'block' : 'none';\n",
              "\n",
              "        async function convertToInteractive(key) {\n",
              "          const element = document.querySelector('#df-c3af40ca-4412-48f9-8f77-0771d4a3d7c2');\n",
              "          const dataTable =\n",
              "            await google.colab.kernel.invokeFunction('convertToInteractive',\n",
              "                                                     [key], {});\n",
              "          if (!dataTable) return;\n",
              "\n",
              "          const docLinkHtml = 'Like what you see? Visit the ' +\n",
              "            '<a target=\"_blank\" href=https://colab.research.google.com/notebooks/data_table.ipynb>data table notebook</a>'\n",
              "            + ' to learn more about interactive tables.';\n",
              "          element.innerHTML = '';\n",
              "          dataTable['output_type'] = 'display_data';\n",
              "          await google.colab.output.renderOutput(dataTable, element);\n",
              "          const docLink = document.createElement('div');\n",
              "          docLink.innerHTML = docLinkHtml;\n",
              "          element.appendChild(docLink);\n",
              "        }\n",
              "      </script>\n",
              "    </div>\n",
              "  </div>\n",
              "  "
            ]
          },
          "metadata": {},
          "execution_count": 26
        }
      ]
    },
    {
      "cell_type": "markdown",
      "source": [
        "## Erstellung einer Patiententabelle (mit demografischen Daten und Diagnosedaten)"
      ],
      "metadata": {
        "id": "j8kKv1w35ynO"
      }
    },
    {
      "cell_type": "code",
      "source": [
        "# Merge Informationen zu Patienten aus data_costs und Diagnosen aus data_diagnoses über Patienten-ID\n",
        "patient_information = pd.merge(data_costs[[\"PATIENT\", \"PAT_GENDER\", \"PAT_RACE\"]], data_diagnoses, how=\"inner\", left_on=[\"PATIENT\"], right_on=[\"patient\"])\n",
        "# Doppelte Zeilen entfernen\n",
        "patient_information.drop_duplicates(inplace=True)\n",
        "# Doppelte Spalte mit Patienten-ID entfernen\n",
        "patient_information.drop(columns=[\"patient\"], inplace=True)\n",
        "# Spalte diagnosis umbenennen\n",
        "patient_information.rename(columns={\"diagnosis\": \"DIAGNOSIS\"}, inplace=True)\n",
        "# Spalte mit Patienten-ID als Index\n",
        "patient_information.set_index(\"PATIENT\", inplace=True)\n",
        "\n",
        "patient_information.shape"
      ],
      "metadata": {
        "id": "DZCGcgNz50nd",
        "colab": {
          "base_uri": "https://localhost:8080/"
        },
        "outputId": "e21a217a-f60b-4152-e454-c027e6907c13"
      },
      "execution_count": 27,
      "outputs": [
        {
          "output_type": "execute_result",
          "data": {
            "text/plain": [
              "(1019, 3)"
            ]
          },
          "metadata": {},
          "execution_count": 27
        }
      ]
    },
    {
      "cell_type": "code",
      "source": [
        "patient_information"
      ],
      "metadata": {
        "id": "8UGkszf39End",
        "colab": {
          "base_uri": "https://localhost:8080/",
          "height": 455
        },
        "outputId": "ad0f3425-d85b-4050-b7d6-6b6a070111a7"
      },
      "execution_count": 28,
      "outputs": [
        {
          "output_type": "execute_result",
          "data": {
            "text/plain": [
              "                                                   PAT_GENDER PAT_RACE  \\\n",
              "PATIENT                                                                  \n",
              "0018ce49a6843a6e3330cbbbb8eadd8ccdcdf0b94932d74...          F    white   \n",
              "00397419b24deefc22d3aa48f4411fe021652c5b9768b8b...          F    white   \n",
              "006f1c1edfb28afb66d49adca0252e5b4c4573743822323...          F    white   \n",
              "00828a545bd5103410c608ef66616c95b6df39b7f8ec2ae...          F    white   \n",
              "00be4c5c175cc3ec49e5e943d2f854eb55f60e1ef5ed3fa...          F    white   \n",
              "...                                                       ...      ...   \n",
              "fe87159e95d586e0955c40590c496cff32d679f31a246fe...          F    white   \n",
              "fe8c0f0418b506099231d53089cfb005b19942dc40d5d2e...          M    black   \n",
              "feeb1abbb6f6e093a3bcbd5309ff1df95379dac47e25743...          M    black   \n",
              "ffabcc2d5b6ecbde7e39b73669026fdcdd8dec9c47f8091...          F    black   \n",
              "fff9ad6b5fa22d2bd998e62015213784402492b4beb3f27...          M    white   \n",
              "\n",
              "                                                   DIAGNOSIS  \n",
              "PATIENT                                                       \n",
              "0018ce49a6843a6e3330cbbbb8eadd8ccdcdf0b94932d74...      none  \n",
              "00397419b24deefc22d3aa48f4411fe021652c5b9768b8b...      none  \n",
              "006f1c1edfb28afb66d49adca0252e5b4c4573743822323...      none  \n",
              "00828a545bd5103410c608ef66616c95b6df39b7f8ec2ae...     other  \n",
              "00be4c5c175cc3ec49e5e943d2f854eb55f60e1ef5ed3fa...      none  \n",
              "...                                                      ...  \n",
              "fe87159e95d586e0955c40590c496cff32d679f31a246fe...      none  \n",
              "fe8c0f0418b506099231d53089cfb005b19942dc40d5d2e...      none  \n",
              "feeb1abbb6f6e093a3bcbd5309ff1df95379dac47e25743...      none  \n",
              "ffabcc2d5b6ecbde7e39b73669026fdcdd8dec9c47f8091...      none  \n",
              "fff9ad6b5fa22d2bd998e62015213784402492b4beb3f27...      none  \n",
              "\n",
              "[1019 rows x 3 columns]"
            ],
            "text/html": [
              "\n",
              "  <div id=\"df-7de9f5df-c757-4b93-802c-b24338abf145\">\n",
              "    <div class=\"colab-df-container\">\n",
              "      <div>\n",
              "<style scoped>\n",
              "    .dataframe tbody tr th:only-of-type {\n",
              "        vertical-align: middle;\n",
              "    }\n",
              "\n",
              "    .dataframe tbody tr th {\n",
              "        vertical-align: top;\n",
              "    }\n",
              "\n",
              "    .dataframe thead th {\n",
              "        text-align: right;\n",
              "    }\n",
              "</style>\n",
              "<table border=\"1\" class=\"dataframe\">\n",
              "  <thead>\n",
              "    <tr style=\"text-align: right;\">\n",
              "      <th></th>\n",
              "      <th>PAT_GENDER</th>\n",
              "      <th>PAT_RACE</th>\n",
              "      <th>DIAGNOSIS</th>\n",
              "    </tr>\n",
              "    <tr>\n",
              "      <th>PATIENT</th>\n",
              "      <th></th>\n",
              "      <th></th>\n",
              "      <th></th>\n",
              "    </tr>\n",
              "  </thead>\n",
              "  <tbody>\n",
              "    <tr>\n",
              "      <th>0018ce49a6843a6e3330cbbbb8eadd8ccdcdf0b94932d74002b41a7fdae2cb72</th>\n",
              "      <td>F</td>\n",
              "      <td>white</td>\n",
              "      <td>none</td>\n",
              "    </tr>\n",
              "    <tr>\n",
              "      <th>00397419b24deefc22d3aa48f4411fe021652c5b9768b8ba5901634c2cb59f0e</th>\n",
              "      <td>F</td>\n",
              "      <td>white</td>\n",
              "      <td>none</td>\n",
              "    </tr>\n",
              "    <tr>\n",
              "      <th>006f1c1edfb28afb66d49adca0252e5b4c4573743822323511ef2561cf65a569</th>\n",
              "      <td>F</td>\n",
              "      <td>white</td>\n",
              "      <td>none</td>\n",
              "    </tr>\n",
              "    <tr>\n",
              "      <th>00828a545bd5103410c608ef66616c95b6df39b7f8ec2ae41147b110faaace9f</th>\n",
              "      <td>F</td>\n",
              "      <td>white</td>\n",
              "      <td>other</td>\n",
              "    </tr>\n",
              "    <tr>\n",
              "      <th>00be4c5c175cc3ec49e5e943d2f854eb55f60e1ef5ed3fab11d78c83ffea6e22</th>\n",
              "      <td>F</td>\n",
              "      <td>white</td>\n",
              "      <td>none</td>\n",
              "    </tr>\n",
              "    <tr>\n",
              "      <th>...</th>\n",
              "      <td>...</td>\n",
              "      <td>...</td>\n",
              "      <td>...</td>\n",
              "    </tr>\n",
              "    <tr>\n",
              "      <th>fe87159e95d586e0955c40590c496cff32d679f31a246fe9ac877de2ba1dff33</th>\n",
              "      <td>F</td>\n",
              "      <td>white</td>\n",
              "      <td>none</td>\n",
              "    </tr>\n",
              "    <tr>\n",
              "      <th>fe8c0f0418b506099231d53089cfb005b19942dc40d5d2edc8030d6e7388224d</th>\n",
              "      <td>M</td>\n",
              "      <td>black</td>\n",
              "      <td>none</td>\n",
              "    </tr>\n",
              "    <tr>\n",
              "      <th>feeb1abbb6f6e093a3bcbd5309ff1df95379dac47e25743dce40fe6419ba05b4</th>\n",
              "      <td>M</td>\n",
              "      <td>black</td>\n",
              "      <td>none</td>\n",
              "    </tr>\n",
              "    <tr>\n",
              "      <th>ffabcc2d5b6ecbde7e39b73669026fdcdd8dec9c47f80918a6439aa9987e78c0</th>\n",
              "      <td>F</td>\n",
              "      <td>black</td>\n",
              "      <td>none</td>\n",
              "    </tr>\n",
              "    <tr>\n",
              "      <th>fff9ad6b5fa22d2bd998e62015213784402492b4beb3f270137211c020395052</th>\n",
              "      <td>M</td>\n",
              "      <td>white</td>\n",
              "      <td>none</td>\n",
              "    </tr>\n",
              "  </tbody>\n",
              "</table>\n",
              "<p>1019 rows × 3 columns</p>\n",
              "</div>\n",
              "      <button class=\"colab-df-convert\" onclick=\"convertToInteractive('df-7de9f5df-c757-4b93-802c-b24338abf145')\"\n",
              "              title=\"Convert this dataframe to an interactive table.\"\n",
              "              style=\"display:none;\">\n",
              "        \n",
              "  <svg xmlns=\"http://www.w3.org/2000/svg\" height=\"24px\"viewBox=\"0 0 24 24\"\n",
              "       width=\"24px\">\n",
              "    <path d=\"M0 0h24v24H0V0z\" fill=\"none\"/>\n",
              "    <path d=\"M18.56 5.44l.94 2.06.94-2.06 2.06-.94-2.06-.94-.94-2.06-.94 2.06-2.06.94zm-11 1L8.5 8.5l.94-2.06 2.06-.94-2.06-.94L8.5 2.5l-.94 2.06-2.06.94zm10 10l.94 2.06.94-2.06 2.06-.94-2.06-.94-.94-2.06-.94 2.06-2.06.94z\"/><path d=\"M17.41 7.96l-1.37-1.37c-.4-.4-.92-.59-1.43-.59-.52 0-1.04.2-1.43.59L10.3 9.45l-7.72 7.72c-.78.78-.78 2.05 0 2.83L4 21.41c.39.39.9.59 1.41.59.51 0 1.02-.2 1.41-.59l7.78-7.78 2.81-2.81c.8-.78.8-2.07 0-2.86zM5.41 20L4 18.59l7.72-7.72 1.47 1.35L5.41 20z\"/>\n",
              "  </svg>\n",
              "      </button>\n",
              "      \n",
              "  <style>\n",
              "    .colab-df-container {\n",
              "      display:flex;\n",
              "      flex-wrap:wrap;\n",
              "      gap: 12px;\n",
              "    }\n",
              "\n",
              "    .colab-df-convert {\n",
              "      background-color: #E8F0FE;\n",
              "      border: none;\n",
              "      border-radius: 50%;\n",
              "      cursor: pointer;\n",
              "      display: none;\n",
              "      fill: #1967D2;\n",
              "      height: 32px;\n",
              "      padding: 0 0 0 0;\n",
              "      width: 32px;\n",
              "    }\n",
              "\n",
              "    .colab-df-convert:hover {\n",
              "      background-color: #E2EBFA;\n",
              "      box-shadow: 0px 1px 2px rgba(60, 64, 67, 0.3), 0px 1px 3px 1px rgba(60, 64, 67, 0.15);\n",
              "      fill: #174EA6;\n",
              "    }\n",
              "\n",
              "    [theme=dark] .colab-df-convert {\n",
              "      background-color: #3B4455;\n",
              "      fill: #D2E3FC;\n",
              "    }\n",
              "\n",
              "    [theme=dark] .colab-df-convert:hover {\n",
              "      background-color: #434B5C;\n",
              "      box-shadow: 0px 1px 3px 1px rgba(0, 0, 0, 0.15);\n",
              "      filter: drop-shadow(0px 1px 2px rgba(0, 0, 0, 0.3));\n",
              "      fill: #FFFFFF;\n",
              "    }\n",
              "  </style>\n",
              "\n",
              "      <script>\n",
              "        const buttonEl =\n",
              "          document.querySelector('#df-7de9f5df-c757-4b93-802c-b24338abf145 button.colab-df-convert');\n",
              "        buttonEl.style.display =\n",
              "          google.colab.kernel.accessAllowed ? 'block' : 'none';\n",
              "\n",
              "        async function convertToInteractive(key) {\n",
              "          const element = document.querySelector('#df-7de9f5df-c757-4b93-802c-b24338abf145');\n",
              "          const dataTable =\n",
              "            await google.colab.kernel.invokeFunction('convertToInteractive',\n",
              "                                                     [key], {});\n",
              "          if (!dataTable) return;\n",
              "\n",
              "          const docLinkHtml = 'Like what you see? Visit the ' +\n",
              "            '<a target=\"_blank\" href=https://colab.research.google.com/notebooks/data_table.ipynb>data table notebook</a>'\n",
              "            + ' to learn more about interactive tables.';\n",
              "          element.innerHTML = '';\n",
              "          dataTable['output_type'] = 'display_data';\n",
              "          await google.colab.output.renderOutput(dataTable, element);\n",
              "          const docLink = document.createElement('div');\n",
              "          docLink.innerHTML = docLinkHtml;\n",
              "          element.appendChild(docLink);\n",
              "        }\n",
              "      </script>\n",
              "    </div>\n",
              "  </div>\n",
              "  "
            ]
          },
          "metadata": {},
          "execution_count": 28
        }
      ]
    },
    {
      "cell_type": "markdown",
      "source": [
        "## Erstellung der Analysetabelle als Kombination der zuvor erstellten Hilfstabellen\n"
      ],
      "metadata": {
        "id": "Wyy1WaQ1tbmP"
      }
    },
    {
      "cell_type": "code",
      "source": [
        "# Merge alle Tabellen in einzelnen Dataframe über Patienten-ID (Index)\n",
        "patient_data = pd.merge(pd.merge(pd.merge(patient_information, \n",
        "                                          data_encounters_final, left_index=True, right_index=True), \n",
        "                                 data_procedures_final, left_index=True, right_index=True), \n",
        "                        data_medications_final, left_index=True, right_index=True)\n",
        "patient_data.reset_index(inplace=True)\n",
        "patient_data.shape"
      ],
      "metadata": {
        "id": "tFbj_52otajK",
        "colab": {
          "base_uri": "https://localhost:8080/"
        },
        "outputId": "017d5918-2490-4cc5-bda4-d89fbefa7863"
      },
      "execution_count": 29,
      "outputs": [
        {
          "output_type": "execute_result",
          "data": {
            "text/plain": [
              "(1019, 14)"
            ]
          },
          "metadata": {},
          "execution_count": 29
        }
      ]
    },
    {
      "cell_type": "code",
      "source": [
        "patient_data"
      ],
      "metadata": {
        "id": "rt_m1Vlt-8iy",
        "colab": {
          "base_uri": "https://localhost:8080/",
          "height": 488
        },
        "outputId": "c1785fdc-a666-487e-fa15-aaf831692643"
      },
      "execution_count": 30,
      "outputs": [
        {
          "output_type": "execute_result",
          "data": {
            "text/plain": [
              "                                                PATIENT PAT_GENDER PAT_RACE  \\\n",
              "0     0018ce49a6843a6e3330cbbbb8eadd8ccdcdf0b94932d7...          F    white   \n",
              "1     00397419b24deefc22d3aa48f4411fe021652c5b9768b8...          F    white   \n",
              "2     006f1c1edfb28afb66d49adca0252e5b4c457374382232...          F    white   \n",
              "3     00828a545bd5103410c608ef66616c95b6df39b7f8ec2a...          F    white   \n",
              "4     00be4c5c175cc3ec49e5e943d2f854eb55f60e1ef5ed3f...          F    white   \n",
              "...                                                 ...        ...      ...   \n",
              "1014  fe87159e95d586e0955c40590c496cff32d679f31a246f...          F    white   \n",
              "1015  fe8c0f0418b506099231d53089cfb005b19942dc40d5d2...          M    black   \n",
              "1016  feeb1abbb6f6e093a3bcbd5309ff1df95379dac47e2574...          M    black   \n",
              "1017  ffabcc2d5b6ecbde7e39b73669026fdcdd8dec9c47f809...          F    black   \n",
              "1018  fff9ad6b5fa22d2bd998e62015213784402492b4beb3f2...          M    white   \n",
              "\n",
              "     DIAGNOSIS  OVERALL_ENC_BASE_COST  OVERALL_ENC_PAYER_COVERAGE  \\\n",
              "0         none                1162.44                     1162.44   \n",
              "1         none                1291.60                     1291.60   \n",
              "2         none                 774.96                      774.96   \n",
              "3        other                1420.76                     1320.76   \n",
              "4         none                 904.12                      904.12   \n",
              "...        ...                    ...                         ...   \n",
              "1014      none                 387.48                      387.48   \n",
              "1015      none                 387.48                      387.48   \n",
              "1016      none                 516.64                      516.64   \n",
              "1017      none                 516.64                      516.64   \n",
              "1018      none                 387.48                      387.48   \n",
              "\n",
              "      NUMBER_ENCOUNTERS  OVERALL_PRO_BASE_COST  NUMBER_PROCEDURES  \\\n",
              "0                     9                    NaN                  0   \n",
              "1                    10                    NaN                  0   \n",
              "2                     6                    NaN                  0   \n",
              "3                    11               54956.61                  3   \n",
              "4                     7                    NaN                  0   \n",
              "...                 ...                    ...                ...   \n",
              "1014                  3                    NaN                  0   \n",
              "1015                  3                    NaN                  0   \n",
              "1016                  4                    NaN                  0   \n",
              "1017                  4                    NaN                  0   \n",
              "1018                  3                    NaN                  0   \n",
              "\n",
              "      OVERALL_MED_BASE_COST  OVERALL_MED_DISPENSES  OVERALL_MED_TOTAL_COST  \\\n",
              "0                       NaN                    NaN                     NaN   \n",
              "1                       NaN                    NaN                     NaN   \n",
              "2                       NaN                    NaN                     NaN   \n",
              "3                    124.02                    3.0                  124.02   \n",
              "4                       NaN                    NaN                     NaN   \n",
              "...                     ...                    ...                     ...   \n",
              "1014                    NaN                    NaN                     NaN   \n",
              "1015                    NaN                    NaN                     NaN   \n",
              "1016                    NaN                    NaN                     NaN   \n",
              "1017                    NaN                    NaN                     NaN   \n",
              "1018                    NaN                    NaN                     NaN   \n",
              "\n",
              "      OVERALL_MED_PAYER_COVERAGE  NUMBER_MEDICATIONS  \n",
              "0                            NaN                   0  \n",
              "1                            NaN                   0  \n",
              "2                            NaN                   0  \n",
              "3                            0.0                   3  \n",
              "4                            NaN                   0  \n",
              "...                          ...                 ...  \n",
              "1014                         NaN                   0  \n",
              "1015                         NaN                   0  \n",
              "1016                         NaN                   0  \n",
              "1017                         NaN                   0  \n",
              "1018                         NaN                   0  \n",
              "\n",
              "[1019 rows x 14 columns]"
            ],
            "text/html": [
              "\n",
              "  <div id=\"df-c8a9fd61-da07-4b74-a748-a9c377ab1abe\">\n",
              "    <div class=\"colab-df-container\">\n",
              "      <div>\n",
              "<style scoped>\n",
              "    .dataframe tbody tr th:only-of-type {\n",
              "        vertical-align: middle;\n",
              "    }\n",
              "\n",
              "    .dataframe tbody tr th {\n",
              "        vertical-align: top;\n",
              "    }\n",
              "\n",
              "    .dataframe thead th {\n",
              "        text-align: right;\n",
              "    }\n",
              "</style>\n",
              "<table border=\"1\" class=\"dataframe\">\n",
              "  <thead>\n",
              "    <tr style=\"text-align: right;\">\n",
              "      <th></th>\n",
              "      <th>PATIENT</th>\n",
              "      <th>PAT_GENDER</th>\n",
              "      <th>PAT_RACE</th>\n",
              "      <th>DIAGNOSIS</th>\n",
              "      <th>OVERALL_ENC_BASE_COST</th>\n",
              "      <th>OVERALL_ENC_PAYER_COVERAGE</th>\n",
              "      <th>NUMBER_ENCOUNTERS</th>\n",
              "      <th>OVERALL_PRO_BASE_COST</th>\n",
              "      <th>NUMBER_PROCEDURES</th>\n",
              "      <th>OVERALL_MED_BASE_COST</th>\n",
              "      <th>OVERALL_MED_DISPENSES</th>\n",
              "      <th>OVERALL_MED_TOTAL_COST</th>\n",
              "      <th>OVERALL_MED_PAYER_COVERAGE</th>\n",
              "      <th>NUMBER_MEDICATIONS</th>\n",
              "    </tr>\n",
              "  </thead>\n",
              "  <tbody>\n",
              "    <tr>\n",
              "      <th>0</th>\n",
              "      <td>0018ce49a6843a6e3330cbbbb8eadd8ccdcdf0b94932d7...</td>\n",
              "      <td>F</td>\n",
              "      <td>white</td>\n",
              "      <td>none</td>\n",
              "      <td>1162.44</td>\n",
              "      <td>1162.44</td>\n",
              "      <td>9</td>\n",
              "      <td>NaN</td>\n",
              "      <td>0</td>\n",
              "      <td>NaN</td>\n",
              "      <td>NaN</td>\n",
              "      <td>NaN</td>\n",
              "      <td>NaN</td>\n",
              "      <td>0</td>\n",
              "    </tr>\n",
              "    <tr>\n",
              "      <th>1</th>\n",
              "      <td>00397419b24deefc22d3aa48f4411fe021652c5b9768b8...</td>\n",
              "      <td>F</td>\n",
              "      <td>white</td>\n",
              "      <td>none</td>\n",
              "      <td>1291.60</td>\n",
              "      <td>1291.60</td>\n",
              "      <td>10</td>\n",
              "      <td>NaN</td>\n",
              "      <td>0</td>\n",
              "      <td>NaN</td>\n",
              "      <td>NaN</td>\n",
              "      <td>NaN</td>\n",
              "      <td>NaN</td>\n",
              "      <td>0</td>\n",
              "    </tr>\n",
              "    <tr>\n",
              "      <th>2</th>\n",
              "      <td>006f1c1edfb28afb66d49adca0252e5b4c457374382232...</td>\n",
              "      <td>F</td>\n",
              "      <td>white</td>\n",
              "      <td>none</td>\n",
              "      <td>774.96</td>\n",
              "      <td>774.96</td>\n",
              "      <td>6</td>\n",
              "      <td>NaN</td>\n",
              "      <td>0</td>\n",
              "      <td>NaN</td>\n",
              "      <td>NaN</td>\n",
              "      <td>NaN</td>\n",
              "      <td>NaN</td>\n",
              "      <td>0</td>\n",
              "    </tr>\n",
              "    <tr>\n",
              "      <th>3</th>\n",
              "      <td>00828a545bd5103410c608ef66616c95b6df39b7f8ec2a...</td>\n",
              "      <td>F</td>\n",
              "      <td>white</td>\n",
              "      <td>other</td>\n",
              "      <td>1420.76</td>\n",
              "      <td>1320.76</td>\n",
              "      <td>11</td>\n",
              "      <td>54956.61</td>\n",
              "      <td>3</td>\n",
              "      <td>124.02</td>\n",
              "      <td>3.0</td>\n",
              "      <td>124.02</td>\n",
              "      <td>0.0</td>\n",
              "      <td>3</td>\n",
              "    </tr>\n",
              "    <tr>\n",
              "      <th>4</th>\n",
              "      <td>00be4c5c175cc3ec49e5e943d2f854eb55f60e1ef5ed3f...</td>\n",
              "      <td>F</td>\n",
              "      <td>white</td>\n",
              "      <td>none</td>\n",
              "      <td>904.12</td>\n",
              "      <td>904.12</td>\n",
              "      <td>7</td>\n",
              "      <td>NaN</td>\n",
              "      <td>0</td>\n",
              "      <td>NaN</td>\n",
              "      <td>NaN</td>\n",
              "      <td>NaN</td>\n",
              "      <td>NaN</td>\n",
              "      <td>0</td>\n",
              "    </tr>\n",
              "    <tr>\n",
              "      <th>...</th>\n",
              "      <td>...</td>\n",
              "      <td>...</td>\n",
              "      <td>...</td>\n",
              "      <td>...</td>\n",
              "      <td>...</td>\n",
              "      <td>...</td>\n",
              "      <td>...</td>\n",
              "      <td>...</td>\n",
              "      <td>...</td>\n",
              "      <td>...</td>\n",
              "      <td>...</td>\n",
              "      <td>...</td>\n",
              "      <td>...</td>\n",
              "      <td>...</td>\n",
              "    </tr>\n",
              "    <tr>\n",
              "      <th>1014</th>\n",
              "      <td>fe87159e95d586e0955c40590c496cff32d679f31a246f...</td>\n",
              "      <td>F</td>\n",
              "      <td>white</td>\n",
              "      <td>none</td>\n",
              "      <td>387.48</td>\n",
              "      <td>387.48</td>\n",
              "      <td>3</td>\n",
              "      <td>NaN</td>\n",
              "      <td>0</td>\n",
              "      <td>NaN</td>\n",
              "      <td>NaN</td>\n",
              "      <td>NaN</td>\n",
              "      <td>NaN</td>\n",
              "      <td>0</td>\n",
              "    </tr>\n",
              "    <tr>\n",
              "      <th>1015</th>\n",
              "      <td>fe8c0f0418b506099231d53089cfb005b19942dc40d5d2...</td>\n",
              "      <td>M</td>\n",
              "      <td>black</td>\n",
              "      <td>none</td>\n",
              "      <td>387.48</td>\n",
              "      <td>387.48</td>\n",
              "      <td>3</td>\n",
              "      <td>NaN</td>\n",
              "      <td>0</td>\n",
              "      <td>NaN</td>\n",
              "      <td>NaN</td>\n",
              "      <td>NaN</td>\n",
              "      <td>NaN</td>\n",
              "      <td>0</td>\n",
              "    </tr>\n",
              "    <tr>\n",
              "      <th>1016</th>\n",
              "      <td>feeb1abbb6f6e093a3bcbd5309ff1df95379dac47e2574...</td>\n",
              "      <td>M</td>\n",
              "      <td>black</td>\n",
              "      <td>none</td>\n",
              "      <td>516.64</td>\n",
              "      <td>516.64</td>\n",
              "      <td>4</td>\n",
              "      <td>NaN</td>\n",
              "      <td>0</td>\n",
              "      <td>NaN</td>\n",
              "      <td>NaN</td>\n",
              "      <td>NaN</td>\n",
              "      <td>NaN</td>\n",
              "      <td>0</td>\n",
              "    </tr>\n",
              "    <tr>\n",
              "      <th>1017</th>\n",
              "      <td>ffabcc2d5b6ecbde7e39b73669026fdcdd8dec9c47f809...</td>\n",
              "      <td>F</td>\n",
              "      <td>black</td>\n",
              "      <td>none</td>\n",
              "      <td>516.64</td>\n",
              "      <td>516.64</td>\n",
              "      <td>4</td>\n",
              "      <td>NaN</td>\n",
              "      <td>0</td>\n",
              "      <td>NaN</td>\n",
              "      <td>NaN</td>\n",
              "      <td>NaN</td>\n",
              "      <td>NaN</td>\n",
              "      <td>0</td>\n",
              "    </tr>\n",
              "    <tr>\n",
              "      <th>1018</th>\n",
              "      <td>fff9ad6b5fa22d2bd998e62015213784402492b4beb3f2...</td>\n",
              "      <td>M</td>\n",
              "      <td>white</td>\n",
              "      <td>none</td>\n",
              "      <td>387.48</td>\n",
              "      <td>387.48</td>\n",
              "      <td>3</td>\n",
              "      <td>NaN</td>\n",
              "      <td>0</td>\n",
              "      <td>NaN</td>\n",
              "      <td>NaN</td>\n",
              "      <td>NaN</td>\n",
              "      <td>NaN</td>\n",
              "      <td>0</td>\n",
              "    </tr>\n",
              "  </tbody>\n",
              "</table>\n",
              "<p>1019 rows × 14 columns</p>\n",
              "</div>\n",
              "      <button class=\"colab-df-convert\" onclick=\"convertToInteractive('df-c8a9fd61-da07-4b74-a748-a9c377ab1abe')\"\n",
              "              title=\"Convert this dataframe to an interactive table.\"\n",
              "              style=\"display:none;\">\n",
              "        \n",
              "  <svg xmlns=\"http://www.w3.org/2000/svg\" height=\"24px\"viewBox=\"0 0 24 24\"\n",
              "       width=\"24px\">\n",
              "    <path d=\"M0 0h24v24H0V0z\" fill=\"none\"/>\n",
              "    <path d=\"M18.56 5.44l.94 2.06.94-2.06 2.06-.94-2.06-.94-.94-2.06-.94 2.06-2.06.94zm-11 1L8.5 8.5l.94-2.06 2.06-.94-2.06-.94L8.5 2.5l-.94 2.06-2.06.94zm10 10l.94 2.06.94-2.06 2.06-.94-2.06-.94-.94-2.06-.94 2.06-2.06.94z\"/><path d=\"M17.41 7.96l-1.37-1.37c-.4-.4-.92-.59-1.43-.59-.52 0-1.04.2-1.43.59L10.3 9.45l-7.72 7.72c-.78.78-.78 2.05 0 2.83L4 21.41c.39.39.9.59 1.41.59.51 0 1.02-.2 1.41-.59l7.78-7.78 2.81-2.81c.8-.78.8-2.07 0-2.86zM5.41 20L4 18.59l7.72-7.72 1.47 1.35L5.41 20z\"/>\n",
              "  </svg>\n",
              "      </button>\n",
              "      \n",
              "  <style>\n",
              "    .colab-df-container {\n",
              "      display:flex;\n",
              "      flex-wrap:wrap;\n",
              "      gap: 12px;\n",
              "    }\n",
              "\n",
              "    .colab-df-convert {\n",
              "      background-color: #E8F0FE;\n",
              "      border: none;\n",
              "      border-radius: 50%;\n",
              "      cursor: pointer;\n",
              "      display: none;\n",
              "      fill: #1967D2;\n",
              "      height: 32px;\n",
              "      padding: 0 0 0 0;\n",
              "      width: 32px;\n",
              "    }\n",
              "\n",
              "    .colab-df-convert:hover {\n",
              "      background-color: #E2EBFA;\n",
              "      box-shadow: 0px 1px 2px rgba(60, 64, 67, 0.3), 0px 1px 3px 1px rgba(60, 64, 67, 0.15);\n",
              "      fill: #174EA6;\n",
              "    }\n",
              "\n",
              "    [theme=dark] .colab-df-convert {\n",
              "      background-color: #3B4455;\n",
              "      fill: #D2E3FC;\n",
              "    }\n",
              "\n",
              "    [theme=dark] .colab-df-convert:hover {\n",
              "      background-color: #434B5C;\n",
              "      box-shadow: 0px 1px 3px 1px rgba(0, 0, 0, 0.15);\n",
              "      filter: drop-shadow(0px 1px 2px rgba(0, 0, 0, 0.3));\n",
              "      fill: #FFFFFF;\n",
              "    }\n",
              "  </style>\n",
              "\n",
              "      <script>\n",
              "        const buttonEl =\n",
              "          document.querySelector('#df-c8a9fd61-da07-4b74-a748-a9c377ab1abe button.colab-df-convert');\n",
              "        buttonEl.style.display =\n",
              "          google.colab.kernel.accessAllowed ? 'block' : 'none';\n",
              "\n",
              "        async function convertToInteractive(key) {\n",
              "          const element = document.querySelector('#df-c8a9fd61-da07-4b74-a748-a9c377ab1abe');\n",
              "          const dataTable =\n",
              "            await google.colab.kernel.invokeFunction('convertToInteractive',\n",
              "                                                     [key], {});\n",
              "          if (!dataTable) return;\n",
              "\n",
              "          const docLinkHtml = 'Like what you see? Visit the ' +\n",
              "            '<a target=\"_blank\" href=https://colab.research.google.com/notebooks/data_table.ipynb>data table notebook</a>'\n",
              "            + ' to learn more about interactive tables.';\n",
              "          element.innerHTML = '';\n",
              "          dataTable['output_type'] = 'display_data';\n",
              "          await google.colab.output.renderOutput(dataTable, element);\n",
              "          const docLink = document.createElement('div');\n",
              "          docLink.innerHTML = docLinkHtml;\n",
              "          element.appendChild(docLink);\n",
              "        }\n",
              "      </script>\n",
              "    </div>\n",
              "  </div>\n",
              "  "
            ]
          },
          "metadata": {},
          "execution_count": 30
        }
      ]
    },
    {
      "cell_type": "markdown",
      "source": [
        "# EDA"
      ],
      "metadata": {
        "id": "fPM9c2V-xYZn"
      }
    },
    {
      "cell_type": "markdown",
      "source": [
        "## Übersicht über Patientenanzahl (rows) und beschreibende Attribute (columns)"
      ],
      "metadata": {
        "id": "9XgUcgqGDg4S"
      }
    },
    {
      "cell_type": "code",
      "source": [
        "patient_data.shape"
      ],
      "metadata": {
        "id": "ioXXjc4uCdGU",
        "colab": {
          "base_uri": "https://localhost:8080/"
        },
        "outputId": "67c35afe-c637-4ecb-fac6-8d5b726f9924"
      },
      "execution_count": 31,
      "outputs": [
        {
          "output_type": "execute_result",
          "data": {
            "text/plain": [
              "(1019, 14)"
            ]
          },
          "metadata": {},
          "execution_count": 31
        }
      ]
    },
    {
      "cell_type": "markdown",
      "source": [
        "## Übersicht über die beschreibenden Attribute"
      ],
      "metadata": {
        "id": "QM--TnrODp14"
      }
    },
    {
      "cell_type": "code",
      "source": [
        "patient_data.columns"
      ],
      "metadata": {
        "id": "HlcAmfXJClrE",
        "colab": {
          "base_uri": "https://localhost:8080/"
        },
        "outputId": "9c113ba3-20ad-47f0-d762-6e15287cea11"
      },
      "execution_count": 32,
      "outputs": [
        {
          "output_type": "execute_result",
          "data": {
            "text/plain": [
              "Index(['PATIENT', 'PAT_GENDER', 'PAT_RACE', 'DIAGNOSIS',\n",
              "       'OVERALL_ENC_BASE_COST', 'OVERALL_ENC_PAYER_COVERAGE',\n",
              "       'NUMBER_ENCOUNTERS', 'OVERALL_PRO_BASE_COST', 'NUMBER_PROCEDURES',\n",
              "       'OVERALL_MED_BASE_COST', 'OVERALL_MED_DISPENSES',\n",
              "       'OVERALL_MED_TOTAL_COST', 'OVERALL_MED_PAYER_COVERAGE',\n",
              "       'NUMBER_MEDICATIONS'],\n",
              "      dtype='object')"
            ]
          },
          "metadata": {},
          "execution_count": 32
        }
      ]
    },
    {
      "cell_type": "markdown",
      "source": [
        "# Übersicht vorhandene Datentypen und Anzahl der Nullwerte"
      ],
      "metadata": {
        "id": "UkRFqkqyDwZe"
      }
    },
    {
      "cell_type": "code",
      "source": [
        "patient_data.info()"
      ],
      "metadata": {
        "id": "gN77IKUtCxz-",
        "colab": {
          "base_uri": "https://localhost:8080/"
        },
        "outputId": "6cac513d-74df-49e8-f5a3-b12ce17a985b"
      },
      "execution_count": 33,
      "outputs": [
        {
          "output_type": "stream",
          "name": "stdout",
          "text": [
            "<class 'pandas.core.frame.DataFrame'>\n",
            "RangeIndex: 1019 entries, 0 to 1018\n",
            "Data columns (total 14 columns):\n",
            " #   Column                      Non-Null Count  Dtype  \n",
            "---  ------                      --------------  -----  \n",
            " 0   PATIENT                     1019 non-null   object \n",
            " 1   PAT_GENDER                  1019 non-null   object \n",
            " 2   PAT_RACE                    1019 non-null   object \n",
            " 3   DIAGNOSIS                   1019 non-null   object \n",
            " 4   OVERALL_ENC_BASE_COST       1019 non-null   float64\n",
            " 5   OVERALL_ENC_PAYER_COVERAGE  1019 non-null   float64\n",
            " 6   NUMBER_ENCOUNTERS           1019 non-null   int64  \n",
            " 7   OVERALL_PRO_BASE_COST       77 non-null     float64\n",
            " 8   NUMBER_PROCEDURES           1019 non-null   int64  \n",
            " 9   OVERALL_MED_BASE_COST       98 non-null     float64\n",
            " 10  OVERALL_MED_DISPENSES       98 non-null     float64\n",
            " 11  OVERALL_MED_TOTAL_COST      98 non-null     float64\n",
            " 12  OVERALL_MED_PAYER_COVERAGE  98 non-null     float64\n",
            " 13  NUMBER_MEDICATIONS          1019 non-null   int64  \n",
            "dtypes: float64(7), int64(3), object(4)\n",
            "memory usage: 111.6+ KB\n"
          ]
        }
      ]
    },
    {
      "cell_type": "markdown",
      "source": [
        "## Erste Übersicht mit beschreibender Statistik (count, mean ...)"
      ],
      "metadata": {
        "id": "_okr_7CcD9ar"
      }
    },
    {
      "cell_type": "code",
      "source": [
        "patient_data.describe()"
      ],
      "metadata": {
        "id": "bulvicWGC7tD",
        "colab": {
          "base_uri": "https://localhost:8080/",
          "height": 364
        },
        "outputId": "5cf27e15-a762-4429-b691-e817be9f8e6b"
      },
      "execution_count": 34,
      "outputs": [
        {
          "output_type": "execute_result",
          "data": {
            "text/plain": [
              "       OVERALL_ENC_BASE_COST  OVERALL_ENC_PAYER_COVERAGE  NUMBER_ENCOUNTERS  \\\n",
              "count            1019.000000                 1019.000000        1019.000000   \n",
              "mean             1081.317841                  957.650716           8.442591   \n",
              "std               732.908624                  555.148606           6.329166   \n",
              "min               129.160000                    0.000000           1.000000   \n",
              "25%               516.640000                  516.640000           4.000000   \n",
              "50%              1033.280000                 1033.280000           8.000000   \n",
              "75%              1291.600000                 1291.600000          10.000000   \n",
              "max              9247.550000                 4371.220000          92.000000   \n",
              "\n",
              "       OVERALL_PRO_BASE_COST  NUMBER_PROCEDURES  OVERALL_MED_BASE_COST  \\\n",
              "count              77.000000        1019.000000              98.000000   \n",
              "mean           100877.699481           0.732090            3160.850918   \n",
              "std             96865.027773           4.789053           12132.464945   \n",
              "min             18469.030000           0.000000               0.220000   \n",
              "25%             28545.570000           0.000000             179.397500   \n",
              "50%             54337.360000           0.000000             308.440000   \n",
              "75%            166728.780000           0.000000             748.400000   \n",
              "max            381671.210000          73.000000          107598.150000   \n",
              "\n",
              "       OVERALL_MED_DISPENSES  OVERALL_MED_TOTAL_COST  \\\n",
              "count              98.000000               98.000000   \n",
              "mean              407.387755            35769.338673   \n",
              "std               474.410641            46735.025021   \n",
              "min                 1.000000                0.220000   \n",
              "25%                 3.000000             6452.622500   \n",
              "50%               237.500000            14517.060000   \n",
              "75%               652.500000            54573.800000   \n",
              "max              1885.000000           216023.700000   \n",
              "\n",
              "       OVERALL_MED_PAYER_COVERAGE  NUMBER_MEDICATIONS  \n",
              "count                   98.000000         1019.000000  \n",
              "mean                   876.478265            0.419038  \n",
              "std                   2215.893841            1.582713  \n",
              "min                      0.000000            0.000000  \n",
              "25%                      0.000000            0.000000  \n",
              "50%                      0.000000            0.000000  \n",
              "75%                      0.000000            0.000000  \n",
              "max                   6849.250000           19.000000  "
            ],
            "text/html": [
              "\n",
              "  <div id=\"df-754eda81-7ceb-425a-a883-0328052465d4\">\n",
              "    <div class=\"colab-df-container\">\n",
              "      <div>\n",
              "<style scoped>\n",
              "    .dataframe tbody tr th:only-of-type {\n",
              "        vertical-align: middle;\n",
              "    }\n",
              "\n",
              "    .dataframe tbody tr th {\n",
              "        vertical-align: top;\n",
              "    }\n",
              "\n",
              "    .dataframe thead th {\n",
              "        text-align: right;\n",
              "    }\n",
              "</style>\n",
              "<table border=\"1\" class=\"dataframe\">\n",
              "  <thead>\n",
              "    <tr style=\"text-align: right;\">\n",
              "      <th></th>\n",
              "      <th>OVERALL_ENC_BASE_COST</th>\n",
              "      <th>OVERALL_ENC_PAYER_COVERAGE</th>\n",
              "      <th>NUMBER_ENCOUNTERS</th>\n",
              "      <th>OVERALL_PRO_BASE_COST</th>\n",
              "      <th>NUMBER_PROCEDURES</th>\n",
              "      <th>OVERALL_MED_BASE_COST</th>\n",
              "      <th>OVERALL_MED_DISPENSES</th>\n",
              "      <th>OVERALL_MED_TOTAL_COST</th>\n",
              "      <th>OVERALL_MED_PAYER_COVERAGE</th>\n",
              "      <th>NUMBER_MEDICATIONS</th>\n",
              "    </tr>\n",
              "  </thead>\n",
              "  <tbody>\n",
              "    <tr>\n",
              "      <th>count</th>\n",
              "      <td>1019.000000</td>\n",
              "      <td>1019.000000</td>\n",
              "      <td>1019.000000</td>\n",
              "      <td>77.000000</td>\n",
              "      <td>1019.000000</td>\n",
              "      <td>98.000000</td>\n",
              "      <td>98.000000</td>\n",
              "      <td>98.000000</td>\n",
              "      <td>98.000000</td>\n",
              "      <td>1019.000000</td>\n",
              "    </tr>\n",
              "    <tr>\n",
              "      <th>mean</th>\n",
              "      <td>1081.317841</td>\n",
              "      <td>957.650716</td>\n",
              "      <td>8.442591</td>\n",
              "      <td>100877.699481</td>\n",
              "      <td>0.732090</td>\n",
              "      <td>3160.850918</td>\n",
              "      <td>407.387755</td>\n",
              "      <td>35769.338673</td>\n",
              "      <td>876.478265</td>\n",
              "      <td>0.419038</td>\n",
              "    </tr>\n",
              "    <tr>\n",
              "      <th>std</th>\n",
              "      <td>732.908624</td>\n",
              "      <td>555.148606</td>\n",
              "      <td>6.329166</td>\n",
              "      <td>96865.027773</td>\n",
              "      <td>4.789053</td>\n",
              "      <td>12132.464945</td>\n",
              "      <td>474.410641</td>\n",
              "      <td>46735.025021</td>\n",
              "      <td>2215.893841</td>\n",
              "      <td>1.582713</td>\n",
              "    </tr>\n",
              "    <tr>\n",
              "      <th>min</th>\n",
              "      <td>129.160000</td>\n",
              "      <td>0.000000</td>\n",
              "      <td>1.000000</td>\n",
              "      <td>18469.030000</td>\n",
              "      <td>0.000000</td>\n",
              "      <td>0.220000</td>\n",
              "      <td>1.000000</td>\n",
              "      <td>0.220000</td>\n",
              "      <td>0.000000</td>\n",
              "      <td>0.000000</td>\n",
              "    </tr>\n",
              "    <tr>\n",
              "      <th>25%</th>\n",
              "      <td>516.640000</td>\n",
              "      <td>516.640000</td>\n",
              "      <td>4.000000</td>\n",
              "      <td>28545.570000</td>\n",
              "      <td>0.000000</td>\n",
              "      <td>179.397500</td>\n",
              "      <td>3.000000</td>\n",
              "      <td>6452.622500</td>\n",
              "      <td>0.000000</td>\n",
              "      <td>0.000000</td>\n",
              "    </tr>\n",
              "    <tr>\n",
              "      <th>50%</th>\n",
              "      <td>1033.280000</td>\n",
              "      <td>1033.280000</td>\n",
              "      <td>8.000000</td>\n",
              "      <td>54337.360000</td>\n",
              "      <td>0.000000</td>\n",
              "      <td>308.440000</td>\n",
              "      <td>237.500000</td>\n",
              "      <td>14517.060000</td>\n",
              "      <td>0.000000</td>\n",
              "      <td>0.000000</td>\n",
              "    </tr>\n",
              "    <tr>\n",
              "      <th>75%</th>\n",
              "      <td>1291.600000</td>\n",
              "      <td>1291.600000</td>\n",
              "      <td>10.000000</td>\n",
              "      <td>166728.780000</td>\n",
              "      <td>0.000000</td>\n",
              "      <td>748.400000</td>\n",
              "      <td>652.500000</td>\n",
              "      <td>54573.800000</td>\n",
              "      <td>0.000000</td>\n",
              "      <td>0.000000</td>\n",
              "    </tr>\n",
              "    <tr>\n",
              "      <th>max</th>\n",
              "      <td>9247.550000</td>\n",
              "      <td>4371.220000</td>\n",
              "      <td>92.000000</td>\n",
              "      <td>381671.210000</td>\n",
              "      <td>73.000000</td>\n",
              "      <td>107598.150000</td>\n",
              "      <td>1885.000000</td>\n",
              "      <td>216023.700000</td>\n",
              "      <td>6849.250000</td>\n",
              "      <td>19.000000</td>\n",
              "    </tr>\n",
              "  </tbody>\n",
              "</table>\n",
              "</div>\n",
              "      <button class=\"colab-df-convert\" onclick=\"convertToInteractive('df-754eda81-7ceb-425a-a883-0328052465d4')\"\n",
              "              title=\"Convert this dataframe to an interactive table.\"\n",
              "              style=\"display:none;\">\n",
              "        \n",
              "  <svg xmlns=\"http://www.w3.org/2000/svg\" height=\"24px\"viewBox=\"0 0 24 24\"\n",
              "       width=\"24px\">\n",
              "    <path d=\"M0 0h24v24H0V0z\" fill=\"none\"/>\n",
              "    <path d=\"M18.56 5.44l.94 2.06.94-2.06 2.06-.94-2.06-.94-.94-2.06-.94 2.06-2.06.94zm-11 1L8.5 8.5l.94-2.06 2.06-.94-2.06-.94L8.5 2.5l-.94 2.06-2.06.94zm10 10l.94 2.06.94-2.06 2.06-.94-2.06-.94-.94-2.06-.94 2.06-2.06.94z\"/><path d=\"M17.41 7.96l-1.37-1.37c-.4-.4-.92-.59-1.43-.59-.52 0-1.04.2-1.43.59L10.3 9.45l-7.72 7.72c-.78.78-.78 2.05 0 2.83L4 21.41c.39.39.9.59 1.41.59.51 0 1.02-.2 1.41-.59l7.78-7.78 2.81-2.81c.8-.78.8-2.07 0-2.86zM5.41 20L4 18.59l7.72-7.72 1.47 1.35L5.41 20z\"/>\n",
              "  </svg>\n",
              "      </button>\n",
              "      \n",
              "  <style>\n",
              "    .colab-df-container {\n",
              "      display:flex;\n",
              "      flex-wrap:wrap;\n",
              "      gap: 12px;\n",
              "    }\n",
              "\n",
              "    .colab-df-convert {\n",
              "      background-color: #E8F0FE;\n",
              "      border: none;\n",
              "      border-radius: 50%;\n",
              "      cursor: pointer;\n",
              "      display: none;\n",
              "      fill: #1967D2;\n",
              "      height: 32px;\n",
              "      padding: 0 0 0 0;\n",
              "      width: 32px;\n",
              "    }\n",
              "\n",
              "    .colab-df-convert:hover {\n",
              "      background-color: #E2EBFA;\n",
              "      box-shadow: 0px 1px 2px rgba(60, 64, 67, 0.3), 0px 1px 3px 1px rgba(60, 64, 67, 0.15);\n",
              "      fill: #174EA6;\n",
              "    }\n",
              "\n",
              "    [theme=dark] .colab-df-convert {\n",
              "      background-color: #3B4455;\n",
              "      fill: #D2E3FC;\n",
              "    }\n",
              "\n",
              "    [theme=dark] .colab-df-convert:hover {\n",
              "      background-color: #434B5C;\n",
              "      box-shadow: 0px 1px 3px 1px rgba(0, 0, 0, 0.15);\n",
              "      filter: drop-shadow(0px 1px 2px rgba(0, 0, 0, 0.3));\n",
              "      fill: #FFFFFF;\n",
              "    }\n",
              "  </style>\n",
              "\n",
              "      <script>\n",
              "        const buttonEl =\n",
              "          document.querySelector('#df-754eda81-7ceb-425a-a883-0328052465d4 button.colab-df-convert');\n",
              "        buttonEl.style.display =\n",
              "          google.colab.kernel.accessAllowed ? 'block' : 'none';\n",
              "\n",
              "        async function convertToInteractive(key) {\n",
              "          const element = document.querySelector('#df-754eda81-7ceb-425a-a883-0328052465d4');\n",
              "          const dataTable =\n",
              "            await google.colab.kernel.invokeFunction('convertToInteractive',\n",
              "                                                     [key], {});\n",
              "          if (!dataTable) return;\n",
              "\n",
              "          const docLinkHtml = 'Like what you see? Visit the ' +\n",
              "            '<a target=\"_blank\" href=https://colab.research.google.com/notebooks/data_table.ipynb>data table notebook</a>'\n",
              "            + ' to learn more about interactive tables.';\n",
              "          element.innerHTML = '';\n",
              "          dataTable['output_type'] = 'display_data';\n",
              "          await google.colab.output.renderOutput(dataTable, element);\n",
              "          const docLink = document.createElement('div');\n",
              "          docLink.innerHTML = docLinkHtml;\n",
              "          element.appendChild(docLink);\n",
              "        }\n",
              "      </script>\n",
              "    </div>\n",
              "  </div>\n",
              "  "
            ]
          },
          "metadata": {},
          "execution_count": 34
        }
      ]
    },
    {
      "cell_type": "code",
      "source": [
        "patient_data.nunique(axis=0)"
      ],
      "metadata": {
        "id": "DEKmja49DEY_",
        "colab": {
          "base_uri": "https://localhost:8080/"
        },
        "outputId": "9bc78e0a-e530-45af-be23-5762b563df35"
      },
      "execution_count": 35,
      "outputs": [
        {
          "output_type": "execute_result",
          "data": {
            "text/plain": [
              "PATIENT                       1019\n",
              "PAT_GENDER                       2\n",
              "PAT_RACE                         5\n",
              "DIAGNOSIS                        3\n",
              "OVERALL_ENC_BASE_COST           27\n",
              "OVERALL_ENC_PAYER_COVERAGE      82\n",
              "NUMBER_ENCOUNTERS               26\n",
              "OVERALL_PRO_BASE_COST           77\n",
              "NUMBER_PROCEDURES               19\n",
              "OVERALL_MED_BASE_COST           98\n",
              "OVERALL_MED_DISPENSES           72\n",
              "OVERALL_MED_TOTAL_COST          98\n",
              "OVERALL_MED_PAYER_COVERAGE      21\n",
              "NUMBER_MEDICATIONS              13\n",
              "dtype: int64"
            ]
          },
          "metadata": {},
          "execution_count": 35
        }
      ]
    },
    {
      "cell_type": "markdown",
      "source": [
        "## Duplikate / doppelte Werte"
      ],
      "metadata": {
        "id": "mtl2vNqlCTsZ"
      }
    },
    {
      "cell_type": "code",
      "source": [
        "print(\"Anzahl doppelte Zeilen:\", patient_data.duplicated(patient_data.columns).sum())"
      ],
      "metadata": {
        "id": "-NyxdZ59DVbV",
        "colab": {
          "base_uri": "https://localhost:8080/"
        },
        "outputId": "96c4d6b8-5e2a-4b79-f751-82f6929bcfee"
      },
      "execution_count": 36,
      "outputs": [
        {
          "output_type": "stream",
          "name": "stdout",
          "text": [
            "Anzahl doppelte Zeilen: 0\n"
          ]
        }
      ]
    },
    {
      "cell_type": "code",
      "source": [
        "# Entfernen von doppelten Werten (erster Wert bleibt bestehen)\n",
        "patient_data.drop_duplicates(keep=\"first\",inplace=True) \n",
        "print(\"Größe des Datensatzes nach dem Entfernen von doppelten Zeilen:\", patient_data.shape)"
      ],
      "metadata": {
        "id": "bQReBDXHDbaW",
        "colab": {
          "base_uri": "https://localhost:8080/"
        },
        "outputId": "5bf07ecc-48bb-47ac-84fe-21c25a7ab5b5"
      },
      "execution_count": 37,
      "outputs": [
        {
          "output_type": "stream",
          "name": "stdout",
          "text": [
            "Größe des Datensatzes nach dem Entfernen von doppelten Zeilen: (1019, 14)\n"
          ]
        }
      ]
    },
    {
      "cell_type": "markdown",
      "source": [
        "## Vollständigkeit: Fehlende Werte (NULL / NaN)"
      ],
      "metadata": {
        "id": "RfHW4MijGdp5"
      }
    },
    {
      "cell_type": "code",
      "source": [
        "# Anteil von Nicht-NULL-Werten in jeder Spalte\n",
        "patient_data.count()/len(patient_data) * 100"
      ],
      "metadata": {
        "id": "h9BMaWX5DiO8",
        "colab": {
          "base_uri": "https://localhost:8080/"
        },
        "outputId": "b8945b7c-cbfe-473f-d64d-5ed12261fcff"
      },
      "execution_count": 38,
      "outputs": [
        {
          "output_type": "execute_result",
          "data": {
            "text/plain": [
              "PATIENT                       100.000000\n",
              "PAT_GENDER                    100.000000\n",
              "PAT_RACE                      100.000000\n",
              "DIAGNOSIS                     100.000000\n",
              "OVERALL_ENC_BASE_COST         100.000000\n",
              "OVERALL_ENC_PAYER_COVERAGE    100.000000\n",
              "NUMBER_ENCOUNTERS             100.000000\n",
              "OVERALL_PRO_BASE_COST           7.556428\n",
              "NUMBER_PROCEDURES             100.000000\n",
              "OVERALL_MED_BASE_COST           9.617272\n",
              "OVERALL_MED_DISPENSES           9.617272\n",
              "OVERALL_MED_TOTAL_COST          9.617272\n",
              "OVERALL_MED_PAYER_COVERAGE      9.617272\n",
              "NUMBER_MEDICATIONS            100.000000\n",
              "dtype: float64"
            ]
          },
          "metadata": {},
          "execution_count": 38
        }
      ]
    },
    {
      "cell_type": "code",
      "source": [
        "# Anzahl NULL-Werte pro Spalte\n",
        "patient_data.isnull().sum()"
      ],
      "metadata": {
        "id": "_9VJ8XC0Gv8p",
        "colab": {
          "base_uri": "https://localhost:8080/"
        },
        "outputId": "49e3f8d1-b208-4cd9-e10e-4e98ffc314da"
      },
      "execution_count": 39,
      "outputs": [
        {
          "output_type": "execute_result",
          "data": {
            "text/plain": [
              "PATIENT                         0\n",
              "PAT_GENDER                      0\n",
              "PAT_RACE                        0\n",
              "DIAGNOSIS                       0\n",
              "OVERALL_ENC_BASE_COST           0\n",
              "OVERALL_ENC_PAYER_COVERAGE      0\n",
              "NUMBER_ENCOUNTERS               0\n",
              "OVERALL_PRO_BASE_COST         942\n",
              "NUMBER_PROCEDURES               0\n",
              "OVERALL_MED_BASE_COST         921\n",
              "OVERALL_MED_DISPENSES         921\n",
              "OVERALL_MED_TOTAL_COST        921\n",
              "OVERALL_MED_PAYER_COVERAGE    921\n",
              "NUMBER_MEDICATIONS              0\n",
              "dtype: int64"
            ]
          },
          "metadata": {},
          "execution_count": 39
        }
      ]
    },
    {
      "cell_type": "markdown",
      "source": [
        "## Erstellen einer Kopie des Dataframes"
      ],
      "metadata": {
        "id": "M77kOHcUX3iR"
      }
    },
    {
      "cell_type": "code",
      "source": [
        "df = patient_data.copy()\n",
        "df.head()"
      ],
      "metadata": {
        "colab": {
          "base_uri": "https://localhost:8080/",
          "height": 270
        },
        "id": "tkohhSozYAio",
        "outputId": "b570ad38-e596-44f2-97fd-9fdaa93ae812"
      },
      "execution_count": 124,
      "outputs": [
        {
          "output_type": "execute_result",
          "data": {
            "text/plain": [
              "                                             PATIENT PAT_GENDER PAT_RACE  \\\n",
              "0  0018ce49a6843a6e3330cbbbb8eadd8ccdcdf0b94932d7...          F    white   \n",
              "1  00397419b24deefc22d3aa48f4411fe021652c5b9768b8...          F    white   \n",
              "2  006f1c1edfb28afb66d49adca0252e5b4c457374382232...          F    white   \n",
              "3  00828a545bd5103410c608ef66616c95b6df39b7f8ec2a...          F    white   \n",
              "4  00be4c5c175cc3ec49e5e943d2f854eb55f60e1ef5ed3f...          F    white   \n",
              "\n",
              "  DIAGNOSIS  OVERALL_ENC_BASE_COST  OVERALL_ENC_PAYER_COVERAGE  \\\n",
              "0      none                1162.44                     1162.44   \n",
              "1      none                1291.60                     1291.60   \n",
              "2      none                 774.96                      774.96   \n",
              "3     other                1420.76                     1320.76   \n",
              "4      none                 904.12                      904.12   \n",
              "\n",
              "   NUMBER_ENCOUNTERS  OVERALL_PRO_BASE_COST  NUMBER_PROCEDURES  \\\n",
              "0                  9                    NaN                  0   \n",
              "1                 10                    NaN                  0   \n",
              "2                  6                    NaN                  0   \n",
              "3                 11               54956.61                  3   \n",
              "4                  7                    NaN                  0   \n",
              "\n",
              "   OVERALL_MED_BASE_COST  OVERALL_MED_DISPENSES  OVERALL_MED_TOTAL_COST  \\\n",
              "0                    NaN                    NaN                     NaN   \n",
              "1                    NaN                    NaN                     NaN   \n",
              "2                    NaN                    NaN                     NaN   \n",
              "3                 124.02                    3.0                  124.02   \n",
              "4                    NaN                    NaN                     NaN   \n",
              "\n",
              "   OVERALL_MED_PAYER_COVERAGE  NUMBER_MEDICATIONS  \n",
              "0                         NaN                   0  \n",
              "1                         NaN                   0  \n",
              "2                         NaN                   0  \n",
              "3                         0.0                   3  \n",
              "4                         NaN                   0  "
            ],
            "text/html": [
              "\n",
              "  <div id=\"df-7e003d41-368d-4f29-a190-31fd46b549a7\">\n",
              "    <div class=\"colab-df-container\">\n",
              "      <div>\n",
              "<style scoped>\n",
              "    .dataframe tbody tr th:only-of-type {\n",
              "        vertical-align: middle;\n",
              "    }\n",
              "\n",
              "    .dataframe tbody tr th {\n",
              "        vertical-align: top;\n",
              "    }\n",
              "\n",
              "    .dataframe thead th {\n",
              "        text-align: right;\n",
              "    }\n",
              "</style>\n",
              "<table border=\"1\" class=\"dataframe\">\n",
              "  <thead>\n",
              "    <tr style=\"text-align: right;\">\n",
              "      <th></th>\n",
              "      <th>PATIENT</th>\n",
              "      <th>PAT_GENDER</th>\n",
              "      <th>PAT_RACE</th>\n",
              "      <th>DIAGNOSIS</th>\n",
              "      <th>OVERALL_ENC_BASE_COST</th>\n",
              "      <th>OVERALL_ENC_PAYER_COVERAGE</th>\n",
              "      <th>NUMBER_ENCOUNTERS</th>\n",
              "      <th>OVERALL_PRO_BASE_COST</th>\n",
              "      <th>NUMBER_PROCEDURES</th>\n",
              "      <th>OVERALL_MED_BASE_COST</th>\n",
              "      <th>OVERALL_MED_DISPENSES</th>\n",
              "      <th>OVERALL_MED_TOTAL_COST</th>\n",
              "      <th>OVERALL_MED_PAYER_COVERAGE</th>\n",
              "      <th>NUMBER_MEDICATIONS</th>\n",
              "    </tr>\n",
              "  </thead>\n",
              "  <tbody>\n",
              "    <tr>\n",
              "      <th>0</th>\n",
              "      <td>0018ce49a6843a6e3330cbbbb8eadd8ccdcdf0b94932d7...</td>\n",
              "      <td>F</td>\n",
              "      <td>white</td>\n",
              "      <td>none</td>\n",
              "      <td>1162.44</td>\n",
              "      <td>1162.44</td>\n",
              "      <td>9</td>\n",
              "      <td>NaN</td>\n",
              "      <td>0</td>\n",
              "      <td>NaN</td>\n",
              "      <td>NaN</td>\n",
              "      <td>NaN</td>\n",
              "      <td>NaN</td>\n",
              "      <td>0</td>\n",
              "    </tr>\n",
              "    <tr>\n",
              "      <th>1</th>\n",
              "      <td>00397419b24deefc22d3aa48f4411fe021652c5b9768b8...</td>\n",
              "      <td>F</td>\n",
              "      <td>white</td>\n",
              "      <td>none</td>\n",
              "      <td>1291.60</td>\n",
              "      <td>1291.60</td>\n",
              "      <td>10</td>\n",
              "      <td>NaN</td>\n",
              "      <td>0</td>\n",
              "      <td>NaN</td>\n",
              "      <td>NaN</td>\n",
              "      <td>NaN</td>\n",
              "      <td>NaN</td>\n",
              "      <td>0</td>\n",
              "    </tr>\n",
              "    <tr>\n",
              "      <th>2</th>\n",
              "      <td>006f1c1edfb28afb66d49adca0252e5b4c457374382232...</td>\n",
              "      <td>F</td>\n",
              "      <td>white</td>\n",
              "      <td>none</td>\n",
              "      <td>774.96</td>\n",
              "      <td>774.96</td>\n",
              "      <td>6</td>\n",
              "      <td>NaN</td>\n",
              "      <td>0</td>\n",
              "      <td>NaN</td>\n",
              "      <td>NaN</td>\n",
              "      <td>NaN</td>\n",
              "      <td>NaN</td>\n",
              "      <td>0</td>\n",
              "    </tr>\n",
              "    <tr>\n",
              "      <th>3</th>\n",
              "      <td>00828a545bd5103410c608ef66616c95b6df39b7f8ec2a...</td>\n",
              "      <td>F</td>\n",
              "      <td>white</td>\n",
              "      <td>other</td>\n",
              "      <td>1420.76</td>\n",
              "      <td>1320.76</td>\n",
              "      <td>11</td>\n",
              "      <td>54956.61</td>\n",
              "      <td>3</td>\n",
              "      <td>124.02</td>\n",
              "      <td>3.0</td>\n",
              "      <td>124.02</td>\n",
              "      <td>0.0</td>\n",
              "      <td>3</td>\n",
              "    </tr>\n",
              "    <tr>\n",
              "      <th>4</th>\n",
              "      <td>00be4c5c175cc3ec49e5e943d2f854eb55f60e1ef5ed3f...</td>\n",
              "      <td>F</td>\n",
              "      <td>white</td>\n",
              "      <td>none</td>\n",
              "      <td>904.12</td>\n",
              "      <td>904.12</td>\n",
              "      <td>7</td>\n",
              "      <td>NaN</td>\n",
              "      <td>0</td>\n",
              "      <td>NaN</td>\n",
              "      <td>NaN</td>\n",
              "      <td>NaN</td>\n",
              "      <td>NaN</td>\n",
              "      <td>0</td>\n",
              "    </tr>\n",
              "  </tbody>\n",
              "</table>\n",
              "</div>\n",
              "      <button class=\"colab-df-convert\" onclick=\"convertToInteractive('df-7e003d41-368d-4f29-a190-31fd46b549a7')\"\n",
              "              title=\"Convert this dataframe to an interactive table.\"\n",
              "              style=\"display:none;\">\n",
              "        \n",
              "  <svg xmlns=\"http://www.w3.org/2000/svg\" height=\"24px\"viewBox=\"0 0 24 24\"\n",
              "       width=\"24px\">\n",
              "    <path d=\"M0 0h24v24H0V0z\" fill=\"none\"/>\n",
              "    <path d=\"M18.56 5.44l.94 2.06.94-2.06 2.06-.94-2.06-.94-.94-2.06-.94 2.06-2.06.94zm-11 1L8.5 8.5l.94-2.06 2.06-.94-2.06-.94L8.5 2.5l-.94 2.06-2.06.94zm10 10l.94 2.06.94-2.06 2.06-.94-2.06-.94-.94-2.06-.94 2.06-2.06.94z\"/><path d=\"M17.41 7.96l-1.37-1.37c-.4-.4-.92-.59-1.43-.59-.52 0-1.04.2-1.43.59L10.3 9.45l-7.72 7.72c-.78.78-.78 2.05 0 2.83L4 21.41c.39.39.9.59 1.41.59.51 0 1.02-.2 1.41-.59l7.78-7.78 2.81-2.81c.8-.78.8-2.07 0-2.86zM5.41 20L4 18.59l7.72-7.72 1.47 1.35L5.41 20z\"/>\n",
              "  </svg>\n",
              "      </button>\n",
              "      \n",
              "  <style>\n",
              "    .colab-df-container {\n",
              "      display:flex;\n",
              "      flex-wrap:wrap;\n",
              "      gap: 12px;\n",
              "    }\n",
              "\n",
              "    .colab-df-convert {\n",
              "      background-color: #E8F0FE;\n",
              "      border: none;\n",
              "      border-radius: 50%;\n",
              "      cursor: pointer;\n",
              "      display: none;\n",
              "      fill: #1967D2;\n",
              "      height: 32px;\n",
              "      padding: 0 0 0 0;\n",
              "      width: 32px;\n",
              "    }\n",
              "\n",
              "    .colab-df-convert:hover {\n",
              "      background-color: #E2EBFA;\n",
              "      box-shadow: 0px 1px 2px rgba(60, 64, 67, 0.3), 0px 1px 3px 1px rgba(60, 64, 67, 0.15);\n",
              "      fill: #174EA6;\n",
              "    }\n",
              "\n",
              "    [theme=dark] .colab-df-convert {\n",
              "      background-color: #3B4455;\n",
              "      fill: #D2E3FC;\n",
              "    }\n",
              "\n",
              "    [theme=dark] .colab-df-convert:hover {\n",
              "      background-color: #434B5C;\n",
              "      box-shadow: 0px 1px 3px 1px rgba(0, 0, 0, 0.15);\n",
              "      filter: drop-shadow(0px 1px 2px rgba(0, 0, 0, 0.3));\n",
              "      fill: #FFFFFF;\n",
              "    }\n",
              "  </style>\n",
              "\n",
              "      <script>\n",
              "        const buttonEl =\n",
              "          document.querySelector('#df-7e003d41-368d-4f29-a190-31fd46b549a7 button.colab-df-convert');\n",
              "        buttonEl.style.display =\n",
              "          google.colab.kernel.accessAllowed ? 'block' : 'none';\n",
              "\n",
              "        async function convertToInteractive(key) {\n",
              "          const element = document.querySelector('#df-7e003d41-368d-4f29-a190-31fd46b549a7');\n",
              "          const dataTable =\n",
              "            await google.colab.kernel.invokeFunction('convertToInteractive',\n",
              "                                                     [key], {});\n",
              "          if (!dataTable) return;\n",
              "\n",
              "          const docLinkHtml = 'Like what you see? Visit the ' +\n",
              "            '<a target=\"_blank\" href=https://colab.research.google.com/notebooks/data_table.ipynb>data table notebook</a>'\n",
              "            + ' to learn more about interactive tables.';\n",
              "          element.innerHTML = '';\n",
              "          dataTable['output_type'] = 'display_data';\n",
              "          await google.colab.output.renderOutput(dataTable, element);\n",
              "          const docLink = document.createElement('div');\n",
              "          docLink.innerHTML = docLinkHtml;\n",
              "          element.appendChild(docLink);\n",
              "        }\n",
              "      </script>\n",
              "    </div>\n",
              "  </div>\n",
              "  "
            ]
          },
          "metadata": {},
          "execution_count": 124
        }
      ]
    },
    {
      "cell_type": "markdown",
      "source": [
        "## Säulendiagramm \"Gender\""
      ],
      "metadata": {
        "id": "scjIPebplG_r"
      }
    },
    {
      "cell_type": "code",
      "source": [
        "sns.countplot(x=\"PAT_GENDER\", data=df, )"
      ],
      "metadata": {
        "colab": {
          "base_uri": "https://localhost:8080/",
          "height": 297
        },
        "id": "itzIjCiNaDQy",
        "outputId": "0a9c5287-39bf-4841-a2b4-c359cfafa00a"
      },
      "execution_count": 41,
      "outputs": [
        {
          "output_type": "execute_result",
          "data": {
            "text/plain": [
              "<matplotlib.axes._subplots.AxesSubplot at 0x7f1d31fda0a0>"
            ]
          },
          "metadata": {},
          "execution_count": 41
        },
        {
          "output_type": "display_data",
          "data": {
            "text/plain": [
              "<Figure size 432x288 with 1 Axes>"
            ],
            "image/png": "[encoded data removed]"
          },
          "metadata": {
            "needs_background": "light"
          }
        }
      ]
    },
    {
      "cell_type": "markdown",
      "source": [
        "Ausgeglichene Anzahl von weiblichen und männlichen Patienten."
      ],
      "metadata": {
        "id": "q5jupg1iEbi6"
      }
    },
    {
      "cell_type": "markdown",
      "source": [
        "## Säulendiagramm \"Diagnosen\""
      ],
      "metadata": {
        "id": "I_XxvI8ndlPB"
      }
    },
    {
      "cell_type": "code",
      "source": [
        "sns.countplot(x=\"DIAGNOSIS\", data=df)"
      ],
      "metadata": {
        "colab": {
          "base_uri": "https://localhost:8080/",
          "height": 297
        },
        "id": "W_UIvyTBdpwX",
        "outputId": "b0d9b2e2-90bb-4111-b474-4d6ecaeeae84"
      },
      "execution_count": 42,
      "outputs": [
        {
          "output_type": "execute_result",
          "data": {
            "text/plain": [
              "<matplotlib.axes._subplots.AxesSubplot at 0x7f1d3219a8e0>"
            ]
          },
          "metadata": {},
          "execution_count": 42
        },
        {
          "output_type": "display_data",
          "data": {
            "text/plain": [
              "<Figure size 432x288 with 1 Axes>"
            ],
            "image/png": "[encoded data removed]"
          },
          "metadata": {
            "needs_background": "light"
          }
        }
      ]
    },
    {
      "cell_type": "markdown",
      "source": [
        "Bei den meisten Patienten wurde keine Diagnose gestellt (none). Bei ca.150 Patienten wurde eine Diagnose gestellt, die aber nicht Brustkrebs war. Und nur bei sehr wenigen Patienten ergab sich die Diagnose Brustkrebs."
      ],
      "metadata": {
        "id": "zuqT4cAAEjN3"
      }
    },
    {
      "cell_type": "markdown",
      "source": [
        "## Säulendiagramm \"Ethnicity\""
      ],
      "metadata": {
        "id": "H0wvp90heIDz"
      }
    },
    {
      "cell_type": "code",
      "source": [
        "sns.countplot(x=\"PAT_RACE\", data=df)"
      ],
      "metadata": {
        "colab": {
          "base_uri": "https://localhost:8080/",
          "height": 297
        },
        "id": "co3DOUn8eHXZ",
        "outputId": "6b8745a1-2230-47e4-99dc-d3cfeee07883"
      },
      "execution_count": 43,
      "outputs": [
        {
          "output_type": "execute_result",
          "data": {
            "text/plain": [
              "<matplotlib.axes._subplots.AxesSubplot at 0x7f1d31f6ca90>"
            ]
          },
          "metadata": {},
          "execution_count": 43
        },
        {
          "output_type": "display_data",
          "data": {
            "text/plain": [
              "<Figure size 432x288 with 1 Axes>"
            ],
            "image/png": "[encoded data removed]"
          },
          "metadata": {
            "needs_background": "light"
          }
        }
      ]
    },
    {
      "cell_type": "markdown",
      "source": [
        "Dieses Säulendiagramm zeigt, dass die meisten Patienten kaukasischer Abstammung waren. Andere Ethnien kamen nur in Ausnahmefällen vor. (Es müsste hier eine Normalisierung stattfinden, d.h. die gesamte Anzahl der Personen unterschiedlicher Ethnien müsste mit dem Patientenklientel verglichen werden.) "
      ],
      "metadata": {
        "id": "P7YD4TxOE13-"
      }
    },
    {
      "cell_type": "markdown",
      "source": [
        "## Anzahl der Arztbesuche pro Diagnose"
      ],
      "metadata": {
        "id": "scNjzc4Ghsqn"
      }
    },
    {
      "cell_type": "code",
      "source": [
        "df.plot(kind='scatter', y = ('NUMBER_ENCOUNTERS'), x='DIAGNOSIS')"
      ],
      "metadata": {
        "colab": {
          "base_uri": "https://localhost:8080/",
          "height": 297
        },
        "id": "-OoTJfG_hDcN",
        "outputId": "aa7fcfc1-3d09-4313-8dc2-c6009c4cc3f0"
      },
      "execution_count": 44,
      "outputs": [
        {
          "output_type": "execute_result",
          "data": {
            "text/plain": [
              "<matplotlib.axes._subplots.AxesSubplot at 0x7f1d3199a760>"
            ]
          },
          "metadata": {},
          "execution_count": 44
        },
        {
          "output_type": "display_data",
          "data": {
            "text/plain": [
              "<Figure size 432x288 with 1 Axes>"
            ],
            "image/png": "[encoded data removed]"
          },
          "metadata": {
            "needs_background": "light"
          }
        }
      ]
    },
    {
      "cell_type": "markdown",
      "source": [
        "Es zeigt sich hier, dass Patienten mit Brustkrebs deutlich öfter einen Arzt aufsuchen als Patienten mit anderer oder keiner Diagnose."
      ],
      "metadata": {
        "id": "SytiTAKSFT9p"
      }
    },
    {
      "cell_type": "markdown",
      "source": [
        "## Ausgaben für Medikamente für die unterschiedlichen Diagnosen"
      ],
      "metadata": {
        "id": "Cns84WvYh29y"
      }
    },
    {
      "cell_type": "code",
      "source": [
        "df.plot(kind='scatter', y = ('OVERALL_MED_TOTAL_COST'), x='DIAGNOSIS')"
      ],
      "metadata": {
        "colab": {
          "base_uri": "https://localhost:8080/",
          "height": 297
        },
        "id": "4O8eYcP0hq-5",
        "outputId": "faf5e9e1-157a-4ca2-e69c-13b14fa8aad3"
      },
      "execution_count": 46,
      "outputs": [
        {
          "output_type": "execute_result",
          "data": {
            "text/plain": [
              "<matplotlib.axes._subplots.AxesSubplot at 0x7f1d31988b50>"
            ]
          },
          "metadata": {},
          "execution_count": 46
        },
        {
          "output_type": "display_data",
          "data": {
            "text/plain": [
              "<Figure size 432x288 with 1 Axes>"
            ],
            "image/png": "[encoded data removed]"
          },
          "metadata": {
            "needs_background": "light"
          }
        }
      ]
    },
    {
      "cell_type": "markdown",
      "source": [
        "Die Ausgaben für Medikamente lassen keine Aussagen zu, um welche Diagnose es sich handelt."
      ],
      "metadata": {
        "id": "51_3XyMwFgdd"
      }
    },
    {
      "cell_type": "markdown",
      "source": [
        "## Berechnung der Kosten, die die Patienten mit den verschiedenen Diagnosen tragen müssen."
      ],
      "metadata": {
        "id": "R_BkUfBSFszs"
      }
    },
    {
      "cell_type": "markdown",
      "source": [
        "Hier eine Aufstellung wieviel die Medikamente insgesamt kosten und welcher Anteil von der Versicherung übernommen wird."
      ],
      "metadata": {
        "id": "T4L-Q_zLF1UX"
      }
    },
    {
      "cell_type": "code",
      "source": [
        "df.groupby('DIAGNOSIS')['OVERALL_MED_TOTAL_COST', 'OVERALL_MED_PAYER_COVERAGE'].mean()"
      ],
      "metadata": {
        "colab": {
          "base_uri": "https://localhost:8080/",
          "height": 230
        },
        "id": "vul-lbJHpJUi",
        "outputId": "bd081028-9648-4bac-a2f8-d80699754376"
      },
      "execution_count": 47,
      "outputs": [
        {
          "output_type": "stream",
          "name": "stderr",
          "text": [
            "<ipython-input-47-871ff73b6c82>:1: FutureWarning: Indexing with multiple keys (implicitly converted to a tuple of keys) will be deprecated, use a list instead.\n",
            "  df.groupby('DIAGNOSIS')['OVERALL_MED_TOTAL_COST', 'OVERALL_MED_PAYER_COVERAGE'].mean()\n"
          ]
        },
        {
          "output_type": "execute_result",
          "data": {
            "text/plain": [
              "               OVERALL_MED_TOTAL_COST  OVERALL_MED_PAYER_COVERAGE\n",
              "DIAGNOSIS                                                        \n",
              "breast_cancer            46030.308333                    0.000000\n",
              "none                              NaN                         NaN\n",
              "other                    35100.145000                  933.639891"
            ],
            "text/html": [
              "\n",
              "  <div id=\"df-a4dc8595-8e35-4390-a2df-90236c851055\">\n",
              "    <div class=\"colab-df-container\">\n",
              "      <div>\n",
              "<style scoped>\n",
              "    .dataframe tbody tr th:only-of-type {\n",
              "        vertical-align: middle;\n",
              "    }\n",
              "\n",
              "    .dataframe tbody tr th {\n",
              "        vertical-align: top;\n",
              "    }\n",
              "\n",
              "    .dataframe thead th {\n",
              "        text-align: right;\n",
              "    }\n",
              "</style>\n",
              "<table border=\"1\" class=\"dataframe\">\n",
              "  <thead>\n",
              "    <tr style=\"text-align: right;\">\n",
              "      <th></th>\n",
              "      <th>OVERALL_MED_TOTAL_COST</th>\n",
              "      <th>OVERALL_MED_PAYER_COVERAGE</th>\n",
              "    </tr>\n",
              "    <tr>\n",
              "      <th>DIAGNOSIS</th>\n",
              "      <th></th>\n",
              "      <th></th>\n",
              "    </tr>\n",
              "  </thead>\n",
              "  <tbody>\n",
              "    <tr>\n",
              "      <th>breast_cancer</th>\n",
              "      <td>46030.308333</td>\n",
              "      <td>0.000000</td>\n",
              "    </tr>\n",
              "    <tr>\n",
              "      <th>none</th>\n",
              "      <td>NaN</td>\n",
              "      <td>NaN</td>\n",
              "    </tr>\n",
              "    <tr>\n",
              "      <th>other</th>\n",
              "      <td>35100.145000</td>\n",
              "      <td>933.639891</td>\n",
              "    </tr>\n",
              "  </tbody>\n",
              "</table>\n",
              "</div>\n",
              "      <button class=\"colab-df-convert\" onclick=\"convertToInteractive('df-a4dc8595-8e35-4390-a2df-90236c851055')\"\n",
              "              title=\"Convert this dataframe to an interactive table.\"\n",
              "              style=\"display:none;\">\n",
              "        \n",
              "  <svg xmlns=\"http://www.w3.org/2000/svg\" height=\"24px\"viewBox=\"0 0 24 24\"\n",
              "       width=\"24px\">\n",
              "    <path d=\"M0 0h24v24H0V0z\" fill=\"none\"/>\n",
              "    <path d=\"M18.56 5.44l.94 2.06.94-2.06 2.06-.94-2.06-.94-.94-2.06-.94 2.06-2.06.94zm-11 1L8.5 8.5l.94-2.06 2.06-.94-2.06-.94L8.5 2.5l-.94 2.06-2.06.94zm10 10l.94 2.06.94-2.06 2.06-.94-2.06-.94-.94-2.06-.94 2.06-2.06.94z\"/><path d=\"M17.41 7.96l-1.37-1.37c-.4-.4-.92-.59-1.43-.59-.52 0-1.04.2-1.43.59L10.3 9.45l-7.72 7.72c-.78.78-.78 2.05 0 2.83L4 21.41c.39.39.9.59 1.41.59.51 0 1.02-.2 1.41-.59l7.78-7.78 2.81-2.81c.8-.78.8-2.07 0-2.86zM5.41 20L4 18.59l7.72-7.72 1.47 1.35L5.41 20z\"/>\n",
              "  </svg>\n",
              "      </button>\n",
              "      \n",
              "  <style>\n",
              "    .colab-df-container {\n",
              "      display:flex;\n",
              "      flex-wrap:wrap;\n",
              "      gap: 12px;\n",
              "    }\n",
              "\n",
              "    .colab-df-convert {\n",
              "      background-color: #E8F0FE;\n",
              "      border: none;\n",
              "      border-radius: 50%;\n",
              "      cursor: pointer;\n",
              "      display: none;\n",
              "      fill: #1967D2;\n",
              "      height: 32px;\n",
              "      padding: 0 0 0 0;\n",
              "      width: 32px;\n",
              "    }\n",
              "\n",
              "    .colab-df-convert:hover {\n",
              "      background-color: #E2EBFA;\n",
              "      box-shadow: 0px 1px 2px rgba(60, 64, 67, 0.3), 0px 1px 3px 1px rgba(60, 64, 67, 0.15);\n",
              "      fill: #174EA6;\n",
              "    }\n",
              "\n",
              "    [theme=dark] .colab-df-convert {\n",
              "      background-color: #3B4455;\n",
              "      fill: #D2E3FC;\n",
              "    }\n",
              "\n",
              "    [theme=dark] .colab-df-convert:hover {\n",
              "      background-color: #434B5C;\n",
              "      box-shadow: 0px 1px 3px 1px rgba(0, 0, 0, 0.15);\n",
              "      filter: drop-shadow(0px 1px 2px rgba(0, 0, 0, 0.3));\n",
              "      fill: #FFFFFF;\n",
              "    }\n",
              "  </style>\n",
              "\n",
              "      <script>\n",
              "        const buttonEl =\n",
              "          document.querySelector('#df-a4dc8595-8e35-4390-a2df-90236c851055 button.colab-df-convert');\n",
              "        buttonEl.style.display =\n",
              "          google.colab.kernel.accessAllowed ? 'block' : 'none';\n",
              "\n",
              "        async function convertToInteractive(key) {\n",
              "          const element = document.querySelector('#df-a4dc8595-8e35-4390-a2df-90236c851055');\n",
              "          const dataTable =\n",
              "            await google.colab.kernel.invokeFunction('convertToInteractive',\n",
              "                                                     [key], {});\n",
              "          if (!dataTable) return;\n",
              "\n",
              "          const docLinkHtml = 'Like what you see? Visit the ' +\n",
              "            '<a target=\"_blank\" href=https://colab.research.google.com/notebooks/data_table.ipynb>data table notebook</a>'\n",
              "            + ' to learn more about interactive tables.';\n",
              "          element.innerHTML = '';\n",
              "          dataTable['output_type'] = 'display_data';\n",
              "          await google.colab.output.renderOutput(dataTable, element);\n",
              "          const docLink = document.createElement('div');\n",
              "          docLink.innerHTML = docLinkHtml;\n",
              "          element.appendChild(docLink);\n",
              "        }\n",
              "      </script>\n",
              "    </div>\n",
              "  </div>\n",
              "  "
            ]
          },
          "metadata": {},
          "execution_count": 47
        }
      ]
    },
    {
      "cell_type": "markdown",
      "source": [
        "Hier eine Aufstellung wieviel die Arztbesuche insgesamt kosten und wieviel von den Versicherungen übernommen wird."
      ],
      "metadata": {
        "id": "_F8GVifXGA8P"
      }
    },
    {
      "cell_type": "code",
      "source": [
        "df.groupby('DIAGNOSIS')['OVERALL_ENC_BASE_COST', 'OVERALL_ENC_PAYER_COVERAGE'].mean()"
      ],
      "metadata": {
        "colab": {
          "base_uri": "https://localhost:8080/",
          "height": 230
        },
        "id": "8NCkjqpgsHWq",
        "outputId": "eb4318df-9755-473c-93bd-7f86fb3886dc"
      },
      "execution_count": 51,
      "outputs": [
        {
          "output_type": "stream",
          "name": "stderr",
          "text": [
            "<ipython-input-51-55b4a751457e>:1: FutureWarning: Indexing with multiple keys (implicitly converted to a tuple of keys) will be deprecated, use a list instead.\n",
            "  df.groupby('DIAGNOSIS')['OVERALL_ENC_BASE_COST', 'OVERALL_ENC_PAYER_COVERAGE'].mean()\n"
          ]
        },
        {
          "output_type": "execute_result",
          "data": {
            "text/plain": [
              "               OVERALL_ENC_BASE_COST  OVERALL_ENC_PAYER_COVERAGE\n",
              "DIAGNOSIS                                                       \n",
              "breast_cancer            6305.258182                 2990.123636\n",
              "none                      980.973122                  908.649367\n",
              "other                    1333.264516                 1126.682903"
            ],
            "text/html": [
              "\n",
              "  <div id=\"df-af0fd917-15ad-4e2c-85b5-bcbb189bf8eb\">\n",
              "    <div class=\"colab-df-container\">\n",
              "      <div>\n",
              "<style scoped>\n",
              "    .dataframe tbody tr th:only-of-type {\n",
              "        vertical-align: middle;\n",
              "    }\n",
              "\n",
              "    .dataframe tbody tr th {\n",
              "        vertical-align: top;\n",
              "    }\n",
              "\n",
              "    .dataframe thead th {\n",
              "        text-align: right;\n",
              "    }\n",
              "</style>\n",
              "<table border=\"1\" class=\"dataframe\">\n",
              "  <thead>\n",
              "    <tr style=\"text-align: right;\">\n",
              "      <th></th>\n",
              "      <th>OVERALL_ENC_BASE_COST</th>\n",
              "      <th>OVERALL_ENC_PAYER_COVERAGE</th>\n",
              "    </tr>\n",
              "    <tr>\n",
              "      <th>DIAGNOSIS</th>\n",
              "      <th></th>\n",
              "      <th></th>\n",
              "    </tr>\n",
              "  </thead>\n",
              "  <tbody>\n",
              "    <tr>\n",
              "      <th>breast_cancer</th>\n",
              "      <td>6305.258182</td>\n",
              "      <td>2990.123636</td>\n",
              "    </tr>\n",
              "    <tr>\n",
              "      <th>none</th>\n",
              "      <td>980.973122</td>\n",
              "      <td>908.649367</td>\n",
              "    </tr>\n",
              "    <tr>\n",
              "      <th>other</th>\n",
              "      <td>1333.264516</td>\n",
              "      <td>1126.682903</td>\n",
              "    </tr>\n",
              "  </tbody>\n",
              "</table>\n",
              "</div>\n",
              "      <button class=\"colab-df-convert\" onclick=\"convertToInteractive('df-af0fd917-15ad-4e2c-85b5-bcbb189bf8eb')\"\n",
              "              title=\"Convert this dataframe to an interactive table.\"\n",
              "              style=\"display:none;\">\n",
              "        \n",
              "  <svg xmlns=\"http://www.w3.org/2000/svg\" height=\"24px\"viewBox=\"0 0 24 24\"\n",
              "       width=\"24px\">\n",
              "    <path d=\"M0 0h24v24H0V0z\" fill=\"none\"/>\n",
              "    <path d=\"M18.56 5.44l.94 2.06.94-2.06 2.06-.94-2.06-.94-.94-2.06-.94 2.06-2.06.94zm-11 1L8.5 8.5l.94-2.06 2.06-.94-2.06-.94L8.5 2.5l-.94 2.06-2.06.94zm10 10l.94 2.06.94-2.06 2.06-.94-2.06-.94-.94-2.06-.94 2.06-2.06.94z\"/><path d=\"M17.41 7.96l-1.37-1.37c-.4-.4-.92-.59-1.43-.59-.52 0-1.04.2-1.43.59L10.3 9.45l-7.72 7.72c-.78.78-.78 2.05 0 2.83L4 21.41c.39.39.9.59 1.41.59.51 0 1.02-.2 1.41-.59l7.78-7.78 2.81-2.81c.8-.78.8-2.07 0-2.86zM5.41 20L4 18.59l7.72-7.72 1.47 1.35L5.41 20z\"/>\n",
              "  </svg>\n",
              "      </button>\n",
              "      \n",
              "  <style>\n",
              "    .colab-df-container {\n",
              "      display:flex;\n",
              "      flex-wrap:wrap;\n",
              "      gap: 12px;\n",
              "    }\n",
              "\n",
              "    .colab-df-convert {\n",
              "      background-color: #E8F0FE;\n",
              "      border: none;\n",
              "      border-radius: 50%;\n",
              "      cursor: pointer;\n",
              "      display: none;\n",
              "      fill: #1967D2;\n",
              "      height: 32px;\n",
              "      padding: 0 0 0 0;\n",
              "      width: 32px;\n",
              "    }\n",
              "\n",
              "    .colab-df-convert:hover {\n",
              "      background-color: #E2EBFA;\n",
              "      box-shadow: 0px 1px 2px rgba(60, 64, 67, 0.3), 0px 1px 3px 1px rgba(60, 64, 67, 0.15);\n",
              "      fill: #174EA6;\n",
              "    }\n",
              "\n",
              "    [theme=dark] .colab-df-convert {\n",
              "      background-color: #3B4455;\n",
              "      fill: #D2E3FC;\n",
              "    }\n",
              "\n",
              "    [theme=dark] .colab-df-convert:hover {\n",
              "      background-color: #434B5C;\n",
              "      box-shadow: 0px 1px 3px 1px rgba(0, 0, 0, 0.15);\n",
              "      filter: drop-shadow(0px 1px 2px rgba(0, 0, 0, 0.3));\n",
              "      fill: #FFFFFF;\n",
              "    }\n",
              "  </style>\n",
              "\n",
              "      <script>\n",
              "        const buttonEl =\n",
              "          document.querySelector('#df-af0fd917-15ad-4e2c-85b5-bcbb189bf8eb button.colab-df-convert');\n",
              "        buttonEl.style.display =\n",
              "          google.colab.kernel.accessAllowed ? 'block' : 'none';\n",
              "\n",
              "        async function convertToInteractive(key) {\n",
              "          const element = document.querySelector('#df-af0fd917-15ad-4e2c-85b5-bcbb189bf8eb');\n",
              "          const dataTable =\n",
              "            await google.colab.kernel.invokeFunction('convertToInteractive',\n",
              "                                                     [key], {});\n",
              "          if (!dataTable) return;\n",
              "\n",
              "          const docLinkHtml = 'Like what you see? Visit the ' +\n",
              "            '<a target=\"_blank\" href=https://colab.research.google.com/notebooks/data_table.ipynb>data table notebook</a>'\n",
              "            + ' to learn more about interactive tables.';\n",
              "          element.innerHTML = '';\n",
              "          dataTable['output_type'] = 'display_data';\n",
              "          await google.colab.output.renderOutput(dataTable, element);\n",
              "          const docLink = document.createElement('div');\n",
              "          docLink.innerHTML = docLinkHtml;\n",
              "          element.appendChild(docLink);\n",
              "        }\n",
              "      </script>\n",
              "    </div>\n",
              "  </div>\n",
              "  "
            ]
          },
          "metadata": {},
          "execution_count": 51
        }
      ]
    },
    {
      "cell_type": "code",
      "source": [
        "groupby_obj = df.groupby('DIAGNOSIS')"
      ],
      "metadata": {
        "id": "kqk7vS2Jxfww"
      },
      "execution_count": 52,
      "outputs": []
    },
    {
      "cell_type": "code",
      "source": [
        "groupby_obj.mean()"
      ],
      "metadata": {
        "colab": {
          "base_uri": "https://localhost:8080/",
          "height": 239
        },
        "id": "_24mleMyyLcC",
        "outputId": "ffda9e2e-b5da-4ad2-b9f3-3c17d8752cff"
      },
      "execution_count": 53,
      "outputs": [
        {
          "output_type": "execute_result",
          "data": {
            "text/plain": [
              "               OVERALL_ENC_BASE_COST  OVERALL_ENC_PAYER_COVERAGE  \\\n",
              "DIAGNOSIS                                                          \n",
              "breast_cancer            6305.258182                 2990.123636   \n",
              "none                      980.973122                  908.649367   \n",
              "other                    1333.264516                 1126.682903   \n",
              "\n",
              "               NUMBER_ENCOUNTERS  OVERALL_PRO_BASE_COST  NUMBER_PROCEDURES  \\\n",
              "DIAGNOSIS                                                                    \n",
              "breast_cancer          55.363636          129269.329091          42.545455   \n",
              "none                    7.595023                    NaN           0.000000   \n",
              "other                  10.322581           96145.761212           2.241935   \n",
              "\n",
              "               OVERALL_MED_BASE_COST  OVERALL_MED_DISPENSES  \\\n",
              "DIAGNOSIS                                                     \n",
              "breast_cancer           27832.935000             233.666667   \n",
              "none                             NaN                    NaN   \n",
              "other                    1551.801957             418.717391   \n",
              "\n",
              "               OVERALL_MED_TOTAL_COST  OVERALL_MED_PAYER_COVERAGE  \\\n",
              "DIAGNOSIS                                                           \n",
              "breast_cancer            46030.308333                    0.000000   \n",
              "none                              NaN                         NaN   \n",
              "other                    35100.145000                  933.639891   \n",
              "\n",
              "               NUMBER_MEDICATIONS  \n",
              "DIAGNOSIS                          \n",
              "breast_cancer            5.818182  \n",
              "none                     0.000000  \n",
              "other                    2.927419  "
            ],
            "text/html": [
              "\n",
              "  <div id=\"df-968f9c19-dda9-47f9-a7dd-89ecdd69d0bd\">\n",
              "    <div class=\"colab-df-container\">\n",
              "      <div>\n",
              "<style scoped>\n",
              "    .dataframe tbody tr th:only-of-type {\n",
              "        vertical-align: middle;\n",
              "    }\n",
              "\n",
              "    .dataframe tbody tr th {\n",
              "        vertical-align: top;\n",
              "    }\n",
              "\n",
              "    .dataframe thead th {\n",
              "        text-align: right;\n",
              "    }\n",
              "</style>\n",
              "<table border=\"1\" class=\"dataframe\">\n",
              "  <thead>\n",
              "    <tr style=\"text-align: right;\">\n",
              "      <th></th>\n",
              "      <th>OVERALL_ENC_BASE_COST</th>\n",
              "      <th>OVERALL_ENC_PAYER_COVERAGE</th>\n",
              "      <th>NUMBER_ENCOUNTERS</th>\n",
              "      <th>OVERALL_PRO_BASE_COST</th>\n",
              "      <th>NUMBER_PROCEDURES</th>\n",
              "      <th>OVERALL_MED_BASE_COST</th>\n",
              "      <th>OVERALL_MED_DISPENSES</th>\n",
              "      <th>OVERALL_MED_TOTAL_COST</th>\n",
              "      <th>OVERALL_MED_PAYER_COVERAGE</th>\n",
              "      <th>NUMBER_MEDICATIONS</th>\n",
              "    </tr>\n",
              "    <tr>\n",
              "      <th>DIAGNOSIS</th>\n",
              "      <th></th>\n",
              "      <th></th>\n",
              "      <th></th>\n",
              "      <th></th>\n",
              "      <th></th>\n",
              "      <th></th>\n",
              "      <th></th>\n",
              "      <th></th>\n",
              "      <th></th>\n",
              "      <th></th>\n",
              "    </tr>\n",
              "  </thead>\n",
              "  <tbody>\n",
              "    <tr>\n",
              "      <th>breast_cancer</th>\n",
              "      <td>6305.258182</td>\n",
              "      <td>2990.123636</td>\n",
              "      <td>55.363636</td>\n",
              "      <td>129269.329091</td>\n",
              "      <td>42.545455</td>\n",
              "      <td>27832.935000</td>\n",
              "      <td>233.666667</td>\n",
              "      <td>46030.308333</td>\n",
              "      <td>0.000000</td>\n",
              "      <td>5.818182</td>\n",
              "    </tr>\n",
              "    <tr>\n",
              "      <th>none</th>\n",
              "      <td>980.973122</td>\n",
              "      <td>908.649367</td>\n",
              "      <td>7.595023</td>\n",
              "      <td>NaN</td>\n",
              "      <td>0.000000</td>\n",
              "      <td>NaN</td>\n",
              "      <td>NaN</td>\n",
              "      <td>NaN</td>\n",
              "      <td>NaN</td>\n",
              "      <td>0.000000</td>\n",
              "    </tr>\n",
              "    <tr>\n",
              "      <th>other</th>\n",
              "      <td>1333.264516</td>\n",
              "      <td>1126.682903</td>\n",
              "      <td>10.322581</td>\n",
              "      <td>96145.761212</td>\n",
              "      <td>2.241935</td>\n",
              "      <td>1551.801957</td>\n",
              "      <td>418.717391</td>\n",
              "      <td>35100.145000</td>\n",
              "      <td>933.639891</td>\n",
              "      <td>2.927419</td>\n",
              "    </tr>\n",
              "  </tbody>\n",
              "</table>\n",
              "</div>\n",
              "      <button class=\"colab-df-convert\" onclick=\"convertToInteractive('df-968f9c19-dda9-47f9-a7dd-89ecdd69d0bd')\"\n",
              "              title=\"Convert this dataframe to an interactive table.\"\n",
              "              style=\"display:none;\">\n",
              "        \n",
              "  <svg xmlns=\"http://www.w3.org/2000/svg\" height=\"24px\"viewBox=\"0 0 24 24\"\n",
              "       width=\"24px\">\n",
              "    <path d=\"M0 0h24v24H0V0z\" fill=\"none\"/>\n",
              "    <path d=\"M18.56 5.44l.94 2.06.94-2.06 2.06-.94-2.06-.94-.94-2.06-.94 2.06-2.06.94zm-11 1L8.5 8.5l.94-2.06 2.06-.94-2.06-.94L8.5 2.5l-.94 2.06-2.06.94zm10 10l.94 2.06.94-2.06 2.06-.94-2.06-.94-.94-2.06-.94 2.06-2.06.94z\"/><path d=\"M17.41 7.96l-1.37-1.37c-.4-.4-.92-.59-1.43-.59-.52 0-1.04.2-1.43.59L10.3 9.45l-7.72 7.72c-.78.78-.78 2.05 0 2.83L4 21.41c.39.39.9.59 1.41.59.51 0 1.02-.2 1.41-.59l7.78-7.78 2.81-2.81c.8-.78.8-2.07 0-2.86zM5.41 20L4 18.59l7.72-7.72 1.47 1.35L5.41 20z\"/>\n",
              "  </svg>\n",
              "      </button>\n",
              "      \n",
              "  <style>\n",
              "    .colab-df-container {\n",
              "      display:flex;\n",
              "      flex-wrap:wrap;\n",
              "      gap: 12px;\n",
              "    }\n",
              "\n",
              "    .colab-df-convert {\n",
              "      background-color: #E8F0FE;\n",
              "      border: none;\n",
              "      border-radius: 50%;\n",
              "      cursor: pointer;\n",
              "      display: none;\n",
              "      fill: #1967D2;\n",
              "      height: 32px;\n",
              "      padding: 0 0 0 0;\n",
              "      width: 32px;\n",
              "    }\n",
              "\n",
              "    .colab-df-convert:hover {\n",
              "      background-color: #E2EBFA;\n",
              "      box-shadow: 0px 1px 2px rgba(60, 64, 67, 0.3), 0px 1px 3px 1px rgba(60, 64, 67, 0.15);\n",
              "      fill: #174EA6;\n",
              "    }\n",
              "\n",
              "    [theme=dark] .colab-df-convert {\n",
              "      background-color: #3B4455;\n",
              "      fill: #D2E3FC;\n",
              "    }\n",
              "\n",
              "    [theme=dark] .colab-df-convert:hover {\n",
              "      background-color: #434B5C;\n",
              "      box-shadow: 0px 1px 3px 1px rgba(0, 0, 0, 0.15);\n",
              "      filter: drop-shadow(0px 1px 2px rgba(0, 0, 0, 0.3));\n",
              "      fill: #FFFFFF;\n",
              "    }\n",
              "  </style>\n",
              "\n",
              "      <script>\n",
              "        const buttonEl =\n",
              "          document.querySelector('#df-968f9c19-dda9-47f9-a7dd-89ecdd69d0bd button.colab-df-convert');\n",
              "        buttonEl.style.display =\n",
              "          google.colab.kernel.accessAllowed ? 'block' : 'none';\n",
              "\n",
              "        async function convertToInteractive(key) {\n",
              "          const element = document.querySelector('#df-968f9c19-dda9-47f9-a7dd-89ecdd69d0bd');\n",
              "          const dataTable =\n",
              "            await google.colab.kernel.invokeFunction('convertToInteractive',\n",
              "                                                     [key], {});\n",
              "          if (!dataTable) return;\n",
              "\n",
              "          const docLinkHtml = 'Like what you see? Visit the ' +\n",
              "            '<a target=\"_blank\" href=https://colab.research.google.com/notebooks/data_table.ipynb>data table notebook</a>'\n",
              "            + ' to learn more about interactive tables.';\n",
              "          element.innerHTML = '';\n",
              "          dataTable['output_type'] = 'display_data';\n",
              "          await google.colab.output.renderOutput(dataTable, element);\n",
              "          const docLink = document.createElement('div');\n",
              "          docLink.innerHTML = docLinkHtml;\n",
              "          element.appendChild(docLink);\n",
              "        }\n",
              "      </script>\n",
              "    </div>\n",
              "  </div>\n",
              "  "
            ]
          },
          "metadata": {},
          "execution_count": 53
        }
      ]
    },
    {
      "cell_type": "code",
      "source": [
        "groupby_obj.mean().plot(kind='bar')"
      ],
      "metadata": {
        "colab": {
          "base_uri": "https://localhost:8080/",
          "height": 370
        },
        "id": "44_KDj8AzxNs",
        "outputId": "4a7b289e-30f0-4b87-f52e-fae4424504e0"
      },
      "execution_count": 54,
      "outputs": [
        {
          "output_type": "execute_result",
          "data": {
            "text/plain": [
              "<matplotlib.axes._subplots.AxesSubplot at 0x7f1d287d3c70>"
            ]
          },
          "metadata": {},
          "execution_count": 54
        },
        {
          "output_type": "display_data",
          "data": {
            "text/plain": [
              "<Figure size 432x288 with 1 Axes>"
            ],
            "image/png": "[encoded data removed]"
          },
          "metadata": {}
        }
      ]
    },
    {
      "cell_type": "markdown",
      "source": [],
      "metadata": {
        "id": "Yc_PUiI0GSof"
      }
    },
    {
      "cell_type": "markdown",
      "source": [
        "Berechnung wieviel der Kosten der Patient selber tragen muss (Medikamente und Arztbesuche)"
      ],
      "metadata": {
        "id": "XsbFIIQ_GXb1"
      }
    },
    {
      "cell_type": "code",
      "source": [
        "df.eval('PATIENT_COST = (OVERALL_ENC_BASE_COST - OVERALL_ENC_PAYER_COVERAGE) + (OVERALL_MED_TOTAL_COST - OVERALL_MED_PAYER_COVERAGE)', inplace = True)\n",
        "df.columns"
      ],
      "metadata": {
        "colab": {
          "base_uri": "https://localhost:8080/"
        },
        "id": "ScIJV--L1F8W",
        "outputId": "e1efad89-c720-4e9d-a9b4-48eb628eafc9"
      },
      "execution_count": 83,
      "outputs": [
        {
          "output_type": "execute_result",
          "data": {
            "text/plain": [
              "Index(['PATIENT', 'PAT_GENDER', 'PAT_RACE', 'DIAGNOSIS',\n",
              "       'OVERALL_ENC_BASE_COST', 'OVERALL_ENC_PAYER_COVERAGE',\n",
              "       'NUMBER_ENCOUNTERS', 'OVERALL_PRO_BASE_COST', 'NUMBER_PROCEDURES',\n",
              "       'OVERALL_MED_BASE_COST', 'OVERALL_MED_DISPENSES',\n",
              "       'OVERALL_MED_TOTAL_COST', 'OVERALL_MED_PAYER_COVERAGE',\n",
              "       'NUMBER_MEDICATIONS', 'PATIENT_COST'],\n",
              "      dtype='object')"
            ]
          },
          "metadata": {},
          "execution_count": 83
        }
      ]
    },
    {
      "cell_type": "code",
      "source": [
        "groupby_obj = df.groupby('DIAGNOSIS')"
      ],
      "metadata": {
        "id": "GzjRfNT11z3o"
      },
      "execution_count": 84,
      "outputs": []
    },
    {
      "cell_type": "code",
      "source": [
        "groupby_obj.mean()"
      ],
      "metadata": {
        "colab": {
          "base_uri": "https://localhost:8080/",
          "height": 239
        },
        "id": "hyl_laPa2gHK",
        "outputId": "6a31dc84-3019-4bd0-a6a4-d4424796db0a"
      },
      "execution_count": 85,
      "outputs": [
        {
          "output_type": "execute_result",
          "data": {
            "text/plain": [
              "               OVERALL_ENC_BASE_COST  OVERALL_ENC_PAYER_COVERAGE  \\\n",
              "DIAGNOSIS                                                          \n",
              "breast_cancer            6305.258182                 2990.123636   \n",
              "none                      980.973122                  908.649367   \n",
              "other                    1333.264516                 1126.682903   \n",
              "\n",
              "               NUMBER_ENCOUNTERS  OVERALL_PRO_BASE_COST  NUMBER_PROCEDURES  \\\n",
              "DIAGNOSIS                                                                    \n",
              "breast_cancer          55.363636          129269.329091          42.545455   \n",
              "none                    7.595023                    NaN           0.000000   \n",
              "other                  10.322581           96145.761212           2.241935   \n",
              "\n",
              "               OVERALL_MED_BASE_COST  OVERALL_MED_DISPENSES  \\\n",
              "DIAGNOSIS                                                     \n",
              "breast_cancer           27832.935000             233.666667   \n",
              "none                             NaN                    NaN   \n",
              "other                    1551.801957             418.717391   \n",
              "\n",
              "               OVERALL_MED_TOTAL_COST  OVERALL_MED_PAYER_COVERAGE  \\\n",
              "DIAGNOSIS                                                           \n",
              "breast_cancer            46030.308333                    0.000000   \n",
              "none                              NaN                         NaN   \n",
              "other                    35100.145000                  933.639891   \n",
              "\n",
              "               NUMBER_MEDICATIONS  PATIENT_COST  \n",
              "DIAGNOSIS                                        \n",
              "breast_cancer            5.818182  50470.145000  \n",
              "none                     0.000000           NaN  \n",
              "other                    2.927419  34397.559891  "
            ],
            "text/html": [
              "\n",
              "  <div id=\"df-2c36809f-2d75-4c6a-860e-530b33ea3b4d\">\n",
              "    <div class=\"colab-df-container\">\n",
              "      <div>\n",
              "<style scoped>\n",
              "    .dataframe tbody tr th:only-of-type {\n",
              "        vertical-align: middle;\n",
              "    }\n",
              "\n",
              "    .dataframe tbody tr th {\n",
              "        vertical-align: top;\n",
              "    }\n",
              "\n",
              "    .dataframe thead th {\n",
              "        text-align: right;\n",
              "    }\n",
              "</style>\n",
              "<table border=\"1\" class=\"dataframe\">\n",
              "  <thead>\n",
              "    <tr style=\"text-align: right;\">\n",
              "      <th></th>\n",
              "      <th>OVERALL_ENC_BASE_COST</th>\n",
              "      <th>OVERALL_ENC_PAYER_COVERAGE</th>\n",
              "      <th>NUMBER_ENCOUNTERS</th>\n",
              "      <th>OVERALL_PRO_BASE_COST</th>\n",
              "      <th>NUMBER_PROCEDURES</th>\n",
              "      <th>OVERALL_MED_BASE_COST</th>\n",
              "      <th>OVERALL_MED_DISPENSES</th>\n",
              "      <th>OVERALL_MED_TOTAL_COST</th>\n",
              "      <th>OVERALL_MED_PAYER_COVERAGE</th>\n",
              "      <th>NUMBER_MEDICATIONS</th>\n",
              "      <th>PATIENT_COST</th>\n",
              "    </tr>\n",
              "    <tr>\n",
              "      <th>DIAGNOSIS</th>\n",
              "      <th></th>\n",
              "      <th></th>\n",
              "      <th></th>\n",
              "      <th></th>\n",
              "      <th></th>\n",
              "      <th></th>\n",
              "      <th></th>\n",
              "      <th></th>\n",
              "      <th></th>\n",
              "      <th></th>\n",
              "      <th></th>\n",
              "    </tr>\n",
              "  </thead>\n",
              "  <tbody>\n",
              "    <tr>\n",
              "      <th>breast_cancer</th>\n",
              "      <td>6305.258182</td>\n",
              "      <td>2990.123636</td>\n",
              "      <td>55.363636</td>\n",
              "      <td>129269.329091</td>\n",
              "      <td>42.545455</td>\n",
              "      <td>27832.935000</td>\n",
              "      <td>233.666667</td>\n",
              "      <td>46030.308333</td>\n",
              "      <td>0.000000</td>\n",
              "      <td>5.818182</td>\n",
              "      <td>50470.145000</td>\n",
              "    </tr>\n",
              "    <tr>\n",
              "      <th>none</th>\n",
              "      <td>980.973122</td>\n",
              "      <td>908.649367</td>\n",
              "      <td>7.595023</td>\n",
              "      <td>NaN</td>\n",
              "      <td>0.000000</td>\n",
              "      <td>NaN</td>\n",
              "      <td>NaN</td>\n",
              "      <td>NaN</td>\n",
              "      <td>NaN</td>\n",
              "      <td>0.000000</td>\n",
              "      <td>NaN</td>\n",
              "    </tr>\n",
              "    <tr>\n",
              "      <th>other</th>\n",
              "      <td>1333.264516</td>\n",
              "      <td>1126.682903</td>\n",
              "      <td>10.322581</td>\n",
              "      <td>96145.761212</td>\n",
              "      <td>2.241935</td>\n",
              "      <td>1551.801957</td>\n",
              "      <td>418.717391</td>\n",
              "      <td>35100.145000</td>\n",
              "      <td>933.639891</td>\n",
              "      <td>2.927419</td>\n",
              "      <td>34397.559891</td>\n",
              "    </tr>\n",
              "  </tbody>\n",
              "</table>\n",
              "</div>\n",
              "      <button class=\"colab-df-convert\" onclick=\"convertToInteractive('df-2c36809f-2d75-4c6a-860e-530b33ea3b4d')\"\n",
              "              title=\"Convert this dataframe to an interactive table.\"\n",
              "              style=\"display:none;\">\n",
              "        \n",
              "  <svg xmlns=\"http://www.w3.org/2000/svg\" height=\"24px\"viewBox=\"0 0 24 24\"\n",
              "       width=\"24px\">\n",
              "    <path d=\"M0 0h24v24H0V0z\" fill=\"none\"/>\n",
              "    <path d=\"M18.56 5.44l.94 2.06.94-2.06 2.06-.94-2.06-.94-.94-2.06-.94 2.06-2.06.94zm-11 1L8.5 8.5l.94-2.06 2.06-.94-2.06-.94L8.5 2.5l-.94 2.06-2.06.94zm10 10l.94 2.06.94-2.06 2.06-.94-2.06-.94-.94-2.06-.94 2.06-2.06.94z\"/><path d=\"M17.41 7.96l-1.37-1.37c-.4-.4-.92-.59-1.43-.59-.52 0-1.04.2-1.43.59L10.3 9.45l-7.72 7.72c-.78.78-.78 2.05 0 2.83L4 21.41c.39.39.9.59 1.41.59.51 0 1.02-.2 1.41-.59l7.78-7.78 2.81-2.81c.8-.78.8-2.07 0-2.86zM5.41 20L4 18.59l7.72-7.72 1.47 1.35L5.41 20z\"/>\n",
              "  </svg>\n",
              "      </button>\n",
              "      \n",
              "  <style>\n",
              "    .colab-df-container {\n",
              "      display:flex;\n",
              "      flex-wrap:wrap;\n",
              "      gap: 12px;\n",
              "    }\n",
              "\n",
              "    .colab-df-convert {\n",
              "      background-color: #E8F0FE;\n",
              "      border: none;\n",
              "      border-radius: 50%;\n",
              "      cursor: pointer;\n",
              "      display: none;\n",
              "      fill: #1967D2;\n",
              "      height: 32px;\n",
              "      padding: 0 0 0 0;\n",
              "      width: 32px;\n",
              "    }\n",
              "\n",
              "    .colab-df-convert:hover {\n",
              "      background-color: #E2EBFA;\n",
              "      box-shadow: 0px 1px 2px rgba(60, 64, 67, 0.3), 0px 1px 3px 1px rgba(60, 64, 67, 0.15);\n",
              "      fill: #174EA6;\n",
              "    }\n",
              "\n",
              "    [theme=dark] .colab-df-convert {\n",
              "      background-color: #3B4455;\n",
              "      fill: #D2E3FC;\n",
              "    }\n",
              "\n",
              "    [theme=dark] .colab-df-convert:hover {\n",
              "      background-color: #434B5C;\n",
              "      box-shadow: 0px 1px 3px 1px rgba(0, 0, 0, 0.15);\n",
              "      filter: drop-shadow(0px 1px 2px rgba(0, 0, 0, 0.3));\n",
              "      fill: #FFFFFF;\n",
              "    }\n",
              "  </style>\n",
              "\n",
              "      <script>\n",
              "        const buttonEl =\n",
              "          document.querySelector('#df-2c36809f-2d75-4c6a-860e-530b33ea3b4d button.colab-df-convert');\n",
              "        buttonEl.style.display =\n",
              "          google.colab.kernel.accessAllowed ? 'block' : 'none';\n",
              "\n",
              "        async function convertToInteractive(key) {\n",
              "          const element = document.querySelector('#df-2c36809f-2d75-4c6a-860e-530b33ea3b4d');\n",
              "          const dataTable =\n",
              "            await google.colab.kernel.invokeFunction('convertToInteractive',\n",
              "                                                     [key], {});\n",
              "          if (!dataTable) return;\n",
              "\n",
              "          const docLinkHtml = 'Like what you see? Visit the ' +\n",
              "            '<a target=\"_blank\" href=https://colab.research.google.com/notebooks/data_table.ipynb>data table notebook</a>'\n",
              "            + ' to learn more about interactive tables.';\n",
              "          element.innerHTML = '';\n",
              "          dataTable['output_type'] = 'display_data';\n",
              "          await google.colab.output.renderOutput(dataTable, element);\n",
              "          const docLink = document.createElement('div');\n",
              "          docLink.innerHTML = docLinkHtml;\n",
              "          element.appendChild(docLink);\n",
              "        }\n",
              "      </script>\n",
              "    </div>\n",
              "  </div>\n",
              "  "
            ]
          },
          "metadata": {},
          "execution_count": 85
        }
      ]
    },
    {
      "cell_type": "code",
      "source": [
        "df_cost = df[['PATIENT_COST', 'DIAGNOSIS']]"
      ],
      "metadata": {
        "id": "BdhzIHg139kz"
      },
      "execution_count": 86,
      "outputs": []
    },
    {
      "cell_type": "code",
      "source": [
        "df_cost.head()"
      ],
      "metadata": {
        "colab": {
          "base_uri": "https://localhost:8080/",
          "height": 206
        },
        "id": "m0TKjJHN4Qos",
        "outputId": "bf7baff0-c2af-4652-93b6-d3d4c19511eb"
      },
      "execution_count": 87,
      "outputs": [
        {
          "output_type": "execute_result",
          "data": {
            "text/plain": [
              "   PATIENT_COST DIAGNOSIS\n",
              "0           NaN      none\n",
              "1           NaN      none\n",
              "2           NaN      none\n",
              "3        224.02     other\n",
              "4           NaN      none"
            ],
            "text/html": [
              "\n",
              "  <div id=\"df-162ae712-f20c-4cfc-a2e9-ddebedf5fa80\">\n",
              "    <div class=\"colab-df-container\">\n",
              "      <div>\n",
              "<style scoped>\n",
              "    .dataframe tbody tr th:only-of-type {\n",
              "        vertical-align: middle;\n",
              "    }\n",
              "\n",
              "    .dataframe tbody tr th {\n",
              "        vertical-align: top;\n",
              "    }\n",
              "\n",
              "    .dataframe thead th {\n",
              "        text-align: right;\n",
              "    }\n",
              "</style>\n",
              "<table border=\"1\" class=\"dataframe\">\n",
              "  <thead>\n",
              "    <tr style=\"text-align: right;\">\n",
              "      <th></th>\n",
              "      <th>PATIENT_COST</th>\n",
              "      <th>DIAGNOSIS</th>\n",
              "    </tr>\n",
              "  </thead>\n",
              "  <tbody>\n",
              "    <tr>\n",
              "      <th>0</th>\n",
              "      <td>NaN</td>\n",
              "      <td>none</td>\n",
              "    </tr>\n",
              "    <tr>\n",
              "      <th>1</th>\n",
              "      <td>NaN</td>\n",
              "      <td>none</td>\n",
              "    </tr>\n",
              "    <tr>\n",
              "      <th>2</th>\n",
              "      <td>NaN</td>\n",
              "      <td>none</td>\n",
              "    </tr>\n",
              "    <tr>\n",
              "      <th>3</th>\n",
              "      <td>224.02</td>\n",
              "      <td>other</td>\n",
              "    </tr>\n",
              "    <tr>\n",
              "      <th>4</th>\n",
              "      <td>NaN</td>\n",
              "      <td>none</td>\n",
              "    </tr>\n",
              "  </tbody>\n",
              "</table>\n",
              "</div>\n",
              "      <button class=\"colab-df-convert\" onclick=\"convertToInteractive('df-162ae712-f20c-4cfc-a2e9-ddebedf5fa80')\"\n",
              "              title=\"Convert this dataframe to an interactive table.\"\n",
              "              style=\"display:none;\">\n",
              "        \n",
              "  <svg xmlns=\"http://www.w3.org/2000/svg\" height=\"24px\"viewBox=\"0 0 24 24\"\n",
              "       width=\"24px\">\n",
              "    <path d=\"M0 0h24v24H0V0z\" fill=\"none\"/>\n",
              "    <path d=\"M18.56 5.44l.94 2.06.94-2.06 2.06-.94-2.06-.94-.94-2.06-.94 2.06-2.06.94zm-11 1L8.5 8.5l.94-2.06 2.06-.94-2.06-.94L8.5 2.5l-.94 2.06-2.06.94zm10 10l.94 2.06.94-2.06 2.06-.94-2.06-.94-.94-2.06-.94 2.06-2.06.94z\"/><path d=\"M17.41 7.96l-1.37-1.37c-.4-.4-.92-.59-1.43-.59-.52 0-1.04.2-1.43.59L10.3 9.45l-7.72 7.72c-.78.78-.78 2.05 0 2.83L4 21.41c.39.39.9.59 1.41.59.51 0 1.02-.2 1.41-.59l7.78-7.78 2.81-2.81c.8-.78.8-2.07 0-2.86zM5.41 20L4 18.59l7.72-7.72 1.47 1.35L5.41 20z\"/>\n",
              "  </svg>\n",
              "      </button>\n",
              "      \n",
              "  <style>\n",
              "    .colab-df-container {\n",
              "      display:flex;\n",
              "      flex-wrap:wrap;\n",
              "      gap: 12px;\n",
              "    }\n",
              "\n",
              "    .colab-df-convert {\n",
              "      background-color: #E8F0FE;\n",
              "      border: none;\n",
              "      border-radius: 50%;\n",
              "      cursor: pointer;\n",
              "      display: none;\n",
              "      fill: #1967D2;\n",
              "      height: 32px;\n",
              "      padding: 0 0 0 0;\n",
              "      width: 32px;\n",
              "    }\n",
              "\n",
              "    .colab-df-convert:hover {\n",
              "      background-color: #E2EBFA;\n",
              "      box-shadow: 0px 1px 2px rgba(60, 64, 67, 0.3), 0px 1px 3px 1px rgba(60, 64, 67, 0.15);\n",
              "      fill: #174EA6;\n",
              "    }\n",
              "\n",
              "    [theme=dark] .colab-df-convert {\n",
              "      background-color: #3B4455;\n",
              "      fill: #D2E3FC;\n",
              "    }\n",
              "\n",
              "    [theme=dark] .colab-df-convert:hover {\n",
              "      background-color: #434B5C;\n",
              "      box-shadow: 0px 1px 3px 1px rgba(0, 0, 0, 0.15);\n",
              "      filter: drop-shadow(0px 1px 2px rgba(0, 0, 0, 0.3));\n",
              "      fill: #FFFFFF;\n",
              "    }\n",
              "  </style>\n",
              "\n",
              "      <script>\n",
              "        const buttonEl =\n",
              "          document.querySelector('#df-162ae712-f20c-4cfc-a2e9-ddebedf5fa80 button.colab-df-convert');\n",
              "        buttonEl.style.display =\n",
              "          google.colab.kernel.accessAllowed ? 'block' : 'none';\n",
              "\n",
              "        async function convertToInteractive(key) {\n",
              "          const element = document.querySelector('#df-162ae712-f20c-4cfc-a2e9-ddebedf5fa80');\n",
              "          const dataTable =\n",
              "            await google.colab.kernel.invokeFunction('convertToInteractive',\n",
              "                                                     [key], {});\n",
              "          if (!dataTable) return;\n",
              "\n",
              "          const docLinkHtml = 'Like what you see? Visit the ' +\n",
              "            '<a target=\"_blank\" href=https://colab.research.google.com/notebooks/data_table.ipynb>data table notebook</a>'\n",
              "            + ' to learn more about interactive tables.';\n",
              "          element.innerHTML = '';\n",
              "          dataTable['output_type'] = 'display_data';\n",
              "          await google.colab.output.renderOutput(dataTable, element);\n",
              "          const docLink = document.createElement('div');\n",
              "          docLink.innerHTML = docLinkHtml;\n",
              "          element.appendChild(docLink);\n",
              "        }\n",
              "      </script>\n",
              "    </div>\n",
              "  </div>\n",
              "  "
            ]
          },
          "metadata": {},
          "execution_count": 87
        }
      ]
    },
    {
      "cell_type": "code",
      "source": [
        "groupby_obj = df_cost.groupby('DIAGNOSIS')"
      ],
      "metadata": {
        "id": "XEMokb3n4ya3"
      },
      "execution_count": 88,
      "outputs": []
    },
    {
      "cell_type": "code",
      "source": [
        "groupby_obj.mean()"
      ],
      "metadata": {
        "colab": {
          "base_uri": "https://localhost:8080/",
          "height": 175
        },
        "id": "p_lFjBrz44gr",
        "outputId": "8cb6554e-92a5-4df9-cc04-ec4a5bf166d7"
      },
      "execution_count": 89,
      "outputs": [
        {
          "output_type": "execute_result",
          "data": {
            "text/plain": [
              "               PATIENT_COST\n",
              "DIAGNOSIS                  \n",
              "breast_cancer  50470.145000\n",
              "none                    NaN\n",
              "other          34397.559891"
            ],
            "text/html": [
              "\n",
              "  <div id=\"df-1eb4d8a9-5d7d-426d-b410-bb5239b72eea\">\n",
              "    <div class=\"colab-df-container\">\n",
              "      <div>\n",
              "<style scoped>\n",
              "    .dataframe tbody tr th:only-of-type {\n",
              "        vertical-align: middle;\n",
              "    }\n",
              "\n",
              "    .dataframe tbody tr th {\n",
              "        vertical-align: top;\n",
              "    }\n",
              "\n",
              "    .dataframe thead th {\n",
              "        text-align: right;\n",
              "    }\n",
              "</style>\n",
              "<table border=\"1\" class=\"dataframe\">\n",
              "  <thead>\n",
              "    <tr style=\"text-align: right;\">\n",
              "      <th></th>\n",
              "      <th>PATIENT_COST</th>\n",
              "    </tr>\n",
              "    <tr>\n",
              "      <th>DIAGNOSIS</th>\n",
              "      <th></th>\n",
              "    </tr>\n",
              "  </thead>\n",
              "  <tbody>\n",
              "    <tr>\n",
              "      <th>breast_cancer</th>\n",
              "      <td>50470.145000</td>\n",
              "    </tr>\n",
              "    <tr>\n",
              "      <th>none</th>\n",
              "      <td>NaN</td>\n",
              "    </tr>\n",
              "    <tr>\n",
              "      <th>other</th>\n",
              "      <td>34397.559891</td>\n",
              "    </tr>\n",
              "  </tbody>\n",
              "</table>\n",
              "</div>\n",
              "      <button class=\"colab-df-convert\" onclick=\"convertToInteractive('df-1eb4d8a9-5d7d-426d-b410-bb5239b72eea')\"\n",
              "              title=\"Convert this dataframe to an interactive table.\"\n",
              "              style=\"display:none;\">\n",
              "        \n",
              "  <svg xmlns=\"http://www.w3.org/2000/svg\" height=\"24px\"viewBox=\"0 0 24 24\"\n",
              "       width=\"24px\">\n",
              "    <path d=\"M0 0h24v24H0V0z\" fill=\"none\"/>\n",
              "    <path d=\"M18.56 5.44l.94 2.06.94-2.06 2.06-.94-2.06-.94-.94-2.06-.94 2.06-2.06.94zm-11 1L8.5 8.5l.94-2.06 2.06-.94-2.06-.94L8.5 2.5l-.94 2.06-2.06.94zm10 10l.94 2.06.94-2.06 2.06-.94-2.06-.94-.94-2.06-.94 2.06-2.06.94z\"/><path d=\"M17.41 7.96l-1.37-1.37c-.4-.4-.92-.59-1.43-.59-.52 0-1.04.2-1.43.59L10.3 9.45l-7.72 7.72c-.78.78-.78 2.05 0 2.83L4 21.41c.39.39.9.59 1.41.59.51 0 1.02-.2 1.41-.59l7.78-7.78 2.81-2.81c.8-.78.8-2.07 0-2.86zM5.41 20L4 18.59l7.72-7.72 1.47 1.35L5.41 20z\"/>\n",
              "  </svg>\n",
              "      </button>\n",
              "      \n",
              "  <style>\n",
              "    .colab-df-container {\n",
              "      display:flex;\n",
              "      flex-wrap:wrap;\n",
              "      gap: 12px;\n",
              "    }\n",
              "\n",
              "    .colab-df-convert {\n",
              "      background-color: #E8F0FE;\n",
              "      border: none;\n",
              "      border-radius: 50%;\n",
              "      cursor: pointer;\n",
              "      display: none;\n",
              "      fill: #1967D2;\n",
              "      height: 32px;\n",
              "      padding: 0 0 0 0;\n",
              "      width: 32px;\n",
              "    }\n",
              "\n",
              "    .colab-df-convert:hover {\n",
              "      background-color: #E2EBFA;\n",
              "      box-shadow: 0px 1px 2px rgba(60, 64, 67, 0.3), 0px 1px 3px 1px rgba(60, 64, 67, 0.15);\n",
              "      fill: #174EA6;\n",
              "    }\n",
              "\n",
              "    [theme=dark] .colab-df-convert {\n",
              "      background-color: #3B4455;\n",
              "      fill: #D2E3FC;\n",
              "    }\n",
              "\n",
              "    [theme=dark] .colab-df-convert:hover {\n",
              "      background-color: #434B5C;\n",
              "      box-shadow: 0px 1px 3px 1px rgba(0, 0, 0, 0.15);\n",
              "      filter: drop-shadow(0px 1px 2px rgba(0, 0, 0, 0.3));\n",
              "      fill: #FFFFFF;\n",
              "    }\n",
              "  </style>\n",
              "\n",
              "      <script>\n",
              "        const buttonEl =\n",
              "          document.querySelector('#df-1eb4d8a9-5d7d-426d-b410-bb5239b72eea button.colab-df-convert');\n",
              "        buttonEl.style.display =\n",
              "          google.colab.kernel.accessAllowed ? 'block' : 'none';\n",
              "\n",
              "        async function convertToInteractive(key) {\n",
              "          const element = document.querySelector('#df-1eb4d8a9-5d7d-426d-b410-bb5239b72eea');\n",
              "          const dataTable =\n",
              "            await google.colab.kernel.invokeFunction('convertToInteractive',\n",
              "                                                     [key], {});\n",
              "          if (!dataTable) return;\n",
              "\n",
              "          const docLinkHtml = 'Like what you see? Visit the ' +\n",
              "            '<a target=\"_blank\" href=https://colab.research.google.com/notebooks/data_table.ipynb>data table notebook</a>'\n",
              "            + ' to learn more about interactive tables.';\n",
              "          element.innerHTML = '';\n",
              "          dataTable['output_type'] = 'display_data';\n",
              "          await google.colab.output.renderOutput(dataTable, element);\n",
              "          const docLink = document.createElement('div');\n",
              "          docLink.innerHTML = docLinkHtml;\n",
              "          element.appendChild(docLink);\n",
              "        }\n",
              "      </script>\n",
              "    </div>\n",
              "  </div>\n",
              "  "
            ]
          },
          "metadata": {},
          "execution_count": 89
        }
      ]
    },
    {
      "cell_type": "code",
      "source": [
        "groupby_obj.mean().plot(kind='bar')"
      ],
      "metadata": {
        "colab": {
          "base_uri": "https://localhost:8080/",
          "height": 370
        },
        "id": "rY89G9Zr46KG",
        "outputId": "e87b7070-1bf4-46d7-d4ed-2a5bb70abb35"
      },
      "execution_count": 90,
      "outputs": [
        {
          "output_type": "execute_result",
          "data": {
            "text/plain": [
              "<matplotlib.axes._subplots.AxesSubplot at 0x7f1d24da4b20>"
            ]
          },
          "metadata": {},
          "execution_count": 90
        },
        {
          "output_type": "display_data",
          "data": {
            "text/plain": [
              "<Figure size 432x288 with 1 Axes>"
            ],
            "image/png": "[encoded data removed]"
          },
          "metadata": {}
        }
      ]
    },
    {
      "cell_type": "code",
      "source": [
        "df_encounters = df[[ 'DIAGNOSIS', 'NUMBER_ENCOUNTERS']]"
      ],
      "metadata": {
        "id": "4mrXTGun6yUG"
      },
      "execution_count": 91,
      "outputs": []
    },
    {
      "cell_type": "code",
      "source": [
        "df_encounters.head()"
      ],
      "metadata": {
        "colab": {
          "base_uri": "https://localhost:8080/",
          "height": 206
        },
        "id": "RGnotreD7SIO",
        "outputId": "18649772-ac11-482a-fc47-a3cbfbdcd2ed"
      },
      "execution_count": 92,
      "outputs": [
        {
          "output_type": "execute_result",
          "data": {
            "text/plain": [
              "  DIAGNOSIS  NUMBER_ENCOUNTERS\n",
              "0      none                  9\n",
              "1      none                 10\n",
              "2      none                  6\n",
              "3     other                 11\n",
              "4      none                  7"
            ],
            "text/html": [
              "\n",
              "  <div id=\"df-975f2ff7-b90c-400a-8027-e0a034b2090d\">\n",
              "    <div class=\"colab-df-container\">\n",
              "      <div>\n",
              "<style scoped>\n",
              "    .dataframe tbody tr th:only-of-type {\n",
              "        vertical-align: middle;\n",
              "    }\n",
              "\n",
              "    .dataframe tbody tr th {\n",
              "        vertical-align: top;\n",
              "    }\n",
              "\n",
              "    .dataframe thead th {\n",
              "        text-align: right;\n",
              "    }\n",
              "</style>\n",
              "<table border=\"1\" class=\"dataframe\">\n",
              "  <thead>\n",
              "    <tr style=\"text-align: right;\">\n",
              "      <th></th>\n",
              "      <th>DIAGNOSIS</th>\n",
              "      <th>NUMBER_ENCOUNTERS</th>\n",
              "    </tr>\n",
              "  </thead>\n",
              "  <tbody>\n",
              "    <tr>\n",
              "      <th>0</th>\n",
              "      <td>none</td>\n",
              "      <td>9</td>\n",
              "    </tr>\n",
              "    <tr>\n",
              "      <th>1</th>\n",
              "      <td>none</td>\n",
              "      <td>10</td>\n",
              "    </tr>\n",
              "    <tr>\n",
              "      <th>2</th>\n",
              "      <td>none</td>\n",
              "      <td>6</td>\n",
              "    </tr>\n",
              "    <tr>\n",
              "      <th>3</th>\n",
              "      <td>other</td>\n",
              "      <td>11</td>\n",
              "    </tr>\n",
              "    <tr>\n",
              "      <th>4</th>\n",
              "      <td>none</td>\n",
              "      <td>7</td>\n",
              "    </tr>\n",
              "  </tbody>\n",
              "</table>\n",
              "</div>\n",
              "      <button class=\"colab-df-convert\" onclick=\"convertToInteractive('df-975f2ff7-b90c-400a-8027-e0a034b2090d')\"\n",
              "              title=\"Convert this dataframe to an interactive table.\"\n",
              "              style=\"display:none;\">\n",
              "        \n",
              "  <svg xmlns=\"http://www.w3.org/2000/svg\" height=\"24px\"viewBox=\"0 0 24 24\"\n",
              "       width=\"24px\">\n",
              "    <path d=\"M0 0h24v24H0V0z\" fill=\"none\"/>\n",
              "    <path d=\"M18.56 5.44l.94 2.06.94-2.06 2.06-.94-2.06-.94-.94-2.06-.94 2.06-2.06.94zm-11 1L8.5 8.5l.94-2.06 2.06-.94-2.06-.94L8.5 2.5l-.94 2.06-2.06.94zm10 10l.94 2.06.94-2.06 2.06-.94-2.06-.94-.94-2.06-.94 2.06-2.06.94z\"/><path d=\"M17.41 7.96l-1.37-1.37c-.4-.4-.92-.59-1.43-.59-.52 0-1.04.2-1.43.59L10.3 9.45l-7.72 7.72c-.78.78-.78 2.05 0 2.83L4 21.41c.39.39.9.59 1.41.59.51 0 1.02-.2 1.41-.59l7.78-7.78 2.81-2.81c.8-.78.8-2.07 0-2.86zM5.41 20L4 18.59l7.72-7.72 1.47 1.35L5.41 20z\"/>\n",
              "  </svg>\n",
              "      </button>\n",
              "      \n",
              "  <style>\n",
              "    .colab-df-container {\n",
              "      display:flex;\n",
              "      flex-wrap:wrap;\n",
              "      gap: 12px;\n",
              "    }\n",
              "\n",
              "    .colab-df-convert {\n",
              "      background-color: #E8F0FE;\n",
              "      border: none;\n",
              "      border-radius: 50%;\n",
              "      cursor: pointer;\n",
              "      display: none;\n",
              "      fill: #1967D2;\n",
              "      height: 32px;\n",
              "      padding: 0 0 0 0;\n",
              "      width: 32px;\n",
              "    }\n",
              "\n",
              "    .colab-df-convert:hover {\n",
              "      background-color: #E2EBFA;\n",
              "      box-shadow: 0px 1px 2px rgba(60, 64, 67, 0.3), 0px 1px 3px 1px rgba(60, 64, 67, 0.15);\n",
              "      fill: #174EA6;\n",
              "    }\n",
              "\n",
              "    [theme=dark] .colab-df-convert {\n",
              "      background-color: #3B4455;\n",
              "      fill: #D2E3FC;\n",
              "    }\n",
              "\n",
              "    [theme=dark] .colab-df-convert:hover {\n",
              "      background-color: #434B5C;\n",
              "      box-shadow: 0px 1px 3px 1px rgba(0, 0, 0, 0.15);\n",
              "      filter: drop-shadow(0px 1px 2px rgba(0, 0, 0, 0.3));\n",
              "      fill: #FFFFFF;\n",
              "    }\n",
              "  </style>\n",
              "\n",
              "      <script>\n",
              "        const buttonEl =\n",
              "          document.querySelector('#df-975f2ff7-b90c-400a-8027-e0a034b2090d button.colab-df-convert');\n",
              "        buttonEl.style.display =\n",
              "          google.colab.kernel.accessAllowed ? 'block' : 'none';\n",
              "\n",
              "        async function convertToInteractive(key) {\n",
              "          const element = document.querySelector('#df-975f2ff7-b90c-400a-8027-e0a034b2090d');\n",
              "          const dataTable =\n",
              "            await google.colab.kernel.invokeFunction('convertToInteractive',\n",
              "                                                     [key], {});\n",
              "          if (!dataTable) return;\n",
              "\n",
              "          const docLinkHtml = 'Like what you see? Visit the ' +\n",
              "            '<a target=\"_blank\" href=https://colab.research.google.com/notebooks/data_table.ipynb>data table notebook</a>'\n",
              "            + ' to learn more about interactive tables.';\n",
              "          element.innerHTML = '';\n",
              "          dataTable['output_type'] = 'display_data';\n",
              "          await google.colab.output.renderOutput(dataTable, element);\n",
              "          const docLink = document.createElement('div');\n",
              "          docLink.innerHTML = docLinkHtml;\n",
              "          element.appendChild(docLink);\n",
              "        }\n",
              "      </script>\n",
              "    </div>\n",
              "  </div>\n",
              "  "
            ]
          },
          "metadata": {},
          "execution_count": 92
        }
      ]
    },
    {
      "cell_type": "code",
      "source": [
        "groupby_obj = df_encounters.groupby('DIAGNOSIS')"
      ],
      "metadata": {
        "id": "8C_oPpt8-qmR"
      },
      "execution_count": 93,
      "outputs": []
    },
    {
      "cell_type": "code",
      "source": [
        "groupby_obj.mean()"
      ],
      "metadata": {
        "colab": {
          "base_uri": "https://localhost:8080/",
          "height": 175
        },
        "id": "fGmiGQia-6YQ",
        "outputId": "b7735ee7-6331-490d-dd60-5055f8b6f154"
      },
      "execution_count": 94,
      "outputs": [
        {
          "output_type": "execute_result",
          "data": {
            "text/plain": [
              "               NUMBER_ENCOUNTERS\n",
              "DIAGNOSIS                       \n",
              "breast_cancer          55.363636\n",
              "none                    7.595023\n",
              "other                  10.322581"
            ],
            "text/html": [
              "\n",
              "  <div id=\"df-5143db09-1f40-4e96-897e-82b5f1e3c28f\">\n",
              "    <div class=\"colab-df-container\">\n",
              "      <div>\n",
              "<style scoped>\n",
              "    .dataframe tbody tr th:only-of-type {\n",
              "        vertical-align: middle;\n",
              "    }\n",
              "\n",
              "    .dataframe tbody tr th {\n",
              "        vertical-align: top;\n",
              "    }\n",
              "\n",
              "    .dataframe thead th {\n",
              "        text-align: right;\n",
              "    }\n",
              "</style>\n",
              "<table border=\"1\" class=\"dataframe\">\n",
              "  <thead>\n",
              "    <tr style=\"text-align: right;\">\n",
              "      <th></th>\n",
              "      <th>NUMBER_ENCOUNTERS</th>\n",
              "    </tr>\n",
              "    <tr>\n",
              "      <th>DIAGNOSIS</th>\n",
              "      <th></th>\n",
              "    </tr>\n",
              "  </thead>\n",
              "  <tbody>\n",
              "    <tr>\n",
              "      <th>breast_cancer</th>\n",
              "      <td>55.363636</td>\n",
              "    </tr>\n",
              "    <tr>\n",
              "      <th>none</th>\n",
              "      <td>7.595023</td>\n",
              "    </tr>\n",
              "    <tr>\n",
              "      <th>other</th>\n",
              "      <td>10.322581</td>\n",
              "    </tr>\n",
              "  </tbody>\n",
              "</table>\n",
              "</div>\n",
              "      <button class=\"colab-df-convert\" onclick=\"convertToInteractive('df-5143db09-1f40-4e96-897e-82b5f1e3c28f')\"\n",
              "              title=\"Convert this dataframe to an interactive table.\"\n",
              "              style=\"display:none;\">\n",
              "        \n",
              "  <svg xmlns=\"http://www.w3.org/2000/svg\" height=\"24px\"viewBox=\"0 0 24 24\"\n",
              "       width=\"24px\">\n",
              "    <path d=\"M0 0h24v24H0V0z\" fill=\"none\"/>\n",
              "    <path d=\"M18.56 5.44l.94 2.06.94-2.06 2.06-.94-2.06-.94-.94-2.06-.94 2.06-2.06.94zm-11 1L8.5 8.5l.94-2.06 2.06-.94-2.06-.94L8.5 2.5l-.94 2.06-2.06.94zm10 10l.94 2.06.94-2.06 2.06-.94-2.06-.94-.94-2.06-.94 2.06-2.06.94z\"/><path d=\"M17.41 7.96l-1.37-1.37c-.4-.4-.92-.59-1.43-.59-.52 0-1.04.2-1.43.59L10.3 9.45l-7.72 7.72c-.78.78-.78 2.05 0 2.83L4 21.41c.39.39.9.59 1.41.59.51 0 1.02-.2 1.41-.59l7.78-7.78 2.81-2.81c.8-.78.8-2.07 0-2.86zM5.41 20L4 18.59l7.72-7.72 1.47 1.35L5.41 20z\"/>\n",
              "  </svg>\n",
              "      </button>\n",
              "      \n",
              "  <style>\n",
              "    .colab-df-container {\n",
              "      display:flex;\n",
              "      flex-wrap:wrap;\n",
              "      gap: 12px;\n",
              "    }\n",
              "\n",
              "    .colab-df-convert {\n",
              "      background-color: #E8F0FE;\n",
              "      border: none;\n",
              "      border-radius: 50%;\n",
              "      cursor: pointer;\n",
              "      display: none;\n",
              "      fill: #1967D2;\n",
              "      height: 32px;\n",
              "      padding: 0 0 0 0;\n",
              "      width: 32px;\n",
              "    }\n",
              "\n",
              "    .colab-df-convert:hover {\n",
              "      background-color: #E2EBFA;\n",
              "      box-shadow: 0px 1px 2px rgba(60, 64, 67, 0.3), 0px 1px 3px 1px rgba(60, 64, 67, 0.15);\n",
              "      fill: #174EA6;\n",
              "    }\n",
              "\n",
              "    [theme=dark] .colab-df-convert {\n",
              "      background-color: #3B4455;\n",
              "      fill: #D2E3FC;\n",
              "    }\n",
              "\n",
              "    [theme=dark] .colab-df-convert:hover {\n",
              "      background-color: #434B5C;\n",
              "      box-shadow: 0px 1px 3px 1px rgba(0, 0, 0, 0.15);\n",
              "      filter: drop-shadow(0px 1px 2px rgba(0, 0, 0, 0.3));\n",
              "      fill: #FFFFFF;\n",
              "    }\n",
              "  </style>\n",
              "\n",
              "      <script>\n",
              "        const buttonEl =\n",
              "          document.querySelector('#df-5143db09-1f40-4e96-897e-82b5f1e3c28f button.colab-df-convert');\n",
              "        buttonEl.style.display =\n",
              "          google.colab.kernel.accessAllowed ? 'block' : 'none';\n",
              "\n",
              "        async function convertToInteractive(key) {\n",
              "          const element = document.querySelector('#df-5143db09-1f40-4e96-897e-82b5f1e3c28f');\n",
              "          const dataTable =\n",
              "            await google.colab.kernel.invokeFunction('convertToInteractive',\n",
              "                                                     [key], {});\n",
              "          if (!dataTable) return;\n",
              "\n",
              "          const docLinkHtml = 'Like what you see? Visit the ' +\n",
              "            '<a target=\"_blank\" href=https://colab.research.google.com/notebooks/data_table.ipynb>data table notebook</a>'\n",
              "            + ' to learn more about interactive tables.';\n",
              "          element.innerHTML = '';\n",
              "          dataTable['output_type'] = 'display_data';\n",
              "          await google.colab.output.renderOutput(dataTable, element);\n",
              "          const docLink = document.createElement('div');\n",
              "          docLink.innerHTML = docLinkHtml;\n",
              "          element.appendChild(docLink);\n",
              "        }\n",
              "      </script>\n",
              "    </div>\n",
              "  </div>\n",
              "  "
            ]
          },
          "metadata": {},
          "execution_count": 94
        }
      ]
    },
    {
      "cell_type": "code",
      "source": [
        "groupby_obj.mean().plot(kind='bar')"
      ],
      "metadata": {
        "colab": {
          "base_uri": "https://localhost:8080/",
          "height": 370
        },
        "id": "rcvkpt5K-8Vd",
        "outputId": "c9e33afd-5f24-45ce-899a-0cfe212e6b1c"
      },
      "execution_count": 95,
      "outputs": [
        {
          "output_type": "execute_result",
          "data": {
            "text/plain": [
              "<matplotlib.axes._subplots.AxesSubplot at 0x7f1d24d6cf40>"
            ]
          },
          "metadata": {},
          "execution_count": 95
        },
        {
          "output_type": "display_data",
          "data": {
            "text/plain": [
              "<Figure size 432x288 with 1 Axes>"
            ],
            "image/png": "[encoded data removed]"
          },
          "metadata": {}
        }
      ]
    },
    {
      "cell_type": "markdown",
      "source": [
        "## Machine Learning\n",
        "\n",
        "###Anhand der Kosten, die für den Patienten entstehen und der Anzahl der Arztbesuche soll auf die Diagnose der einzelnen Patienten geschlossen werden."
      ],
      "metadata": {
        "id": "vHrzljWhGiQ2"
      }
    },
    {
      "cell_type": "code",
      "source": [
        "df_ml = df[['DIAGNOSIS', 'NUMBER_ENCOUNTERS', 'PATIENT_COST']]"
      ],
      "metadata": {
        "id": "a2kxX8-G_7At"
      },
      "execution_count": 96,
      "outputs": []
    },
    {
      "cell_type": "code",
      "source": [
        "df_ml.head()"
      ],
      "metadata": {
        "colab": {
          "base_uri": "https://localhost:8080/",
          "height": 206
        },
        "id": "nMJznr4GAGvw",
        "outputId": "8f3508f0-30aa-4f79-b8ed-7b19563b8017"
      },
      "execution_count": 97,
      "outputs": [
        {
          "output_type": "execute_result",
          "data": {
            "text/plain": [
              "  DIAGNOSIS  NUMBER_ENCOUNTERS  PATIENT_COST\n",
              "0      none                  9           NaN\n",
              "1      none                 10           NaN\n",
              "2      none                  6           NaN\n",
              "3     other                 11        224.02\n",
              "4      none                  7           NaN"
            ],
            "text/html": [
              "\n",
              "  <div id=\"df-e4d6b637-e1aa-458c-b027-b358163bc197\">\n",
              "    <div class=\"colab-df-container\">\n",
              "      <div>\n",
              "<style scoped>\n",
              "    .dataframe tbody tr th:only-of-type {\n",
              "        vertical-align: middle;\n",
              "    }\n",
              "\n",
              "    .dataframe tbody tr th {\n",
              "        vertical-align: top;\n",
              "    }\n",
              "\n",
              "    .dataframe thead th {\n",
              "        text-align: right;\n",
              "    }\n",
              "</style>\n",
              "<table border=\"1\" class=\"dataframe\">\n",
              "  <thead>\n",
              "    <tr style=\"text-align: right;\">\n",
              "      <th></th>\n",
              "      <th>DIAGNOSIS</th>\n",
              "      <th>NUMBER_ENCOUNTERS</th>\n",
              "      <th>PATIENT_COST</th>\n",
              "    </tr>\n",
              "  </thead>\n",
              "  <tbody>\n",
              "    <tr>\n",
              "      <th>0</th>\n",
              "      <td>none</td>\n",
              "      <td>9</td>\n",
              "      <td>NaN</td>\n",
              "    </tr>\n",
              "    <tr>\n",
              "      <th>1</th>\n",
              "      <td>none</td>\n",
              "      <td>10</td>\n",
              "      <td>NaN</td>\n",
              "    </tr>\n",
              "    <tr>\n",
              "      <th>2</th>\n",
              "      <td>none</td>\n",
              "      <td>6</td>\n",
              "      <td>NaN</td>\n",
              "    </tr>\n",
              "    <tr>\n",
              "      <th>3</th>\n",
              "      <td>other</td>\n",
              "      <td>11</td>\n",
              "      <td>224.02</td>\n",
              "    </tr>\n",
              "    <tr>\n",
              "      <th>4</th>\n",
              "      <td>none</td>\n",
              "      <td>7</td>\n",
              "      <td>NaN</td>\n",
              "    </tr>\n",
              "  </tbody>\n",
              "</table>\n",
              "</div>\n",
              "      <button class=\"colab-df-convert\" onclick=\"convertToInteractive('df-e4d6b637-e1aa-458c-b027-b358163bc197')\"\n",
              "              title=\"Convert this dataframe to an interactive table.\"\n",
              "              style=\"display:none;\">\n",
              "        \n",
              "  <svg xmlns=\"http://www.w3.org/2000/svg\" height=\"24px\"viewBox=\"0 0 24 24\"\n",
              "       width=\"24px\">\n",
              "    <path d=\"M0 0h24v24H0V0z\" fill=\"none\"/>\n",
              "    <path d=\"M18.56 5.44l.94 2.06.94-2.06 2.06-.94-2.06-.94-.94-2.06-.94 2.06-2.06.94zm-11 1L8.5 8.5l.94-2.06 2.06-.94-2.06-.94L8.5 2.5l-.94 2.06-2.06.94zm10 10l.94 2.06.94-2.06 2.06-.94-2.06-.94-.94-2.06-.94 2.06-2.06.94z\"/><path d=\"M17.41 7.96l-1.37-1.37c-.4-.4-.92-.59-1.43-.59-.52 0-1.04.2-1.43.59L10.3 9.45l-7.72 7.72c-.78.78-.78 2.05 0 2.83L4 21.41c.39.39.9.59 1.41.59.51 0 1.02-.2 1.41-.59l7.78-7.78 2.81-2.81c.8-.78.8-2.07 0-2.86zM5.41 20L4 18.59l7.72-7.72 1.47 1.35L5.41 20z\"/>\n",
              "  </svg>\n",
              "      </button>\n",
              "      \n",
              "  <style>\n",
              "    .colab-df-container {\n",
              "      display:flex;\n",
              "      flex-wrap:wrap;\n",
              "      gap: 12px;\n",
              "    }\n",
              "\n",
              "    .colab-df-convert {\n",
              "      background-color: #E8F0FE;\n",
              "      border: none;\n",
              "      border-radius: 50%;\n",
              "      cursor: pointer;\n",
              "      display: none;\n",
              "      fill: #1967D2;\n",
              "      height: 32px;\n",
              "      padding: 0 0 0 0;\n",
              "      width: 32px;\n",
              "    }\n",
              "\n",
              "    .colab-df-convert:hover {\n",
              "      background-color: #E2EBFA;\n",
              "      box-shadow: 0px 1px 2px rgba(60, 64, 67, 0.3), 0px 1px 3px 1px rgba(60, 64, 67, 0.15);\n",
              "      fill: #174EA6;\n",
              "    }\n",
              "\n",
              "    [theme=dark] .colab-df-convert {\n",
              "      background-color: #3B4455;\n",
              "      fill: #D2E3FC;\n",
              "    }\n",
              "\n",
              "    [theme=dark] .colab-df-convert:hover {\n",
              "      background-color: #434B5C;\n",
              "      box-shadow: 0px 1px 3px 1px rgba(0, 0, 0, 0.15);\n",
              "      filter: drop-shadow(0px 1px 2px rgba(0, 0, 0, 0.3));\n",
              "      fill: #FFFFFF;\n",
              "    }\n",
              "  </style>\n",
              "\n",
              "      <script>\n",
              "        const buttonEl =\n",
              "          document.querySelector('#df-e4d6b637-e1aa-458c-b027-b358163bc197 button.colab-df-convert');\n",
              "        buttonEl.style.display =\n",
              "          google.colab.kernel.accessAllowed ? 'block' : 'none';\n",
              "\n",
              "        async function convertToInteractive(key) {\n",
              "          const element = document.querySelector('#df-e4d6b637-e1aa-458c-b027-b358163bc197');\n",
              "          const dataTable =\n",
              "            await google.colab.kernel.invokeFunction('convertToInteractive',\n",
              "                                                     [key], {});\n",
              "          if (!dataTable) return;\n",
              "\n",
              "          const docLinkHtml = 'Like what you see? Visit the ' +\n",
              "            '<a target=\"_blank\" href=https://colab.research.google.com/notebooks/data_table.ipynb>data table notebook</a>'\n",
              "            + ' to learn more about interactive tables.';\n",
              "          element.innerHTML = '';\n",
              "          dataTable['output_type'] = 'display_data';\n",
              "          await google.colab.output.renderOutput(dataTable, element);\n",
              "          const docLink = document.createElement('div');\n",
              "          docLink.innerHTML = docLinkHtml;\n",
              "          element.appendChild(docLink);\n",
              "        }\n",
              "      </script>\n",
              "    </div>\n",
              "  </div>\n",
              "  "
            ]
          },
          "metadata": {},
          "execution_count": 97
        }
      ]
    },
    {
      "cell_type": "code",
      "source": [
        "df_ml.groupby('DIAGNOSIS')"
      ],
      "metadata": {
        "colab": {
          "base_uri": "https://localhost:8080/"
        },
        "id": "IAAMdUalAJ98",
        "outputId": "f16ee9c5-4252-4ce9-fe60-bd1819588474"
      },
      "execution_count": 98,
      "outputs": [
        {
          "output_type": "execute_result",
          "data": {
            "text/plain": [
              "<pandas.core.groupby.generic.DataFrameGroupBy object at 0x7f1d24d02730>"
            ]
          },
          "metadata": {},
          "execution_count": 98
        }
      ]
    },
    {
      "cell_type": "code",
      "source": [
        "df_ml.groupby('DIAGNOSIS').head()"
      ],
      "metadata": {
        "colab": {
          "base_uri": "https://localhost:8080/",
          "height": 520
        },
        "id": "LFNVw0B6AOWm",
        "outputId": "3763c615-0d55-422b-d5cb-907cd5d08ff2"
      },
      "execution_count": 99,
      "outputs": [
        {
          "output_type": "execute_result",
          "data": {
            "text/plain": [
              "         DIAGNOSIS  NUMBER_ENCOUNTERS  PATIENT_COST\n",
              "0             none                  9           NaN\n",
              "1             none                 10           NaN\n",
              "2             none                  6           NaN\n",
              "3            other                 11        224.02\n",
              "4             none                  7           NaN\n",
              "5            other                  6        142.17\n",
              "6             none                  8           NaN\n",
              "8            other                  7       4130.67\n",
              "13           other                  6           NaN\n",
              "17           other                 12      67887.80\n",
              "105  breast_cancer                 43      71208.55\n",
              "130  breast_cancer                 58       5474.23\n",
              "235  breast_cancer                 43           NaN\n",
              "240  breast_cancer                 92     136387.39\n",
              "251  breast_cancer                 44           NaN"
            ],
            "text/html": [
              "\n",
              "  <div id=\"df-41a0df2f-dbee-438d-a0ab-ce002efd4099\">\n",
              "    <div class=\"colab-df-container\">\n",
              "      <div>\n",
              "<style scoped>\n",
              "    .dataframe tbody tr th:only-of-type {\n",
              "        vertical-align: middle;\n",
              "    }\n",
              "\n",
              "    .dataframe tbody tr th {\n",
              "        vertical-align: top;\n",
              "    }\n",
              "\n",
              "    .dataframe thead th {\n",
              "        text-align: right;\n",
              "    }\n",
              "</style>\n",
              "<table border=\"1\" class=\"dataframe\">\n",
              "  <thead>\n",
              "    <tr style=\"text-align: right;\">\n",
              "      <th></th>\n",
              "      <th>DIAGNOSIS</th>\n",
              "      <th>NUMBER_ENCOUNTERS</th>\n",
              "      <th>PATIENT_COST</th>\n",
              "    </tr>\n",
              "  </thead>\n",
              "  <tbody>\n",
              "    <tr>\n",
              "      <th>0</th>\n",
              "      <td>none</td>\n",
              "      <td>9</td>\n",
              "      <td>NaN</td>\n",
              "    </tr>\n",
              "    <tr>\n",
              "      <th>1</th>\n",
              "      <td>none</td>\n",
              "      <td>10</td>\n",
              "      <td>NaN</td>\n",
              "    </tr>\n",
              "    <tr>\n",
              "      <th>2</th>\n",
              "      <td>none</td>\n",
              "      <td>6</td>\n",
              "      <td>NaN</td>\n",
              "    </tr>\n",
              "    <tr>\n",
              "      <th>3</th>\n",
              "      <td>other</td>\n",
              "      <td>11</td>\n",
              "      <td>224.02</td>\n",
              "    </tr>\n",
              "    <tr>\n",
              "      <th>4</th>\n",
              "      <td>none</td>\n",
              "      <td>7</td>\n",
              "      <td>NaN</td>\n",
              "    </tr>\n",
              "    <tr>\n",
              "      <th>5</th>\n",
              "      <td>other</td>\n",
              "      <td>6</td>\n",
              "      <td>142.17</td>\n",
              "    </tr>\n",
              "    <tr>\n",
              "      <th>6</th>\n",
              "      <td>none</td>\n",
              "      <td>8</td>\n",
              "      <td>NaN</td>\n",
              "    </tr>\n",
              "    <tr>\n",
              "      <th>8</th>\n",
              "      <td>other</td>\n",
              "      <td>7</td>\n",
              "      <td>4130.67</td>\n",
              "    </tr>\n",
              "    <tr>\n",
              "      <th>13</th>\n",
              "      <td>other</td>\n",
              "      <td>6</td>\n",
              "      <td>NaN</td>\n",
              "    </tr>\n",
              "    <tr>\n",
              "      <th>17</th>\n",
              "      <td>other</td>\n",
              "      <td>12</td>\n",
              "      <td>67887.80</td>\n",
              "    </tr>\n",
              "    <tr>\n",
              "      <th>105</th>\n",
              "      <td>breast_cancer</td>\n",
              "      <td>43</td>\n",
              "      <td>71208.55</td>\n",
              "    </tr>\n",
              "    <tr>\n",
              "      <th>130</th>\n",
              "      <td>breast_cancer</td>\n",
              "      <td>58</td>\n",
              "      <td>5474.23</td>\n",
              "    </tr>\n",
              "    <tr>\n",
              "      <th>235</th>\n",
              "      <td>breast_cancer</td>\n",
              "      <td>43</td>\n",
              "      <td>NaN</td>\n",
              "    </tr>\n",
              "    <tr>\n",
              "      <th>240</th>\n",
              "      <td>breast_cancer</td>\n",
              "      <td>92</td>\n",
              "      <td>136387.39</td>\n",
              "    </tr>\n",
              "    <tr>\n",
              "      <th>251</th>\n",
              "      <td>breast_cancer</td>\n",
              "      <td>44</td>\n",
              "      <td>NaN</td>\n",
              "    </tr>\n",
              "  </tbody>\n",
              "</table>\n",
              "</div>\n",
              "      <button class=\"colab-df-convert\" onclick=\"convertToInteractive('df-41a0df2f-dbee-438d-a0ab-ce002efd4099')\"\n",
              "              title=\"Convert this dataframe to an interactive table.\"\n",
              "              style=\"display:none;\">\n",
              "        \n",
              "  <svg xmlns=\"http://www.w3.org/2000/svg\" height=\"24px\"viewBox=\"0 0 24 24\"\n",
              "       width=\"24px\">\n",
              "    <path d=\"M0 0h24v24H0V0z\" fill=\"none\"/>\n",
              "    <path d=\"M18.56 5.44l.94 2.06.94-2.06 2.06-.94-2.06-.94-.94-2.06-.94 2.06-2.06.94zm-11 1L8.5 8.5l.94-2.06 2.06-.94-2.06-.94L8.5 2.5l-.94 2.06-2.06.94zm10 10l.94 2.06.94-2.06 2.06-.94-2.06-.94-.94-2.06-.94 2.06-2.06.94z\"/><path d=\"M17.41 7.96l-1.37-1.37c-.4-.4-.92-.59-1.43-.59-.52 0-1.04.2-1.43.59L10.3 9.45l-7.72 7.72c-.78.78-.78 2.05 0 2.83L4 21.41c.39.39.9.59 1.41.59.51 0 1.02-.2 1.41-.59l7.78-7.78 2.81-2.81c.8-.78.8-2.07 0-2.86zM5.41 20L4 18.59l7.72-7.72 1.47 1.35L5.41 20z\"/>\n",
              "  </svg>\n",
              "      </button>\n",
              "      \n",
              "  <style>\n",
              "    .colab-df-container {\n",
              "      display:flex;\n",
              "      flex-wrap:wrap;\n",
              "      gap: 12px;\n",
              "    }\n",
              "\n",
              "    .colab-df-convert {\n",
              "      background-color: #E8F0FE;\n",
              "      border: none;\n",
              "      border-radius: 50%;\n",
              "      cursor: pointer;\n",
              "      display: none;\n",
              "      fill: #1967D2;\n",
              "      height: 32px;\n",
              "      padding: 0 0 0 0;\n",
              "      width: 32px;\n",
              "    }\n",
              "\n",
              "    .colab-df-convert:hover {\n",
              "      background-color: #E2EBFA;\n",
              "      box-shadow: 0px 1px 2px rgba(60, 64, 67, 0.3), 0px 1px 3px 1px rgba(60, 64, 67, 0.15);\n",
              "      fill: #174EA6;\n",
              "    }\n",
              "\n",
              "    [theme=dark] .colab-df-convert {\n",
              "      background-color: #3B4455;\n",
              "      fill: #D2E3FC;\n",
              "    }\n",
              "\n",
              "    [theme=dark] .colab-df-convert:hover {\n",
              "      background-color: #434B5C;\n",
              "      box-shadow: 0px 1px 3px 1px rgba(0, 0, 0, 0.15);\n",
              "      filter: drop-shadow(0px 1px 2px rgba(0, 0, 0, 0.3));\n",
              "      fill: #FFFFFF;\n",
              "    }\n",
              "  </style>\n",
              "\n",
              "      <script>\n",
              "        const buttonEl =\n",
              "          document.querySelector('#df-41a0df2f-dbee-438d-a0ab-ce002efd4099 button.colab-df-convert');\n",
              "        buttonEl.style.display =\n",
              "          google.colab.kernel.accessAllowed ? 'block' : 'none';\n",
              "\n",
              "        async function convertToInteractive(key) {\n",
              "          const element = document.querySelector('#df-41a0df2f-dbee-438d-a0ab-ce002efd4099');\n",
              "          const dataTable =\n",
              "            await google.colab.kernel.invokeFunction('convertToInteractive',\n",
              "                                                     [key], {});\n",
              "          if (!dataTable) return;\n",
              "\n",
              "          const docLinkHtml = 'Like what you see? Visit the ' +\n",
              "            '<a target=\"_blank\" href=https://colab.research.google.com/notebooks/data_table.ipynb>data table notebook</a>'\n",
              "            + ' to learn more about interactive tables.';\n",
              "          element.innerHTML = '';\n",
              "          dataTable['output_type'] = 'display_data';\n",
              "          await google.colab.output.renderOutput(dataTable, element);\n",
              "          const docLink = document.createElement('div');\n",
              "          docLink.innerHTML = docLinkHtml;\n",
              "          element.appendChild(docLink);\n",
              "        }\n",
              "      </script>\n",
              "    </div>\n",
              "  </div>\n",
              "  "
            ]
          },
          "metadata": {},
          "execution_count": 99
        }
      ]
    },
    {
      "cell_type": "code",
      "source": [
        "# entfernen von NaNs\n",
        "df_rest = df_ml.dropna(axis=0)"
      ],
      "metadata": {
        "id": "1bq6z_VuBsd-"
      },
      "execution_count": 106,
      "outputs": []
    },
    {
      "cell_type": "code",
      "source": [
        "df_rest.head()"
      ],
      "metadata": {
        "colab": {
          "base_uri": "https://localhost:8080/",
          "height": 206
        },
        "id": "PZnpgn5DB4-e",
        "outputId": "837e7592-6dd0-4005-b1e3-472613e9bc43"
      },
      "execution_count": 110,
      "outputs": [
        {
          "output_type": "execute_result",
          "data": {
            "text/plain": [
              "   DIAGNOSIS  NUMBER_ENCOUNTERS  PATIENT_COST\n",
              "3      other                 11        224.02\n",
              "5      other                  6        142.17\n",
              "8      other                  7       4130.67\n",
              "17     other                 12      67887.80\n",
              "22     other                 10      11586.51"
            ],
            "text/html": [
              "\n",
              "  <div id=\"df-fd7ff22c-cadf-4934-ae54-77056598f277\">\n",
              "    <div class=\"colab-df-container\">\n",
              "      <div>\n",
              "<style scoped>\n",
              "    .dataframe tbody tr th:only-of-type {\n",
              "        vertical-align: middle;\n",
              "    }\n",
              "\n",
              "    .dataframe tbody tr th {\n",
              "        vertical-align: top;\n",
              "    }\n",
              "\n",
              "    .dataframe thead th {\n",
              "        text-align: right;\n",
              "    }\n",
              "</style>\n",
              "<table border=\"1\" class=\"dataframe\">\n",
              "  <thead>\n",
              "    <tr style=\"text-align: right;\">\n",
              "      <th></th>\n",
              "      <th>DIAGNOSIS</th>\n",
              "      <th>NUMBER_ENCOUNTERS</th>\n",
              "      <th>PATIENT_COST</th>\n",
              "    </tr>\n",
              "  </thead>\n",
              "  <tbody>\n",
              "    <tr>\n",
              "      <th>3</th>\n",
              "      <td>other</td>\n",
              "      <td>11</td>\n",
              "      <td>224.02</td>\n",
              "    </tr>\n",
              "    <tr>\n",
              "      <th>5</th>\n",
              "      <td>other</td>\n",
              "      <td>6</td>\n",
              "      <td>142.17</td>\n",
              "    </tr>\n",
              "    <tr>\n",
              "      <th>8</th>\n",
              "      <td>other</td>\n",
              "      <td>7</td>\n",
              "      <td>4130.67</td>\n",
              "    </tr>\n",
              "    <tr>\n",
              "      <th>17</th>\n",
              "      <td>other</td>\n",
              "      <td>12</td>\n",
              "      <td>67887.80</td>\n",
              "    </tr>\n",
              "    <tr>\n",
              "      <th>22</th>\n",
              "      <td>other</td>\n",
              "      <td>10</td>\n",
              "      <td>11586.51</td>\n",
              "    </tr>\n",
              "  </tbody>\n",
              "</table>\n",
              "</div>\n",
              "      <button class=\"colab-df-convert\" onclick=\"convertToInteractive('df-fd7ff22c-cadf-4934-ae54-77056598f277')\"\n",
              "              title=\"Convert this dataframe to an interactive table.\"\n",
              "              style=\"display:none;\">\n",
              "        \n",
              "  <svg xmlns=\"http://www.w3.org/2000/svg\" height=\"24px\"viewBox=\"0 0 24 24\"\n",
              "       width=\"24px\">\n",
              "    <path d=\"M0 0h24v24H0V0z\" fill=\"none\"/>\n",
              "    <path d=\"M18.56 5.44l.94 2.06.94-2.06 2.06-.94-2.06-.94-.94-2.06-.94 2.06-2.06.94zm-11 1L8.5 8.5l.94-2.06 2.06-.94-2.06-.94L8.5 2.5l-.94 2.06-2.06.94zm10 10l.94 2.06.94-2.06 2.06-.94-2.06-.94-.94-2.06-.94 2.06-2.06.94z\"/><path d=\"M17.41 7.96l-1.37-1.37c-.4-.4-.92-.59-1.43-.59-.52 0-1.04.2-1.43.59L10.3 9.45l-7.72 7.72c-.78.78-.78 2.05 0 2.83L4 21.41c.39.39.9.59 1.41.59.51 0 1.02-.2 1.41-.59l7.78-7.78 2.81-2.81c.8-.78.8-2.07 0-2.86zM5.41 20L4 18.59l7.72-7.72 1.47 1.35L5.41 20z\"/>\n",
              "  </svg>\n",
              "      </button>\n",
              "      \n",
              "  <style>\n",
              "    .colab-df-container {\n",
              "      display:flex;\n",
              "      flex-wrap:wrap;\n",
              "      gap: 12px;\n",
              "    }\n",
              "\n",
              "    .colab-df-convert {\n",
              "      background-color: #E8F0FE;\n",
              "      border: none;\n",
              "      border-radius: 50%;\n",
              "      cursor: pointer;\n",
              "      display: none;\n",
              "      fill: #1967D2;\n",
              "      height: 32px;\n",
              "      padding: 0 0 0 0;\n",
              "      width: 32px;\n",
              "    }\n",
              "\n",
              "    .colab-df-convert:hover {\n",
              "      background-color: #E2EBFA;\n",
              "      box-shadow: 0px 1px 2px rgba(60, 64, 67, 0.3), 0px 1px 3px 1px rgba(60, 64, 67, 0.15);\n",
              "      fill: #174EA6;\n",
              "    }\n",
              "\n",
              "    [theme=dark] .colab-df-convert {\n",
              "      background-color: #3B4455;\n",
              "      fill: #D2E3FC;\n",
              "    }\n",
              "\n",
              "    [theme=dark] .colab-df-convert:hover {\n",
              "      background-color: #434B5C;\n",
              "      box-shadow: 0px 1px 3px 1px rgba(0, 0, 0, 0.15);\n",
              "      filter: drop-shadow(0px 1px 2px rgba(0, 0, 0, 0.3));\n",
              "      fill: #FFFFFF;\n",
              "    }\n",
              "  </style>\n",
              "\n",
              "      <script>\n",
              "        const buttonEl =\n",
              "          document.querySelector('#df-fd7ff22c-cadf-4934-ae54-77056598f277 button.colab-df-convert');\n",
              "        buttonEl.style.display =\n",
              "          google.colab.kernel.accessAllowed ? 'block' : 'none';\n",
              "\n",
              "        async function convertToInteractive(key) {\n",
              "          const element = document.querySelector('#df-fd7ff22c-cadf-4934-ae54-77056598f277');\n",
              "          const dataTable =\n",
              "            await google.colab.kernel.invokeFunction('convertToInteractive',\n",
              "                                                     [key], {});\n",
              "          if (!dataTable) return;\n",
              "\n",
              "          const docLinkHtml = 'Like what you see? Visit the ' +\n",
              "            '<a target=\"_blank\" href=https://colab.research.google.com/notebooks/data_table.ipynb>data table notebook</a>'\n",
              "            + ' to learn more about interactive tables.';\n",
              "          element.innerHTML = '';\n",
              "          dataTable['output_type'] = 'display_data';\n",
              "          await google.colab.output.renderOutput(dataTable, element);\n",
              "          const docLink = document.createElement('div');\n",
              "          docLink.innerHTML = docLinkHtml;\n",
              "          element.appendChild(docLink);\n",
              "        }\n",
              "      </script>\n",
              "    </div>\n",
              "  </div>\n",
              "  "
            ]
          },
          "metadata": {},
          "execution_count": 110
        }
      ]
    },
    {
      "cell_type": "markdown",
      "source": [
        "## Aufgrund der geringen Anzahl an vollständigen Datensätzen wird zunächst ein Decision Tree Modell versucht"
      ],
      "metadata": {
        "id": "zrh39L-eG45D"
      }
    },
    {
      "cell_type": "code",
      "source": [
        "# Importing the required packages \n",
        "import numpy as np \n",
        "import pandas as pd \n",
        "from sklearn.metrics import confusion_matrix \n",
        "from sklearn.model_selection import train_test_split \n",
        "from sklearn.tree import DecisionTreeClassifier \n",
        "from sklearn.metrics import accuracy_score \n",
        "from sklearn.metrics import classification_report \n",
        "\n",
        "# Suppress warnings \n",
        "# (sometimes you might want to ignore warnings, that's how you can achieve this)\n",
        "import warnings\n",
        "warnings.filterwarnings('ignore')\n"
      ],
      "metadata": {
        "id": "RnDN0mhHBMCM"
      },
      "execution_count": 122,
      "outputs": []
    },
    {
      "cell_type": "code",
      "source": [
        "# Defining X and y\n",
        "features = df_rest.columns.tolist()\n",
        "features.remove('DIAGNOSIS')\n",
        "X = df_rest[features]\n",
        "y = df_rest.DIAGNOSIS\n",
        "\n",
        "# Splitting the dataset\n",
        "X_train, X_test, y_train, y_test = train_test_split(X, y, test_size=0.3, random_state=150, shuffle=True)\n",
        "\n",
        "# Check the shape of the data sets\n",
        "print(\"X_train:\", X_train.shape)\n",
        "print(\"y_train:\", y_train.shape)\n",
        "print(\"X_test:\", X_test.shape)\n",
        "print(\"y_test:\", y_test.shape)"
      ],
      "metadata": {
        "colab": {
          "base_uri": "https://localhost:8080/"
        },
        "id": "86al2IBnA2uH",
        "outputId": "fd5eedd5-28f4-431e-81fe-45001907f41e"
      },
      "execution_count": 111,
      "outputs": [
        {
          "output_type": "stream",
          "name": "stdout",
          "text": [
            "X_train: (68, 2)\n",
            "y_train: (68,)\n",
            "X_test: (30, 2)\n",
            "y_test: (30,)\n"
          ]
        }
      ]
    },
    {
      "cell_type": "markdown",
      "source": [
        "Es stehen 68 vollständige Trainingsdatensätze und 30 vollständige Testdatensätze zur Verfügung.\n",
        "\n",
        "Training eines Decision Trees mit dem gini-Index:"
      ],
      "metadata": {
        "id": "Sq2ufMKnHCr7"
      }
    },
    {
      "cell_type": "code",
      "source": [
        "# Creating the classifier object \n",
        "clf_gini = DecisionTreeClassifier(criterion = \"gini\", \n",
        "            max_depth=3, min_samples_leaf=5) \n",
        "# Performing training \n",
        "clf_gini.fit(X_train, y_train)"
      ],
      "metadata": {
        "colab": {
          "base_uri": "https://localhost:8080/"
        },
        "id": "nWw-V4f1BZVD",
        "outputId": "e0188891-5c0a-4244-ea62-88221551ad2f"
      },
      "execution_count": 112,
      "outputs": [
        {
          "output_type": "execute_result",
          "data": {
            "text/plain": [
              "DecisionTreeClassifier(max_depth=3, min_samples_leaf=5)"
            ]
          },
          "metadata": {},
          "execution_count": 112
        }
      ]
    },
    {
      "cell_type": "code",
      "source": [
        "Vorhersage der Diagnose anhand der Testdaten:"
      ],
      "metadata": {
        "id": "vVPnp_RyHV-T"
      },
      "execution_count": null,
      "outputs": []
    },
    {
      "cell_type": "code",
      "source": [
        " # Predicton on test with giniIndex \n",
        "y_pred = clf_gini.predict(X_test) \n",
        "print(\"Predicted values:\\n\") \n",
        "print(y_pred)"
      ],
      "metadata": {
        "colab": {
          "base_uri": "https://localhost:8080/"
        },
        "id": "wjh2Bx95CIYJ",
        "outputId": "5d097fbe-2a59-4f8b-ce99-c869facae8cd"
      },
      "execution_count": 116,
      "outputs": [
        {
          "output_type": "stream",
          "name": "stdout",
          "text": [
            "Predicted values:\n",
            "\n",
            "['other' 'other' 'other' 'other' 'other' 'other' 'other' 'other' 'other'\n",
            " 'other' 'other' 'other' 'other' 'other' 'other' 'other' 'other' 'other'\n",
            " 'other' 'other' 'other' 'other' 'other' 'other' 'other' 'other' 'other'\n",
            " 'other' 'other' 'other']\n"
          ]
        }
      ]
    },
    {
      "cell_type": "markdown",
      "source": [
        "Darstellung der Konfusionsmatrix und der Accuracy:"
      ],
      "metadata": {
        "id": "nK1ukXv6Hdbo"
      }
    },
    {
      "cell_type": "code",
      "source": [
        "print(\"-----\"*15)\n",
        "print(\"Confusion Matrix: \\n\", \n",
        "confusion_matrix(y_test, y_pred)) \n",
        "\n",
        "print(\"-----\"*15)\n",
        "print (\"Accuracy : \\n\", \n",
        "accuracy_score(y_test,y_pred)*100) \n",
        "    \n",
        "print(\"-----\"*15)\n",
        "print(\"Report : \\n\", \n",
        "classification_report(y_test, y_pred))"
      ],
      "metadata": {
        "colab": {
          "base_uri": "https://localhost:8080/"
        },
        "id": "5txK7yDBCa0d",
        "outputId": "e03dd880-9dd8-4de9-df66-65a3050364c4"
      },
      "execution_count": 117,
      "outputs": [
        {
          "output_type": "stream",
          "name": "stdout",
          "text": [
            "---------------------------------------------------------------------------\n",
            "Confusion Matrix: \n",
            " [[ 0  4]\n",
            " [ 0 26]]\n",
            "---------------------------------------------------------------------------\n",
            "Accuracy : \n",
            " 86.66666666666667\n",
            "---------------------------------------------------------------------------\n",
            "Report : \n",
            "                precision    recall  f1-score   support\n",
            "\n",
            "breast_cancer       0.00      0.00      0.00         4\n",
            "        other       0.87      1.00      0.93        26\n",
            "\n",
            "     accuracy                           0.87        30\n",
            "    macro avg       0.43      0.50      0.46        30\n",
            " weighted avg       0.75      0.87      0.80        30\n",
            "\n"
          ]
        }
      ]
    },
    {
      "cell_type": "markdown",
      "source": [
        "Graphische Darstellung der Konfusionsmatrix:"
      ],
      "metadata": {
        "id": "IoND0OYEHkNm"
      }
    },
    {
      "cell_type": "code",
      "source": [
        "# Evaluate the model with a confusion matrix\n",
        "cm = confusion_matrix(y_test, y_pred)\n",
        "sns.heatmap(cm, cmap='YlGnBu', annot=True, fmt='d', linewidths=.5);"
      ],
      "metadata": {
        "colab": {
          "base_uri": "https://localhost:8080/",
          "height": 431
        },
        "id": "t-OoOHGSDMnf",
        "outputId": "e72ac9f1-4955-4495-82f9-4db4ed2a7af9"
      },
      "execution_count": 123,
      "outputs": [
        {
          "output_type": "display_data",
          "data": {
            "text/plain": [
              "<Figure size 792x504 with 2 Axes>"
            ],
            "image/png": "[encoded data removed]"
          },
          "metadata": {}
        }
      ]
    },
    {
      "cell_type": "markdown",
      "source": [
        "## Ein weiterer Machine Learning Ansatz mit Hilfe einer Logistic Regression Analyse"
      ],
      "metadata": {
        "id": "6okDHiVUHpnN"
      }
    },
    {
      "cell_type": "code",
      "source": [
        "# Import libraries\n",
        "import pandas as pd\n",
        "import numpy as np\n",
        "import matplotlib.pyplot as plt\n",
        "import seaborn as sns\n",
        "\n",
        "from sklearn.datasets import load_iris\n",
        "from sklearn.model_selection import train_test_split\n",
        "from sklearn.linear_model import LogisticRegression\n",
        "from sklearn.metrics import confusion_matrix, classification_report, accuracy_score\n",
        "\n",
        "# Set plotting style\n",
        "sns.set_style('whitegrid')\n",
        "plt.rcParams['font.size'] = 14\n",
        "plt.rcParams['figure.figsize'] = (11, 7)"
      ],
      "metadata": {
        "id": "0pRcbbyFC9qK"
      },
      "execution_count": 119,
      "outputs": []
    },
    {
      "cell_type": "markdown",
      "source": [
        "Aufteilung in Trainings- und Testdaten sowie Training des Modells\n",
        "Weiterhin graphische Darstellung der Konfusionsmatrix und der Accuracy."
      ],
      "metadata": {
        "id": "5AZkm8m1H92v"
      }
    },
    {
      "cell_type": "code",
      "source": [
        "# Logistic Regression\n",
        "log_reg = LogisticRegression(max_iter=1000)\n",
        "log_reg.fit(X_train, y_train)\n",
        "\n",
        "y_pred_train = log_reg.predict(X_train)\n",
        "y_pred = log_reg.predict(X_test)\n",
        "\n",
        "# Print accuracy of our model\n",
        "print(\"Accuracy on train set:\", round(accuracy_score(y_train, y_pred_train), 2))\n",
        "print(\"Accuracy on test set:\", round(accuracy_score(y_test, y_pred), 2))\n",
        "print(\"--------\"*10)\n",
        "\n",
        "# Print classification report of our model\n",
        "print(classification_report(y_test, y_pred))\n",
        "print(\"--------\"*10)\n",
        "\n",
        "# Evaluate the model with a confusion matrix\n",
        "cm = confusion_matrix(y_test, y_pred)\n",
        "sns.heatmap(cm, cmap='YlGnBu', annot=True, fmt='d', linewidths=.5);"
      ],
      "metadata": {
        "colab": {
          "base_uri": "https://localhost:8080/",
          "height": 657
        },
        "id": "LEUXpWOECsGM",
        "outputId": "a107bd57-2ceb-4a9b-ed88-7721e4c847e2"
      },
      "execution_count": 120,
      "outputs": [
        {
          "output_type": "stream",
          "name": "stdout",
          "text": [
            "Accuracy on train set: 1.0\n",
            "Accuracy on test set: 1.0\n",
            "--------------------------------------------------------------------------------\n",
            "               precision    recall  f1-score   support\n",
            "\n",
            "breast_cancer       1.00      1.00      1.00         4\n",
            "        other       1.00      1.00      1.00        26\n",
            "\n",
            "     accuracy                           1.00        30\n",
            "    macro avg       1.00      1.00      1.00        30\n",
            " weighted avg       1.00      1.00      1.00        30\n",
            "\n",
            "--------------------------------------------------------------------------------\n"
          ]
        },
        {
          "output_type": "display_data",
          "data": {
            "text/plain": [
              "<Figure size 792x504 with 2 Axes>"
            ],
            "image/png": "[encoded data removed]"
          },
          "metadata": {}
        }
      ]
    },
    {
      "cell_type": "markdown",
      "source": [],
      "metadata": {
        "id": "8BXqLnBs9Zxc"
      }
    }
  ]
}