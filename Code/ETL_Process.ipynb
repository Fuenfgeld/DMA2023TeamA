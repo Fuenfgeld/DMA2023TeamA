{
  "nbformat": 4,
  "nbformat_minor": 0,
  "metadata": {
    "colab": {
      "provenance": []
    },
    "kernelspec": {
      "name": "python3",
      "display_name": "Python 3"
    }
  },
  "cells": [
    {
      "cell_type": "markdown",
      "metadata": {
        "id": "rDF6jnIrk5L8"
      },
      "source": [
        "# Datawarehouse-Datenbank erstellen\n",
        "\n",
        "\n",
        "---\n",
        "\n",
        "Datensatz: [Synthea Breast Cancer Dataset](https://github.com/Fuenfgeld/DMA2023TeamA/tree/main/Daten/Quelldaten)\n",
        "\n",
        "Primär- und Fremdschlüsseldefinitionen: [Synthea GitHub Repository](https://github.com/synthetichealth/synthea/wiki/CSV-File-Data-Dictionary)\n",
        "\n",
        "Projektgruppe GitHub Repository: [DMA2023TeamA](https://github.com/Fuenfgeld/DMA2023TeamA)\n",
        "\n",
        "Source-DB: [GoogleDrive Ablage](https://drive.google.com/drive/folders/1k5cfjGXjNHmwQkydzjTdVHoBvCniBU_W), erstellt mit [Setup_and_fill_Database.ipynb](https://github.com/Fuenfgeld/DMA2023TeamA/blob/main/Code/Setup_and_fill_Database.ipynb)\n",
        "\n",
        "Mithilfe dieses Colab-Books wird aus der Source-Datenbank (= Staging-DB) eine Datawarehouse-Datenbank (DWH-Datenbank) (= Reporting-DB) erstellt, welche als OLAP-Datenbank für Analysen dient. \n",
        "\n"
      ]
    },
    {
      "cell_type": "markdown",
      "source": [
        "*Version*: 1.0\n",
        "\n",
        "Version Date: 28/01/2023"
      ],
      "metadata": {
        "id": "iquEGXxL9-hV"
      }
    },
    {
      "cell_type": "code",
      "metadata": {
        "id": "PAtASFg0NjWe"
      },
      "source": [
        "# Vorsichtshalber: Löschen aller Variablen\n",
        "%reset -f\n",
        "\n",
        "# Laden der benötigten Libraries\n",
        "from google.colab import drive\n",
        "import sqlite3 as sq\n",
        "from sqlite3 import Error\n",
        "import pandas as pd"
      ],
      "execution_count": null,
      "outputs": []
    },
    {
      "cell_type": "markdown",
      "source": [
        "Mounten des Google Drives, überprüfen des Verzeichnisses, in welchem die Datenbanken liegen.\n",
        "Außerdem setzen von Pfadangaben, die im späteren Code benötigt werden:\n",
        "\n",
        "\n",
        "1.   Festlegen des Pfads zur Quelldatenbank (DB_SOURCE)\n",
        "2.   Festlegen des Pfads zur Datawarehouse-Datenbank (DB_DWH)\n"
      ],
      "metadata": {
        "id": "9P-DcYkX-Ypk"
      }
    },
    {
      "cell_type": "code",
      "metadata": {
        "id": "f5SVaUDA3QRc"
      },
      "source": [
        "# Google Drive mounten, force_remount auf True setzen, damit ein Remount erzwungen wird\n",
        "drive.mount('/content/gdrive/', force_remount=True)\n",
        "\n",
        "# Datenbankordner auf dem Shareddrive checken, es müssen source_breast_cancer.db und DWH_breast_cancer.db vorhanden sein\n",
        "!ls \"/content/gdrive/Shareddrives/DMA_Datenprojekt_TeamA/Daten/Datenbank\"\n",
        "\n",
        "# Patiententyp festlegen\n",
        "patient_type = \"breast_cancer\"\n",
        "\n",
        "# Pfad zur Quelldatenbank setzen\n",
        "DB_SOURCE_PATH = \"/content/gdrive/Shareddrives/DMA_Datenprojekt_TeamA/Daten/Datenbank/source_breast_cancer.db\"\n",
        "\n",
        "# Pfad zur DWH-Datenbank setzen\n",
        "DB_DWH_PATH = \"/content/gdrive/Shareddrives/DMA_Datenprojekt_TeamA/Daten/Datenbank/DWH_breast_cancer.db\"\n",
        "\n",
        "# Check\n",
        "print(\"\\n\" + DB_SOURCE_PATH)\n",
        "\n",
        "print(\"\\n\" + DB_DWH_PATH)"
      ],
      "execution_count": null,
      "outputs": []
    },
    {
      "cell_type": "markdown",
      "metadata": {
        "id": "X_WekES-IlMO"
      },
      "source": [
        "# Erstellung der DWH-Datenbank (Reporting-DB)"
      ]
    },
    {
      "cell_type": "code",
      "metadata": {
        "id": "2SL03VkYnodn"
      },
      "source": [
        "class DB(object):\n",
        "  #__init__ Funktion, wird aufgerufen, wenn Klasse initiiert wird\n",
        "  def __init__(self, db_file):\n",
        "    # Verbindung zur Datenbank herstellen\n",
        "    self.conn = sq.connect(db_file)\n",
        "    # Cursor für Operationen auf die Datenbank herstellen\n",
        "    self.cur = self.conn.cursor()\n",
        "    self.__init_db()\n",
        "  \n",
        "  # Funktion für den Commit der Änderungen auf die Datenbank und das Schließen der Verbindung\n",
        "  def __del__(self):\n",
        "      self.conn.commit()\n",
        "      self.conn.close()\n",
        "\n",
        "  # Funktion für die Initialisierung der Datenbank\n",
        "  def __init_db(self):\n",
        "    # Im Folgenden werden die SQL-Queries angelegt, mithilfe welcher die Tabellen in der DWH-Datenbank erstellt werden\n",
        "    # Tabellen mit Tabellen mit Präfix \"F\" = Faktentabellen, Präfix \"D\" = Dimensionstabellen\n",
        "\n",
        "\n",
        "    #  sql query zum Erstellen der D_patients - Tabelle\n",
        "    create_D_patients = \"\"\"CREATE TABLE IF NOT EXISTS D_patients (\n",
        "                           Id VARCHAR PRIMARY KEY,\n",
        "                           BIRTHDATE DATE,\n",
        "                           DEATHDATE DATE,\n",
        "                           SSN VARCHAR,\n",
        "                           DRIVERS VARCHAR,\n",
        "                           PASSPORT VARCHAR,\n",
        "                           PREFIX VARCHAR,\n",
        "                           FIRST VARCHAR,\n",
        "                           LAST VARCHAR,\n",
        "                           SUFFIX VARCHAR,\n",
        "                           MAIDEN VARCHAR,\n",
        "                           MARITAL CHAR(1),\n",
        "                           RACE VARCHAR,\n",
        "                           ETHNICITY VARCHAR,\n",
        "                           GENDER CHAR(1),\n",
        "                           BIRTHPLACE VARCHAR,\n",
        "                           ADDRESS VARCHAR,\n",
        "                           CITY VARCHAR,\n",
        "                           STATE VARCHAR,\n",
        "                           COUNTRY VARCHAR,\n",
        "                           ZIP VARCHAR,\n",
        "                           LAT FLOAT,\n",
        "                           LON FLOAT,\n",
        "                           HEALTHCARE_EXPENSES FLOAT,\n",
        "                           HEALTHCARE_COVERAGE FLOAT);\"\"\" \n",
        "\n",
        "\n",
        "    #  sql query zum Erstellen der D_conditions - Tabelle\n",
        "    create_D_conditions = \"\"\"CREATE TABLE IF NOT EXISTS D_conditions (\n",
        "                           START DATE,\n",
        "                           STOP DATE,\n",
        "                           PATIENT VARCHAR,\n",
        "                           ENCOUNTER VARCHAR,\n",
        "                           CODE INTEGER,\n",
        "                           DESCRIPTION VARCHAR,\n",
        "                           FOREIGN KEY (PATIENT)\n",
        "                              REFERENCES patients (Id) \n",
        "                           FOREIGN KEY (Encounter)\n",
        "                              REFERENCES encounters (Id) \n",
        "                           );\"\"\"\n",
        "    \n",
        "\n",
        "    #  sql query zum Erstellen der D_procedures - Tabelle\n",
        "    create_D_procedures = \"\"\"CREATE TABLE IF NOT EXISTS D_procedures (\n",
        "                           DATE DATETIME,\n",
        "                           PATIENT VARCHAR,\n",
        "                           ENCOUNTER VARCHAR,\n",
        "                           CODE INTEGER,\n",
        "                           DESCRIPTION VARCHAR,\n",
        "                           BASE_COST FLOAT,\n",
        "                           REASONCODE VARCHAR,\n",
        "                           REASONDESCRIPTION VARCHAR,\n",
        "                           FOREIGN KEY (PATIENT)\n",
        "                             REFERENCES patients (Id) \n",
        "                           FOREIGN KEY (Encounter)\n",
        "                             REFERENCES encounters (Id) \n",
        "                           );\"\"\"\n",
        "\n",
        "    #  sql query zum Erstellen der D_medications - Tabelle\n",
        "    create_D_medications = \"\"\"CREATE TABLE IF NOT EXISTS D_medications (\n",
        "                           START DATETIME,\n",
        "                           STOP DATETIME,\n",
        "                           PATIENT VARCHAR,\n",
        "                           PAYER VARCHAR,\n",
        "                           ENCOUNTER VARCHAR,\n",
        "                           CODE VARCHAR,\n",
        "                           DESCRIPTION VARCHAR,\n",
        "                           BASE_COST FLOAT,\n",
        "                           PAYER_COVERAGE FLOAT,\n",
        "                           DISPENSES INTEGER,\n",
        "                           TOTAL_COST FLOAT,\n",
        "                           REASONCODE VARCHAR,\n",
        "                           REASONDESCRIPTION VARCHAR,\n",
        "                           FOREIGN KEY (PATIENT)\n",
        "                             REFERENCES patients (Id) \n",
        "                           FOREIGN KEY (PAYER)\n",
        "                             REFERENCES payers (Id)\n",
        "                           FOREIGN KEY (ENCOUNTER)\n",
        "                             REFERENCES encounters (Id) \n",
        "                           );\"\"\"\n",
        "\n",
        "    #  sql query zum Erstellen der D_payers - Tabelle\n",
        "    create_D_payers = \"\"\"CREATE TABLE IF NOT EXISTS D_payers (\n",
        "                      Id VARCHAR PRIMARY KEY,\n",
        "                      NAME VARCHAR,\n",
        "                      ADDRESS VARCHAR,\n",
        "                      CITY VARCHAR,\n",
        "                      STATE_HEADQUATERED VARCHAR,\n",
        "                      ZIP VARCHAR,\n",
        "                      PHONE VARCHAR,\n",
        "                      AMOUNT_COVERED FLOAT,\n",
        "                      ANOUNT_UNCOVERED FLOAT,\n",
        "                      REVENUE INTEGER,\n",
        "                      COVERED_ENCOUNTERS INTEGER,\n",
        "                      UNCOVERED_ENCOUNTERS INTEGER,\n",
        "                      COVERED_MEDICATIONS INTEGER,\n",
        "                      UNCOVERED_MEDIACTIONS INTEGER,\n",
        "                      COVERED_PROCEDURES INTEGER,\n",
        "                      UNCOVERED_PROCEDURES INTEGER,\n",
        "                      COVERED_IMMUNIZATIONS INTEGER,\n",
        "                      UNCOVERED_IMMUNIZATIONS INTEGER,\n",
        "                      UNIQUE_CUSTOMERS INTEGER,\n",
        "                      QOLS_AVG FLOAT,\n",
        "                      MEMBER_MONTHS INTEGER\n",
        "                      );\"\"\"\n",
        "\n",
        "    # sql query zum Erstellen der F_encounters - Tabelle\n",
        "    create_F_encounters = \"\"\"CREATE TABLE IF NOT EXISTS F_encounters (\n",
        "                           Id Varchar PRIMARY KEY,\n",
        "                           START DATETIME,\n",
        "                           STOP DATETIME,\n",
        "                           PATIENT VARCHAR,\n",
        "                           ORGANIZATION VARCHAR,\n",
        "                           PROVIDER VARCHAR,\n",
        "                           PAYER VARCHAR,\n",
        "                           ENCOUNTERCLASS VARCHAR,\n",
        "                           CODE INTEGER,\n",
        "                           DESCRIPTION VARCHAR,\n",
        "                           BASE_ENCOUNTER_COST FLOAT,\n",
        "                           TOTAL_CLAIM_COST FLOAT,\n",
        "                           PAYER_COVERAGE FLOAT,\n",
        "                           REASONCODE INTEGER,\n",
        "                           REASONDESCRIPTION VARCHAR,\n",
        "                           FOREIGN KEY (PATIENT)\n",
        "                             REFERENCES patients (Id)\n",
        "                           FOREIGN KEY (PAYER)\n",
        "                             REFERENCES payers (Id)\n",
        "                           );\"\"\"\n",
        "\n",
        "    # CREATE-TABLE-Statements in eine Liste zusammenfassen\n",
        "    create_tables = [create_D_patients, # Daten zu Patienten\n",
        "                     create_D_payers, # Daten zu Versicherungen\n",
        "                     create_D_procedures, # Daten zu Prozeduren\n",
        "                     create_D_medications, # Daten zu Medikamentionen\n",
        "                     create_F_encounters, # Daten zum Behandlungsfall (zentrale Faktentabelle)\n",
        "                     create_D_conditions # Daten zu Diagnosen\n",
        "                     ]\n",
        "     \n",
        "\n",
        "    if self.conn is not None:\n",
        "      # self.cur.execute(f\"drop table if exists medications_info\")\n",
        "      for query in create_tables:\n",
        "          # Führ jedes SQL-Statement aus der create_tables Liste aus\n",
        "          self.cur.execute(query)\n",
        "    else:\n",
        "      print('Connection to database failed')\n",
        "\n"
      ],
      "execution_count": null,
      "outputs": []
    },
    {
      "cell_type": "markdown",
      "metadata": {
        "id": "VUIHYzr2IxMl"
      },
      "source": [
        "#ETL-Strecke (Extract-Transform-Load) zur Befüllung der DWH-DB"
      ]
    },
    {
      "cell_type": "code",
      "metadata": {
        "id": "tBMOAjmPReGG"
      },
      "source": [
        "# Klasse um SQL-Queries zu exportieren\n",
        "class SqlQuery:\n",
        "  #__init__ Funktion, wird aufgerufen, wenn Klasse initiiert wird\n",
        "\n",
        "  \"\"\" sink_table = Zieltabelle in der DWH-Datenbank DWH_breast_cancer.db\n",
        "      column_names = Spaltennamen\n",
        "      source_table = Quelltabelle aus der Quelldatenbank source_breast_cancer.db\n",
        "  \"\"\"\n",
        "  def __init__(self, source_table, column_names, sink_table):\n",
        "    self.source_table = source_table\n",
        "    # Anzahl der column_names für loop\n",
        "    self.column_numbers = len(column_names)\n",
        "    # Spaltennamen als Liste, kommasepariert\n",
        "    self.column_names = ', '.join(column_names)\n",
        "    self.sink_table = sink_table\n",
        "\n",
        "  # Funktion extract_query gibt ein SQL-SELECT-Statement auf die Spalten der Quelltabelle source_breast_cancer.db zurück\n",
        "  # Spaltennamen kommen aus der liste \"column_names\"\n",
        "  def extract_query(self):\n",
        "    return 'SELECT ' + self.column_names + ' FROM ' + self.source_table \n",
        "\n",
        "  # Funktion load_query gibt ein SQL INSERT-INTO-Statement zurück, welches die Werte aus den Tabellen der Quelldatenbank in die Tabellen der DWH-Datenbank überträgt\n",
        "  def load_query(self):\n",
        "    values_str = '?,' * self.column_numbers\n",
        "    # print(\"*****\", values_str, column_names, column_numbers)\n",
        "    values_str = values_str[:-1]\n",
        "    return 'INSERT OR REPLACE INTO ' + self.sink_table + ' VALUES (' + values_str + ')'\n",
        "\n",
        "    # return 'INSERT INTO ' + self.sink_table + '(' + self.column_names + ') VALUES (' + values_str + ')'\n",
        "  \n",
        "\n"
      ],
      "execution_count": null,
      "outputs": []
    },
    {
      "cell_type": "code",
      "metadata": {
        "id": "FtEGoZc_PU5-"
      },
      "source": [
        "# Funktion etl extrahiert die Daten aus der Quelldatenbank und lädt die Daten in die DWH-Datenbank\n",
        "def etl(query, source_cnx, target_cnx):\n",
        "\n",
        "  \"\"\"source_cnx = Verbindung zur Quelldatenbank source_breast_cancer.db\n",
        "     target_cnx = Verbindung zur DWH-Datenbank DWH_breast_cancer.db\n",
        "     query = Objekt mit der Klasse \"SqlQuery\"\n",
        "  \"\"\"\n",
        "  source_cursor = source_cnx.cursor()\n",
        "  # extract_query() ist Methode aus der Klasse SqlQuery\n",
        "  source_cursor.execute(query.extract_query())\n",
        "  data = source_cursor.fetchall()\n",
        "  source_cursor.close()\n",
        "\n",
        "  # Wenn Daten in die Variable \"data\" über fetchall() gezogen wurden, wird die folgende Schleife ausgeführt \n",
        "  if data:\n",
        "    target_cursor = target_cnx.cursor()\n",
        "    # Multi-Query, .load_query() ist Methode aus der Klasse \"SqlQuery\"\n",
        "    target_cursor.executemany(query.load_query(), data)\n",
        "    print('Daten wurden erfolgreich in die DWH-Datenbank übertragen!') \n",
        "    # Änderungen commiten\n",
        "    target_cnx.commit()\n",
        "    # Verbindung zur DWH_DB schließen\n",
        "    target_cursor.close()\n",
        "  else:\n",
        "    print('Es wurden keine Daten übertragen.')\n",
        "\n",
        "# Funktion etl_process durchläuft die Liste der SQL-Queries und ruft jeweils die Funktion etl auf\n",
        "def etl_process(queries, target_cnx, db_source):\n",
        "  \"\"\" queries: query-Liste mit SQL\n",
        "      target_cnx: Verbindung zur DWH-Datenbank DWH_breast_cancer.db\n",
        "      db_source: Pfad zur Quelldatenbank source_breast_cancer.db (String)\n",
        "  \"\"\"  \n",
        "  # Verbindung zur Quelldatenbank herstellen\n",
        "  try:\n",
        "    source_cnx = sq.connect(db_source)\n",
        "  except Error as err:\n",
        "    print(err)\n",
        "  \n",
        "  # Durch alle queries Loopen, die als Liste übergeben wurden\n",
        "  for query in etl_queue:\n",
        "    # Funktion etl() aufrufen, welche die Daten aus den Tabellen der Quelldatenbank extrahiert und in die DWH-Datenbank lädt\n",
        "    etl(query, source_cnx, target_cnx)\n",
        "    \n",
        "  # Verbindung zur Quelldatenbank schließen\n",
        "  source_cnx.close()"
      ],
      "execution_count": null,
      "outputs": []
    },
    {
      "cell_type": "code",
      "metadata": {
        "id": "GB8GrFuLGRWb"
      },
      "source": [
        "# Objekt der Klasse DB erzeugen, als Argument den Pfad zur DWH-Datenbank übergeben\n",
        "dwh_db = DB(DB_DWH_PATH)"
      ],
      "execution_count": null,
      "outputs": []
    },
    {
      "cell_type": "code",
      "metadata": {
        "id": "Lc28YPjOOpb0"
      },
      "source": [
        "print('ETL-Prozess wird gestartet.')   \n",
        "# Liste für die SqlQueries anlegen\n",
        "etl_queue = []\n",
        "\n",
        "\n",
        "# Im Folgenden werden Objekte mit Klasse SqlQuery erzeugt\n",
        "\"\"\" Übergeben werden:\n",
        "    Sql_Query(a, b, c)\n",
        "    a = Quelltabelle aus der Quelldatenbank source_breast_cancer.db\n",
        "    b = Spaltennamen, welche in das DWH übertragen werden sollen\n",
        "    c = Zieltabelle in der DWH-Datenbank DWH_breast_cancer.db\n",
        "\"\"\"\n",
        "\n",
        "# Daten zu Patienten\n",
        "patients_columns = ['Id', 'BIRTHDATE', 'DEATHDATE', 'SSN', 'DRIVERS', 'PASSPORT', 'PREFIX',\n",
        "                    'FIRST', 'LAST', 'SUFFIX', 'MAIDEN', 'MARITAL', 'RACE', 'ETHNICITY',\n",
        "                    'GENDER', 'BIRTHPLACE', 'ADDRESS', 'CITY', 'STATE', 'COUNTRY', 'ZIP',\n",
        "                    'LAT', 'LON', 'HEALTHCARE_EXPENSES', 'HEALTHCARE_COVERAGE']\n",
        "\n",
        "sql_query_patients = SqlQuery(\"patients\", patients_columns, \"D_patients\")\n",
        "etl_queue.append(sql_query_patients)\n",
        "\n",
        "# Daten zu Diagnosen\n",
        "conditions_columns = ['START', 'STOP', 'PATIENT', 'ENCOUNTER', 'CODE', 'DESCRIPTION']\n",
        "\n",
        "sql_query_conditions = SqlQuery(\"conditions\", conditions_columns, \"D_conditions\")\n",
        "etl_queue.append(sql_query_conditions)\n",
        "\n",
        "# Daten zu Prozeduren\n",
        "procedures_columns = ['DATE', 'PATIENT', 'ENCOUNTER', 'CODE', 'DESCRIPTION', 'BASE_COST','REASONCODE', 'REASONDESCRIPTION']\n",
        "\n",
        "sql_query_procedures = SqlQuery(\"procedures\", procedures_columns, \"D_procedures\")\n",
        "etl_queue.append(sql_query_procedures)\n",
        "\n",
        "\n",
        "# Daten zu Versicherungen\n",
        "payers_columns = ['Id', 'NAME', 'ADDRESS', 'CITY', 'STATE_HEADQUATERED', 'ZIP', 'PHONE', \n",
        "                  'AMOUNT_COVERED', 'ANOUNT_UNCOVERED', 'REVENUE', 'COVERED_ENCOUNTERS',\n",
        "                  'UNCOVERED_ENCOUNTERS', 'COVERED_MEDICATIONS', 'UNCOVERED_MEDIACTIONS',\n",
        "                  'COVERED_PROCEDURES', 'UNCOVERED_PROCEDURES', 'COVERED_IMMUNIZATIONS',\n",
        "                  'UNCOVERED_IMMUNIZATIONS', 'UNIQUE_CUSTOMERS', 'QOLS_AVG', 'MEMBER_MONTHS']\n",
        "\n",
        "sql_query_payers = SqlQuery(\"payers\", payers_columns, \"D_payers\")\n",
        "etl_queue.append(sql_query_payers)\n",
        "\n",
        "# Daten zu Medikamentationen\n",
        "medications_columns = ['START', 'STOP', 'PATIENT', 'PAYER', 'ENCOUNTER', 'CODE', 'DESCRIPTION',\n",
        "                       'BASE_COST', 'PAYER_COVERAGE', 'DISPENSES', 'TOTAL_COST', 'REASONCODE',\n",
        "                       'REASONDESCRIPTION']\n",
        "\n",
        "sql_query_medications = SqlQuery(\"medications\", medications_columns, \"D_medications\")\n",
        "etl_queue.append(sql_query_medications)\n",
        "\n",
        "# Daten zu Behandlungsfällen\n",
        "encounters_columns = ['Id', 'START', 'STOP', 'PATIENT', 'ORGANIZATION', 'PROVIDER', 'PAYER',\n",
        "                      'ENCOUNTERCLASS', 'CODE', 'DESCRIPTION', 'BASE_ENCOUNTER_COST', 'TOTAL_CLAIM_COST',\n",
        "                      'PAYER_COVERAGE', 'REASONCODE', 'REASONDESCRIPTION']\n",
        "\n",
        "sql_query_encounters = SqlQuery(\"encounters\", encounters_columns, \"F_encounters\")\n",
        "etl_queue.append(sql_query_encounters)                     \n",
        "\n",
        "# list for iteration\n",
        "# etl_queue"
      ],
      "execution_count": null,
      "outputs": []
    },
    {
      "cell_type": "code",
      "metadata": {
        "id": "nzLfaWkfo3iC"
      },
      "source": [
        "# Verbindung zur DWH-Datenbank herstellen\n",
        "target_cnx = dwh_db.conn\n",
        "etl_process(etl_queue, target_cnx, DB_SOURCE_PATH)"
      ],
      "execution_count": null,
      "outputs": []
    },
    {
      "cell_type": "code",
      "metadata": {
        "id": "IB9oD761EGQx"
      },
      "source": [
        "# Änderungen Committen\n",
        "target_cnx.commit()"
      ],
      "execution_count": null,
      "outputs": []
    },
    {
      "cell_type": "code",
      "metadata": {
        "id": "0RCROkRXNexD"
      },
      "source": [
        "# Erstellte Tabellen checken\n",
        "dwh_cursor = target_cnx.cursor()\n",
        "dwh_cursor.execute(\"SELECT name FROM sqlite_master WHERE type='table';\")\n",
        "print(dwh_cursor.fetchall())\n"
      ],
      "execution_count": null,
      "outputs": []
    },
    {
      "cell_type": "code",
      "metadata": {
        "id": "sqkGj0mDK_V1"
      },
      "source": [
        "# Spalten einer Tabelle stichprobenartig checken\n",
        "dwh_cursor.execute('PRAGMA table_info(' + \"F_encounters\" + ');')\n",
        "dwh_cursor.fetchall()"
      ],
      "execution_count": null,
      "outputs": []
    },
    {
      "cell_type": "code",
      "metadata": {
        "id": "Rvpq5QEYfZmJ"
      },
      "source": [
        "# Testen einer Selektion\n",
        "dwh_cursor.execute(\"SELECT Id, BIRTHDATE, FIRST, LAST, MARITAL, GENDER from D_patients\")\n",
        "rows = dwh_cursor.fetchall()\n",
        "for row in rows[:10]:\n",
        "  print(row)"
      ],
      "execution_count": null,
      "outputs": []
    },
    {
      "cell_type": "code",
      "metadata": {
        "id": "tBYWvkuKEGeS"
      },
      "source": [
        "# Verbindung schließen\n",
        "target_cnx.close()"
      ],
      "execution_count": null,
      "outputs": []
    }
  ]
}