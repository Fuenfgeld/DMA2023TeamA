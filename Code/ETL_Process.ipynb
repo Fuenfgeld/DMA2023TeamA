{
  "nbformat": 4,
  "nbformat_minor": 0,
  "metadata": {
    "colab": {
      "provenance": []
    },
    "kernelspec": {
      "name": "python3",
      "display_name": "Python 3"
    }
  },
  "cells": [
    {
      "cell_type": "markdown",
      "metadata": {
        "id": "rDF6jnIrk5L8"
      },
      "source": [
        "# Data Warehouse-Datenbank erstellen\n",
        "\n",
        "\n",
        "---\n",
        "\n",
        "Datensatz: [Synthea Breast Cancer Dataset](https://github.com/Fuenfgeld/DMA2023TeamA/tree/main/Daten/Quelldaten)\n",
        "\n",
        "Primär- und Fremdschlüsseldefinitionen: [Synthea GitHub Repository](https://github.com/synthetichealth/synthea/wiki/CSV-File-Data-Dictionary)\n",
        "\n",
        "Projektgruppe GitHub Repository: [DMA2023TeamA](https://github.com/Fuenfgeld/DMA2023TeamA)\n",
        "\n",
        "Source-DB: [GoogleDrive Ablage](https://drive.google.com/drive/folders/1k5cfjGXjNHmwQkydzjTdVHoBvCniBU_W), erstellt mit [Setup_and_fill_Database.ipynb](https://github.com/Fuenfgeld/DMA2023TeamA/blob/main/Code/Setup_and_fill_Database.ipynb)\n",
        "\n",
        "Mithilfe dieses Colab-Books wird aus der Source-Datenbank (= Staging-DB) eine Data Warehouse-Datenbank (DWH-Datenbank) (= Reporting-DB) erstellt, welche als OLAP-Datenbank für Analysen dient. \n",
        "\n"
      ]
    },
    {
      "cell_type": "markdown",
      "source": [
        "*Version*: 3.0\n",
        "\n",
        "Version Date: 04/02/2023\n",
        "\n",
        "Changes: \n",
        "\n",
        "*   Versionsnummern der verwendeten Pakete ausgeben (Link: https://colab.research.google.com/drive/1hEBFYWiAFUNKBRinhEY43eOEqXeaHohi#scrollTo=0CiLSmoxK2EH&line=3&uniqifier=1)\n",
        "*   Segment zum Löschen vorhandener Tabellen in der DWH-Datenbank eingefügt, damit diese vor Ausführung des Skriptes leer ist (Link: https://colab.research.google.com/drive/1hEBFYWiAFUNKBRinhEY43eOEqXeaHohi#scrollTo=KlUM0-X_KVhk&line=1&uniqifier=1)\n",
        "*  CREATE Table Statements an neues Datenmodell angepasst\n",
        "*  Klasse SqlQuery angepasst um Daten aus mehreren verknüpften Tabellen der Quelldatenbank extrahieren zu können\n",
        "*  SQL Statements zum Extrahieren der benötigten Daten aus den Tabellen der Quelldatenbank ergänzt\n",
        "* Funktion zum Auslesen der Spaltennamen einer Datenbanktabelle ergänzt\n",
        "\n"
      ],
      "metadata": {
        "id": "iquEGXxL9-hV"
      }
    },
    {
      "cell_type": "code",
      "metadata": {
        "id": "PAtASFg0NjWe"
      },
      "source": [
        "# Vorsichtshalber: Löschen aller Variablen\n",
        "%reset -f\n",
        "\n",
        "# Laden der benötigten Libraries\n",
        "from google.colab import drive\n",
        "import sqlite3 as sq\n",
        "from sqlite3 import Error\n",
        "import pandas as pd"
      ],
      "execution_count": null,
      "outputs": []
    },
    {
      "cell_type": "markdown",
      "source": [
        "Mounten des Google Drives, überprüfen des Verzeichnisses, in welchem die Datenbanken liegen.\n",
        "Außerdem setzen von Pfadangaben, die im späteren Code benötigt werden:\n",
        "\n",
        "\n",
        "1.   Festlegen des Pfads zur Quelldatenbank (DB_SOURCE)\n",
        "2.   Festlegen des Pfads zur DWH-Datenbank (DB_DWH)\n"
      ],
      "metadata": {
        "id": "9P-DcYkX-Ypk"
      }
    },
    {
      "cell_type": "code",
      "metadata": {
        "id": "f5SVaUDA3QRc"
      },
      "source": [
        "# Google Drive mounten, force_remount auf True setzen, damit ein Remount erzwungen wird\n",
        "drive.mount('/content/gdrive/', force_remount=True)\n",
        "\n",
        "# Datenbankordner auf dem Shareddrive checken, es müssen source_breast_cancer.db und DWH_breast_cancer.db vorhanden sein\n",
        "!ls \"/content/gdrive/Shareddrives/DMA_Datenprojekt_TeamA/Daten/Datenbank\"\n",
        "\n",
        "# Patiententyp festlegen\n",
        "patient_type = \"breast_cancer\"\n",
        "\n",
        "# Pfad zur Quelldatenbank setzen\n",
        "DB_SOURCE_PATH = \"/content/gdrive/Shareddrives/DMA_Datenprojekt_TeamA/Daten/Datenbank/source_breast_cancer.db\"\n",
        "\n",
        "# Pfad zur DWH-Datenbank setzen\n",
        "DB_DWH_PATH = \"/content/gdrive/Shareddrives/DMA_Datenprojekt_TeamA/Daten/Datenbank/DWH_breast_cancer.db\"\n",
        "\n",
        "# Check\n",
        "print(\"\\n\" + DB_SOURCE_PATH)\n",
        "\n",
        "print(\"\\n\" + DB_DWH_PATH)"
      ],
      "execution_count": null,
      "outputs": []
    },
    {
      "cell_type": "markdown",
      "source": [
        "# Eventuell vorhandene Tabellen in der DWH-DB löschen\n",
        "Es muss überprüft werden, ob in der DWH-DB schon Tabellen vorhanden sind, da dieses Skript die Tabellen in der DWH-DB anlegt. Wenn Tabellen vorhanden sind, sollen ausgegeben werden, um welche Tabellen es sich handelt und die Tabellen im Anschluss gelöscht werden."
      ],
      "metadata": {
        "id": "KlUM0-X_KVhk"
      }
    },
    {
      "cell_type": "code",
      "source": [
        "# Datenbankverbindung zum DWH aufbauen\n",
        "conn = sq.connect(DB_DWH_PATH) \n",
        "if conn is not None:\n",
        "  cursor = conn.cursor()\n",
        "else:\n",
        "  print(\"Verbindung fehlgeschlagen. Bitte überprüfen!\")\n",
        "\n",
        "# Alle Tabellennamen aus der Datenbank ziehen\n",
        "cursor.execute(\"SELECT name FROM sqlite_master WHERE type='table';\")\n",
        "tablelist = cursor.fetchall()\n",
        "\n",
        "# Tabellennamen ausgeben, wenn vorhanden\n",
        "if tablelist == []:\n",
        "  print(\"In der Data Warehouse Datenbank sind keine Tabellen vorhanden. Sie können mit der Ausführung des Skriptes fortfahren.\")\n",
        "else:\n",
        "  print(\"Folgende Tabellen sind in der Datenbank vorhanden: \")\n",
        "  print(tablelist)\n",
        "\n",
        "\n",
        "for tablename in tablelist:\n",
        "  try:\n",
        "    # Name der Tabelle in einen String konvertieren, damit String-Operationen durchgeführt werden können\n",
        "    str_tablename = str(tablename)\n",
        "    # Entfernen von \"('\" und \"',)\" - Übriggebliebene Formatierungs-Elemente aus der Liste\n",
        "    str_tablename = str_tablename.replace(\"('\", \"\").replace(\"',)\", \"\")\n",
        "    \n",
        "    # Variable mit dem SQL-Statement erstellen\n",
        "    droptable = (\"DROP TABLE \" + str_tablename + \";\")\n",
        "    cursor.execute(droptable)\n",
        "    print(\"Tabelle \" + str_tablename + \" wurde aus der Datenbank gelöscht.\")\n",
        "\n",
        "  except:\n",
        "    print(\"In der Datenbank sind keine Tabellen vorhanden. Sie können mit der Ausführung des Skriptes fortfahren.\")\n",
        "\n",
        "# Tabellen in der DB überprüfen, ob richtig gelsöcht wurde\n",
        "cursor.execute(\"SELECT name FROM sqlite_master WHERE type='table';\")\n",
        "tablecheck = cursor.fetchall()\n",
        "print(tablecheck)\n",
        "\n",
        "# Commit und Close\n",
        "conn.commit()\n",
        "conn.close()"
      ],
      "metadata": {
        "id": "0jBgUJwP4k5U"
      },
      "execution_count": null,
      "outputs": []
    },
    {
      "cell_type": "markdown",
      "source": [
        "# Versionen der verwendeten Pakete abfragen \n",
        "\n",
        "Die Versionen der verwendeten Python-Installation und der Python-Pakete abfragen. "
      ],
      "metadata": {
        "id": "0CiLSmoxK2EH"
      }
    },
    {
      "cell_type": "code",
      "source": [
        "# Python-Version\n",
        "print(\"Python-Version:\")\n",
        "!python --version\n",
        "\n",
        "\n",
        "# Pandas-Version\n",
        "print(\"\\n\" + \"Pandas-Version:\")\n",
        "print(\"Pandas \" + pd.__version__)\n",
        "\n",
        "# sqlitee-Version\n",
        "print(\"\\n\" + \"sqlite3-Version:\")\n",
        "print(\"sqlite3 \" + sq.sqlite_version)\n"
      ],
      "metadata": {
        "id": "GefZIi4qLj-n"
      },
      "execution_count": null,
      "outputs": []
    },
    {
      "cell_type": "markdown",
      "metadata": {
        "id": "X_WekES-IlMO"
      },
      "source": [
        "# Erstellung der DWH-Datenbank (Reporting-DB)"
      ]
    },
    {
      "cell_type": "code",
      "metadata": {
        "id": "2SL03VkYnodn"
      },
      "source": [
        "class DB(object):\n",
        "  #__init__ Funktion, wird aufgerufen, wenn Klasse initiiert wird\n",
        "  def __init__(self, db_file):\n",
        "    # Verbindung zur Datenbank herstellen\n",
        "    self.conn = sq.connect(db_file)\n",
        "    # Cursor für Operationen auf die Datenbank herstellen\n",
        "    self.cur = self.conn.cursor()\n",
        "    self.__init_db()\n",
        "  \n",
        "  # Funktion für den Commit der Änderungen auf die Datenbank und das Schließen der Verbindung\n",
        "  def __del__(self):\n",
        "      self.conn.commit()\n",
        "      self.conn.close()\n",
        "\n",
        "  # Funktion für die Initialisierung der Datenbank\n",
        "  def __init_db(self):\n",
        "    # Im Folgenden werden die SQL-Queries angelegt, mithilfe welcher die Tabellen in der DWH-Datenbank erstellt werden\n",
        "    # Tabellen mit Tabellen mit Präfix \"F\" = Faktentabellen, Präfix \"D\" = Dimensionstabellen\n",
        "\n",
        "    # sql query zum Erstellen der D_patients - Tabelle\n",
        "    create_D_patients = \"\"\"CREATE TABLE IF NOT EXISTS D_patients (\n",
        "                        Id VARCHAR PRIMARY KEY,\n",
        "                        BIRTHDATE DATE,\n",
        "                        DEATHDATE DATE,\n",
        "                        FIRST VARCHAR,\n",
        "                        LAST VARCHAR,\n",
        "                        RACE VARCHAR,\n",
        "                        ETHNICITY VARCHAR,\n",
        "                        GENDER CHAR(1),\n",
        "                        HEALTHCARE_EXPENSES FLOAT,\n",
        "                        HEALTHCARE_COVERAGE FLOAT\n",
        "                        );\"\"\"\n",
        "\n",
        "    # sql query zum Erstellen der D_payers - Tabelle\n",
        "    create_D_payers = \"\"\"CREATE TABLE IF NOT EXISTS D_payers (\n",
        "                      Id VARCHAR PRIMARY KEY,\n",
        "                      NAME VARCHAR\n",
        "                      );\"\"\"\n",
        "\n",
        "    # sql query zum Erstellen der D_snomedct - Tabelle\n",
        "    create_D_snomedct = \"\"\"CREATE TABLE IF NOT EXISTS D_snomedct (\n",
        "                        CODE INTEGER PRIMARY KEY,\n",
        "                        TERM VARCHAR\n",
        "                        );\"\"\"\n",
        "\n",
        "    # sql query zum Erstellen der D_rxnorm - Tabelle\n",
        "    create_D_rxnorm = \"\"\"CREATE TABLE IF NOT EXISTS D_rxnorm (\n",
        "                      CODE INTEGER PRIMARY KEY,\n",
        "                      NAME VARCHAR\n",
        "                      );\"\"\"\n",
        "\n",
        "    # sql query zum Erstellen der F_encounter_costs - Tabelle\n",
        "    create_F_encounter_costs = \"\"\"CREATE TABLE IF NOT EXISTS F_encounter_costs (\n",
        "                               Id VARCHAR PRIMARY KEY,\n",
        "                               ENC_START DATETIME,\n",
        "                               ENC_STOP DATETIME,\n",
        "                               PATIENT VARCHAR,\n",
        "                               ENC_PAYER VARCHAR,\n",
        "                               ENC_BASE_COST FLOAT,\n",
        "                               ENC_TOTAL_CLAIM_COST FLOAT,\n",
        "                               ENC_PAYER_COVERAGE FLOAT,\n",
        "                               ENC_REASON INTEGER,\n",
        "                               PRO_DATE DATETIME,\n",
        "                               PRO_CODE INTEGER,\n",
        "                               PRO_BASE_COST FLOAT,\n",
        "                               PRO_REASON INTEGER,\n",
        "                               MED_START DATETIME,\n",
        "                               MED_STOP DATETIME,\n",
        "                               MED_CODE INTEGER,\n",
        "                               MED_BASE_COST FLOAT,\n",
        "                               MED_DISPENSES INTEGER,\n",
        "                               MED_TOTAL_COST FLOAT,\n",
        "                               MED_PAYER_COVERAGE FLOAT,\n",
        "                               MED_PAYER VARCHAR,\n",
        "                               MED_REASON INTEGER,\n",
        "                               CON_START DATETIME,\n",
        "                               CON_STOP DATETIME,\n",
        "                               CON_CODE INTEGER,\n",
        "                               FOREIGN KEY (PATIENT)\n",
        "                                REFERENCES D_patients (Id),\n",
        "                               FOREIGN KEY\n",
        "                                (ENC_PAYER) REFERENCES D_payers (Id),\n",
        "                               FOREIGN KEY\n",
        "                                (MED_PAYER) REFERENCES D_payers (Id),\n",
        "                               FOREIGN KEY\n",
        "                                (ENC_REASON) REFERENCES D_snomedct (Code),\n",
        "                               FOREIGN KEY (PRO_CODE)\n",
        "                                REFERENCES D_snomedct (Code),\n",
        "                               FOREIGN KEY (PRO_REASON)\n",
        "                                REFERENCES D_snomedct (Code),\n",
        "                               FOREIGN KEY (MED_REASON)\n",
        "                                REFERENCES D_snomedct (Code),\n",
        "                               FOREIGN KEY (CON_CODE)\n",
        "                                REFERENCES D_snomedct (Code),\n",
        "                               FOREIGN KEY (MED_CODE)\n",
        "                                REFERENCES D_rxnorm (Code)\n",
        "                               );\"\"\"\n",
        "\n",
        "    # CREATE-TABLE-Statements in eine Liste zusammenfassen\n",
        "    create_tables = [create_D_patients, # Daten zu Patienten\n",
        "                     create_D_payers, # Daten zu Versicherungen\n",
        "                     create_D_snomedct, # SNOMED CT Referenztabelle\n",
        "                     create_D_rxnorm, # RXNorm Referenztabelle\n",
        "                     create_F_encounter_costs, # Daten zum Behandlungsfall (zentrale Faktentabelle)\n",
        "                     ]\n",
        "     \n",
        "    if self.conn is not None:\n",
        "      for query in create_tables:\n",
        "          # Führ jedes SQL-Statement aus der create_tables Liste aus\n",
        "          self.cur.execute(query)\n",
        "          print('Table created')\n",
        "    else:\n",
        "      print('Connection to database failed')\n",
        "\n"
      ],
      "execution_count": null,
      "outputs": []
    },
    {
      "cell_type": "markdown",
      "metadata": {
        "id": "VUIHYzr2IxMl"
      },
      "source": [
        "#ETL-Strecke (Extract-Transform-Load) zur Befüllung der DWH-Datenbank"
      ]
    },
    {
      "cell_type": "code",
      "source": [
        "# Klasse um SQL-Queries zu exportieren\n",
        "class SqlQuery:\n",
        "  #__init__ Funktion, wird aufgerufen, wenn Klasse initiiert wird\n",
        "\n",
        "  \"\"\" sink_table = Zieltabelle in der DWH-Datenbank\n",
        "      sink_column_names = Spaltennamen in der DWH-Datenbank\n",
        "      source_extract = SQL Query um Daten aus der Quelldatenbank zu extrahieren\n",
        "  \"\"\"\n",
        "  def __init__(self, source_query, sink_table, sink_column_names):\n",
        "    self.source_query = source_query\n",
        "    self.sink_table = sink_table\n",
        "    # Anzahl der column_names für loop\n",
        "    self.sink_column_numbers = len(sink_column_names)\n",
        "    # Spaltennamen der Quelltabellen als Liste, kommasepariert\n",
        "    self.sink_column_names = ', '.join(sink_column_names)\n",
        "\n",
        "  # Funktion extract_query gibt ein SQL-SELECT-Statement auf die Spalten der Quelltabelle in der Quelldatenbank source_breast_cancer.db zurück\n",
        "  def extract_query(self):\n",
        "    return self.source_query\n",
        "\n",
        "  # Funktion load_query gibt ein SQL INSERT-INTO-Statement zurück, welches die Werte in die Tabellen der DWH-Datenbank überträgt\n",
        "  def load_query(self):\n",
        "    values_str = '?,' * self.sink_column_numbers\n",
        "    # print(\"*****\", values_str, column_names, column_numbers)\n",
        "    values_str = values_str[:-1]\n",
        "    return 'INSERT OR REPLACE INTO ' + self.sink_table + ' VALUES (' + values_str + ')'\n",
        "\n",
        "    # return 'INSERT INTO ' + self.sink_table + '(' + self.column_names + ') VALUES (' + values_str + ')'\n",
        "  \n"
      ],
      "metadata": {
        "id": "X_W6l8olXlpe"
      },
      "execution_count": null,
      "outputs": []
    },
    {
      "cell_type": "code",
      "metadata": {
        "id": "FtEGoZc_PU5-"
      },
      "source": [
        "# Funktion etl extrahiert die Daten aus der Quelldatenbank und lädt die Daten in die DWH-Datenbank\n",
        "def etl(query, source_cnx, target_cnx):\n",
        "\n",
        "  \"\"\"source_cnx = Verbindung zur Quelldatenbank\n",
        "     target_cnx = Verbindung zur DWH-Datenbank\n",
        "     query = Objekt mit der Klasse \"SqlQuery\"\n",
        "  \"\"\"\n",
        "  source_cursor = source_cnx.cursor()\n",
        "  # extract_query() ist Methode aus der Klasse SqlQuery\n",
        "  source_cursor.execute(query.extract_query())\n",
        "  data = source_cursor.fetchall()\n",
        "  source_cursor.close()\n",
        "\n",
        "  # Wenn Daten in die Variable \"data\" über fetchall() gezogen wurden, wird die folgende Schleife ausgeführt \n",
        "  if data:\n",
        "    target_cursor = target_cnx.cursor()\n",
        "    # Multi-Query, .load_query() ist Methode aus der Klasse \"SqlQuery\"\n",
        "    target_cursor.executemany(query.load_query(), data)\n",
        "    print('Daten wurden erfolgreich in die DWH-Datenbank übertragen!')\n",
        "    # Änderungen commiten\n",
        "    target_cnx.commit()\n",
        "    # Verbindung zur DWH_DB schließen\n",
        "    target_cursor.close()\n",
        "  else:\n",
        "    print('Es wurden keine Daten übertragen.')\n",
        "\n",
        "# Funktion etl_process durchläuft die Liste der SQL-Queries und ruft jeweils die Funktion etl auf\n",
        "def etl_process(queries, target_cnx, db_source):\n",
        "  \"\"\" queries: query-Liste mit SQL\n",
        "      target_cnx: Verbindung zur DWH-Datenbank \n",
        "      db_source: Pfad zur Quelldatenbank\n",
        "  \"\"\"  \n",
        "  # Verbindung zur Quelldatenbank herstellen\n",
        "  try:\n",
        "    source_cnx = sq.connect(db_source)\n",
        "  except Error as err:\n",
        "    print(err)\n",
        "  \n",
        "  # Durch alle queries Loopen, die als Liste übergeben wurden\n",
        "  for query in etl_queue:\n",
        "    # Funktion etl() aufrufen, welche die Daten aus den Tabellen der Quelldatenbank extrahiert und in die DWH-Datenbank lädt\n",
        "    etl(query, source_cnx, target_cnx)\n",
        "    \n",
        "  # Verbindung zur Quelldatenbank schließen\n",
        "  source_cnx.close()\n"
      ],
      "execution_count": null,
      "outputs": []
    },
    {
      "cell_type": "code",
      "source": [
        "# Funktion um alle Spaltennamen einer Tabelle tb in einer Datenbank db als Liste auszugeben\n",
        "def get_column_names(db, tb):\n",
        "  tb_colnames = []\n",
        "\n",
        "  try:\n",
        "    db_cnx = sq.connect(db)\n",
        "  except Error as err:\n",
        "    print(err)\n",
        "\n",
        "  db_cur = db_cnx.cursor()\n",
        "  db_cur.execute('SELECT name FROM pragma_table_info(\"'+ tb + '\");')\n",
        "\n",
        "  for column in db_cur.fetchall():\n",
        "    tb_colnames.append(column[0])\n",
        "\n",
        "  return tb_colnames"
      ],
      "metadata": {
        "id": "CPv9Iyz-YwpL"
      },
      "execution_count": null,
      "outputs": []
    },
    {
      "cell_type": "code",
      "metadata": {
        "id": "GB8GrFuLGRWb"
      },
      "source": [
        "# Objekt der Klasse DB erzeugen, als Argument den Pfad zur DWH-Datenbank übergeben\n",
        "dwh_db = DB(DB_DWH_PATH)"
      ],
      "execution_count": null,
      "outputs": []
    },
    {
      "cell_type": "code",
      "metadata": {
        "id": "Lc28YPjOOpb0"
      },
      "source": [
        "print('ETL-Prozess wird gestartet.')   \n",
        "# Liste für die SqlQueries anlegen\n",
        "etl_queue = []\n",
        "\n",
        "\n",
        "# Im Folgenden werden Objekte mit Klasse SqlQuery erzeugt\n",
        "\"\"\" Übergeben werden:\n",
        "    a = Quelltabelle aus der Quelldatenbank\n",
        "    b = Zieltabelle in der DWH-Datenbank\n",
        "    c = Spaltennamen in der Zieltabelle in der DWH-Datenbank\n",
        "\"\"\"\n",
        "\n",
        "# Daten zu Patienten\n",
        "D_patients_columns = get_column_names(DB_DWH_PATH, 'D_patients')\n",
        "D_patients_extract = \"\"\"\n",
        "                      SELECT id,\n",
        "                             birthdate,\n",
        "                             deathdate,\n",
        "                             first,\n",
        "                             last,\n",
        "                             race,\n",
        "                             ethnicity,\n",
        "                             gender,\n",
        "                             healthcare_expenses,\n",
        "                             healthcare_coverage\n",
        "                      FROM   patients;\n",
        "                     \"\"\"\n",
        "sql_query_D_patients = SqlQuery(D_patients_extract, \"D_patients\", D_patients_columns)\n",
        "etl_queue.append(sql_query_D_patients)\n",
        "\n",
        "# Daten zu Versicherungen\n",
        "D_payers_columns = get_column_names(DB_DWH_PATH, 'D_payers')\n",
        "D_payers_extract = \"\"\"\n",
        "                    SELECT id,\n",
        "                           name\n",
        "                    FROM   payers;\n",
        "                   \"\"\"\n",
        "sql_query_D_payers = SqlQuery(D_payers_extract, \"D_payers\", D_payers_columns)\n",
        "etl_queue.append(sql_query_D_payers)\n",
        "\n",
        "# SNOMED CT Codes\n",
        "D_snomedct_columns = get_column_names(DB_DWH_PATH, 'D_snomedct')\n",
        "D_snomedct_extract = \"\"\"\n",
        "                      SELECT pro.code              AS CODE,\n",
        "                             pro.description       AS TERM\n",
        "                      FROM   procedures AS pro\n",
        "                      WHERE  NOT pro.code = \"\"\n",
        "                      UNION\n",
        "                      SELECT pro.reasoncode        AS CODE,\n",
        "                             pro.reasondescription AS TERM\n",
        "                      FROM   procedures AS pro\n",
        "                      WHERE  NOT pro.reasoncode = \"\"\n",
        "                      UNION\n",
        "                      SELECT enc.reasoncode        AS CODE,\n",
        "                             enc.reasondescription AS TERM\n",
        "                      FROM   encounters AS enc\n",
        "                      WHERE  NOT enc.reasoncode = \"\"\n",
        "                      UNION\n",
        "                      SELECT med.reasoncode        AS CODE,\n",
        "                             med.reasondescription AS TERM\n",
        "                      FROM   medications AS med\n",
        "                      WHERE  NOT med.reasoncode = \"\"\n",
        "                      UNION\n",
        "                      SELECT con.code        AS CODE,\n",
        "                             con.description AS TERM\n",
        "                      FROM   conditions AS con\n",
        "                      WHERE  NOT con.code = \"\";\n",
        "                    \"\"\"\n",
        "sql_query_D_snomedct = SqlQuery(D_snomedct_extract, \"D_snomedct\", D_snomedct_columns)\n",
        "etl_queue.append(sql_query_D_snomedct)\n",
        "\n",
        "# RXNorm Codes\n",
        "D_rxnorm_columns = get_column_names(DB_DWH_PATH, 'D_rxnorm')\n",
        "D_rxnorm_extract = \"\"\"\n",
        "                      SELECT DISTINCT(code),\n",
        "                             description\n",
        "                      FROM   medications;\n",
        "                    \"\"\"\n",
        "sql_query_D_rxnorm = SqlQuery(D_rxnorm_extract, \"D_rxnorm\", D_rxnorm_columns)\n",
        "etl_queue.append(sql_query_D_rxnorm)\n",
        "\n",
        "# Daten zu Behandlungsfällen und Kosten\n",
        "F_encounter_costs_columns = get_column_names(DB_DWH_PATH, 'F_encounter_costs')\n",
        "F_encounter_costs_extract = \"\"\"\n",
        "                              SELECT enc.id,\n",
        "                                     enc.start,\n",
        "                                     enc.stop,\n",
        "                                     enc.patient,\n",
        "                                     enc.payer,\n",
        "                                     enc.base_encounter_cost,\n",
        "                                     enc.total_claim_cost,\n",
        "                                     enc.payer_coverage,\n",
        "                                     enc.reasoncode,\n",
        "                                     pro.date,\n",
        "                                     pro.code,\n",
        "                                     pro.base_cost,\n",
        "                                     pro.reasoncode,\n",
        "                                     med.start,\n",
        "                                     med.stop,\n",
        "                                     med.code,\n",
        "                                     med.base_cost,\n",
        "                                     med.dispenses,\n",
        "                                     med.total_cost,\n",
        "                                     med.payer_coverage,\n",
        "                                     med.payer,\n",
        "                                     med.reasoncode,\n",
        "                                     con.start,\n",
        "                                     con.stop,\n",
        "                                     con.code\n",
        "                              FROM   encounters AS enc\n",
        "                                     LEFT JOIN procedures AS pro\n",
        "                                            ON enc.id = pro.encounter\n",
        "                                     LEFT JOIN medications AS med\n",
        "                                            ON enc.id = med.encounter\n",
        "                                     LEFT JOIN conditions AS con\n",
        "                                            ON enc.id = con.encounter;\n",
        "                            \"\"\"\n",
        "sql_query_F_encounter_costs = SqlQuery(F_encounter_costs_extract, \"F_encounter_costs\", F_encounter_costs_columns)\n",
        "etl_queue.append(sql_query_F_encounter_costs)\n",
        "\n",
        "# list for iteration\n",
        "etl_queue"
      ],
      "execution_count": null,
      "outputs": []
    },
    {
      "cell_type": "code",
      "metadata": {
        "id": "nzLfaWkfo3iC"
      },
      "source": [
        "# Verbindung zur DWH-Datenbank herstellen\n",
        "target_cnx = dwh_db.conn\n",
        "etl_process(etl_queue, target_cnx, DB_SOURCE_PATH)"
      ],
      "execution_count": null,
      "outputs": []
    },
    {
      "cell_type": "code",
      "metadata": {
        "id": "IB9oD761EGQx"
      },
      "source": [
        "# Änderungen Committen\n",
        "target_cnx.commit()"
      ],
      "execution_count": null,
      "outputs": []
    },
    {
      "cell_type": "code",
      "metadata": {
        "id": "0RCROkRXNexD"
      },
      "source": [
        "# Erstellte Tabellen checken\n",
        "dwh_cursor = target_cnx.cursor()\n",
        "dwh_cursor.execute(\"SELECT name FROM sqlite_master WHERE type='table';\")\n",
        "print(dwh_cursor.fetchall())\n"
      ],
      "execution_count": null,
      "outputs": []
    },
    {
      "cell_type": "code",
      "metadata": {
        "id": "sqkGj0mDK_V1"
      },
      "source": [
        "# Spalten einer Tabelle stichprobenartig checken\n",
        "dwh_cursor.execute('PRAGMA table_info(' + \"F_encounter_costs\" + ');')\n",
        "dwh_cursor.fetchall()"
      ],
      "execution_count": null,
      "outputs": []
    },
    {
      "cell_type": "code",
      "metadata": {
        "id": "Rvpq5QEYfZmJ"
      },
      "source": [
        "# Testen einer Selektion: F_encounter_costs\n",
        "dwh_cursor.execute(\"SELECT * from F_encounter_costs\")\n",
        "rows = dwh_cursor.fetchall()\n",
        "for row in rows[:10]:\n",
        "  print(row)"
      ],
      "execution_count": null,
      "outputs": []
    },
    {
      "cell_type": "code",
      "source": [
        "# Testen einer Selektion: D_patients\n",
        "dwh_cursor.execute(\"SELECT * from D_patients\")\n",
        "rows = dwh_cursor.fetchall()\n",
        "for row in rows[:10]:\n",
        "  print(row)"
      ],
      "metadata": {
        "id": "JDQ28LCZUa7d"
      },
      "execution_count": null,
      "outputs": []
    },
    {
      "cell_type": "code",
      "source": [
        "# Testen einer Selektion: D_snomedct\n",
        "dwh_cursor.execute(\"SELECT * from D_snomedct\")\n",
        "rows = dwh_cursor.fetchall()\n",
        "for row in rows[:10]:\n",
        "  print(row)"
      ],
      "metadata": {
        "id": "Zl7aVvANrGeT"
      },
      "execution_count": null,
      "outputs": []
    },
    {
      "cell_type": "code",
      "source": [
        "# Testen einer Selektion: D_rxnorm\n",
        "dwh_cursor.execute(\"SELECT * from D_rxnorm\")\n",
        "rows = dwh_cursor.fetchall()\n",
        "for row in rows[:10]:\n",
        "  print(row)"
      ],
      "metadata": {
        "id": "WfocgfgZrOPj"
      },
      "execution_count": null,
      "outputs": []
    },
    {
      "cell_type": "code",
      "source": [
        "# Testen einer Selektion: D_payers\n",
        "dwh_cursor.execute(\"SELECT * from D_payers\")\n",
        "rows = dwh_cursor.fetchall()\n",
        "for row in rows[:10]:\n",
        "  print(row)"
      ],
      "metadata": {
        "id": "FPb7eKKIrOYj"
      },
      "execution_count": null,
      "outputs": []
    },
    {
      "cell_type": "code",
      "metadata": {
        "id": "tBYWvkuKEGeS"
      },
      "source": [
        "# Verbindung schließen\n",
        "target_cnx.close()"
      ],
      "execution_count": null,
      "outputs": []
    }
  ]
}