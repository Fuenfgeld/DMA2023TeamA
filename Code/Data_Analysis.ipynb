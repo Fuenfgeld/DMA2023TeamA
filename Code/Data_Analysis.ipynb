{
  "nbformat": 4,
  "nbformat_minor": 0,
  "metadata": {
    "colab": {
      "provenance": []
    },
    "kernelspec": {
      "name": "python3",
      "display_name": "Python 3"
    },
    "language_info": {
      "name": "python"
    }
  },
  "cells": [
    {
      "cell_type": "markdown",
      "source": [
        "# Datenanalyse\n",
        "\n",
        "\n",
        "---\n",
        "\n",
        "Datensatz: [Synthea Breast Cancer Dataset](https://github.com/Fuenfgeld/DMA2023TeamA/tree/main/Daten/Quelldaten)\n",
        "\n",
        "Primär- und Fremdschlüsseldefinitionen: [Synthea GitHub Repository](https://github.com/synthetichealth/synthea/wiki/CSV-File-Data-Dictionary)\n",
        "\n",
        "Projektgruppe GitHub Repository: [DMA2023TeamA](https://github.com/Fuenfgeld/DMA2023TeamA)\n",
        "\n",
        "Source-DB: [GoogleDrive Ablage](https://drive.google.com/drive/folders/1k5cfjGXjNHmwQkydzjTdVHoBvCniBU_W), erstellt mit [Setup_and_fill_Database.ipynb](https://github.com/Fuenfgeld/DMA2023TeamA/blob/main/Code/Setup_and_fill_Database.ipynb)\n",
        "\n",
        "Data Warehouse-Datenbank: [GoogleDrive Ablage](https://drive.google.com/file/d/1l-HcqCezubHnR737DkbiRzdHanP7_g_D), erstellt mit [ETL_process.ipynb](https://github.com/Fuenfgeld/DMA2023TeamA/blob/main/Code/ETL_Process.ipynb)\n"
      ],
      "metadata": {
        "id": "A1UMVTCi1Mvc"
      }
    },
    {
      "cell_type": "markdown",
      "source": [
        "*Version*: 0.2\n",
        "\n",
        "Version Date: 07/02/2023\n",
        "\n",
        "Changes: \n",
        "\n",
        "* Erstellung eines Analysedatensatzes aus den aus der DWH-Datenbank extrahierten Daten (Gesamtkosten für Aufenthalte / Prozeduren / Medikationen pro Patient)\n",
        "* Explorative Datenanalyse (EDA)\n",
        "* Ergänzung Versionsnummern für neue Pakete\n",
        "\n"
      ],
      "metadata": {
        "id": "kyGzZm9lfe0i"
      }
    },
    {
      "cell_type": "markdown",
      "source": [
        "# Vorbereitung des Notebooks"
      ],
      "metadata": {
        "id": "uDC-NY3jl4dL"
      }
    },
    {
      "cell_type": "code",
      "source": [
        "# Vorsichtshalber: Löschen aller Variablen\n",
        "%reset -f\n",
        "\n",
        "# Laden der benötigten Libraries\n",
        "from google.colab import drive\n",
        "import sqlite3 as sq\n",
        "from sqlite3 import Error\n",
        "import pandas as pd\n",
        "import numpy as np\n",
        "import seaborn as sns\n",
        "import matplotlib\n",
        "from matplotlib import pyplot as plt\n",
        "from pandas_profiling import ProfileReport\n",
        "# will make plot outputs appear and stored within the notebook.\n",
        "%matplotlib inline"
      ],
      "metadata": {
        "id": "seY5T_uZ1pra"
      },
      "execution_count": null,
      "outputs": []
    },
    {
      "cell_type": "code",
      "source": [
        "# Google Drive mounten, force_remount auf True setzen, damit ein Remount erzwungen wird\n",
        "drive.mount('/content/gdrive/', force_remount=True)\n",
        "\n",
        "# Datenbankordner auf dem Shareddrive checken, es müssen source_breast_cancer.db und DWH_breast_cancer.db vorhanden sein\n",
        "!ls \"/content/gdrive/Shareddrives/DMA_Datenprojekt_TeamA/Daten/Datenbank\"\n",
        "\n",
        "# Patiententyp festlegen\n",
        "patient_type = \"breast_cancer\"\n",
        "\n",
        "# Pfad zur DWH-Datenbank setzen\n",
        "DB_DWH_PATH = \"/content/gdrive/Shareddrives/DMA_Datenprojekt_TeamA/Daten/Datenbank/DWH_breast_cancer.db\"\n",
        "\n",
        "# Pfad zum Analyse-Datensatz setzen\n",
        "DATA_PATH = \"/content/gdrive/Shareddrives/DMA_Datenprojekt_TeamA/Daten/Analyse/\"\n",
        "\n",
        "# Pfad zum Ergebnisordner setzen\n",
        "RESULTS_PATH = \"/content/gdrive/Shareddrives/DMA_Datenprojekt_TeamA/Ergebnisse/\"\n",
        "\n",
        "# Check\n",
        "print(\"\\n\" + DB_DWH_PATH)\n",
        "print(\"\\n\" + DATA_PATH)\n",
        "print(\"\\n\" + RESULTS_PATH)"
      ],
      "metadata": {
        "id": "sSgyiyqNUoCY"
      },
      "execution_count": null,
      "outputs": []
    },
    {
      "cell_type": "markdown",
      "source": [
        "# Versionen der verwendeten Pakete abfragen \n",
        "\n",
        "Die Versionen der verwendeten Python-Installation und der Python-Pakete abfragen. "
      ],
      "metadata": {
        "id": "0CiLSmoxK2EH"
      }
    },
    {
      "cell_type": "code",
      "source": [
        "# Python-Version\n",
        "print(\"Python-Version:\")\n",
        "!python --version\n",
        "\n",
        "# Pandas-Version\n",
        "print(\"\\n\" + \"Pandas-Version:\")\n",
        "print(\"Pandas \" + pd.__version__)\n",
        "\n",
        "# numpy-Version\n",
        "print(\"\\n\" + \"numpy-Version:\")\n",
        "print(\"numpy \" + np.version.version)\n",
        "\n",
        "# sqlite-Version\n",
        "print(\"\\n\" + \"sqlite3-Version:\")\n",
        "print(\"sqlite3 \" + sq.sqlite_version)\n",
        "\n",
        "# Seaborn-Version\n",
        "print(\"\\n\" + \"Seaborn-Version:\")\n",
        "print(\"Seaborn \" + sns.__version__)\n",
        "\n",
        "# Matplotlib-Version\n",
        "print(\"\\n\" + \"Matplotlib-Version:\")\n",
        "print(\"Matplotlib \" + matplotlib.__version__)\n"
      ],
      "metadata": {
        "id": "GefZIi4qLj-n"
      },
      "execution_count": null,
      "outputs": []
    },
    {
      "cell_type": "markdown",
      "source": [
        "# Extraktion der Daten aus der DWH-Datenbank\n"
      ],
      "metadata": {
        "id": "5M6KhPXEemNu"
      }
    },
    {
      "cell_type": "code",
      "source": [
        "# Datenbankverbindung zum DWH aufbauen\n",
        "dwh_conn = sq.connect(DB_DWH_PATH) \n",
        "if dwh_conn is not None:\n",
        "  dwh_cursor = dwh_conn.cursor()\n",
        "else:\n",
        "  print(\"Verbindung fehlgeschlagen. Bitte überprüfen!\")\n",
        "\n",
        "# Alle Tabellennamen aus der Datenbank ziehen\n",
        "dwh_cursor.execute(\"SELECT name FROM sqlite_master WHERE type='table';\")\n",
        "tablelist = dwh_cursor.fetchall()\n",
        "tablelist"
      ],
      "metadata": {
        "id": "2myoVebU42oM"
      },
      "execution_count": null,
      "outputs": []
    },
    {
      "cell_type": "code",
      "source": [
        "# SQL Abfrage zur Ausleitung der Daten zu den Behandlungskosten\n",
        "extract_costs = \"\"\"SELECT enc.enc_id,\n",
        "                enc.patient,\n",
        "                pat.gender    AS PAT_GENDER,\n",
        "                pat.race      AS PAT_RACE,\n",
        "                enc.enc_payer,\n",
        "                pay.NAME      AS ENC_PAYER_NAME,\n",
        "                enc.enc_base_cost,\n",
        "                enc.enc_total_claim_cost,\n",
        "                enc.enc_payer_coverage,\n",
        "                enc.pro_code,\n",
        "                enc.pro_base_cost,\n",
        "                enc.med_code,\n",
        "                enc.med_base_cost,\n",
        "                enc.med_dispenses,\n",
        "                enc.med_total_cost,\n",
        "                enc.med_payer_coverage,\n",
        "                enc.med_payer,\n",
        "                enc.con_code,\n",
        "                sct.term      AS CON_TERM\n",
        "                FROM  f_encounter_costs AS enc\n",
        "                      JOIN d_patients AS pat\n",
        "                        ON enc.patient = pat.id\n",
        "                      JOIN d_payers AS pay\n",
        "                        ON enc.enc_payer = pay.id\n",
        "                      LEFT JOIN d_snomedct AS sct\n",
        "                        ON enc.con_code = sct.code\n",
        "                ORDER  BY patient, enc.enc_id;\"\"\"\n",
        "data_costs = pd.read_sql(extract_costs, dwh_conn)\n",
        "data_costs.head()"
      ],
      "metadata": {
        "id": "_Gygq5PcjHty"
      },
      "execution_count": null,
      "outputs": []
    },
    {
      "cell_type": "code",
      "source": [
        "# SQL Abfrage zur Ausleitung der Diagnosedaten\n",
        "extract_conditions = \"\"\"SELECT enc.patient,\n",
        "                               enc.con_start,\n",
        "                               enc.con_code,\n",
        "                               sct.term\n",
        "                        FROM   f_encounter_costs AS enc\n",
        "                               JOIN d_snomedct AS sct\n",
        "                                 ON enc.con_code = sct.code\n",
        "                        ORDER  BY enc.patient,\n",
        "                                  enc.con_code;\"\"\"\n",
        "# data_conditions = pd.read_sql(extract_conditions, dwh_conn)\n",
        "# data_conditions.head()"
      ],
      "metadata": {
        "id": "LnujU43Mj8tq"
      },
      "execution_count": null,
      "outputs": []
    },
    {
      "cell_type": "code",
      "source": [
        "# SQL Abfrage zur Ausleitung der Diagnoseart (none = keine, breast_cancer = Brustkrebs, other = andere Diagnose)\n",
        "extract_diagnoses = \"\"\"SELECT pat.id AS patient,\n",
        "                              CASE\n",
        "                                WHEN pat.id IN (SELECT DISTINCT( enc.patient )\n",
        "                                                FROM   f_encounter_costs AS enc\n",
        "                                                WHERE  enc.con_code = \"254837009\") THEN 'breast_cancer'\n",
        "                                WHEN pat.id IN (SELECT DISTINCT( enc.patient )\n",
        "                                                FROM   f_encounter_costs AS enc\n",
        "                                                WHERE  NOT enc.con_code = \"254837009\"\n",
        "                                                        AND enc.con_code IS NOT NULL) THEN 'other'\n",
        "                                ELSE 'none'\n",
        "                              END    AS diagnosis\n",
        "                        FROM   d_patients AS pat;\"\"\"\n",
        "data_diagnoses = pd.read_sql(extract_diagnoses, dwh_conn)\n",
        "data_diagnoses.head()"
      ],
      "metadata": {
        "id": "8EtFTg8qorq2"
      },
      "execution_count": null,
      "outputs": []
    },
    {
      "cell_type": "code",
      "source": [
        "# Commit und Close\n",
        "dwh_conn.commit()\n",
        "dwh_conn.close()"
      ],
      "metadata": {
        "id": "86L6xaCr6Miz"
      },
      "execution_count": null,
      "outputs": []
    },
    {
      "cell_type": "markdown",
      "source": [
        "# Erstellung einer Analysetabelle\n",
        "\n",
        "---\n",
        "\n"
      ],
      "metadata": {
        "id": "eOHabB28k3r7"
      }
    },
    {
      "cell_type": "markdown",
      "source": [
        "## Explorative Datenanalyse der aus der DWH-Datenbank erstellten Tabellen"
      ],
      "metadata": {
        "id": "yZVBCX5SHSMi"
      }
    },
    {
      "cell_type": "code",
      "source": [
        "# Überblick über Tabelle data_costs\n",
        "data_costs.info()"
      ],
      "metadata": {
        "id": "Vi5KzqcHmSPR"
      },
      "execution_count": null,
      "outputs": []
    },
    {
      "cell_type": "code",
      "source": [
        "# Anzahl einmaliger Werte pro Spalte in Tabelle data_costs\n",
        "data_costs.nunique(axis=0)"
      ],
      "metadata": {
        "id": "Adp1FYlAvzP6"
      },
      "execution_count": null,
      "outputs": []
    },
    {
      "cell_type": "code",
      "source": [
        "# Analyse Duplikate in Tabelle data_costs (je nach Kostentyp)\n",
        "print(\"Anzahl doppelte Aufenthalte:\", data_costs.duplicated(subset=[\"PATIENT\", \"ENC_ID\", \"ENC_BASE_COST\", \"ENC_PAYER_COVERAGE\"]).sum())\n",
        "print(\"Anzahl doppelte Prozeduren:\", data_costs.duplicated(subset=[\"PATIENT\", \"ENC_ID\", \"PRO_CODE\", \"PRO_BASE_COST\"]).sum())\n",
        "print(\"Anzahl doppelte Medikationen:\", data_costs.duplicated(subset=[\"PATIENT\", \"ENC_ID\", \"MED_CODE\", \"MED_BASE_COST\", \"MED_DISPENSES\", \"MED_TOTAL_COST\", \"MED_PAYER_COVERAGE\"]).sum())"
      ],
      "metadata": {
        "id": "aoEP8lrRwFZJ"
      },
      "execution_count": null,
      "outputs": []
    },
    {
      "cell_type": "code",
      "source": [
        "# Überblick über Tabelle data_diagnoses\n",
        "data_diagnoses.info()"
      ],
      "metadata": {
        "id": "N01yU_GPoyX4"
      },
      "execution_count": null,
      "outputs": []
    },
    {
      "cell_type": "code",
      "source": [
        "# Anzahl einmaliger Werte pro Spalte in Tabelle data_diagnoses\n",
        "data_diagnoses.nunique(axis=0)"
      ],
      "metadata": {
        "id": "iYye7ONH6B0N"
      },
      "execution_count": null,
      "outputs": []
    },
    {
      "cell_type": "code",
      "source": [
        "# Analyse Duplikate in Tabelle data_diagnoses\n",
        "print(\"Anzahl doppelte Patienten:\", data_costs.duplicated().sum())"
      ],
      "metadata": {
        "id": "bDTroK3C6FXO"
      },
      "execution_count": null,
      "outputs": []
    },
    {
      "cell_type": "markdown",
      "source": [
        "## Erstellung Tabelle mit Gesamtkosten für Aufenthalte pro Patient"
      ],
      "metadata": {
        "id": "H7wF9qd6o_OI"
      }
    },
    {
      "cell_type": "code",
      "source": [
        "# Erstellung Subset mit Kostendaten zu Aufenthalten\n",
        "data_encounters = data_costs[[\"PATIENT\", \"ENC_ID\", \"ENC_BASE_COST\", \"ENC_PAYER_COVERAGE\"]]\n",
        "data_encounters.shape"
      ],
      "metadata": {
        "id": "zp3WV0MEpDID"
      },
      "execution_count": null,
      "outputs": []
    },
    {
      "cell_type": "code",
      "source": [
        "# Entfernen von Duplikaten (gleicher Patient, gleicher Aufenthalt, gleiche Kosten)\n",
        "data_encounters_nodups = data_encounters.drop_duplicates()\n",
        "data_encounters_nodups.shape\n",
        "print(len(data_encounters) - len(data_encounters_nodups), \"Duplikate entfernt.\")"
      ],
      "metadata": {
        "id": "0EFhu6ATqShQ"
      },
      "execution_count": null,
      "outputs": []
    },
    {
      "cell_type": "code",
      "source": [
        "# Gruppierung nach Patienten, Aufsummierung der Kosten\n",
        "data_encounters_grouped = data_encounters_nodups.groupby(by=\"PATIENT\")\n",
        "data_encounters_final = data_encounters_grouped[[\"ENC_BASE_COST\", \"ENC_PAYER_COVERAGE\"]].sum()\n",
        "data_encounters_final.rename(columns={\"ENC_BASE_COST\": \"OVERALL_ENC_BASE_COST\", \n",
        "                                        \"ENC_PAYER_COVERAGE\": \"OVERALL_ENC_PAYER_COVERAGE\"}, inplace=True)\n",
        "data_encounters_final[\"NUMBER_ENCOUNTERS\"] = data_encounters_grouped.size()\n",
        "data_encounters_final.shape"
      ],
      "metadata": {
        "id": "b5s60Ff1rStw"
      },
      "execution_count": null,
      "outputs": []
    },
    {
      "cell_type": "code",
      "source": [
        "data_encounters_final"
      ],
      "metadata": {
        "id": "A7OYJ1FvslBZ"
      },
      "execution_count": null,
      "outputs": []
    },
    {
      "cell_type": "markdown",
      "source": [
        "## Erstellung Tabelle mit Gesamtkosten für Prozeduren pro Patient"
      ],
      "metadata": {
        "id": "ualvm323tTVp"
      }
    },
    {
      "cell_type": "code",
      "source": [
        "# Erstellung Subset mit Kostendaten zu Prozeduren\n",
        "data_procedures = data_costs[[\"PATIENT\", \"ENC_ID\", \"PRO_CODE\", \"PRO_BASE_COST\"]]\n",
        "data_procedures.shape"
      ],
      "metadata": {
        "id": "-NWQUBeWtls-"
      },
      "execution_count": null,
      "outputs": []
    },
    {
      "cell_type": "code",
      "source": [
        "# Entfernen von Duplikaten (gleicher Patient, gleicher Aufenthalt, gleiche Prozedur, gleiche Kosten)\n",
        "data_procedures_nodups = data_procedures.drop_duplicates()\n",
        "data_procedures_nodups.shape\n",
        "print(len(data_procedures) - len(data_procedures_nodups), \"Duplikate entfernt.\")"
      ],
      "metadata": {
        "id": "oYQv3K2ltlzJ"
      },
      "execution_count": null,
      "outputs": []
    },
    {
      "cell_type": "code",
      "source": [
        "# Gruppierung nach Patienten, Aufsummierung der Kosten\n",
        "data_procedures_grouped = data_procedures_nodups.groupby(by=\"PATIENT\")\n",
        "data_procedures_final = data_procedures_grouped[[\"PRO_BASE_COST\"]].sum(min_count=1)\n",
        "data_procedures_final.rename(columns={\"PRO_BASE_COST\": \"OVERALL_PRO_BASE_COST\"}, inplace=True)\n",
        "data_procedures_final[\"NUMBER_PROCEDURES\"] = data_procedures_grouped[[\"PRO_BASE_COST\"]].count()\n",
        "data_procedures_final.shape"
      ],
      "metadata": {
        "id": "OqnSYGuttl7f"
      },
      "execution_count": null,
      "outputs": []
    },
    {
      "cell_type": "code",
      "source": [
        "data_procedures_final"
      ],
      "metadata": {
        "id": "LwOyvHsRtl_X"
      },
      "execution_count": null,
      "outputs": []
    },
    {
      "cell_type": "markdown",
      "source": [
        "## Erstellung Tabelle mit Gesamtkosten für Medikation pro Patient"
      ],
      "metadata": {
        "id": "9Q74xfbStXSR"
      }
    },
    {
      "cell_type": "code",
      "source": [
        "# Erstellung Subset mit Kostendaten zu Medikationen\n",
        "data_medications = data_costs[[\"PATIENT\", \"ENC_ID\", \"MED_CODE\", \"MED_BASE_COST\", \"MED_DISPENSES\", \"MED_TOTAL_COST\", \"MED_PAYER_COVERAGE\"]]\n",
        "data_medications.shape"
      ],
      "metadata": {
        "id": "nHTN1gVzx042"
      },
      "execution_count": null,
      "outputs": []
    },
    {
      "cell_type": "code",
      "source": [
        "# Entfernen von Duplikaten (gleicher Patient, gleicher Aufenthalt, gleiche Medikation, gleiche Kosten)\n",
        "data_medications_nodups = data_medications.drop_duplicates()\n",
        "data_medications_nodups.shape\n",
        "print(len(data_medications) - len(data_medications_nodups), \"Duplikate entfernt.\")"
      ],
      "metadata": {
        "id": "xhwUqmS-zg49"
      },
      "execution_count": null,
      "outputs": []
    },
    {
      "cell_type": "code",
      "source": [
        "# Gruppierung nach Patienten, Aufsummierung der Kosten\n",
        "data_medications_grouped = data_medications_nodups.groupby(by=\"PATIENT\")\n",
        "data_medications_final = data_medications_grouped[[\"MED_BASE_COST\", \"MED_DISPENSES\", \"MED_TOTAL_COST\", \"MED_PAYER_COVERAGE\"]].sum(min_count=1)\n",
        "data_medications_final.rename(columns={\"MED_BASE_COST\": \"OVERALL_MED_BASE_COST\", \n",
        "                                         \"MED_DISPENSES\": \"OVERALL_MED_DISPENSES\", \n",
        "                                         \"MED_TOTAL_COST\": \"OVERALL_MED_TOTAL_COST\", \n",
        "                                         \"MED_PAYER_COVERAGE\": \"OVERALL_MED_PAYER_COVERAGE\"}, inplace=True)\n",
        "data_medications_final[\"NUMBER_MEDICATIONS\"] = data_medications_grouped[[\"MED_BASE_COST\"]].count()\n",
        "data_medications_final.shape"
      ],
      "metadata": {
        "id": "9U07Oh8ZzhBi"
      },
      "execution_count": null,
      "outputs": []
    },
    {
      "cell_type": "code",
      "source": [
        "data_medications_final"
      ],
      "metadata": {
        "id": "Y-UmGfTQzhN3"
      },
      "execution_count": null,
      "outputs": []
    },
    {
      "cell_type": "markdown",
      "source": [
        "## Erstellung einer Patiententabelle (mit demografischen Daten und Diagnosedaten)"
      ],
      "metadata": {
        "id": "j8kKv1w35ynO"
      }
    },
    {
      "cell_type": "code",
      "source": [
        "# Merge Informationen zu Patienten aus data_costs und Diagnosen aus data_diagnoses über Patienten-ID\n",
        "patient_information = pd.merge(data_costs[[\"PATIENT\", \"PAT_GENDER\", \"PAT_RACE\"]], data_diagnoses, how=\"inner\", left_on=[\"PATIENT\"], right_on=[\"patient\"])\n",
        "# Doppelte Zeilen entfernen\n",
        "patient_information.drop_duplicates(inplace=True)\n",
        "# Doppelte Spalte mit Patienten-ID entfernen\n",
        "patient_information.drop(columns=[\"patient\"], inplace=True)\n",
        "# Spalte diagnosis umbenennen\n",
        "patient_information.rename(columns={\"diagnosis\": \"DIAGNOSIS\"}, inplace=True)\n",
        "# Spalte mit Patienten-ID als Index\n",
        "patient_information.set_index(\"PATIENT\", inplace=True)\n",
        "\n",
        "patient_information.shape"
      ],
      "metadata": {
        "id": "DZCGcgNz50nd"
      },
      "execution_count": null,
      "outputs": []
    },
    {
      "cell_type": "code",
      "source": [
        "patient_information"
      ],
      "metadata": {
        "id": "8UGkszf39End"
      },
      "execution_count": null,
      "outputs": []
    },
    {
      "cell_type": "markdown",
      "source": [
        "## Erstellung der Analysetabelle als Kombination der zuvor erstellten Hilfstabellen\n"
      ],
      "metadata": {
        "id": "Wyy1WaQ1tbmP"
      }
    },
    {
      "cell_type": "code",
      "source": [
        "# Merge alle Tabellen in einzelnen Dataframe über Patienten-ID (Index)\n",
        "patient_data = pd.merge(pd.merge(pd.merge(patient_information, \n",
        "                                          data_encounters_final, left_index=True, right_index=True), \n",
        "                                 data_procedures_final, left_index=True, right_index=True), \n",
        "                        data_medications_final, left_index=True, right_index=True)\n",
        "patient_data.reset_index(inplace=True)\n",
        "patient_data.shape"
      ],
      "metadata": {
        "id": "tFbj_52otajK"
      },
      "execution_count": null,
      "outputs": []
    },
    {
      "cell_type": "code",
      "source": [
        "patient_data"
      ],
      "metadata": {
        "id": "rt_m1Vlt-8iy"
      },
      "execution_count": null,
      "outputs": []
    },
    {
      "cell_type": "markdown",
      "source": [
        "# EDA"
      ],
      "metadata": {
        "id": "fPM9c2V-xYZn"
      }
    },
    {
      "cell_type": "markdown",
      "source": [
        "## Übersicht über Patientenanzahl (rows) und beschreibende Attribute (columns)"
      ],
      "metadata": {
        "id": "9XgUcgqGDg4S"
      }
    },
    {
      "cell_type": "code",
      "source": [
        "patient_data.shape"
      ],
      "metadata": {
        "id": "ioXXjc4uCdGU"
      },
      "execution_count": null,
      "outputs": []
    },
    {
      "cell_type": "markdown",
      "source": [
        "## Übersicht über die beschreibenden Attribute"
      ],
      "metadata": {
        "id": "QM--TnrODp14"
      }
    },
    {
      "cell_type": "code",
      "source": [
        "patient_data.columns"
      ],
      "metadata": {
        "id": "HlcAmfXJClrE"
      },
      "execution_count": null,
      "outputs": []
    },
    {
      "cell_type": "markdown",
      "source": [
        "# Übersicht vorhandene Datentypen und Anzahl der Nullwerte"
      ],
      "metadata": {
        "id": "UkRFqkqyDwZe"
      }
    },
    {
      "cell_type": "code",
      "source": [
        "patient_data.info()"
      ],
      "metadata": {
        "id": "gN77IKUtCxz-"
      },
      "execution_count": null,
      "outputs": []
    },
    {
      "cell_type": "markdown",
      "source": [
        "## Erste Übersicht mit beschreibender Statistik (count, mean ...)"
      ],
      "metadata": {
        "id": "_okr_7CcD9ar"
      }
    },
    {
      "cell_type": "code",
      "source": [
        "patient_data.describe()"
      ],
      "metadata": {
        "id": "bulvicWGC7tD"
      },
      "execution_count": null,
      "outputs": []
    },
    {
      "cell_type": "code",
      "source": [
        "patient_data.nunique(axis=0)"
      ],
      "metadata": {
        "id": "DEKmja49DEY_"
      },
      "execution_count": null,
      "outputs": []
    },
    {
      "cell_type": "markdown",
      "source": [
        "## Duplikate / doppelte Werte"
      ],
      "metadata": {
        "id": "mtl2vNqlCTsZ"
      }
    },
    {
      "cell_type": "code",
      "source": [
        "print(\"Anzahl doppelte Zeilen:\", patient_data.duplicated(patient_data.columns).sum())"
      ],
      "metadata": {
        "id": "-NyxdZ59DVbV"
      },
      "execution_count": null,
      "outputs": []
    },
    {
      "cell_type": "code",
      "source": [
        "# Entfernen von doppelten Werten (erster Wert bleibt bestehen)\n",
        "patient_data.drop_duplicates(keep=\"first\",inplace=True) \n",
        "print(\"Größe des Datensatzes nach dem Entfernen von doppelten Zeilen:\", patient_data.shape)"
      ],
      "metadata": {
        "id": "bQReBDXHDbaW"
      },
      "execution_count": null,
      "outputs": []
    },
    {
      "cell_type": "markdown",
      "source": [
        "## Vollständigkeit: Fehlende Werte (NULL / NaN)"
      ],
      "metadata": {
        "id": "RfHW4MijGdp5"
      }
    },
    {
      "cell_type": "code",
      "source": [
        "# Anteil von Nicht-NULL-Werten in jeder Spalte\n",
        "patient_data.count()/len(patient_data) * 100"
      ],
      "metadata": {
        "id": "h9BMaWX5DiO8"
      },
      "execution_count": null,
      "outputs": []
    },
    {
      "cell_type": "code",
      "source": [
        "# Anzahl NULL-Werte pro Spalte\n",
        "patient_data.isnull().sum()"
      ],
      "metadata": {
        "id": "_9VJ8XC0Gv8p"
      },
      "execution_count": null,
      "outputs": []
    },
    {
      "cell_type": "markdown",
      "source": [
        "## Erstellen einer Kopie des Dataframes"
      ],
      "metadata": {
        "id": "M77kOHcUX3iR"
      }
    },
    {
      "cell_type": "code",
      "source": [
        "df = patient_data.copy()\n",
        "df.head()"
      ],
      "metadata": {
        "id": "tkohhSozYAio"
      },
      "execution_count": null,
      "outputs": []
    },
    {
      "cell_type": "markdown",
      "source": [
        "## Säulendiagramm \"Gender\""
      ],
      "metadata": {
        "id": "scjIPebplG_r"
      }
    },
    {
      "cell_type": "code",
      "source": [
        "sns.countplot(x=\"PAT_GENDER\", data=df, )"
      ],
      "metadata": {
        "id": "itzIjCiNaDQy"
      },
      "execution_count": null,
      "outputs": []
    },
    {
      "cell_type": "markdown",
      "source": [
        "Ausgeglichene Anzahl von weiblichen und männlichen Patienten."
      ],
      "metadata": {
        "id": "q5jupg1iEbi6"
      }
    },
    {
      "cell_type": "markdown",
      "source": [
        "## Säulendiagramm \"Diagnosen\""
      ],
      "metadata": {
        "id": "I_XxvI8ndlPB"
      }
    },
    {
      "cell_type": "code",
      "source": [
        "sns.countplot(x=\"DIAGNOSIS\", data=df)"
      ],
      "metadata": {
        "id": "W_UIvyTBdpwX"
      },
      "execution_count": null,
      "outputs": []
    },
    {
      "cell_type": "markdown",
      "source": [
        "Bei den meisten Patienten wurde keine Diagnose gestellt (none). Bei ca.150 Patienten wurde eine Diagnose gestellt, die aber nicht Brustkrebs war. Und nur bei sehr wenigen Patienten ergab sich die Diagnose Brustkrebs."
      ],
      "metadata": {
        "id": "zuqT4cAAEjN3"
      }
    },
    {
      "cell_type": "markdown",
      "source": [
        "## Säulendiagramm \"Ethnicity\""
      ],
      "metadata": {
        "id": "H0wvp90heIDz"
      }
    },
    {
      "cell_type": "code",
      "source": [
        "sns.countplot(x=\"PAT_RACE\", data=df)"
      ],
      "metadata": {
        "id": "co3DOUn8eHXZ"
      },
      "execution_count": null,
      "outputs": []
    },
    {
      "cell_type": "markdown",
      "source": [
        "Dieses Säulendiagramm zeigt, dass die meisten Patienten kaukasischer Abstammung waren. Andere Ethnien kamen nur in Ausnahmefällen vor. (Es müsste hier eine Normalisierung stattfinden, d.h. die gesamte Anzahl der Personen unterschiedlicher Ethnien müsste mit dem Patientenklientel verglichen werden.) "
      ],
      "metadata": {
        "id": "P7YD4TxOE13-"
      }
    },
    {
      "cell_type": "markdown",
      "source": [
        "## Anzahl der Arztbesuche pro Diagnose"
      ],
      "metadata": {
        "id": "scNjzc4Ghsqn"
      }
    },
    {
      "cell_type": "code",
      "source": [
        "df.plot(kind='scatter', y = ('NUMBER_ENCOUNTERS'), x='DIAGNOSIS')"
      ],
      "metadata": {
        "id": "-OoTJfG_hDcN"
      },
      "execution_count": null,
      "outputs": []
    },
    {
      "cell_type": "markdown",
      "source": [
        "Es zeigt sich hier, dass Patienten mit Brustkrebs deutlich öfter einen Arzt aufsuchen als Patienten mit anderer oder keiner Diagnose."
      ],
      "metadata": {
        "id": "SytiTAKSFT9p"
      }
    },
    {
      "cell_type": "markdown",
      "source": [
        "## Ausgaben für Medikamente für die unterschiedlichen Diagnosen"
      ],
      "metadata": {
        "id": "Cns84WvYh29y"
      }
    },
    {
      "cell_type": "code",
      "source": [
        "df.plot(kind='scatter', y = ('OVERALL_MED_TOTAL_COST'), x='DIAGNOSIS')"
      ],
      "metadata": {
        "id": "4O8eYcP0hq-5"
      },
      "execution_count": null,
      "outputs": []
    },
    {
      "cell_type": "markdown",
      "source": [
        "Die Ausgaben für Medikamente lassen keine Aussagen zu, um welche Diagnose es sich handelt."
      ],
      "metadata": {
        "id": "51_3XyMwFgdd"
      }
    },
    {
      "cell_type": "markdown",
      "source": [
        "## Berechnung der Kosten, die die Patienten mit den verschiedenen Diagnosen tragen müssen."
      ],
      "metadata": {
        "id": "R_BkUfBSFszs"
      }
    },
    {
      "cell_type": "markdown",
      "source": [
        "Hier eine Aufstellung wieviel die Medikamente insgesamt kosten und welcher Anteil von der Versicherung übernommen wird."
      ],
      "metadata": {
        "id": "T4L-Q_zLF1UX"
      }
    },
    {
      "cell_type": "code",
      "source": [
        "df.groupby('DIAGNOSIS')['OVERALL_MED_TOTAL_COST', 'OVERALL_MED_PAYER_COVERAGE'].mean()"
      ],
      "metadata": {
        "id": "vul-lbJHpJUi"
      },
      "execution_count": null,
      "outputs": []
    },
    {
      "cell_type": "markdown",
      "source": [
        "Hier eine Aufstellung wieviel die Arztbesuche insgesamt kosten und wieviel von den Versicherungen übernommen wird."
      ],
      "metadata": {
        "id": "_F8GVifXGA8P"
      }
    },
    {
      "cell_type": "code",
      "source": [
        "df.groupby('DIAGNOSIS')['OVERALL_ENC_BASE_COST', 'OVERALL_ENC_PAYER_COVERAGE'].mean()"
      ],
      "metadata": {
        "id": "8NCkjqpgsHWq"
      },
      "execution_count": null,
      "outputs": []
    },
    {
      "cell_type": "code",
      "source": [
        "groupby_obj = df.groupby('DIAGNOSIS')"
      ],
      "metadata": {
        "id": "kqk7vS2Jxfww"
      },
      "execution_count": null,
      "outputs": []
    },
    {
      "cell_type": "code",
      "source": [
        "groupby_obj.mean()"
      ],
      "metadata": {
        "id": "_24mleMyyLcC"
      },
      "execution_count": null,
      "outputs": []
    },
    {
      "cell_type": "code",
      "source": [
        "groupby_obj.mean().plot(kind='bar')"
      ],
      "metadata": {
        "id": "44_KDj8AzxNs"
      },
      "execution_count": null,
      "outputs": []
    },
    {
      "cell_type": "markdown",
      "source": [],
      "metadata": {
        "id": "Yc_PUiI0GSof"
      }
    },
    {
      "cell_type": "markdown",
      "source": [
        "Berechnung wieviel der Kosten der Patient selber tragen muss (Medikamente und Arztbesuche)"
      ],
      "metadata": {
        "id": "XsbFIIQ_GXb1"
      }
    },
    {
      "cell_type": "code",
      "source": [
        "df.eval('PATIENT_COST = (OVERALL_ENC_BASE_COST - OVERALL_ENC_PAYER_COVERAGE) + (OVERALL_MED_TOTAL_COST - OVERALL_MED_PAYER_COVERAGE)', inplace = True)\n",
        "df.columns"
      ],
      "metadata": {
        "id": "ScIJV--L1F8W"
      },
      "execution_count": null,
      "outputs": []
    },
    {
      "cell_type": "code",
      "source": [
        "groupby_obj = df.groupby('DIAGNOSIS')"
      ],
      "metadata": {
        "id": "GzjRfNT11z3o"
      },
      "execution_count": null,
      "outputs": []
    },
    {
      "cell_type": "code",
      "source": [
        "groupby_obj.mean()"
      ],
      "metadata": {
        "id": "hyl_laPa2gHK"
      },
      "execution_count": null,
      "outputs": []
    },
    {
      "cell_type": "code",
      "source": [
        "df_cost = df[['PATIENT_COST', 'DIAGNOSIS']]"
      ],
      "metadata": {
        "id": "BdhzIHg139kz"
      },
      "execution_count": null,
      "outputs": []
    },
    {
      "cell_type": "code",
      "source": [
        "df_cost.head()"
      ],
      "metadata": {
        "id": "m0TKjJHN4Qos"
      },
      "execution_count": null,
      "outputs": []
    },
    {
      "cell_type": "code",
      "source": [
        "groupby_obj = df_cost.groupby('DIAGNOSIS')"
      ],
      "metadata": {
        "id": "XEMokb3n4ya3"
      },
      "execution_count": null,
      "outputs": []
    },
    {
      "cell_type": "code",
      "source": [
        "groupby_obj.mean()"
      ],
      "metadata": {
        "id": "p_lFjBrz44gr"
      },
      "execution_count": null,
      "outputs": []
    },
    {
      "cell_type": "code",
      "source": [
        "groupby_obj.mean().plot(kind='bar')"
      ],
      "metadata": {
        "id": "rY89G9Zr46KG"
      },
      "execution_count": null,
      "outputs": []
    },
    {
      "cell_type": "code",
      "source": [
        "df_encounters = df[[ 'DIAGNOSIS', 'NUMBER_ENCOUNTERS']]"
      ],
      "metadata": {
        "id": "4mrXTGun6yUG"
      },
      "execution_count": null,
      "outputs": []
    },
    {
      "cell_type": "code",
      "source": [
        "df_encounters.head()"
      ],
      "metadata": {
        "id": "RGnotreD7SIO"
      },
      "execution_count": null,
      "outputs": []
    },
    {
      "cell_type": "code",
      "source": [
        "groupby_obj = df_encounters.groupby('DIAGNOSIS')"
      ],
      "metadata": {
        "id": "8C_oPpt8-qmR"
      },
      "execution_count": null,
      "outputs": []
    },
    {
      "cell_type": "code",
      "source": [
        "groupby_obj.mean()"
      ],
      "metadata": {
        "id": "fGmiGQia-6YQ"
      },
      "execution_count": null,
      "outputs": []
    },
    {
      "cell_type": "code",
      "source": [
        "groupby_obj.mean().plot(kind='bar')"
      ],
      "metadata": {
        "id": "rcvkpt5K-8Vd"
      },
      "execution_count": null,
      "outputs": []
    },
    {
      "cell_type": "markdown",
      "source": [
        "## Machine Learning\n",
        "\n",
        "###Anhand der Kosten, die für den Patienten entstehen und der Anzahl der Arztbesuche soll auf die Diagnose der einzelnen Patienten geschlossen werden."
      ],
      "metadata": {
        "id": "vHrzljWhGiQ2"
      }
    },
    {
      "cell_type": "code",
      "source": [
        "df_ml = df[['DIAGNOSIS', 'NUMBER_ENCOUNTERS', 'PATIENT_COST']]"
      ],
      "metadata": {
        "id": "a2kxX8-G_7At"
      },
      "execution_count": null,
      "outputs": []
    },
    {
      "cell_type": "code",
      "source": [
        "df_ml.head()"
      ],
      "metadata": {
        "id": "nMJznr4GAGvw"
      },
      "execution_count": null,
      "outputs": []
    },
    {
      "cell_type": "code",
      "source": [
        "df_ml.groupby('DIAGNOSIS')"
      ],
      "metadata": {
        "id": "IAAMdUalAJ98"
      },
      "execution_count": null,
      "outputs": []
    },
    {
      "cell_type": "code",
      "source": [
        "df_ml.groupby('DIAGNOSIS').head()"
      ],
      "metadata": {
        "id": "LFNVw0B6AOWm"
      },
      "execution_count": null,
      "outputs": []
    },
    {
      "cell_type": "code",
      "source": [
        "# entfernen von NaNs\n",
        "df_rest = df_ml.dropna(axis=0)"
      ],
      "metadata": {
        "id": "1bq6z_VuBsd-"
      },
      "execution_count": null,
      "outputs": []
    },
    {
      "cell_type": "code",
      "source": [
        "df_rest.head()"
      ],
      "metadata": {
        "id": "PZnpgn5DB4-e"
      },
      "execution_count": null,
      "outputs": []
    },
    {
      "cell_type": "markdown",
      "source": [
        "## Aufgrund der geringen Anzahl an vollständigen Datensätzen wird zunächst ein Decision Tree Modell versucht"
      ],
      "metadata": {
        "id": "zrh39L-eG45D"
      }
    },
    {
      "cell_type": "code",
      "source": [
        "# Importing the required packages \n",
        "import numpy as np \n",
        "import pandas as pd \n",
        "from sklearn.metrics import confusion_matrix \n",
        "from sklearn.model_selection import train_test_split \n",
        "from sklearn.tree import DecisionTreeClassifier \n",
        "from sklearn.metrics import accuracy_score \n",
        "from sklearn.metrics import classification_report \n",
        "\n",
        "# Suppress warnings \n",
        "# (sometimes you might want to ignore warnings, that's how you can achieve this)\n",
        "import warnings\n",
        "warnings.filterwarnings('ignore')\n"
      ],
      "metadata": {
        "id": "RnDN0mhHBMCM"
      },
      "execution_count": null,
      "outputs": []
    },
    {
      "cell_type": "code",
      "source": [
        "# Defining X and y\n",
        "features = df_rest.columns.tolist()\n",
        "features.remove('DIAGNOSIS')\n",
        "X = df_rest[features]\n",
        "y = df_rest.DIAGNOSIS\n",
        "\n",
        "# Splitting the dataset\n",
        "X_train, X_test, y_train, y_test = train_test_split(X, y, test_size=0.3, random_state=150, shuffle=True)\n",
        "\n",
        "# Check the shape of the data sets\n",
        "print(\"X_train:\", X_train.shape)\n",
        "print(\"y_train:\", y_train.shape)\n",
        "print(\"X_test:\", X_test.shape)\n",
        "print(\"y_test:\", y_test.shape)"
      ],
      "metadata": {
        "id": "86al2IBnA2uH"
      },
      "execution_count": null,
      "outputs": []
    },
    {
      "cell_type": "markdown",
      "source": [
        "Es stehen 68 vollständige Trainingsdatensätze und 30 vollständige Testdatensätze zur Verfügung.\n",
        "\n",
        "Training eines Decision Trees mit dem gini-Index:"
      ],
      "metadata": {
        "id": "Sq2ufMKnHCr7"
      }
    },
    {
      "cell_type": "code",
      "source": [
        "# Creating the classifier object \n",
        "clf_gini = DecisionTreeClassifier(criterion = \"gini\", \n",
        "            max_depth=3, min_samples_leaf=5) \n",
        "# Performing training \n",
        "clf_gini.fit(X_train, y_train)"
      ],
      "metadata": {
        "id": "nWw-V4f1BZVD"
      },
      "execution_count": null,
      "outputs": []
    },
    {
      "cell_type": "markdown",
      "source": [
        "Vorhersage der Diagnose anhand der Testdaten:"
      ],
      "metadata": {
        "id": "cvVSZr_MNRqQ"
      }
    },
    {
      "cell_type": "code",
      "source": [
        " # Predicton on test with giniIndex \n",
        "y_pred = clf_gini.predict(X_test) \n",
        "print(\"Predicted values:\\n\") \n",
        "print(y_pred)"
      ],
      "metadata": {
        "id": "wjh2Bx95CIYJ"
      },
      "execution_count": null,
      "outputs": []
    },
    {
      "cell_type": "markdown",
      "source": [
        "Darstellung der Konfusionsmatrix und der Accuracy:"
      ],
      "metadata": {
        "id": "nK1ukXv6Hdbo"
      }
    },
    {
      "cell_type": "code",
      "source": [
        "print(\"-----\"*15)\n",
        "print(\"Confusion Matrix: \\n\", \n",
        "confusion_matrix(y_test, y_pred)) \n",
        "\n",
        "print(\"-----\"*15)\n",
        "print (\"Accuracy : \\n\", \n",
        "accuracy_score(y_test,y_pred)*100) \n",
        "    \n",
        "print(\"-----\"*15)\n",
        "print(\"Report : \\n\", \n",
        "classification_report(y_test, y_pred))"
      ],
      "metadata": {
        "id": "5txK7yDBCa0d"
      },
      "execution_count": null,
      "outputs": []
    },
    {
      "cell_type": "markdown",
      "source": [
        "Graphische Darstellung der Konfusionsmatrix:"
      ],
      "metadata": {
        "id": "IoND0OYEHkNm"
      }
    },
    {
      "cell_type": "code",
      "source": [
        "# Evaluate the model with a confusion matrix\n",
        "cm = confusion_matrix(y_test, y_pred)\n",
        "sns.heatmap(cm, cmap='YlGnBu', annot=True, fmt='d', linewidths=.5);"
      ],
      "metadata": {
        "id": "t-OoOHGSDMnf"
      },
      "execution_count": null,
      "outputs": []
    },
    {
      "cell_type": "markdown",
      "source": [
        "## Ein weiterer Machine Learning Ansatz mit Hilfe einer Logistic Regression Analyse"
      ],
      "metadata": {
        "id": "6okDHiVUHpnN"
      }
    },
    {
      "cell_type": "code",
      "source": [
        "# Import libraries\n",
        "import pandas as pd\n",
        "import numpy as np\n",
        "import matplotlib.pyplot as plt\n",
        "import seaborn as sns\n",
        "\n",
        "from sklearn.datasets import load_iris\n",
        "from sklearn.model_selection import train_test_split\n",
        "from sklearn.linear_model import LogisticRegression\n",
        "from sklearn.metrics import confusion_matrix, classification_report, accuracy_score\n",
        "\n",
        "# Set plotting style\n",
        "sns.set_style('whitegrid')\n",
        "plt.rcParams['font.size'] = 14\n",
        "plt.rcParams['figure.figsize'] = (11, 7)"
      ],
      "metadata": {
        "id": "0pRcbbyFC9qK"
      },
      "execution_count": null,
      "outputs": []
    },
    {
      "cell_type": "markdown",
      "source": [
        "Aufteilung in Trainings- und Testdaten sowie Training des Modells\n",
        "Weiterhin graphische Darstellung der Konfusionsmatrix und der Accuracy."
      ],
      "metadata": {
        "id": "5AZkm8m1H92v"
      }
    },
    {
      "cell_type": "code",
      "source": [
        "# Logistic Regression\n",
        "log_reg = LogisticRegression(max_iter=1000)\n",
        "log_reg.fit(X_train, y_train)\n",
        "\n",
        "y_pred_train = log_reg.predict(X_train)\n",
        "y_pred = log_reg.predict(X_test)\n",
        "\n",
        "# Print accuracy of our model\n",
        "print(\"Accuracy on train set:\", round(accuracy_score(y_train, y_pred_train), 2))\n",
        "print(\"Accuracy on test set:\", round(accuracy_score(y_test, y_pred), 2))\n",
        "print(\"--------\"*10)\n",
        "\n",
        "# Print classification report of our model\n",
        "print(classification_report(y_test, y_pred))\n",
        "print(\"--------\"*10)\n",
        "\n",
        "# Evaluate the model with a confusion matrix\n",
        "cm = confusion_matrix(y_test, y_pred)\n",
        "sns.heatmap(cm, cmap='YlGnBu', annot=True, fmt='d', linewidths=.5);"
      ],
      "metadata": {
        "id": "LEUXpWOECsGM"
      },
      "execution_count": null,
      "outputs": []
    },
    {
      "cell_type": "markdown",
      "source": [],
      "metadata": {
        "id": "8BXqLnBs9Zxc"
      }
    }
  ]
}