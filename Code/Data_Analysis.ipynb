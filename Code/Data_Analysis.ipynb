{
  "nbformat": 4,
  "nbformat_minor": 0,
  "metadata": {
    "colab": {
      "provenance": []
    },
    "kernelspec": {
      "name": "python3",
      "display_name": "Python 3"
    },
    "language_info": {
      "name": "python"
    }
  },
  "cells": [
    {
      "cell_type": "markdown",
      "source": [
        "# Datenanalyse\n",
        "\n",
        "\n",
        "---\n",
        "\n",
        "Datensatz: [Synthea Breast Cancer Dataset](https://github.com/Fuenfgeld/DMA2023TeamA/tree/main/Daten/Quelldaten)\n",
        "\n",
        "Primär- und Fremdschlüsseldefinitionen: [Synthea GitHub Repository](https://github.com/synthetichealth/synthea/wiki/CSV-File-Data-Dictionary)\n",
        "\n",
        "Projektgruppe GitHub Repository: [DMA2023TeamA](https://github.com/Fuenfgeld/DMA2023TeamA)\n",
        "\n",
        "Source-DB: [GoogleDrive Ablage](https://drive.google.com/drive/folders/1k5cfjGXjNHmwQkydzjTdVHoBvCniBU_W), erstellt mit [Setup_and_fill_Database.ipynb](https://github.com/Fuenfgeld/DMA2023TeamA/blob/main/Code/Setup_and_fill_Database.ipynb)\n",
        "\n",
        "Data Warehouse-Datenbank: [GoogleDrive Ablage](https://drive.google.com/file/d/1l-HcqCezubHnR737DkbiRzdHanP7_g_D), erstellt mit [ETL_process.ipynb](https://github.com/Fuenfgeld/DMA2023TeamA/blob/main/Code/ETL_Process.ipynb)\n"
      ],
      "metadata": {
        "id": "A1UMVTCi1Mvc"
      }
    },
    {
      "cell_type": "markdown",
      "source": [
        "*Version*: 0.1 \n",
        "\n",
        "Version Date: 05/02/2023\n",
        "\n",
        "Changes: \n",
        "\n",
        "*   \n",
        "\n"
      ],
      "metadata": {
        "id": "kyGzZm9lfe0i"
      }
    },
    {
      "cell_type": "code",
      "source": [
        "# Vorsichtshalber: Löschen aller Variablen\n",
        "%reset -f\n",
        "\n",
        "# Laden der benötigten Libraries\n",
        "from google.colab import drive\n",
        "import sqlite3 as sq\n",
        "from sqlite3 import Error\n",
        "import pandas as pd"
      ],
      "metadata": {
        "id": "seY5T_uZ1pra"
      },
      "execution_count": null,
      "outputs": []
    },
    {
      "cell_type": "code",
      "source": [
        "# Google Drive mounten, force_remount auf True setzen, damit ein Remount erzwungen wird\n",
        "drive.mount('/content/gdrive/', force_remount=True)\n",
        "\n",
        "# Datenbankordner auf dem Shareddrive checken, es müssen source_breast_cancer.db und DWH_breast_cancer.db vorhanden sein\n",
        "!ls \"/content/gdrive/Shareddrives/DMA_Datenprojekt_TeamA/Daten/Datenbank\"\n",
        "\n",
        "# Patiententyp festlegen\n",
        "patient_type = \"breast_cancer\"\n",
        "\n",
        "# Pfad zur DWH-Datenbank setzen\n",
        "DB_DWH_PATH = \"/content/gdrive/Shareddrives/DMA_Datenprojekt_TeamA/Daten/Datenbank/DWH_breast_cancer.db\"\n",
        "\n",
        "# Check\n",
        "print(\"\\n\" + DB_DWH_PATH)"
      ],
      "metadata": {
        "id": "sSgyiyqNUoCY"
      },
      "execution_count": null,
      "outputs": []
    },
    {
      "cell_type": "markdown",
      "source": [
        "# Versionen der verwendeten Pakete abfragen \n",
        "\n",
        "Die Versionen der verwendeten Python-Installation und der Python-Pakete abfragen. "
      ],
      "metadata": {
        "id": "0CiLSmoxK2EH"
      }
    },
    {
      "cell_type": "code",
      "source": [
        "# Python-Version\n",
        "print(\"Python-Version:\")\n",
        "!python --version\n",
        "\n",
        "\n",
        "# Pandas-Version\n",
        "print(\"\\n\" + \"Pandas-Version:\")\n",
        "print(\"Pandas \" + pd.__version__)\n",
        "\n",
        "# sqlitee-Version\n",
        "print(\"\\n\" + \"sqlite3-Version:\")\n",
        "print(\"sqlite3 \" + sq.sqlite_version)\n"
      ],
      "metadata": {
        "id": "GefZIi4qLj-n"
      },
      "execution_count": null,
      "outputs": []
    },
    {
      "cell_type": "markdown",
      "source": [
        "# Extraktion der Daten aus der DWH-Datenbank\n"
      ],
      "metadata": {
        "id": "5M6KhPXEemNu"
      }
    },
    {
      "cell_type": "code",
      "source": [
        "# Datenbankverbindung zum DWH aufbauen\n",
        "dwh_conn = sq.connect(DB_DWH_PATH) \n",
        "if dwh_conn is not None:\n",
        "  dwh_cursor = dwh_conn.cursor()\n",
        "else:\n",
        "  print(\"Verbindung fehlgeschlagen. Bitte überprüfen!\")\n",
        "\n",
        "# Alle Tabellennamen aus der Datenbank ziehen\n",
        "dwh_cursor.execute(\"SELECT name FROM sqlite_master WHERE type='table';\")\n",
        "tablelist = dwh_cursor.fetchall()\n",
        "tablelist"
      ],
      "metadata": {
        "id": "FWnJwXgfekqi"
      },
      "execution_count": null,
      "outputs": []
    },
    {
      "cell_type": "code",
      "source": [
        "# SQL Abfrage zur Ausleitung der Daten zu den Behandlungskosten\n",
        "extract_costs = \"\"\"SELECT enc.id,\n",
        "                enc.patient,\n",
        "                pat.gender    AS PAT_GENDER,\n",
        "                pat.race      AS PAT_RACE,\n",
        "                enc.enc_payer,\n",
        "                pay.NAME      AS ENC_PAYER_NAME,\n",
        "                enc.enc_base_cost,\n",
        "                enc.enc_total_claim_cost,\n",
        "                enc.enc_payer_coverage,\n",
        "                enc.pro_base_cost,\n",
        "                enc.med_base_cost,\n",
        "                enc.med_dispenses,\n",
        "                enc.med_total_cost,\n",
        "                enc.med_payer_coverage,\n",
        "                enc.med_payer,\n",
        "                enc.con_code,\n",
        "                sct.term      AS CON_TERM\n",
        "                FROM  f_encounter_costs AS enc\n",
        "                      JOIN d_patients AS pat\n",
        "                        ON enc.patient = pat.id\n",
        "                      JOIN d_payers AS pay\n",
        "                        ON enc.enc_payer = pay.id\n",
        "                      LEFT JOIN d_snomedct AS sct\n",
        "                        ON enc.con_code = sct.code\n",
        "                ORDER  BY patient, enc.id;\"\"\"\n",
        "data_costs = pd.read_sql(extract_costs, dwh_conn)\n",
        "print(data_costs.head())  "
      ],
      "metadata": {
        "id": "EZaJcmcWfV04"
      },
      "execution_count": null,
      "outputs": []
    },
    {
      "cell_type": "code",
      "source": [
        "# SQL Abfrage zur Ausleitung der Diagnosedaten\n",
        "extract_conditions = \"\"\"SELECT enc.patient,\n",
        "                               enc.con_start,\n",
        "                               enc.con_code,\n",
        "                               sct.term\n",
        "                        FROM   f_encounter_costs AS enc\n",
        "                               JOIN d_snomedct AS sct\n",
        "                                 ON enc.con_code = sct.code\n",
        "                        ORDER  BY enc.patient,\n",
        "                                  enc.con_code;\"\"\"\n",
        "data_conditions = pd.read_sql(extract_conditions, dwh_conn)\n",
        "print(data_conditions.head())  "
      ],
      "metadata": {
        "id": "_GrZUHHPk5cI"
      },
      "execution_count": null,
      "outputs": []
    },
    {
      "cell_type": "code",
      "source": [
        "# SQL Abfrage zur Ausleitung der Diagnoseart (none = keine, breast_cancer = Brustkrebs, other = andere Diagnose)\n",
        "extract_diagnoses = \"\"\"SELECT pat.id AS patient,\n",
        "                              CASE\n",
        "                                WHEN pat.id IN (SELECT DISTINCT( enc.patient )\n",
        "                                                FROM   f_encounter_costs AS enc\n",
        "                                                WHERE  enc.con_code = \"254837009\") THEN 'breast_cancer'\n",
        "                                WHEN pat.id IN (SELECT DISTINCT( enc.patient )\n",
        "                                                FROM   f_encounter_costs AS enc\n",
        "                                                WHERE  NOT enc.con_code = \"254837009\"\n",
        "                                                        AND enc.con_code IS NOT NULL) THEN 'other'\n",
        "                                ELSE 'none'\n",
        "                              END    AS diagnosis\n",
        "                        FROM   d_patients AS pat;\"\"\"\n",
        "data_diagnoses = pd.read_sql(extract_diagnoses, dwh_conn)\n",
        "print(data_diagnoses.head())  "
      ],
      "metadata": {
        "id": "17r-WKG6wWpD"
      },
      "execution_count": null,
      "outputs": []
    },
    {
      "cell_type": "code",
      "source": [
        "# Commit und Close\n",
        "conn.commit()\n",
        "conn.close()"
      ],
      "metadata": {
        "id": "vm5gWVX1fV77"
      },
      "execution_count": null,
      "outputs": []
    },
    {
      "cell_type": "markdown",
      "source": [
        "# EDA"
      ],
      "metadata": {
        "id": "fPM9c2V-xYZn"
      }
    }
  ]
}