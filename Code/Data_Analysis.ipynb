{
  "nbformat": 4,
  "nbformat_minor": 0,
  "metadata": {
    "colab": {
      "provenance": []
    },
    "kernelspec": {
      "name": "python3",
      "display_name": "Python 3"
    },
    "language_info": {
      "name": "python"
    }
  },
  "cells": [
    {
      "cell_type": "markdown",
      "source": [
        "# Datenanalyse\n",
        "\n",
        "\n",
        "---\n",
        "\n",
        "Datensatz: [Synthea Breast Cancer Dataset](https://github.com/Fuenfgeld/DMA2023TeamA/tree/main/Daten/Quelldaten)\n",
        "\n",
        "Primär- und Fremdschlüsseldefinitionen: [Synthea GitHub Repository](https://github.com/synthetichealth/synthea/wiki/CSV-File-Data-Dictionary)\n",
        "\n",
        "Projektgruppe GitHub Repository: [DMA2023TeamA](https://github.com/Fuenfgeld/DMA2023TeamA)\n",
        "\n",
        "Source-DB: [GoogleDrive Ablage](https://drive.google.com/drive/folders/1k5cfjGXjNHmwQkydzjTdVHoBvCniBU_W), erstellt mit [Setup_and_fill_Database.ipynb](https://github.com/Fuenfgeld/DMA2023TeamA/blob/main/Code/Setup_and_fill_Database.ipynb)\n",
        "\n",
        "Data Warehouse-Datenbank: [GoogleDrive Ablage](https://drive.google.com/file/d/1l-HcqCezubHnR737DkbiRzdHanP7_g_D), erstellt mit [ETL_process.ipynb](https://github.com/Fuenfgeld/DMA2023TeamA/blob/main/Code/ETL_Process.ipynb)\n"
      ],
      "metadata": {
        "id": "A1UMVTCi1Mvc"
      }
    },
    {
      "cell_type": "markdown",
      "source": [
        "*Version*: 3.0\n",
        "\n",
        "Version Date: 17/02/2023\n",
        "\n",
        "Changes: \n",
        "\n",
        "**0.2**\n",
        "* Erstellung eines Analysedatensatzes aus den aus der DWH-Datenbank extrahierten Daten (Gesamtkosten für Aufenthalte / Prozeduren / Medikationen pro Patient)\n",
        "* Ergänzung Versionsnummern für neue Pakete\n",
        "\n",
        "**1.0**\n",
        "* Explorative Datenanalyse (EDA)\n",
        "* Machine Learning Ansätze\n",
        "\n",
        "**1.1**\n",
        "* ergänzende Dokumentation der Analyse im Skript\n",
        "\n",
        "**2.0**\n",
        "* Installation einer neuen Version von Matplotlib\n",
        "* zusätzliche Plots (Geschlecht und ethnischer Hintergrund nach Diagnose)\n",
        "* Überarbeitung der Plots (Beschriftungen, Titel)\n",
        "* Anpassung Analysen: NaN -> 0 für Berechnungen, Einbeziehung Prozedurkosten\n",
        "\n",
        "**2.1**\n",
        "* Anpassung der Pfade\n",
        "* Speicherung ausgeleitete / verarbeitete Datentabellen als csv-Dateien\n",
        "* Speicherung erstellte Plots (EDA) als png-Dateien\n",
        "\n",
        "**3.0**\n",
        "* Ergänzung von Hashfunktionen und Checksummen um Daten zu verifizieren\n",
        "* Dokumentation im Machine Learning Teil ergänzt"
      ],
      "metadata": {
        "id": "kyGzZm9lfe0i"
      }
    },
    {
      "cell_type": "markdown",
      "source": [
        "# Vorbereitung des Notebooks\n",
        "\n",
        "wichtig: das Notebook erfordert eine neuere Version von Matplotlib als standardmäßig in GoogleColab vorhanden. Zu Beginn muss daher die erste Codezeile ausgeführt werden, um die aktuellste Version zu installieren. Im Anschluss ist ein Neustart der Runtime erforderlich, um den Rest des Notebooks auszuführen."
      ],
      "metadata": {
        "id": "uDC-NY3jl4dL"
      }
    },
    {
      "cell_type": "code",
      "source": [
        "# Installation der aktuellsten Version von Matplotlib (erfordert Neustart der Runtime)\n",
        "!pip install matplotlib --upgrade"
      ],
      "metadata": {
        "id": "TLDToPpXLjyH"
      },
      "execution_count": null,
      "outputs": []
    },
    {
      "cell_type": "code",
      "source": [
        "# Vorsichtshalber: Löschen aller Variablen\n",
        "%reset -f\n",
        "\n",
        "# Laden der benötigten Libraries\n",
        "from google.colab import drive\n",
        "import os\n",
        "import sqlite3 as sq\n",
        "from sqlite3 import Error\n",
        "import pandas as pd\n",
        "import numpy as np\n",
        "import seaborn as sns\n",
        "import matplotlib\n",
        "from matplotlib import pyplot as plt\n",
        "from pandas_profiling import ProfileReport\n",
        "from pandas.util import hash_pandas_object\n",
        "\n",
        "# Ausgabe der Plots innerhalb des Notebooks\n",
        "%matplotlib inline"
      ],
      "metadata": {
        "id": "seY5T_uZ1pra"
      },
      "execution_count": null,
      "outputs": []
    },
    {
      "cell_type": "code",
      "source": [
        "# Google Drive mounten, force_remount auf True setzen, damit ein Remount erzwungen wird\n",
        "drive.mount('/content/gdrive/', force_remount=True)\n",
        "\n",
        "# Pfad zum Projektverzeichnis setzen und dorthin wechseln\n",
        "PROJECT_PATH = \"/content/gdrive/Shareddrives/DMA_Datenprojekt_TeamA/\"\n",
        "os.chdir(PROJECT_PATH)\n",
        "\n",
        "# Datenbankordner auf dem Shareddrive checken, es müssen source_breast_cancer.db und DWH_breast_cancer.db vorhanden sein\n",
        "!ls \"/content/gdrive/Shareddrives/DMA_Datenprojekt_TeamA/Daten/Datenbank\"\n",
        "\n",
        "# Patiententyp festlegen\n",
        "patient_type = \"breast_cancer\"\n",
        "\n",
        "# Pfad zur DWH-Datenbank setzen\n",
        "DB_DWH_PATH = os.path.join(PROJECT_PATH, \"Daten\", \"Datenbank\", \"DWH_breast_cancer.db\")\n",
        "\n",
        "# Pfad zum Analyse-Datensatz setzen\n",
        "DATA_PATH = os.path.join(PROJECT_PATH, \"Daten\", \"Analyse\")\n",
        "\n",
        "# Pfad zum Ergebnisordner setzen\n",
        "RESULTS_PATH = os.path.join(PROJECT_PATH, \"Ergebnisse\")\n",
        "\n",
        "# Check\n",
        "print(\"\\n\" + PROJECT_PATH)\n",
        "print(\"\\n\" + DB_DWH_PATH)\n",
        "print(\"\\n\" + DATA_PATH)\n",
        "print(\"\\n\" + RESULTS_PATH)"
      ],
      "metadata": {
        "id": "sSgyiyqNUoCY"
      },
      "execution_count": null,
      "outputs": []
    },
    {
      "cell_type": "markdown",
      "source": [
        "# Versionen der verwendeten Pakete abfragen \n",
        "\n",
        "Die Versionen der verwendeten Python-Installation und der Python-Pakete abfragen. "
      ],
      "metadata": {
        "id": "0CiLSmoxK2EH"
      }
    },
    {
      "cell_type": "code",
      "source": [
        "# Python-Version\n",
        "print(\"Python-Version:\")\n",
        "!python --version\n",
        "\n",
        "# Pandas-Version\n",
        "print(\"\\n\" + \"Pandas-Version:\")\n",
        "print(\"Pandas \" + pd.__version__)\n",
        "\n",
        "# numpy-Version\n",
        "print(\"\\n\" + \"numpy-Version:\")\n",
        "print(\"numpy \" + np.version.version)\n",
        "\n",
        "# sqlite-Version\n",
        "print(\"\\n\" + \"sqlite3-Version:\")\n",
        "print(\"sqlite3 \" + sq.sqlite_version)\n",
        "\n",
        "# Seaborn-Version\n",
        "print(\"\\n\" + \"Seaborn-Version:\")\n",
        "print(\"Seaborn \" + sns.__version__)\n",
        "\n",
        "# Matplotlib-Version\n",
        "print(\"\\n\" + \"Matplotlib-Version:\")\n",
        "print(\"Matplotlib \" + matplotlib.__version__)\n",
        "\n",
        "# sklearn-Version\n",
        "print(\"\\n\" + \"sklearn-Version:\")\n",
        "print(\"sklearn \" + matplotlib.__version__)\n"
      ],
      "metadata": {
        "id": "GefZIi4qLj-n"
      },
      "execution_count": null,
      "outputs": []
    },
    {
      "cell_type": "markdown",
      "source": [
        "# Extraktion der Daten aus der DWH-Datenbank\n"
      ],
      "metadata": {
        "id": "5M6KhPXEemNu"
      }
    },
    {
      "cell_type": "code",
      "source": [
        "# Datenbankverbindung zum DWH aufbauen\n",
        "dwh_conn = sq.connect(DB_DWH_PATH) \n",
        "if dwh_conn is not None:\n",
        "  dwh_cursor = dwh_conn.cursor()\n",
        "else:\n",
        "  print(\"Verbindung fehlgeschlagen. Bitte überprüfen!\")\n",
        "\n",
        "# Alle Tabellennamen aus der Datenbank ziehen\n",
        "dwh_cursor.execute(\"SELECT name FROM sqlite_master WHERE type='table';\")\n",
        "tablelist = dwh_cursor.fetchall()\n",
        "tablelist"
      ],
      "metadata": {
        "id": "2myoVebU42oM"
      },
      "execution_count": null,
      "outputs": []
    },
    {
      "cell_type": "markdown",
      "source": [
        "## Ausleitung der Daten zu den Behandlungskosten"
      ],
      "metadata": {
        "id": "gGJv96-LQhpf"
      }
    },
    {
      "cell_type": "code",
      "source": [
        "# SQL Abfrage zur Ausleitung der Daten zu den Behandlungskosten\n",
        "extract_costs = \"\"\"SELECT enc.enc_id,\n",
        "                enc.patient,\n",
        "                pat.gender    AS PAT_GENDER,\n",
        "                pat.race      AS PAT_RACE,\n",
        "                enc.enc_payer,\n",
        "                pay.NAME      AS ENC_PAYER_NAME,\n",
        "                enc.enc_base_cost,\n",
        "                enc.enc_total_claim_cost,\n",
        "                enc.enc_payer_coverage,\n",
        "                enc.pro_code,\n",
        "                enc.pro_base_cost,\n",
        "                enc.med_code,\n",
        "                enc.med_base_cost,\n",
        "                enc.med_dispenses,\n",
        "                enc.med_total_cost,\n",
        "                enc.med_payer_coverage,\n",
        "                enc.med_payer,\n",
        "                enc.con_code,\n",
        "                sct.term      AS CON_TERM\n",
        "                FROM  f_encounter_costs AS enc\n",
        "                      JOIN d_patients AS pat\n",
        "                        ON enc.patient = pat.id\n",
        "                      JOIN d_payers AS pay\n",
        "                        ON enc.enc_payer = pay.id\n",
        "                      LEFT JOIN d_snomedct AS sct\n",
        "                        ON enc.con_code = sct.code\n",
        "                ORDER  BY patient, enc.enc_id;\"\"\"\n",
        "data_costs = pd.read_sql(extract_costs, dwh_conn)\n",
        "data_costs.head()"
      ],
      "metadata": {
        "id": "_Gygq5PcjHty"
      },
      "execution_count": null,
      "outputs": []
    },
    {
      "cell_type": "code",
      "source": [
        "# ausgeleitete Daten in CSV Datei schreiben dwh_data_costs.csv\n",
        "with open(os.path.join(DATA_PATH, \"dwh_data_costs.csv\"), 'w', encoding = 'utf-8') as f:\n",
        "  data_costs.to_csv(f, index=False)"
      ],
      "metadata": {
        "id": "PTKRRCCgaAUm"
      },
      "execution_count": null,
      "outputs": []
    },
    {
      "cell_type": "code",
      "source": [
        "# Hashwerte für ausgeleitete Daten zu den Behandlungskosten berechnen (ohne Spalte PATIENT)\n",
        "data_costshashes = hash_pandas_object(data_costs.drop(columns=['PATIENT']))"
      ],
      "metadata": {
        "id": "DiMyLAU_Q6Gy"
      },
      "execution_count": null,
      "outputs": []
    },
    {
      "cell_type": "code",
      "source": [
        "# Checksumme der Hashwerte berechnen\n",
        "data_costshashes.sum()"
      ],
      "metadata": {
        "id": "q6zI6mTHQ6Gz"
      },
      "execution_count": null,
      "outputs": []
    },
    {
      "cell_type": "code",
      "source": [
        "# Vergleich der berechneten Checksumme mit dem zu erwarteten Wert (5372785863725780577)\n",
        "if data_costshashes.sum() == 5372785863725780577:\n",
        "  print(\"Die Überprüfung der ausgeleiteten Daten zu den Behandlungskosten mittels Checksumme war erfolgreich. Die Checksumme stimmt mit dem im Projekt verwendeten Wert überein.\")\n",
        "else:\n",
        "  print(\"Die Überprüfung der ausgeleiteten Daten zu den Behandlungskosten mittels Checksumme war nicht erfolgreich. Es liegen Abweichungen zu den im Projekt verwendeten Daten vor.\")"
      ],
      "metadata": {
        "id": "LS0Vs0_FQ0PC"
      },
      "execution_count": null,
      "outputs": []
    },
    {
      "cell_type": "markdown",
      "source": [
        "## Ausleitung der Daten zur Diagnosegruppe"
      ],
      "metadata": {
        "id": "E5dd8FvhQlAe"
      }
    },
    {
      "cell_type": "code",
      "source": [
        "# SQL Abfrage zur Ausleitung der Diagnoseart (none = keine, breast_cancer = Brustkrebs, other = andere Diagnose)\n",
        "extract_diagnoses = \"\"\"SELECT pat.id AS patient,\n",
        "                              CASE\n",
        "                                WHEN pat.id IN (SELECT DISTINCT( enc.patient )\n",
        "                                                FROM   f_encounter_costs AS enc\n",
        "                                                WHERE  enc.con_code = \"254837009\") THEN 'breast_cancer'\n",
        "                                WHEN pat.id IN (SELECT DISTINCT( enc.patient )\n",
        "                                                FROM   f_encounter_costs AS enc\n",
        "                                                WHERE  NOT enc.con_code = \"254837009\"\n",
        "                                                        AND enc.con_code IS NOT NULL) THEN 'other'\n",
        "                                ELSE 'none'\n",
        "                              END    AS diagnosis\n",
        "                        FROM   d_patients AS pat;\"\"\"\n",
        "data_diagnoses = pd.read_sql(extract_diagnoses, dwh_conn)\n",
        "data_diagnoses.head()"
      ],
      "metadata": {
        "id": "8EtFTg8qorq2"
      },
      "execution_count": null,
      "outputs": []
    },
    {
      "cell_type": "code",
      "source": [
        "# ausgeleitete Daten in CSV Datei schreiben dwh_data_diagnoses.csv\n",
        "with open(os.path.join(DATA_PATH, \"dwh_data_diagnoses.csv\"), 'w', encoding = 'utf-8') as f:\n",
        "  data_diagnoses.to_csv(f, index=False)"
      ],
      "metadata": {
        "id": "erOJkKc2aBiU"
      },
      "execution_count": null,
      "outputs": []
    },
    {
      "cell_type": "code",
      "source": [
        "# Hashwerte für ausgeleitete Daten zur Diagnosegruppe berechnen (ohne Spalte patient)\n",
        "data_diagnoseshashes = hash_pandas_object(data_diagnoses.drop(columns=['patient']))"
      ],
      "metadata": {
        "id": "YbnhAFRLSain"
      },
      "execution_count": null,
      "outputs": []
    },
    {
      "cell_type": "code",
      "source": [
        "# Checksumme der Hashwerte berechnen\n",
        "data_diagnoseshashes.sum()"
      ],
      "metadata": {
        "id": "tcitI4drSbQd"
      },
      "execution_count": null,
      "outputs": []
    },
    {
      "cell_type": "code",
      "source": [
        "# Vergleich der berechneten Checksumme mit dem zu erwarteten Wert (3169026638659937830)\n",
        "if data_diagnoseshashes.sum() == 3169026638659937830:\n",
        "  print(\"Die Überprüfung der ausgeleiteten Daten zur Diagnosegruppe mittels Checksumme war erfolgreich. Die Checksumme stimmt mit dem im Projekt verwendeten Wert überein.\")\n",
        "else:\n",
        "  print(\"Die Überprüfung der ausgeleiteten Daten zur Diagnosegruppe mittels Checksumme war nicht erfolgreich. Es liegen Abweichungen zu den im Projekt verwendeten Daten vor.\")"
      ],
      "metadata": {
        "id": "oekQlbOnSeg-"
      },
      "execution_count": null,
      "outputs": []
    },
    {
      "cell_type": "code",
      "source": [
        "# Commit und Close\n",
        "dwh_conn.commit()\n",
        "dwh_conn.close()"
      ],
      "metadata": {
        "id": "86L6xaCr6Miz"
      },
      "execution_count": null,
      "outputs": []
    },
    {
      "cell_type": "markdown",
      "source": [
        "# Erstellung einer Analysetabelle\n",
        "\n"
      ],
      "metadata": {
        "id": "eOHabB28k3r7"
      }
    },
    {
      "cell_type": "markdown",
      "source": [
        "## Explorative Datenanalyse der aus der DWH-Datenbank erstellten Tabellen"
      ],
      "metadata": {
        "id": "yZVBCX5SHSMi"
      }
    },
    {
      "cell_type": "code",
      "source": [
        "# Überblick über Tabelle data_costs\n",
        "data_costs.info()"
      ],
      "metadata": {
        "id": "Vi5KzqcHmSPR"
      },
      "execution_count": null,
      "outputs": []
    },
    {
      "cell_type": "code",
      "source": [
        "# Anzahl einmaliger Werte pro Spalte in Tabelle data_costs\n",
        "data_costs.nunique(axis=0)"
      ],
      "metadata": {
        "id": "Adp1FYlAvzP6"
      },
      "execution_count": null,
      "outputs": []
    },
    {
      "cell_type": "code",
      "source": [
        "# Analyse Duplikate in Tabelle data_costs (je nach Kostentyp)\n",
        "print(\"Anzahl doppelte Aufenthalte:\", data_costs.duplicated(subset=[\"PATIENT\", \"ENC_ID\", \"ENC_BASE_COST\", \"ENC_PAYER_COVERAGE\"]).sum())\n",
        "print(\"Anzahl doppelte Prozeduren:\", data_costs.duplicated(subset=[\"PATIENT\", \"ENC_ID\", \"PRO_CODE\", \"PRO_BASE_COST\"]).sum())\n",
        "print(\"Anzahl doppelte Medikationen:\", data_costs.duplicated(subset=[\"PATIENT\", \"ENC_ID\", \"MED_CODE\", \"MED_BASE_COST\", \"MED_DISPENSES\", \"MED_TOTAL_COST\", \"MED_PAYER_COVERAGE\"]).sum())"
      ],
      "metadata": {
        "id": "aoEP8lrRwFZJ"
      },
      "execution_count": null,
      "outputs": []
    },
    {
      "cell_type": "code",
      "source": [
        "# Überblick über Tabelle data_diagnoses\n",
        "data_diagnoses.info()"
      ],
      "metadata": {
        "id": "N01yU_GPoyX4"
      },
      "execution_count": null,
      "outputs": []
    },
    {
      "cell_type": "code",
      "source": [
        "# Anzahl einmaliger Werte pro Spalte in Tabelle data_diagnoses\n",
        "data_diagnoses.nunique(axis=0)"
      ],
      "metadata": {
        "id": "iYye7ONH6B0N"
      },
      "execution_count": null,
      "outputs": []
    },
    {
      "cell_type": "code",
      "source": [
        "# Analyse Duplikate in Tabelle data_diagnoses\n",
        "print(\"Anzahl doppelte Patienten:\", data_costs.duplicated().sum())"
      ],
      "metadata": {
        "id": "bDTroK3C6FXO"
      },
      "execution_count": null,
      "outputs": []
    },
    {
      "cell_type": "markdown",
      "source": [
        "## Erstellung Tabelle mit Gesamtkosten für Aufenthalte pro Patient"
      ],
      "metadata": {
        "id": "H7wF9qd6o_OI"
      }
    },
    {
      "cell_type": "code",
      "source": [
        "# Erstellung Subset mit Kostendaten zu Aufenthalten\n",
        "data_encounters = data_costs[[\"PATIENT\", \"ENC_ID\", \"ENC_BASE_COST\", \"ENC_PAYER_COVERAGE\"]]\n",
        "data_encounters.shape"
      ],
      "metadata": {
        "id": "zp3WV0MEpDID"
      },
      "execution_count": null,
      "outputs": []
    },
    {
      "cell_type": "code",
      "source": [
        "# Entfernen von Duplikaten (gleicher Patient, gleicher Aufenthalt, gleiche Kosten)\n",
        "data_encounters_nodups = data_encounters.drop_duplicates()\n",
        "data_encounters_nodups.shape\n",
        "print(len(data_encounters) - len(data_encounters_nodups), \"Duplikate entfernt.\")"
      ],
      "metadata": {
        "id": "0EFhu6ATqShQ"
      },
      "execution_count": null,
      "outputs": []
    },
    {
      "cell_type": "code",
      "source": [
        "# Gruppierung nach Patienten, Aufsummierung der Kosten\n",
        "data_encounters_grouped = data_encounters_nodups.groupby(by=\"PATIENT\")\n",
        "data_encounters_final = data_encounters_grouped[[\"ENC_BASE_COST\", \"ENC_PAYER_COVERAGE\"]].sum()\n",
        "data_encounters_final.rename(columns={\"ENC_BASE_COST\": \"OVERALL_ENC_BASE_COST\", \n",
        "                                        \"ENC_PAYER_COVERAGE\": \"OVERALL_ENC_PAYER_COVERAGE\"}, inplace=True)\n",
        "data_encounters_final[\"NUMBER_ENCOUNTERS\"] = data_encounters_grouped.size()\n",
        "data_encounters_final.shape"
      ],
      "metadata": {
        "id": "b5s60Ff1rStw"
      },
      "execution_count": null,
      "outputs": []
    },
    {
      "cell_type": "code",
      "source": [
        "data_encounters_final"
      ],
      "metadata": {
        "id": "A7OYJ1FvslBZ"
      },
      "execution_count": null,
      "outputs": []
    },
    {
      "cell_type": "markdown",
      "source": [
        "## Erstellung Tabelle mit Gesamtkosten für Prozeduren pro Patient"
      ],
      "metadata": {
        "id": "ualvm323tTVp"
      }
    },
    {
      "cell_type": "code",
      "source": [
        "# Erstellung Subset mit Kostendaten zu Prozeduren\n",
        "data_procedures = data_costs[[\"PATIENT\", \"ENC_ID\", \"PRO_CODE\", \"PRO_BASE_COST\"]]\n",
        "data_procedures.shape"
      ],
      "metadata": {
        "id": "-NWQUBeWtls-"
      },
      "execution_count": null,
      "outputs": []
    },
    {
      "cell_type": "code",
      "source": [
        "# Entfernen von Duplikaten (gleicher Patient, gleicher Aufenthalt, gleiche Prozedur, gleiche Kosten)\n",
        "data_procedures_nodups = data_procedures.drop_duplicates()\n",
        "data_procedures_nodups.shape\n",
        "print(len(data_procedures) - len(data_procedures_nodups), \"Duplikate entfernt.\")"
      ],
      "metadata": {
        "id": "oYQv3K2ltlzJ"
      },
      "execution_count": null,
      "outputs": []
    },
    {
      "cell_type": "code",
      "source": [
        "# Gruppierung nach Patienten, Aufsummierung der Kosten\n",
        "data_procedures_grouped = data_procedures_nodups.groupby(by=\"PATIENT\")\n",
        "data_procedures_final = data_procedures_grouped[[\"PRO_BASE_COST\"]].sum(min_count=1)\n",
        "data_procedures_final.rename(columns={\"PRO_BASE_COST\": \"OVERALL_PRO_BASE_COST\"}, inplace=True)\n",
        "data_procedures_final[\"NUMBER_PROCEDURES\"] = data_procedures_grouped[[\"PRO_BASE_COST\"]].count()\n",
        "data_procedures_final.shape"
      ],
      "metadata": {
        "id": "OqnSYGuttl7f"
      },
      "execution_count": null,
      "outputs": []
    },
    {
      "cell_type": "code",
      "source": [
        "data_procedures_final"
      ],
      "metadata": {
        "id": "LwOyvHsRtl_X"
      },
      "execution_count": null,
      "outputs": []
    },
    {
      "cell_type": "markdown",
      "source": [
        "## Erstellung Tabelle mit Gesamtkosten für Medikation pro Patient"
      ],
      "metadata": {
        "id": "9Q74xfbStXSR"
      }
    },
    {
      "cell_type": "code",
      "source": [
        "# Erstellung Subset mit Kostendaten zu Medikationen\n",
        "data_medications = data_costs[[\"PATIENT\", \"ENC_ID\", \"MED_CODE\", \"MED_BASE_COST\", \"MED_DISPENSES\", \"MED_TOTAL_COST\", \"MED_PAYER_COVERAGE\"]]\n",
        "data_medications.shape"
      ],
      "metadata": {
        "id": "nHTN1gVzx042"
      },
      "execution_count": null,
      "outputs": []
    },
    {
      "cell_type": "code",
      "source": [
        "# Entfernen von Duplikaten (gleicher Patient, gleicher Aufenthalt, gleiche Medikation, gleiche Kosten)\n",
        "data_medications_nodups = data_medications.drop_duplicates()\n",
        "data_medications_nodups.shape\n",
        "print(len(data_medications) - len(data_medications_nodups), \"Duplikate entfernt.\")"
      ],
      "metadata": {
        "id": "xhwUqmS-zg49"
      },
      "execution_count": null,
      "outputs": []
    },
    {
      "cell_type": "code",
      "source": [
        "# Gruppierung nach Patienten, Aufsummierung der Kosten\n",
        "data_medications_grouped = data_medications_nodups.groupby(by=\"PATIENT\")\n",
        "data_medications_final = data_medications_grouped[[\"MED_BASE_COST\", \"MED_DISPENSES\", \"MED_TOTAL_COST\", \"MED_PAYER_COVERAGE\"]].sum(min_count=1)\n",
        "data_medications_final.rename(columns={\"MED_BASE_COST\": \"OVERALL_MED_BASE_COST\", \n",
        "                                         \"MED_DISPENSES\": \"OVERALL_MED_DISPENSES\", \n",
        "                                         \"MED_TOTAL_COST\": \"OVERALL_MED_TOTAL_COST\", \n",
        "                                         \"MED_PAYER_COVERAGE\": \"OVERALL_MED_PAYER_COVERAGE\"}, inplace=True)\n",
        "data_medications_final[\"NUMBER_MEDICATIONS\"] = data_medications_grouped[[\"MED_BASE_COST\"]].count()\n",
        "data_medications_final.shape"
      ],
      "metadata": {
        "id": "9U07Oh8ZzhBi"
      },
      "execution_count": null,
      "outputs": []
    },
    {
      "cell_type": "code",
      "source": [
        "data_medications_final"
      ],
      "metadata": {
        "id": "Y-UmGfTQzhN3"
      },
      "execution_count": null,
      "outputs": []
    },
    {
      "cell_type": "markdown",
      "source": [
        "## Erstellung einer Patiententabelle (mit demografischen Daten und Diagnosedaten)"
      ],
      "metadata": {
        "id": "j8kKv1w35ynO"
      }
    },
    {
      "cell_type": "code",
      "source": [
        "# Merge Informationen zu Patienten aus data_costs und Diagnosen aus data_diagnoses über Patienten-ID\n",
        "patient_information = pd.merge(data_costs[[\"PATIENT\", \"PAT_GENDER\", \"PAT_RACE\"]], data_diagnoses, how=\"inner\", left_on=[\"PATIENT\"], right_on=[\"patient\"])\n",
        "# Doppelte Zeilen entfernen\n",
        "patient_information.drop_duplicates(inplace=True)\n",
        "# Doppelte Spalte mit Patienten-ID entfernen\n",
        "patient_information.drop(columns=[\"patient\"], inplace=True)\n",
        "# Spalte diagnosis umbenennen\n",
        "patient_information.rename(columns={\"diagnosis\": \"DIAGNOSIS\"}, inplace=True)\n",
        "# Spalte mit Patienten-ID als Index\n",
        "patient_information.set_index(\"PATIENT\", inplace=True)\n",
        "\n",
        "patient_information.shape"
      ],
      "metadata": {
        "id": "DZCGcgNz50nd"
      },
      "execution_count": null,
      "outputs": []
    },
    {
      "cell_type": "code",
      "source": [
        "patient_information"
      ],
      "metadata": {
        "id": "8UGkszf39End"
      },
      "execution_count": null,
      "outputs": []
    },
    {
      "cell_type": "markdown",
      "source": [
        "## Erstellung der Analysetabelle als Kombination der zuvor erstellten Hilfstabellen\n"
      ],
      "metadata": {
        "id": "Wyy1WaQ1tbmP"
      }
    },
    {
      "cell_type": "code",
      "source": [
        "# Merge alle Tabellen in einzelnen Dataframe über Patienten-ID (Index)\n",
        "patient_data = pd.merge(pd.merge(pd.merge(patient_information, \n",
        "                                          data_encounters_final, left_index=True, right_index=True), \n",
        "                                 data_procedures_final, left_index=True, right_index=True), \n",
        "                        data_medications_final, left_index=True, right_index=True)\n",
        "patient_data.reset_index(inplace=True)\n",
        "patient_data.shape"
      ],
      "metadata": {
        "id": "tFbj_52otajK"
      },
      "execution_count": null,
      "outputs": []
    },
    {
      "cell_type": "code",
      "source": [
        "patient_data"
      ],
      "metadata": {
        "id": "rt_m1Vlt-8iy"
      },
      "execution_count": null,
      "outputs": []
    },
    {
      "cell_type": "code",
      "source": [
        "# Daten (Analysetabelle) in CSV Datei schreiben analysis_raw_data.csv\n",
        "with open(os.path.join(DATA_PATH, \"analysis_raw_data.csv\"), 'w', encoding = 'utf-8') as f:\n",
        "  patient_data.to_csv(f, index=False)"
      ],
      "metadata": {
        "id": "BLnM4TYiaH6V"
      },
      "execution_count": null,
      "outputs": []
    },
    {
      "cell_type": "markdown",
      "source": [
        "## Verifizierung der Analysetabelle mittels Checksum-Analyse"
      ],
      "metadata": {
        "id": "ErasdrzCcktr"
      }
    },
    {
      "cell_type": "code",
      "source": [
        "# Hashwerte für Dataframe patient_data berechnen (ohne Spalte PATIENT)\n",
        "patient_datahashes = hash_pandas_object(patient_data.drop(columns=['PATIENT']))"
      ],
      "metadata": {
        "id": "8sW0nMaWcxaR"
      },
      "execution_count": null,
      "outputs": []
    },
    {
      "cell_type": "code",
      "source": [
        "# Checksumme der Hashwerte berechnen\n",
        "patient_datahashes.sum()"
      ],
      "metadata": {
        "id": "Rg6YsjaRfTKq"
      },
      "execution_count": null,
      "outputs": []
    },
    {
      "cell_type": "code",
      "source": [
        "# Vergleich der berechneten Checksumme mit dem zu erwarteten Wert (4468229860989718260)\n",
        "if patient_datahashes.sum() == 4468229860989718260:\n",
        "  print(\"Die Überprüfung der Analysetabelle mittels Checksumme war erfolgreich. Die Checksumme stimmt mit dem im Projekt verwendeten Wert überein.\")\n",
        "else:\n",
        "  print(\"Die Überprüfung der Analysetabelle mittels Checksumme war nicht erfolgreich. Es liegen Abweichungen zu den im Projekt verwendeten Daten vor.\")"
      ],
      "metadata": {
        "id": "adbiuSMvNzwI"
      },
      "execution_count": null,
      "outputs": []
    },
    {
      "cell_type": "markdown",
      "source": [
        "# EDA (Explorative Datenanalyse)"
      ],
      "metadata": {
        "id": "fPM9c2V-xYZn"
      }
    },
    {
      "cell_type": "markdown",
      "source": [
        "## Übersicht über Patientenanzahl (rows) und beschreibende Attribute (columns)"
      ],
      "metadata": {
        "id": "9XgUcgqGDg4S"
      }
    },
    {
      "cell_type": "code",
      "source": [
        "patient_data.shape"
      ],
      "metadata": {
        "id": "ioXXjc4uCdGU"
      },
      "execution_count": null,
      "outputs": []
    },
    {
      "cell_type": "markdown",
      "source": [
        "## Übersicht über die beschreibenden Attribute (columns)"
      ],
      "metadata": {
        "id": "QM--TnrODp14"
      }
    },
    {
      "cell_type": "code",
      "source": [
        "patient_data.columns"
      ],
      "metadata": {
        "id": "HlcAmfXJClrE"
      },
      "execution_count": null,
      "outputs": []
    },
    {
      "cell_type": "markdown",
      "source": [
        "## Übersicht über die vorhandenen Datentypen und Anzahl der Nullwerte"
      ],
      "metadata": {
        "id": "UkRFqkqyDwZe"
      }
    },
    {
      "cell_type": "code",
      "source": [
        "patient_data.info()"
      ],
      "metadata": {
        "id": "gN77IKUtCxz-"
      },
      "execution_count": null,
      "outputs": []
    },
    {
      "cell_type": "markdown",
      "source": [
        "## Erste Übersicht mit beschreibender Statistik (count, mean ...)"
      ],
      "metadata": {
        "id": "_okr_7CcD9ar"
      }
    },
    {
      "cell_type": "code",
      "source": [
        "patient_data.describe()"
      ],
      "metadata": {
        "id": "bulvicWGC7tD"
      },
      "execution_count": null,
      "outputs": []
    },
    {
      "cell_type": "code",
      "source": [
        "patient_data.nunique(axis=0)"
      ],
      "metadata": {
        "id": "DEKmja49DEY_"
      },
      "execution_count": null,
      "outputs": []
    },
    {
      "cell_type": "markdown",
      "source": [
        "## Überprüfung auf Duplikate / doppelte Werte"
      ],
      "metadata": {
        "id": "mtl2vNqlCTsZ"
      }
    },
    {
      "cell_type": "code",
      "source": [
        "print(\"Anzahl doppelte Zeilen:\", patient_data.duplicated(patient_data.columns).sum())"
      ],
      "metadata": {
        "id": "-NyxdZ59DVbV"
      },
      "execution_count": null,
      "outputs": []
    },
    {
      "cell_type": "code",
      "source": [
        "# Entfernen von doppelten Werten (erster Wert bleibt bestehen)\n",
        "patient_data.drop_duplicates(keep=\"first\",inplace=True) \n",
        "print(\"Größe des Datensatzes nach dem Entfernen von doppelten Zeilen:\", patient_data.shape)"
      ],
      "metadata": {
        "id": "bQReBDXHDbaW"
      },
      "execution_count": null,
      "outputs": []
    },
    {
      "cell_type": "markdown",
      "source": [
        "## Überprüfung auf Vollständigkeit / fehlende Werte (NULL / NaN)"
      ],
      "metadata": {
        "id": "RfHW4MijGdp5"
      }
    },
    {
      "cell_type": "code",
      "source": [
        "# Anteil von Nicht-NULL-Werten in jeder Spalte\n",
        "patient_data.count()/len(patient_data) * 100"
      ],
      "metadata": {
        "id": "h9BMaWX5DiO8"
      },
      "execution_count": null,
      "outputs": []
    },
    {
      "cell_type": "code",
      "source": [
        "# Anzahl NULL-Werte pro Spalte\n",
        "patient_data.isnull().sum()"
      ],
      "metadata": {
        "id": "_9VJ8XC0Gv8p"
      },
      "execution_count": null,
      "outputs": []
    },
    {
      "cell_type": "markdown",
      "source": [
        "# Datenanalyse"
      ],
      "metadata": {
        "id": "eh6A-DQSXigd"
      }
    },
    {
      "cell_type": "code",
      "source": [
        "# Erstellen einer Kopie des patient_data Dataframes für die Analyse\n",
        "df = patient_data.copy()\n",
        "df.head()"
      ],
      "metadata": {
        "id": "tkohhSozYAio"
      },
      "execution_count": null,
      "outputs": []
    },
    {
      "cell_type": "markdown",
      "source": [
        "## Überprüfung der Daten mittels Hashes / Checksumme"
      ],
      "metadata": {
        "id": "gHAi26pegE1u"
      }
    },
    {
      "cell_type": "markdown",
      "source": [
        "Zu erwartender Wert: 4468229860989718260"
      ],
      "metadata": {
        "id": "IJ5oo1j9gLgs"
      }
    },
    {
      "cell_type": "code",
      "source": [
        "dfhashes = hash_pandas_object(df.drop(columns=['PATIENT']))"
      ],
      "metadata": {
        "id": "sYtW_g2YgEiN"
      },
      "execution_count": null,
      "outputs": []
    },
    {
      "cell_type": "code",
      "source": [
        "dfhashes.sum()"
      ],
      "metadata": {
        "id": "5s-PsW5egb5y"
      },
      "execution_count": null,
      "outputs": []
    },
    {
      "cell_type": "code",
      "source": [
        "# Vergleich der berechneten Checksumme mit dem zu erwarteten Wert (4468229860989718260)\n",
        "if dfhashes.sum() == 4468229860989718260:\n",
        "  print(\"Die Überprüfung mittels Checksumme war erfolgreich. Der DataFrame df ist eine identische Kopie des DataFrames patient_data.\")\n",
        "else:\n",
        "  print(\"Die Überprüfung mittels Checksumme war nicht erfolgreich.\")"
      ],
      "metadata": {
        "id": "KaGnOw7NOQ2l"
      },
      "execution_count": null,
      "outputs": []
    },
    {
      "cell_type": "markdown",
      "source": [
        "## Übersicht über die enthaltenen Patienten"
      ],
      "metadata": {
        "id": "544I_Ej80eV-"
      }
    },
    {
      "cell_type": "markdown",
      "source": [
        "### Anzahl der Patienten pro Diagnosegruppe (breast_cancer, other, none)"
      ],
      "metadata": {
        "id": "I_XxvI8ndlPB"
      }
    },
    {
      "cell_type": "code",
      "source": [
        "# Erstellung eines Säulendiagramms zu den Diagnosen\n",
        "plt_diagnosis = sns.countplot(x=\"DIAGNOSIS\", data=df)\n",
        "\n",
        "# Achsenbeschriftung und Titel ergänzen\n",
        "plt_diagnosis.set(title='Patients by diagnosis group',\n",
        "                  xlabel='Diagnosis group',\n",
        "                  ylabel='Count')\n",
        "\n",
        "# Beschriftung ergänzen\n",
        "plt_diagnosis.bar_label(plt_diagnosis.containers[0], fmt='%.0f', label_type='edge', padding=1)\n",
        "\n",
        "plt.savefig(os.path.join(RESULTS_PATH, \"Plots_EDA\", \"01_patients_by_diagnosis.png\"), dpi=300)"
      ],
      "metadata": {
        "id": "W_UIvyTBdpwX"
      },
      "execution_count": null,
      "outputs": []
    },
    {
      "cell_type": "markdown",
      "source": [
        "Bei den meisten Patienten wurde keine Diagnose gestellt (`none`). Bei 124 Patienten wurde eine Diagnose gestellt, die aber nicht Brustkrebs war (`other`). Nur bei einem Bruchteil der Patienten (n=11) ergab sich die Diagnose Brustkrebs (`breast_cancer`)."
      ],
      "metadata": {
        "id": "zuqT4cAAEjN3"
      }
    },
    {
      "cell_type": "markdown",
      "source": [
        "### Geschlechtsverteilung der Patienten"
      ],
      "metadata": {
        "id": "scjIPebplG_r"
      }
    },
    {
      "cell_type": "code",
      "source": [
        "# Erstellung eines Säulendiagramms für alle Patienten\n",
        "plt_gender = sns.countplot(x=\"PAT_GENDER\", data=df)\n",
        "\n",
        "# Achsenbeschriftung und Titel ergänzen\n",
        "plt_gender.set(title='Patient gender distribution',\n",
        "               xlabel='Patient gender',\n",
        "               ylabel='Count')\n",
        "\n",
        "# Beschriftung ergänzen\n",
        "plt_gender.bar_label(plt_gender.containers[0], fmt='%.0f', label_type='edge', padding=1)\n",
        "\n",
        "plt.savefig(os.path.join(RESULTS_PATH, \"Plots_EDA\", \"02_gender_distribution.png\"), dpi=300)"
      ],
      "metadata": {
        "id": "itzIjCiNaDQy"
      },
      "execution_count": null,
      "outputs": []
    },
    {
      "cell_type": "markdown",
      "source": [
        "Ausgeglichene Anzahl von weiblichen und männlichen Patienten."
      ],
      "metadata": {
        "id": "q5jupg1iEbi6"
      }
    },
    {
      "cell_type": "code",
      "source": [
        "# Erstellung eines Säulendiagramms aufgesplittet nach Diagnose\n",
        "plt_gender_diagnosis = sns.countplot(x=\"PAT_GENDER\", hue=\"DIAGNOSIS\", data=df)\n",
        "\n",
        "# Achsenbeschriftung und Titel ergänzen\n",
        "plt_gender_diagnosis.set(title='Patient gender by diagnosis group',\n",
        "                         xlabel='Patient gender',\n",
        "                         ylabel='Count')\n",
        "\n",
        "for c in plt_gender_diagnosis.containers:\n",
        "    # Beschriftung ergänzen\n",
        "    plt_gender_diagnosis.bar_label(c, fmt='%.0f', label_type='edge', padding=1)\n",
        "\n",
        "plt.savefig(os.path.join(RESULTS_PATH, \"Plots_EDA\", \"03_gender_by_diagnosis.png\"), dpi=300)"
      ],
      "metadata": {
        "id": "tdc4ubufVSX0"
      },
      "execution_count": null,
      "outputs": []
    },
    {
      "cell_type": "markdown",
      "source": [
        "### Ethnischer Hintergrund der Patienten"
      ],
      "metadata": {
        "id": "H0wvp90heIDz"
      }
    },
    {
      "cell_type": "code",
      "source": [
        "# Erstellung eines Säulendiagramms für alle Patienten\n",
        "plt_ethnicity = sns.countplot(x=\"PAT_RACE\", data=df)\n",
        "\n",
        "# Achsenbeschriftung und Titel ergänzen\n",
        "plt_ethnicity.set(title='Patient racial background',\n",
        "                  xlabel='Patient racial background',\n",
        "                  ylabel='Count')\n",
        "\n",
        "# Beschriftung ergänzen\n",
        "plt_ethnicity.bar_label(plt_ethnicity.containers[0], fmt='%.0f', label_type='edge', padding=1)\n",
        "\n",
        "plt.savefig(os.path.join(RESULTS_PATH, \"Plots_EDA\", \"04_ethnicity.png\"), dpi=300)"
      ],
      "metadata": {
        "id": "co3DOUn8eHXZ"
      },
      "execution_count": null,
      "outputs": []
    },
    {
      "cell_type": "markdown",
      "source": [
        "Dieses Säulendiagramm zeigt, dass die meisten Patienten kaukasischer Abstammung waren. Andere Ethnien kamen nur in Ausnahmefällen vor. (Es müsste hier eine Normalisierung stattfinden, d.h. die gesamte Anzahl der Personen unterschiedlicher Ethnien müsste mit dem Patientenklientel verglichen werden.) "
      ],
      "metadata": {
        "id": "P7YD4TxOE13-"
      }
    },
    {
      "cell_type": "code",
      "source": [
        "# Erstellung eines Säulendiagramms aufgesplittet nach Diagnose\n",
        "plt_ethnicity_diagnosis = sns.countplot(x=\"PAT_RACE\", hue=\"DIAGNOSIS\", data=df)\n",
        "\n",
        "# Achsenbeschriftung und Titel ergänzen\n",
        "plt_ethnicity_diagnosis.set(title='Patient racial background by diagnosis group',\n",
        "                            xlabel='Patient racial background',\n",
        "                            ylabel='Count')\n",
        "\n",
        "for c in plt_ethnicity_diagnosis.containers:\n",
        "    # Beschriftung ergänzen\n",
        "    plt_ethnicity_diagnosis.bar_label(c, fmt='%.0f', label_type='edge', padding=1)\n",
        "\n",
        "plt.savefig(os.path.join(RESULTS_PATH, \"Plots_EDA\", \"05_ethnicity_by_diagnosis.png\"), dpi=300)"
      ],
      "metadata": {
        "id": "FZ0OO7vPc87V"
      },
      "execution_count": null,
      "outputs": []
    },
    {
      "cell_type": "markdown",
      "source": [
        "## Analyse der Kosten"
      ],
      "metadata": {
        "id": "Cns84WvYh29y"
      }
    },
    {
      "cell_type": "markdown",
      "source": [
        "### Ausgaben für Medikamente für die unterschiedlichen Diagnosen"
      ],
      "metadata": {
        "id": "tKs4cYvR3UOt"
      }
    },
    {
      "cell_type": "code",
      "source": [
        "# Erstellung eines Scatter Plots für die Gesamtkosten der Medikation nach Diagnose\n",
        "plt_costs_medication = df.plot(kind='scatter', x='DIAGNOSIS', y=('OVERALL_MED_TOTAL_COST'))\n",
        "\n",
        "# Achsenbeschriftung und Titel ergänzen\n",
        "plt_costs_medication.set(title='Costs for medication by diagnosis group',\n",
        "                         xlabel='Diagnosis group',\n",
        "                         ylabel='Total medication cost')\n",
        "\n",
        "plt.savefig(os.path.join(RESULTS_PATH, \"Plots_EDA\", \"06_medication_cost.png\"), dpi=300)"
      ],
      "metadata": {
        "id": "4O8eYcP0hq-5"
      },
      "execution_count": null,
      "outputs": []
    },
    {
      "cell_type": "markdown",
      "source": [
        "Die Analyse der Ausgaben für Medikamente lassen keine Aussagen zu, um welche Diagnose es sich handelt."
      ],
      "metadata": {
        "id": "51_3XyMwFgdd"
      }
    },
    {
      "cell_type": "markdown",
      "source": [
        "### Berechnung der Kosten, die die Patienten mit den verschiedenen Diagnosen selbst tragen müssen."
      ],
      "metadata": {
        "id": "R_BkUfBSFszs"
      }
    },
    {
      "cell_type": "code",
      "source": [
        "# Ersetzen von NaN Werten (bei Patienten ohne Prozeduren / Medikationen) mit 0 um Berechnungen zu ermöglichen\n",
        "df = df.fillna(0)"
      ],
      "metadata": {
        "id": "sAQEm2Dl6NLk"
      },
      "execution_count": null,
      "outputs": []
    },
    {
      "cell_type": "markdown",
      "source": [
        "Hier eine Aufstellung, wieviel die Medikamente insgesamt kosten und welcher Anteil von der Versicherung übernommen wird."
      ],
      "metadata": {
        "id": "T4L-Q_zLF1UX"
      }
    },
    {
      "cell_type": "code",
      "source": [
        "df.groupby('DIAGNOSIS')['OVERALL_MED_TOTAL_COST', 'OVERALL_MED_PAYER_COVERAGE'].mean()"
      ],
      "metadata": {
        "id": "vul-lbJHpJUi"
      },
      "execution_count": null,
      "outputs": []
    },
    {
      "cell_type": "markdown",
      "source": [
        "Hier eine Aufstellung, wieviel die Aufenthalte insgesamt kosten und wieviel von den Versicherungen übernommen wird."
      ],
      "metadata": {
        "id": "_F8GVifXGA8P"
      }
    },
    {
      "cell_type": "code",
      "source": [
        "df.groupby('DIAGNOSIS')['OVERALL_ENC_BASE_COST', 'OVERALL_ENC_PAYER_COVERAGE'].mean()"
      ],
      "metadata": {
        "id": "8NCkjqpgsHWq"
      },
      "execution_count": null,
      "outputs": []
    },
    {
      "cell_type": "markdown",
      "source": [
        "Berechnung der Gesamtkosten, die der Patient selber tragen muss (für Medikamente und Aufenthalte)"
      ],
      "metadata": {
        "id": "XsbFIIQ_GXb1"
      }
    },
    {
      "cell_type": "code",
      "source": [
        "# Ergänzung einer Spalte Patient_Cost mit den Gesamtkosten pro Patient (exklusive der Prozeduren, für die im Datensatz keine Informationen zu Erstattungen vorliegen)\n",
        "df.eval('PATIENT_COST = (OVERALL_ENC_BASE_COST - OVERALL_ENC_PAYER_COVERAGE) + (OVERALL_MED_TOTAL_COST - OVERALL_MED_PAYER_COVERAGE)', inplace = True)\n",
        "# Ergänzung einer Spalte Patient_Cost_Pro mit den Gesamtkosten pro Patient (mit laut Datensatz nicht erstatteten Prozeduren)\n",
        "df.eval('PATIENT_COST_PRO = (OVERALL_ENC_BASE_COST - OVERALL_ENC_PAYER_COVERAGE) + (OVERALL_MED_TOTAL_COST - OVERALL_MED_PAYER_COVERAGE) + OVERALL_PRO_BASE_COST', inplace = True)\n",
        "df.columns"
      ],
      "metadata": {
        "id": "ScIJV--L1F8W"
      },
      "execution_count": null,
      "outputs": []
    },
    {
      "cell_type": "code",
      "source": [
        "# Daten (erweiterte Analysetabelle) in CSV Datei schreiben analysis_processed_data.csv\n",
        "with open(os.path.join(DATA_PATH, \"analysis_processed_data.csv\"), 'w', encoding = 'utf-8') as f:\n",
        "  patient_data.to_csv(f, index=False)"
      ],
      "metadata": {
        "id": "u52xHAyqcqxR"
      },
      "execution_count": null,
      "outputs": []
    },
    {
      "cell_type": "code",
      "source": [
        "# Gruppierung der erweiterten Analysetabelle nach Diagnosegruppe\n",
        "df_grouped = df.groupby('DIAGNOSIS')"
      ],
      "metadata": {
        "id": "GzjRfNT11z3o"
      },
      "execution_count": null,
      "outputs": []
    },
    {
      "cell_type": "code",
      "source": [
        "# Berechnung der durchschnittlichen Kosten / Erstattungen pro Diagnosegruppe\n",
        "df_grouped.mean().fillna(0)"
      ],
      "metadata": {
        "id": "hyl_laPa2gHK"
      },
      "execution_count": null,
      "outputs": []
    },
    {
      "cell_type": "code",
      "source": [
        "# Erstellung eines Dataframes der Gesamtkosten pro Patient und der entsprechenden Diagnosegruppe\n",
        "df_cost = df[['PATIENT_COST', 'DIAGNOSIS']]"
      ],
      "metadata": {
        "id": "BdhzIHg139kz"
      },
      "execution_count": null,
      "outputs": []
    },
    {
      "cell_type": "code",
      "source": [
        "df_cost.head()"
      ],
      "metadata": {
        "id": "m0TKjJHN4Qos"
      },
      "execution_count": null,
      "outputs": []
    },
    {
      "cell_type": "code",
      "source": [
        "# Gruppierung des erstellten Dataframes nach Diagnosegruppe\n",
        "df_cost_grouped = df_cost.groupby('DIAGNOSIS')"
      ],
      "metadata": {
        "id": "XEMokb3n4ya3"
      },
      "execution_count": null,
      "outputs": []
    },
    {
      "cell_type": "code",
      "source": [
        "df_cost_grouped.mean()"
      ],
      "metadata": {
        "id": "p_lFjBrz44gr"
      },
      "execution_count": null,
      "outputs": []
    },
    {
      "cell_type": "code",
      "source": [
        "# Erstellung eines Säulendiagramms der Kosten aufgesplittet nach Diagnose\n",
        "plt_costs_diagnosis = sns.barplot(data=df_cost, x=\"DIAGNOSIS\", y=\"PATIENT_COST\", ci=None)\n",
        "\n",
        "# Achsenbeschriftung und Titel ergänzen\n",
        "plt_costs_diagnosis.set(title='Healthcare costs by diagnosis group (excluding procedures)',\n",
        "                        xlabel='Diagnosis group',\n",
        "                        ylabel='Average cost per patient')\n",
        "\n",
        "plt_costs_diagnosis.bar_label(plt_costs_diagnosis.containers[0], fmt='%.0f', label_type='edge', padding=1)\n",
        "\n",
        "plt.savefig(os.path.join(RESULTS_PATH, \"Plots_EDA\", \"07_healthcare_cost_by_diagnosis.png\"), dpi=300)"
      ],
      "metadata": {
        "id": "rY89G9Zr46KG"
      },
      "execution_count": null,
      "outputs": []
    },
    {
      "cell_type": "markdown",
      "source": [
        "Die Analyse zeigt, dass Patienten mit Brutkrebs im Durchschnitt etwas mehr Kosten selber tragen müssen, als Patienten mit einer anderen Diagnose oder gar keiner Diagnose. Die niedrigen Kosten für Patienten ohne eine gegebene Diagnose sind darauf zurückzuführen, dass diese keine Medikationen verschrieben bekommen haben."
      ],
      "metadata": {
        "id": "aH0iPr9j8ZSJ"
      }
    },
    {
      "cell_type": "code",
      "source": [
        "# Erstellung eines Dataframes der Gesamtkosten pro Patient, inklusive Prozeduren, und der entsprechenden Diagnosegruppe\n",
        "df_cost_pro = df[['PATIENT_COST_PRO', 'DIAGNOSIS']]\n",
        "df_cost_pro.head()"
      ],
      "metadata": {
        "id": "jdKhq8EZ_jq7"
      },
      "execution_count": null,
      "outputs": []
    },
    {
      "cell_type": "code",
      "source": [
        "# Gruppierung des erstellten Dataframes nach Diagnosegruppe\n",
        "df_cost_pro_grouped = df_cost_pro.groupby('DIAGNOSIS')\n",
        "df_cost_pro_grouped.mean()"
      ],
      "metadata": {
        "id": "-4HXzT5m_jq8"
      },
      "execution_count": null,
      "outputs": []
    },
    {
      "cell_type": "code",
      "source": [
        "# Erstellung eines Säulendiagramms der Kosten (inklusive Prozeduren) aufgesplittet nach Diagnose\n",
        "plt_costs_pro_diagnosis = sns.barplot(data=df_cost_pro, x=\"DIAGNOSIS\", y=\"PATIENT_COST_PRO\", ci=None)\n",
        "\n",
        "# Achsenbeschriftung und Titel ergänzen\n",
        "plt_costs_pro_diagnosis.set(title='Healthcare costs by diagnosis group (including procedures)',\n",
        "                            xlabel='Diagnosis group',\n",
        "                            ylabel='Average cost per patient')\n",
        "\n",
        "plt_costs_pro_diagnosis.bar_label(plt_costs_pro_diagnosis.containers[0], fmt='%.0f', label_type='edge', padding=1)\n",
        "\n",
        "plt.savefig(os.path.join(RESULTS_PATH, \"Plots_EDA\", \"08_healthcare_cost_pro_by_diagnosis.png\"), dpi=300)"
      ],
      "metadata": {
        "id": "1xiAgg64_jq8"
      },
      "execution_count": null,
      "outputs": []
    },
    {
      "cell_type": "markdown",
      "source": [
        "Unter Einbeziehung der Kosten für Prozeduren (die aufgrund der fehlenden Informationen zu Erstattungen komplett den Patienten zugeordnet wurden) ergibt sich ein signifikanter Unterschied zwischen Patienten mit Brustkrebs und Patienten mit anderen Diagnosen, mit mer als doppelt so hohen Kosten. "
      ],
      "metadata": {
        "id": "nygVkXNHEFWQ"
      }
    },
    {
      "cell_type": "code",
      "source": [
        "df_encounters = df[['DIAGNOSIS', 'NUMBER_ENCOUNTERS']]"
      ],
      "metadata": {
        "id": "4mrXTGun6yUG"
      },
      "execution_count": null,
      "outputs": []
    },
    {
      "cell_type": "code",
      "source": [
        "df_encounters.head()"
      ],
      "metadata": {
        "id": "RGnotreD7SIO"
      },
      "execution_count": null,
      "outputs": []
    },
    {
      "cell_type": "code",
      "source": [
        "df_encounters_grouped = df_encounters.groupby('DIAGNOSIS')"
      ],
      "metadata": {
        "id": "8C_oPpt8-qmR"
      },
      "execution_count": null,
      "outputs": []
    },
    {
      "cell_type": "code",
      "source": [
        "df_encounters_grouped.mean()"
      ],
      "metadata": {
        "id": "fGmiGQia-6YQ"
      },
      "execution_count": null,
      "outputs": []
    },
    {
      "cell_type": "code",
      "source": [
        "# Erstellung eines Säulendiagramms der Aufenthalte aufgesplittet nach Diagnose\n",
        "plt_encounters_diagnosis = sns.barplot(data=df_encounters, x=\"DIAGNOSIS\", y=\"NUMBER_ENCOUNTERS\", ci=None)\n",
        "\n",
        "plt_encounters_diagnosis.set(title='Healthcare encounters by diagnosis group',\n",
        "                             xlabel='Diagnosis group',\n",
        "                             ylabel='Average number of encountres per patient')\n",
        "\n",
        "plt_encounters_diagnosis.bar_label(plt_encounters_diagnosis.containers[0], fmt='%.0f', label_type='edge', padding=1)\n",
        "\n",
        "plt.savefig(os.path.join(RESULTS_PATH, \"Plots_EDA\", \"09_healthcare_encounters_by_diagnosis.png\"), dpi=300)"
      ],
      "metadata": {
        "id": "rcvkpt5K-8Vd"
      },
      "execution_count": null,
      "outputs": []
    },
    {
      "cell_type": "markdown",
      "source": [
        "Die Analyse zeigt, dass Patienten mit Brustkrebs deutlich öfter den Arzt/ein Krankenhaus aufsuchen als Patienten mit einer anderen oder gar keiner Diagnose."
      ],
      "metadata": {
        "id": "IDuSB8dL8ws3"
      }
    },
    {
      "cell_type": "markdown",
      "source": [
        "# Machine Learning\n",
        "\n",
        "Ziel: Anhand der Kosten, die für den Patienten entstehen, und der Anzahl der Arztbesuche soll auf die Diagnose der einzelnen Patienten geschlossen werden."
      ],
      "metadata": {
        "id": "vHrzljWhGiQ2"
      }
    },
    {
      "cell_type": "code",
      "source": [
        "# Erstellung eines Ausschnitts der Analysetabelle mit den erforderlichen Spalten\n",
        "df_ml = df[['DIAGNOSIS', 'NUMBER_ENCOUNTERS', 'PATIENT_COST']]\n",
        "df_ml.head()"
      ],
      "metadata": {
        "id": "a2kxX8-G_7At"
      },
      "execution_count": null,
      "outputs": []
    },
    {
      "cell_type": "code",
      "source": [
        "# Gruppierung des Dataframes nach Diagnosegruppe\n",
        "df_ml.groupby('DIAGNOSIS')\n",
        "df_ml.groupby('DIAGNOSIS').head()"
      ],
      "metadata": {
        "id": "IAAMdUalAJ98"
      },
      "execution_count": null,
      "outputs": []
    },
    {
      "cell_type": "code",
      "source": [
        "# Entfernen von NaNs\n",
        "df_rest = df_ml.dropna(axis=0)\n",
        "df_rest.head()"
      ],
      "metadata": {
        "id": "1bq6z_VuBsd-"
      },
      "execution_count": null,
      "outputs": []
    },
    {
      "cell_type": "markdown",
      "source": [
        "## 1.Decision Tree Modell\n",
        "\n",
        "Aufgrund der geringen Anzahl an vollständigen Datensätzen wird zunächst ein Decision Tree Modell versucht"
      ],
      "metadata": {
        "id": "zrh39L-eG45D"
      }
    },
    {
      "cell_type": "code",
      "source": [
        "# Import der benötigten Libraries\n",
        "from sklearn.metrics import confusion_matrix \n",
        "from sklearn.model_selection import train_test_split \n",
        "from sklearn.tree import DecisionTreeClassifier \n",
        "from sklearn.metrics import accuracy_score \n",
        "from sklearn.metrics import classification_report \n",
        "\n",
        "# Warnungen ausblenden\n",
        "import warnings\n",
        "warnings.filterwarnings('ignore')\n"
      ],
      "metadata": {
        "id": "RnDN0mhHBMCM"
      },
      "execution_count": null,
      "outputs": []
    },
    {
      "cell_type": "code",
      "source": [
        "# Definition von X / y\n",
        "features = df_rest.columns.tolist()\n",
        "features.remove('DIAGNOSIS')\n",
        "X = df_rest[features]\n",
        "y = df_rest.DIAGNOSIS\n",
        "\n",
        "# Aufsplitten des Datensatzes in Trainings- und Testdatensatz\n",
        "X_train, X_test, y_train, y_test = train_test_split(X, y, test_size=0.3, random_state=150, shuffle=True)\n",
        "\n",
        "# Trainings- und Testdatensätze überprüfen\n",
        "print(\"X_train:\", X_train.shape)\n",
        "print(\"y_train:\", y_train.shape)\n",
        "print(\"X_test:\", X_test.shape)\n",
        "print(\"y_test:\", y_test.shape)"
      ],
      "metadata": {
        "id": "86al2IBnA2uH"
      },
      "execution_count": null,
      "outputs": []
    },
    {
      "cell_type": "markdown",
      "source": [
        "Es stehen 713 vollständige Trainingsdatensätze und 306 vollständige Testdatensätze zur Verfügung."
      ],
      "metadata": {
        "id": "Sq2ufMKnHCr7"
      }
    },
    {
      "cell_type": "code",
      "source": [
        "# Training eines Decision Trees mit dem gini-Index\n",
        "# Erstellung des Classifier-Objekts\n",
        "clf_gini = DecisionTreeClassifier(criterion = \"gini\", \n",
        "            max_depth=3, min_samples_leaf=5) \n",
        "# Durchführung des Trainings\n",
        "clf_gini.fit(X_train, y_train)"
      ],
      "metadata": {
        "id": "nWw-V4f1BZVD"
      },
      "execution_count": null,
      "outputs": []
    },
    {
      "cell_type": "code",
      "source": [
        "# Vorhersage der Diagnose anhand der Testdaten (mit giniIndex)\n",
        "y_pred = clf_gini.predict(X_test) \n",
        "print(\"Predicted values:\\n\") \n",
        "print(y_pred)"
      ],
      "metadata": {
        "id": "wjh2Bx95CIYJ"
      },
      "execution_count": null,
      "outputs": []
    },
    {
      "cell_type": "code",
      "source": [
        "# Darstellung der Konfusionsmatrix und der Accuracy\n",
        "print(\"-----\"*15)\n",
        "print(\"Confusion Matrix: \\n\", \n",
        "confusion_matrix(y_test, y_pred)) \n",
        "\n",
        "print(\"-----\"*15)\n",
        "print (\"Accuracy : \\n\", \n",
        "accuracy_score(y_test,y_pred)*100) \n",
        "    \n",
        "print(\"-----\"*15)\n",
        "print(\"Report : \\n\", \n",
        "classification_report(y_test, y_pred))"
      ],
      "metadata": {
        "id": "5txK7yDBCa0d"
      },
      "execution_count": null,
      "outputs": []
    },
    {
      "cell_type": "code",
      "source": [
        "# Darstellung und Evaluation mithilfe einer Konfusionsmatrix\n",
        "cm = confusion_matrix(y_test, y_pred)\n",
        "sns.heatmap(cm, cmap='YlGnBu', annot=True, fmt='d', linewidths=.5)\n",
        "\n",
        "plt.savefig(os.path.join(RESULTS_PATH, \"Plots_MachineLearning\", \"01_decision_tree_cm.png\"), dpi=300)"
      ],
      "metadata": {
        "id": "t-OoOHGSDMnf"
      },
      "execution_count": null,
      "outputs": []
    },
    {
      "cell_type": "markdown",
      "source": [
        "Im vorliegenden Modell wurden die Patienten mit Brustkrebs nicht erkannt. Eine Erklärung dafür ist, dass sich alle Patienten mit Brustkrebs im Testset befanden. Da keine Brustkrebs-Patienten im Trainingsset vorhanden waren, konnte das Modell diese Diagnose nicht \"lernen\" und hat sie daher auch nicht erkannt."
      ],
      "metadata": {
        "id": "Oxc9vuNR9RbJ"
      }
    },
    {
      "cell_type": "markdown",
      "source": [
        "## 2. Logistic Regression Analyse"
      ],
      "metadata": {
        "id": "6okDHiVUHpnN"
      }
    },
    {
      "cell_type": "code",
      "source": [
        "# Import der benötigten Libraries\n",
        "from sklearn.datasets import load_iris\n",
        "from sklearn.model_selection import train_test_split\n",
        "from sklearn.linear_model import LogisticRegression\n",
        "from sklearn.metrics import confusion_matrix, classification_report, accuracy_score\n",
        "\n",
        "# Definition des Plotting-Styles\n",
        "sns.set_style('whitegrid')\n",
        "plt.rcParams['font.size'] = 14\n",
        "plt.rcParams['figure.figsize'] = (11, 7)"
      ],
      "metadata": {
        "id": "0pRcbbyFC9qK"
      },
      "execution_count": null,
      "outputs": []
    },
    {
      "cell_type": "code",
      "source": [
        "# Logistische Regression (Verwendung des vorher definierten Trainings- / Testdatensatzes)\n",
        "log_reg = LogisticRegression(max_iter=1000)\n",
        "log_reg.fit(X_train, y_train)\n",
        "\n",
        "y_pred_train = log_reg.predict(X_train)\n",
        "y_pred = log_reg.predict(X_test)"
      ],
      "metadata": {
        "id": "LEUXpWOECsGM"
      },
      "execution_count": null,
      "outputs": []
    },
    {
      "cell_type": "code",
      "source": [
        "# Bestimmung der Accuracy\n",
        "print(\"Accuracy on train set:\", round(accuracy_score(y_train, y_pred_train), 2))\n",
        "print(\"Accuracy on test set:\", round(accuracy_score(y_test, y_pred), 2))\n",
        "print(\"--------\"*10)"
      ],
      "metadata": {
        "id": "g3vmyX57XzQv"
      },
      "execution_count": null,
      "outputs": []
    },
    {
      "cell_type": "code",
      "source": [
        "# Ausgabe des Classification Report\n",
        "print(classification_report(y_test, y_pred))\n",
        "print(\"--------\"*10)"
      ],
      "metadata": {
        "id": "4Ww7emA5XwrM"
      },
      "execution_count": null,
      "outputs": []
    },
    {
      "cell_type": "code",
      "source": [
        "# Darstellung und Evaluation mithilfe einer Konfusionsmatrix\n",
        "cm = confusion_matrix(y_test, y_pred)\n",
        "sns.heatmap(cm, cmap='YlGnBu', annot=True, fmt='d', linewidths=.5);\n",
        "\n",
        "plt.savefig(os.path.join(RESULTS_PATH, \"Plots_MachineLearning\", \"02_logistic_regression_analysis_cm.png\"), dpi=300)"
      ],
      "metadata": {
        "id": "s7uEjLzYXZPP"
      },
      "execution_count": null,
      "outputs": []
    },
    {
      "cell_type": "markdown",
      "source": [
        "Mit diesem Ansatz wurden 3 der 4 Brustkrebspatienten erkannt. Das Modell konnte die Diagnose mithilfe des Trainingssets lernen. Die Aufteilung in Trainings- und Testset war in diesem Ansatz ausgeglichener."
      ],
      "metadata": {
        "id": "dkgRp3YU90AU"
      }
    },
    {
      "cell_type": "markdown",
      "source": [
        "Aufgrund der geringen Fallzahlen sind die Ergebnisse dieser Modelle nicht belastbar. Für eine aussagekräftige Analyse ist es notwendig das Patientenkollektiv deutlich zu vergrößern."
      ],
      "metadata": {
        "id": "5xLFSiCN-G2J"
      }
    }
  ]
}