{
  "nbformat": 4,
  "nbformat_minor": 0,
  "metadata": {
    "colab": {
      "provenance": []
    },
    "kernelspec": {
      "name": "python3",
      "display_name": "Python 3"
    },
    "language_info": {
      "name": "python"
    }
  },
  "cells": [
    {
      "cell_type": "markdown",
      "source": [
        "# Datenanalyse\n",
        "\n",
        "\n",
        "---\n",
        "\n",
        "Datensatz: [Synthea Breast Cancer Dataset](https://github.com/Fuenfgeld/DMA2023TeamA/tree/main/Daten/Quelldaten)\n",
        "\n",
        "Primär- und Fremdschlüsseldefinitionen: [Synthea GitHub Repository](https://github.com/synthetichealth/synthea/wiki/CSV-File-Data-Dictionary)\n",
        "\n",
        "Projektgruppe GitHub Repository: [DMA2023TeamA](https://github.com/Fuenfgeld/DMA2023TeamA)\n",
        "\n",
        "Source-DB: [GoogleDrive Ablage](https://drive.google.com/drive/folders/1k5cfjGXjNHmwQkydzjTdVHoBvCniBU_W), erstellt mit [Setup_and_fill_Database.ipynb](https://github.com/Fuenfgeld/DMA2023TeamA/blob/main/Code/Setup_and_fill_Database.ipynb)\n",
        "\n",
        "Data Warehouse-Datenbank: [GoogleDrive Ablage](https://drive.google.com/file/d/1l-HcqCezubHnR737DkbiRzdHanP7_g_D), erstellt mit [ETL_process.ipynb](https://github.com/Fuenfgeld/DMA2023TeamA/blob/main/Code/ETL_Process.ipynb)\n"
      ],
      "metadata": {
        "id": "A1UMVTCi1Mvc"
      }
    },
    {
      "cell_type": "markdown",
      "source": [
        "*Version*: 2.0\n",
        "\n",
        "Version Date: 16/02/2023\n",
        "\n",
        "Changes: \n",
        "\n",
        "**0.2**\n",
        "* Erstellung eines Analysedatensatzes aus den aus der DWH-Datenbank extrahierten Daten (Gesamtkosten für Aufenthalte / Prozeduren / Medikationen pro Patient)\n",
        "* Ergänzung Versionsnummern für neue Pakete\n",
        "\n",
        "**1.0**\n",
        "* Explorative Datenanalyse (EDA)\n",
        "* Machine Learning Ansätze\n",
        "\n",
        "**1.1**\n",
        "* ergänzende Dokumentation der Analyse im Skript\n",
        "\n",
        "**2.0**\n",
        "* Installation einer neuen Version von Matplotlib\n",
        "* zusätzliche Plots (Geschlecht und ethnischer Hintergrund nach Diagnose)\n",
        "* Überarbeitung der Plots (Beschriftungen, Titel)\n",
        "* Anpassung Analysen: NaN -> 0 für Berechnungen, Einbeziehung Prozedurkosten\n",
        "\n",
        "**2.1**\n",
        "* Anpassung der Pfade\n",
        "* Speicherung ausgeleitete / verarbeitete Datentabellen als csv-Dateien\n",
        "* Speicherung erstellte Plots (EDA) als png-Dateien"
      ],
      "metadata": {
        "id": "kyGzZm9lfe0i"
      }
    },
    {
      "cell_type": "markdown",
      "source": [
        "# Vorbereitung des Notebooks"
      ],
      "metadata": {
        "id": "uDC-NY3jl4dL"
      }
    },
    {
      "cell_type": "code",
      "source": [
        "# Vorsichtshalber: Löschen aller Variablen\n",
        "%reset -f\n",
        "\n",
        "# Installation der aktuellsten Version von Matplotlib (erfordert Neustart der Runtime)\n",
        "!pip install matplotlib --upgrade\n",
        "\n",
        "# Laden der benötigten Libraries\n",
        "from google.colab import drive\n",
        "import os\n",
        "import sqlite3 as sq\n",
        "from sqlite3 import Error\n",
        "import pandas as pd\n",
        "import numpy as np\n",
        "import seaborn as sns\n",
        "import matplotlib\n",
        "from matplotlib import pyplot as plt\n",
        "from pandas_profiling import ProfileReport\n",
        "\n",
        "# Ausgabe der Plots innerhalb des Notebooks\n",
        "%matplotlib inline"
      ],
      "metadata": {
        "id": "seY5T_uZ1pra",
        "colab": {
          "base_uri": "https://localhost:8080/"
        },
        "outputId": "c1ee228a-d7b3-44a3-ad6f-77b8dba3e5e4"
      },
      "execution_count": 1,
      "outputs": [
        {
          "output_type": "stream",
          "name": "stdout",
          "text": [
            "Looking in indexes: https://pypi.org/simple, https://us-python.pkg.dev/colab-wheels/public/simple/\n",
            "Requirement already satisfied: matplotlib in /usr/local/lib/python3.8/dist-packages (3.7.0)\n",
            "Requirement already satisfied: fonttools>=4.22.0 in /usr/local/lib/python3.8/dist-packages (from matplotlib) (4.38.0)\n",
            "Requirement already satisfied: packaging>=20.0 in /usr/local/lib/python3.8/dist-packages (from matplotlib) (23.0)\n",
            "Requirement already satisfied: contourpy>=1.0.1 in /usr/local/lib/python3.8/dist-packages (from matplotlib) (1.0.7)\n",
            "Requirement already satisfied: importlib-resources>=3.2.0 in /usr/local/lib/python3.8/dist-packages (from matplotlib) (5.10.2)\n",
            "Requirement already satisfied: pillow>=6.2.0 in /usr/local/lib/python3.8/dist-packages (from matplotlib) (7.1.2)\n",
            "Requirement already satisfied: cycler>=0.10 in /usr/local/lib/python3.8/dist-packages (from matplotlib) (0.11.0)\n",
            "Requirement already satisfied: kiwisolver>=1.0.1 in /usr/local/lib/python3.8/dist-packages (from matplotlib) (1.4.4)\n",
            "Requirement already satisfied: pyparsing>=2.3.1 in /usr/local/lib/python3.8/dist-packages (from matplotlib) (3.0.9)\n",
            "Requirement already satisfied: python-dateutil>=2.7 in /usr/local/lib/python3.8/dist-packages (from matplotlib) (2.8.2)\n",
            "Requirement already satisfied: numpy>=1.20 in /usr/local/lib/python3.8/dist-packages (from matplotlib) (1.21.6)\n",
            "Requirement already satisfied: zipp>=3.1.0 in /usr/local/lib/python3.8/dist-packages (from importlib-resources>=3.2.0->matplotlib) (3.12.1)\n",
            "Requirement already satisfied: six>=1.5 in /usr/local/lib/python3.8/dist-packages (from python-dateutil>=2.7->matplotlib) (1.15.0)\n"
          ]
        }
      ]
    },
    {
      "cell_type": "code",
      "source": [
        "# Google Drive mounten, force_remount auf True setzen, damit ein Remount erzwungen wird\n",
        "drive.mount('/content/gdrive/', force_remount=True)\n",
        "\n",
        "# Pfad zum Projektverzeichnis setzen und dorthin wechseln\n",
        "PROJECT_PATH = \"/content/gdrive/Shareddrives/DMA_Datenprojekt_TeamA/\"\n",
        "os.chdir(PROJECT_PATH)\n",
        "\n",
        "# Datenbankordner auf dem Shareddrive checken, es müssen source_breast_cancer.db und DWH_breast_cancer.db vorhanden sein\n",
        "!ls \"/content/gdrive/Shareddrives/DMA_Datenprojekt_TeamA/Daten/Datenbank\"\n",
        "\n",
        "# Patiententyp festlegen\n",
        "patient_type = \"breast_cancer\"\n",
        "\n",
        "# Pfad zur DWH-Datenbank setzen\n",
        "DB_DWH_PATH = os.path.join(PROJECT_PATH, \"Daten\", \"Datenbank\", \"DWH_breast_cancer.db\")\n",
        "\n",
        "# Pfad zum Analyse-Datensatz setzen\n",
        "DATA_PATH = os.path.join(PROJECT_PATH, \"Daten\", \"Analyse\")\n",
        "\n",
        "# Pfad zum Ergebnisordner setzen\n",
        "RESULTS_PATH = os.path.join(PROJECT_PATH, \"Ergebnisse\")\n",
        "\n",
        "# Check\n",
        "print(\"\\n\" + PROJECT_PATH)\n",
        "print(\"\\n\" + DB_DWH_PATH)\n",
        "print(\"\\n\" + DATA_PATH)\n",
        "print(\"\\n\" + RESULTS_PATH)"
      ],
      "metadata": {
        "id": "sSgyiyqNUoCY",
        "colab": {
          "base_uri": "https://localhost:8080/"
        },
        "outputId": "9626a405-2096-4fe5-a489-1d5eb6daf2c1"
      },
      "execution_count": 2,
      "outputs": [
        {
          "output_type": "stream",
          "name": "stdout",
          "text": [
            "Mounted at /content/gdrive/\n",
            "DWH_breast_cancer.db  source_breast_cancer.db  TEST_DWH_breast_cancer.db\n",
            "\n",
            "/content/gdrive/Shareddrives/DMA_Datenprojekt_TeamA/\n",
            "\n",
            "/content/gdrive/Shareddrives/DMA_Datenprojekt_TeamA/Daten/Datenbank/DWH_breast_cancer.db\n",
            "\n",
            "/content/gdrive/Shareddrives/DMA_Datenprojekt_TeamA/Daten/Analyse\n",
            "\n",
            "/content/gdrive/Shareddrives/DMA_Datenprojekt_TeamA/Ergebnisse\n"
          ]
        }
      ]
    },
    {
      "cell_type": "markdown",
      "source": [
        "# Versionen der verwendeten Pakete abfragen \n",
        "\n",
        "Die Versionen der verwendeten Python-Installation und der Python-Pakete abfragen. "
      ],
      "metadata": {
        "id": "0CiLSmoxK2EH"
      }
    },
    {
      "cell_type": "code",
      "source": [
        "# Python-Version\n",
        "print(\"Python-Version:\")\n",
        "!python --version\n",
        "\n",
        "# Pandas-Version\n",
        "print(\"\\n\" + \"Pandas-Version:\")\n",
        "print(\"Pandas \" + pd.__version__)\n",
        "\n",
        "# numpy-Version\n",
        "print(\"\\n\" + \"numpy-Version:\")\n",
        "print(\"numpy \" + np.version.version)\n",
        "\n",
        "# sqlite-Version\n",
        "print(\"\\n\" + \"sqlite3-Version:\")\n",
        "print(\"sqlite3 \" + sq.sqlite_version)\n",
        "\n",
        "# Seaborn-Version\n",
        "print(\"\\n\" + \"Seaborn-Version:\")\n",
        "print(\"Seaborn \" + sns.__version__)\n",
        "\n",
        "# Matplotlib-Version\n",
        "print(\"\\n\" + \"Matplotlib-Version:\")\n",
        "print(\"Matplotlib \" + matplotlib.__version__)\n",
        "\n",
        "# sklearn-Version\n",
        "print(\"\\n\" + \"sklearn-Version:\")\n",
        "print(\"sklearn \" + matplotlib.__version__)\n"
      ],
      "metadata": {
        "id": "GefZIi4qLj-n",
        "colab": {
          "base_uri": "https://localhost:8080/"
        },
        "outputId": "d26006ac-f3aa-42ee-892d-f21b6caead3c"
      },
      "execution_count": 12,
      "outputs": [
        {
          "output_type": "stream",
          "name": "stdout",
          "text": [
            "Python-Version:\n",
            "Python 3.8.10\n",
            "\n",
            "Pandas-Version:\n",
            "Pandas 1.3.5\n",
            "\n",
            "numpy-Version:\n",
            "numpy 1.21.6\n",
            "\n",
            "sqlite3-Version:\n",
            "sqlite3 3.31.1\n",
            "\n",
            "Seaborn-Version:\n",
            "Seaborn 0.11.2\n",
            "\n",
            "Matplotlib-Version:\n",
            "Matplotlib 3.7.0\n",
            "\n",
            "sklearn-Version:\n",
            "sklearn 3.7.0\n"
          ]
        }
      ]
    },
    {
      "cell_type": "markdown",
      "source": [
        "# Extraktion der Daten aus der DWH-Datenbank\n"
      ],
      "metadata": {
        "id": "5M6KhPXEemNu"
      }
    },
    {
      "cell_type": "code",
      "source": [
        "# Datenbankverbindung zum DWH aufbauen\n",
        "dwh_conn = sq.connect(DB_DWH_PATH) \n",
        "if dwh_conn is not None:\n",
        "  dwh_cursor = dwh_conn.cursor()\n",
        "else:\n",
        "  print(\"Verbindung fehlgeschlagen. Bitte überprüfen!\")\n",
        "\n",
        "# Alle Tabellennamen aus der Datenbank ziehen\n",
        "dwh_cursor.execute(\"SELECT name FROM sqlite_master WHERE type='table';\")\n",
        "tablelist = dwh_cursor.fetchall()\n",
        "tablelist"
      ],
      "metadata": {
        "id": "2myoVebU42oM",
        "colab": {
          "base_uri": "https://localhost:8080/"
        },
        "outputId": "34cf0ce8-0463-45e0-9ee7-7584d8a72311"
      },
      "execution_count": 13,
      "outputs": [
        {
          "output_type": "execute_result",
          "data": {
            "text/plain": [
              "[('D_payers',),\n",
              " ('D_snomedct',),\n",
              " ('D_rxnorm',),\n",
              " ('D_patients',),\n",
              " ('F_encounter_costs',)]"
            ]
          },
          "metadata": {},
          "execution_count": 13
        }
      ]
    },
    {
      "cell_type": "code",
      "source": [
        "# SQL Abfrage zur Ausleitung der Daten zu den Behandlungskosten\n",
        "extract_costs = \"\"\"SELECT enc.enc_id,\n",
        "                enc.patient,\n",
        "                pat.gender    AS PAT_GENDER,\n",
        "                pat.race      AS PAT_RACE,\n",
        "                enc.enc_payer,\n",
        "                pay.NAME      AS ENC_PAYER_NAME,\n",
        "                enc.enc_base_cost,\n",
        "                enc.enc_total_claim_cost,\n",
        "                enc.enc_payer_coverage,\n",
        "                enc.pro_code,\n",
        "                enc.pro_base_cost,\n",
        "                enc.med_code,\n",
        "                enc.med_base_cost,\n",
        "                enc.med_dispenses,\n",
        "                enc.med_total_cost,\n",
        "                enc.med_payer_coverage,\n",
        "                enc.med_payer,\n",
        "                enc.con_code,\n",
        "                sct.term      AS CON_TERM\n",
        "                FROM  f_encounter_costs AS enc\n",
        "                      JOIN d_patients AS pat\n",
        "                        ON enc.patient = pat.id\n",
        "                      JOIN d_payers AS pay\n",
        "                        ON enc.enc_payer = pay.id\n",
        "                      LEFT JOIN d_snomedct AS sct\n",
        "                        ON enc.con_code = sct.code\n",
        "                ORDER  BY patient, enc.enc_id;\"\"\"\n",
        "data_costs = pd.read_sql(extract_costs, dwh_conn)\n",
        "data_costs.head()"
      ],
      "metadata": {
        "id": "_Gygq5PcjHty",
        "colab": {
          "base_uri": "https://localhost:8080/",
          "height": 531
        },
        "outputId": "01aedbf8-099a-494a-8a5c-20632fbe34e3"
      },
      "execution_count": 14,
      "outputs": [
        {
          "output_type": "execute_result",
          "data": {
            "text/plain": [
              "                                 ENC_ID  \\\n",
              "0  30562cc8-620e-d1ce-c4f8-8e7dcd79ad10   \n",
              "1  75a3a902-6209-4fba-2132-1256d7fc5e4a   \n",
              "2  d62b4460-c1db-5a23-958b-f88a3302b4e2   \n",
              "3  e07a9991-4b39-152b-2f3b-5c1facd07f4f   \n",
              "4  3f817b72-6831-9ab3-8b94-e8f6b8a193ea   \n",
              "\n",
              "                                             PATIENT PAT_GENDER PAT_RACE  \\\n",
              "0  001a14efaa07e86d7a2bb7750068159e7607eaeb5a508b...          M    asian   \n",
              "1  001a14efaa07e86d7a2bb7750068159e7607eaeb5a508b...          M    asian   \n",
              "2  001a14efaa07e86d7a2bb7750068159e7607eaeb5a508b...          M    asian   \n",
              "3  001a14efaa07e86d7a2bb7750068159e7607eaeb5a508b...          M    asian   \n",
              "4  00330f2d793f5867ff4d96ce37152a9af59eef4d89fb4c...          F    white   \n",
              "\n",
              "                              ENC_PAYER ENC_PAYER_NAME  ENC_BASE_COST  \\\n",
              "0  7c4411ce-02f1-39b5-b9ec-dfbea9ad3c1a       Medicaid         129.16   \n",
              "1  7c4411ce-02f1-39b5-b9ec-dfbea9ad3c1a       Medicaid         129.16   \n",
              "2  7c4411ce-02f1-39b5-b9ec-dfbea9ad3c1a       Medicaid         129.16   \n",
              "3  7c4411ce-02f1-39b5-b9ec-dfbea9ad3c1a       Medicaid         129.16   \n",
              "4  42c4fca7-f8a9-3cd1-982a-dd9751bf3e2a         Anthem         129.16   \n",
              "\n",
              "   ENC_TOTAL_CLAIM_COST  ENC_PAYER_COVERAGE  PRO_CODE  PRO_BASE_COST  \\\n",
              "0                129.16              129.16       NaN            NaN   \n",
              "1                129.16              129.16       NaN            NaN   \n",
              "2                129.16              129.16       NaN            NaN   \n",
              "3                129.16              129.16       NaN            NaN   \n",
              "4                129.16              129.16       NaN            NaN   \n",
              "\n",
              "   MED_CODE  MED_BASE_COST  MED_DISPENSES  MED_TOTAL_COST  MED_PAYER_COVERAGE  \\\n",
              "0       NaN            NaN            NaN             NaN                 NaN   \n",
              "1       NaN            NaN            NaN             NaN                 NaN   \n",
              "2       NaN            NaN            NaN             NaN                 NaN   \n",
              "3       NaN            NaN            NaN             NaN                 NaN   \n",
              "4       NaN            NaN            NaN             NaN                 NaN   \n",
              "\n",
              "  MED_PAYER  CON_CODE CON_TERM  \n",
              "0      None       NaN     None  \n",
              "1      None       NaN     None  \n",
              "2      None       NaN     None  \n",
              "3      None       NaN     None  \n",
              "4      None       NaN     None  "
            ],
            "text/html": [
              "\n",
              "  <div id=\"df-00364bc4-88e0-4ada-9119-30e50861b9ae\">\n",
              "    <div class=\"colab-df-container\">\n",
              "      <div>\n",
              "<style scoped>\n",
              "    .dataframe tbody tr th:only-of-type {\n",
              "        vertical-align: middle;\n",
              "    }\n",
              "\n",
              "    .dataframe tbody tr th {\n",
              "        vertical-align: top;\n",
              "    }\n",
              "\n",
              "    .dataframe thead th {\n",
              "        text-align: right;\n",
              "    }\n",
              "</style>\n",
              "<table border=\"1\" class=\"dataframe\">\n",
              "  <thead>\n",
              "    <tr style=\"text-align: right;\">\n",
              "      <th></th>\n",
              "      <th>ENC_ID</th>\n",
              "      <th>PATIENT</th>\n",
              "      <th>PAT_GENDER</th>\n",
              "      <th>PAT_RACE</th>\n",
              "      <th>ENC_PAYER</th>\n",
              "      <th>ENC_PAYER_NAME</th>\n",
              "      <th>ENC_BASE_COST</th>\n",
              "      <th>ENC_TOTAL_CLAIM_COST</th>\n",
              "      <th>ENC_PAYER_COVERAGE</th>\n",
              "      <th>PRO_CODE</th>\n",
              "      <th>PRO_BASE_COST</th>\n",
              "      <th>MED_CODE</th>\n",
              "      <th>MED_BASE_COST</th>\n",
              "      <th>MED_DISPENSES</th>\n",
              "      <th>MED_TOTAL_COST</th>\n",
              "      <th>MED_PAYER_COVERAGE</th>\n",
              "      <th>MED_PAYER</th>\n",
              "      <th>CON_CODE</th>\n",
              "      <th>CON_TERM</th>\n",
              "    </tr>\n",
              "  </thead>\n",
              "  <tbody>\n",
              "    <tr>\n",
              "      <th>0</th>\n",
              "      <td>30562cc8-620e-d1ce-c4f8-8e7dcd79ad10</td>\n",
              "      <td>001a14efaa07e86d7a2bb7750068159e7607eaeb5a508b...</td>\n",
              "      <td>M</td>\n",
              "      <td>asian</td>\n",
              "      <td>7c4411ce-02f1-39b5-b9ec-dfbea9ad3c1a</td>\n",
              "      <td>Medicaid</td>\n",
              "      <td>129.16</td>\n",
              "      <td>129.16</td>\n",
              "      <td>129.16</td>\n",
              "      <td>NaN</td>\n",
              "      <td>NaN</td>\n",
              "      <td>NaN</td>\n",
              "      <td>NaN</td>\n",
              "      <td>NaN</td>\n",
              "      <td>NaN</td>\n",
              "      <td>NaN</td>\n",
              "      <td>None</td>\n",
              "      <td>NaN</td>\n",
              "      <td>None</td>\n",
              "    </tr>\n",
              "    <tr>\n",
              "      <th>1</th>\n",
              "      <td>75a3a902-6209-4fba-2132-1256d7fc5e4a</td>\n",
              "      <td>001a14efaa07e86d7a2bb7750068159e7607eaeb5a508b...</td>\n",
              "      <td>M</td>\n",
              "      <td>asian</td>\n",
              "      <td>7c4411ce-02f1-39b5-b9ec-dfbea9ad3c1a</td>\n",
              "      <td>Medicaid</td>\n",
              "      <td>129.16</td>\n",
              "      <td>129.16</td>\n",
              "      <td>129.16</td>\n",
              "      <td>NaN</td>\n",
              "      <td>NaN</td>\n",
              "      <td>NaN</td>\n",
              "      <td>NaN</td>\n",
              "      <td>NaN</td>\n",
              "      <td>NaN</td>\n",
              "      <td>NaN</td>\n",
              "      <td>None</td>\n",
              "      <td>NaN</td>\n",
              "      <td>None</td>\n",
              "    </tr>\n",
              "    <tr>\n",
              "      <th>2</th>\n",
              "      <td>d62b4460-c1db-5a23-958b-f88a3302b4e2</td>\n",
              "      <td>001a14efaa07e86d7a2bb7750068159e7607eaeb5a508b...</td>\n",
              "      <td>M</td>\n",
              "      <td>asian</td>\n",
              "      <td>7c4411ce-02f1-39b5-b9ec-dfbea9ad3c1a</td>\n",
              "      <td>Medicaid</td>\n",
              "      <td>129.16</td>\n",
              "      <td>129.16</td>\n",
              "      <td>129.16</td>\n",
              "      <td>NaN</td>\n",
              "      <td>NaN</td>\n",
              "      <td>NaN</td>\n",
              "      <td>NaN</td>\n",
              "      <td>NaN</td>\n",
              "      <td>NaN</td>\n",
              "      <td>NaN</td>\n",
              "      <td>None</td>\n",
              "      <td>NaN</td>\n",
              "      <td>None</td>\n",
              "    </tr>\n",
              "    <tr>\n",
              "      <th>3</th>\n",
              "      <td>e07a9991-4b39-152b-2f3b-5c1facd07f4f</td>\n",
              "      <td>001a14efaa07e86d7a2bb7750068159e7607eaeb5a508b...</td>\n",
              "      <td>M</td>\n",
              "      <td>asian</td>\n",
              "      <td>7c4411ce-02f1-39b5-b9ec-dfbea9ad3c1a</td>\n",
              "      <td>Medicaid</td>\n",
              "      <td>129.16</td>\n",
              "      <td>129.16</td>\n",
              "      <td>129.16</td>\n",
              "      <td>NaN</td>\n",
              "      <td>NaN</td>\n",
              "      <td>NaN</td>\n",
              "      <td>NaN</td>\n",
              "      <td>NaN</td>\n",
              "      <td>NaN</td>\n",
              "      <td>NaN</td>\n",
              "      <td>None</td>\n",
              "      <td>NaN</td>\n",
              "      <td>None</td>\n",
              "    </tr>\n",
              "    <tr>\n",
              "      <th>4</th>\n",
              "      <td>3f817b72-6831-9ab3-8b94-e8f6b8a193ea</td>\n",
              "      <td>00330f2d793f5867ff4d96ce37152a9af59eef4d89fb4c...</td>\n",
              "      <td>F</td>\n",
              "      <td>white</td>\n",
              "      <td>42c4fca7-f8a9-3cd1-982a-dd9751bf3e2a</td>\n",
              "      <td>Anthem</td>\n",
              "      <td>129.16</td>\n",
              "      <td>129.16</td>\n",
              "      <td>129.16</td>\n",
              "      <td>NaN</td>\n",
              "      <td>NaN</td>\n",
              "      <td>NaN</td>\n",
              "      <td>NaN</td>\n",
              "      <td>NaN</td>\n",
              "      <td>NaN</td>\n",
              "      <td>NaN</td>\n",
              "      <td>None</td>\n",
              "      <td>NaN</td>\n",
              "      <td>None</td>\n",
              "    </tr>\n",
              "  </tbody>\n",
              "</table>\n",
              "</div>\n",
              "      <button class=\"colab-df-convert\" onclick=\"convertToInteractive('df-00364bc4-88e0-4ada-9119-30e50861b9ae')\"\n",
              "              title=\"Convert this dataframe to an interactive table.\"\n",
              "              style=\"display:none;\">\n",
              "        \n",
              "  <svg xmlns=\"http://www.w3.org/2000/svg\" height=\"24px\"viewBox=\"0 0 24 24\"\n",
              "       width=\"24px\">\n",
              "    <path d=\"M0 0h24v24H0V0z\" fill=\"none\"/>\n",
              "    <path d=\"M18.56 5.44l.94 2.06.94-2.06 2.06-.94-2.06-.94-.94-2.06-.94 2.06-2.06.94zm-11 1L8.5 8.5l.94-2.06 2.06-.94-2.06-.94L8.5 2.5l-.94 2.06-2.06.94zm10 10l.94 2.06.94-2.06 2.06-.94-2.06-.94-.94-2.06-.94 2.06-2.06.94z\"/><path d=\"M17.41 7.96l-1.37-1.37c-.4-.4-.92-.59-1.43-.59-.52 0-1.04.2-1.43.59L10.3 9.45l-7.72 7.72c-.78.78-.78 2.05 0 2.83L4 21.41c.39.39.9.59 1.41.59.51 0 1.02-.2 1.41-.59l7.78-7.78 2.81-2.81c.8-.78.8-2.07 0-2.86zM5.41 20L4 18.59l7.72-7.72 1.47 1.35L5.41 20z\"/>\n",
              "  </svg>\n",
              "      </button>\n",
              "      \n",
              "  <style>\n",
              "    .colab-df-container {\n",
              "      display:flex;\n",
              "      flex-wrap:wrap;\n",
              "      gap: 12px;\n",
              "    }\n",
              "\n",
              "    .colab-df-convert {\n",
              "      background-color: #E8F0FE;\n",
              "      border: none;\n",
              "      border-radius: 50%;\n",
              "      cursor: pointer;\n",
              "      display: none;\n",
              "      fill: #1967D2;\n",
              "      height: 32px;\n",
              "      padding: 0 0 0 0;\n",
              "      width: 32px;\n",
              "    }\n",
              "\n",
              "    .colab-df-convert:hover {\n",
              "      background-color: #E2EBFA;\n",
              "      box-shadow: 0px 1px 2px rgba(60, 64, 67, 0.3), 0px 1px 3px 1px rgba(60, 64, 67, 0.15);\n",
              "      fill: #174EA6;\n",
              "    }\n",
              "\n",
              "    [theme=dark] .colab-df-convert {\n",
              "      background-color: #3B4455;\n",
              "      fill: #D2E3FC;\n",
              "    }\n",
              "\n",
              "    [theme=dark] .colab-df-convert:hover {\n",
              "      background-color: #434B5C;\n",
              "      box-shadow: 0px 1px 3px 1px rgba(0, 0, 0, 0.15);\n",
              "      filter: drop-shadow(0px 1px 2px rgba(0, 0, 0, 0.3));\n",
              "      fill: #FFFFFF;\n",
              "    }\n",
              "  </style>\n",
              "\n",
              "      <script>\n",
              "        const buttonEl =\n",
              "          document.querySelector('#df-00364bc4-88e0-4ada-9119-30e50861b9ae button.colab-df-convert');\n",
              "        buttonEl.style.display =\n",
              "          google.colab.kernel.accessAllowed ? 'block' : 'none';\n",
              "\n",
              "        async function convertToInteractive(key) {\n",
              "          const element = document.querySelector('#df-00364bc4-88e0-4ada-9119-30e50861b9ae');\n",
              "          const dataTable =\n",
              "            await google.colab.kernel.invokeFunction('convertToInteractive',\n",
              "                                                     [key], {});\n",
              "          if (!dataTable) return;\n",
              "\n",
              "          const docLinkHtml = 'Like what you see? Visit the ' +\n",
              "            '<a target=\"_blank\" href=https://colab.research.google.com/notebooks/data_table.ipynb>data table notebook</a>'\n",
              "            + ' to learn more about interactive tables.';\n",
              "          element.innerHTML = '';\n",
              "          dataTable['output_type'] = 'display_data';\n",
              "          await google.colab.output.renderOutput(dataTable, element);\n",
              "          const docLink = document.createElement('div');\n",
              "          docLink.innerHTML = docLinkHtml;\n",
              "          element.appendChild(docLink);\n",
              "        }\n",
              "      </script>\n",
              "    </div>\n",
              "  </div>\n",
              "  "
            ]
          },
          "metadata": {},
          "execution_count": 14
        }
      ]
    },
    {
      "cell_type": "code",
      "source": [
        "# ausgeleitete Daten in CSV Datei schreiben dwh_data_costs.csv\n",
        "with open(os.path.join(DATA_PATH, \"dwh_data_costs.csv\"), 'w', encoding = 'utf-8') as f:\n",
        "  data_costs.to_csv(f, index=False)"
      ],
      "metadata": {
        "id": "PTKRRCCgaAUm"
      },
      "execution_count": 15,
      "outputs": []
    },
    {
      "cell_type": "code",
      "source": [
        "# SQL Abfrage zur Ausleitung der Diagnoseart (none = keine, breast_cancer = Brustkrebs, other = andere Diagnose)\n",
        "extract_diagnoses = \"\"\"SELECT pat.id AS patient,\n",
        "                              CASE\n",
        "                                WHEN pat.id IN (SELECT DISTINCT( enc.patient )\n",
        "                                                FROM   f_encounter_costs AS enc\n",
        "                                                WHERE  enc.con_code = \"254837009\") THEN 'breast_cancer'\n",
        "                                WHEN pat.id IN (SELECT DISTINCT( enc.patient )\n",
        "                                                FROM   f_encounter_costs AS enc\n",
        "                                                WHERE  NOT enc.con_code = \"254837009\"\n",
        "                                                        AND enc.con_code IS NOT NULL) THEN 'other'\n",
        "                                ELSE 'none'\n",
        "                              END    AS diagnosis\n",
        "                        FROM   d_patients AS pat;\"\"\"\n",
        "data_diagnoses = pd.read_sql(extract_diagnoses, dwh_conn)\n",
        "data_diagnoses.head()"
      ],
      "metadata": {
        "id": "8EtFTg8qorq2",
        "colab": {
          "base_uri": "https://localhost:8080/",
          "height": 206
        },
        "outputId": "a0ea02a9-f4d6-4667-e640-615be7d34ab5"
      },
      "execution_count": 16,
      "outputs": [
        {
          "output_type": "execute_result",
          "data": {
            "text/plain": [
              "                                             patient diagnosis\n",
              "0  001a14efaa07e86d7a2bb7750068159e7607eaeb5a508b...      none\n",
              "1  00330f2d793f5867ff4d96ce37152a9af59eef4d89fb4c...      none\n",
              "2  006658a456067ed4ddea461333b5897988f79f069c04b5...      none\n",
              "3  007c6b726d61f194eda6317b75282fa27d24fa9724974e...      none\n",
              "4  008f7eecb74441ba68cba1b312200e58c5ca5c6c5e883d...      none"
            ],
            "text/html": [
              "\n",
              "  <div id=\"df-13d43b96-fd2c-4b1c-bf46-1f694d4f4d56\">\n",
              "    <div class=\"colab-df-container\">\n",
              "      <div>\n",
              "<style scoped>\n",
              "    .dataframe tbody tr th:only-of-type {\n",
              "        vertical-align: middle;\n",
              "    }\n",
              "\n",
              "    .dataframe tbody tr th {\n",
              "        vertical-align: top;\n",
              "    }\n",
              "\n",
              "    .dataframe thead th {\n",
              "        text-align: right;\n",
              "    }\n",
              "</style>\n",
              "<table border=\"1\" class=\"dataframe\">\n",
              "  <thead>\n",
              "    <tr style=\"text-align: right;\">\n",
              "      <th></th>\n",
              "      <th>patient</th>\n",
              "      <th>diagnosis</th>\n",
              "    </tr>\n",
              "  </thead>\n",
              "  <tbody>\n",
              "    <tr>\n",
              "      <th>0</th>\n",
              "      <td>001a14efaa07e86d7a2bb7750068159e7607eaeb5a508b...</td>\n",
              "      <td>none</td>\n",
              "    </tr>\n",
              "    <tr>\n",
              "      <th>1</th>\n",
              "      <td>00330f2d793f5867ff4d96ce37152a9af59eef4d89fb4c...</td>\n",
              "      <td>none</td>\n",
              "    </tr>\n",
              "    <tr>\n",
              "      <th>2</th>\n",
              "      <td>006658a456067ed4ddea461333b5897988f79f069c04b5...</td>\n",
              "      <td>none</td>\n",
              "    </tr>\n",
              "    <tr>\n",
              "      <th>3</th>\n",
              "      <td>007c6b726d61f194eda6317b75282fa27d24fa9724974e...</td>\n",
              "      <td>none</td>\n",
              "    </tr>\n",
              "    <tr>\n",
              "      <th>4</th>\n",
              "      <td>008f7eecb74441ba68cba1b312200e58c5ca5c6c5e883d...</td>\n",
              "      <td>none</td>\n",
              "    </tr>\n",
              "  </tbody>\n",
              "</table>\n",
              "</div>\n",
              "      <button class=\"colab-df-convert\" onclick=\"convertToInteractive('df-13d43b96-fd2c-4b1c-bf46-1f694d4f4d56')\"\n",
              "              title=\"Convert this dataframe to an interactive table.\"\n",
              "              style=\"display:none;\">\n",
              "        \n",
              "  <svg xmlns=\"http://www.w3.org/2000/svg\" height=\"24px\"viewBox=\"0 0 24 24\"\n",
              "       width=\"24px\">\n",
              "    <path d=\"M0 0h24v24H0V0z\" fill=\"none\"/>\n",
              "    <path d=\"M18.56 5.44l.94 2.06.94-2.06 2.06-.94-2.06-.94-.94-2.06-.94 2.06-2.06.94zm-11 1L8.5 8.5l.94-2.06 2.06-.94-2.06-.94L8.5 2.5l-.94 2.06-2.06.94zm10 10l.94 2.06.94-2.06 2.06-.94-2.06-.94-.94-2.06-.94 2.06-2.06.94z\"/><path d=\"M17.41 7.96l-1.37-1.37c-.4-.4-.92-.59-1.43-.59-.52 0-1.04.2-1.43.59L10.3 9.45l-7.72 7.72c-.78.78-.78 2.05 0 2.83L4 21.41c.39.39.9.59 1.41.59.51 0 1.02-.2 1.41-.59l7.78-7.78 2.81-2.81c.8-.78.8-2.07 0-2.86zM5.41 20L4 18.59l7.72-7.72 1.47 1.35L5.41 20z\"/>\n",
              "  </svg>\n",
              "      </button>\n",
              "      \n",
              "  <style>\n",
              "    .colab-df-container {\n",
              "      display:flex;\n",
              "      flex-wrap:wrap;\n",
              "      gap: 12px;\n",
              "    }\n",
              "\n",
              "    .colab-df-convert {\n",
              "      background-color: #E8F0FE;\n",
              "      border: none;\n",
              "      border-radius: 50%;\n",
              "      cursor: pointer;\n",
              "      display: none;\n",
              "      fill: #1967D2;\n",
              "      height: 32px;\n",
              "      padding: 0 0 0 0;\n",
              "      width: 32px;\n",
              "    }\n",
              "\n",
              "    .colab-df-convert:hover {\n",
              "      background-color: #E2EBFA;\n",
              "      box-shadow: 0px 1px 2px rgba(60, 64, 67, 0.3), 0px 1px 3px 1px rgba(60, 64, 67, 0.15);\n",
              "      fill: #174EA6;\n",
              "    }\n",
              "\n",
              "    [theme=dark] .colab-df-convert {\n",
              "      background-color: #3B4455;\n",
              "      fill: #D2E3FC;\n",
              "    }\n",
              "\n",
              "    [theme=dark] .colab-df-convert:hover {\n",
              "      background-color: #434B5C;\n",
              "      box-shadow: 0px 1px 3px 1px rgba(0, 0, 0, 0.15);\n",
              "      filter: drop-shadow(0px 1px 2px rgba(0, 0, 0, 0.3));\n",
              "      fill: #FFFFFF;\n",
              "    }\n",
              "  </style>\n",
              "\n",
              "      <script>\n",
              "        const buttonEl =\n",
              "          document.querySelector('#df-13d43b96-fd2c-4b1c-bf46-1f694d4f4d56 button.colab-df-convert');\n",
              "        buttonEl.style.display =\n",
              "          google.colab.kernel.accessAllowed ? 'block' : 'none';\n",
              "\n",
              "        async function convertToInteractive(key) {\n",
              "          const element = document.querySelector('#df-13d43b96-fd2c-4b1c-bf46-1f694d4f4d56');\n",
              "          const dataTable =\n",
              "            await google.colab.kernel.invokeFunction('convertToInteractive',\n",
              "                                                     [key], {});\n",
              "          if (!dataTable) return;\n",
              "\n",
              "          const docLinkHtml = 'Like what you see? Visit the ' +\n",
              "            '<a target=\"_blank\" href=https://colab.research.google.com/notebooks/data_table.ipynb>data table notebook</a>'\n",
              "            + ' to learn more about interactive tables.';\n",
              "          element.innerHTML = '';\n",
              "          dataTable['output_type'] = 'display_data';\n",
              "          await google.colab.output.renderOutput(dataTable, element);\n",
              "          const docLink = document.createElement('div');\n",
              "          docLink.innerHTML = docLinkHtml;\n",
              "          element.appendChild(docLink);\n",
              "        }\n",
              "      </script>\n",
              "    </div>\n",
              "  </div>\n",
              "  "
            ]
          },
          "metadata": {},
          "execution_count": 16
        }
      ]
    },
    {
      "cell_type": "code",
      "source": [
        "# ausgeleitete Daten in CSV Datei schreiben dwh_data_diagnoses.csv\n",
        "with open(os.path.join(DATA_PATH, \"dwh_data_diagnoses.csv\"), 'w', encoding = 'utf-8') as f:\n",
        "  data_diagnoses.to_csv(f, index=False)"
      ],
      "metadata": {
        "id": "erOJkKc2aBiU"
      },
      "execution_count": 17,
      "outputs": []
    },
    {
      "cell_type": "code",
      "source": [
        "# Commit und Close\n",
        "dwh_conn.commit()\n",
        "dwh_conn.close()"
      ],
      "metadata": {
        "id": "86L6xaCr6Miz"
      },
      "execution_count": 18,
      "outputs": []
    },
    {
      "cell_type": "markdown",
      "source": [
        "# Erstellung einer Analysetabelle\n",
        "\n"
      ],
      "metadata": {
        "id": "eOHabB28k3r7"
      }
    },
    {
      "cell_type": "markdown",
      "source": [
        "## Explorative Datenanalyse der aus der DWH-Datenbank erstellten Tabellen"
      ],
      "metadata": {
        "id": "yZVBCX5SHSMi"
      }
    },
    {
      "cell_type": "code",
      "source": [
        "# Überblick über Tabelle data_costs\n",
        "data_costs.info()"
      ],
      "metadata": {
        "id": "Vi5KzqcHmSPR",
        "colab": {
          "base_uri": "https://localhost:8080/"
        },
        "outputId": "b26c0042-2827-4c98-9420-624d67dfcb25"
      },
      "execution_count": 19,
      "outputs": [
        {
          "output_type": "stream",
          "name": "stdout",
          "text": [
            "<class 'pandas.core.frame.DataFrame'>\n",
            "RangeIndex: 9329 entries, 0 to 9328\n",
            "Data columns (total 19 columns):\n",
            " #   Column                Non-Null Count  Dtype  \n",
            "---  ------                --------------  -----  \n",
            " 0   ENC_ID                9329 non-null   object \n",
            " 1   PATIENT               9329 non-null   object \n",
            " 2   PAT_GENDER            9329 non-null   object \n",
            " 3   PAT_RACE              9329 non-null   object \n",
            " 4   ENC_PAYER             9329 non-null   object \n",
            " 5   ENC_PAYER_NAME        9329 non-null   object \n",
            " 6   ENC_BASE_COST         9329 non-null   float64\n",
            " 7   ENC_TOTAL_CLAIM_COST  9329 non-null   float64\n",
            " 8   ENC_PAYER_COVERAGE    9329 non-null   float64\n",
            " 9   PRO_CODE              1144 non-null   float64\n",
            " 10  PRO_BASE_COST         1144 non-null   float64\n",
            " 11  MED_CODE              813 non-null    float64\n",
            " 12  MED_BASE_COST         813 non-null    float64\n",
            " 13  MED_DISPENSES         813 non-null    float64\n",
            " 14  MED_TOTAL_COST        813 non-null    float64\n",
            " 15  MED_PAYER_COVERAGE    813 non-null    float64\n",
            " 16  MED_PAYER             813 non-null    object \n",
            " 17  CON_CODE              784 non-null    float64\n",
            " 18  CON_TERM              784 non-null    object \n",
            "dtypes: float64(11), object(8)\n",
            "memory usage: 1.4+ MB\n"
          ]
        }
      ]
    },
    {
      "cell_type": "code",
      "source": [
        "# Anzahl einmaliger Werte pro Spalte in Tabelle data_costs\n",
        "data_costs.nunique(axis=0)"
      ],
      "metadata": {
        "id": "Adp1FYlAvzP6",
        "colab": {
          "base_uri": "https://localhost:8080/"
        },
        "outputId": "e03fc2dc-d436-4382-f01a-fd3f54fe858a"
      },
      "execution_count": 20,
      "outputs": [
        {
          "output_type": "execute_result",
          "data": {
            "text/plain": [
              "ENC_ID                  8603\n",
              "PATIENT                 1019\n",
              "PAT_GENDER                 2\n",
              "PAT_RACE                   5\n",
              "ENC_PAYER                 10\n",
              "ENC_PAYER_NAME            10\n",
              "ENC_BASE_COST              2\n",
              "ENC_TOTAL_CLAIM_COST       2\n",
              "ENC_PAYER_COVERAGE        12\n",
              "PRO_CODE                  26\n",
              "PRO_BASE_COST            662\n",
              "MED_CODE                  21\n",
              "MED_BASE_COST            414\n",
              "MED_DISPENSES             94\n",
              "MED_TOTAL_COST           418\n",
              "MED_PAYER_COVERAGE        37\n",
              "MED_PAYER                 10\n",
              "CON_CODE                   8\n",
              "CON_TERM                   8\n",
              "dtype: int64"
            ]
          },
          "metadata": {},
          "execution_count": 20
        }
      ]
    },
    {
      "cell_type": "code",
      "source": [
        "# Analyse Duplikate in Tabelle data_costs (je nach Kostentyp)\n",
        "print(\"Anzahl doppelte Aufenthalte:\", data_costs.duplicated(subset=[\"PATIENT\", \"ENC_ID\", \"ENC_BASE_COST\", \"ENC_PAYER_COVERAGE\"]).sum())\n",
        "print(\"Anzahl doppelte Prozeduren:\", data_costs.duplicated(subset=[\"PATIENT\", \"ENC_ID\", \"PRO_CODE\", \"PRO_BASE_COST\"]).sum())\n",
        "print(\"Anzahl doppelte Medikationen:\", data_costs.duplicated(subset=[\"PATIENT\", \"ENC_ID\", \"MED_CODE\", \"MED_BASE_COST\", \"MED_DISPENSES\", \"MED_TOTAL_COST\", \"MED_PAYER_COVERAGE\"]).sum())"
      ],
      "metadata": {
        "id": "aoEP8lrRwFZJ",
        "colab": {
          "base_uri": "https://localhost:8080/"
        },
        "outputId": "2aadeea7-7a3d-4c11-8ba9-0653ce6b1cdb"
      },
      "execution_count": 21,
      "outputs": [
        {
          "output_type": "stream",
          "name": "stdout",
          "text": [
            "Anzahl doppelte Aufenthalte: 726\n",
            "Anzahl doppelte Prozeduren: 554\n",
            "Anzahl doppelte Medikationen: 513\n"
          ]
        }
      ]
    },
    {
      "cell_type": "code",
      "source": [
        "# Überblick über Tabelle data_diagnoses\n",
        "data_diagnoses.info()"
      ],
      "metadata": {
        "id": "N01yU_GPoyX4",
        "colab": {
          "base_uri": "https://localhost:8080/"
        },
        "outputId": "0f941b24-6309-4a99-f606-f1db06091647"
      },
      "execution_count": 22,
      "outputs": [
        {
          "output_type": "stream",
          "name": "stdout",
          "text": [
            "<class 'pandas.core.frame.DataFrame'>\n",
            "RangeIndex: 1019 entries, 0 to 1018\n",
            "Data columns (total 2 columns):\n",
            " #   Column     Non-Null Count  Dtype \n",
            "---  ------     --------------  ----- \n",
            " 0   patient    1019 non-null   object\n",
            " 1   diagnosis  1019 non-null   object\n",
            "dtypes: object(2)\n",
            "memory usage: 16.0+ KB\n"
          ]
        }
      ]
    },
    {
      "cell_type": "code",
      "source": [
        "# Anzahl einmaliger Werte pro Spalte in Tabelle data_diagnoses\n",
        "data_diagnoses.nunique(axis=0)"
      ],
      "metadata": {
        "id": "iYye7ONH6B0N",
        "colab": {
          "base_uri": "https://localhost:8080/"
        },
        "outputId": "c9a8d907-b25f-48c2-daae-3095a8066db6"
      },
      "execution_count": 23,
      "outputs": [
        {
          "output_type": "execute_result",
          "data": {
            "text/plain": [
              "patient      1019\n",
              "diagnosis       3\n",
              "dtype: int64"
            ]
          },
          "metadata": {},
          "execution_count": 23
        }
      ]
    },
    {
      "cell_type": "code",
      "source": [
        "# Analyse Duplikate in Tabelle data_diagnoses\n",
        "print(\"Anzahl doppelte Patienten:\", data_costs.duplicated().sum())"
      ],
      "metadata": {
        "id": "bDTroK3C6FXO",
        "colab": {
          "base_uri": "https://localhost:8080/"
        },
        "outputId": "4629b043-376c-4a53-ab60-838030301168"
      },
      "execution_count": 24,
      "outputs": [
        {
          "output_type": "stream",
          "name": "stdout",
          "text": [
            "Anzahl doppelte Patienten: 0\n"
          ]
        }
      ]
    },
    {
      "cell_type": "markdown",
      "source": [
        "## Erstellung Tabelle mit Gesamtkosten für Aufenthalte pro Patient"
      ],
      "metadata": {
        "id": "H7wF9qd6o_OI"
      }
    },
    {
      "cell_type": "code",
      "source": [
        "# Erstellung Subset mit Kostendaten zu Aufenthalten\n",
        "data_encounters = data_costs[[\"PATIENT\", \"ENC_ID\", \"ENC_BASE_COST\", \"ENC_PAYER_COVERAGE\"]]\n",
        "data_encounters.shape"
      ],
      "metadata": {
        "id": "zp3WV0MEpDID",
        "colab": {
          "base_uri": "https://localhost:8080/"
        },
        "outputId": "1b791068-9730-402e-b98c-f188014f08ff"
      },
      "execution_count": 25,
      "outputs": [
        {
          "output_type": "execute_result",
          "data": {
            "text/plain": [
              "(9329, 4)"
            ]
          },
          "metadata": {},
          "execution_count": 25
        }
      ]
    },
    {
      "cell_type": "code",
      "source": [
        "# Entfernen von Duplikaten (gleicher Patient, gleicher Aufenthalt, gleiche Kosten)\n",
        "data_encounters_nodups = data_encounters.drop_duplicates()\n",
        "data_encounters_nodups.shape\n",
        "print(len(data_encounters) - len(data_encounters_nodups), \"Duplikate entfernt.\")"
      ],
      "metadata": {
        "id": "0EFhu6ATqShQ",
        "colab": {
          "base_uri": "https://localhost:8080/"
        },
        "outputId": "06d7712e-f2e0-4384-f3fa-89321e468c87"
      },
      "execution_count": 26,
      "outputs": [
        {
          "output_type": "stream",
          "name": "stdout",
          "text": [
            "726 Duplikate entfernt.\n"
          ]
        }
      ]
    },
    {
      "cell_type": "code",
      "source": [
        "# Gruppierung nach Patienten, Aufsummierung der Kosten\n",
        "data_encounters_grouped = data_encounters_nodups.groupby(by=\"PATIENT\")\n",
        "data_encounters_final = data_encounters_grouped[[\"ENC_BASE_COST\", \"ENC_PAYER_COVERAGE\"]].sum()\n",
        "data_encounters_final.rename(columns={\"ENC_BASE_COST\": \"OVERALL_ENC_BASE_COST\", \n",
        "                                        \"ENC_PAYER_COVERAGE\": \"OVERALL_ENC_PAYER_COVERAGE\"}, inplace=True)\n",
        "data_encounters_final[\"NUMBER_ENCOUNTERS\"] = data_encounters_grouped.size()\n",
        "data_encounters_final.shape"
      ],
      "metadata": {
        "id": "b5s60Ff1rStw",
        "colab": {
          "base_uri": "https://localhost:8080/"
        },
        "outputId": "90c8aa87-68d3-498f-b924-3d127bdfbdc4"
      },
      "execution_count": 27,
      "outputs": [
        {
          "output_type": "execute_result",
          "data": {
            "text/plain": [
              "(1019, 3)"
            ]
          },
          "metadata": {},
          "execution_count": 27
        }
      ]
    },
    {
      "cell_type": "code",
      "source": [
        "data_encounters_final"
      ],
      "metadata": {
        "id": "A7OYJ1FvslBZ",
        "colab": {
          "base_uri": "https://localhost:8080/",
          "height": 519
        },
        "outputId": "a2829085-0114-49a6-c2f8-ce44de715834"
      },
      "execution_count": 28,
      "outputs": [
        {
          "output_type": "execute_result",
          "data": {
            "text/plain": [
              "                                                    OVERALL_ENC_BASE_COST  \\\n",
              "PATIENT                                                                     \n",
              "001a14efaa07e86d7a2bb7750068159e7607eaeb5a508bd...                 516.64   \n",
              "00330f2d793f5867ff4d96ce37152a9af59eef4d89fb4c7...                 645.80   \n",
              "006658a456067ed4ddea461333b5897988f79f069c04b55...                 774.96   \n",
              "007c6b726d61f194eda6317b75282fa27d24fa9724974e9...                1033.28   \n",
              "008f7eecb74441ba68cba1b312200e58c5ca5c6c5e883de...                1162.44   \n",
              "...                                                                   ...   \n",
              "fe2ed8039068a7b06c5ff0de68dba8f93fe74c3d363349d...                 387.48   \n",
              "fec080b434ffd9fed52a83d46f690706683fa822b1fc1f1...                1162.44   \n",
              "fec3ed935e56355f5f2db0974d9c2d5d71491260f666e17...                 645.80   \n",
              "ff2f043e920c64a45dc0dec1193399ed06d0c8cf69ad9ac...                 774.96   \n",
              "ffb1c9de2fdf99a5ee9f0e960a50a7416df1d2f4ad912c4...                 645.80   \n",
              "\n",
              "                                                    OVERALL_ENC_PAYER_COVERAGE  \\\n",
              "PATIENT                                                                          \n",
              "001a14efaa07e86d7a2bb7750068159e7607eaeb5a508bd...                      516.64   \n",
              "00330f2d793f5867ff4d96ce37152a9af59eef4d89fb4c7...                      645.80   \n",
              "006658a456067ed4ddea461333b5897988f79f069c04b55...                      774.96   \n",
              "007c6b726d61f194eda6317b75282fa27d24fa9724974e9...                     1033.28   \n",
              "008f7eecb74441ba68cba1b312200e58c5ca5c6c5e883de...                     1162.44   \n",
              "...                                                                        ...   \n",
              "fe2ed8039068a7b06c5ff0de68dba8f93fe74c3d363349d...                      387.48   \n",
              "fec080b434ffd9fed52a83d46f690706683fa822b1fc1f1...                        0.00   \n",
              "fec3ed935e56355f5f2db0974d9c2d5d71491260f666e17...                      645.80   \n",
              "ff2f043e920c64a45dc0dec1193399ed06d0c8cf69ad9ac...                      694.96   \n",
              "ffb1c9de2fdf99a5ee9f0e960a50a7416df1d2f4ad912c4...                      645.80   \n",
              "\n",
              "                                                    NUMBER_ENCOUNTERS  \n",
              "PATIENT                                                                \n",
              "001a14efaa07e86d7a2bb7750068159e7607eaeb5a508bd...                  4  \n",
              "00330f2d793f5867ff4d96ce37152a9af59eef4d89fb4c7...                  5  \n",
              "006658a456067ed4ddea461333b5897988f79f069c04b55...                  6  \n",
              "007c6b726d61f194eda6317b75282fa27d24fa9724974e9...                  8  \n",
              "008f7eecb74441ba68cba1b312200e58c5ca5c6c5e883de...                  9  \n",
              "...                                                               ...  \n",
              "fe2ed8039068a7b06c5ff0de68dba8f93fe74c3d363349d...                  3  \n",
              "fec080b434ffd9fed52a83d46f690706683fa822b1fc1f1...                  9  \n",
              "fec3ed935e56355f5f2db0974d9c2d5d71491260f666e17...                  5  \n",
              "ff2f043e920c64a45dc0dec1193399ed06d0c8cf69ad9ac...                  6  \n",
              "ffb1c9de2fdf99a5ee9f0e960a50a7416df1d2f4ad912c4...                  5  \n",
              "\n",
              "[1019 rows x 3 columns]"
            ],
            "text/html": [
              "\n",
              "  <div id=\"df-9d2fc66f-f533-42cb-a6ce-263442c60c76\">\n",
              "    <div class=\"colab-df-container\">\n",
              "      <div>\n",
              "<style scoped>\n",
              "    .dataframe tbody tr th:only-of-type {\n",
              "        vertical-align: middle;\n",
              "    }\n",
              "\n",
              "    .dataframe tbody tr th {\n",
              "        vertical-align: top;\n",
              "    }\n",
              "\n",
              "    .dataframe thead th {\n",
              "        text-align: right;\n",
              "    }\n",
              "</style>\n",
              "<table border=\"1\" class=\"dataframe\">\n",
              "  <thead>\n",
              "    <tr style=\"text-align: right;\">\n",
              "      <th></th>\n",
              "      <th>OVERALL_ENC_BASE_COST</th>\n",
              "      <th>OVERALL_ENC_PAYER_COVERAGE</th>\n",
              "      <th>NUMBER_ENCOUNTERS</th>\n",
              "    </tr>\n",
              "    <tr>\n",
              "      <th>PATIENT</th>\n",
              "      <th></th>\n",
              "      <th></th>\n",
              "      <th></th>\n",
              "    </tr>\n",
              "  </thead>\n",
              "  <tbody>\n",
              "    <tr>\n",
              "      <th>001a14efaa07e86d7a2bb7750068159e7607eaeb5a508bdb9d64044653af2cc3</th>\n",
              "      <td>516.64</td>\n",
              "      <td>516.64</td>\n",
              "      <td>4</td>\n",
              "    </tr>\n",
              "    <tr>\n",
              "      <th>00330f2d793f5867ff4d96ce37152a9af59eef4d89fb4c7e9b295d6f59fcf53f</th>\n",
              "      <td>645.80</td>\n",
              "      <td>645.80</td>\n",
              "      <td>5</td>\n",
              "    </tr>\n",
              "    <tr>\n",
              "      <th>006658a456067ed4ddea461333b5897988f79f069c04b55924c54f8dbfc62abd</th>\n",
              "      <td>774.96</td>\n",
              "      <td>774.96</td>\n",
              "      <td>6</td>\n",
              "    </tr>\n",
              "    <tr>\n",
              "      <th>007c6b726d61f194eda6317b75282fa27d24fa9724974e92e6b6b0b0d08028f5</th>\n",
              "      <td>1033.28</td>\n",
              "      <td>1033.28</td>\n",
              "      <td>8</td>\n",
              "    </tr>\n",
              "    <tr>\n",
              "      <th>008f7eecb74441ba68cba1b312200e58c5ca5c6c5e883ded7d98bcf71f52cd4e</th>\n",
              "      <td>1162.44</td>\n",
              "      <td>1162.44</td>\n",
              "      <td>9</td>\n",
              "    </tr>\n",
              "    <tr>\n",
              "      <th>...</th>\n",
              "      <td>...</td>\n",
              "      <td>...</td>\n",
              "      <td>...</td>\n",
              "    </tr>\n",
              "    <tr>\n",
              "      <th>fe2ed8039068a7b06c5ff0de68dba8f93fe74c3d363349de74d1945c8b99b170</th>\n",
              "      <td>387.48</td>\n",
              "      <td>387.48</td>\n",
              "      <td>3</td>\n",
              "    </tr>\n",
              "    <tr>\n",
              "      <th>fec080b434ffd9fed52a83d46f690706683fa822b1fc1f1984c816e37c130d7c</th>\n",
              "      <td>1162.44</td>\n",
              "      <td>0.00</td>\n",
              "      <td>9</td>\n",
              "    </tr>\n",
              "    <tr>\n",
              "      <th>fec3ed935e56355f5f2db0974d9c2d5d71491260f666e1721626303ae3a74913</th>\n",
              "      <td>645.80</td>\n",
              "      <td>645.80</td>\n",
              "      <td>5</td>\n",
              "    </tr>\n",
              "    <tr>\n",
              "      <th>ff2f043e920c64a45dc0dec1193399ed06d0c8cf69ad9ac88f84301237fb5557</th>\n",
              "      <td>774.96</td>\n",
              "      <td>694.96</td>\n",
              "      <td>6</td>\n",
              "    </tr>\n",
              "    <tr>\n",
              "      <th>ffb1c9de2fdf99a5ee9f0e960a50a7416df1d2f4ad912c4078050e309a11266f</th>\n",
              "      <td>645.80</td>\n",
              "      <td>645.80</td>\n",
              "      <td>5</td>\n",
              "    </tr>\n",
              "  </tbody>\n",
              "</table>\n",
              "<p>1019 rows × 3 columns</p>\n",
              "</div>\n",
              "      <button class=\"colab-df-convert\" onclick=\"convertToInteractive('df-9d2fc66f-f533-42cb-a6ce-263442c60c76')\"\n",
              "              title=\"Convert this dataframe to an interactive table.\"\n",
              "              style=\"display:none;\">\n",
              "        \n",
              "  <svg xmlns=\"http://www.w3.org/2000/svg\" height=\"24px\"viewBox=\"0 0 24 24\"\n",
              "       width=\"24px\">\n",
              "    <path d=\"M0 0h24v24H0V0z\" fill=\"none\"/>\n",
              "    <path d=\"M18.56 5.44l.94 2.06.94-2.06 2.06-.94-2.06-.94-.94-2.06-.94 2.06-2.06.94zm-11 1L8.5 8.5l.94-2.06 2.06-.94-2.06-.94L8.5 2.5l-.94 2.06-2.06.94zm10 10l.94 2.06.94-2.06 2.06-.94-2.06-.94-.94-2.06-.94 2.06-2.06.94z\"/><path d=\"M17.41 7.96l-1.37-1.37c-.4-.4-.92-.59-1.43-.59-.52 0-1.04.2-1.43.59L10.3 9.45l-7.72 7.72c-.78.78-.78 2.05 0 2.83L4 21.41c.39.39.9.59 1.41.59.51 0 1.02-.2 1.41-.59l7.78-7.78 2.81-2.81c.8-.78.8-2.07 0-2.86zM5.41 20L4 18.59l7.72-7.72 1.47 1.35L5.41 20z\"/>\n",
              "  </svg>\n",
              "      </button>\n",
              "      \n",
              "  <style>\n",
              "    .colab-df-container {\n",
              "      display:flex;\n",
              "      flex-wrap:wrap;\n",
              "      gap: 12px;\n",
              "    }\n",
              "\n",
              "    .colab-df-convert {\n",
              "      background-color: #E8F0FE;\n",
              "      border: none;\n",
              "      border-radius: 50%;\n",
              "      cursor: pointer;\n",
              "      display: none;\n",
              "      fill: #1967D2;\n",
              "      height: 32px;\n",
              "      padding: 0 0 0 0;\n",
              "      width: 32px;\n",
              "    }\n",
              "\n",
              "    .colab-df-convert:hover {\n",
              "      background-color: #E2EBFA;\n",
              "      box-shadow: 0px 1px 2px rgba(60, 64, 67, 0.3), 0px 1px 3px 1px rgba(60, 64, 67, 0.15);\n",
              "      fill: #174EA6;\n",
              "    }\n",
              "\n",
              "    [theme=dark] .colab-df-convert {\n",
              "      background-color: #3B4455;\n",
              "      fill: #D2E3FC;\n",
              "    }\n",
              "\n",
              "    [theme=dark] .colab-df-convert:hover {\n",
              "      background-color: #434B5C;\n",
              "      box-shadow: 0px 1px 3px 1px rgba(0, 0, 0, 0.15);\n",
              "      filter: drop-shadow(0px 1px 2px rgba(0, 0, 0, 0.3));\n",
              "      fill: #FFFFFF;\n",
              "    }\n",
              "  </style>\n",
              "\n",
              "      <script>\n",
              "        const buttonEl =\n",
              "          document.querySelector('#df-9d2fc66f-f533-42cb-a6ce-263442c60c76 button.colab-df-convert');\n",
              "        buttonEl.style.display =\n",
              "          google.colab.kernel.accessAllowed ? 'block' : 'none';\n",
              "\n",
              "        async function convertToInteractive(key) {\n",
              "          const element = document.querySelector('#df-9d2fc66f-f533-42cb-a6ce-263442c60c76');\n",
              "          const dataTable =\n",
              "            await google.colab.kernel.invokeFunction('convertToInteractive',\n",
              "                                                     [key], {});\n",
              "          if (!dataTable) return;\n",
              "\n",
              "          const docLinkHtml = 'Like what you see? Visit the ' +\n",
              "            '<a target=\"_blank\" href=https://colab.research.google.com/notebooks/data_table.ipynb>data table notebook</a>'\n",
              "            + ' to learn more about interactive tables.';\n",
              "          element.innerHTML = '';\n",
              "          dataTable['output_type'] = 'display_data';\n",
              "          await google.colab.output.renderOutput(dataTable, element);\n",
              "          const docLink = document.createElement('div');\n",
              "          docLink.innerHTML = docLinkHtml;\n",
              "          element.appendChild(docLink);\n",
              "        }\n",
              "      </script>\n",
              "    </div>\n",
              "  </div>\n",
              "  "
            ]
          },
          "metadata": {},
          "execution_count": 28
        }
      ]
    },
    {
      "cell_type": "markdown",
      "source": [
        "## Erstellung Tabelle mit Gesamtkosten für Prozeduren pro Patient"
      ],
      "metadata": {
        "id": "ualvm323tTVp"
      }
    },
    {
      "cell_type": "code",
      "source": [
        "# Erstellung Subset mit Kostendaten zu Prozeduren\n",
        "data_procedures = data_costs[[\"PATIENT\", \"ENC_ID\", \"PRO_CODE\", \"PRO_BASE_COST\"]]\n",
        "data_procedures.shape"
      ],
      "metadata": {
        "id": "-NWQUBeWtls-",
        "colab": {
          "base_uri": "https://localhost:8080/"
        },
        "outputId": "0191f578-8d55-4c72-ec41-c89e8ea35e15"
      },
      "execution_count": 29,
      "outputs": [
        {
          "output_type": "execute_result",
          "data": {
            "text/plain": [
              "(9329, 4)"
            ]
          },
          "metadata": {},
          "execution_count": 29
        }
      ]
    },
    {
      "cell_type": "code",
      "source": [
        "# Entfernen von Duplikaten (gleicher Patient, gleicher Aufenthalt, gleiche Prozedur, gleiche Kosten)\n",
        "data_procedures_nodups = data_procedures.drop_duplicates()\n",
        "data_procedures_nodups.shape\n",
        "print(len(data_procedures) - len(data_procedures_nodups), \"Duplikate entfernt.\")"
      ],
      "metadata": {
        "id": "oYQv3K2ltlzJ",
        "colab": {
          "base_uri": "https://localhost:8080/"
        },
        "outputId": "590e3be7-7d96-4dcf-dce4-f5bc65476422"
      },
      "execution_count": 30,
      "outputs": [
        {
          "output_type": "stream",
          "name": "stdout",
          "text": [
            "554 Duplikate entfernt.\n"
          ]
        }
      ]
    },
    {
      "cell_type": "code",
      "source": [
        "# Gruppierung nach Patienten, Aufsummierung der Kosten\n",
        "data_procedures_grouped = data_procedures_nodups.groupby(by=\"PATIENT\")\n",
        "data_procedures_final = data_procedures_grouped[[\"PRO_BASE_COST\"]].sum(min_count=1)\n",
        "data_procedures_final.rename(columns={\"PRO_BASE_COST\": \"OVERALL_PRO_BASE_COST\"}, inplace=True)\n",
        "data_procedures_final[\"NUMBER_PROCEDURES\"] = data_procedures_grouped[[\"PRO_BASE_COST\"]].count()\n",
        "data_procedures_final.shape"
      ],
      "metadata": {
        "id": "OqnSYGuttl7f",
        "colab": {
          "base_uri": "https://localhost:8080/"
        },
        "outputId": "4fd4adf3-eed5-4207-833a-0d82ac3cea32"
      },
      "execution_count": 31,
      "outputs": [
        {
          "output_type": "execute_result",
          "data": {
            "text/plain": [
              "(1019, 2)"
            ]
          },
          "metadata": {},
          "execution_count": 31
        }
      ]
    },
    {
      "cell_type": "code",
      "source": [
        "data_procedures_final"
      ],
      "metadata": {
        "id": "LwOyvHsRtl_X"
      },
      "execution_count": null,
      "outputs": []
    },
    {
      "cell_type": "markdown",
      "source": [
        "## Erstellung Tabelle mit Gesamtkosten für Medikation pro Patient"
      ],
      "metadata": {
        "id": "9Q74xfbStXSR"
      }
    },
    {
      "cell_type": "code",
      "source": [
        "# Erstellung Subset mit Kostendaten zu Medikationen\n",
        "data_medications = data_costs[[\"PATIENT\", \"ENC_ID\", \"MED_CODE\", \"MED_BASE_COST\", \"MED_DISPENSES\", \"MED_TOTAL_COST\", \"MED_PAYER_COVERAGE\"]]\n",
        "data_medications.shape"
      ],
      "metadata": {
        "id": "nHTN1gVzx042",
        "colab": {
          "base_uri": "https://localhost:8080/"
        },
        "outputId": "521e0f54-c965-46a4-8463-9bdf34466eb2"
      },
      "execution_count": 32,
      "outputs": [
        {
          "output_type": "execute_result",
          "data": {
            "text/plain": [
              "(9329, 7)"
            ]
          },
          "metadata": {},
          "execution_count": 32
        }
      ]
    },
    {
      "cell_type": "code",
      "source": [
        "# Entfernen von Duplikaten (gleicher Patient, gleicher Aufenthalt, gleiche Medikation, gleiche Kosten)\n",
        "data_medications_nodups = data_medications.drop_duplicates()\n",
        "data_medications_nodups.shape\n",
        "print(len(data_medications) - len(data_medications_nodups), \"Duplikate entfernt.\")"
      ],
      "metadata": {
        "id": "xhwUqmS-zg49",
        "colab": {
          "base_uri": "https://localhost:8080/"
        },
        "outputId": "2b111f16-41e9-40cf-b6f3-eadbed5b271f"
      },
      "execution_count": 33,
      "outputs": [
        {
          "output_type": "stream",
          "name": "stdout",
          "text": [
            "513 Duplikate entfernt.\n"
          ]
        }
      ]
    },
    {
      "cell_type": "code",
      "source": [
        "# Gruppierung nach Patienten, Aufsummierung der Kosten\n",
        "data_medications_grouped = data_medications_nodups.groupby(by=\"PATIENT\")\n",
        "data_medications_final = data_medications_grouped[[\"MED_BASE_COST\", \"MED_DISPENSES\", \"MED_TOTAL_COST\", \"MED_PAYER_COVERAGE\"]].sum(min_count=1)\n",
        "data_medications_final.rename(columns={\"MED_BASE_COST\": \"OVERALL_MED_BASE_COST\", \n",
        "                                         \"MED_DISPENSES\": \"OVERALL_MED_DISPENSES\", \n",
        "                                         \"MED_TOTAL_COST\": \"OVERALL_MED_TOTAL_COST\", \n",
        "                                         \"MED_PAYER_COVERAGE\": \"OVERALL_MED_PAYER_COVERAGE\"}, inplace=True)\n",
        "data_medications_final[\"NUMBER_MEDICATIONS\"] = data_medications_grouped[[\"MED_BASE_COST\"]].count()\n",
        "data_medications_final.shape"
      ],
      "metadata": {
        "id": "9U07Oh8ZzhBi",
        "colab": {
          "base_uri": "https://localhost:8080/"
        },
        "outputId": "60cb8cf3-fbce-4d12-efe7-dc240b8695ce"
      },
      "execution_count": 34,
      "outputs": [
        {
          "output_type": "execute_result",
          "data": {
            "text/plain": [
              "(1019, 5)"
            ]
          },
          "metadata": {},
          "execution_count": 34
        }
      ]
    },
    {
      "cell_type": "code",
      "source": [
        "data_medications_final"
      ],
      "metadata": {
        "id": "Y-UmGfTQzhN3",
        "colab": {
          "base_uri": "https://localhost:8080/",
          "height": 519
        },
        "outputId": "6ba07925-4436-4f0b-9c7f-c83775a0d335"
      },
      "execution_count": 35,
      "outputs": [
        {
          "output_type": "execute_result",
          "data": {
            "text/plain": [
              "                                                    OVERALL_MED_BASE_COST  \\\n",
              "PATIENT                                                                     \n",
              "001a14efaa07e86d7a2bb7750068159e7607eaeb5a508bd...                    NaN   \n",
              "00330f2d793f5867ff4d96ce37152a9af59eef4d89fb4c7...                    NaN   \n",
              "006658a456067ed4ddea461333b5897988f79f069c04b55...                    NaN   \n",
              "007c6b726d61f194eda6317b75282fa27d24fa9724974e9...                    NaN   \n",
              "008f7eecb74441ba68cba1b312200e58c5ca5c6c5e883de...                    NaN   \n",
              "...                                                                   ...   \n",
              "fe2ed8039068a7b06c5ff0de68dba8f93fe74c3d363349d...                    NaN   \n",
              "fec080b434ffd9fed52a83d46f690706683fa822b1fc1f1...                    NaN   \n",
              "fec3ed935e56355f5f2db0974d9c2d5d71491260f666e17...                    NaN   \n",
              "ff2f043e920c64a45dc0dec1193399ed06d0c8cf69ad9ac...                    NaN   \n",
              "ffb1c9de2fdf99a5ee9f0e960a50a7416df1d2f4ad912c4...                    NaN   \n",
              "\n",
              "                                                    OVERALL_MED_DISPENSES  \\\n",
              "PATIENT                                                                     \n",
              "001a14efaa07e86d7a2bb7750068159e7607eaeb5a508bd...                    NaN   \n",
              "00330f2d793f5867ff4d96ce37152a9af59eef4d89fb4c7...                    NaN   \n",
              "006658a456067ed4ddea461333b5897988f79f069c04b55...                    NaN   \n",
              "007c6b726d61f194eda6317b75282fa27d24fa9724974e9...                    NaN   \n",
              "008f7eecb74441ba68cba1b312200e58c5ca5c6c5e883de...                    NaN   \n",
              "...                                                                   ...   \n",
              "fe2ed8039068a7b06c5ff0de68dba8f93fe74c3d363349d...                    NaN   \n",
              "fec080b434ffd9fed52a83d46f690706683fa822b1fc1f1...                    NaN   \n",
              "fec3ed935e56355f5f2db0974d9c2d5d71491260f666e17...                    NaN   \n",
              "ff2f043e920c64a45dc0dec1193399ed06d0c8cf69ad9ac...                    NaN   \n",
              "ffb1c9de2fdf99a5ee9f0e960a50a7416df1d2f4ad912c4...                    NaN   \n",
              "\n",
              "                                                    OVERALL_MED_TOTAL_COST  \\\n",
              "PATIENT                                                                      \n",
              "001a14efaa07e86d7a2bb7750068159e7607eaeb5a508bd...                     NaN   \n",
              "00330f2d793f5867ff4d96ce37152a9af59eef4d89fb4c7...                     NaN   \n",
              "006658a456067ed4ddea461333b5897988f79f069c04b55...                     NaN   \n",
              "007c6b726d61f194eda6317b75282fa27d24fa9724974e9...                     NaN   \n",
              "008f7eecb74441ba68cba1b312200e58c5ca5c6c5e883de...                     NaN   \n",
              "...                                                                    ...   \n",
              "fe2ed8039068a7b06c5ff0de68dba8f93fe74c3d363349d...                     NaN   \n",
              "fec080b434ffd9fed52a83d46f690706683fa822b1fc1f1...                     NaN   \n",
              "fec3ed935e56355f5f2db0974d9c2d5d71491260f666e17...                     NaN   \n",
              "ff2f043e920c64a45dc0dec1193399ed06d0c8cf69ad9ac...                     NaN   \n",
              "ffb1c9de2fdf99a5ee9f0e960a50a7416df1d2f4ad912c4...                     NaN   \n",
              "\n",
              "                                                    OVERALL_MED_PAYER_COVERAGE  \\\n",
              "PATIENT                                                                          \n",
              "001a14efaa07e86d7a2bb7750068159e7607eaeb5a508bd...                         NaN   \n",
              "00330f2d793f5867ff4d96ce37152a9af59eef4d89fb4c7...                         NaN   \n",
              "006658a456067ed4ddea461333b5897988f79f069c04b55...                         NaN   \n",
              "007c6b726d61f194eda6317b75282fa27d24fa9724974e9...                         NaN   \n",
              "008f7eecb74441ba68cba1b312200e58c5ca5c6c5e883de...                         NaN   \n",
              "...                                                                        ...   \n",
              "fe2ed8039068a7b06c5ff0de68dba8f93fe74c3d363349d...                         NaN   \n",
              "fec080b434ffd9fed52a83d46f690706683fa822b1fc1f1...                         NaN   \n",
              "fec3ed935e56355f5f2db0974d9c2d5d71491260f666e17...                         NaN   \n",
              "ff2f043e920c64a45dc0dec1193399ed06d0c8cf69ad9ac...                         NaN   \n",
              "ffb1c9de2fdf99a5ee9f0e960a50a7416df1d2f4ad912c4...                         NaN   \n",
              "\n",
              "                                                    NUMBER_MEDICATIONS  \n",
              "PATIENT                                                                 \n",
              "001a14efaa07e86d7a2bb7750068159e7607eaeb5a508bd...                   0  \n",
              "00330f2d793f5867ff4d96ce37152a9af59eef4d89fb4c7...                   0  \n",
              "006658a456067ed4ddea461333b5897988f79f069c04b55...                   0  \n",
              "007c6b726d61f194eda6317b75282fa27d24fa9724974e9...                   0  \n",
              "008f7eecb74441ba68cba1b312200e58c5ca5c6c5e883de...                   0  \n",
              "...                                                                ...  \n",
              "fe2ed8039068a7b06c5ff0de68dba8f93fe74c3d363349d...                   0  \n",
              "fec080b434ffd9fed52a83d46f690706683fa822b1fc1f1...                   0  \n",
              "fec3ed935e56355f5f2db0974d9c2d5d71491260f666e17...                   0  \n",
              "ff2f043e920c64a45dc0dec1193399ed06d0c8cf69ad9ac...                   0  \n",
              "ffb1c9de2fdf99a5ee9f0e960a50a7416df1d2f4ad912c4...                   0  \n",
              "\n",
              "[1019 rows x 5 columns]"
            ],
            "text/html": [
              "\n",
              "  <div id=\"df-f3094c9d-b25f-40c9-b11c-f1165bf59fc6\">\n",
              "    <div class=\"colab-df-container\">\n",
              "      <div>\n",
              "<style scoped>\n",
              "    .dataframe tbody tr th:only-of-type {\n",
              "        vertical-align: middle;\n",
              "    }\n",
              "\n",
              "    .dataframe tbody tr th {\n",
              "        vertical-align: top;\n",
              "    }\n",
              "\n",
              "    .dataframe thead th {\n",
              "        text-align: right;\n",
              "    }\n",
              "</style>\n",
              "<table border=\"1\" class=\"dataframe\">\n",
              "  <thead>\n",
              "    <tr style=\"text-align: right;\">\n",
              "      <th></th>\n",
              "      <th>OVERALL_MED_BASE_COST</th>\n",
              "      <th>OVERALL_MED_DISPENSES</th>\n",
              "      <th>OVERALL_MED_TOTAL_COST</th>\n",
              "      <th>OVERALL_MED_PAYER_COVERAGE</th>\n",
              "      <th>NUMBER_MEDICATIONS</th>\n",
              "    </tr>\n",
              "    <tr>\n",
              "      <th>PATIENT</th>\n",
              "      <th></th>\n",
              "      <th></th>\n",
              "      <th></th>\n",
              "      <th></th>\n",
              "      <th></th>\n",
              "    </tr>\n",
              "  </thead>\n",
              "  <tbody>\n",
              "    <tr>\n",
              "      <th>001a14efaa07e86d7a2bb7750068159e7607eaeb5a508bdb9d64044653af2cc3</th>\n",
              "      <td>NaN</td>\n",
              "      <td>NaN</td>\n",
              "      <td>NaN</td>\n",
              "      <td>NaN</td>\n",
              "      <td>0</td>\n",
              "    </tr>\n",
              "    <tr>\n",
              "      <th>00330f2d793f5867ff4d96ce37152a9af59eef4d89fb4c7e9b295d6f59fcf53f</th>\n",
              "      <td>NaN</td>\n",
              "      <td>NaN</td>\n",
              "      <td>NaN</td>\n",
              "      <td>NaN</td>\n",
              "      <td>0</td>\n",
              "    </tr>\n",
              "    <tr>\n",
              "      <th>006658a456067ed4ddea461333b5897988f79f069c04b55924c54f8dbfc62abd</th>\n",
              "      <td>NaN</td>\n",
              "      <td>NaN</td>\n",
              "      <td>NaN</td>\n",
              "      <td>NaN</td>\n",
              "      <td>0</td>\n",
              "    </tr>\n",
              "    <tr>\n",
              "      <th>007c6b726d61f194eda6317b75282fa27d24fa9724974e92e6b6b0b0d08028f5</th>\n",
              "      <td>NaN</td>\n",
              "      <td>NaN</td>\n",
              "      <td>NaN</td>\n",
              "      <td>NaN</td>\n",
              "      <td>0</td>\n",
              "    </tr>\n",
              "    <tr>\n",
              "      <th>008f7eecb74441ba68cba1b312200e58c5ca5c6c5e883ded7d98bcf71f52cd4e</th>\n",
              "      <td>NaN</td>\n",
              "      <td>NaN</td>\n",
              "      <td>NaN</td>\n",
              "      <td>NaN</td>\n",
              "      <td>0</td>\n",
              "    </tr>\n",
              "    <tr>\n",
              "      <th>...</th>\n",
              "      <td>...</td>\n",
              "      <td>...</td>\n",
              "      <td>...</td>\n",
              "      <td>...</td>\n",
              "      <td>...</td>\n",
              "    </tr>\n",
              "    <tr>\n",
              "      <th>fe2ed8039068a7b06c5ff0de68dba8f93fe74c3d363349de74d1945c8b99b170</th>\n",
              "      <td>NaN</td>\n",
              "      <td>NaN</td>\n",
              "      <td>NaN</td>\n",
              "      <td>NaN</td>\n",
              "      <td>0</td>\n",
              "    </tr>\n",
              "    <tr>\n",
              "      <th>fec080b434ffd9fed52a83d46f690706683fa822b1fc1f1984c816e37c130d7c</th>\n",
              "      <td>NaN</td>\n",
              "      <td>NaN</td>\n",
              "      <td>NaN</td>\n",
              "      <td>NaN</td>\n",
              "      <td>0</td>\n",
              "    </tr>\n",
              "    <tr>\n",
              "      <th>fec3ed935e56355f5f2db0974d9c2d5d71491260f666e1721626303ae3a74913</th>\n",
              "      <td>NaN</td>\n",
              "      <td>NaN</td>\n",
              "      <td>NaN</td>\n",
              "      <td>NaN</td>\n",
              "      <td>0</td>\n",
              "    </tr>\n",
              "    <tr>\n",
              "      <th>ff2f043e920c64a45dc0dec1193399ed06d0c8cf69ad9ac88f84301237fb5557</th>\n",
              "      <td>NaN</td>\n",
              "      <td>NaN</td>\n",
              "      <td>NaN</td>\n",
              "      <td>NaN</td>\n",
              "      <td>0</td>\n",
              "    </tr>\n",
              "    <tr>\n",
              "      <th>ffb1c9de2fdf99a5ee9f0e960a50a7416df1d2f4ad912c4078050e309a11266f</th>\n",
              "      <td>NaN</td>\n",
              "      <td>NaN</td>\n",
              "      <td>NaN</td>\n",
              "      <td>NaN</td>\n",
              "      <td>0</td>\n",
              "    </tr>\n",
              "  </tbody>\n",
              "</table>\n",
              "<p>1019 rows × 5 columns</p>\n",
              "</div>\n",
              "      <button class=\"colab-df-convert\" onclick=\"convertToInteractive('df-f3094c9d-b25f-40c9-b11c-f1165bf59fc6')\"\n",
              "              title=\"Convert this dataframe to an interactive table.\"\n",
              "              style=\"display:none;\">\n",
              "        \n",
              "  <svg xmlns=\"http://www.w3.org/2000/svg\" height=\"24px\"viewBox=\"0 0 24 24\"\n",
              "       width=\"24px\">\n",
              "    <path d=\"M0 0h24v24H0V0z\" fill=\"none\"/>\n",
              "    <path d=\"M18.56 5.44l.94 2.06.94-2.06 2.06-.94-2.06-.94-.94-2.06-.94 2.06-2.06.94zm-11 1L8.5 8.5l.94-2.06 2.06-.94-2.06-.94L8.5 2.5l-.94 2.06-2.06.94zm10 10l.94 2.06.94-2.06 2.06-.94-2.06-.94-.94-2.06-.94 2.06-2.06.94z\"/><path d=\"M17.41 7.96l-1.37-1.37c-.4-.4-.92-.59-1.43-.59-.52 0-1.04.2-1.43.59L10.3 9.45l-7.72 7.72c-.78.78-.78 2.05 0 2.83L4 21.41c.39.39.9.59 1.41.59.51 0 1.02-.2 1.41-.59l7.78-7.78 2.81-2.81c.8-.78.8-2.07 0-2.86zM5.41 20L4 18.59l7.72-7.72 1.47 1.35L5.41 20z\"/>\n",
              "  </svg>\n",
              "      </button>\n",
              "      \n",
              "  <style>\n",
              "    .colab-df-container {\n",
              "      display:flex;\n",
              "      flex-wrap:wrap;\n",
              "      gap: 12px;\n",
              "    }\n",
              "\n",
              "    .colab-df-convert {\n",
              "      background-color: #E8F0FE;\n",
              "      border: none;\n",
              "      border-radius: 50%;\n",
              "      cursor: pointer;\n",
              "      display: none;\n",
              "      fill: #1967D2;\n",
              "      height: 32px;\n",
              "      padding: 0 0 0 0;\n",
              "      width: 32px;\n",
              "    }\n",
              "\n",
              "    .colab-df-convert:hover {\n",
              "      background-color: #E2EBFA;\n",
              "      box-shadow: 0px 1px 2px rgba(60, 64, 67, 0.3), 0px 1px 3px 1px rgba(60, 64, 67, 0.15);\n",
              "      fill: #174EA6;\n",
              "    }\n",
              "\n",
              "    [theme=dark] .colab-df-convert {\n",
              "      background-color: #3B4455;\n",
              "      fill: #D2E3FC;\n",
              "    }\n",
              "\n",
              "    [theme=dark] .colab-df-convert:hover {\n",
              "      background-color: #434B5C;\n",
              "      box-shadow: 0px 1px 3px 1px rgba(0, 0, 0, 0.15);\n",
              "      filter: drop-shadow(0px 1px 2px rgba(0, 0, 0, 0.3));\n",
              "      fill: #FFFFFF;\n",
              "    }\n",
              "  </style>\n",
              "\n",
              "      <script>\n",
              "        const buttonEl =\n",
              "          document.querySelector('#df-f3094c9d-b25f-40c9-b11c-f1165bf59fc6 button.colab-df-convert');\n",
              "        buttonEl.style.display =\n",
              "          google.colab.kernel.accessAllowed ? 'block' : 'none';\n",
              "\n",
              "        async function convertToInteractive(key) {\n",
              "          const element = document.querySelector('#df-f3094c9d-b25f-40c9-b11c-f1165bf59fc6');\n",
              "          const dataTable =\n",
              "            await google.colab.kernel.invokeFunction('convertToInteractive',\n",
              "                                                     [key], {});\n",
              "          if (!dataTable) return;\n",
              "\n",
              "          const docLinkHtml = 'Like what you see? Visit the ' +\n",
              "            '<a target=\"_blank\" href=https://colab.research.google.com/notebooks/data_table.ipynb>data table notebook</a>'\n",
              "            + ' to learn more about interactive tables.';\n",
              "          element.innerHTML = '';\n",
              "          dataTable['output_type'] = 'display_data';\n",
              "          await google.colab.output.renderOutput(dataTable, element);\n",
              "          const docLink = document.createElement('div');\n",
              "          docLink.innerHTML = docLinkHtml;\n",
              "          element.appendChild(docLink);\n",
              "        }\n",
              "      </script>\n",
              "    </div>\n",
              "  </div>\n",
              "  "
            ]
          },
          "metadata": {},
          "execution_count": 35
        }
      ]
    },
    {
      "cell_type": "markdown",
      "source": [
        "## Erstellung einer Patiententabelle (mit demografischen Daten und Diagnosedaten)"
      ],
      "metadata": {
        "id": "j8kKv1w35ynO"
      }
    },
    {
      "cell_type": "code",
      "source": [
        "# Merge Informationen zu Patienten aus data_costs und Diagnosen aus data_diagnoses über Patienten-ID\n",
        "patient_information = pd.merge(data_costs[[\"PATIENT\", \"PAT_GENDER\", \"PAT_RACE\"]], data_diagnoses, how=\"inner\", left_on=[\"PATIENT\"], right_on=[\"patient\"])\n",
        "# Doppelte Zeilen entfernen\n",
        "patient_information.drop_duplicates(inplace=True)\n",
        "# Doppelte Spalte mit Patienten-ID entfernen\n",
        "patient_information.drop(columns=[\"patient\"], inplace=True)\n",
        "# Spalte diagnosis umbenennen\n",
        "patient_information.rename(columns={\"diagnosis\": \"DIAGNOSIS\"}, inplace=True)\n",
        "# Spalte mit Patienten-ID als Index\n",
        "patient_information.set_index(\"PATIENT\", inplace=True)\n",
        "\n",
        "patient_information.shape"
      ],
      "metadata": {
        "id": "DZCGcgNz50nd",
        "colab": {
          "base_uri": "https://localhost:8080/"
        },
        "outputId": "cb2089ca-f835-46da-d74a-e1595ab75811"
      },
      "execution_count": 36,
      "outputs": [
        {
          "output_type": "execute_result",
          "data": {
            "text/plain": [
              "(1019, 3)"
            ]
          },
          "metadata": {},
          "execution_count": 36
        }
      ]
    },
    {
      "cell_type": "code",
      "source": [
        "patient_information"
      ],
      "metadata": {
        "id": "8UGkszf39End",
        "colab": {
          "base_uri": "https://localhost:8080/",
          "height": 455
        },
        "outputId": "65a0daed-c6cc-4d1e-bf4d-4f4eb686f16f"
      },
      "execution_count": 37,
      "outputs": [
        {
          "output_type": "execute_result",
          "data": {
            "text/plain": [
              "                                                   PAT_GENDER PAT_RACE  \\\n",
              "PATIENT                                                                  \n",
              "001a14efaa07e86d7a2bb7750068159e7607eaeb5a508bd...          M    asian   \n",
              "00330f2d793f5867ff4d96ce37152a9af59eef4d89fb4c7...          F    white   \n",
              "006658a456067ed4ddea461333b5897988f79f069c04b55...          M    white   \n",
              "007c6b726d61f194eda6317b75282fa27d24fa9724974e9...          M    white   \n",
              "008f7eecb74441ba68cba1b312200e58c5ca5c6c5e883de...          F    white   \n",
              "...                                                       ...      ...   \n",
              "fe2ed8039068a7b06c5ff0de68dba8f93fe74c3d363349d...          M    white   \n",
              "fec080b434ffd9fed52a83d46f690706683fa822b1fc1f1...          F    black   \n",
              "fec3ed935e56355f5f2db0974d9c2d5d71491260f666e17...          F    white   \n",
              "ff2f043e920c64a45dc0dec1193399ed06d0c8cf69ad9ac...          M    white   \n",
              "ffb1c9de2fdf99a5ee9f0e960a50a7416df1d2f4ad912c4...          F    white   \n",
              "\n",
              "                                                   DIAGNOSIS  \n",
              "PATIENT                                                       \n",
              "001a14efaa07e86d7a2bb7750068159e7607eaeb5a508bd...      none  \n",
              "00330f2d793f5867ff4d96ce37152a9af59eef4d89fb4c7...      none  \n",
              "006658a456067ed4ddea461333b5897988f79f069c04b55...      none  \n",
              "007c6b726d61f194eda6317b75282fa27d24fa9724974e9...      none  \n",
              "008f7eecb74441ba68cba1b312200e58c5ca5c6c5e883de...      none  \n",
              "...                                                      ...  \n",
              "fe2ed8039068a7b06c5ff0de68dba8f93fe74c3d363349d...      none  \n",
              "fec080b434ffd9fed52a83d46f690706683fa822b1fc1f1...      none  \n",
              "fec3ed935e56355f5f2db0974d9c2d5d71491260f666e17...      none  \n",
              "ff2f043e920c64a45dc0dec1193399ed06d0c8cf69ad9ac...     other  \n",
              "ffb1c9de2fdf99a5ee9f0e960a50a7416df1d2f4ad912c4...      none  \n",
              "\n",
              "[1019 rows x 3 columns]"
            ],
            "text/html": [
              "\n",
              "  <div id=\"df-c4cae1ab-28ea-4c6c-9685-bcb928c8430b\">\n",
              "    <div class=\"colab-df-container\">\n",
              "      <div>\n",
              "<style scoped>\n",
              "    .dataframe tbody tr th:only-of-type {\n",
              "        vertical-align: middle;\n",
              "    }\n",
              "\n",
              "    .dataframe tbody tr th {\n",
              "        vertical-align: top;\n",
              "    }\n",
              "\n",
              "    .dataframe thead th {\n",
              "        text-align: right;\n",
              "    }\n",
              "</style>\n",
              "<table border=\"1\" class=\"dataframe\">\n",
              "  <thead>\n",
              "    <tr style=\"text-align: right;\">\n",
              "      <th></th>\n",
              "      <th>PAT_GENDER</th>\n",
              "      <th>PAT_RACE</th>\n",
              "      <th>DIAGNOSIS</th>\n",
              "    </tr>\n",
              "    <tr>\n",
              "      <th>PATIENT</th>\n",
              "      <th></th>\n",
              "      <th></th>\n",
              "      <th></th>\n",
              "    </tr>\n",
              "  </thead>\n",
              "  <tbody>\n",
              "    <tr>\n",
              "      <th>001a14efaa07e86d7a2bb7750068159e7607eaeb5a508bdb9d64044653af2cc3</th>\n",
              "      <td>M</td>\n",
              "      <td>asian</td>\n",
              "      <td>none</td>\n",
              "    </tr>\n",
              "    <tr>\n",
              "      <th>00330f2d793f5867ff4d96ce37152a9af59eef4d89fb4c7e9b295d6f59fcf53f</th>\n",
              "      <td>F</td>\n",
              "      <td>white</td>\n",
              "      <td>none</td>\n",
              "    </tr>\n",
              "    <tr>\n",
              "      <th>006658a456067ed4ddea461333b5897988f79f069c04b55924c54f8dbfc62abd</th>\n",
              "      <td>M</td>\n",
              "      <td>white</td>\n",
              "      <td>none</td>\n",
              "    </tr>\n",
              "    <tr>\n",
              "      <th>007c6b726d61f194eda6317b75282fa27d24fa9724974e92e6b6b0b0d08028f5</th>\n",
              "      <td>M</td>\n",
              "      <td>white</td>\n",
              "      <td>none</td>\n",
              "    </tr>\n",
              "    <tr>\n",
              "      <th>008f7eecb74441ba68cba1b312200e58c5ca5c6c5e883ded7d98bcf71f52cd4e</th>\n",
              "      <td>F</td>\n",
              "      <td>white</td>\n",
              "      <td>none</td>\n",
              "    </tr>\n",
              "    <tr>\n",
              "      <th>...</th>\n",
              "      <td>...</td>\n",
              "      <td>...</td>\n",
              "      <td>...</td>\n",
              "    </tr>\n",
              "    <tr>\n",
              "      <th>fe2ed8039068a7b06c5ff0de68dba8f93fe74c3d363349de74d1945c8b99b170</th>\n",
              "      <td>M</td>\n",
              "      <td>white</td>\n",
              "      <td>none</td>\n",
              "    </tr>\n",
              "    <tr>\n",
              "      <th>fec080b434ffd9fed52a83d46f690706683fa822b1fc1f1984c816e37c130d7c</th>\n",
              "      <td>F</td>\n",
              "      <td>black</td>\n",
              "      <td>none</td>\n",
              "    </tr>\n",
              "    <tr>\n",
              "      <th>fec3ed935e56355f5f2db0974d9c2d5d71491260f666e1721626303ae3a74913</th>\n",
              "      <td>F</td>\n",
              "      <td>white</td>\n",
              "      <td>none</td>\n",
              "    </tr>\n",
              "    <tr>\n",
              "      <th>ff2f043e920c64a45dc0dec1193399ed06d0c8cf69ad9ac88f84301237fb5557</th>\n",
              "      <td>M</td>\n",
              "      <td>white</td>\n",
              "      <td>other</td>\n",
              "    </tr>\n",
              "    <tr>\n",
              "      <th>ffb1c9de2fdf99a5ee9f0e960a50a7416df1d2f4ad912c4078050e309a11266f</th>\n",
              "      <td>F</td>\n",
              "      <td>white</td>\n",
              "      <td>none</td>\n",
              "    </tr>\n",
              "  </tbody>\n",
              "</table>\n",
              "<p>1019 rows × 3 columns</p>\n",
              "</div>\n",
              "      <button class=\"colab-df-convert\" onclick=\"convertToInteractive('df-c4cae1ab-28ea-4c6c-9685-bcb928c8430b')\"\n",
              "              title=\"Convert this dataframe to an interactive table.\"\n",
              "              style=\"display:none;\">\n",
              "        \n",
              "  <svg xmlns=\"http://www.w3.org/2000/svg\" height=\"24px\"viewBox=\"0 0 24 24\"\n",
              "       width=\"24px\">\n",
              "    <path d=\"M0 0h24v24H0V0z\" fill=\"none\"/>\n",
              "    <path d=\"M18.56 5.44l.94 2.06.94-2.06 2.06-.94-2.06-.94-.94-2.06-.94 2.06-2.06.94zm-11 1L8.5 8.5l.94-2.06 2.06-.94-2.06-.94L8.5 2.5l-.94 2.06-2.06.94zm10 10l.94 2.06.94-2.06 2.06-.94-2.06-.94-.94-2.06-.94 2.06-2.06.94z\"/><path d=\"M17.41 7.96l-1.37-1.37c-.4-.4-.92-.59-1.43-.59-.52 0-1.04.2-1.43.59L10.3 9.45l-7.72 7.72c-.78.78-.78 2.05 0 2.83L4 21.41c.39.39.9.59 1.41.59.51 0 1.02-.2 1.41-.59l7.78-7.78 2.81-2.81c.8-.78.8-2.07 0-2.86zM5.41 20L4 18.59l7.72-7.72 1.47 1.35L5.41 20z\"/>\n",
              "  </svg>\n",
              "      </button>\n",
              "      \n",
              "  <style>\n",
              "    .colab-df-container {\n",
              "      display:flex;\n",
              "      flex-wrap:wrap;\n",
              "      gap: 12px;\n",
              "    }\n",
              "\n",
              "    .colab-df-convert {\n",
              "      background-color: #E8F0FE;\n",
              "      border: none;\n",
              "      border-radius: 50%;\n",
              "      cursor: pointer;\n",
              "      display: none;\n",
              "      fill: #1967D2;\n",
              "      height: 32px;\n",
              "      padding: 0 0 0 0;\n",
              "      width: 32px;\n",
              "    }\n",
              "\n",
              "    .colab-df-convert:hover {\n",
              "      background-color: #E2EBFA;\n",
              "      box-shadow: 0px 1px 2px rgba(60, 64, 67, 0.3), 0px 1px 3px 1px rgba(60, 64, 67, 0.15);\n",
              "      fill: #174EA6;\n",
              "    }\n",
              "\n",
              "    [theme=dark] .colab-df-convert {\n",
              "      background-color: #3B4455;\n",
              "      fill: #D2E3FC;\n",
              "    }\n",
              "\n",
              "    [theme=dark] .colab-df-convert:hover {\n",
              "      background-color: #434B5C;\n",
              "      box-shadow: 0px 1px 3px 1px rgba(0, 0, 0, 0.15);\n",
              "      filter: drop-shadow(0px 1px 2px rgba(0, 0, 0, 0.3));\n",
              "      fill: #FFFFFF;\n",
              "    }\n",
              "  </style>\n",
              "\n",
              "      <script>\n",
              "        const buttonEl =\n",
              "          document.querySelector('#df-c4cae1ab-28ea-4c6c-9685-bcb928c8430b button.colab-df-convert');\n",
              "        buttonEl.style.display =\n",
              "          google.colab.kernel.accessAllowed ? 'block' : 'none';\n",
              "\n",
              "        async function convertToInteractive(key) {\n",
              "          const element = document.querySelector('#df-c4cae1ab-28ea-4c6c-9685-bcb928c8430b');\n",
              "          const dataTable =\n",
              "            await google.colab.kernel.invokeFunction('convertToInteractive',\n",
              "                                                     [key], {});\n",
              "          if (!dataTable) return;\n",
              "\n",
              "          const docLinkHtml = 'Like what you see? Visit the ' +\n",
              "            '<a target=\"_blank\" href=https://colab.research.google.com/notebooks/data_table.ipynb>data table notebook</a>'\n",
              "            + ' to learn more about interactive tables.';\n",
              "          element.innerHTML = '';\n",
              "          dataTable['output_type'] = 'display_data';\n",
              "          await google.colab.output.renderOutput(dataTable, element);\n",
              "          const docLink = document.createElement('div');\n",
              "          docLink.innerHTML = docLinkHtml;\n",
              "          element.appendChild(docLink);\n",
              "        }\n",
              "      </script>\n",
              "    </div>\n",
              "  </div>\n",
              "  "
            ]
          },
          "metadata": {},
          "execution_count": 37
        }
      ]
    },
    {
      "cell_type": "markdown",
      "source": [
        "## Erstellung der Analysetabelle als Kombination der zuvor erstellten Hilfstabellen\n"
      ],
      "metadata": {
        "id": "Wyy1WaQ1tbmP"
      }
    },
    {
      "cell_type": "code",
      "source": [
        "# Merge alle Tabellen in einzelnen Dataframe über Patienten-ID (Index)\n",
        "patient_data = pd.merge(pd.merge(pd.merge(patient_information, \n",
        "                                          data_encounters_final, left_index=True, right_index=True), \n",
        "                                 data_procedures_final, left_index=True, right_index=True), \n",
        "                        data_medications_final, left_index=True, right_index=True)\n",
        "patient_data.reset_index(inplace=True)\n",
        "patient_data.shape"
      ],
      "metadata": {
        "id": "tFbj_52otajK",
        "colab": {
          "base_uri": "https://localhost:8080/"
        },
        "outputId": "6ed4f7c1-1e48-4563-dcc5-634cfc400e2b"
      },
      "execution_count": 38,
      "outputs": [
        {
          "output_type": "execute_result",
          "data": {
            "text/plain": [
              "(1019, 14)"
            ]
          },
          "metadata": {},
          "execution_count": 38
        }
      ]
    },
    {
      "cell_type": "code",
      "source": [
        "patient_data"
      ],
      "metadata": {
        "id": "rt_m1Vlt-8iy",
        "colab": {
          "base_uri": "https://localhost:8080/",
          "height": 488
        },
        "outputId": "ed728587-5daf-44c6-fd5b-489c7b535bcc"
      },
      "execution_count": 39,
      "outputs": [
        {
          "output_type": "execute_result",
          "data": {
            "text/plain": [
              "                                                PATIENT PAT_GENDER PAT_RACE  \\\n",
              "0     001a14efaa07e86d7a2bb7750068159e7607eaeb5a508b...          M    asian   \n",
              "1     00330f2d793f5867ff4d96ce37152a9af59eef4d89fb4c...          F    white   \n",
              "2     006658a456067ed4ddea461333b5897988f79f069c04b5...          M    white   \n",
              "3     007c6b726d61f194eda6317b75282fa27d24fa9724974e...          M    white   \n",
              "4     008f7eecb74441ba68cba1b312200e58c5ca5c6c5e883d...          F    white   \n",
              "...                                                 ...        ...      ...   \n",
              "1014  fe2ed8039068a7b06c5ff0de68dba8f93fe74c3d363349...          M    white   \n",
              "1015  fec080b434ffd9fed52a83d46f690706683fa822b1fc1f...          F    black   \n",
              "1016  fec3ed935e56355f5f2db0974d9c2d5d71491260f666e1...          F    white   \n",
              "1017  ff2f043e920c64a45dc0dec1193399ed06d0c8cf69ad9a...          M    white   \n",
              "1018  ffb1c9de2fdf99a5ee9f0e960a50a7416df1d2f4ad912c...          F    white   \n",
              "\n",
              "     DIAGNOSIS  OVERALL_ENC_BASE_COST  OVERALL_ENC_PAYER_COVERAGE  \\\n",
              "0         none                 516.64                      516.64   \n",
              "1         none                 645.80                      645.80   \n",
              "2         none                 774.96                      774.96   \n",
              "3         none                1033.28                     1033.28   \n",
              "4         none                1162.44                     1162.44   \n",
              "...        ...                    ...                         ...   \n",
              "1014      none                 387.48                      387.48   \n",
              "1015      none                1162.44                        0.00   \n",
              "1016      none                 645.80                      645.80   \n",
              "1017     other                 774.96                      694.96   \n",
              "1018      none                 645.80                      645.80   \n",
              "\n",
              "      NUMBER_ENCOUNTERS  OVERALL_PRO_BASE_COST  NUMBER_PROCEDURES  \\\n",
              "0                     4                    NaN                  0   \n",
              "1                     5                    NaN                  0   \n",
              "2                     6                    NaN                  0   \n",
              "3                     8                    NaN                  0   \n",
              "4                     9                    NaN                  0   \n",
              "...                 ...                    ...                ...   \n",
              "1014                  3                    NaN                  0   \n",
              "1015                  9                    NaN                  0   \n",
              "1016                  5                    NaN                  0   \n",
              "1017                  6                    NaN                  0   \n",
              "1018                  5                    NaN                  0   \n",
              "\n",
              "      OVERALL_MED_BASE_COST  OVERALL_MED_DISPENSES  OVERALL_MED_TOTAL_COST  \\\n",
              "0                       NaN                    NaN                     NaN   \n",
              "1                       NaN                    NaN                     NaN   \n",
              "2                       NaN                    NaN                     NaN   \n",
              "3                       NaN                    NaN                     NaN   \n",
              "4                       NaN                    NaN                     NaN   \n",
              "...                     ...                    ...                     ...   \n",
              "1014                    NaN                    NaN                     NaN   \n",
              "1015                    NaN                    NaN                     NaN   \n",
              "1016                    NaN                    NaN                     NaN   \n",
              "1017                    NaN                    NaN                     NaN   \n",
              "1018                    NaN                    NaN                     NaN   \n",
              "\n",
              "      OVERALL_MED_PAYER_COVERAGE  NUMBER_MEDICATIONS  \n",
              "0                            NaN                   0  \n",
              "1                            NaN                   0  \n",
              "2                            NaN                   0  \n",
              "3                            NaN                   0  \n",
              "4                            NaN                   0  \n",
              "...                          ...                 ...  \n",
              "1014                         NaN                   0  \n",
              "1015                         NaN                   0  \n",
              "1016                         NaN                   0  \n",
              "1017                         NaN                   0  \n",
              "1018                         NaN                   0  \n",
              "\n",
              "[1019 rows x 14 columns]"
            ],
            "text/html": [
              "\n",
              "  <div id=\"df-9b3e41ca-67ad-46bb-9a15-baab0ab93659\">\n",
              "    <div class=\"colab-df-container\">\n",
              "      <div>\n",
              "<style scoped>\n",
              "    .dataframe tbody tr th:only-of-type {\n",
              "        vertical-align: middle;\n",
              "    }\n",
              "\n",
              "    .dataframe tbody tr th {\n",
              "        vertical-align: top;\n",
              "    }\n",
              "\n",
              "    .dataframe thead th {\n",
              "        text-align: right;\n",
              "    }\n",
              "</style>\n",
              "<table border=\"1\" class=\"dataframe\">\n",
              "  <thead>\n",
              "    <tr style=\"text-align: right;\">\n",
              "      <th></th>\n",
              "      <th>PATIENT</th>\n",
              "      <th>PAT_GENDER</th>\n",
              "      <th>PAT_RACE</th>\n",
              "      <th>DIAGNOSIS</th>\n",
              "      <th>OVERALL_ENC_BASE_COST</th>\n",
              "      <th>OVERALL_ENC_PAYER_COVERAGE</th>\n",
              "      <th>NUMBER_ENCOUNTERS</th>\n",
              "      <th>OVERALL_PRO_BASE_COST</th>\n",
              "      <th>NUMBER_PROCEDURES</th>\n",
              "      <th>OVERALL_MED_BASE_COST</th>\n",
              "      <th>OVERALL_MED_DISPENSES</th>\n",
              "      <th>OVERALL_MED_TOTAL_COST</th>\n",
              "      <th>OVERALL_MED_PAYER_COVERAGE</th>\n",
              "      <th>NUMBER_MEDICATIONS</th>\n",
              "    </tr>\n",
              "  </thead>\n",
              "  <tbody>\n",
              "    <tr>\n",
              "      <th>0</th>\n",
              "      <td>001a14efaa07e86d7a2bb7750068159e7607eaeb5a508b...</td>\n",
              "      <td>M</td>\n",
              "      <td>asian</td>\n",
              "      <td>none</td>\n",
              "      <td>516.64</td>\n",
              "      <td>516.64</td>\n",
              "      <td>4</td>\n",
              "      <td>NaN</td>\n",
              "      <td>0</td>\n",
              "      <td>NaN</td>\n",
              "      <td>NaN</td>\n",
              "      <td>NaN</td>\n",
              "      <td>NaN</td>\n",
              "      <td>0</td>\n",
              "    </tr>\n",
              "    <tr>\n",
              "      <th>1</th>\n",
              "      <td>00330f2d793f5867ff4d96ce37152a9af59eef4d89fb4c...</td>\n",
              "      <td>F</td>\n",
              "      <td>white</td>\n",
              "      <td>none</td>\n",
              "      <td>645.80</td>\n",
              "      <td>645.80</td>\n",
              "      <td>5</td>\n",
              "      <td>NaN</td>\n",
              "      <td>0</td>\n",
              "      <td>NaN</td>\n",
              "      <td>NaN</td>\n",
              "      <td>NaN</td>\n",
              "      <td>NaN</td>\n",
              "      <td>0</td>\n",
              "    </tr>\n",
              "    <tr>\n",
              "      <th>2</th>\n",
              "      <td>006658a456067ed4ddea461333b5897988f79f069c04b5...</td>\n",
              "      <td>M</td>\n",
              "      <td>white</td>\n",
              "      <td>none</td>\n",
              "      <td>774.96</td>\n",
              "      <td>774.96</td>\n",
              "      <td>6</td>\n",
              "      <td>NaN</td>\n",
              "      <td>0</td>\n",
              "      <td>NaN</td>\n",
              "      <td>NaN</td>\n",
              "      <td>NaN</td>\n",
              "      <td>NaN</td>\n",
              "      <td>0</td>\n",
              "    </tr>\n",
              "    <tr>\n",
              "      <th>3</th>\n",
              "      <td>007c6b726d61f194eda6317b75282fa27d24fa9724974e...</td>\n",
              "      <td>M</td>\n",
              "      <td>white</td>\n",
              "      <td>none</td>\n",
              "      <td>1033.28</td>\n",
              "      <td>1033.28</td>\n",
              "      <td>8</td>\n",
              "      <td>NaN</td>\n",
              "      <td>0</td>\n",
              "      <td>NaN</td>\n",
              "      <td>NaN</td>\n",
              "      <td>NaN</td>\n",
              "      <td>NaN</td>\n",
              "      <td>0</td>\n",
              "    </tr>\n",
              "    <tr>\n",
              "      <th>4</th>\n",
              "      <td>008f7eecb74441ba68cba1b312200e58c5ca5c6c5e883d...</td>\n",
              "      <td>F</td>\n",
              "      <td>white</td>\n",
              "      <td>none</td>\n",
              "      <td>1162.44</td>\n",
              "      <td>1162.44</td>\n",
              "      <td>9</td>\n",
              "      <td>NaN</td>\n",
              "      <td>0</td>\n",
              "      <td>NaN</td>\n",
              "      <td>NaN</td>\n",
              "      <td>NaN</td>\n",
              "      <td>NaN</td>\n",
              "      <td>0</td>\n",
              "    </tr>\n",
              "    <tr>\n",
              "      <th>...</th>\n",
              "      <td>...</td>\n",
              "      <td>...</td>\n",
              "      <td>...</td>\n",
              "      <td>...</td>\n",
              "      <td>...</td>\n",
              "      <td>...</td>\n",
              "      <td>...</td>\n",
              "      <td>...</td>\n",
              "      <td>...</td>\n",
              "      <td>...</td>\n",
              "      <td>...</td>\n",
              "      <td>...</td>\n",
              "      <td>...</td>\n",
              "      <td>...</td>\n",
              "    </tr>\n",
              "    <tr>\n",
              "      <th>1014</th>\n",
              "      <td>fe2ed8039068a7b06c5ff0de68dba8f93fe74c3d363349...</td>\n",
              "      <td>M</td>\n",
              "      <td>white</td>\n",
              "      <td>none</td>\n",
              "      <td>387.48</td>\n",
              "      <td>387.48</td>\n",
              "      <td>3</td>\n",
              "      <td>NaN</td>\n",
              "      <td>0</td>\n",
              "      <td>NaN</td>\n",
              "      <td>NaN</td>\n",
              "      <td>NaN</td>\n",
              "      <td>NaN</td>\n",
              "      <td>0</td>\n",
              "    </tr>\n",
              "    <tr>\n",
              "      <th>1015</th>\n",
              "      <td>fec080b434ffd9fed52a83d46f690706683fa822b1fc1f...</td>\n",
              "      <td>F</td>\n",
              "      <td>black</td>\n",
              "      <td>none</td>\n",
              "      <td>1162.44</td>\n",
              "      <td>0.00</td>\n",
              "      <td>9</td>\n",
              "      <td>NaN</td>\n",
              "      <td>0</td>\n",
              "      <td>NaN</td>\n",
              "      <td>NaN</td>\n",
              "      <td>NaN</td>\n",
              "      <td>NaN</td>\n",
              "      <td>0</td>\n",
              "    </tr>\n",
              "    <tr>\n",
              "      <th>1016</th>\n",
              "      <td>fec3ed935e56355f5f2db0974d9c2d5d71491260f666e1...</td>\n",
              "      <td>F</td>\n",
              "      <td>white</td>\n",
              "      <td>none</td>\n",
              "      <td>645.80</td>\n",
              "      <td>645.80</td>\n",
              "      <td>5</td>\n",
              "      <td>NaN</td>\n",
              "      <td>0</td>\n",
              "      <td>NaN</td>\n",
              "      <td>NaN</td>\n",
              "      <td>NaN</td>\n",
              "      <td>NaN</td>\n",
              "      <td>0</td>\n",
              "    </tr>\n",
              "    <tr>\n",
              "      <th>1017</th>\n",
              "      <td>ff2f043e920c64a45dc0dec1193399ed06d0c8cf69ad9a...</td>\n",
              "      <td>M</td>\n",
              "      <td>white</td>\n",
              "      <td>other</td>\n",
              "      <td>774.96</td>\n",
              "      <td>694.96</td>\n",
              "      <td>6</td>\n",
              "      <td>NaN</td>\n",
              "      <td>0</td>\n",
              "      <td>NaN</td>\n",
              "      <td>NaN</td>\n",
              "      <td>NaN</td>\n",
              "      <td>NaN</td>\n",
              "      <td>0</td>\n",
              "    </tr>\n",
              "    <tr>\n",
              "      <th>1018</th>\n",
              "      <td>ffb1c9de2fdf99a5ee9f0e960a50a7416df1d2f4ad912c...</td>\n",
              "      <td>F</td>\n",
              "      <td>white</td>\n",
              "      <td>none</td>\n",
              "      <td>645.80</td>\n",
              "      <td>645.80</td>\n",
              "      <td>5</td>\n",
              "      <td>NaN</td>\n",
              "      <td>0</td>\n",
              "      <td>NaN</td>\n",
              "      <td>NaN</td>\n",
              "      <td>NaN</td>\n",
              "      <td>NaN</td>\n",
              "      <td>0</td>\n",
              "    </tr>\n",
              "  </tbody>\n",
              "</table>\n",
              "<p>1019 rows × 14 columns</p>\n",
              "</div>\n",
              "      <button class=\"colab-df-convert\" onclick=\"convertToInteractive('df-9b3e41ca-67ad-46bb-9a15-baab0ab93659')\"\n",
              "              title=\"Convert this dataframe to an interactive table.\"\n",
              "              style=\"display:none;\">\n",
              "        \n",
              "  <svg xmlns=\"http://www.w3.org/2000/svg\" height=\"24px\"viewBox=\"0 0 24 24\"\n",
              "       width=\"24px\">\n",
              "    <path d=\"M0 0h24v24H0V0z\" fill=\"none\"/>\n",
              "    <path d=\"M18.56 5.44l.94 2.06.94-2.06 2.06-.94-2.06-.94-.94-2.06-.94 2.06-2.06.94zm-11 1L8.5 8.5l.94-2.06 2.06-.94-2.06-.94L8.5 2.5l-.94 2.06-2.06.94zm10 10l.94 2.06.94-2.06 2.06-.94-2.06-.94-.94-2.06-.94 2.06-2.06.94z\"/><path d=\"M17.41 7.96l-1.37-1.37c-.4-.4-.92-.59-1.43-.59-.52 0-1.04.2-1.43.59L10.3 9.45l-7.72 7.72c-.78.78-.78 2.05 0 2.83L4 21.41c.39.39.9.59 1.41.59.51 0 1.02-.2 1.41-.59l7.78-7.78 2.81-2.81c.8-.78.8-2.07 0-2.86zM5.41 20L4 18.59l7.72-7.72 1.47 1.35L5.41 20z\"/>\n",
              "  </svg>\n",
              "      </button>\n",
              "      \n",
              "  <style>\n",
              "    .colab-df-container {\n",
              "      display:flex;\n",
              "      flex-wrap:wrap;\n",
              "      gap: 12px;\n",
              "    }\n",
              "\n",
              "    .colab-df-convert {\n",
              "      background-color: #E8F0FE;\n",
              "      border: none;\n",
              "      border-radius: 50%;\n",
              "      cursor: pointer;\n",
              "      display: none;\n",
              "      fill: #1967D2;\n",
              "      height: 32px;\n",
              "      padding: 0 0 0 0;\n",
              "      width: 32px;\n",
              "    }\n",
              "\n",
              "    .colab-df-convert:hover {\n",
              "      background-color: #E2EBFA;\n",
              "      box-shadow: 0px 1px 2px rgba(60, 64, 67, 0.3), 0px 1px 3px 1px rgba(60, 64, 67, 0.15);\n",
              "      fill: #174EA6;\n",
              "    }\n",
              "\n",
              "    [theme=dark] .colab-df-convert {\n",
              "      background-color: #3B4455;\n",
              "      fill: #D2E3FC;\n",
              "    }\n",
              "\n",
              "    [theme=dark] .colab-df-convert:hover {\n",
              "      background-color: #434B5C;\n",
              "      box-shadow: 0px 1px 3px 1px rgba(0, 0, 0, 0.15);\n",
              "      filter: drop-shadow(0px 1px 2px rgba(0, 0, 0, 0.3));\n",
              "      fill: #FFFFFF;\n",
              "    }\n",
              "  </style>\n",
              "\n",
              "      <script>\n",
              "        const buttonEl =\n",
              "          document.querySelector('#df-9b3e41ca-67ad-46bb-9a15-baab0ab93659 button.colab-df-convert');\n",
              "        buttonEl.style.display =\n",
              "          google.colab.kernel.accessAllowed ? 'block' : 'none';\n",
              "\n",
              "        async function convertToInteractive(key) {\n",
              "          const element = document.querySelector('#df-9b3e41ca-67ad-46bb-9a15-baab0ab93659');\n",
              "          const dataTable =\n",
              "            await google.colab.kernel.invokeFunction('convertToInteractive',\n",
              "                                                     [key], {});\n",
              "          if (!dataTable) return;\n",
              "\n",
              "          const docLinkHtml = 'Like what you see? Visit the ' +\n",
              "            '<a target=\"_blank\" href=https://colab.research.google.com/notebooks/data_table.ipynb>data table notebook</a>'\n",
              "            + ' to learn more about interactive tables.';\n",
              "          element.innerHTML = '';\n",
              "          dataTable['output_type'] = 'display_data';\n",
              "          await google.colab.output.renderOutput(dataTable, element);\n",
              "          const docLink = document.createElement('div');\n",
              "          docLink.innerHTML = docLinkHtml;\n",
              "          element.appendChild(docLink);\n",
              "        }\n",
              "      </script>\n",
              "    </div>\n",
              "  </div>\n",
              "  "
            ]
          },
          "metadata": {},
          "execution_count": 39
        }
      ]
    },
    {
      "cell_type": "code",
      "source": [
        "# Daten (Analysetabelle) in CSV Datei schreiben analysis_raw_data.csv\n",
        "with open(os.path.join(DATA_PATH, \"analysis_raw_data.csv\"), 'w', encoding = 'utf-8') as f:\n",
        "  patient_data.to_csv(f, index=False)"
      ],
      "metadata": {
        "id": "BLnM4TYiaH6V"
      },
      "execution_count": 40,
      "outputs": []
    },
    {
      "cell_type": "markdown",
      "source": [
        "# Verifizierung der Daten (DataFrame) mittels Checksum-Analyse"
      ],
      "metadata": {
        "id": "ErasdrzCcktr"
      }
    },
    {
      "cell_type": "code",
      "source": [
        "patient_data"
      ],
      "metadata": {
        "colab": {
          "base_uri": "https://localhost:8080/",
          "height": 488
        },
        "id": "TpCC6Xpkd7lU",
        "outputId": "2b49a2f2-1a6a-4a46-ce13-1db00760e20b"
      },
      "execution_count": 50,
      "outputs": [
        {
          "output_type": "execute_result",
          "data": {
            "text/plain": [
              "                                                PATIENT PAT_GENDER PAT_RACE  \\\n",
              "0     001a14efaa07e86d7a2bb7750068159e7607eaeb5a508b...          M    asian   \n",
              "1     00330f2d793f5867ff4d96ce37152a9af59eef4d89fb4c...          F    white   \n",
              "2     006658a456067ed4ddea461333b5897988f79f069c04b5...          M    white   \n",
              "3     007c6b726d61f194eda6317b75282fa27d24fa9724974e...          M    white   \n",
              "4     008f7eecb74441ba68cba1b312200e58c5ca5c6c5e883d...          F    white   \n",
              "...                                                 ...        ...      ...   \n",
              "1014  fe2ed8039068a7b06c5ff0de68dba8f93fe74c3d363349...          M    white   \n",
              "1015  fec080b434ffd9fed52a83d46f690706683fa822b1fc1f...          F    black   \n",
              "1016  fec3ed935e56355f5f2db0974d9c2d5d71491260f666e1...          F    white   \n",
              "1017  ff2f043e920c64a45dc0dec1193399ed06d0c8cf69ad9a...          M    white   \n",
              "1018  ffb1c9de2fdf99a5ee9f0e960a50a7416df1d2f4ad912c...          F    white   \n",
              "\n",
              "     DIAGNOSIS  OVERALL_ENC_BASE_COST  OVERALL_ENC_PAYER_COVERAGE  \\\n",
              "0         none                 516.64                      516.64   \n",
              "1         none                 645.80                      645.80   \n",
              "2         none                 774.96                      774.96   \n",
              "3         none                1033.28                     1033.28   \n",
              "4         none                1162.44                     1162.44   \n",
              "...        ...                    ...                         ...   \n",
              "1014      none                 387.48                      387.48   \n",
              "1015      none                1162.44                        0.00   \n",
              "1016      none                 645.80                      645.80   \n",
              "1017     other                 774.96                      694.96   \n",
              "1018      none                 645.80                      645.80   \n",
              "\n",
              "      NUMBER_ENCOUNTERS  OVERALL_PRO_BASE_COST  NUMBER_PROCEDURES  \\\n",
              "0                     4                    NaN                  0   \n",
              "1                     5                    NaN                  0   \n",
              "2                     6                    NaN                  0   \n",
              "3                     8                    NaN                  0   \n",
              "4                     9                    NaN                  0   \n",
              "...                 ...                    ...                ...   \n",
              "1014                  3                    NaN                  0   \n",
              "1015                  9                    NaN                  0   \n",
              "1016                  5                    NaN                  0   \n",
              "1017                  6                    NaN                  0   \n",
              "1018                  5                    NaN                  0   \n",
              "\n",
              "      OVERALL_MED_BASE_COST  OVERALL_MED_DISPENSES  OVERALL_MED_TOTAL_COST  \\\n",
              "0                       NaN                    NaN                     NaN   \n",
              "1                       NaN                    NaN                     NaN   \n",
              "2                       NaN                    NaN                     NaN   \n",
              "3                       NaN                    NaN                     NaN   \n",
              "4                       NaN                    NaN                     NaN   \n",
              "...                     ...                    ...                     ...   \n",
              "1014                    NaN                    NaN                     NaN   \n",
              "1015                    NaN                    NaN                     NaN   \n",
              "1016                    NaN                    NaN                     NaN   \n",
              "1017                    NaN                    NaN                     NaN   \n",
              "1018                    NaN                    NaN                     NaN   \n",
              "\n",
              "      OVERALL_MED_PAYER_COVERAGE  NUMBER_MEDICATIONS  \n",
              "0                            NaN                   0  \n",
              "1                            NaN                   0  \n",
              "2                            NaN                   0  \n",
              "3                            NaN                   0  \n",
              "4                            NaN                   0  \n",
              "...                          ...                 ...  \n",
              "1014                         NaN                   0  \n",
              "1015                         NaN                   0  \n",
              "1016                         NaN                   0  \n",
              "1017                         NaN                   0  \n",
              "1018                         NaN                   0  \n",
              "\n",
              "[1019 rows x 14 columns]"
            ],
            "text/html": [
              "\n",
              "  <div id=\"df-a487005e-60ca-4d93-a261-6f85f9fc0a57\">\n",
              "    <div class=\"colab-df-container\">\n",
              "      <div>\n",
              "<style scoped>\n",
              "    .dataframe tbody tr th:only-of-type {\n",
              "        vertical-align: middle;\n",
              "    }\n",
              "\n",
              "    .dataframe tbody tr th {\n",
              "        vertical-align: top;\n",
              "    }\n",
              "\n",
              "    .dataframe thead th {\n",
              "        text-align: right;\n",
              "    }\n",
              "</style>\n",
              "<table border=\"1\" class=\"dataframe\">\n",
              "  <thead>\n",
              "    <tr style=\"text-align: right;\">\n",
              "      <th></th>\n",
              "      <th>PATIENT</th>\n",
              "      <th>PAT_GENDER</th>\n",
              "      <th>PAT_RACE</th>\n",
              "      <th>DIAGNOSIS</th>\n",
              "      <th>OVERALL_ENC_BASE_COST</th>\n",
              "      <th>OVERALL_ENC_PAYER_COVERAGE</th>\n",
              "      <th>NUMBER_ENCOUNTERS</th>\n",
              "      <th>OVERALL_PRO_BASE_COST</th>\n",
              "      <th>NUMBER_PROCEDURES</th>\n",
              "      <th>OVERALL_MED_BASE_COST</th>\n",
              "      <th>OVERALL_MED_DISPENSES</th>\n",
              "      <th>OVERALL_MED_TOTAL_COST</th>\n",
              "      <th>OVERALL_MED_PAYER_COVERAGE</th>\n",
              "      <th>NUMBER_MEDICATIONS</th>\n",
              "    </tr>\n",
              "  </thead>\n",
              "  <tbody>\n",
              "    <tr>\n",
              "      <th>0</th>\n",
              "      <td>001a14efaa07e86d7a2bb7750068159e7607eaeb5a508b...</td>\n",
              "      <td>M</td>\n",
              "      <td>asian</td>\n",
              "      <td>none</td>\n",
              "      <td>516.64</td>\n",
              "      <td>516.64</td>\n",
              "      <td>4</td>\n",
              "      <td>NaN</td>\n",
              "      <td>0</td>\n",
              "      <td>NaN</td>\n",
              "      <td>NaN</td>\n",
              "      <td>NaN</td>\n",
              "      <td>NaN</td>\n",
              "      <td>0</td>\n",
              "    </tr>\n",
              "    <tr>\n",
              "      <th>1</th>\n",
              "      <td>00330f2d793f5867ff4d96ce37152a9af59eef4d89fb4c...</td>\n",
              "      <td>F</td>\n",
              "      <td>white</td>\n",
              "      <td>none</td>\n",
              "      <td>645.80</td>\n",
              "      <td>645.80</td>\n",
              "      <td>5</td>\n",
              "      <td>NaN</td>\n",
              "      <td>0</td>\n",
              "      <td>NaN</td>\n",
              "      <td>NaN</td>\n",
              "      <td>NaN</td>\n",
              "      <td>NaN</td>\n",
              "      <td>0</td>\n",
              "    </tr>\n",
              "    <tr>\n",
              "      <th>2</th>\n",
              "      <td>006658a456067ed4ddea461333b5897988f79f069c04b5...</td>\n",
              "      <td>M</td>\n",
              "      <td>white</td>\n",
              "      <td>none</td>\n",
              "      <td>774.96</td>\n",
              "      <td>774.96</td>\n",
              "      <td>6</td>\n",
              "      <td>NaN</td>\n",
              "      <td>0</td>\n",
              "      <td>NaN</td>\n",
              "      <td>NaN</td>\n",
              "      <td>NaN</td>\n",
              "      <td>NaN</td>\n",
              "      <td>0</td>\n",
              "    </tr>\n",
              "    <tr>\n",
              "      <th>3</th>\n",
              "      <td>007c6b726d61f194eda6317b75282fa27d24fa9724974e...</td>\n",
              "      <td>M</td>\n",
              "      <td>white</td>\n",
              "      <td>none</td>\n",
              "      <td>1033.28</td>\n",
              "      <td>1033.28</td>\n",
              "      <td>8</td>\n",
              "      <td>NaN</td>\n",
              "      <td>0</td>\n",
              "      <td>NaN</td>\n",
              "      <td>NaN</td>\n",
              "      <td>NaN</td>\n",
              "      <td>NaN</td>\n",
              "      <td>0</td>\n",
              "    </tr>\n",
              "    <tr>\n",
              "      <th>4</th>\n",
              "      <td>008f7eecb74441ba68cba1b312200e58c5ca5c6c5e883d...</td>\n",
              "      <td>F</td>\n",
              "      <td>white</td>\n",
              "      <td>none</td>\n",
              "      <td>1162.44</td>\n",
              "      <td>1162.44</td>\n",
              "      <td>9</td>\n",
              "      <td>NaN</td>\n",
              "      <td>0</td>\n",
              "      <td>NaN</td>\n",
              "      <td>NaN</td>\n",
              "      <td>NaN</td>\n",
              "      <td>NaN</td>\n",
              "      <td>0</td>\n",
              "    </tr>\n",
              "    <tr>\n",
              "      <th>...</th>\n",
              "      <td>...</td>\n",
              "      <td>...</td>\n",
              "      <td>...</td>\n",
              "      <td>...</td>\n",
              "      <td>...</td>\n",
              "      <td>...</td>\n",
              "      <td>...</td>\n",
              "      <td>...</td>\n",
              "      <td>...</td>\n",
              "      <td>...</td>\n",
              "      <td>...</td>\n",
              "      <td>...</td>\n",
              "      <td>...</td>\n",
              "      <td>...</td>\n",
              "    </tr>\n",
              "    <tr>\n",
              "      <th>1014</th>\n",
              "      <td>fe2ed8039068a7b06c5ff0de68dba8f93fe74c3d363349...</td>\n",
              "      <td>M</td>\n",
              "      <td>white</td>\n",
              "      <td>none</td>\n",
              "      <td>387.48</td>\n",
              "      <td>387.48</td>\n",
              "      <td>3</td>\n",
              "      <td>NaN</td>\n",
              "      <td>0</td>\n",
              "      <td>NaN</td>\n",
              "      <td>NaN</td>\n",
              "      <td>NaN</td>\n",
              "      <td>NaN</td>\n",
              "      <td>0</td>\n",
              "    </tr>\n",
              "    <tr>\n",
              "      <th>1015</th>\n",
              "      <td>fec080b434ffd9fed52a83d46f690706683fa822b1fc1f...</td>\n",
              "      <td>F</td>\n",
              "      <td>black</td>\n",
              "      <td>none</td>\n",
              "      <td>1162.44</td>\n",
              "      <td>0.00</td>\n",
              "      <td>9</td>\n",
              "      <td>NaN</td>\n",
              "      <td>0</td>\n",
              "      <td>NaN</td>\n",
              "      <td>NaN</td>\n",
              "      <td>NaN</td>\n",
              "      <td>NaN</td>\n",
              "      <td>0</td>\n",
              "    </tr>\n",
              "    <tr>\n",
              "      <th>1016</th>\n",
              "      <td>fec3ed935e56355f5f2db0974d9c2d5d71491260f666e1...</td>\n",
              "      <td>F</td>\n",
              "      <td>white</td>\n",
              "      <td>none</td>\n",
              "      <td>645.80</td>\n",
              "      <td>645.80</td>\n",
              "      <td>5</td>\n",
              "      <td>NaN</td>\n",
              "      <td>0</td>\n",
              "      <td>NaN</td>\n",
              "      <td>NaN</td>\n",
              "      <td>NaN</td>\n",
              "      <td>NaN</td>\n",
              "      <td>0</td>\n",
              "    </tr>\n",
              "    <tr>\n",
              "      <th>1017</th>\n",
              "      <td>ff2f043e920c64a45dc0dec1193399ed06d0c8cf69ad9a...</td>\n",
              "      <td>M</td>\n",
              "      <td>white</td>\n",
              "      <td>other</td>\n",
              "      <td>774.96</td>\n",
              "      <td>694.96</td>\n",
              "      <td>6</td>\n",
              "      <td>NaN</td>\n",
              "      <td>0</td>\n",
              "      <td>NaN</td>\n",
              "      <td>NaN</td>\n",
              "      <td>NaN</td>\n",
              "      <td>NaN</td>\n",
              "      <td>0</td>\n",
              "    </tr>\n",
              "    <tr>\n",
              "      <th>1018</th>\n",
              "      <td>ffb1c9de2fdf99a5ee9f0e960a50a7416df1d2f4ad912c...</td>\n",
              "      <td>F</td>\n",
              "      <td>white</td>\n",
              "      <td>none</td>\n",
              "      <td>645.80</td>\n",
              "      <td>645.80</td>\n",
              "      <td>5</td>\n",
              "      <td>NaN</td>\n",
              "      <td>0</td>\n",
              "      <td>NaN</td>\n",
              "      <td>NaN</td>\n",
              "      <td>NaN</td>\n",
              "      <td>NaN</td>\n",
              "      <td>0</td>\n",
              "    </tr>\n",
              "  </tbody>\n",
              "</table>\n",
              "<p>1019 rows × 14 columns</p>\n",
              "</div>\n",
              "      <button class=\"colab-df-convert\" onclick=\"convertToInteractive('df-a487005e-60ca-4d93-a261-6f85f9fc0a57')\"\n",
              "              title=\"Convert this dataframe to an interactive table.\"\n",
              "              style=\"display:none;\">\n",
              "        \n",
              "  <svg xmlns=\"http://www.w3.org/2000/svg\" height=\"24px\"viewBox=\"0 0 24 24\"\n",
              "       width=\"24px\">\n",
              "    <path d=\"M0 0h24v24H0V0z\" fill=\"none\"/>\n",
              "    <path d=\"M18.56 5.44l.94 2.06.94-2.06 2.06-.94-2.06-.94-.94-2.06-.94 2.06-2.06.94zm-11 1L8.5 8.5l.94-2.06 2.06-.94-2.06-.94L8.5 2.5l-.94 2.06-2.06.94zm10 10l.94 2.06.94-2.06 2.06-.94-2.06-.94-.94-2.06-.94 2.06-2.06.94z\"/><path d=\"M17.41 7.96l-1.37-1.37c-.4-.4-.92-.59-1.43-.59-.52 0-1.04.2-1.43.59L10.3 9.45l-7.72 7.72c-.78.78-.78 2.05 0 2.83L4 21.41c.39.39.9.59 1.41.59.51 0 1.02-.2 1.41-.59l7.78-7.78 2.81-2.81c.8-.78.8-2.07 0-2.86zM5.41 20L4 18.59l7.72-7.72 1.47 1.35L5.41 20z\"/>\n",
              "  </svg>\n",
              "      </button>\n",
              "      \n",
              "  <style>\n",
              "    .colab-df-container {\n",
              "      display:flex;\n",
              "      flex-wrap:wrap;\n",
              "      gap: 12px;\n",
              "    }\n",
              "\n",
              "    .colab-df-convert {\n",
              "      background-color: #E8F0FE;\n",
              "      border: none;\n",
              "      border-radius: 50%;\n",
              "      cursor: pointer;\n",
              "      display: none;\n",
              "      fill: #1967D2;\n",
              "      height: 32px;\n",
              "      padding: 0 0 0 0;\n",
              "      width: 32px;\n",
              "    }\n",
              "\n",
              "    .colab-df-convert:hover {\n",
              "      background-color: #E2EBFA;\n",
              "      box-shadow: 0px 1px 2px rgba(60, 64, 67, 0.3), 0px 1px 3px 1px rgba(60, 64, 67, 0.15);\n",
              "      fill: #174EA6;\n",
              "    }\n",
              "\n",
              "    [theme=dark] .colab-df-convert {\n",
              "      background-color: #3B4455;\n",
              "      fill: #D2E3FC;\n",
              "    }\n",
              "\n",
              "    [theme=dark] .colab-df-convert:hover {\n",
              "      background-color: #434B5C;\n",
              "      box-shadow: 0px 1px 3px 1px rgba(0, 0, 0, 0.15);\n",
              "      filter: drop-shadow(0px 1px 2px rgba(0, 0, 0, 0.3));\n",
              "      fill: #FFFFFF;\n",
              "    }\n",
              "  </style>\n",
              "\n",
              "      <script>\n",
              "        const buttonEl =\n",
              "          document.querySelector('#df-a487005e-60ca-4d93-a261-6f85f9fc0a57 button.colab-df-convert');\n",
              "        buttonEl.style.display =\n",
              "          google.colab.kernel.accessAllowed ? 'block' : 'none';\n",
              "\n",
              "        async function convertToInteractive(key) {\n",
              "          const element = document.querySelector('#df-a487005e-60ca-4d93-a261-6f85f9fc0a57');\n",
              "          const dataTable =\n",
              "            await google.colab.kernel.invokeFunction('convertToInteractive',\n",
              "                                                     [key], {});\n",
              "          if (!dataTable) return;\n",
              "\n",
              "          const docLinkHtml = 'Like what you see? Visit the ' +\n",
              "            '<a target=\"_blank\" href=https://colab.research.google.com/notebooks/data_table.ipynb>data table notebook</a>'\n",
              "            + ' to learn more about interactive tables.';\n",
              "          element.innerHTML = '';\n",
              "          dataTable['output_type'] = 'display_data';\n",
              "          await google.colab.output.renderOutput(dataTable, element);\n",
              "          const docLink = document.createElement('div');\n",
              "          docLink.innerHTML = docLinkHtml;\n",
              "          element.appendChild(docLink);\n",
              "        }\n",
              "      </script>\n",
              "    </div>\n",
              "  </div>\n",
              "  "
            ]
          },
          "metadata": {},
          "execution_count": 50
        }
      ]
    },
    {
      "cell_type": "code",
      "source": [
        "from pandas.util import hash_pandas_object\n",
        "patient_datahashes = hash_pandas_object(patient_data)"
      ],
      "metadata": {
        "id": "8sW0nMaWcxaR"
      },
      "execution_count": 51,
      "outputs": []
    },
    {
      "cell_type": "code",
      "source": [
        "patient_datahashes"
      ],
      "metadata": {
        "colab": {
          "base_uri": "https://localhost:8080/"
        },
        "id": "YBbjIUG1fFRk",
        "outputId": "14170175-5241-4d8a-b5de-cad6830da4b8"
      },
      "execution_count": 52,
      "outputs": [
        {
          "output_type": "execute_result",
          "data": {
            "text/plain": [
              "0        1031340702419302220\n",
              "1        3389104903698370012\n",
              "2        3130740593357858009\n",
              "3         123462711287701953\n",
              "4        5120196878037612616\n",
              "                ...         \n",
              "1014    13021113720697633206\n",
              "1015     9853187893482873974\n",
              "1016     4028893271300274447\n",
              "1017      669931323983601715\n",
              "1018    16032692196489495830\n",
              "Length: 1019, dtype: uint64"
            ]
          },
          "metadata": {},
          "execution_count": 52
        }
      ]
    },
    {
      "cell_type": "code",
      "source": [
        "patient_datahashes.sum()"
      ],
      "metadata": {
        "colab": {
          "base_uri": "https://localhost:8080/"
        },
        "id": "Rg6YsjaRfTKq",
        "outputId": "566181a2-0d65-43b6-ef5c-7f5846d62fe3"
      },
      "execution_count": 53,
      "outputs": [
        {
          "output_type": "execute_result",
          "data": {
            "text/plain": [
              "-6015399502008691898"
            ]
          },
          "metadata": {},
          "execution_count": 53
        }
      ]
    },
    {
      "cell_type": "markdown",
      "source": [
        "# EDA (Explorative Datenanalyse)"
      ],
      "metadata": {
        "id": "fPM9c2V-xYZn"
      }
    },
    {
      "cell_type": "markdown",
      "source": [
        "## Übersicht über Patientenanzahl (rows) und beschreibende Attribute (columns)"
      ],
      "metadata": {
        "id": "9XgUcgqGDg4S"
      }
    },
    {
      "cell_type": "code",
      "source": [
        "patient_data.shape"
      ],
      "metadata": {
        "id": "ioXXjc4uCdGU",
        "colab": {
          "base_uri": "https://localhost:8080/"
        },
        "outputId": "2782fead-08c3-4429-ff80-3dad5796861c"
      },
      "execution_count": 54,
      "outputs": [
        {
          "output_type": "execute_result",
          "data": {
            "text/plain": [
              "(1019, 14)"
            ]
          },
          "metadata": {},
          "execution_count": 54
        }
      ]
    },
    {
      "cell_type": "markdown",
      "source": [
        "## Übersicht über die beschreibenden Attribute (columns)"
      ],
      "metadata": {
        "id": "QM--TnrODp14"
      }
    },
    {
      "cell_type": "code",
      "source": [
        "patient_data.columns"
      ],
      "metadata": {
        "id": "HlcAmfXJClrE",
        "colab": {
          "base_uri": "https://localhost:8080/"
        },
        "outputId": "e028ffd9-c132-49d2-d79d-19a9ec5c5dbc"
      },
      "execution_count": 55,
      "outputs": [
        {
          "output_type": "execute_result",
          "data": {
            "text/plain": [
              "Index(['PATIENT', 'PAT_GENDER', 'PAT_RACE', 'DIAGNOSIS',\n",
              "       'OVERALL_ENC_BASE_COST', 'OVERALL_ENC_PAYER_COVERAGE',\n",
              "       'NUMBER_ENCOUNTERS', 'OVERALL_PRO_BASE_COST', 'NUMBER_PROCEDURES',\n",
              "       'OVERALL_MED_BASE_COST', 'OVERALL_MED_DISPENSES',\n",
              "       'OVERALL_MED_TOTAL_COST', 'OVERALL_MED_PAYER_COVERAGE',\n",
              "       'NUMBER_MEDICATIONS'],\n",
              "      dtype='object')"
            ]
          },
          "metadata": {},
          "execution_count": 55
        }
      ]
    },
    {
      "cell_type": "markdown",
      "source": [
        "## Übersicht über die vorhandenen Datentypen und Anzahl der Nullwerte"
      ],
      "metadata": {
        "id": "UkRFqkqyDwZe"
      }
    },
    {
      "cell_type": "code",
      "source": [
        "patient_data.info()"
      ],
      "metadata": {
        "id": "gN77IKUtCxz-",
        "colab": {
          "base_uri": "https://localhost:8080/"
        },
        "outputId": "4142bd76-e72a-4457-e73e-80a50683f43a"
      },
      "execution_count": 56,
      "outputs": [
        {
          "output_type": "stream",
          "name": "stdout",
          "text": [
            "<class 'pandas.core.frame.DataFrame'>\n",
            "RangeIndex: 1019 entries, 0 to 1018\n",
            "Data columns (total 14 columns):\n",
            " #   Column                      Non-Null Count  Dtype  \n",
            "---  ------                      --------------  -----  \n",
            " 0   PATIENT                     1019 non-null   object \n",
            " 1   PAT_GENDER                  1019 non-null   object \n",
            " 2   PAT_RACE                    1019 non-null   object \n",
            " 3   DIAGNOSIS                   1019 non-null   object \n",
            " 4   OVERALL_ENC_BASE_COST       1019 non-null   float64\n",
            " 5   OVERALL_ENC_PAYER_COVERAGE  1019 non-null   float64\n",
            " 6   NUMBER_ENCOUNTERS           1019 non-null   int64  \n",
            " 7   OVERALL_PRO_BASE_COST       77 non-null     float64\n",
            " 8   NUMBER_PROCEDURES           1019 non-null   int64  \n",
            " 9   OVERALL_MED_BASE_COST       98 non-null     float64\n",
            " 10  OVERALL_MED_DISPENSES       98 non-null     float64\n",
            " 11  OVERALL_MED_TOTAL_COST      98 non-null     float64\n",
            " 12  OVERALL_MED_PAYER_COVERAGE  98 non-null     float64\n",
            " 13  NUMBER_MEDICATIONS          1019 non-null   int64  \n",
            "dtypes: float64(7), int64(3), object(4)\n",
            "memory usage: 111.6+ KB\n"
          ]
        }
      ]
    },
    {
      "cell_type": "markdown",
      "source": [
        "## Erste Übersicht mit beschreibender Statistik (count, mean ...)"
      ],
      "metadata": {
        "id": "_okr_7CcD9ar"
      }
    },
    {
      "cell_type": "code",
      "source": [
        "patient_data.describe()"
      ],
      "metadata": {
        "id": "bulvicWGC7tD",
        "colab": {
          "base_uri": "https://localhost:8080/",
          "height": 364
        },
        "outputId": "7b94a97b-e20f-4af3-ff9e-2c38fb0c8449"
      },
      "execution_count": 57,
      "outputs": [
        {
          "output_type": "execute_result",
          "data": {
            "text/plain": [
              "       OVERALL_ENC_BASE_COST  OVERALL_ENC_PAYER_COVERAGE  NUMBER_ENCOUNTERS  \\\n",
              "count            1019.000000                 1019.000000        1019.000000   \n",
              "mean             1081.317841                  957.650716           8.442591   \n",
              "std               732.908624                  555.148606           6.329166   \n",
              "min               129.160000                    0.000000           1.000000   \n",
              "25%               516.640000                  516.640000           4.000000   \n",
              "50%              1033.280000                 1033.280000           8.000000   \n",
              "75%              1291.600000                 1291.600000          10.000000   \n",
              "max              9247.550000                 4371.220000          92.000000   \n",
              "\n",
              "       OVERALL_PRO_BASE_COST  NUMBER_PROCEDURES  OVERALL_MED_BASE_COST  \\\n",
              "count              77.000000        1019.000000              98.000000   \n",
              "mean           100877.699481           0.732090            3160.850918   \n",
              "std             96865.027773           4.789053           12132.464945   \n",
              "min             18469.030000           0.000000               0.220000   \n",
              "25%             28545.570000           0.000000             179.397500   \n",
              "50%             54337.360000           0.000000             308.440000   \n",
              "75%            166728.780000           0.000000             748.400000   \n",
              "max            381671.210000          73.000000          107598.150000   \n",
              "\n",
              "       OVERALL_MED_DISPENSES  OVERALL_MED_TOTAL_COST  \\\n",
              "count              98.000000               98.000000   \n",
              "mean              407.387755            35769.338673   \n",
              "std               474.410641            46735.025021   \n",
              "min                 1.000000                0.220000   \n",
              "25%                 3.000000             6452.622500   \n",
              "50%               237.500000            14517.060000   \n",
              "75%               652.500000            54573.800000   \n",
              "max              1885.000000           216023.700000   \n",
              "\n",
              "       OVERALL_MED_PAYER_COVERAGE  NUMBER_MEDICATIONS  \n",
              "count                   98.000000         1019.000000  \n",
              "mean                   876.478265            0.419038  \n",
              "std                   2215.893841            1.582713  \n",
              "min                      0.000000            0.000000  \n",
              "25%                      0.000000            0.000000  \n",
              "50%                      0.000000            0.000000  \n",
              "75%                      0.000000            0.000000  \n",
              "max                   6849.250000           19.000000  "
            ],
            "text/html": [
              "\n",
              "  <div id=\"df-48d59be2-3aae-4aa8-87a8-1233efb45135\">\n",
              "    <div class=\"colab-df-container\">\n",
              "      <div>\n",
              "<style scoped>\n",
              "    .dataframe tbody tr th:only-of-type {\n",
              "        vertical-align: middle;\n",
              "    }\n",
              "\n",
              "    .dataframe tbody tr th {\n",
              "        vertical-align: top;\n",
              "    }\n",
              "\n",
              "    .dataframe thead th {\n",
              "        text-align: right;\n",
              "    }\n",
              "</style>\n",
              "<table border=\"1\" class=\"dataframe\">\n",
              "  <thead>\n",
              "    <tr style=\"text-align: right;\">\n",
              "      <th></th>\n",
              "      <th>OVERALL_ENC_BASE_COST</th>\n",
              "      <th>OVERALL_ENC_PAYER_COVERAGE</th>\n",
              "      <th>NUMBER_ENCOUNTERS</th>\n",
              "      <th>OVERALL_PRO_BASE_COST</th>\n",
              "      <th>NUMBER_PROCEDURES</th>\n",
              "      <th>OVERALL_MED_BASE_COST</th>\n",
              "      <th>OVERALL_MED_DISPENSES</th>\n",
              "      <th>OVERALL_MED_TOTAL_COST</th>\n",
              "      <th>OVERALL_MED_PAYER_COVERAGE</th>\n",
              "      <th>NUMBER_MEDICATIONS</th>\n",
              "    </tr>\n",
              "  </thead>\n",
              "  <tbody>\n",
              "    <tr>\n",
              "      <th>count</th>\n",
              "      <td>1019.000000</td>\n",
              "      <td>1019.000000</td>\n",
              "      <td>1019.000000</td>\n",
              "      <td>77.000000</td>\n",
              "      <td>1019.000000</td>\n",
              "      <td>98.000000</td>\n",
              "      <td>98.000000</td>\n",
              "      <td>98.000000</td>\n",
              "      <td>98.000000</td>\n",
              "      <td>1019.000000</td>\n",
              "    </tr>\n",
              "    <tr>\n",
              "      <th>mean</th>\n",
              "      <td>1081.317841</td>\n",
              "      <td>957.650716</td>\n",
              "      <td>8.442591</td>\n",
              "      <td>100877.699481</td>\n",
              "      <td>0.732090</td>\n",
              "      <td>3160.850918</td>\n",
              "      <td>407.387755</td>\n",
              "      <td>35769.338673</td>\n",
              "      <td>876.478265</td>\n",
              "      <td>0.419038</td>\n",
              "    </tr>\n",
              "    <tr>\n",
              "      <th>std</th>\n",
              "      <td>732.908624</td>\n",
              "      <td>555.148606</td>\n",
              "      <td>6.329166</td>\n",
              "      <td>96865.027773</td>\n",
              "      <td>4.789053</td>\n",
              "      <td>12132.464945</td>\n",
              "      <td>474.410641</td>\n",
              "      <td>46735.025021</td>\n",
              "      <td>2215.893841</td>\n",
              "      <td>1.582713</td>\n",
              "    </tr>\n",
              "    <tr>\n",
              "      <th>min</th>\n",
              "      <td>129.160000</td>\n",
              "      <td>0.000000</td>\n",
              "      <td>1.000000</td>\n",
              "      <td>18469.030000</td>\n",
              "      <td>0.000000</td>\n",
              "      <td>0.220000</td>\n",
              "      <td>1.000000</td>\n",
              "      <td>0.220000</td>\n",
              "      <td>0.000000</td>\n",
              "      <td>0.000000</td>\n",
              "    </tr>\n",
              "    <tr>\n",
              "      <th>25%</th>\n",
              "      <td>516.640000</td>\n",
              "      <td>516.640000</td>\n",
              "      <td>4.000000</td>\n",
              "      <td>28545.570000</td>\n",
              "      <td>0.000000</td>\n",
              "      <td>179.397500</td>\n",
              "      <td>3.000000</td>\n",
              "      <td>6452.622500</td>\n",
              "      <td>0.000000</td>\n",
              "      <td>0.000000</td>\n",
              "    </tr>\n",
              "    <tr>\n",
              "      <th>50%</th>\n",
              "      <td>1033.280000</td>\n",
              "      <td>1033.280000</td>\n",
              "      <td>8.000000</td>\n",
              "      <td>54337.360000</td>\n",
              "      <td>0.000000</td>\n",
              "      <td>308.440000</td>\n",
              "      <td>237.500000</td>\n",
              "      <td>14517.060000</td>\n",
              "      <td>0.000000</td>\n",
              "      <td>0.000000</td>\n",
              "    </tr>\n",
              "    <tr>\n",
              "      <th>75%</th>\n",
              "      <td>1291.600000</td>\n",
              "      <td>1291.600000</td>\n",
              "      <td>10.000000</td>\n",
              "      <td>166728.780000</td>\n",
              "      <td>0.000000</td>\n",
              "      <td>748.400000</td>\n",
              "      <td>652.500000</td>\n",
              "      <td>54573.800000</td>\n",
              "      <td>0.000000</td>\n",
              "      <td>0.000000</td>\n",
              "    </tr>\n",
              "    <tr>\n",
              "      <th>max</th>\n",
              "      <td>9247.550000</td>\n",
              "      <td>4371.220000</td>\n",
              "      <td>92.000000</td>\n",
              "      <td>381671.210000</td>\n",
              "      <td>73.000000</td>\n",
              "      <td>107598.150000</td>\n",
              "      <td>1885.000000</td>\n",
              "      <td>216023.700000</td>\n",
              "      <td>6849.250000</td>\n",
              "      <td>19.000000</td>\n",
              "    </tr>\n",
              "  </tbody>\n",
              "</table>\n",
              "</div>\n",
              "      <button class=\"colab-df-convert\" onclick=\"convertToInteractive('df-48d59be2-3aae-4aa8-87a8-1233efb45135')\"\n",
              "              title=\"Convert this dataframe to an interactive table.\"\n",
              "              style=\"display:none;\">\n",
              "        \n",
              "  <svg xmlns=\"http://www.w3.org/2000/svg\" height=\"24px\"viewBox=\"0 0 24 24\"\n",
              "       width=\"24px\">\n",
              "    <path d=\"M0 0h24v24H0V0z\" fill=\"none\"/>\n",
              "    <path d=\"M18.56 5.44l.94 2.06.94-2.06 2.06-.94-2.06-.94-.94-2.06-.94 2.06-2.06.94zm-11 1L8.5 8.5l.94-2.06 2.06-.94-2.06-.94L8.5 2.5l-.94 2.06-2.06.94zm10 10l.94 2.06.94-2.06 2.06-.94-2.06-.94-.94-2.06-.94 2.06-2.06.94z\"/><path d=\"M17.41 7.96l-1.37-1.37c-.4-.4-.92-.59-1.43-.59-.52 0-1.04.2-1.43.59L10.3 9.45l-7.72 7.72c-.78.78-.78 2.05 0 2.83L4 21.41c.39.39.9.59 1.41.59.51 0 1.02-.2 1.41-.59l7.78-7.78 2.81-2.81c.8-.78.8-2.07 0-2.86zM5.41 20L4 18.59l7.72-7.72 1.47 1.35L5.41 20z\"/>\n",
              "  </svg>\n",
              "      </button>\n",
              "      \n",
              "  <style>\n",
              "    .colab-df-container {\n",
              "      display:flex;\n",
              "      flex-wrap:wrap;\n",
              "      gap: 12px;\n",
              "    }\n",
              "\n",
              "    .colab-df-convert {\n",
              "      background-color: #E8F0FE;\n",
              "      border: none;\n",
              "      border-radius: 50%;\n",
              "      cursor: pointer;\n",
              "      display: none;\n",
              "      fill: #1967D2;\n",
              "      height: 32px;\n",
              "      padding: 0 0 0 0;\n",
              "      width: 32px;\n",
              "    }\n",
              "\n",
              "    .colab-df-convert:hover {\n",
              "      background-color: #E2EBFA;\n",
              "      box-shadow: 0px 1px 2px rgba(60, 64, 67, 0.3), 0px 1px 3px 1px rgba(60, 64, 67, 0.15);\n",
              "      fill: #174EA6;\n",
              "    }\n",
              "\n",
              "    [theme=dark] .colab-df-convert {\n",
              "      background-color: #3B4455;\n",
              "      fill: #D2E3FC;\n",
              "    }\n",
              "\n",
              "    [theme=dark] .colab-df-convert:hover {\n",
              "      background-color: #434B5C;\n",
              "      box-shadow: 0px 1px 3px 1px rgba(0, 0, 0, 0.15);\n",
              "      filter: drop-shadow(0px 1px 2px rgba(0, 0, 0, 0.3));\n",
              "      fill: #FFFFFF;\n",
              "    }\n",
              "  </style>\n",
              "\n",
              "      <script>\n",
              "        const buttonEl =\n",
              "          document.querySelector('#df-48d59be2-3aae-4aa8-87a8-1233efb45135 button.colab-df-convert');\n",
              "        buttonEl.style.display =\n",
              "          google.colab.kernel.accessAllowed ? 'block' : 'none';\n",
              "\n",
              "        async function convertToInteractive(key) {\n",
              "          const element = document.querySelector('#df-48d59be2-3aae-4aa8-87a8-1233efb45135');\n",
              "          const dataTable =\n",
              "            await google.colab.kernel.invokeFunction('convertToInteractive',\n",
              "                                                     [key], {});\n",
              "          if (!dataTable) return;\n",
              "\n",
              "          const docLinkHtml = 'Like what you see? Visit the ' +\n",
              "            '<a target=\"_blank\" href=https://colab.research.google.com/notebooks/data_table.ipynb>data table notebook</a>'\n",
              "            + ' to learn more about interactive tables.';\n",
              "          element.innerHTML = '';\n",
              "          dataTable['output_type'] = 'display_data';\n",
              "          await google.colab.output.renderOutput(dataTable, element);\n",
              "          const docLink = document.createElement('div');\n",
              "          docLink.innerHTML = docLinkHtml;\n",
              "          element.appendChild(docLink);\n",
              "        }\n",
              "      </script>\n",
              "    </div>\n",
              "  </div>\n",
              "  "
            ]
          },
          "metadata": {},
          "execution_count": 57
        }
      ]
    },
    {
      "cell_type": "code",
      "source": [
        "patient_data.nunique(axis=0)"
      ],
      "metadata": {
        "id": "DEKmja49DEY_",
        "colab": {
          "base_uri": "https://localhost:8080/"
        },
        "outputId": "cf56ec55-a0b9-41fa-b9ca-9ba7235c1b0b"
      },
      "execution_count": 58,
      "outputs": [
        {
          "output_type": "execute_result",
          "data": {
            "text/plain": [
              "PATIENT                       1019\n",
              "PAT_GENDER                       2\n",
              "PAT_RACE                         5\n",
              "DIAGNOSIS                        3\n",
              "OVERALL_ENC_BASE_COST           27\n",
              "OVERALL_ENC_PAYER_COVERAGE      82\n",
              "NUMBER_ENCOUNTERS               26\n",
              "OVERALL_PRO_BASE_COST           77\n",
              "NUMBER_PROCEDURES               19\n",
              "OVERALL_MED_BASE_COST           98\n",
              "OVERALL_MED_DISPENSES           72\n",
              "OVERALL_MED_TOTAL_COST          98\n",
              "OVERALL_MED_PAYER_COVERAGE      21\n",
              "NUMBER_MEDICATIONS              13\n",
              "dtype: int64"
            ]
          },
          "metadata": {},
          "execution_count": 58
        }
      ]
    },
    {
      "cell_type": "markdown",
      "source": [
        "## Überprüfung auf Duplikate / doppelte Werte"
      ],
      "metadata": {
        "id": "mtl2vNqlCTsZ"
      }
    },
    {
      "cell_type": "code",
      "source": [
        "print(\"Anzahl doppelte Zeilen:\", patient_data.duplicated(patient_data.columns).sum())"
      ],
      "metadata": {
        "id": "-NyxdZ59DVbV",
        "colab": {
          "base_uri": "https://localhost:8080/"
        },
        "outputId": "bc152161-45f1-4b77-9ba6-fbddf1270f00"
      },
      "execution_count": 59,
      "outputs": [
        {
          "output_type": "stream",
          "name": "stdout",
          "text": [
            "Anzahl doppelte Zeilen: 0\n"
          ]
        }
      ]
    },
    {
      "cell_type": "code",
      "source": [
        "# Entfernen von doppelten Werten (erster Wert bleibt bestehen)\n",
        "patient_data.drop_duplicates(keep=\"first\",inplace=True) \n",
        "print(\"Größe des Datensatzes nach dem Entfernen von doppelten Zeilen:\", patient_data.shape)"
      ],
      "metadata": {
        "id": "bQReBDXHDbaW",
        "colab": {
          "base_uri": "https://localhost:8080/"
        },
        "outputId": "91448efa-7a34-4426-aaf8-27b88c05f911"
      },
      "execution_count": 60,
      "outputs": [
        {
          "output_type": "stream",
          "name": "stdout",
          "text": [
            "Größe des Datensatzes nach dem Entfernen von doppelten Zeilen: (1019, 14)\n"
          ]
        }
      ]
    },
    {
      "cell_type": "markdown",
      "source": [
        "## Überprüfung auf Vollständigkeit / gehlende Werte (NULL / NaN)"
      ],
      "metadata": {
        "id": "RfHW4MijGdp5"
      }
    },
    {
      "cell_type": "code",
      "source": [
        "# Anteil von Nicht-NULL-Werten in jeder Spalte\n",
        "patient_data.count()/len(patient_data) * 100"
      ],
      "metadata": {
        "id": "h9BMaWX5DiO8",
        "colab": {
          "base_uri": "https://localhost:8080/"
        },
        "outputId": "f837f551-e734-4e46-c298-0e336e91c43e"
      },
      "execution_count": 61,
      "outputs": [
        {
          "output_type": "execute_result",
          "data": {
            "text/plain": [
              "PATIENT                       100.000000\n",
              "PAT_GENDER                    100.000000\n",
              "PAT_RACE                      100.000000\n",
              "DIAGNOSIS                     100.000000\n",
              "OVERALL_ENC_BASE_COST         100.000000\n",
              "OVERALL_ENC_PAYER_COVERAGE    100.000000\n",
              "NUMBER_ENCOUNTERS             100.000000\n",
              "OVERALL_PRO_BASE_COST           7.556428\n",
              "NUMBER_PROCEDURES             100.000000\n",
              "OVERALL_MED_BASE_COST           9.617272\n",
              "OVERALL_MED_DISPENSES           9.617272\n",
              "OVERALL_MED_TOTAL_COST          9.617272\n",
              "OVERALL_MED_PAYER_COVERAGE      9.617272\n",
              "NUMBER_MEDICATIONS            100.000000\n",
              "dtype: float64"
            ]
          },
          "metadata": {},
          "execution_count": 61
        }
      ]
    },
    {
      "cell_type": "code",
      "source": [
        "# Anzahl NULL-Werte pro Spalte\n",
        "patient_data.isnull().sum()"
      ],
      "metadata": {
        "id": "_9VJ8XC0Gv8p",
        "colab": {
          "base_uri": "https://localhost:8080/"
        },
        "outputId": "d0beea7e-c0f2-41d5-f43d-c813696ab68a"
      },
      "execution_count": 62,
      "outputs": [
        {
          "output_type": "execute_result",
          "data": {
            "text/plain": [
              "PATIENT                         0\n",
              "PAT_GENDER                      0\n",
              "PAT_RACE                        0\n",
              "DIAGNOSIS                       0\n",
              "OVERALL_ENC_BASE_COST           0\n",
              "OVERALL_ENC_PAYER_COVERAGE      0\n",
              "NUMBER_ENCOUNTERS               0\n",
              "OVERALL_PRO_BASE_COST         942\n",
              "NUMBER_PROCEDURES               0\n",
              "OVERALL_MED_BASE_COST         921\n",
              "OVERALL_MED_DISPENSES         921\n",
              "OVERALL_MED_TOTAL_COST        921\n",
              "OVERALL_MED_PAYER_COVERAGE    921\n",
              "NUMBER_MEDICATIONS              0\n",
              "dtype: int64"
            ]
          },
          "metadata": {},
          "execution_count": 62
        }
      ]
    },
    {
      "cell_type": "markdown",
      "source": [
        "# Datenanalyse"
      ],
      "metadata": {
        "id": "eh6A-DQSXigd"
      }
    },
    {
      "cell_type": "code",
      "source": [
        "# Erstellen einer Kopie des patient_data Dataframes für die Analyse\n",
        "df = patient_data.copy()\n",
        "df.head()"
      ],
      "metadata": {
        "id": "tkohhSozYAio",
        "colab": {
          "base_uri": "https://localhost:8080/",
          "height": 270
        },
        "outputId": "b8e52e13-5b0c-4d5d-f9c4-0f5d601d67a3"
      },
      "execution_count": 63,
      "outputs": [
        {
          "output_type": "execute_result",
          "data": {
            "text/plain": [
              "                                             PATIENT PAT_GENDER PAT_RACE  \\\n",
              "0  001a14efaa07e86d7a2bb7750068159e7607eaeb5a508b...          M    asian   \n",
              "1  00330f2d793f5867ff4d96ce37152a9af59eef4d89fb4c...          F    white   \n",
              "2  006658a456067ed4ddea461333b5897988f79f069c04b5...          M    white   \n",
              "3  007c6b726d61f194eda6317b75282fa27d24fa9724974e...          M    white   \n",
              "4  008f7eecb74441ba68cba1b312200e58c5ca5c6c5e883d...          F    white   \n",
              "\n",
              "  DIAGNOSIS  OVERALL_ENC_BASE_COST  OVERALL_ENC_PAYER_COVERAGE  \\\n",
              "0      none                 516.64                      516.64   \n",
              "1      none                 645.80                      645.80   \n",
              "2      none                 774.96                      774.96   \n",
              "3      none                1033.28                     1033.28   \n",
              "4      none                1162.44                     1162.44   \n",
              "\n",
              "   NUMBER_ENCOUNTERS  OVERALL_PRO_BASE_COST  NUMBER_PROCEDURES  \\\n",
              "0                  4                    NaN                  0   \n",
              "1                  5                    NaN                  0   \n",
              "2                  6                    NaN                  0   \n",
              "3                  8                    NaN                  0   \n",
              "4                  9                    NaN                  0   \n",
              "\n",
              "   OVERALL_MED_BASE_COST  OVERALL_MED_DISPENSES  OVERALL_MED_TOTAL_COST  \\\n",
              "0                    NaN                    NaN                     NaN   \n",
              "1                    NaN                    NaN                     NaN   \n",
              "2                    NaN                    NaN                     NaN   \n",
              "3                    NaN                    NaN                     NaN   \n",
              "4                    NaN                    NaN                     NaN   \n",
              "\n",
              "   OVERALL_MED_PAYER_COVERAGE  NUMBER_MEDICATIONS  \n",
              "0                         NaN                   0  \n",
              "1                         NaN                   0  \n",
              "2                         NaN                   0  \n",
              "3                         NaN                   0  \n",
              "4                         NaN                   0  "
            ],
            "text/html": [
              "\n",
              "  <div id=\"df-e0cd582e-783f-4a64-8221-5fbb0390ce9a\">\n",
              "    <div class=\"colab-df-container\">\n",
              "      <div>\n",
              "<style scoped>\n",
              "    .dataframe tbody tr th:only-of-type {\n",
              "        vertical-align: middle;\n",
              "    }\n",
              "\n",
              "    .dataframe tbody tr th {\n",
              "        vertical-align: top;\n",
              "    }\n",
              "\n",
              "    .dataframe thead th {\n",
              "        text-align: right;\n",
              "    }\n",
              "</style>\n",
              "<table border=\"1\" class=\"dataframe\">\n",
              "  <thead>\n",
              "    <tr style=\"text-align: right;\">\n",
              "      <th></th>\n",
              "      <th>PATIENT</th>\n",
              "      <th>PAT_GENDER</th>\n",
              "      <th>PAT_RACE</th>\n",
              "      <th>DIAGNOSIS</th>\n",
              "      <th>OVERALL_ENC_BASE_COST</th>\n",
              "      <th>OVERALL_ENC_PAYER_COVERAGE</th>\n",
              "      <th>NUMBER_ENCOUNTERS</th>\n",
              "      <th>OVERALL_PRO_BASE_COST</th>\n",
              "      <th>NUMBER_PROCEDURES</th>\n",
              "      <th>OVERALL_MED_BASE_COST</th>\n",
              "      <th>OVERALL_MED_DISPENSES</th>\n",
              "      <th>OVERALL_MED_TOTAL_COST</th>\n",
              "      <th>OVERALL_MED_PAYER_COVERAGE</th>\n",
              "      <th>NUMBER_MEDICATIONS</th>\n",
              "    </tr>\n",
              "  </thead>\n",
              "  <tbody>\n",
              "    <tr>\n",
              "      <th>0</th>\n",
              "      <td>001a14efaa07e86d7a2bb7750068159e7607eaeb5a508b...</td>\n",
              "      <td>M</td>\n",
              "      <td>asian</td>\n",
              "      <td>none</td>\n",
              "      <td>516.64</td>\n",
              "      <td>516.64</td>\n",
              "      <td>4</td>\n",
              "      <td>NaN</td>\n",
              "      <td>0</td>\n",
              "      <td>NaN</td>\n",
              "      <td>NaN</td>\n",
              "      <td>NaN</td>\n",
              "      <td>NaN</td>\n",
              "      <td>0</td>\n",
              "    </tr>\n",
              "    <tr>\n",
              "      <th>1</th>\n",
              "      <td>00330f2d793f5867ff4d96ce37152a9af59eef4d89fb4c...</td>\n",
              "      <td>F</td>\n",
              "      <td>white</td>\n",
              "      <td>none</td>\n",
              "      <td>645.80</td>\n",
              "      <td>645.80</td>\n",
              "      <td>5</td>\n",
              "      <td>NaN</td>\n",
              "      <td>0</td>\n",
              "      <td>NaN</td>\n",
              "      <td>NaN</td>\n",
              "      <td>NaN</td>\n",
              "      <td>NaN</td>\n",
              "      <td>0</td>\n",
              "    </tr>\n",
              "    <tr>\n",
              "      <th>2</th>\n",
              "      <td>006658a456067ed4ddea461333b5897988f79f069c04b5...</td>\n",
              "      <td>M</td>\n",
              "      <td>white</td>\n",
              "      <td>none</td>\n",
              "      <td>774.96</td>\n",
              "      <td>774.96</td>\n",
              "      <td>6</td>\n",
              "      <td>NaN</td>\n",
              "      <td>0</td>\n",
              "      <td>NaN</td>\n",
              "      <td>NaN</td>\n",
              "      <td>NaN</td>\n",
              "      <td>NaN</td>\n",
              "      <td>0</td>\n",
              "    </tr>\n",
              "    <tr>\n",
              "      <th>3</th>\n",
              "      <td>007c6b726d61f194eda6317b75282fa27d24fa9724974e...</td>\n",
              "      <td>M</td>\n",
              "      <td>white</td>\n",
              "      <td>none</td>\n",
              "      <td>1033.28</td>\n",
              "      <td>1033.28</td>\n",
              "      <td>8</td>\n",
              "      <td>NaN</td>\n",
              "      <td>0</td>\n",
              "      <td>NaN</td>\n",
              "      <td>NaN</td>\n",
              "      <td>NaN</td>\n",
              "      <td>NaN</td>\n",
              "      <td>0</td>\n",
              "    </tr>\n",
              "    <tr>\n",
              "      <th>4</th>\n",
              "      <td>008f7eecb74441ba68cba1b312200e58c5ca5c6c5e883d...</td>\n",
              "      <td>F</td>\n",
              "      <td>white</td>\n",
              "      <td>none</td>\n",
              "      <td>1162.44</td>\n",
              "      <td>1162.44</td>\n",
              "      <td>9</td>\n",
              "      <td>NaN</td>\n",
              "      <td>0</td>\n",
              "      <td>NaN</td>\n",
              "      <td>NaN</td>\n",
              "      <td>NaN</td>\n",
              "      <td>NaN</td>\n",
              "      <td>0</td>\n",
              "    </tr>\n",
              "  </tbody>\n",
              "</table>\n",
              "</div>\n",
              "      <button class=\"colab-df-convert\" onclick=\"convertToInteractive('df-e0cd582e-783f-4a64-8221-5fbb0390ce9a')\"\n",
              "              title=\"Convert this dataframe to an interactive table.\"\n",
              "              style=\"display:none;\">\n",
              "        \n",
              "  <svg xmlns=\"http://www.w3.org/2000/svg\" height=\"24px\"viewBox=\"0 0 24 24\"\n",
              "       width=\"24px\">\n",
              "    <path d=\"M0 0h24v24H0V0z\" fill=\"none\"/>\n",
              "    <path d=\"M18.56 5.44l.94 2.06.94-2.06 2.06-.94-2.06-.94-.94-2.06-.94 2.06-2.06.94zm-11 1L8.5 8.5l.94-2.06 2.06-.94-2.06-.94L8.5 2.5l-.94 2.06-2.06.94zm10 10l.94 2.06.94-2.06 2.06-.94-2.06-.94-.94-2.06-.94 2.06-2.06.94z\"/><path d=\"M17.41 7.96l-1.37-1.37c-.4-.4-.92-.59-1.43-.59-.52 0-1.04.2-1.43.59L10.3 9.45l-7.72 7.72c-.78.78-.78 2.05 0 2.83L4 21.41c.39.39.9.59 1.41.59.51 0 1.02-.2 1.41-.59l7.78-7.78 2.81-2.81c.8-.78.8-2.07 0-2.86zM5.41 20L4 18.59l7.72-7.72 1.47 1.35L5.41 20z\"/>\n",
              "  </svg>\n",
              "      </button>\n",
              "      \n",
              "  <style>\n",
              "    .colab-df-container {\n",
              "      display:flex;\n",
              "      flex-wrap:wrap;\n",
              "      gap: 12px;\n",
              "    }\n",
              "\n",
              "    .colab-df-convert {\n",
              "      background-color: #E8F0FE;\n",
              "      border: none;\n",
              "      border-radius: 50%;\n",
              "      cursor: pointer;\n",
              "      display: none;\n",
              "      fill: #1967D2;\n",
              "      height: 32px;\n",
              "      padding: 0 0 0 0;\n",
              "      width: 32px;\n",
              "    }\n",
              "\n",
              "    .colab-df-convert:hover {\n",
              "      background-color: #E2EBFA;\n",
              "      box-shadow: 0px 1px 2px rgba(60, 64, 67, 0.3), 0px 1px 3px 1px rgba(60, 64, 67, 0.15);\n",
              "      fill: #174EA6;\n",
              "    }\n",
              "\n",
              "    [theme=dark] .colab-df-convert {\n",
              "      background-color: #3B4455;\n",
              "      fill: #D2E3FC;\n",
              "    }\n",
              "\n",
              "    [theme=dark] .colab-df-convert:hover {\n",
              "      background-color: #434B5C;\n",
              "      box-shadow: 0px 1px 3px 1px rgba(0, 0, 0, 0.15);\n",
              "      filter: drop-shadow(0px 1px 2px rgba(0, 0, 0, 0.3));\n",
              "      fill: #FFFFFF;\n",
              "    }\n",
              "  </style>\n",
              "\n",
              "      <script>\n",
              "        const buttonEl =\n",
              "          document.querySelector('#df-e0cd582e-783f-4a64-8221-5fbb0390ce9a button.colab-df-convert');\n",
              "        buttonEl.style.display =\n",
              "          google.colab.kernel.accessAllowed ? 'block' : 'none';\n",
              "\n",
              "        async function convertToInteractive(key) {\n",
              "          const element = document.querySelector('#df-e0cd582e-783f-4a64-8221-5fbb0390ce9a');\n",
              "          const dataTable =\n",
              "            await google.colab.kernel.invokeFunction('convertToInteractive',\n",
              "                                                     [key], {});\n",
              "          if (!dataTable) return;\n",
              "\n",
              "          const docLinkHtml = 'Like what you see? Visit the ' +\n",
              "            '<a target=\"_blank\" href=https://colab.research.google.com/notebooks/data_table.ipynb>data table notebook</a>'\n",
              "            + ' to learn more about interactive tables.';\n",
              "          element.innerHTML = '';\n",
              "          dataTable['output_type'] = 'display_data';\n",
              "          await google.colab.output.renderOutput(dataTable, element);\n",
              "          const docLink = document.createElement('div');\n",
              "          docLink.innerHTML = docLinkHtml;\n",
              "          element.appendChild(docLink);\n",
              "        }\n",
              "      </script>\n",
              "    </div>\n",
              "  </div>\n",
              "  "
            ]
          },
          "metadata": {},
          "execution_count": 63
        }
      ]
    },
    {
      "cell_type": "markdown",
      "source": [
        "# Überprüfung der Daten mittels Hash-Sum"
      ],
      "metadata": {
        "id": "gHAi26pegE1u"
      }
    },
    {
      "cell_type": "markdown",
      "source": [
        "Value should be: -6015399502008691898"
      ],
      "metadata": {
        "id": "IJ5oo1j9gLgs"
      }
    },
    {
      "cell_type": "code",
      "source": [
        "from pandas.util import hash_pandas_object\n",
        "dfhashes = hash_pandas_object(df)"
      ],
      "metadata": {
        "id": "sYtW_g2YgEiN"
      },
      "execution_count": 64,
      "outputs": []
    },
    {
      "cell_type": "code",
      "source": [
        "dfhashes"
      ],
      "metadata": {
        "colab": {
          "base_uri": "https://localhost:8080/"
        },
        "id": "Wrh_3z3XgDPi",
        "outputId": "826a32c5-542d-45b9-8a04-9110c646e268"
      },
      "execution_count": 65,
      "outputs": [
        {
          "output_type": "execute_result",
          "data": {
            "text/plain": [
              "0        1031340702419302220\n",
              "1        3389104903698370012\n",
              "2        3130740593357858009\n",
              "3         123462711287701953\n",
              "4        5120196878037612616\n",
              "                ...         \n",
              "1014    13021113720697633206\n",
              "1015     9853187893482873974\n",
              "1016     4028893271300274447\n",
              "1017      669931323983601715\n",
              "1018    16032692196489495830\n",
              "Length: 1019, dtype: uint64"
            ]
          },
          "metadata": {},
          "execution_count": 65
        }
      ]
    },
    {
      "cell_type": "code",
      "source": [
        "dfhashes.sum()"
      ],
      "metadata": {
        "colab": {
          "base_uri": "https://localhost:8080/"
        },
        "id": "5s-PsW5egb5y",
        "outputId": "0773433d-de8d-469a-e7a3-e6f6e7f91c4e"
      },
      "execution_count": 66,
      "outputs": [
        {
          "output_type": "execute_result",
          "data": {
            "text/plain": [
              "-6015399502008691898"
            ]
          },
          "metadata": {},
          "execution_count": 66
        }
      ]
    },
    {
      "cell_type": "markdown",
      "source": [
        "Der DataFrame df ist eine identische Kopie des DataFrames patient_data"
      ],
      "metadata": {
        "id": "Tz0K56ttgwah"
      }
    },
    {
      "cell_type": "markdown",
      "source": [
        "## Übersicht über die enthaltenen Patienten"
      ],
      "metadata": {
        "id": "544I_Ej80eV-"
      }
    },
    {
      "cell_type": "markdown",
      "source": [
        "### Anzahl der Patienten pro Diagnosegruppe (breast_cancer, other, none)"
      ],
      "metadata": {
        "id": "I_XxvI8ndlPB"
      }
    },
    {
      "cell_type": "code",
      "source": [
        "# Erstellung eines Säulendiagramms zu den Diagnosen\n",
        "plt_diagnosis = sns.countplot(x=\"DIAGNOSIS\", data=df)\n",
        "\n",
        "# Achsenbeschriftung und Titel ergänzen\n",
        "plt_diagnosis.set(title='Patients by diagnosis group',\n",
        "                  xlabel='Diagnosis group',\n",
        "                  ylabel='Count')\n",
        "\n",
        "# Beschriftung ergänzen\n",
        "plt_diagnosis.bar_label(plt_diagnosis.containers[0], fmt='%.0f', label_type='edge', padding=1)\n",
        "\n",
        "plt.savefig(os.path.join(RESULTS_PATH, \"Plots_EDA\", \"01_patients_by_diagnosis.png\"), dpi=300)"
      ],
      "metadata": {
        "id": "W_UIvyTBdpwX"
      },
      "execution_count": null,
      "outputs": []
    },
    {
      "cell_type": "markdown",
      "source": [
        "Bei den meisten Patienten wurde keine Diagnose gestellt (`none`). Bei 124 Patienten wurde eine Diagnose gestellt, die aber nicht Brustkrebs war (`other`). Nur bei einem Bruchteil der Patienten (n=11) ergab sich die Diagnose Brustkrebs (`breast_cancer`)."
      ],
      "metadata": {
        "id": "zuqT4cAAEjN3"
      }
    },
    {
      "cell_type": "markdown",
      "source": [
        "### Geschlechtsverteilung der Patienten"
      ],
      "metadata": {
        "id": "scjIPebplG_r"
      }
    },
    {
      "cell_type": "code",
      "source": [
        "# Erstellung eines Säulendiagramms für alle Patienten\n",
        "plt_gender = sns.countplot(x=\"PAT_GENDER\", data=df)\n",
        "\n",
        "# Achsenbeschriftung und Titel ergänzen\n",
        "plt_gender.set(title='Patient gender distribution',\n",
        "               xlabel='Patient gender',\n",
        "               ylabel='Count')\n",
        "\n",
        "# Beschriftung ergänzen\n",
        "plt_gender.bar_label(plt_gender.containers[0], fmt='%.0f', label_type='edge', padding=1)\n",
        "\n",
        "plt.savefig(os.path.join(RESULTS_PATH, \"Plots_EDA\", \"02_gender_distribution.png\"), dpi=300)"
      ],
      "metadata": {
        "id": "itzIjCiNaDQy"
      },
      "execution_count": null,
      "outputs": []
    },
    {
      "cell_type": "markdown",
      "source": [
        "Ausgeglichene Anzahl von weiblichen und männlichen Patienten."
      ],
      "metadata": {
        "id": "q5jupg1iEbi6"
      }
    },
    {
      "cell_type": "code",
      "source": [
        "# Erstellung eines Säulendiagramms aufgesplittet nach Diagnose\n",
        "plt_gender_diagnosis = sns.countplot(x=\"PAT_GENDER\", hue=\"DIAGNOSIS\", data=df)\n",
        "\n",
        "# Achsenbeschriftung und Titel ergänzen\n",
        "plt_gender_diagnosis.set(title='Patient gender by diagnosis group',\n",
        "                         xlabel='Patient gender',\n",
        "                         ylabel='Count')\n",
        "\n",
        "for c in plt_gender_diagnosis.containers:\n",
        "    # Beschriftung ergänzen\n",
        "    plt_gender_diagnosis.bar_label(c, fmt='%.0f', label_type='edge', padding=1)\n",
        "\n",
        "plt.savefig(os.path.join(RESULTS_PATH, \"Plots_EDA\", \"03_gender_by_diagnosis.png\"), dpi=300)"
      ],
      "metadata": {
        "id": "tdc4ubufVSX0"
      },
      "execution_count": null,
      "outputs": []
    },
    {
      "cell_type": "markdown",
      "source": [
        "### Ethnischer Hintergrund der Patienten"
      ],
      "metadata": {
        "id": "H0wvp90heIDz"
      }
    },
    {
      "cell_type": "code",
      "source": [
        "# Erstellung eines Säulendiagramms für alle Patienten\n",
        "plt_ethnicity = sns.countplot(x=\"PAT_RACE\", data=df)\n",
        "\n",
        "# Achsenbeschriftung und Titel ergänzen\n",
        "plt_ethnicity.set(title='Patient racial background',\n",
        "                  xlabel='Patient racial background',\n",
        "                  ylabel='Count')\n",
        "\n",
        "# Beschriftung ergänzen\n",
        "plt_ethnicity.bar_label(plt_ethnicity.containers[0], fmt='%.0f', label_type='edge', padding=1)\n",
        "\n",
        "plt.savefig(os.path.join(RESULTS_PATH, \"Plots_EDA\", \"04_ethnicity.png\"), dpi=300)"
      ],
      "metadata": {
        "id": "co3DOUn8eHXZ"
      },
      "execution_count": null,
      "outputs": []
    },
    {
      "cell_type": "markdown",
      "source": [
        "Dieses Säulendiagramm zeigt, dass die meisten Patienten kaukasischer Abstammung waren. Andere Ethnien kamen nur in Ausnahmefällen vor. (Es müsste hier eine Normalisierung stattfinden, d.h. die gesamte Anzahl der Personen unterschiedlicher Ethnien müsste mit dem Patientenklientel verglichen werden.) "
      ],
      "metadata": {
        "id": "P7YD4TxOE13-"
      }
    },
    {
      "cell_type": "code",
      "source": [
        "# Erstellung eines Säulendiagramms aufgesplittet nach Diagnose\n",
        "plt_ethnicity_diagnosis = sns.countplot(x=\"PAT_RACE\", hue=\"DIAGNOSIS\", data=df)\n",
        "\n",
        "# Achsenbeschriftung und Titel ergänzen\n",
        "plt_ethnicity_diagnosis.set(title='Patient racial background by diagnosis group',\n",
        "                            xlabel='Patient racial background',\n",
        "                            ylabel='Count')\n",
        "\n",
        "for c in plt_ethnicity_diagnosis.containers:\n",
        "    # Beschriftung ergänzen\n",
        "    plt_ethnicity_diagnosis.bar_label(c, fmt='%.0f', label_type='edge', padding=1)\n",
        "\n",
        "plt.savefig(os.path.join(RESULTS_PATH, \"Plots_EDA\", \"05_ethnicity_by_diagnosis.png\"), dpi=300)"
      ],
      "metadata": {
        "id": "FZ0OO7vPc87V"
      },
      "execution_count": null,
      "outputs": []
    },
    {
      "cell_type": "markdown",
      "source": [
        "## Analyse der Kosten"
      ],
      "metadata": {
        "id": "Cns84WvYh29y"
      }
    },
    {
      "cell_type": "markdown",
      "source": [
        "### Ausgaben für Medikamente für die unterschiedlichen Diagnosen"
      ],
      "metadata": {
        "id": "tKs4cYvR3UOt"
      }
    },
    {
      "cell_type": "code",
      "source": [
        "# Erstellung eines Scatter Plots für die Gesamtkosten der Medikation nach Diagnose\n",
        "plt_costs_medication = df.plot(kind='scatter', x='DIAGNOSIS', y=('OVERALL_MED_TOTAL_COST'))\n",
        "\n",
        "# Achsenbeschriftung und Titel ergänzen\n",
        "plt_costs_medication.set(title='Costs for medication by diagnosis group',\n",
        "                         xlabel='Diagnosis group',\n",
        "                         ylabel='Total medication cost')\n",
        "\n",
        "plt.savefig(os.path.join(RESULTS_PATH, \"Plots_EDA\", \"06_medication_cost.png\"), dpi=300)"
      ],
      "metadata": {
        "id": "4O8eYcP0hq-5"
      },
      "execution_count": null,
      "outputs": []
    },
    {
      "cell_type": "markdown",
      "source": [
        "Die Analyse der Ausgaben für Medikamente lassen keine Aussagen zu, um welche Diagnose es sich handelt."
      ],
      "metadata": {
        "id": "51_3XyMwFgdd"
      }
    },
    {
      "cell_type": "markdown",
      "source": [
        "### Berechnung der Kosten, die die Patienten mit den verschiedenen Diagnosen selbst tragen müssen."
      ],
      "metadata": {
        "id": "R_BkUfBSFszs"
      }
    },
    {
      "cell_type": "code",
      "source": [
        "# Ersetzen von NaN Werten (bei Patienten ohne Prozeduren / Medikationen) mit 0 um Berechnungen zu ermöglichen\n",
        "df = df.fillna(0)"
      ],
      "metadata": {
        "id": "sAQEm2Dl6NLk"
      },
      "execution_count": null,
      "outputs": []
    },
    {
      "cell_type": "markdown",
      "source": [
        "Hier eine Aufstellung, wieviel die Medikamente insgesamt kosten und welcher Anteil von der Versicherung übernommen wird."
      ],
      "metadata": {
        "id": "T4L-Q_zLF1UX"
      }
    },
    {
      "cell_type": "code",
      "source": [
        "df.groupby('DIAGNOSIS')['OVERALL_MED_TOTAL_COST', 'OVERALL_MED_PAYER_COVERAGE'].mean()"
      ],
      "metadata": {
        "id": "vul-lbJHpJUi"
      },
      "execution_count": null,
      "outputs": []
    },
    {
      "cell_type": "markdown",
      "source": [
        "Hier eine Aufstellung, wieviel die Aufenthalte insgesamt kosten und wieviel von den Versicherungen übernommen wird."
      ],
      "metadata": {
        "id": "_F8GVifXGA8P"
      }
    },
    {
      "cell_type": "code",
      "source": [
        "df.groupby('DIAGNOSIS')['OVERALL_ENC_BASE_COST', 'OVERALL_ENC_PAYER_COVERAGE'].mean()"
      ],
      "metadata": {
        "id": "8NCkjqpgsHWq"
      },
      "execution_count": null,
      "outputs": []
    },
    {
      "cell_type": "markdown",
      "source": [
        "Berechnung der Gesamtkosten, die der Patient selber tragen muss (für Medikamente und Aufenthalte)"
      ],
      "metadata": {
        "id": "XsbFIIQ_GXb1"
      }
    },
    {
      "cell_type": "code",
      "source": [
        "# Ergänzung einer Spalte Patient_Cost mit den Gesamtkosten pro Patient (exklusive der Prozeduren, für die im Datensatz keine Informationen zu Erstattungen vorliegen)\n",
        "df.eval('PATIENT_COST = (OVERALL_ENC_BASE_COST - OVERALL_ENC_PAYER_COVERAGE) + (OVERALL_MED_TOTAL_COST - OVERALL_MED_PAYER_COVERAGE)', inplace = True)\n",
        "# Ergänzung einer Spalte Patient_Cost_Pro mit den Gesamtkosten pro Patient (mit laut Datensatz nicht erstatteten Prozeduren)\n",
        "df.eval('PATIENT_COST_PRO = (OVERALL_ENC_BASE_COST - OVERALL_ENC_PAYER_COVERAGE) + (OVERALL_MED_TOTAL_COST - OVERALL_MED_PAYER_COVERAGE) + OVERALL_PRO_BASE_COST', inplace = True)\n",
        "df.columns"
      ],
      "metadata": {
        "id": "ScIJV--L1F8W"
      },
      "execution_count": null,
      "outputs": []
    },
    {
      "cell_type": "code",
      "source": [
        "# Daten (erweiterte Analysetabelle) in CSV Datei schreiben analysis_processed_data.csv\n",
        "with open(os.path.join(DATA_PATH, \"analysis_processed_data.csv\"), 'w', encoding = 'utf-8') as f:\n",
        "  patient_data.to_csv(f, index=False)"
      ],
      "metadata": {
        "id": "u52xHAyqcqxR"
      },
      "execution_count": null,
      "outputs": []
    },
    {
      "cell_type": "code",
      "source": [
        "# Gruppierung der erweiterten Analysetabelle nach Diagnosegruppe\n",
        "df_grouped = df.groupby('DIAGNOSIS')"
      ],
      "metadata": {
        "id": "GzjRfNT11z3o"
      },
      "execution_count": null,
      "outputs": []
    },
    {
      "cell_type": "code",
      "source": [
        "# Berechnung der durchschnittlichen Kosten / Erstattungen pro Diagnosegruppe\n",
        "df_grouped.mean().fillna(0)"
      ],
      "metadata": {
        "id": "hyl_laPa2gHK"
      },
      "execution_count": null,
      "outputs": []
    },
    {
      "cell_type": "code",
      "source": [
        "# Erstellung eines Dataframes der Gesamtkosten pro Patient und der entsprechenden Diagnosegruppe\n",
        "df_cost = df[['PATIENT_COST', 'DIAGNOSIS']]"
      ],
      "metadata": {
        "id": "BdhzIHg139kz"
      },
      "execution_count": null,
      "outputs": []
    },
    {
      "cell_type": "code",
      "source": [
        "df_cost.head()"
      ],
      "metadata": {
        "id": "m0TKjJHN4Qos"
      },
      "execution_count": null,
      "outputs": []
    },
    {
      "cell_type": "code",
      "source": [
        "# Gruppierung des erstellten Dataframes nach Diagnosegruppe\n",
        "df_cost_grouped = df_cost.groupby('DIAGNOSIS')"
      ],
      "metadata": {
        "id": "XEMokb3n4ya3"
      },
      "execution_count": null,
      "outputs": []
    },
    {
      "cell_type": "code",
      "source": [
        "df_cost_grouped.mean()"
      ],
      "metadata": {
        "id": "p_lFjBrz44gr"
      },
      "execution_count": null,
      "outputs": []
    },
    {
      "cell_type": "code",
      "source": [
        "# Erstellung eines Säulendiagramms der Kosten aufgesplittet nach Diagnose\n",
        "plt_costs_diagnosis = sns.barplot(data=df_cost, x=\"DIAGNOSIS\", y=\"PATIENT_COST\", ci=None)\n",
        "\n",
        "# Achsenbeschriftung und Titel ergänzen\n",
        "plt_costs_diagnosis.set(title='Healthcare costs by diagnosis group (excluding procedures)',\n",
        "                        xlabel='Diagnosis group',\n",
        "                        ylabel='Average cost per patient')\n",
        "\n",
        "plt_costs_diagnosis.bar_label(plt_costs_diagnosis.containers[0], fmt='%.0f', label_type='edge', padding=1)\n",
        "\n",
        "plt.savefig(os.path.join(RESULTS_PATH, \"Plots_EDA\", \"07_healthcare_cost_by_diagnosis.png\"), dpi=300)"
      ],
      "metadata": {
        "id": "rY89G9Zr46KG"
      },
      "execution_count": null,
      "outputs": []
    },
    {
      "cell_type": "markdown",
      "source": [
        "Die Analyse zeigt, dass Patienten mit Brutkrebs im Durchschnitt etwas mehr Kosten selber tragen müssen, als Patienten mit einer anderen Diagnose oder gar keiner Diagnose. Die niedrigen Kosten für Patienten ohne eine gegebene Diagnose sind darauf zurückzuführen, dass diese keine Medikationen verschrieben bekommen haben."
      ],
      "metadata": {
        "id": "aH0iPr9j8ZSJ"
      }
    },
    {
      "cell_type": "code",
      "source": [
        "# Erstellung eines Dataframes der Gesamtkosten pro Patient, inklusive Prozeduren, und der entsprechenden Diagnosegruppe\n",
        "df_cost_pro = df[['PATIENT_COST_PRO', 'DIAGNOSIS']]\n",
        "df_cost_pro.head()"
      ],
      "metadata": {
        "id": "jdKhq8EZ_jq7"
      },
      "execution_count": null,
      "outputs": []
    },
    {
      "cell_type": "code",
      "source": [
        "# Gruppierung des erstellten Dataframes nach Diagnosegruppe\n",
        "df_cost_pro_grouped = df_cost_pro.groupby('DIAGNOSIS')\n",
        "df_cost_pro_grouped.mean()"
      ],
      "metadata": {
        "id": "-4HXzT5m_jq8"
      },
      "execution_count": null,
      "outputs": []
    },
    {
      "cell_type": "code",
      "source": [
        "# Erstellung eines Säulendiagramms der Kosten (inklusive Prozeduren) aufgesplittet nach Diagnose\n",
        "plt_costs_pro_diagnosis = sns.barplot(data=df_cost_pro, x=\"DIAGNOSIS\", y=\"PATIENT_COST_PRO\", ci=None)\n",
        "\n",
        "# Achsenbeschriftung und Titel ergänzen\n",
        "plt_costs_pro_diagnosis.set(title='Healthcare costs by diagnosis group (including procedures)',\n",
        "                            xlabel='Diagnosis group',\n",
        "                            ylabel='Average cost per patient')\n",
        "\n",
        "plt_costs_pro_diagnosis.bar_label(plt_costs_pro_diagnosis.containers[0], fmt='%.0f', label_type='edge', padding=1)\n",
        "\n",
        "plt.savefig(os.path.join(RESULTS_PATH, \"Plots_EDA\", \"08_healthcare_cost_pro_by_diagnosis.png\"), dpi=300)"
      ],
      "metadata": {
        "id": "1xiAgg64_jq8"
      },
      "execution_count": null,
      "outputs": []
    },
    {
      "cell_type": "markdown",
      "source": [
        "Unter Einbeziehung der Kosten für Prozeduren (die aufgrund der fehlenden Informationen zu Erstattungen komplett den Patienten zugeordnet wurden) ergibt sich ein signifikanter Unterschied zwischen Patienten mit Brustkrebs und Patienten mit anderen Diagnosen, mit mer als doppelt so hohen Kosten. "
      ],
      "metadata": {
        "id": "nygVkXNHEFWQ"
      }
    },
    {
      "cell_type": "code",
      "source": [
        "df_encounters = df[['DIAGNOSIS', 'NUMBER_ENCOUNTERS']]"
      ],
      "metadata": {
        "id": "4mrXTGun6yUG"
      },
      "execution_count": null,
      "outputs": []
    },
    {
      "cell_type": "code",
      "source": [
        "df_encounters.head()"
      ],
      "metadata": {
        "id": "RGnotreD7SIO"
      },
      "execution_count": null,
      "outputs": []
    },
    {
      "cell_type": "code",
      "source": [
        "df_encounters_grouped = df_encounters.groupby('DIAGNOSIS')"
      ],
      "metadata": {
        "id": "8C_oPpt8-qmR"
      },
      "execution_count": null,
      "outputs": []
    },
    {
      "cell_type": "code",
      "source": [
        "df_encounters_grouped.mean()"
      ],
      "metadata": {
        "id": "fGmiGQia-6YQ"
      },
      "execution_count": null,
      "outputs": []
    },
    {
      "cell_type": "code",
      "source": [
        "# Erstellung eines Säulendiagramms der Aufenthalte aufgesplittet nach Diagnose\n",
        "plt_encounters_diagnosis = sns.barplot(data=df_encounters, x=\"DIAGNOSIS\", y=\"NUMBER_ENCOUNTERS\", ci=None)\n",
        "\n",
        "plt_encounters_diagnosis.set(title='Healthcare encounters by diagnosis group',\n",
        "                             xlabel='Diagnosis group',\n",
        "                             ylabel='Average number of encountres per patient')\n",
        "\n",
        "plt_encounters_diagnosis.bar_label(plt_encounters_diagnosis.containers[0], fmt='%.0f', label_type='edge', padding=1)\n",
        "\n",
        "plt.savefig(os.path.join(RESULTS_PATH, \"Plots_EDA\", \"09_healthcare_encounters_by_diagnosis.png\"), dpi=300)"
      ],
      "metadata": {
        "id": "rcvkpt5K-8Vd"
      },
      "execution_count": null,
      "outputs": []
    },
    {
      "cell_type": "markdown",
      "source": [
        "Die Analyse zeigt, dass Patienten mit Brustkrebs deutlich öfter den Arzt/ein Krankenhaus aufsuchen als Patienten mit einer anderen oder gar keiner Diagnose."
      ],
      "metadata": {
        "id": "IDuSB8dL8ws3"
      }
    },
    {
      "cell_type": "markdown",
      "source": [
        "## Machine Learning\n",
        "\n",
        "Anhand der Kosten, die für den Patienten entstehen, und der Anzahl der Arztbesuche soll auf die Diagnose der einzelnen Patienten geschlossen werden."
      ],
      "metadata": {
        "id": "vHrzljWhGiQ2"
      }
    },
    {
      "cell_type": "code",
      "source": [
        "df_ml = df[['DIAGNOSIS', 'NUMBER_ENCOUNTERS', 'PATIENT_COST']]"
      ],
      "metadata": {
        "id": "a2kxX8-G_7At"
      },
      "execution_count": null,
      "outputs": []
    },
    {
      "cell_type": "code",
      "source": [
        "df_ml.head()"
      ],
      "metadata": {
        "id": "nMJznr4GAGvw"
      },
      "execution_count": null,
      "outputs": []
    },
    {
      "cell_type": "code",
      "source": [
        "df_ml.groupby('DIAGNOSIS')"
      ],
      "metadata": {
        "id": "IAAMdUalAJ98"
      },
      "execution_count": null,
      "outputs": []
    },
    {
      "cell_type": "code",
      "source": [
        "df_ml.groupby('DIAGNOSIS').head()"
      ],
      "metadata": {
        "id": "LFNVw0B6AOWm"
      },
      "execution_count": null,
      "outputs": []
    },
    {
      "cell_type": "code",
      "source": [
        "# entfernen von NaNs\n",
        "df_rest = df_ml.dropna(axis=0)"
      ],
      "metadata": {
        "id": "1bq6z_VuBsd-"
      },
      "execution_count": null,
      "outputs": []
    },
    {
      "cell_type": "code",
      "source": [
        "df_rest.head()"
      ],
      "metadata": {
        "id": "PZnpgn5DB4-e"
      },
      "execution_count": null,
      "outputs": []
    },
    {
      "cell_type": "markdown",
      "source": [
        "## Aufgrund der geringen Anzahl an vollständigen Datensätzen wird zunächst ein Decision Tree Modell versucht"
      ],
      "metadata": {
        "id": "zrh39L-eG45D"
      }
    },
    {
      "cell_type": "code",
      "source": [
        "# Importing the required packages \n",
        "import numpy as np \n",
        "import pandas as pd \n",
        "from sklearn.metrics import confusion_matrix \n",
        "from sklearn.model_selection import train_test_split \n",
        "from sklearn.tree import DecisionTreeClassifier \n",
        "from sklearn.metrics import accuracy_score \n",
        "from sklearn.metrics import classification_report \n",
        "\n",
        "# Suppress warnings \n",
        "# (sometimes you might want to ignore warnings, that's how you can achieve this)\n",
        "import warnings\n",
        "warnings.filterwarnings('ignore')\n"
      ],
      "metadata": {
        "id": "RnDN0mhHBMCM"
      },
      "execution_count": null,
      "outputs": []
    },
    {
      "cell_type": "code",
      "source": [
        "# Defining X and y\n",
        "features = df_rest.columns.tolist()\n",
        "features.remove('DIAGNOSIS')\n",
        "X = df_rest[features]\n",
        "y = df_rest.DIAGNOSIS\n",
        "\n",
        "# Splitting the dataset\n",
        "X_train, X_test, y_train, y_test = train_test_split(X, y, test_size=0.3, random_state=150, shuffle=True)\n",
        "\n",
        "# Check the shape of the data sets\n",
        "print(\"X_train:\", X_train.shape)\n",
        "print(\"y_train:\", y_train.shape)\n",
        "print(\"X_test:\", X_test.shape)\n",
        "print(\"y_test:\", y_test.shape)"
      ],
      "metadata": {
        "id": "86al2IBnA2uH"
      },
      "execution_count": null,
      "outputs": []
    },
    {
      "cell_type": "markdown",
      "source": [
        "Es stehen 68 vollständige Trainingsdatensätze und 30 vollständige Testdatensätze zur Verfügung.\n",
        "\n",
        "Training eines Decision Trees mit dem gini-Index:"
      ],
      "metadata": {
        "id": "Sq2ufMKnHCr7"
      }
    },
    {
      "cell_type": "code",
      "source": [
        "# Creating the classifier object \n",
        "clf_gini = DecisionTreeClassifier(criterion = \"gini\", \n",
        "            max_depth=3, min_samples_leaf=5) \n",
        "# Performing training \n",
        "clf_gini.fit(X_train, y_train)"
      ],
      "metadata": {
        "id": "nWw-V4f1BZVD"
      },
      "execution_count": null,
      "outputs": []
    },
    {
      "cell_type": "markdown",
      "source": [
        "Vorhersage der Diagnose anhand der Testdaten:"
      ],
      "metadata": {
        "id": "cvVSZr_MNRqQ"
      }
    },
    {
      "cell_type": "code",
      "source": [
        " # Predicton on test with giniIndex \n",
        "y_pred = clf_gini.predict(X_test) \n",
        "print(\"Predicted values:\\n\") \n",
        "print(y_pred)"
      ],
      "metadata": {
        "id": "wjh2Bx95CIYJ"
      },
      "execution_count": null,
      "outputs": []
    },
    {
      "cell_type": "markdown",
      "source": [
        "Darstellung der Konfusionsmatrix und der Accuracy:"
      ],
      "metadata": {
        "id": "nK1ukXv6Hdbo"
      }
    },
    {
      "cell_type": "code",
      "source": [
        "print(\"-----\"*15)\n",
        "print(\"Confusion Matrix: \\n\", \n",
        "confusion_matrix(y_test, y_pred)) \n",
        "\n",
        "print(\"-----\"*15)\n",
        "print (\"Accuracy : \\n\", \n",
        "accuracy_score(y_test,y_pred)*100) \n",
        "    \n",
        "print(\"-----\"*15)\n",
        "print(\"Report : \\n\", \n",
        "classification_report(y_test, y_pred))"
      ],
      "metadata": {
        "id": "5txK7yDBCa0d"
      },
      "execution_count": null,
      "outputs": []
    },
    {
      "cell_type": "markdown",
      "source": [
        "Graphische Darstellung der Konfusionsmatrix:"
      ],
      "metadata": {
        "id": "IoND0OYEHkNm"
      }
    },
    {
      "cell_type": "code",
      "source": [
        "# Evaluate the model with a confusion matrix\n",
        "cm = confusion_matrix(y_test, y_pred)\n",
        "sns.heatmap(cm, cmap='YlGnBu', annot=True, fmt='d', linewidths=.5);"
      ],
      "metadata": {
        "id": "t-OoOHGSDMnf"
      },
      "execution_count": null,
      "outputs": []
    },
    {
      "cell_type": "markdown",
      "source": [
        "Im vorliegenden Modell wurden die Patienten mit Brustkrebs nicht erkannt. Eine Erklärung dafür ist, dass sich alle Patienten mit Brustkrebs im Testset befanden. Da keine Brustkrebs-Patienten im Trainingsset vorhanden waren, konnte das Modell diese Diagnose nicht \"lernen\" und hat sie daher auch nicht erkannt."
      ],
      "metadata": {
        "id": "Oxc9vuNR9RbJ"
      }
    },
    {
      "cell_type": "markdown",
      "source": [
        "## Ein weiterer Machine Learning Ansatz mit Hilfe einer Logistic Regression Analyse"
      ],
      "metadata": {
        "id": "6okDHiVUHpnN"
      }
    },
    {
      "cell_type": "code",
      "source": [
        "# Import libraries\n",
        "import pandas as pd\n",
        "import numpy as np\n",
        "import matplotlib.pyplot as plt\n",
        "import seaborn as sns\n",
        "\n",
        "from sklearn.datasets import load_iris\n",
        "from sklearn.model_selection import train_test_split\n",
        "from sklearn.linear_model import LogisticRegression\n",
        "from sklearn.metrics import confusion_matrix, classification_report, accuracy_score\n",
        "\n",
        "# Set plotting style\n",
        "sns.set_style('whitegrid')\n",
        "plt.rcParams['font.size'] = 14\n",
        "plt.rcParams['figure.figsize'] = (11, 7)"
      ],
      "metadata": {
        "id": "0pRcbbyFC9qK"
      },
      "execution_count": null,
      "outputs": []
    },
    {
      "cell_type": "markdown",
      "source": [
        "Aufteilung in Trainings- und Testdaten sowie Training des Modells\n",
        "Weiterhin graphische Darstellung der Konfusionsmatrix und der Accuracy."
      ],
      "metadata": {
        "id": "5AZkm8m1H92v"
      }
    },
    {
      "cell_type": "code",
      "source": [
        "# Logistic Regression\n",
        "log_reg = LogisticRegression(max_iter=1000)\n",
        "log_reg.fit(X_train, y_train)\n",
        "\n",
        "y_pred_train = log_reg.predict(X_train)\n",
        "y_pred = log_reg.predict(X_test)\n",
        "\n",
        "# Print accuracy of our model\n",
        "print(\"Accuracy on train set:\", round(accuracy_score(y_train, y_pred_train), 2))\n",
        "print(\"Accuracy on test set:\", round(accuracy_score(y_test, y_pred), 2))\n",
        "print(\"--------\"*10)\n",
        "\n",
        "# Print classification report of our model\n",
        "print(classification_report(y_test, y_pred))\n",
        "print(\"--------\"*10)\n",
        "\n",
        "# Evaluate the model with a confusion matrix\n",
        "cm = confusion_matrix(y_test, y_pred)\n",
        "sns.heatmap(cm, cmap='YlGnBu', annot=True, fmt='d', linewidths=.5);"
      ],
      "metadata": {
        "id": "LEUXpWOECsGM"
      },
      "execution_count": null,
      "outputs": []
    },
    {
      "cell_type": "markdown",
      "source": [],
      "metadata": {
        "id": "8BXqLnBs9Zxc"
      }
    },
    {
      "cell_type": "markdown",
      "source": [
        "Mit diesem Ansatz wurden 3 der 4 Brustkrebspatienten erkannt. Das Modell konnte die Diagnose mithilfe des Trainingssets lernen. Die Aufteilung in Trainings- und Testset war in diesem Ansatz ausgeglichener."
      ],
      "metadata": {
        "id": "dkgRp3YU90AU"
      }
    },
    {
      "cell_type": "markdown",
      "source": [
        "Aufgrund der geringen Fallzahlen sind die Ergebnisse dieser Modelle nicht belastbar. Für eine aussagekräftige Analyse ist es notwendig das Patientenkollektiv deutlich zu vergrößern."
      ],
      "metadata": {
        "id": "5xLFSiCN-G2J"
      }
    }
  ]
}