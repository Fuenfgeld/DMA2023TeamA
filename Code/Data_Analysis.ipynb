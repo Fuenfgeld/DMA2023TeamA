{
  "nbformat": 4,
  "nbformat_minor": 0,
  "metadata": {
    "colab": {
      "provenance": []
    },
    "kernelspec": {
      "name": "python3",
      "display_name": "Python 3"
    },
    "language_info": {
      "name": "python"
    }
  },
  "cells": [
    {
      "cell_type": "markdown",
      "source": [
        "# Datenanalyse\n",
        "\n",
        "\n",
        "---\n",
        "\n",
        "Datensatz: [Synthea Breast Cancer Dataset](https://github.com/Fuenfgeld/DMA2023TeamA/tree/main/Daten/Quelldaten)\n",
        "\n",
        "Primär- und Fremdschlüsseldefinitionen: [Synthea GitHub Repository](https://github.com/synthetichealth/synthea/wiki/CSV-File-Data-Dictionary)\n",
        "\n",
        "Projektgruppe GitHub Repository: [DMA2023TeamA](https://github.com/Fuenfgeld/DMA2023TeamA)\n",
        "\n",
        "Source-DB: [GoogleDrive Ablage](https://drive.google.com/drive/folders/1k5cfjGXjNHmwQkydzjTdVHoBvCniBU_W), erstellt mit [Setup_and_fill_Database.ipynb](https://github.com/Fuenfgeld/DMA2023TeamA/blob/main/Code/Setup_and_fill_Database.ipynb)\n",
        "\n",
        "Data Warehouse-Datenbank: [GoogleDrive Ablage](https://drive.google.com/file/d/1l-HcqCezubHnR737DkbiRzdHanP7_g_D), erstellt mit [ETL_process.ipynb](https://github.com/Fuenfgeld/DMA2023TeamA/blob/main/Code/ETL_Process.ipynb)\n"
      ],
      "metadata": {
        "id": "A1UMVTCi1Mvc"
      }
    },
    {
      "cell_type": "markdown",
      "source": [
        "*Version*: 1.0\n",
        "\n",
        "Version Date: 12/02/2023\n",
        "\n",
        "Changes: \n",
        "\n",
        "**0.2**\n",
        "* Erstellung eines Analysedatensatzes aus den aus der DWH-Datenbank extrahierten Daten (Gesamtkosten für Aufenthalte / Prozeduren / Medikationen pro Patient)\n",
        "* Ergänzung Versionsnummern für neue Pakete\n",
        "\n",
        "**1.0**\n",
        "* Explorative Datenanalyse (EDA)\n",
        "* Machine Learning Ansätze\n"
      ],
      "metadata": {
        "id": "kyGzZm9lfe0i"
      }
    },
    {
      "cell_type": "markdown",
      "source": [
        "# Vorbereitung des Notebooks"
      ],
      "metadata": {
        "id": "uDC-NY3jl4dL"
      }
    },
    {
      "cell_type": "code",
      "source": [
        "# Vorsichtshalber: Löschen aller Variablen\n",
        "%reset -f\n",
        "\n",
        "# Laden der benötigten Libraries\n",
        "from google.colab import drive\n",
        "import sqlite3 as sq\n",
        "from sqlite3 import Error\n",
        "import pandas as pd\n",
        "import numpy as np\n",
        "import seaborn as sns\n",
        "import matplotlib\n",
        "from matplotlib import pyplot as plt\n",
        "from pandas_profiling import ProfileReport\n",
        "# will make plot outputs appear and stored within the notebook.\n",
        "%matplotlib inline"
      ],
      "metadata": {
        "id": "seY5T_uZ1pra"
      },
      "execution_count": 1,
      "outputs": []
    },
    {
      "cell_type": "code",
      "source": [
        "# Google Drive mounten, force_remount auf True setzen, damit ein Remount erzwungen wird\n",
        "drive.mount('/content/gdrive/', force_remount=True)\n",
        "\n",
        "# Datenbankordner auf dem Shareddrive checken, es müssen source_breast_cancer.db und DWH_breast_cancer.db vorhanden sein\n",
        "!ls \"/content/gdrive/Shareddrives/DMA_Datenprojekt_TeamA/Daten/Datenbank\"\n",
        "\n",
        "# Patiententyp festlegen\n",
        "patient_type = \"breast_cancer\"\n",
        "\n",
        "# Pfad zur DWH-Datenbank setzen\n",
        "DB_DWH_PATH = \"/content/gdrive/Shareddrives/DMA_Datenprojekt_TeamA/Daten/Datenbank/DWH_breast_cancer.db\"\n",
        "\n",
        "# Pfad zum Analyse-Datensatz setzen\n",
        "DATA_PATH = \"/content/gdrive/Shareddrives/DMA_Datenprojekt_TeamA/Daten/Analyse/\"\n",
        "\n",
        "# Pfad zum Ergebnisordner setzen\n",
        "RESULTS_PATH = \"/content/gdrive/Shareddrives/DMA_Datenprojekt_TeamA/Ergebnisse/\"\n",
        "\n",
        "# Check\n",
        "print(\"\\n\" + DB_DWH_PATH)\n",
        "print(\"\\n\" + DATA_PATH)\n",
        "print(\"\\n\" + RESULTS_PATH)"
      ],
      "metadata": {
        "id": "sSgyiyqNUoCY",
        "colab": {
          "base_uri": "https://localhost:8080/"
        },
        "outputId": "6fdf2ea2-c31f-402d-e274-851c12b5f685"
      },
      "execution_count": 2,
      "outputs": [
        {
          "output_type": "stream",
          "name": "stdout",
          "text": [
            "Mounted at /content/gdrive/\n",
            "DWH_breast_cancer.db  source_breast_cancer.db  TEST_DWH_breast_cancer.db\n",
            "\n",
            "/content/gdrive/Shareddrives/DMA_Datenprojekt_TeamA/Daten/Datenbank/DWH_breast_cancer.db\n",
            "\n",
            "/content/gdrive/Shareddrives/DMA_Datenprojekt_TeamA/Daten/Analyse/\n",
            "\n",
            "/content/gdrive/Shareddrives/DMA_Datenprojekt_TeamA/Ergebnisse/\n"
          ]
        }
      ]
    },
    {
      "cell_type": "markdown",
      "source": [
        "# Versionen der verwendeten Pakete abfragen \n",
        "\n",
        "Die Versionen der verwendeten Python-Installation und der Python-Pakete abfragen. "
      ],
      "metadata": {
        "id": "0CiLSmoxK2EH"
      }
    },
    {
      "cell_type": "code",
      "source": [
        "# Python-Version\n",
        "print(\"Python-Version:\")\n",
        "!python --version\n",
        "\n",
        "# Pandas-Version\n",
        "print(\"\\n\" + \"Pandas-Version:\")\n",
        "print(\"Pandas \" + pd.__version__)\n",
        "\n",
        "# numpy-Version\n",
        "print(\"\\n\" + \"numpy-Version:\")\n",
        "print(\"numpy \" + np.version.version)\n",
        "\n",
        "# sqlite-Version\n",
        "print(\"\\n\" + \"sqlite3-Version:\")\n",
        "print(\"sqlite3 \" + sq.sqlite_version)\n",
        "\n",
        "# Seaborn-Version\n",
        "print(\"\\n\" + \"Seaborn-Version:\")\n",
        "print(\"Seaborn \" + sns.__version__)\n",
        "\n",
        "# Matplotlib-Version\n",
        "print(\"\\n\" + \"Matplotlib-Version:\")\n",
        "print(\"Matplotlib \" + matplotlib.__version__)\n",
        "\n",
        "# sklearn-Version\n",
        "print(\"\\n\" + \"sklearn-Version:\")\n",
        "print(\"sklearn \" + matplotlib.__version__)\n"
      ],
      "metadata": {
        "id": "GefZIi4qLj-n",
        "colab": {
          "base_uri": "https://localhost:8080/"
        },
        "outputId": "b6b56a29-81e9-445a-e1e7-2e019f388a8f"
      },
      "execution_count": 3,
      "outputs": [
        {
          "output_type": "stream",
          "name": "stdout",
          "text": [
            "Python-Version:\n",
            "Python 3.8.10\n",
            "\n",
            "Pandas-Version:\n",
            "Pandas 1.3.5\n",
            "\n",
            "numpy-Version:\n",
            "numpy 1.21.6\n",
            "\n",
            "sqlite3-Version:\n",
            "sqlite3 3.31.1\n",
            "\n",
            "Seaborn-Version:\n",
            "Seaborn 0.11.2\n",
            "\n",
            "Matplotlib-Version:\n",
            "Matplotlib 3.2.2\n",
            "\n",
            "sklearn-Version:\n",
            "sklearn 3.2.2\n"
          ]
        }
      ]
    },
    {
      "cell_type": "markdown",
      "source": [
        "# Extraktion der Daten aus der DWH-Datenbank\n"
      ],
      "metadata": {
        "id": "5M6KhPXEemNu"
      }
    },
    {
      "cell_type": "code",
      "source": [
        "# Datenbankverbindung zum DWH aufbauen\n",
        "dwh_conn = sq.connect(DB_DWH_PATH) \n",
        "if dwh_conn is not None:\n",
        "  dwh_cursor = dwh_conn.cursor()\n",
        "else:\n",
        "  print(\"Verbindung fehlgeschlagen. Bitte überprüfen!\")\n",
        "\n",
        "# Alle Tabellennamen aus der Datenbank ziehen\n",
        "dwh_cursor.execute(\"SELECT name FROM sqlite_master WHERE type='table';\")\n",
        "tablelist = dwh_cursor.fetchall()\n",
        "tablelist"
      ],
      "metadata": {
        "id": "2myoVebU42oM",
        "colab": {
          "base_uri": "https://localhost:8080/"
        },
        "outputId": "c61ff254-9419-4c40-f75b-c5d69c473e0d"
      },
      "execution_count": 4,
      "outputs": [
        {
          "output_type": "execute_result",
          "data": {
            "text/plain": [
              "[('D_payers',),\n",
              " ('D_snomedct',),\n",
              " ('D_rxnorm',),\n",
              " ('D_patients',),\n",
              " ('F_encounter_costs',)]"
            ]
          },
          "metadata": {},
          "execution_count": 4
        }
      ]
    },
    {
      "cell_type": "code",
      "source": [
        "# SQL Abfrage zur Ausleitung der Daten zu den Behandlungskosten\n",
        "extract_costs = \"\"\"SELECT enc.enc_id,\n",
        "                enc.patient,\n",
        "                pat.gender    AS PAT_GENDER,\n",
        "                pat.race      AS PAT_RACE,\n",
        "                enc.enc_payer,\n",
        "                pay.NAME      AS ENC_PAYER_NAME,\n",
        "                enc.enc_base_cost,\n",
        "                enc.enc_total_claim_cost,\n",
        "                enc.enc_payer_coverage,\n",
        "                enc.pro_code,\n",
        "                enc.pro_base_cost,\n",
        "                enc.med_code,\n",
        "                enc.med_base_cost,\n",
        "                enc.med_dispenses,\n",
        "                enc.med_total_cost,\n",
        "                enc.med_payer_coverage,\n",
        "                enc.med_payer,\n",
        "                enc.con_code,\n",
        "                sct.term      AS CON_TERM\n",
        "                FROM  f_encounter_costs AS enc\n",
        "                      JOIN d_patients AS pat\n",
        "                        ON enc.patient = pat.id\n",
        "                      JOIN d_payers AS pay\n",
        "                        ON enc.enc_payer = pay.id\n",
        "                      LEFT JOIN d_snomedct AS sct\n",
        "                        ON enc.con_code = sct.code\n",
        "                ORDER  BY patient, enc.enc_id;\"\"\"\n",
        "data_costs = pd.read_sql(extract_costs, dwh_conn)\n",
        "data_costs.head()"
      ],
      "metadata": {
        "id": "_Gygq5PcjHty",
        "colab": {
          "base_uri": "https://localhost:8080/",
          "height": 531
        },
        "outputId": "aec790eb-740d-4cbf-9ec8-2bbf6c66a606"
      },
      "execution_count": 5,
      "outputs": [
        {
          "output_type": "execute_result",
          "data": {
            "text/plain": [
              "                                 ENC_ID  \\\n",
              "0  30562cc8-620e-d1ce-c4f8-8e7dcd79ad10   \n",
              "1  75a3a902-6209-4fba-2132-1256d7fc5e4a   \n",
              "2  d62b4460-c1db-5a23-958b-f88a3302b4e2   \n",
              "3  e07a9991-4b39-152b-2f3b-5c1facd07f4f   \n",
              "4  3f817b72-6831-9ab3-8b94-e8f6b8a193ea   \n",
              "\n",
              "                                             PATIENT PAT_GENDER PAT_RACE  \\\n",
              "0  001a14efaa07e86d7a2bb7750068159e7607eaeb5a508b...          M    asian   \n",
              "1  001a14efaa07e86d7a2bb7750068159e7607eaeb5a508b...          M    asian   \n",
              "2  001a14efaa07e86d7a2bb7750068159e7607eaeb5a508b...          M    asian   \n",
              "3  001a14efaa07e86d7a2bb7750068159e7607eaeb5a508b...          M    asian   \n",
              "4  00330f2d793f5867ff4d96ce37152a9af59eef4d89fb4c...          F    white   \n",
              "\n",
              "                              ENC_PAYER ENC_PAYER_NAME  ENC_BASE_COST  \\\n",
              "0  7c4411ce-02f1-39b5-b9ec-dfbea9ad3c1a       Medicaid         129.16   \n",
              "1  7c4411ce-02f1-39b5-b9ec-dfbea9ad3c1a       Medicaid         129.16   \n",
              "2  7c4411ce-02f1-39b5-b9ec-dfbea9ad3c1a       Medicaid         129.16   \n",
              "3  7c4411ce-02f1-39b5-b9ec-dfbea9ad3c1a       Medicaid         129.16   \n",
              "4  42c4fca7-f8a9-3cd1-982a-dd9751bf3e2a         Anthem         129.16   \n",
              "\n",
              "   ENC_TOTAL_CLAIM_COST  ENC_PAYER_COVERAGE  PRO_CODE  PRO_BASE_COST  \\\n",
              "0                129.16              129.16       NaN            NaN   \n",
              "1                129.16              129.16       NaN            NaN   \n",
              "2                129.16              129.16       NaN            NaN   \n",
              "3                129.16              129.16       NaN            NaN   \n",
              "4                129.16              129.16       NaN            NaN   \n",
              "\n",
              "   MED_CODE  MED_BASE_COST  MED_DISPENSES  MED_TOTAL_COST  MED_PAYER_COVERAGE  \\\n",
              "0       NaN            NaN            NaN             NaN                 NaN   \n",
              "1       NaN            NaN            NaN             NaN                 NaN   \n",
              "2       NaN            NaN            NaN             NaN                 NaN   \n",
              "3       NaN            NaN            NaN             NaN                 NaN   \n",
              "4       NaN            NaN            NaN             NaN                 NaN   \n",
              "\n",
              "  MED_PAYER  CON_CODE CON_TERM  \n",
              "0      None       NaN     None  \n",
              "1      None       NaN     None  \n",
              "2      None       NaN     None  \n",
              "3      None       NaN     None  \n",
              "4      None       NaN     None  "
            ],
            "text/html": [
              "\n",
              "  <div id=\"df-7ba3ea86-0c0d-4162-b1c5-0de54ba00ae4\">\n",
              "    <div class=\"colab-df-container\">\n",
              "      <div>\n",
              "<style scoped>\n",
              "    .dataframe tbody tr th:only-of-type {\n",
              "        vertical-align: middle;\n",
              "    }\n",
              "\n",
              "    .dataframe tbody tr th {\n",
              "        vertical-align: top;\n",
              "    }\n",
              "\n",
              "    .dataframe thead th {\n",
              "        text-align: right;\n",
              "    }\n",
              "</style>\n",
              "<table border=\"1\" class=\"dataframe\">\n",
              "  <thead>\n",
              "    <tr style=\"text-align: right;\">\n",
              "      <th></th>\n",
              "      <th>ENC_ID</th>\n",
              "      <th>PATIENT</th>\n",
              "      <th>PAT_GENDER</th>\n",
              "      <th>PAT_RACE</th>\n",
              "      <th>ENC_PAYER</th>\n",
              "      <th>ENC_PAYER_NAME</th>\n",
              "      <th>ENC_BASE_COST</th>\n",
              "      <th>ENC_TOTAL_CLAIM_COST</th>\n",
              "      <th>ENC_PAYER_COVERAGE</th>\n",
              "      <th>PRO_CODE</th>\n",
              "      <th>PRO_BASE_COST</th>\n",
              "      <th>MED_CODE</th>\n",
              "      <th>MED_BASE_COST</th>\n",
              "      <th>MED_DISPENSES</th>\n",
              "      <th>MED_TOTAL_COST</th>\n",
              "      <th>MED_PAYER_COVERAGE</th>\n",
              "      <th>MED_PAYER</th>\n",
              "      <th>CON_CODE</th>\n",
              "      <th>CON_TERM</th>\n",
              "    </tr>\n",
              "  </thead>\n",
              "  <tbody>\n",
              "    <tr>\n",
              "      <th>0</th>\n",
              "      <td>30562cc8-620e-d1ce-c4f8-8e7dcd79ad10</td>\n",
              "      <td>001a14efaa07e86d7a2bb7750068159e7607eaeb5a508b...</td>\n",
              "      <td>M</td>\n",
              "      <td>asian</td>\n",
              "      <td>7c4411ce-02f1-39b5-b9ec-dfbea9ad3c1a</td>\n",
              "      <td>Medicaid</td>\n",
              "      <td>129.16</td>\n",
              "      <td>129.16</td>\n",
              "      <td>129.16</td>\n",
              "      <td>NaN</td>\n",
              "      <td>NaN</td>\n",
              "      <td>NaN</td>\n",
              "      <td>NaN</td>\n",
              "      <td>NaN</td>\n",
              "      <td>NaN</td>\n",
              "      <td>NaN</td>\n",
              "      <td>None</td>\n",
              "      <td>NaN</td>\n",
              "      <td>None</td>\n",
              "    </tr>\n",
              "    <tr>\n",
              "      <th>1</th>\n",
              "      <td>75a3a902-6209-4fba-2132-1256d7fc5e4a</td>\n",
              "      <td>001a14efaa07e86d7a2bb7750068159e7607eaeb5a508b...</td>\n",
              "      <td>M</td>\n",
              "      <td>asian</td>\n",
              "      <td>7c4411ce-02f1-39b5-b9ec-dfbea9ad3c1a</td>\n",
              "      <td>Medicaid</td>\n",
              "      <td>129.16</td>\n",
              "      <td>129.16</td>\n",
              "      <td>129.16</td>\n",
              "      <td>NaN</td>\n",
              "      <td>NaN</td>\n",
              "      <td>NaN</td>\n",
              "      <td>NaN</td>\n",
              "      <td>NaN</td>\n",
              "      <td>NaN</td>\n",
              "      <td>NaN</td>\n",
              "      <td>None</td>\n",
              "      <td>NaN</td>\n",
              "      <td>None</td>\n",
              "    </tr>\n",
              "    <tr>\n",
              "      <th>2</th>\n",
              "      <td>d62b4460-c1db-5a23-958b-f88a3302b4e2</td>\n",
              "      <td>001a14efaa07e86d7a2bb7750068159e7607eaeb5a508b...</td>\n",
              "      <td>M</td>\n",
              "      <td>asian</td>\n",
              "      <td>7c4411ce-02f1-39b5-b9ec-dfbea9ad3c1a</td>\n",
              "      <td>Medicaid</td>\n",
              "      <td>129.16</td>\n",
              "      <td>129.16</td>\n",
              "      <td>129.16</td>\n",
              "      <td>NaN</td>\n",
              "      <td>NaN</td>\n",
              "      <td>NaN</td>\n",
              "      <td>NaN</td>\n",
              "      <td>NaN</td>\n",
              "      <td>NaN</td>\n",
              "      <td>NaN</td>\n",
              "      <td>None</td>\n",
              "      <td>NaN</td>\n",
              "      <td>None</td>\n",
              "    </tr>\n",
              "    <tr>\n",
              "      <th>3</th>\n",
              "      <td>e07a9991-4b39-152b-2f3b-5c1facd07f4f</td>\n",
              "      <td>001a14efaa07e86d7a2bb7750068159e7607eaeb5a508b...</td>\n",
              "      <td>M</td>\n",
              "      <td>asian</td>\n",
              "      <td>7c4411ce-02f1-39b5-b9ec-dfbea9ad3c1a</td>\n",
              "      <td>Medicaid</td>\n",
              "      <td>129.16</td>\n",
              "      <td>129.16</td>\n",
              "      <td>129.16</td>\n",
              "      <td>NaN</td>\n",
              "      <td>NaN</td>\n",
              "      <td>NaN</td>\n",
              "      <td>NaN</td>\n",
              "      <td>NaN</td>\n",
              "      <td>NaN</td>\n",
              "      <td>NaN</td>\n",
              "      <td>None</td>\n",
              "      <td>NaN</td>\n",
              "      <td>None</td>\n",
              "    </tr>\n",
              "    <tr>\n",
              "      <th>4</th>\n",
              "      <td>3f817b72-6831-9ab3-8b94-e8f6b8a193ea</td>\n",
              "      <td>00330f2d793f5867ff4d96ce37152a9af59eef4d89fb4c...</td>\n",
              "      <td>F</td>\n",
              "      <td>white</td>\n",
              "      <td>42c4fca7-f8a9-3cd1-982a-dd9751bf3e2a</td>\n",
              "      <td>Anthem</td>\n",
              "      <td>129.16</td>\n",
              "      <td>129.16</td>\n",
              "      <td>129.16</td>\n",
              "      <td>NaN</td>\n",
              "      <td>NaN</td>\n",
              "      <td>NaN</td>\n",
              "      <td>NaN</td>\n",
              "      <td>NaN</td>\n",
              "      <td>NaN</td>\n",
              "      <td>NaN</td>\n",
              "      <td>None</td>\n",
              "      <td>NaN</td>\n",
              "      <td>None</td>\n",
              "    </tr>\n",
              "  </tbody>\n",
              "</table>\n",
              "</div>\n",
              "      <button class=\"colab-df-convert\" onclick=\"convertToInteractive('df-7ba3ea86-0c0d-4162-b1c5-0de54ba00ae4')\"\n",
              "              title=\"Convert this dataframe to an interactive table.\"\n",
              "              style=\"display:none;\">\n",
              "        \n",
              "  <svg xmlns=\"http://www.w3.org/2000/svg\" height=\"24px\"viewBox=\"0 0 24 24\"\n",
              "       width=\"24px\">\n",
              "    <path d=\"M0 0h24v24H0V0z\" fill=\"none\"/>\n",
              "    <path d=\"M18.56 5.44l.94 2.06.94-2.06 2.06-.94-2.06-.94-.94-2.06-.94 2.06-2.06.94zm-11 1L8.5 8.5l.94-2.06 2.06-.94-2.06-.94L8.5 2.5l-.94 2.06-2.06.94zm10 10l.94 2.06.94-2.06 2.06-.94-2.06-.94-.94-2.06-.94 2.06-2.06.94z\"/><path d=\"M17.41 7.96l-1.37-1.37c-.4-.4-.92-.59-1.43-.59-.52 0-1.04.2-1.43.59L10.3 9.45l-7.72 7.72c-.78.78-.78 2.05 0 2.83L4 21.41c.39.39.9.59 1.41.59.51 0 1.02-.2 1.41-.59l7.78-7.78 2.81-2.81c.8-.78.8-2.07 0-2.86zM5.41 20L4 18.59l7.72-7.72 1.47 1.35L5.41 20z\"/>\n",
              "  </svg>\n",
              "      </button>\n",
              "      \n",
              "  <style>\n",
              "    .colab-df-container {\n",
              "      display:flex;\n",
              "      flex-wrap:wrap;\n",
              "      gap: 12px;\n",
              "    }\n",
              "\n",
              "    .colab-df-convert {\n",
              "      background-color: #E8F0FE;\n",
              "      border: none;\n",
              "      border-radius: 50%;\n",
              "      cursor: pointer;\n",
              "      display: none;\n",
              "      fill: #1967D2;\n",
              "      height: 32px;\n",
              "      padding: 0 0 0 0;\n",
              "      width: 32px;\n",
              "    }\n",
              "\n",
              "    .colab-df-convert:hover {\n",
              "      background-color: #E2EBFA;\n",
              "      box-shadow: 0px 1px 2px rgba(60, 64, 67, 0.3), 0px 1px 3px 1px rgba(60, 64, 67, 0.15);\n",
              "      fill: #174EA6;\n",
              "    }\n",
              "\n",
              "    [theme=dark] .colab-df-convert {\n",
              "      background-color: #3B4455;\n",
              "      fill: #D2E3FC;\n",
              "    }\n",
              "\n",
              "    [theme=dark] .colab-df-convert:hover {\n",
              "      background-color: #434B5C;\n",
              "      box-shadow: 0px 1px 3px 1px rgba(0, 0, 0, 0.15);\n",
              "      filter: drop-shadow(0px 1px 2px rgba(0, 0, 0, 0.3));\n",
              "      fill: #FFFFFF;\n",
              "    }\n",
              "  </style>\n",
              "\n",
              "      <script>\n",
              "        const buttonEl =\n",
              "          document.querySelector('#df-7ba3ea86-0c0d-4162-b1c5-0de54ba00ae4 button.colab-df-convert');\n",
              "        buttonEl.style.display =\n",
              "          google.colab.kernel.accessAllowed ? 'block' : 'none';\n",
              "\n",
              "        async function convertToInteractive(key) {\n",
              "          const element = document.querySelector('#df-7ba3ea86-0c0d-4162-b1c5-0de54ba00ae4');\n",
              "          const dataTable =\n",
              "            await google.colab.kernel.invokeFunction('convertToInteractive',\n",
              "                                                     [key], {});\n",
              "          if (!dataTable) return;\n",
              "\n",
              "          const docLinkHtml = 'Like what you see? Visit the ' +\n",
              "            '<a target=\"_blank\" href=https://colab.research.google.com/notebooks/data_table.ipynb>data table notebook</a>'\n",
              "            + ' to learn more about interactive tables.';\n",
              "          element.innerHTML = '';\n",
              "          dataTable['output_type'] = 'display_data';\n",
              "          await google.colab.output.renderOutput(dataTable, element);\n",
              "          const docLink = document.createElement('div');\n",
              "          docLink.innerHTML = docLinkHtml;\n",
              "          element.appendChild(docLink);\n",
              "        }\n",
              "      </script>\n",
              "    </div>\n",
              "  </div>\n",
              "  "
            ]
          },
          "metadata": {},
          "execution_count": 5
        }
      ]
    },
    {
      "cell_type": "code",
      "source": [
        "# SQL Abfrage zur Ausleitung der Diagnosedaten\n",
        "extract_conditions = \"\"\"SELECT enc.patient,\n",
        "                               enc.con_start,\n",
        "                               enc.con_code,\n",
        "                               sct.term\n",
        "                        FROM   f_encounter_costs AS enc\n",
        "                               JOIN d_snomedct AS sct\n",
        "                                 ON enc.con_code = sct.code\n",
        "                        ORDER  BY enc.patient,\n",
        "                                  enc.con_code;\"\"\"\n",
        "# data_conditions = pd.read_sql(extract_conditions, dwh_conn)\n",
        "# data_conditions.head()"
      ],
      "metadata": {
        "id": "LnujU43Mj8tq"
      },
      "execution_count": 6,
      "outputs": []
    },
    {
      "cell_type": "code",
      "source": [
        "# SQL Abfrage zur Ausleitung der Diagnoseart (none = keine, breast_cancer = Brustkrebs, other = andere Diagnose)\n",
        "extract_diagnoses = \"\"\"SELECT pat.id AS patient,\n",
        "                              CASE\n",
        "                                WHEN pat.id IN (SELECT DISTINCT( enc.patient )\n",
        "                                                FROM   f_encounter_costs AS enc\n",
        "                                                WHERE  enc.con_code = \"254837009\") THEN 'breast_cancer'\n",
        "                                WHEN pat.id IN (SELECT DISTINCT( enc.patient )\n",
        "                                                FROM   f_encounter_costs AS enc\n",
        "                                                WHERE  NOT enc.con_code = \"254837009\"\n",
        "                                                        AND enc.con_code IS NOT NULL) THEN 'other'\n",
        "                                ELSE 'none'\n",
        "                              END    AS diagnosis\n",
        "                        FROM   d_patients AS pat;\"\"\"\n",
        "data_diagnoses = pd.read_sql(extract_diagnoses, dwh_conn)\n",
        "data_diagnoses.head()"
      ],
      "metadata": {
        "id": "8EtFTg8qorq2",
        "colab": {
          "base_uri": "https://localhost:8080/",
          "height": 206
        },
        "outputId": "eb4af561-5f3f-4cc7-ee87-26d16028cfc7"
      },
      "execution_count": 7,
      "outputs": [
        {
          "output_type": "execute_result",
          "data": {
            "text/plain": [
              "                                             patient diagnosis\n",
              "0  001a14efaa07e86d7a2bb7750068159e7607eaeb5a508b...      none\n",
              "1  00330f2d793f5867ff4d96ce37152a9af59eef4d89fb4c...      none\n",
              "2  006658a456067ed4ddea461333b5897988f79f069c04b5...      none\n",
              "3  007c6b726d61f194eda6317b75282fa27d24fa9724974e...      none\n",
              "4  008f7eecb74441ba68cba1b312200e58c5ca5c6c5e883d...      none"
            ],
            "text/html": [
              "\n",
              "  <div id=\"df-3f53f267-f19e-4926-bd64-b7fb2771ecd7\">\n",
              "    <div class=\"colab-df-container\">\n",
              "      <div>\n",
              "<style scoped>\n",
              "    .dataframe tbody tr th:only-of-type {\n",
              "        vertical-align: middle;\n",
              "    }\n",
              "\n",
              "    .dataframe tbody tr th {\n",
              "        vertical-align: top;\n",
              "    }\n",
              "\n",
              "    .dataframe thead th {\n",
              "        text-align: right;\n",
              "    }\n",
              "</style>\n",
              "<table border=\"1\" class=\"dataframe\">\n",
              "  <thead>\n",
              "    <tr style=\"text-align: right;\">\n",
              "      <th></th>\n",
              "      <th>patient</th>\n",
              "      <th>diagnosis</th>\n",
              "    </tr>\n",
              "  </thead>\n",
              "  <tbody>\n",
              "    <tr>\n",
              "      <th>0</th>\n",
              "      <td>001a14efaa07e86d7a2bb7750068159e7607eaeb5a508b...</td>\n",
              "      <td>none</td>\n",
              "    </tr>\n",
              "    <tr>\n",
              "      <th>1</th>\n",
              "      <td>00330f2d793f5867ff4d96ce37152a9af59eef4d89fb4c...</td>\n",
              "      <td>none</td>\n",
              "    </tr>\n",
              "    <tr>\n",
              "      <th>2</th>\n",
              "      <td>006658a456067ed4ddea461333b5897988f79f069c04b5...</td>\n",
              "      <td>none</td>\n",
              "    </tr>\n",
              "    <tr>\n",
              "      <th>3</th>\n",
              "      <td>007c6b726d61f194eda6317b75282fa27d24fa9724974e...</td>\n",
              "      <td>none</td>\n",
              "    </tr>\n",
              "    <tr>\n",
              "      <th>4</th>\n",
              "      <td>008f7eecb74441ba68cba1b312200e58c5ca5c6c5e883d...</td>\n",
              "      <td>none</td>\n",
              "    </tr>\n",
              "  </tbody>\n",
              "</table>\n",
              "</div>\n",
              "      <button class=\"colab-df-convert\" onclick=\"convertToInteractive('df-3f53f267-f19e-4926-bd64-b7fb2771ecd7')\"\n",
              "              title=\"Convert this dataframe to an interactive table.\"\n",
              "              style=\"display:none;\">\n",
              "        \n",
              "  <svg xmlns=\"http://www.w3.org/2000/svg\" height=\"24px\"viewBox=\"0 0 24 24\"\n",
              "       width=\"24px\">\n",
              "    <path d=\"M0 0h24v24H0V0z\" fill=\"none\"/>\n",
              "    <path d=\"M18.56 5.44l.94 2.06.94-2.06 2.06-.94-2.06-.94-.94-2.06-.94 2.06-2.06.94zm-11 1L8.5 8.5l.94-2.06 2.06-.94-2.06-.94L8.5 2.5l-.94 2.06-2.06.94zm10 10l.94 2.06.94-2.06 2.06-.94-2.06-.94-.94-2.06-.94 2.06-2.06.94z\"/><path d=\"M17.41 7.96l-1.37-1.37c-.4-.4-.92-.59-1.43-.59-.52 0-1.04.2-1.43.59L10.3 9.45l-7.72 7.72c-.78.78-.78 2.05 0 2.83L4 21.41c.39.39.9.59 1.41.59.51 0 1.02-.2 1.41-.59l7.78-7.78 2.81-2.81c.8-.78.8-2.07 0-2.86zM5.41 20L4 18.59l7.72-7.72 1.47 1.35L5.41 20z\"/>\n",
              "  </svg>\n",
              "      </button>\n",
              "      \n",
              "  <style>\n",
              "    .colab-df-container {\n",
              "      display:flex;\n",
              "      flex-wrap:wrap;\n",
              "      gap: 12px;\n",
              "    }\n",
              "\n",
              "    .colab-df-convert {\n",
              "      background-color: #E8F0FE;\n",
              "      border: none;\n",
              "      border-radius: 50%;\n",
              "      cursor: pointer;\n",
              "      display: none;\n",
              "      fill: #1967D2;\n",
              "      height: 32px;\n",
              "      padding: 0 0 0 0;\n",
              "      width: 32px;\n",
              "    }\n",
              "\n",
              "    .colab-df-convert:hover {\n",
              "      background-color: #E2EBFA;\n",
              "      box-shadow: 0px 1px 2px rgba(60, 64, 67, 0.3), 0px 1px 3px 1px rgba(60, 64, 67, 0.15);\n",
              "      fill: #174EA6;\n",
              "    }\n",
              "\n",
              "    [theme=dark] .colab-df-convert {\n",
              "      background-color: #3B4455;\n",
              "      fill: #D2E3FC;\n",
              "    }\n",
              "\n",
              "    [theme=dark] .colab-df-convert:hover {\n",
              "      background-color: #434B5C;\n",
              "      box-shadow: 0px 1px 3px 1px rgba(0, 0, 0, 0.15);\n",
              "      filter: drop-shadow(0px 1px 2px rgba(0, 0, 0, 0.3));\n",
              "      fill: #FFFFFF;\n",
              "    }\n",
              "  </style>\n",
              "\n",
              "      <script>\n",
              "        const buttonEl =\n",
              "          document.querySelector('#df-3f53f267-f19e-4926-bd64-b7fb2771ecd7 button.colab-df-convert');\n",
              "        buttonEl.style.display =\n",
              "          google.colab.kernel.accessAllowed ? 'block' : 'none';\n",
              "\n",
              "        async function convertToInteractive(key) {\n",
              "          const element = document.querySelector('#df-3f53f267-f19e-4926-bd64-b7fb2771ecd7');\n",
              "          const dataTable =\n",
              "            await google.colab.kernel.invokeFunction('convertToInteractive',\n",
              "                                                     [key], {});\n",
              "          if (!dataTable) return;\n",
              "\n",
              "          const docLinkHtml = 'Like what you see? Visit the ' +\n",
              "            '<a target=\"_blank\" href=https://colab.research.google.com/notebooks/data_table.ipynb>data table notebook</a>'\n",
              "            + ' to learn more about interactive tables.';\n",
              "          element.innerHTML = '';\n",
              "          dataTable['output_type'] = 'display_data';\n",
              "          await google.colab.output.renderOutput(dataTable, element);\n",
              "          const docLink = document.createElement('div');\n",
              "          docLink.innerHTML = docLinkHtml;\n",
              "          element.appendChild(docLink);\n",
              "        }\n",
              "      </script>\n",
              "    </div>\n",
              "  </div>\n",
              "  "
            ]
          },
          "metadata": {},
          "execution_count": 7
        }
      ]
    },
    {
      "cell_type": "code",
      "source": [
        "# Commit und Close\n",
        "dwh_conn.commit()\n",
        "dwh_conn.close()"
      ],
      "metadata": {
        "id": "86L6xaCr6Miz"
      },
      "execution_count": 8,
      "outputs": []
    },
    {
      "cell_type": "markdown",
      "source": [
        "# Erstellung einer Analysetabelle\n",
        "\n",
        "---\n",
        "\n"
      ],
      "metadata": {
        "id": "eOHabB28k3r7"
      }
    },
    {
      "cell_type": "markdown",
      "source": [
        "## Explorative Datenanalyse der aus der DWH-Datenbank erstellten Tabellen"
      ],
      "metadata": {
        "id": "yZVBCX5SHSMi"
      }
    },
    {
      "cell_type": "code",
      "source": [
        "# Überblick über Tabelle data_costs\n",
        "data_costs.info()"
      ],
      "metadata": {
        "id": "Vi5KzqcHmSPR",
        "colab": {
          "base_uri": "https://localhost:8080/"
        },
        "outputId": "4c439c8e-bcf6-4d04-d716-a55897bccd03"
      },
      "execution_count": 9,
      "outputs": [
        {
          "output_type": "stream",
          "name": "stdout",
          "text": [
            "<class 'pandas.core.frame.DataFrame'>\n",
            "RangeIndex: 9329 entries, 0 to 9328\n",
            "Data columns (total 19 columns):\n",
            " #   Column                Non-Null Count  Dtype  \n",
            "---  ------                --------------  -----  \n",
            " 0   ENC_ID                9329 non-null   object \n",
            " 1   PATIENT               9329 non-null   object \n",
            " 2   PAT_GENDER            9329 non-null   object \n",
            " 3   PAT_RACE              9329 non-null   object \n",
            " 4   ENC_PAYER             9329 non-null   object \n",
            " 5   ENC_PAYER_NAME        9329 non-null   object \n",
            " 6   ENC_BASE_COST         9329 non-null   float64\n",
            " 7   ENC_TOTAL_CLAIM_COST  9329 non-null   float64\n",
            " 8   ENC_PAYER_COVERAGE    9329 non-null   float64\n",
            " 9   PRO_CODE              1144 non-null   float64\n",
            " 10  PRO_BASE_COST         1144 non-null   float64\n",
            " 11  MED_CODE              813 non-null    float64\n",
            " 12  MED_BASE_COST         813 non-null    float64\n",
            " 13  MED_DISPENSES         813 non-null    float64\n",
            " 14  MED_TOTAL_COST        813 non-null    float64\n",
            " 15  MED_PAYER_COVERAGE    813 non-null    float64\n",
            " 16  MED_PAYER             813 non-null    object \n",
            " 17  CON_CODE              784 non-null    float64\n",
            " 18  CON_TERM              784 non-null    object \n",
            "dtypes: float64(11), object(8)\n",
            "memory usage: 1.4+ MB\n"
          ]
        }
      ]
    },
    {
      "cell_type": "code",
      "source": [
        "# Anzahl einmaliger Werte pro Spalte in Tabelle data_costs\n",
        "data_costs.nunique(axis=0)"
      ],
      "metadata": {
        "id": "Adp1FYlAvzP6",
        "colab": {
          "base_uri": "https://localhost:8080/"
        },
        "outputId": "375669d5-b5b9-4516-832a-e7cb6ba3f43d"
      },
      "execution_count": 10,
      "outputs": [
        {
          "output_type": "execute_result",
          "data": {
            "text/plain": [
              "ENC_ID                  8603\n",
              "PATIENT                 1019\n",
              "PAT_GENDER                 2\n",
              "PAT_RACE                   5\n",
              "ENC_PAYER                 10\n",
              "ENC_PAYER_NAME            10\n",
              "ENC_BASE_COST              2\n",
              "ENC_TOTAL_CLAIM_COST       2\n",
              "ENC_PAYER_COVERAGE        12\n",
              "PRO_CODE                  26\n",
              "PRO_BASE_COST            662\n",
              "MED_CODE                  21\n",
              "MED_BASE_COST            414\n",
              "MED_DISPENSES             94\n",
              "MED_TOTAL_COST           418\n",
              "MED_PAYER_COVERAGE        37\n",
              "MED_PAYER                 10\n",
              "CON_CODE                   8\n",
              "CON_TERM                   8\n",
              "dtype: int64"
            ]
          },
          "metadata": {},
          "execution_count": 10
        }
      ]
    },
    {
      "cell_type": "code",
      "source": [
        "# Analyse Duplikate in Tabelle data_costs (je nach Kostentyp)\n",
        "print(\"Anzahl doppelte Aufenthalte:\", data_costs.duplicated(subset=[\"PATIENT\", \"ENC_ID\", \"ENC_BASE_COST\", \"ENC_PAYER_COVERAGE\"]).sum())\n",
        "print(\"Anzahl doppelte Prozeduren:\", data_costs.duplicated(subset=[\"PATIENT\", \"ENC_ID\", \"PRO_CODE\", \"PRO_BASE_COST\"]).sum())\n",
        "print(\"Anzahl doppelte Medikationen:\", data_costs.duplicated(subset=[\"PATIENT\", \"ENC_ID\", \"MED_CODE\", \"MED_BASE_COST\", \"MED_DISPENSES\", \"MED_TOTAL_COST\", \"MED_PAYER_COVERAGE\"]).sum())"
      ],
      "metadata": {
        "id": "aoEP8lrRwFZJ",
        "colab": {
          "base_uri": "https://localhost:8080/"
        },
        "outputId": "34042e09-9b37-4a0f-ef9d-4d8ea7af63c2"
      },
      "execution_count": 11,
      "outputs": [
        {
          "output_type": "stream",
          "name": "stdout",
          "text": [
            "Anzahl doppelte Aufenthalte: 726\n",
            "Anzahl doppelte Prozeduren: 554\n",
            "Anzahl doppelte Medikationen: 513\n"
          ]
        }
      ]
    },
    {
      "cell_type": "code",
      "source": [
        "# Überblick über Tabelle data_diagnoses\n",
        "data_diagnoses.info()"
      ],
      "metadata": {
        "id": "N01yU_GPoyX4",
        "colab": {
          "base_uri": "https://localhost:8080/"
        },
        "outputId": "aa01951f-d649-4a49-a95e-7ba1e28d96c2"
      },
      "execution_count": 12,
      "outputs": [
        {
          "output_type": "stream",
          "name": "stdout",
          "text": [
            "<class 'pandas.core.frame.DataFrame'>\n",
            "RangeIndex: 1019 entries, 0 to 1018\n",
            "Data columns (total 2 columns):\n",
            " #   Column     Non-Null Count  Dtype \n",
            "---  ------     --------------  ----- \n",
            " 0   patient    1019 non-null   object\n",
            " 1   diagnosis  1019 non-null   object\n",
            "dtypes: object(2)\n",
            "memory usage: 16.0+ KB\n"
          ]
        }
      ]
    },
    {
      "cell_type": "code",
      "source": [
        "# Anzahl einmaliger Werte pro Spalte in Tabelle data_diagnoses\n",
        "data_diagnoses.nunique(axis=0)"
      ],
      "metadata": {
        "id": "iYye7ONH6B0N",
        "colab": {
          "base_uri": "https://localhost:8080/"
        },
        "outputId": "c1bab18f-ebca-4101-fa90-17f5d2995381"
      },
      "execution_count": 13,
      "outputs": [
        {
          "output_type": "execute_result",
          "data": {
            "text/plain": [
              "patient      1019\n",
              "diagnosis       3\n",
              "dtype: int64"
            ]
          },
          "metadata": {},
          "execution_count": 13
        }
      ]
    },
    {
      "cell_type": "code",
      "source": [
        "# Analyse Duplikate in Tabelle data_diagnoses\n",
        "print(\"Anzahl doppelte Patienten:\", data_costs.duplicated().sum())"
      ],
      "metadata": {
        "id": "bDTroK3C6FXO",
        "colab": {
          "base_uri": "https://localhost:8080/"
        },
        "outputId": "7daaec8c-ee5b-4aab-dffe-6827d2e4e641"
      },
      "execution_count": 14,
      "outputs": [
        {
          "output_type": "stream",
          "name": "stdout",
          "text": [
            "Anzahl doppelte Patienten: 0\n"
          ]
        }
      ]
    },
    {
      "cell_type": "markdown",
      "source": [
        "## Erstellung Tabelle mit Gesamtkosten für Aufenthalte pro Patient"
      ],
      "metadata": {
        "id": "H7wF9qd6o_OI"
      }
    },
    {
      "cell_type": "code",
      "source": [
        "# Erstellung Subset mit Kostendaten zu Aufenthalten\n",
        "data_encounters = data_costs[[\"PATIENT\", \"ENC_ID\", \"ENC_BASE_COST\", \"ENC_PAYER_COVERAGE\"]]\n",
        "data_encounters.shape"
      ],
      "metadata": {
        "id": "zp3WV0MEpDID",
        "colab": {
          "base_uri": "https://localhost:8080/"
        },
        "outputId": "bc1fb722-5def-46e7-d408-542c4a3473e6"
      },
      "execution_count": 15,
      "outputs": [
        {
          "output_type": "execute_result",
          "data": {
            "text/plain": [
              "(9329, 4)"
            ]
          },
          "metadata": {},
          "execution_count": 15
        }
      ]
    },
    {
      "cell_type": "code",
      "source": [
        "# Entfernen von Duplikaten (gleicher Patient, gleicher Aufenthalt, gleiche Kosten)\n",
        "data_encounters_nodups = data_encounters.drop_duplicates()\n",
        "data_encounters_nodups.shape\n",
        "print(len(data_encounters) - len(data_encounters_nodups), \"Duplikate entfernt.\")"
      ],
      "metadata": {
        "id": "0EFhu6ATqShQ",
        "colab": {
          "base_uri": "https://localhost:8080/"
        },
        "outputId": "254649d7-8a1a-4fed-8741-7faf3e2050e8"
      },
      "execution_count": 16,
      "outputs": [
        {
          "output_type": "stream",
          "name": "stdout",
          "text": [
            "726 Duplikate entfernt.\n"
          ]
        }
      ]
    },
    {
      "cell_type": "code",
      "source": [
        "# Gruppierung nach Patienten, Aufsummierung der Kosten\n",
        "data_encounters_grouped = data_encounters_nodups.groupby(by=\"PATIENT\")\n",
        "data_encounters_final = data_encounters_grouped[[\"ENC_BASE_COST\", \"ENC_PAYER_COVERAGE\"]].sum()\n",
        "data_encounters_final.rename(columns={\"ENC_BASE_COST\": \"OVERALL_ENC_BASE_COST\", \n",
        "                                        \"ENC_PAYER_COVERAGE\": \"OVERALL_ENC_PAYER_COVERAGE\"}, inplace=True)\n",
        "data_encounters_final[\"NUMBER_ENCOUNTERS\"] = data_encounters_grouped.size()\n",
        "data_encounters_final.shape"
      ],
      "metadata": {
        "id": "b5s60Ff1rStw",
        "colab": {
          "base_uri": "https://localhost:8080/"
        },
        "outputId": "f4ea2209-1a83-465d-c91d-e61a25a9e1f6"
      },
      "execution_count": 17,
      "outputs": [
        {
          "output_type": "execute_result",
          "data": {
            "text/plain": [
              "(1019, 3)"
            ]
          },
          "metadata": {},
          "execution_count": 17
        }
      ]
    },
    {
      "cell_type": "code",
      "source": [
        "data_encounters_final"
      ],
      "metadata": {
        "id": "A7OYJ1FvslBZ",
        "colab": {
          "base_uri": "https://localhost:8080/",
          "height": 455
        },
        "outputId": "42877398-2c23-4ff3-fc08-59bb90ac3496"
      },
      "execution_count": 18,
      "outputs": [
        {
          "output_type": "execute_result",
          "data": {
            "text/plain": [
              "                                                    OVERALL_ENC_BASE_COST  \\\n",
              "PATIENT                                                                     \n",
              "001a14efaa07e86d7a2bb7750068159e7607eaeb5a508bd...                 516.64   \n",
              "00330f2d793f5867ff4d96ce37152a9af59eef4d89fb4c7...                 645.80   \n",
              "006658a456067ed4ddea461333b5897988f79f069c04b55...                 774.96   \n",
              "007c6b726d61f194eda6317b75282fa27d24fa9724974e9...                1033.28   \n",
              "008f7eecb74441ba68cba1b312200e58c5ca5c6c5e883de...                1162.44   \n",
              "...                                                                   ...   \n",
              "fe2ed8039068a7b06c5ff0de68dba8f93fe74c3d363349d...                 387.48   \n",
              "fec080b434ffd9fed52a83d46f690706683fa822b1fc1f1...                1162.44   \n",
              "fec3ed935e56355f5f2db0974d9c2d5d71491260f666e17...                 645.80   \n",
              "ff2f043e920c64a45dc0dec1193399ed06d0c8cf69ad9ac...                 774.96   \n",
              "ffb1c9de2fdf99a5ee9f0e960a50a7416df1d2f4ad912c4...                 645.80   \n",
              "\n",
              "                                                    OVERALL_ENC_PAYER_COVERAGE  \\\n",
              "PATIENT                                                                          \n",
              "001a14efaa07e86d7a2bb7750068159e7607eaeb5a508bd...                      516.64   \n",
              "00330f2d793f5867ff4d96ce37152a9af59eef4d89fb4c7...                      645.80   \n",
              "006658a456067ed4ddea461333b5897988f79f069c04b55...                      774.96   \n",
              "007c6b726d61f194eda6317b75282fa27d24fa9724974e9...                     1033.28   \n",
              "008f7eecb74441ba68cba1b312200e58c5ca5c6c5e883de...                     1162.44   \n",
              "...                                                                        ...   \n",
              "fe2ed8039068a7b06c5ff0de68dba8f93fe74c3d363349d...                      387.48   \n",
              "fec080b434ffd9fed52a83d46f690706683fa822b1fc1f1...                        0.00   \n",
              "fec3ed935e56355f5f2db0974d9c2d5d71491260f666e17...                      645.80   \n",
              "ff2f043e920c64a45dc0dec1193399ed06d0c8cf69ad9ac...                      694.96   \n",
              "ffb1c9de2fdf99a5ee9f0e960a50a7416df1d2f4ad912c4...                      645.80   \n",
              "\n",
              "                                                    NUMBER_ENCOUNTERS  \n",
              "PATIENT                                                                \n",
              "001a14efaa07e86d7a2bb7750068159e7607eaeb5a508bd...                  4  \n",
              "00330f2d793f5867ff4d96ce37152a9af59eef4d89fb4c7...                  5  \n",
              "006658a456067ed4ddea461333b5897988f79f069c04b55...                  6  \n",
              "007c6b726d61f194eda6317b75282fa27d24fa9724974e9...                  8  \n",
              "008f7eecb74441ba68cba1b312200e58c5ca5c6c5e883de...                  9  \n",
              "...                                                               ...  \n",
              "fe2ed8039068a7b06c5ff0de68dba8f93fe74c3d363349d...                  3  \n",
              "fec080b434ffd9fed52a83d46f690706683fa822b1fc1f1...                  9  \n",
              "fec3ed935e56355f5f2db0974d9c2d5d71491260f666e17...                  5  \n",
              "ff2f043e920c64a45dc0dec1193399ed06d0c8cf69ad9ac...                  6  \n",
              "ffb1c9de2fdf99a5ee9f0e960a50a7416df1d2f4ad912c4...                  5  \n",
              "\n",
              "[1019 rows x 3 columns]"
            ],
            "text/html": [
              "\n",
              "  <div id=\"df-4e678531-71fc-45aa-89ef-69226b42f326\">\n",
              "    <div class=\"colab-df-container\">\n",
              "      <div>\n",
              "<style scoped>\n",
              "    .dataframe tbody tr th:only-of-type {\n",
              "        vertical-align: middle;\n",
              "    }\n",
              "\n",
              "    .dataframe tbody tr th {\n",
              "        vertical-align: top;\n",
              "    }\n",
              "\n",
              "    .dataframe thead th {\n",
              "        text-align: right;\n",
              "    }\n",
              "</style>\n",
              "<table border=\"1\" class=\"dataframe\">\n",
              "  <thead>\n",
              "    <tr style=\"text-align: right;\">\n",
              "      <th></th>\n",
              "      <th>OVERALL_ENC_BASE_COST</th>\n",
              "      <th>OVERALL_ENC_PAYER_COVERAGE</th>\n",
              "      <th>NUMBER_ENCOUNTERS</th>\n",
              "    </tr>\n",
              "    <tr>\n",
              "      <th>PATIENT</th>\n",
              "      <th></th>\n",
              "      <th></th>\n",
              "      <th></th>\n",
              "    </tr>\n",
              "  </thead>\n",
              "  <tbody>\n",
              "    <tr>\n",
              "      <th>001a14efaa07e86d7a2bb7750068159e7607eaeb5a508bdb9d64044653af2cc3</th>\n",
              "      <td>516.64</td>\n",
              "      <td>516.64</td>\n",
              "      <td>4</td>\n",
              "    </tr>\n",
              "    <tr>\n",
              "      <th>00330f2d793f5867ff4d96ce37152a9af59eef4d89fb4c7e9b295d6f59fcf53f</th>\n",
              "      <td>645.80</td>\n",
              "      <td>645.80</td>\n",
              "      <td>5</td>\n",
              "    </tr>\n",
              "    <tr>\n",
              "      <th>006658a456067ed4ddea461333b5897988f79f069c04b55924c54f8dbfc62abd</th>\n",
              "      <td>774.96</td>\n",
              "      <td>774.96</td>\n",
              "      <td>6</td>\n",
              "    </tr>\n",
              "    <tr>\n",
              "      <th>007c6b726d61f194eda6317b75282fa27d24fa9724974e92e6b6b0b0d08028f5</th>\n",
              "      <td>1033.28</td>\n",
              "      <td>1033.28</td>\n",
              "      <td>8</td>\n",
              "    </tr>\n",
              "    <tr>\n",
              "      <th>008f7eecb74441ba68cba1b312200e58c5ca5c6c5e883ded7d98bcf71f52cd4e</th>\n",
              "      <td>1162.44</td>\n",
              "      <td>1162.44</td>\n",
              "      <td>9</td>\n",
              "    </tr>\n",
              "    <tr>\n",
              "      <th>...</th>\n",
              "      <td>...</td>\n",
              "      <td>...</td>\n",
              "      <td>...</td>\n",
              "    </tr>\n",
              "    <tr>\n",
              "      <th>fe2ed8039068a7b06c5ff0de68dba8f93fe74c3d363349de74d1945c8b99b170</th>\n",
              "      <td>387.48</td>\n",
              "      <td>387.48</td>\n",
              "      <td>3</td>\n",
              "    </tr>\n",
              "    <tr>\n",
              "      <th>fec080b434ffd9fed52a83d46f690706683fa822b1fc1f1984c816e37c130d7c</th>\n",
              "      <td>1162.44</td>\n",
              "      <td>0.00</td>\n",
              "      <td>9</td>\n",
              "    </tr>\n",
              "    <tr>\n",
              "      <th>fec3ed935e56355f5f2db0974d9c2d5d71491260f666e1721626303ae3a74913</th>\n",
              "      <td>645.80</td>\n",
              "      <td>645.80</td>\n",
              "      <td>5</td>\n",
              "    </tr>\n",
              "    <tr>\n",
              "      <th>ff2f043e920c64a45dc0dec1193399ed06d0c8cf69ad9ac88f84301237fb5557</th>\n",
              "      <td>774.96</td>\n",
              "      <td>694.96</td>\n",
              "      <td>6</td>\n",
              "    </tr>\n",
              "    <tr>\n",
              "      <th>ffb1c9de2fdf99a5ee9f0e960a50a7416df1d2f4ad912c4078050e309a11266f</th>\n",
              "      <td>645.80</td>\n",
              "      <td>645.80</td>\n",
              "      <td>5</td>\n",
              "    </tr>\n",
              "  </tbody>\n",
              "</table>\n",
              "<p>1019 rows × 3 columns</p>\n",
              "</div>\n",
              "      <button class=\"colab-df-convert\" onclick=\"convertToInteractive('df-4e678531-71fc-45aa-89ef-69226b42f326')\"\n",
              "              title=\"Convert this dataframe to an interactive table.\"\n",
              "              style=\"display:none;\">\n",
              "        \n",
              "  <svg xmlns=\"http://www.w3.org/2000/svg\" height=\"24px\"viewBox=\"0 0 24 24\"\n",
              "       width=\"24px\">\n",
              "    <path d=\"M0 0h24v24H0V0z\" fill=\"none\"/>\n",
              "    <path d=\"M18.56 5.44l.94 2.06.94-2.06 2.06-.94-2.06-.94-.94-2.06-.94 2.06-2.06.94zm-11 1L8.5 8.5l.94-2.06 2.06-.94-2.06-.94L8.5 2.5l-.94 2.06-2.06.94zm10 10l.94 2.06.94-2.06 2.06-.94-2.06-.94-.94-2.06-.94 2.06-2.06.94z\"/><path d=\"M17.41 7.96l-1.37-1.37c-.4-.4-.92-.59-1.43-.59-.52 0-1.04.2-1.43.59L10.3 9.45l-7.72 7.72c-.78.78-.78 2.05 0 2.83L4 21.41c.39.39.9.59 1.41.59.51 0 1.02-.2 1.41-.59l7.78-7.78 2.81-2.81c.8-.78.8-2.07 0-2.86zM5.41 20L4 18.59l7.72-7.72 1.47 1.35L5.41 20z\"/>\n",
              "  </svg>\n",
              "      </button>\n",
              "      \n",
              "  <style>\n",
              "    .colab-df-container {\n",
              "      display:flex;\n",
              "      flex-wrap:wrap;\n",
              "      gap: 12px;\n",
              "    }\n",
              "\n",
              "    .colab-df-convert {\n",
              "      background-color: #E8F0FE;\n",
              "      border: none;\n",
              "      border-radius: 50%;\n",
              "      cursor: pointer;\n",
              "      display: none;\n",
              "      fill: #1967D2;\n",
              "      height: 32px;\n",
              "      padding: 0 0 0 0;\n",
              "      width: 32px;\n",
              "    }\n",
              "\n",
              "    .colab-df-convert:hover {\n",
              "      background-color: #E2EBFA;\n",
              "      box-shadow: 0px 1px 2px rgba(60, 64, 67, 0.3), 0px 1px 3px 1px rgba(60, 64, 67, 0.15);\n",
              "      fill: #174EA6;\n",
              "    }\n",
              "\n",
              "    [theme=dark] .colab-df-convert {\n",
              "      background-color: #3B4455;\n",
              "      fill: #D2E3FC;\n",
              "    }\n",
              "\n",
              "    [theme=dark] .colab-df-convert:hover {\n",
              "      background-color: #434B5C;\n",
              "      box-shadow: 0px 1px 3px 1px rgba(0, 0, 0, 0.15);\n",
              "      filter: drop-shadow(0px 1px 2px rgba(0, 0, 0, 0.3));\n",
              "      fill: #FFFFFF;\n",
              "    }\n",
              "  </style>\n",
              "\n",
              "      <script>\n",
              "        const buttonEl =\n",
              "          document.querySelector('#df-4e678531-71fc-45aa-89ef-69226b42f326 button.colab-df-convert');\n",
              "        buttonEl.style.display =\n",
              "          google.colab.kernel.accessAllowed ? 'block' : 'none';\n",
              "\n",
              "        async function convertToInteractive(key) {\n",
              "          const element = document.querySelector('#df-4e678531-71fc-45aa-89ef-69226b42f326');\n",
              "          const dataTable =\n",
              "            await google.colab.kernel.invokeFunction('convertToInteractive',\n",
              "                                                     [key], {});\n",
              "          if (!dataTable) return;\n",
              "\n",
              "          const docLinkHtml = 'Like what you see? Visit the ' +\n",
              "            '<a target=\"_blank\" href=https://colab.research.google.com/notebooks/data_table.ipynb>data table notebook</a>'\n",
              "            + ' to learn more about interactive tables.';\n",
              "          element.innerHTML = '';\n",
              "          dataTable['output_type'] = 'display_data';\n",
              "          await google.colab.output.renderOutput(dataTable, element);\n",
              "          const docLink = document.createElement('div');\n",
              "          docLink.innerHTML = docLinkHtml;\n",
              "          element.appendChild(docLink);\n",
              "        }\n",
              "      </script>\n",
              "    </div>\n",
              "  </div>\n",
              "  "
            ]
          },
          "metadata": {},
          "execution_count": 18
        }
      ]
    },
    {
      "cell_type": "markdown",
      "source": [
        "## Erstellung Tabelle mit Gesamtkosten für Prozeduren pro Patient"
      ],
      "metadata": {
        "id": "ualvm323tTVp"
      }
    },
    {
      "cell_type": "code",
      "source": [
        "# Erstellung Subset mit Kostendaten zu Prozeduren\n",
        "data_procedures = data_costs[[\"PATIENT\", \"ENC_ID\", \"PRO_CODE\", \"PRO_BASE_COST\"]]\n",
        "data_procedures.shape"
      ],
      "metadata": {
        "id": "-NWQUBeWtls-",
        "colab": {
          "base_uri": "https://localhost:8080/"
        },
        "outputId": "bac83bda-a2f4-451a-ba8a-b341d422b640"
      },
      "execution_count": 19,
      "outputs": [
        {
          "output_type": "execute_result",
          "data": {
            "text/plain": [
              "(9329, 4)"
            ]
          },
          "metadata": {},
          "execution_count": 19
        }
      ]
    },
    {
      "cell_type": "code",
      "source": [
        "# Entfernen von Duplikaten (gleicher Patient, gleicher Aufenthalt, gleiche Prozedur, gleiche Kosten)\n",
        "data_procedures_nodups = data_procedures.drop_duplicates()\n",
        "data_procedures_nodups.shape\n",
        "print(len(data_procedures) - len(data_procedures_nodups), \"Duplikate entfernt.\")"
      ],
      "metadata": {
        "id": "oYQv3K2ltlzJ",
        "colab": {
          "base_uri": "https://localhost:8080/"
        },
        "outputId": "19b63913-b54d-4c08-d041-9c0462d10985"
      },
      "execution_count": 20,
      "outputs": [
        {
          "output_type": "stream",
          "name": "stdout",
          "text": [
            "554 Duplikate entfernt.\n"
          ]
        }
      ]
    },
    {
      "cell_type": "code",
      "source": [
        "# Gruppierung nach Patienten, Aufsummierung der Kosten\n",
        "data_procedures_grouped = data_procedures_nodups.groupby(by=\"PATIENT\")\n",
        "data_procedures_final = data_procedures_grouped[[\"PRO_BASE_COST\"]].sum(min_count=1)\n",
        "data_procedures_final.rename(columns={\"PRO_BASE_COST\": \"OVERALL_PRO_BASE_COST\"}, inplace=True)\n",
        "data_procedures_final[\"NUMBER_PROCEDURES\"] = data_procedures_grouped[[\"PRO_BASE_COST\"]].count()\n",
        "data_procedures_final.shape"
      ],
      "metadata": {
        "id": "OqnSYGuttl7f",
        "colab": {
          "base_uri": "https://localhost:8080/"
        },
        "outputId": "41d90ed2-a4ca-43fa-bf26-2fe18092ce45"
      },
      "execution_count": 21,
      "outputs": [
        {
          "output_type": "execute_result",
          "data": {
            "text/plain": [
              "(1019, 2)"
            ]
          },
          "metadata": {},
          "execution_count": 21
        }
      ]
    },
    {
      "cell_type": "code",
      "source": [
        "data_procedures_final"
      ],
      "metadata": {
        "id": "LwOyvHsRtl_X",
        "colab": {
          "base_uri": "https://localhost:8080/",
          "height": 455
        },
        "outputId": "6b6dfbb5-4fac-4746-c455-bc1cf7fd2c88"
      },
      "execution_count": 22,
      "outputs": [
        {
          "output_type": "execute_result",
          "data": {
            "text/plain": [
              "                                                    OVERALL_PRO_BASE_COST  \\\n",
              "PATIENT                                                                     \n",
              "001a14efaa07e86d7a2bb7750068159e7607eaeb5a508bd...                    NaN   \n",
              "00330f2d793f5867ff4d96ce37152a9af59eef4d89fb4c7...                    NaN   \n",
              "006658a456067ed4ddea461333b5897988f79f069c04b55...                    NaN   \n",
              "007c6b726d61f194eda6317b75282fa27d24fa9724974e9...                    NaN   \n",
              "008f7eecb74441ba68cba1b312200e58c5ca5c6c5e883de...                    NaN   \n",
              "...                                                                   ...   \n",
              "fe2ed8039068a7b06c5ff0de68dba8f93fe74c3d363349d...                    NaN   \n",
              "fec080b434ffd9fed52a83d46f690706683fa822b1fc1f1...                    NaN   \n",
              "fec3ed935e56355f5f2db0974d9c2d5d71491260f666e17...                    NaN   \n",
              "ff2f043e920c64a45dc0dec1193399ed06d0c8cf69ad9ac...                    NaN   \n",
              "ffb1c9de2fdf99a5ee9f0e960a50a7416df1d2f4ad912c4...                    NaN   \n",
              "\n",
              "                                                    NUMBER_PROCEDURES  \n",
              "PATIENT                                                                \n",
              "001a14efaa07e86d7a2bb7750068159e7607eaeb5a508bd...                  0  \n",
              "00330f2d793f5867ff4d96ce37152a9af59eef4d89fb4c7...                  0  \n",
              "006658a456067ed4ddea461333b5897988f79f069c04b55...                  0  \n",
              "007c6b726d61f194eda6317b75282fa27d24fa9724974e9...                  0  \n",
              "008f7eecb74441ba68cba1b312200e58c5ca5c6c5e883de...                  0  \n",
              "...                                                               ...  \n",
              "fe2ed8039068a7b06c5ff0de68dba8f93fe74c3d363349d...                  0  \n",
              "fec080b434ffd9fed52a83d46f690706683fa822b1fc1f1...                  0  \n",
              "fec3ed935e56355f5f2db0974d9c2d5d71491260f666e17...                  0  \n",
              "ff2f043e920c64a45dc0dec1193399ed06d0c8cf69ad9ac...                  0  \n",
              "ffb1c9de2fdf99a5ee9f0e960a50a7416df1d2f4ad912c4...                  0  \n",
              "\n",
              "[1019 rows x 2 columns]"
            ],
            "text/html": [
              "\n",
              "  <div id=\"df-a5d42993-7af3-46fd-a1bc-4e77f388bca4\">\n",
              "    <div class=\"colab-df-container\">\n",
              "      <div>\n",
              "<style scoped>\n",
              "    .dataframe tbody tr th:only-of-type {\n",
              "        vertical-align: middle;\n",
              "    }\n",
              "\n",
              "    .dataframe tbody tr th {\n",
              "        vertical-align: top;\n",
              "    }\n",
              "\n",
              "    .dataframe thead th {\n",
              "        text-align: right;\n",
              "    }\n",
              "</style>\n",
              "<table border=\"1\" class=\"dataframe\">\n",
              "  <thead>\n",
              "    <tr style=\"text-align: right;\">\n",
              "      <th></th>\n",
              "      <th>OVERALL_PRO_BASE_COST</th>\n",
              "      <th>NUMBER_PROCEDURES</th>\n",
              "    </tr>\n",
              "    <tr>\n",
              "      <th>PATIENT</th>\n",
              "      <th></th>\n",
              "      <th></th>\n",
              "    </tr>\n",
              "  </thead>\n",
              "  <tbody>\n",
              "    <tr>\n",
              "      <th>001a14efaa07e86d7a2bb7750068159e7607eaeb5a508bdb9d64044653af2cc3</th>\n",
              "      <td>NaN</td>\n",
              "      <td>0</td>\n",
              "    </tr>\n",
              "    <tr>\n",
              "      <th>00330f2d793f5867ff4d96ce37152a9af59eef4d89fb4c7e9b295d6f59fcf53f</th>\n",
              "      <td>NaN</td>\n",
              "      <td>0</td>\n",
              "    </tr>\n",
              "    <tr>\n",
              "      <th>006658a456067ed4ddea461333b5897988f79f069c04b55924c54f8dbfc62abd</th>\n",
              "      <td>NaN</td>\n",
              "      <td>0</td>\n",
              "    </tr>\n",
              "    <tr>\n",
              "      <th>007c6b726d61f194eda6317b75282fa27d24fa9724974e92e6b6b0b0d08028f5</th>\n",
              "      <td>NaN</td>\n",
              "      <td>0</td>\n",
              "    </tr>\n",
              "    <tr>\n",
              "      <th>008f7eecb74441ba68cba1b312200e58c5ca5c6c5e883ded7d98bcf71f52cd4e</th>\n",
              "      <td>NaN</td>\n",
              "      <td>0</td>\n",
              "    </tr>\n",
              "    <tr>\n",
              "      <th>...</th>\n",
              "      <td>...</td>\n",
              "      <td>...</td>\n",
              "    </tr>\n",
              "    <tr>\n",
              "      <th>fe2ed8039068a7b06c5ff0de68dba8f93fe74c3d363349de74d1945c8b99b170</th>\n",
              "      <td>NaN</td>\n",
              "      <td>0</td>\n",
              "    </tr>\n",
              "    <tr>\n",
              "      <th>fec080b434ffd9fed52a83d46f690706683fa822b1fc1f1984c816e37c130d7c</th>\n",
              "      <td>NaN</td>\n",
              "      <td>0</td>\n",
              "    </tr>\n",
              "    <tr>\n",
              "      <th>fec3ed935e56355f5f2db0974d9c2d5d71491260f666e1721626303ae3a74913</th>\n",
              "      <td>NaN</td>\n",
              "      <td>0</td>\n",
              "    </tr>\n",
              "    <tr>\n",
              "      <th>ff2f043e920c64a45dc0dec1193399ed06d0c8cf69ad9ac88f84301237fb5557</th>\n",
              "      <td>NaN</td>\n",
              "      <td>0</td>\n",
              "    </tr>\n",
              "    <tr>\n",
              "      <th>ffb1c9de2fdf99a5ee9f0e960a50a7416df1d2f4ad912c4078050e309a11266f</th>\n",
              "      <td>NaN</td>\n",
              "      <td>0</td>\n",
              "    </tr>\n",
              "  </tbody>\n",
              "</table>\n",
              "<p>1019 rows × 2 columns</p>\n",
              "</div>\n",
              "      <button class=\"colab-df-convert\" onclick=\"convertToInteractive('df-a5d42993-7af3-46fd-a1bc-4e77f388bca4')\"\n",
              "              title=\"Convert this dataframe to an interactive table.\"\n",
              "              style=\"display:none;\">\n",
              "        \n",
              "  <svg xmlns=\"http://www.w3.org/2000/svg\" height=\"24px\"viewBox=\"0 0 24 24\"\n",
              "       width=\"24px\">\n",
              "    <path d=\"M0 0h24v24H0V0z\" fill=\"none\"/>\n",
              "    <path d=\"M18.56 5.44l.94 2.06.94-2.06 2.06-.94-2.06-.94-.94-2.06-.94 2.06-2.06.94zm-11 1L8.5 8.5l.94-2.06 2.06-.94-2.06-.94L8.5 2.5l-.94 2.06-2.06.94zm10 10l.94 2.06.94-2.06 2.06-.94-2.06-.94-.94-2.06-.94 2.06-2.06.94z\"/><path d=\"M17.41 7.96l-1.37-1.37c-.4-.4-.92-.59-1.43-.59-.52 0-1.04.2-1.43.59L10.3 9.45l-7.72 7.72c-.78.78-.78 2.05 0 2.83L4 21.41c.39.39.9.59 1.41.59.51 0 1.02-.2 1.41-.59l7.78-7.78 2.81-2.81c.8-.78.8-2.07 0-2.86zM5.41 20L4 18.59l7.72-7.72 1.47 1.35L5.41 20z\"/>\n",
              "  </svg>\n",
              "      </button>\n",
              "      \n",
              "  <style>\n",
              "    .colab-df-container {\n",
              "      display:flex;\n",
              "      flex-wrap:wrap;\n",
              "      gap: 12px;\n",
              "    }\n",
              "\n",
              "    .colab-df-convert {\n",
              "      background-color: #E8F0FE;\n",
              "      border: none;\n",
              "      border-radius: 50%;\n",
              "      cursor: pointer;\n",
              "      display: none;\n",
              "      fill: #1967D2;\n",
              "      height: 32px;\n",
              "      padding: 0 0 0 0;\n",
              "      width: 32px;\n",
              "    }\n",
              "\n",
              "    .colab-df-convert:hover {\n",
              "      background-color: #E2EBFA;\n",
              "      box-shadow: 0px 1px 2px rgba(60, 64, 67, 0.3), 0px 1px 3px 1px rgba(60, 64, 67, 0.15);\n",
              "      fill: #174EA6;\n",
              "    }\n",
              "\n",
              "    [theme=dark] .colab-df-convert {\n",
              "      background-color: #3B4455;\n",
              "      fill: #D2E3FC;\n",
              "    }\n",
              "\n",
              "    [theme=dark] .colab-df-convert:hover {\n",
              "      background-color: #434B5C;\n",
              "      box-shadow: 0px 1px 3px 1px rgba(0, 0, 0, 0.15);\n",
              "      filter: drop-shadow(0px 1px 2px rgba(0, 0, 0, 0.3));\n",
              "      fill: #FFFFFF;\n",
              "    }\n",
              "  </style>\n",
              "\n",
              "      <script>\n",
              "        const buttonEl =\n",
              "          document.querySelector('#df-a5d42993-7af3-46fd-a1bc-4e77f388bca4 button.colab-df-convert');\n",
              "        buttonEl.style.display =\n",
              "          google.colab.kernel.accessAllowed ? 'block' : 'none';\n",
              "\n",
              "        async function convertToInteractive(key) {\n",
              "          const element = document.querySelector('#df-a5d42993-7af3-46fd-a1bc-4e77f388bca4');\n",
              "          const dataTable =\n",
              "            await google.colab.kernel.invokeFunction('convertToInteractive',\n",
              "                                                     [key], {});\n",
              "          if (!dataTable) return;\n",
              "\n",
              "          const docLinkHtml = 'Like what you see? Visit the ' +\n",
              "            '<a target=\"_blank\" href=https://colab.research.google.com/notebooks/data_table.ipynb>data table notebook</a>'\n",
              "            + ' to learn more about interactive tables.';\n",
              "          element.innerHTML = '';\n",
              "          dataTable['output_type'] = 'display_data';\n",
              "          await google.colab.output.renderOutput(dataTable, element);\n",
              "          const docLink = document.createElement('div');\n",
              "          docLink.innerHTML = docLinkHtml;\n",
              "          element.appendChild(docLink);\n",
              "        }\n",
              "      </script>\n",
              "    </div>\n",
              "  </div>\n",
              "  "
            ]
          },
          "metadata": {},
          "execution_count": 22
        }
      ]
    },
    {
      "cell_type": "markdown",
      "source": [
        "## Erstellung Tabelle mit Gesamtkosten für Medikation pro Patient"
      ],
      "metadata": {
        "id": "9Q74xfbStXSR"
      }
    },
    {
      "cell_type": "code",
      "source": [
        "# Erstellung Subset mit Kostendaten zu Medikationen\n",
        "data_medications = data_costs[[\"PATIENT\", \"ENC_ID\", \"MED_CODE\", \"MED_BASE_COST\", \"MED_DISPENSES\", \"MED_TOTAL_COST\", \"MED_PAYER_COVERAGE\"]]\n",
        "data_medications.shape"
      ],
      "metadata": {
        "id": "nHTN1gVzx042",
        "colab": {
          "base_uri": "https://localhost:8080/"
        },
        "outputId": "227736f4-b893-43e0-aaa8-d720c5a255c9"
      },
      "execution_count": 23,
      "outputs": [
        {
          "output_type": "execute_result",
          "data": {
            "text/plain": [
              "(9329, 7)"
            ]
          },
          "metadata": {},
          "execution_count": 23
        }
      ]
    },
    {
      "cell_type": "code",
      "source": [
        "# Entfernen von Duplikaten (gleicher Patient, gleicher Aufenthalt, gleiche Medikation, gleiche Kosten)\n",
        "data_medications_nodups = data_medications.drop_duplicates()\n",
        "data_medications_nodups.shape\n",
        "print(len(data_medications) - len(data_medications_nodups), \"Duplikate entfernt.\")"
      ],
      "metadata": {
        "id": "xhwUqmS-zg49",
        "colab": {
          "base_uri": "https://localhost:8080/"
        },
        "outputId": "93c54ace-35d0-471d-ab78-3ec7310c3160"
      },
      "execution_count": 24,
      "outputs": [
        {
          "output_type": "stream",
          "name": "stdout",
          "text": [
            "513 Duplikate entfernt.\n"
          ]
        }
      ]
    },
    {
      "cell_type": "code",
      "source": [
        "# Gruppierung nach Patienten, Aufsummierung der Kosten\n",
        "data_medications_grouped = data_medications_nodups.groupby(by=\"PATIENT\")\n",
        "data_medications_final = data_medications_grouped[[\"MED_BASE_COST\", \"MED_DISPENSES\", \"MED_TOTAL_COST\", \"MED_PAYER_COVERAGE\"]].sum(min_count=1)\n",
        "data_medications_final.rename(columns={\"MED_BASE_COST\": \"OVERALL_MED_BASE_COST\", \n",
        "                                         \"MED_DISPENSES\": \"OVERALL_MED_DISPENSES\", \n",
        "                                         \"MED_TOTAL_COST\": \"OVERALL_MED_TOTAL_COST\", \n",
        "                                         \"MED_PAYER_COVERAGE\": \"OVERALL_MED_PAYER_COVERAGE\"}, inplace=True)\n",
        "data_medications_final[\"NUMBER_MEDICATIONS\"] = data_medications_grouped[[\"MED_BASE_COST\"]].count()\n",
        "data_medications_final.shape"
      ],
      "metadata": {
        "id": "9U07Oh8ZzhBi",
        "colab": {
          "base_uri": "https://localhost:8080/"
        },
        "outputId": "2325c3aa-c9b6-48a0-bde0-9c33c02aa580"
      },
      "execution_count": 25,
      "outputs": [
        {
          "output_type": "execute_result",
          "data": {
            "text/plain": [
              "(1019, 5)"
            ]
          },
          "metadata": {},
          "execution_count": 25
        }
      ]
    },
    {
      "cell_type": "code",
      "source": [
        "data_medications_final"
      ],
      "metadata": {
        "id": "Y-UmGfTQzhN3",
        "colab": {
          "base_uri": "https://localhost:8080/",
          "height": 519
        },
        "outputId": "c94f25d4-a944-427a-efb1-9e8f1094fd52"
      },
      "execution_count": 26,
      "outputs": [
        {
          "output_type": "execute_result",
          "data": {
            "text/plain": [
              "                                                    OVERALL_MED_BASE_COST  \\\n",
              "PATIENT                                                                     \n",
              "001a14efaa07e86d7a2bb7750068159e7607eaeb5a508bd...                    NaN   \n",
              "00330f2d793f5867ff4d96ce37152a9af59eef4d89fb4c7...                    NaN   \n",
              "006658a456067ed4ddea461333b5897988f79f069c04b55...                    NaN   \n",
              "007c6b726d61f194eda6317b75282fa27d24fa9724974e9...                    NaN   \n",
              "008f7eecb74441ba68cba1b312200e58c5ca5c6c5e883de...                    NaN   \n",
              "...                                                                   ...   \n",
              "fe2ed8039068a7b06c5ff0de68dba8f93fe74c3d363349d...                    NaN   \n",
              "fec080b434ffd9fed52a83d46f690706683fa822b1fc1f1...                    NaN   \n",
              "fec3ed935e56355f5f2db0974d9c2d5d71491260f666e17...                    NaN   \n",
              "ff2f043e920c64a45dc0dec1193399ed06d0c8cf69ad9ac...                    NaN   \n",
              "ffb1c9de2fdf99a5ee9f0e960a50a7416df1d2f4ad912c4...                    NaN   \n",
              "\n",
              "                                                    OVERALL_MED_DISPENSES  \\\n",
              "PATIENT                                                                     \n",
              "001a14efaa07e86d7a2bb7750068159e7607eaeb5a508bd...                    NaN   \n",
              "00330f2d793f5867ff4d96ce37152a9af59eef4d89fb4c7...                    NaN   \n",
              "006658a456067ed4ddea461333b5897988f79f069c04b55...                    NaN   \n",
              "007c6b726d61f194eda6317b75282fa27d24fa9724974e9...                    NaN   \n",
              "008f7eecb74441ba68cba1b312200e58c5ca5c6c5e883de...                    NaN   \n",
              "...                                                                   ...   \n",
              "fe2ed8039068a7b06c5ff0de68dba8f93fe74c3d363349d...                    NaN   \n",
              "fec080b434ffd9fed52a83d46f690706683fa822b1fc1f1...                    NaN   \n",
              "fec3ed935e56355f5f2db0974d9c2d5d71491260f666e17...                    NaN   \n",
              "ff2f043e920c64a45dc0dec1193399ed06d0c8cf69ad9ac...                    NaN   \n",
              "ffb1c9de2fdf99a5ee9f0e960a50a7416df1d2f4ad912c4...                    NaN   \n",
              "\n",
              "                                                    OVERALL_MED_TOTAL_COST  \\\n",
              "PATIENT                                                                      \n",
              "001a14efaa07e86d7a2bb7750068159e7607eaeb5a508bd...                     NaN   \n",
              "00330f2d793f5867ff4d96ce37152a9af59eef4d89fb4c7...                     NaN   \n",
              "006658a456067ed4ddea461333b5897988f79f069c04b55...                     NaN   \n",
              "007c6b726d61f194eda6317b75282fa27d24fa9724974e9...                     NaN   \n",
              "008f7eecb74441ba68cba1b312200e58c5ca5c6c5e883de...                     NaN   \n",
              "...                                                                    ...   \n",
              "fe2ed8039068a7b06c5ff0de68dba8f93fe74c3d363349d...                     NaN   \n",
              "fec080b434ffd9fed52a83d46f690706683fa822b1fc1f1...                     NaN   \n",
              "fec3ed935e56355f5f2db0974d9c2d5d71491260f666e17...                     NaN   \n",
              "ff2f043e920c64a45dc0dec1193399ed06d0c8cf69ad9ac...                     NaN   \n",
              "ffb1c9de2fdf99a5ee9f0e960a50a7416df1d2f4ad912c4...                     NaN   \n",
              "\n",
              "                                                    OVERALL_MED_PAYER_COVERAGE  \\\n",
              "PATIENT                                                                          \n",
              "001a14efaa07e86d7a2bb7750068159e7607eaeb5a508bd...                         NaN   \n",
              "00330f2d793f5867ff4d96ce37152a9af59eef4d89fb4c7...                         NaN   \n",
              "006658a456067ed4ddea461333b5897988f79f069c04b55...                         NaN   \n",
              "007c6b726d61f194eda6317b75282fa27d24fa9724974e9...                         NaN   \n",
              "008f7eecb74441ba68cba1b312200e58c5ca5c6c5e883de...                         NaN   \n",
              "...                                                                        ...   \n",
              "fe2ed8039068a7b06c5ff0de68dba8f93fe74c3d363349d...                         NaN   \n",
              "fec080b434ffd9fed52a83d46f690706683fa822b1fc1f1...                         NaN   \n",
              "fec3ed935e56355f5f2db0974d9c2d5d71491260f666e17...                         NaN   \n",
              "ff2f043e920c64a45dc0dec1193399ed06d0c8cf69ad9ac...                         NaN   \n",
              "ffb1c9de2fdf99a5ee9f0e960a50a7416df1d2f4ad912c4...                         NaN   \n",
              "\n",
              "                                                    NUMBER_MEDICATIONS  \n",
              "PATIENT                                                                 \n",
              "001a14efaa07e86d7a2bb7750068159e7607eaeb5a508bd...                   0  \n",
              "00330f2d793f5867ff4d96ce37152a9af59eef4d89fb4c7...                   0  \n",
              "006658a456067ed4ddea461333b5897988f79f069c04b55...                   0  \n",
              "007c6b726d61f194eda6317b75282fa27d24fa9724974e9...                   0  \n",
              "008f7eecb74441ba68cba1b312200e58c5ca5c6c5e883de...                   0  \n",
              "...                                                                ...  \n",
              "fe2ed8039068a7b06c5ff0de68dba8f93fe74c3d363349d...                   0  \n",
              "fec080b434ffd9fed52a83d46f690706683fa822b1fc1f1...                   0  \n",
              "fec3ed935e56355f5f2db0974d9c2d5d71491260f666e17...                   0  \n",
              "ff2f043e920c64a45dc0dec1193399ed06d0c8cf69ad9ac...                   0  \n",
              "ffb1c9de2fdf99a5ee9f0e960a50a7416df1d2f4ad912c4...                   0  \n",
              "\n",
              "[1019 rows x 5 columns]"
            ],
            "text/html": [
              "\n",
              "  <div id=\"df-6583d11e-0b0a-4704-9f04-d818a8b74132\">\n",
              "    <div class=\"colab-df-container\">\n",
              "      <div>\n",
              "<style scoped>\n",
              "    .dataframe tbody tr th:only-of-type {\n",
              "        vertical-align: middle;\n",
              "    }\n",
              "\n",
              "    .dataframe tbody tr th {\n",
              "        vertical-align: top;\n",
              "    }\n",
              "\n",
              "    .dataframe thead th {\n",
              "        text-align: right;\n",
              "    }\n",
              "</style>\n",
              "<table border=\"1\" class=\"dataframe\">\n",
              "  <thead>\n",
              "    <tr style=\"text-align: right;\">\n",
              "      <th></th>\n",
              "      <th>OVERALL_MED_BASE_COST</th>\n",
              "      <th>OVERALL_MED_DISPENSES</th>\n",
              "      <th>OVERALL_MED_TOTAL_COST</th>\n",
              "      <th>OVERALL_MED_PAYER_COVERAGE</th>\n",
              "      <th>NUMBER_MEDICATIONS</th>\n",
              "    </tr>\n",
              "    <tr>\n",
              "      <th>PATIENT</th>\n",
              "      <th></th>\n",
              "      <th></th>\n",
              "      <th></th>\n",
              "      <th></th>\n",
              "      <th></th>\n",
              "    </tr>\n",
              "  </thead>\n",
              "  <tbody>\n",
              "    <tr>\n",
              "      <th>001a14efaa07e86d7a2bb7750068159e7607eaeb5a508bdb9d64044653af2cc3</th>\n",
              "      <td>NaN</td>\n",
              "      <td>NaN</td>\n",
              "      <td>NaN</td>\n",
              "      <td>NaN</td>\n",
              "      <td>0</td>\n",
              "    </tr>\n",
              "    <tr>\n",
              "      <th>00330f2d793f5867ff4d96ce37152a9af59eef4d89fb4c7e9b295d6f59fcf53f</th>\n",
              "      <td>NaN</td>\n",
              "      <td>NaN</td>\n",
              "      <td>NaN</td>\n",
              "      <td>NaN</td>\n",
              "      <td>0</td>\n",
              "    </tr>\n",
              "    <tr>\n",
              "      <th>006658a456067ed4ddea461333b5897988f79f069c04b55924c54f8dbfc62abd</th>\n",
              "      <td>NaN</td>\n",
              "      <td>NaN</td>\n",
              "      <td>NaN</td>\n",
              "      <td>NaN</td>\n",
              "      <td>0</td>\n",
              "    </tr>\n",
              "    <tr>\n",
              "      <th>007c6b726d61f194eda6317b75282fa27d24fa9724974e92e6b6b0b0d08028f5</th>\n",
              "      <td>NaN</td>\n",
              "      <td>NaN</td>\n",
              "      <td>NaN</td>\n",
              "      <td>NaN</td>\n",
              "      <td>0</td>\n",
              "    </tr>\n",
              "    <tr>\n",
              "      <th>008f7eecb74441ba68cba1b312200e58c5ca5c6c5e883ded7d98bcf71f52cd4e</th>\n",
              "      <td>NaN</td>\n",
              "      <td>NaN</td>\n",
              "      <td>NaN</td>\n",
              "      <td>NaN</td>\n",
              "      <td>0</td>\n",
              "    </tr>\n",
              "    <tr>\n",
              "      <th>...</th>\n",
              "      <td>...</td>\n",
              "      <td>...</td>\n",
              "      <td>...</td>\n",
              "      <td>...</td>\n",
              "      <td>...</td>\n",
              "    </tr>\n",
              "    <tr>\n",
              "      <th>fe2ed8039068a7b06c5ff0de68dba8f93fe74c3d363349de74d1945c8b99b170</th>\n",
              "      <td>NaN</td>\n",
              "      <td>NaN</td>\n",
              "      <td>NaN</td>\n",
              "      <td>NaN</td>\n",
              "      <td>0</td>\n",
              "    </tr>\n",
              "    <tr>\n",
              "      <th>fec080b434ffd9fed52a83d46f690706683fa822b1fc1f1984c816e37c130d7c</th>\n",
              "      <td>NaN</td>\n",
              "      <td>NaN</td>\n",
              "      <td>NaN</td>\n",
              "      <td>NaN</td>\n",
              "      <td>0</td>\n",
              "    </tr>\n",
              "    <tr>\n",
              "      <th>fec3ed935e56355f5f2db0974d9c2d5d71491260f666e1721626303ae3a74913</th>\n",
              "      <td>NaN</td>\n",
              "      <td>NaN</td>\n",
              "      <td>NaN</td>\n",
              "      <td>NaN</td>\n",
              "      <td>0</td>\n",
              "    </tr>\n",
              "    <tr>\n",
              "      <th>ff2f043e920c64a45dc0dec1193399ed06d0c8cf69ad9ac88f84301237fb5557</th>\n",
              "      <td>NaN</td>\n",
              "      <td>NaN</td>\n",
              "      <td>NaN</td>\n",
              "      <td>NaN</td>\n",
              "      <td>0</td>\n",
              "    </tr>\n",
              "    <tr>\n",
              "      <th>ffb1c9de2fdf99a5ee9f0e960a50a7416df1d2f4ad912c4078050e309a11266f</th>\n",
              "      <td>NaN</td>\n",
              "      <td>NaN</td>\n",
              "      <td>NaN</td>\n",
              "      <td>NaN</td>\n",
              "      <td>0</td>\n",
              "    </tr>\n",
              "  </tbody>\n",
              "</table>\n",
              "<p>1019 rows × 5 columns</p>\n",
              "</div>\n",
              "      <button class=\"colab-df-convert\" onclick=\"convertToInteractive('df-6583d11e-0b0a-4704-9f04-d818a8b74132')\"\n",
              "              title=\"Convert this dataframe to an interactive table.\"\n",
              "              style=\"display:none;\">\n",
              "        \n",
              "  <svg xmlns=\"http://www.w3.org/2000/svg\" height=\"24px\"viewBox=\"0 0 24 24\"\n",
              "       width=\"24px\">\n",
              "    <path d=\"M0 0h24v24H0V0z\" fill=\"none\"/>\n",
              "    <path d=\"M18.56 5.44l.94 2.06.94-2.06 2.06-.94-2.06-.94-.94-2.06-.94 2.06-2.06.94zm-11 1L8.5 8.5l.94-2.06 2.06-.94-2.06-.94L8.5 2.5l-.94 2.06-2.06.94zm10 10l.94 2.06.94-2.06 2.06-.94-2.06-.94-.94-2.06-.94 2.06-2.06.94z\"/><path d=\"M17.41 7.96l-1.37-1.37c-.4-.4-.92-.59-1.43-.59-.52 0-1.04.2-1.43.59L10.3 9.45l-7.72 7.72c-.78.78-.78 2.05 0 2.83L4 21.41c.39.39.9.59 1.41.59.51 0 1.02-.2 1.41-.59l7.78-7.78 2.81-2.81c.8-.78.8-2.07 0-2.86zM5.41 20L4 18.59l7.72-7.72 1.47 1.35L5.41 20z\"/>\n",
              "  </svg>\n",
              "      </button>\n",
              "      \n",
              "  <style>\n",
              "    .colab-df-container {\n",
              "      display:flex;\n",
              "      flex-wrap:wrap;\n",
              "      gap: 12px;\n",
              "    }\n",
              "\n",
              "    .colab-df-convert {\n",
              "      background-color: #E8F0FE;\n",
              "      border: none;\n",
              "      border-radius: 50%;\n",
              "      cursor: pointer;\n",
              "      display: none;\n",
              "      fill: #1967D2;\n",
              "      height: 32px;\n",
              "      padding: 0 0 0 0;\n",
              "      width: 32px;\n",
              "    }\n",
              "\n",
              "    .colab-df-convert:hover {\n",
              "      background-color: #E2EBFA;\n",
              "      box-shadow: 0px 1px 2px rgba(60, 64, 67, 0.3), 0px 1px 3px 1px rgba(60, 64, 67, 0.15);\n",
              "      fill: #174EA6;\n",
              "    }\n",
              "\n",
              "    [theme=dark] .colab-df-convert {\n",
              "      background-color: #3B4455;\n",
              "      fill: #D2E3FC;\n",
              "    }\n",
              "\n",
              "    [theme=dark] .colab-df-convert:hover {\n",
              "      background-color: #434B5C;\n",
              "      box-shadow: 0px 1px 3px 1px rgba(0, 0, 0, 0.15);\n",
              "      filter: drop-shadow(0px 1px 2px rgba(0, 0, 0, 0.3));\n",
              "      fill: #FFFFFF;\n",
              "    }\n",
              "  </style>\n",
              "\n",
              "      <script>\n",
              "        const buttonEl =\n",
              "          document.querySelector('#df-6583d11e-0b0a-4704-9f04-d818a8b74132 button.colab-df-convert');\n",
              "        buttonEl.style.display =\n",
              "          google.colab.kernel.accessAllowed ? 'block' : 'none';\n",
              "\n",
              "        async function convertToInteractive(key) {\n",
              "          const element = document.querySelector('#df-6583d11e-0b0a-4704-9f04-d818a8b74132');\n",
              "          const dataTable =\n",
              "            await google.colab.kernel.invokeFunction('convertToInteractive',\n",
              "                                                     [key], {});\n",
              "          if (!dataTable) return;\n",
              "\n",
              "          const docLinkHtml = 'Like what you see? Visit the ' +\n",
              "            '<a target=\"_blank\" href=https://colab.research.google.com/notebooks/data_table.ipynb>data table notebook</a>'\n",
              "            + ' to learn more about interactive tables.';\n",
              "          element.innerHTML = '';\n",
              "          dataTable['output_type'] = 'display_data';\n",
              "          await google.colab.output.renderOutput(dataTable, element);\n",
              "          const docLink = document.createElement('div');\n",
              "          docLink.innerHTML = docLinkHtml;\n",
              "          element.appendChild(docLink);\n",
              "        }\n",
              "      </script>\n",
              "    </div>\n",
              "  </div>\n",
              "  "
            ]
          },
          "metadata": {},
          "execution_count": 26
        }
      ]
    },
    {
      "cell_type": "markdown",
      "source": [
        "## Erstellung einer Patiententabelle (mit demografischen Daten und Diagnosedaten)"
      ],
      "metadata": {
        "id": "j8kKv1w35ynO"
      }
    },
    {
      "cell_type": "code",
      "source": [
        "# Merge Informationen zu Patienten aus data_costs und Diagnosen aus data_diagnoses über Patienten-ID\n",
        "patient_information = pd.merge(data_costs[[\"PATIENT\", \"PAT_GENDER\", \"PAT_RACE\"]], data_diagnoses, how=\"inner\", left_on=[\"PATIENT\"], right_on=[\"patient\"])\n",
        "# Doppelte Zeilen entfernen\n",
        "patient_information.drop_duplicates(inplace=True)\n",
        "# Doppelte Spalte mit Patienten-ID entfernen\n",
        "patient_information.drop(columns=[\"patient\"], inplace=True)\n",
        "# Spalte diagnosis umbenennen\n",
        "patient_information.rename(columns={\"diagnosis\": \"DIAGNOSIS\"}, inplace=True)\n",
        "# Spalte mit Patienten-ID als Index\n",
        "patient_information.set_index(\"PATIENT\", inplace=True)\n",
        "\n",
        "patient_information.shape"
      ],
      "metadata": {
        "id": "DZCGcgNz50nd",
        "colab": {
          "base_uri": "https://localhost:8080/"
        },
        "outputId": "8a7fcae7-b10b-46ec-970e-7dbc8d83b90f"
      },
      "execution_count": 27,
      "outputs": [
        {
          "output_type": "execute_result",
          "data": {
            "text/plain": [
              "(1019, 3)"
            ]
          },
          "metadata": {},
          "execution_count": 27
        }
      ]
    },
    {
      "cell_type": "code",
      "source": [
        "patient_information"
      ],
      "metadata": {
        "id": "8UGkszf39End",
        "colab": {
          "base_uri": "https://localhost:8080/",
          "height": 455
        },
        "outputId": "0619a800-6b4f-4860-f6e1-95746e21eea4"
      },
      "execution_count": 28,
      "outputs": [
        {
          "output_type": "execute_result",
          "data": {
            "text/plain": [
              "                                                   PAT_GENDER PAT_RACE  \\\n",
              "PATIENT                                                                  \n",
              "001a14efaa07e86d7a2bb7750068159e7607eaeb5a508bd...          M    asian   \n",
              "00330f2d793f5867ff4d96ce37152a9af59eef4d89fb4c7...          F    white   \n",
              "006658a456067ed4ddea461333b5897988f79f069c04b55...          M    white   \n",
              "007c6b726d61f194eda6317b75282fa27d24fa9724974e9...          M    white   \n",
              "008f7eecb74441ba68cba1b312200e58c5ca5c6c5e883de...          F    white   \n",
              "...                                                       ...      ...   \n",
              "fe2ed8039068a7b06c5ff0de68dba8f93fe74c3d363349d...          M    white   \n",
              "fec080b434ffd9fed52a83d46f690706683fa822b1fc1f1...          F    black   \n",
              "fec3ed935e56355f5f2db0974d9c2d5d71491260f666e17...          F    white   \n",
              "ff2f043e920c64a45dc0dec1193399ed06d0c8cf69ad9ac...          M    white   \n",
              "ffb1c9de2fdf99a5ee9f0e960a50a7416df1d2f4ad912c4...          F    white   \n",
              "\n",
              "                                                   DIAGNOSIS  \n",
              "PATIENT                                                       \n",
              "001a14efaa07e86d7a2bb7750068159e7607eaeb5a508bd...      none  \n",
              "00330f2d793f5867ff4d96ce37152a9af59eef4d89fb4c7...      none  \n",
              "006658a456067ed4ddea461333b5897988f79f069c04b55...      none  \n",
              "007c6b726d61f194eda6317b75282fa27d24fa9724974e9...      none  \n",
              "008f7eecb74441ba68cba1b312200e58c5ca5c6c5e883de...      none  \n",
              "...                                                      ...  \n",
              "fe2ed8039068a7b06c5ff0de68dba8f93fe74c3d363349d...      none  \n",
              "fec080b434ffd9fed52a83d46f690706683fa822b1fc1f1...      none  \n",
              "fec3ed935e56355f5f2db0974d9c2d5d71491260f666e17...      none  \n",
              "ff2f043e920c64a45dc0dec1193399ed06d0c8cf69ad9ac...     other  \n",
              "ffb1c9de2fdf99a5ee9f0e960a50a7416df1d2f4ad912c4...      none  \n",
              "\n",
              "[1019 rows x 3 columns]"
            ],
            "text/html": [
              "\n",
              "  <div id=\"df-acb90fe6-cdab-4416-b695-33713ae5663a\">\n",
              "    <div class=\"colab-df-container\">\n",
              "      <div>\n",
              "<style scoped>\n",
              "    .dataframe tbody tr th:only-of-type {\n",
              "        vertical-align: middle;\n",
              "    }\n",
              "\n",
              "    .dataframe tbody tr th {\n",
              "        vertical-align: top;\n",
              "    }\n",
              "\n",
              "    .dataframe thead th {\n",
              "        text-align: right;\n",
              "    }\n",
              "</style>\n",
              "<table border=\"1\" class=\"dataframe\">\n",
              "  <thead>\n",
              "    <tr style=\"text-align: right;\">\n",
              "      <th></th>\n",
              "      <th>PAT_GENDER</th>\n",
              "      <th>PAT_RACE</th>\n",
              "      <th>DIAGNOSIS</th>\n",
              "    </tr>\n",
              "    <tr>\n",
              "      <th>PATIENT</th>\n",
              "      <th></th>\n",
              "      <th></th>\n",
              "      <th></th>\n",
              "    </tr>\n",
              "  </thead>\n",
              "  <tbody>\n",
              "    <tr>\n",
              "      <th>001a14efaa07e86d7a2bb7750068159e7607eaeb5a508bdb9d64044653af2cc3</th>\n",
              "      <td>M</td>\n",
              "      <td>asian</td>\n",
              "      <td>none</td>\n",
              "    </tr>\n",
              "    <tr>\n",
              "      <th>00330f2d793f5867ff4d96ce37152a9af59eef4d89fb4c7e9b295d6f59fcf53f</th>\n",
              "      <td>F</td>\n",
              "      <td>white</td>\n",
              "      <td>none</td>\n",
              "    </tr>\n",
              "    <tr>\n",
              "      <th>006658a456067ed4ddea461333b5897988f79f069c04b55924c54f8dbfc62abd</th>\n",
              "      <td>M</td>\n",
              "      <td>white</td>\n",
              "      <td>none</td>\n",
              "    </tr>\n",
              "    <tr>\n",
              "      <th>007c6b726d61f194eda6317b75282fa27d24fa9724974e92e6b6b0b0d08028f5</th>\n",
              "      <td>M</td>\n",
              "      <td>white</td>\n",
              "      <td>none</td>\n",
              "    </tr>\n",
              "    <tr>\n",
              "      <th>008f7eecb74441ba68cba1b312200e58c5ca5c6c5e883ded7d98bcf71f52cd4e</th>\n",
              "      <td>F</td>\n",
              "      <td>white</td>\n",
              "      <td>none</td>\n",
              "    </tr>\n",
              "    <tr>\n",
              "      <th>...</th>\n",
              "      <td>...</td>\n",
              "      <td>...</td>\n",
              "      <td>...</td>\n",
              "    </tr>\n",
              "    <tr>\n",
              "      <th>fe2ed8039068a7b06c5ff0de68dba8f93fe74c3d363349de74d1945c8b99b170</th>\n",
              "      <td>M</td>\n",
              "      <td>white</td>\n",
              "      <td>none</td>\n",
              "    </tr>\n",
              "    <tr>\n",
              "      <th>fec080b434ffd9fed52a83d46f690706683fa822b1fc1f1984c816e37c130d7c</th>\n",
              "      <td>F</td>\n",
              "      <td>black</td>\n",
              "      <td>none</td>\n",
              "    </tr>\n",
              "    <tr>\n",
              "      <th>fec3ed935e56355f5f2db0974d9c2d5d71491260f666e1721626303ae3a74913</th>\n",
              "      <td>F</td>\n",
              "      <td>white</td>\n",
              "      <td>none</td>\n",
              "    </tr>\n",
              "    <tr>\n",
              "      <th>ff2f043e920c64a45dc0dec1193399ed06d0c8cf69ad9ac88f84301237fb5557</th>\n",
              "      <td>M</td>\n",
              "      <td>white</td>\n",
              "      <td>other</td>\n",
              "    </tr>\n",
              "    <tr>\n",
              "      <th>ffb1c9de2fdf99a5ee9f0e960a50a7416df1d2f4ad912c4078050e309a11266f</th>\n",
              "      <td>F</td>\n",
              "      <td>white</td>\n",
              "      <td>none</td>\n",
              "    </tr>\n",
              "  </tbody>\n",
              "</table>\n",
              "<p>1019 rows × 3 columns</p>\n",
              "</div>\n",
              "      <button class=\"colab-df-convert\" onclick=\"convertToInteractive('df-acb90fe6-cdab-4416-b695-33713ae5663a')\"\n",
              "              title=\"Convert this dataframe to an interactive table.\"\n",
              "              style=\"display:none;\">\n",
              "        \n",
              "  <svg xmlns=\"http://www.w3.org/2000/svg\" height=\"24px\"viewBox=\"0 0 24 24\"\n",
              "       width=\"24px\">\n",
              "    <path d=\"M0 0h24v24H0V0z\" fill=\"none\"/>\n",
              "    <path d=\"M18.56 5.44l.94 2.06.94-2.06 2.06-.94-2.06-.94-.94-2.06-.94 2.06-2.06.94zm-11 1L8.5 8.5l.94-2.06 2.06-.94-2.06-.94L8.5 2.5l-.94 2.06-2.06.94zm10 10l.94 2.06.94-2.06 2.06-.94-2.06-.94-.94-2.06-.94 2.06-2.06.94z\"/><path d=\"M17.41 7.96l-1.37-1.37c-.4-.4-.92-.59-1.43-.59-.52 0-1.04.2-1.43.59L10.3 9.45l-7.72 7.72c-.78.78-.78 2.05 0 2.83L4 21.41c.39.39.9.59 1.41.59.51 0 1.02-.2 1.41-.59l7.78-7.78 2.81-2.81c.8-.78.8-2.07 0-2.86zM5.41 20L4 18.59l7.72-7.72 1.47 1.35L5.41 20z\"/>\n",
              "  </svg>\n",
              "      </button>\n",
              "      \n",
              "  <style>\n",
              "    .colab-df-container {\n",
              "      display:flex;\n",
              "      flex-wrap:wrap;\n",
              "      gap: 12px;\n",
              "    }\n",
              "\n",
              "    .colab-df-convert {\n",
              "      background-color: #E8F0FE;\n",
              "      border: none;\n",
              "      border-radius: 50%;\n",
              "      cursor: pointer;\n",
              "      display: none;\n",
              "      fill: #1967D2;\n",
              "      height: 32px;\n",
              "      padding: 0 0 0 0;\n",
              "      width: 32px;\n",
              "    }\n",
              "\n",
              "    .colab-df-convert:hover {\n",
              "      background-color: #E2EBFA;\n",
              "      box-shadow: 0px 1px 2px rgba(60, 64, 67, 0.3), 0px 1px 3px 1px rgba(60, 64, 67, 0.15);\n",
              "      fill: #174EA6;\n",
              "    }\n",
              "\n",
              "    [theme=dark] .colab-df-convert {\n",
              "      background-color: #3B4455;\n",
              "      fill: #D2E3FC;\n",
              "    }\n",
              "\n",
              "    [theme=dark] .colab-df-convert:hover {\n",
              "      background-color: #434B5C;\n",
              "      box-shadow: 0px 1px 3px 1px rgba(0, 0, 0, 0.15);\n",
              "      filter: drop-shadow(0px 1px 2px rgba(0, 0, 0, 0.3));\n",
              "      fill: #FFFFFF;\n",
              "    }\n",
              "  </style>\n",
              "\n",
              "      <script>\n",
              "        const buttonEl =\n",
              "          document.querySelector('#df-acb90fe6-cdab-4416-b695-33713ae5663a button.colab-df-convert');\n",
              "        buttonEl.style.display =\n",
              "          google.colab.kernel.accessAllowed ? 'block' : 'none';\n",
              "\n",
              "        async function convertToInteractive(key) {\n",
              "          const element = document.querySelector('#df-acb90fe6-cdab-4416-b695-33713ae5663a');\n",
              "          const dataTable =\n",
              "            await google.colab.kernel.invokeFunction('convertToInteractive',\n",
              "                                                     [key], {});\n",
              "          if (!dataTable) return;\n",
              "\n",
              "          const docLinkHtml = 'Like what you see? Visit the ' +\n",
              "            '<a target=\"_blank\" href=https://colab.research.google.com/notebooks/data_table.ipynb>data table notebook</a>'\n",
              "            + ' to learn more about interactive tables.';\n",
              "          element.innerHTML = '';\n",
              "          dataTable['output_type'] = 'display_data';\n",
              "          await google.colab.output.renderOutput(dataTable, element);\n",
              "          const docLink = document.createElement('div');\n",
              "          docLink.innerHTML = docLinkHtml;\n",
              "          element.appendChild(docLink);\n",
              "        }\n",
              "      </script>\n",
              "    </div>\n",
              "  </div>\n",
              "  "
            ]
          },
          "metadata": {},
          "execution_count": 28
        }
      ]
    },
    {
      "cell_type": "markdown",
      "source": [
        "## Erstellung der Analysetabelle als Kombination der zuvor erstellten Hilfstabellen\n"
      ],
      "metadata": {
        "id": "Wyy1WaQ1tbmP"
      }
    },
    {
      "cell_type": "code",
      "source": [
        "# Merge alle Tabellen in einzelnen Dataframe über Patienten-ID (Index)\n",
        "patient_data = pd.merge(pd.merge(pd.merge(patient_information, \n",
        "                                          data_encounters_final, left_index=True, right_index=True), \n",
        "                                 data_procedures_final, left_index=True, right_index=True), \n",
        "                        data_medications_final, left_index=True, right_index=True)\n",
        "patient_data.reset_index(inplace=True)\n",
        "patient_data.shape"
      ],
      "metadata": {
        "id": "tFbj_52otajK",
        "colab": {
          "base_uri": "https://localhost:8080/"
        },
        "outputId": "d37f34eb-b764-41b0-ba37-7a69c837e351"
      },
      "execution_count": 29,
      "outputs": [
        {
          "output_type": "execute_result",
          "data": {
            "text/plain": [
              "(1019, 14)"
            ]
          },
          "metadata": {},
          "execution_count": 29
        }
      ]
    },
    {
      "cell_type": "code",
      "source": [
        "patient_data"
      ],
      "metadata": {
        "id": "rt_m1Vlt-8iy",
        "colab": {
          "base_uri": "https://localhost:8080/",
          "height": 488
        },
        "outputId": "30a43a7f-5a06-4e2d-a3fa-2571777e047d"
      },
      "execution_count": 30,
      "outputs": [
        {
          "output_type": "execute_result",
          "data": {
            "text/plain": [
              "                                                PATIENT PAT_GENDER PAT_RACE  \\\n",
              "0     001a14efaa07e86d7a2bb7750068159e7607eaeb5a508b...          M    asian   \n",
              "1     00330f2d793f5867ff4d96ce37152a9af59eef4d89fb4c...          F    white   \n",
              "2     006658a456067ed4ddea461333b5897988f79f069c04b5...          M    white   \n",
              "3     007c6b726d61f194eda6317b75282fa27d24fa9724974e...          M    white   \n",
              "4     008f7eecb74441ba68cba1b312200e58c5ca5c6c5e883d...          F    white   \n",
              "...                                                 ...        ...      ...   \n",
              "1014  fe2ed8039068a7b06c5ff0de68dba8f93fe74c3d363349...          M    white   \n",
              "1015  fec080b434ffd9fed52a83d46f690706683fa822b1fc1f...          F    black   \n",
              "1016  fec3ed935e56355f5f2db0974d9c2d5d71491260f666e1...          F    white   \n",
              "1017  ff2f043e920c64a45dc0dec1193399ed06d0c8cf69ad9a...          M    white   \n",
              "1018  ffb1c9de2fdf99a5ee9f0e960a50a7416df1d2f4ad912c...          F    white   \n",
              "\n",
              "     DIAGNOSIS  OVERALL_ENC_BASE_COST  OVERALL_ENC_PAYER_COVERAGE  \\\n",
              "0         none                 516.64                      516.64   \n",
              "1         none                 645.80                      645.80   \n",
              "2         none                 774.96                      774.96   \n",
              "3         none                1033.28                     1033.28   \n",
              "4         none                1162.44                     1162.44   \n",
              "...        ...                    ...                         ...   \n",
              "1014      none                 387.48                      387.48   \n",
              "1015      none                1162.44                        0.00   \n",
              "1016      none                 645.80                      645.80   \n",
              "1017     other                 774.96                      694.96   \n",
              "1018      none                 645.80                      645.80   \n",
              "\n",
              "      NUMBER_ENCOUNTERS  OVERALL_PRO_BASE_COST  NUMBER_PROCEDURES  \\\n",
              "0                     4                    NaN                  0   \n",
              "1                     5                    NaN                  0   \n",
              "2                     6                    NaN                  0   \n",
              "3                     8                    NaN                  0   \n",
              "4                     9                    NaN                  0   \n",
              "...                 ...                    ...                ...   \n",
              "1014                  3                    NaN                  0   \n",
              "1015                  9                    NaN                  0   \n",
              "1016                  5                    NaN                  0   \n",
              "1017                  6                    NaN                  0   \n",
              "1018                  5                    NaN                  0   \n",
              "\n",
              "      OVERALL_MED_BASE_COST  OVERALL_MED_DISPENSES  OVERALL_MED_TOTAL_COST  \\\n",
              "0                       NaN                    NaN                     NaN   \n",
              "1                       NaN                    NaN                     NaN   \n",
              "2                       NaN                    NaN                     NaN   \n",
              "3                       NaN                    NaN                     NaN   \n",
              "4                       NaN                    NaN                     NaN   \n",
              "...                     ...                    ...                     ...   \n",
              "1014                    NaN                    NaN                     NaN   \n",
              "1015                    NaN                    NaN                     NaN   \n",
              "1016                    NaN                    NaN                     NaN   \n",
              "1017                    NaN                    NaN                     NaN   \n",
              "1018                    NaN                    NaN                     NaN   \n",
              "\n",
              "      OVERALL_MED_PAYER_COVERAGE  NUMBER_MEDICATIONS  \n",
              "0                            NaN                   0  \n",
              "1                            NaN                   0  \n",
              "2                            NaN                   0  \n",
              "3                            NaN                   0  \n",
              "4                            NaN                   0  \n",
              "...                          ...                 ...  \n",
              "1014                         NaN                   0  \n",
              "1015                         NaN                   0  \n",
              "1016                         NaN                   0  \n",
              "1017                         NaN                   0  \n",
              "1018                         NaN                   0  \n",
              "\n",
              "[1019 rows x 14 columns]"
            ],
            "text/html": [
              "\n",
              "  <div id=\"df-b834aa80-f84e-4d7e-b338-1fdc8f7d3914\">\n",
              "    <div class=\"colab-df-container\">\n",
              "      <div>\n",
              "<style scoped>\n",
              "    .dataframe tbody tr th:only-of-type {\n",
              "        vertical-align: middle;\n",
              "    }\n",
              "\n",
              "    .dataframe tbody tr th {\n",
              "        vertical-align: top;\n",
              "    }\n",
              "\n",
              "    .dataframe thead th {\n",
              "        text-align: right;\n",
              "    }\n",
              "</style>\n",
              "<table border=\"1\" class=\"dataframe\">\n",
              "  <thead>\n",
              "    <tr style=\"text-align: right;\">\n",
              "      <th></th>\n",
              "      <th>PATIENT</th>\n",
              "      <th>PAT_GENDER</th>\n",
              "      <th>PAT_RACE</th>\n",
              "      <th>DIAGNOSIS</th>\n",
              "      <th>OVERALL_ENC_BASE_COST</th>\n",
              "      <th>OVERALL_ENC_PAYER_COVERAGE</th>\n",
              "      <th>NUMBER_ENCOUNTERS</th>\n",
              "      <th>OVERALL_PRO_BASE_COST</th>\n",
              "      <th>NUMBER_PROCEDURES</th>\n",
              "      <th>OVERALL_MED_BASE_COST</th>\n",
              "      <th>OVERALL_MED_DISPENSES</th>\n",
              "      <th>OVERALL_MED_TOTAL_COST</th>\n",
              "      <th>OVERALL_MED_PAYER_COVERAGE</th>\n",
              "      <th>NUMBER_MEDICATIONS</th>\n",
              "    </tr>\n",
              "  </thead>\n",
              "  <tbody>\n",
              "    <tr>\n",
              "      <th>0</th>\n",
              "      <td>001a14efaa07e86d7a2bb7750068159e7607eaeb5a508b...</td>\n",
              "      <td>M</td>\n",
              "      <td>asian</td>\n",
              "      <td>none</td>\n",
              "      <td>516.64</td>\n",
              "      <td>516.64</td>\n",
              "      <td>4</td>\n",
              "      <td>NaN</td>\n",
              "      <td>0</td>\n",
              "      <td>NaN</td>\n",
              "      <td>NaN</td>\n",
              "      <td>NaN</td>\n",
              "      <td>NaN</td>\n",
              "      <td>0</td>\n",
              "    </tr>\n",
              "    <tr>\n",
              "      <th>1</th>\n",
              "      <td>00330f2d793f5867ff4d96ce37152a9af59eef4d89fb4c...</td>\n",
              "      <td>F</td>\n",
              "      <td>white</td>\n",
              "      <td>none</td>\n",
              "      <td>645.80</td>\n",
              "      <td>645.80</td>\n",
              "      <td>5</td>\n",
              "      <td>NaN</td>\n",
              "      <td>0</td>\n",
              "      <td>NaN</td>\n",
              "      <td>NaN</td>\n",
              "      <td>NaN</td>\n",
              "      <td>NaN</td>\n",
              "      <td>0</td>\n",
              "    </tr>\n",
              "    <tr>\n",
              "      <th>2</th>\n",
              "      <td>006658a456067ed4ddea461333b5897988f79f069c04b5...</td>\n",
              "      <td>M</td>\n",
              "      <td>white</td>\n",
              "      <td>none</td>\n",
              "      <td>774.96</td>\n",
              "      <td>774.96</td>\n",
              "      <td>6</td>\n",
              "      <td>NaN</td>\n",
              "      <td>0</td>\n",
              "      <td>NaN</td>\n",
              "      <td>NaN</td>\n",
              "      <td>NaN</td>\n",
              "      <td>NaN</td>\n",
              "      <td>0</td>\n",
              "    </tr>\n",
              "    <tr>\n",
              "      <th>3</th>\n",
              "      <td>007c6b726d61f194eda6317b75282fa27d24fa9724974e...</td>\n",
              "      <td>M</td>\n",
              "      <td>white</td>\n",
              "      <td>none</td>\n",
              "      <td>1033.28</td>\n",
              "      <td>1033.28</td>\n",
              "      <td>8</td>\n",
              "      <td>NaN</td>\n",
              "      <td>0</td>\n",
              "      <td>NaN</td>\n",
              "      <td>NaN</td>\n",
              "      <td>NaN</td>\n",
              "      <td>NaN</td>\n",
              "      <td>0</td>\n",
              "    </tr>\n",
              "    <tr>\n",
              "      <th>4</th>\n",
              "      <td>008f7eecb74441ba68cba1b312200e58c5ca5c6c5e883d...</td>\n",
              "      <td>F</td>\n",
              "      <td>white</td>\n",
              "      <td>none</td>\n",
              "      <td>1162.44</td>\n",
              "      <td>1162.44</td>\n",
              "      <td>9</td>\n",
              "      <td>NaN</td>\n",
              "      <td>0</td>\n",
              "      <td>NaN</td>\n",
              "      <td>NaN</td>\n",
              "      <td>NaN</td>\n",
              "      <td>NaN</td>\n",
              "      <td>0</td>\n",
              "    </tr>\n",
              "    <tr>\n",
              "      <th>...</th>\n",
              "      <td>...</td>\n",
              "      <td>...</td>\n",
              "      <td>...</td>\n",
              "      <td>...</td>\n",
              "      <td>...</td>\n",
              "      <td>...</td>\n",
              "      <td>...</td>\n",
              "      <td>...</td>\n",
              "      <td>...</td>\n",
              "      <td>...</td>\n",
              "      <td>...</td>\n",
              "      <td>...</td>\n",
              "      <td>...</td>\n",
              "      <td>...</td>\n",
              "    </tr>\n",
              "    <tr>\n",
              "      <th>1014</th>\n",
              "      <td>fe2ed8039068a7b06c5ff0de68dba8f93fe74c3d363349...</td>\n",
              "      <td>M</td>\n",
              "      <td>white</td>\n",
              "      <td>none</td>\n",
              "      <td>387.48</td>\n",
              "      <td>387.48</td>\n",
              "      <td>3</td>\n",
              "      <td>NaN</td>\n",
              "      <td>0</td>\n",
              "      <td>NaN</td>\n",
              "      <td>NaN</td>\n",
              "      <td>NaN</td>\n",
              "      <td>NaN</td>\n",
              "      <td>0</td>\n",
              "    </tr>\n",
              "    <tr>\n",
              "      <th>1015</th>\n",
              "      <td>fec080b434ffd9fed52a83d46f690706683fa822b1fc1f...</td>\n",
              "      <td>F</td>\n",
              "      <td>black</td>\n",
              "      <td>none</td>\n",
              "      <td>1162.44</td>\n",
              "      <td>0.00</td>\n",
              "      <td>9</td>\n",
              "      <td>NaN</td>\n",
              "      <td>0</td>\n",
              "      <td>NaN</td>\n",
              "      <td>NaN</td>\n",
              "      <td>NaN</td>\n",
              "      <td>NaN</td>\n",
              "      <td>0</td>\n",
              "    </tr>\n",
              "    <tr>\n",
              "      <th>1016</th>\n",
              "      <td>fec3ed935e56355f5f2db0974d9c2d5d71491260f666e1...</td>\n",
              "      <td>F</td>\n",
              "      <td>white</td>\n",
              "      <td>none</td>\n",
              "      <td>645.80</td>\n",
              "      <td>645.80</td>\n",
              "      <td>5</td>\n",
              "      <td>NaN</td>\n",
              "      <td>0</td>\n",
              "      <td>NaN</td>\n",
              "      <td>NaN</td>\n",
              "      <td>NaN</td>\n",
              "      <td>NaN</td>\n",
              "      <td>0</td>\n",
              "    </tr>\n",
              "    <tr>\n",
              "      <th>1017</th>\n",
              "      <td>ff2f043e920c64a45dc0dec1193399ed06d0c8cf69ad9a...</td>\n",
              "      <td>M</td>\n",
              "      <td>white</td>\n",
              "      <td>other</td>\n",
              "      <td>774.96</td>\n",
              "      <td>694.96</td>\n",
              "      <td>6</td>\n",
              "      <td>NaN</td>\n",
              "      <td>0</td>\n",
              "      <td>NaN</td>\n",
              "      <td>NaN</td>\n",
              "      <td>NaN</td>\n",
              "      <td>NaN</td>\n",
              "      <td>0</td>\n",
              "    </tr>\n",
              "    <tr>\n",
              "      <th>1018</th>\n",
              "      <td>ffb1c9de2fdf99a5ee9f0e960a50a7416df1d2f4ad912c...</td>\n",
              "      <td>F</td>\n",
              "      <td>white</td>\n",
              "      <td>none</td>\n",
              "      <td>645.80</td>\n",
              "      <td>645.80</td>\n",
              "      <td>5</td>\n",
              "      <td>NaN</td>\n",
              "      <td>0</td>\n",
              "      <td>NaN</td>\n",
              "      <td>NaN</td>\n",
              "      <td>NaN</td>\n",
              "      <td>NaN</td>\n",
              "      <td>0</td>\n",
              "    </tr>\n",
              "  </tbody>\n",
              "</table>\n",
              "<p>1019 rows × 14 columns</p>\n",
              "</div>\n",
              "      <button class=\"colab-df-convert\" onclick=\"convertToInteractive('df-b834aa80-f84e-4d7e-b338-1fdc8f7d3914')\"\n",
              "              title=\"Convert this dataframe to an interactive table.\"\n",
              "              style=\"display:none;\">\n",
              "        \n",
              "  <svg xmlns=\"http://www.w3.org/2000/svg\" height=\"24px\"viewBox=\"0 0 24 24\"\n",
              "       width=\"24px\">\n",
              "    <path d=\"M0 0h24v24H0V0z\" fill=\"none\"/>\n",
              "    <path d=\"M18.56 5.44l.94 2.06.94-2.06 2.06-.94-2.06-.94-.94-2.06-.94 2.06-2.06.94zm-11 1L8.5 8.5l.94-2.06 2.06-.94-2.06-.94L8.5 2.5l-.94 2.06-2.06.94zm10 10l.94 2.06.94-2.06 2.06-.94-2.06-.94-.94-2.06-.94 2.06-2.06.94z\"/><path d=\"M17.41 7.96l-1.37-1.37c-.4-.4-.92-.59-1.43-.59-.52 0-1.04.2-1.43.59L10.3 9.45l-7.72 7.72c-.78.78-.78 2.05 0 2.83L4 21.41c.39.39.9.59 1.41.59.51 0 1.02-.2 1.41-.59l7.78-7.78 2.81-2.81c.8-.78.8-2.07 0-2.86zM5.41 20L4 18.59l7.72-7.72 1.47 1.35L5.41 20z\"/>\n",
              "  </svg>\n",
              "      </button>\n",
              "      \n",
              "  <style>\n",
              "    .colab-df-container {\n",
              "      display:flex;\n",
              "      flex-wrap:wrap;\n",
              "      gap: 12px;\n",
              "    }\n",
              "\n",
              "    .colab-df-convert {\n",
              "      background-color: #E8F0FE;\n",
              "      border: none;\n",
              "      border-radius: 50%;\n",
              "      cursor: pointer;\n",
              "      display: none;\n",
              "      fill: #1967D2;\n",
              "      height: 32px;\n",
              "      padding: 0 0 0 0;\n",
              "      width: 32px;\n",
              "    }\n",
              "\n",
              "    .colab-df-convert:hover {\n",
              "      background-color: #E2EBFA;\n",
              "      box-shadow: 0px 1px 2px rgba(60, 64, 67, 0.3), 0px 1px 3px 1px rgba(60, 64, 67, 0.15);\n",
              "      fill: #174EA6;\n",
              "    }\n",
              "\n",
              "    [theme=dark] .colab-df-convert {\n",
              "      background-color: #3B4455;\n",
              "      fill: #D2E3FC;\n",
              "    }\n",
              "\n",
              "    [theme=dark] .colab-df-convert:hover {\n",
              "      background-color: #434B5C;\n",
              "      box-shadow: 0px 1px 3px 1px rgba(0, 0, 0, 0.15);\n",
              "      filter: drop-shadow(0px 1px 2px rgba(0, 0, 0, 0.3));\n",
              "      fill: #FFFFFF;\n",
              "    }\n",
              "  </style>\n",
              "\n",
              "      <script>\n",
              "        const buttonEl =\n",
              "          document.querySelector('#df-b834aa80-f84e-4d7e-b338-1fdc8f7d3914 button.colab-df-convert');\n",
              "        buttonEl.style.display =\n",
              "          google.colab.kernel.accessAllowed ? 'block' : 'none';\n",
              "\n",
              "        async function convertToInteractive(key) {\n",
              "          const element = document.querySelector('#df-b834aa80-f84e-4d7e-b338-1fdc8f7d3914');\n",
              "          const dataTable =\n",
              "            await google.colab.kernel.invokeFunction('convertToInteractive',\n",
              "                                                     [key], {});\n",
              "          if (!dataTable) return;\n",
              "\n",
              "          const docLinkHtml = 'Like what you see? Visit the ' +\n",
              "            '<a target=\"_blank\" href=https://colab.research.google.com/notebooks/data_table.ipynb>data table notebook</a>'\n",
              "            + ' to learn more about interactive tables.';\n",
              "          element.innerHTML = '';\n",
              "          dataTable['output_type'] = 'display_data';\n",
              "          await google.colab.output.renderOutput(dataTable, element);\n",
              "          const docLink = document.createElement('div');\n",
              "          docLink.innerHTML = docLinkHtml;\n",
              "          element.appendChild(docLink);\n",
              "        }\n",
              "      </script>\n",
              "    </div>\n",
              "  </div>\n",
              "  "
            ]
          },
          "metadata": {},
          "execution_count": 30
        }
      ]
    },
    {
      "cell_type": "markdown",
      "source": [
        "## EDA (Explorative Datenanalyse)"
      ],
      "metadata": {
        "id": "fPM9c2V-xYZn"
      }
    },
    {
      "cell_type": "markdown",
      "source": [
        "## Übersicht über Patientenanzahl (rows) und beschreibende Attribute (columns)"
      ],
      "metadata": {
        "id": "9XgUcgqGDg4S"
      }
    },
    {
      "cell_type": "code",
      "source": [
        "patient_data.shape"
      ],
      "metadata": {
        "id": "ioXXjc4uCdGU",
        "colab": {
          "base_uri": "https://localhost:8080/"
        },
        "outputId": "d1c726e5-bce4-4d26-b524-6299ff0b1b21"
      },
      "execution_count": 31,
      "outputs": [
        {
          "output_type": "execute_result",
          "data": {
            "text/plain": [
              "(1019, 14)"
            ]
          },
          "metadata": {},
          "execution_count": 31
        }
      ]
    },
    {
      "cell_type": "markdown",
      "source": [
        "## Übersicht über die beschreibenden Attribute (columns)"
      ],
      "metadata": {
        "id": "QM--TnrODp14"
      }
    },
    {
      "cell_type": "code",
      "source": [
        "patient_data.columns"
      ],
      "metadata": {
        "id": "HlcAmfXJClrE",
        "colab": {
          "base_uri": "https://localhost:8080/"
        },
        "outputId": "130a82a8-81ba-4104-d38c-3e6af4501d35"
      },
      "execution_count": 32,
      "outputs": [
        {
          "output_type": "execute_result",
          "data": {
            "text/plain": [
              "Index(['PATIENT', 'PAT_GENDER', 'PAT_RACE', 'DIAGNOSIS',\n",
              "       'OVERALL_ENC_BASE_COST', 'OVERALL_ENC_PAYER_COVERAGE',\n",
              "       'NUMBER_ENCOUNTERS', 'OVERALL_PRO_BASE_COST', 'NUMBER_PROCEDURES',\n",
              "       'OVERALL_MED_BASE_COST', 'OVERALL_MED_DISPENSES',\n",
              "       'OVERALL_MED_TOTAL_COST', 'OVERALL_MED_PAYER_COVERAGE',\n",
              "       'NUMBER_MEDICATIONS'],\n",
              "      dtype='object')"
            ]
          },
          "metadata": {},
          "execution_count": 32
        }
      ]
    },
    {
      "cell_type": "markdown",
      "source": [
        "## Übersicht vorhandene Datentypen und Anzahl der Nullwerte"
      ],
      "metadata": {
        "id": "UkRFqkqyDwZe"
      }
    },
    {
      "cell_type": "code",
      "source": [
        "patient_data.info()"
      ],
      "metadata": {
        "id": "gN77IKUtCxz-",
        "colab": {
          "base_uri": "https://localhost:8080/"
        },
        "outputId": "fd8c2182-b78e-4293-c5ea-4f3fe050ef0c"
      },
      "execution_count": 33,
      "outputs": [
        {
          "output_type": "stream",
          "name": "stdout",
          "text": [
            "<class 'pandas.core.frame.DataFrame'>\n",
            "RangeIndex: 1019 entries, 0 to 1018\n",
            "Data columns (total 14 columns):\n",
            " #   Column                      Non-Null Count  Dtype  \n",
            "---  ------                      --------------  -----  \n",
            " 0   PATIENT                     1019 non-null   object \n",
            " 1   PAT_GENDER                  1019 non-null   object \n",
            " 2   PAT_RACE                    1019 non-null   object \n",
            " 3   DIAGNOSIS                   1019 non-null   object \n",
            " 4   OVERALL_ENC_BASE_COST       1019 non-null   float64\n",
            " 5   OVERALL_ENC_PAYER_COVERAGE  1019 non-null   float64\n",
            " 6   NUMBER_ENCOUNTERS           1019 non-null   int64  \n",
            " 7   OVERALL_PRO_BASE_COST       77 non-null     float64\n",
            " 8   NUMBER_PROCEDURES           1019 non-null   int64  \n",
            " 9   OVERALL_MED_BASE_COST       98 non-null     float64\n",
            " 10  OVERALL_MED_DISPENSES       98 non-null     float64\n",
            " 11  OVERALL_MED_TOTAL_COST      98 non-null     float64\n",
            " 12  OVERALL_MED_PAYER_COVERAGE  98 non-null     float64\n",
            " 13  NUMBER_MEDICATIONS          1019 non-null   int64  \n",
            "dtypes: float64(7), int64(3), object(4)\n",
            "memory usage: 111.6+ KB\n"
          ]
        }
      ]
    },
    {
      "cell_type": "markdown",
      "source": [
        "## Erste Übersicht mit beschreibender Statistik (count, mean ...)"
      ],
      "metadata": {
        "id": "_okr_7CcD9ar"
      }
    },
    {
      "cell_type": "code",
      "source": [
        "patient_data.describe()"
      ],
      "metadata": {
        "id": "bulvicWGC7tD",
        "colab": {
          "base_uri": "https://localhost:8080/",
          "height": 364
        },
        "outputId": "a3d6092b-444c-4dbd-ce80-f6f5fbad8e0d"
      },
      "execution_count": 34,
      "outputs": [
        {
          "output_type": "execute_result",
          "data": {
            "text/plain": [
              "       OVERALL_ENC_BASE_COST  OVERALL_ENC_PAYER_COVERAGE  NUMBER_ENCOUNTERS  \\\n",
              "count            1019.000000                 1019.000000        1019.000000   \n",
              "mean             1081.317841                  957.650716           8.442591   \n",
              "std               732.908624                  555.148606           6.329166   \n",
              "min               129.160000                    0.000000           1.000000   \n",
              "25%               516.640000                  516.640000           4.000000   \n",
              "50%              1033.280000                 1033.280000           8.000000   \n",
              "75%              1291.600000                 1291.600000          10.000000   \n",
              "max              9247.550000                 4371.220000          92.000000   \n",
              "\n",
              "       OVERALL_PRO_BASE_COST  NUMBER_PROCEDURES  OVERALL_MED_BASE_COST  \\\n",
              "count              77.000000        1019.000000              98.000000   \n",
              "mean           100877.699481           0.732090            3160.850918   \n",
              "std             96865.027773           4.789053           12132.464945   \n",
              "min             18469.030000           0.000000               0.220000   \n",
              "25%             28545.570000           0.000000             179.397500   \n",
              "50%             54337.360000           0.000000             308.440000   \n",
              "75%            166728.780000           0.000000             748.400000   \n",
              "max            381671.210000          73.000000          107598.150000   \n",
              "\n",
              "       OVERALL_MED_DISPENSES  OVERALL_MED_TOTAL_COST  \\\n",
              "count              98.000000               98.000000   \n",
              "mean              407.387755            35769.338673   \n",
              "std               474.410641            46735.025021   \n",
              "min                 1.000000                0.220000   \n",
              "25%                 3.000000             6452.622500   \n",
              "50%               237.500000            14517.060000   \n",
              "75%               652.500000            54573.800000   \n",
              "max              1885.000000           216023.700000   \n",
              "\n",
              "       OVERALL_MED_PAYER_COVERAGE  NUMBER_MEDICATIONS  \n",
              "count                   98.000000         1019.000000  \n",
              "mean                   876.478265            0.419038  \n",
              "std                   2215.893841            1.582713  \n",
              "min                      0.000000            0.000000  \n",
              "25%                      0.000000            0.000000  \n",
              "50%                      0.000000            0.000000  \n",
              "75%                      0.000000            0.000000  \n",
              "max                   6849.250000           19.000000  "
            ],
            "text/html": [
              "\n",
              "  <div id=\"df-0aaf69fd-9754-4505-9e15-4ec24c5ad40c\">\n",
              "    <div class=\"colab-df-container\">\n",
              "      <div>\n",
              "<style scoped>\n",
              "    .dataframe tbody tr th:only-of-type {\n",
              "        vertical-align: middle;\n",
              "    }\n",
              "\n",
              "    .dataframe tbody tr th {\n",
              "        vertical-align: top;\n",
              "    }\n",
              "\n",
              "    .dataframe thead th {\n",
              "        text-align: right;\n",
              "    }\n",
              "</style>\n",
              "<table border=\"1\" class=\"dataframe\">\n",
              "  <thead>\n",
              "    <tr style=\"text-align: right;\">\n",
              "      <th></th>\n",
              "      <th>OVERALL_ENC_BASE_COST</th>\n",
              "      <th>OVERALL_ENC_PAYER_COVERAGE</th>\n",
              "      <th>NUMBER_ENCOUNTERS</th>\n",
              "      <th>OVERALL_PRO_BASE_COST</th>\n",
              "      <th>NUMBER_PROCEDURES</th>\n",
              "      <th>OVERALL_MED_BASE_COST</th>\n",
              "      <th>OVERALL_MED_DISPENSES</th>\n",
              "      <th>OVERALL_MED_TOTAL_COST</th>\n",
              "      <th>OVERALL_MED_PAYER_COVERAGE</th>\n",
              "      <th>NUMBER_MEDICATIONS</th>\n",
              "    </tr>\n",
              "  </thead>\n",
              "  <tbody>\n",
              "    <tr>\n",
              "      <th>count</th>\n",
              "      <td>1019.000000</td>\n",
              "      <td>1019.000000</td>\n",
              "      <td>1019.000000</td>\n",
              "      <td>77.000000</td>\n",
              "      <td>1019.000000</td>\n",
              "      <td>98.000000</td>\n",
              "      <td>98.000000</td>\n",
              "      <td>98.000000</td>\n",
              "      <td>98.000000</td>\n",
              "      <td>1019.000000</td>\n",
              "    </tr>\n",
              "    <tr>\n",
              "      <th>mean</th>\n",
              "      <td>1081.317841</td>\n",
              "      <td>957.650716</td>\n",
              "      <td>8.442591</td>\n",
              "      <td>100877.699481</td>\n",
              "      <td>0.732090</td>\n",
              "      <td>3160.850918</td>\n",
              "      <td>407.387755</td>\n",
              "      <td>35769.338673</td>\n",
              "      <td>876.478265</td>\n",
              "      <td>0.419038</td>\n",
              "    </tr>\n",
              "    <tr>\n",
              "      <th>std</th>\n",
              "      <td>732.908624</td>\n",
              "      <td>555.148606</td>\n",
              "      <td>6.329166</td>\n",
              "      <td>96865.027773</td>\n",
              "      <td>4.789053</td>\n",
              "      <td>12132.464945</td>\n",
              "      <td>474.410641</td>\n",
              "      <td>46735.025021</td>\n",
              "      <td>2215.893841</td>\n",
              "      <td>1.582713</td>\n",
              "    </tr>\n",
              "    <tr>\n",
              "      <th>min</th>\n",
              "      <td>129.160000</td>\n",
              "      <td>0.000000</td>\n",
              "      <td>1.000000</td>\n",
              "      <td>18469.030000</td>\n",
              "      <td>0.000000</td>\n",
              "      <td>0.220000</td>\n",
              "      <td>1.000000</td>\n",
              "      <td>0.220000</td>\n",
              "      <td>0.000000</td>\n",
              "      <td>0.000000</td>\n",
              "    </tr>\n",
              "    <tr>\n",
              "      <th>25%</th>\n",
              "      <td>516.640000</td>\n",
              "      <td>516.640000</td>\n",
              "      <td>4.000000</td>\n",
              "      <td>28545.570000</td>\n",
              "      <td>0.000000</td>\n",
              "      <td>179.397500</td>\n",
              "      <td>3.000000</td>\n",
              "      <td>6452.622500</td>\n",
              "      <td>0.000000</td>\n",
              "      <td>0.000000</td>\n",
              "    </tr>\n",
              "    <tr>\n",
              "      <th>50%</th>\n",
              "      <td>1033.280000</td>\n",
              "      <td>1033.280000</td>\n",
              "      <td>8.000000</td>\n",
              "      <td>54337.360000</td>\n",
              "      <td>0.000000</td>\n",
              "      <td>308.440000</td>\n",
              "      <td>237.500000</td>\n",
              "      <td>14517.060000</td>\n",
              "      <td>0.000000</td>\n",
              "      <td>0.000000</td>\n",
              "    </tr>\n",
              "    <tr>\n",
              "      <th>75%</th>\n",
              "      <td>1291.600000</td>\n",
              "      <td>1291.600000</td>\n",
              "      <td>10.000000</td>\n",
              "      <td>166728.780000</td>\n",
              "      <td>0.000000</td>\n",
              "      <td>748.400000</td>\n",
              "      <td>652.500000</td>\n",
              "      <td>54573.800000</td>\n",
              "      <td>0.000000</td>\n",
              "      <td>0.000000</td>\n",
              "    </tr>\n",
              "    <tr>\n",
              "      <th>max</th>\n",
              "      <td>9247.550000</td>\n",
              "      <td>4371.220000</td>\n",
              "      <td>92.000000</td>\n",
              "      <td>381671.210000</td>\n",
              "      <td>73.000000</td>\n",
              "      <td>107598.150000</td>\n",
              "      <td>1885.000000</td>\n",
              "      <td>216023.700000</td>\n",
              "      <td>6849.250000</td>\n",
              "      <td>19.000000</td>\n",
              "    </tr>\n",
              "  </tbody>\n",
              "</table>\n",
              "</div>\n",
              "      <button class=\"colab-df-convert\" onclick=\"convertToInteractive('df-0aaf69fd-9754-4505-9e15-4ec24c5ad40c')\"\n",
              "              title=\"Convert this dataframe to an interactive table.\"\n",
              "              style=\"display:none;\">\n",
              "        \n",
              "  <svg xmlns=\"http://www.w3.org/2000/svg\" height=\"24px\"viewBox=\"0 0 24 24\"\n",
              "       width=\"24px\">\n",
              "    <path d=\"M0 0h24v24H0V0z\" fill=\"none\"/>\n",
              "    <path d=\"M18.56 5.44l.94 2.06.94-2.06 2.06-.94-2.06-.94-.94-2.06-.94 2.06-2.06.94zm-11 1L8.5 8.5l.94-2.06 2.06-.94-2.06-.94L8.5 2.5l-.94 2.06-2.06.94zm10 10l.94 2.06.94-2.06 2.06-.94-2.06-.94-.94-2.06-.94 2.06-2.06.94z\"/><path d=\"M17.41 7.96l-1.37-1.37c-.4-.4-.92-.59-1.43-.59-.52 0-1.04.2-1.43.59L10.3 9.45l-7.72 7.72c-.78.78-.78 2.05 0 2.83L4 21.41c.39.39.9.59 1.41.59.51 0 1.02-.2 1.41-.59l7.78-7.78 2.81-2.81c.8-.78.8-2.07 0-2.86zM5.41 20L4 18.59l7.72-7.72 1.47 1.35L5.41 20z\"/>\n",
              "  </svg>\n",
              "      </button>\n",
              "      \n",
              "  <style>\n",
              "    .colab-df-container {\n",
              "      display:flex;\n",
              "      flex-wrap:wrap;\n",
              "      gap: 12px;\n",
              "    }\n",
              "\n",
              "    .colab-df-convert {\n",
              "      background-color: #E8F0FE;\n",
              "      border: none;\n",
              "      border-radius: 50%;\n",
              "      cursor: pointer;\n",
              "      display: none;\n",
              "      fill: #1967D2;\n",
              "      height: 32px;\n",
              "      padding: 0 0 0 0;\n",
              "      width: 32px;\n",
              "    }\n",
              "\n",
              "    .colab-df-convert:hover {\n",
              "      background-color: #E2EBFA;\n",
              "      box-shadow: 0px 1px 2px rgba(60, 64, 67, 0.3), 0px 1px 3px 1px rgba(60, 64, 67, 0.15);\n",
              "      fill: #174EA6;\n",
              "    }\n",
              "\n",
              "    [theme=dark] .colab-df-convert {\n",
              "      background-color: #3B4455;\n",
              "      fill: #D2E3FC;\n",
              "    }\n",
              "\n",
              "    [theme=dark] .colab-df-convert:hover {\n",
              "      background-color: #434B5C;\n",
              "      box-shadow: 0px 1px 3px 1px rgba(0, 0, 0, 0.15);\n",
              "      filter: drop-shadow(0px 1px 2px rgba(0, 0, 0, 0.3));\n",
              "      fill: #FFFFFF;\n",
              "    }\n",
              "  </style>\n",
              "\n",
              "      <script>\n",
              "        const buttonEl =\n",
              "          document.querySelector('#df-0aaf69fd-9754-4505-9e15-4ec24c5ad40c button.colab-df-convert');\n",
              "        buttonEl.style.display =\n",
              "          google.colab.kernel.accessAllowed ? 'block' : 'none';\n",
              "\n",
              "        async function convertToInteractive(key) {\n",
              "          const element = document.querySelector('#df-0aaf69fd-9754-4505-9e15-4ec24c5ad40c');\n",
              "          const dataTable =\n",
              "            await google.colab.kernel.invokeFunction('convertToInteractive',\n",
              "                                                     [key], {});\n",
              "          if (!dataTable) return;\n",
              "\n",
              "          const docLinkHtml = 'Like what you see? Visit the ' +\n",
              "            '<a target=\"_blank\" href=https://colab.research.google.com/notebooks/data_table.ipynb>data table notebook</a>'\n",
              "            + ' to learn more about interactive tables.';\n",
              "          element.innerHTML = '';\n",
              "          dataTable['output_type'] = 'display_data';\n",
              "          await google.colab.output.renderOutput(dataTable, element);\n",
              "          const docLink = document.createElement('div');\n",
              "          docLink.innerHTML = docLinkHtml;\n",
              "          element.appendChild(docLink);\n",
              "        }\n",
              "      </script>\n",
              "    </div>\n",
              "  </div>\n",
              "  "
            ]
          },
          "metadata": {},
          "execution_count": 34
        }
      ]
    },
    {
      "cell_type": "code",
      "source": [
        "patient_data.nunique(axis=0)"
      ],
      "metadata": {
        "id": "DEKmja49DEY_",
        "colab": {
          "base_uri": "https://localhost:8080/"
        },
        "outputId": "c3aa4d6f-9a85-4fbd-c6b7-167b30c0eaf9"
      },
      "execution_count": 35,
      "outputs": [
        {
          "output_type": "execute_result",
          "data": {
            "text/plain": [
              "PATIENT                       1019\n",
              "PAT_GENDER                       2\n",
              "PAT_RACE                         5\n",
              "DIAGNOSIS                        3\n",
              "OVERALL_ENC_BASE_COST           27\n",
              "OVERALL_ENC_PAYER_COVERAGE      82\n",
              "NUMBER_ENCOUNTERS               26\n",
              "OVERALL_PRO_BASE_COST           77\n",
              "NUMBER_PROCEDURES               19\n",
              "OVERALL_MED_BASE_COST           98\n",
              "OVERALL_MED_DISPENSES           72\n",
              "OVERALL_MED_TOTAL_COST          98\n",
              "OVERALL_MED_PAYER_COVERAGE      21\n",
              "NUMBER_MEDICATIONS              13\n",
              "dtype: int64"
            ]
          },
          "metadata": {},
          "execution_count": 35
        }
      ]
    },
    {
      "cell_type": "markdown",
      "source": [
        "## Duplikate / doppelte Werte"
      ],
      "metadata": {
        "id": "mtl2vNqlCTsZ"
      }
    },
    {
      "cell_type": "code",
      "source": [
        "print(\"Anzahl doppelte Zeilen:\", patient_data.duplicated(patient_data.columns).sum())"
      ],
      "metadata": {
        "id": "-NyxdZ59DVbV",
        "colab": {
          "base_uri": "https://localhost:8080/"
        },
        "outputId": "fbc2fcca-4607-44f5-a1e6-aabb2b53f083"
      },
      "execution_count": 36,
      "outputs": [
        {
          "output_type": "stream",
          "name": "stdout",
          "text": [
            "Anzahl doppelte Zeilen: 0\n"
          ]
        }
      ]
    },
    {
      "cell_type": "code",
      "source": [
        "# Entfernen von doppelten Werten (erster Wert bleibt bestehen)\n",
        "patient_data.drop_duplicates(keep=\"first\",inplace=True) \n",
        "print(\"Größe des Datensatzes nach dem Entfernen von doppelten Zeilen:\", patient_data.shape)"
      ],
      "metadata": {
        "id": "bQReBDXHDbaW",
        "colab": {
          "base_uri": "https://localhost:8080/"
        },
        "outputId": "c2478e56-0b53-4bf4-bb68-b8a53fe1a54a"
      },
      "execution_count": 37,
      "outputs": [
        {
          "output_type": "stream",
          "name": "stdout",
          "text": [
            "Größe des Datensatzes nach dem Entfernen von doppelten Zeilen: (1019, 14)\n"
          ]
        }
      ]
    },
    {
      "cell_type": "markdown",
      "source": [
        "## Vollständigkeit: Fehlende Werte (NULL / NaN)"
      ],
      "metadata": {
        "id": "RfHW4MijGdp5"
      }
    },
    {
      "cell_type": "code",
      "source": [
        "# Anteil von Nicht-NULL-Werten in jeder Spalte\n",
        "patient_data.count()/len(patient_data) * 100"
      ],
      "metadata": {
        "id": "h9BMaWX5DiO8",
        "colab": {
          "base_uri": "https://localhost:8080/"
        },
        "outputId": "ad7f4551-e7ab-4f73-964d-6d4249354356"
      },
      "execution_count": 38,
      "outputs": [
        {
          "output_type": "execute_result",
          "data": {
            "text/plain": [
              "PATIENT                       100.000000\n",
              "PAT_GENDER                    100.000000\n",
              "PAT_RACE                      100.000000\n",
              "DIAGNOSIS                     100.000000\n",
              "OVERALL_ENC_BASE_COST         100.000000\n",
              "OVERALL_ENC_PAYER_COVERAGE    100.000000\n",
              "NUMBER_ENCOUNTERS             100.000000\n",
              "OVERALL_PRO_BASE_COST           7.556428\n",
              "NUMBER_PROCEDURES             100.000000\n",
              "OVERALL_MED_BASE_COST           9.617272\n",
              "OVERALL_MED_DISPENSES           9.617272\n",
              "OVERALL_MED_TOTAL_COST          9.617272\n",
              "OVERALL_MED_PAYER_COVERAGE      9.617272\n",
              "NUMBER_MEDICATIONS            100.000000\n",
              "dtype: float64"
            ]
          },
          "metadata": {},
          "execution_count": 38
        }
      ]
    },
    {
      "cell_type": "code",
      "source": [
        "# Anzahl NULL-Werte pro Spalte\n",
        "patient_data.isnull().sum()"
      ],
      "metadata": {
        "id": "_9VJ8XC0Gv8p",
        "colab": {
          "base_uri": "https://localhost:8080/"
        },
        "outputId": "049fd9d7-19ae-4792-e5e7-c266a167d527"
      },
      "execution_count": 39,
      "outputs": [
        {
          "output_type": "execute_result",
          "data": {
            "text/plain": [
              "PATIENT                         0\n",
              "PAT_GENDER                      0\n",
              "PAT_RACE                        0\n",
              "DIAGNOSIS                       0\n",
              "OVERALL_ENC_BASE_COST           0\n",
              "OVERALL_ENC_PAYER_COVERAGE      0\n",
              "NUMBER_ENCOUNTERS               0\n",
              "OVERALL_PRO_BASE_COST         942\n",
              "NUMBER_PROCEDURES               0\n",
              "OVERALL_MED_BASE_COST         921\n",
              "OVERALL_MED_DISPENSES         921\n",
              "OVERALL_MED_TOTAL_COST        921\n",
              "OVERALL_MED_PAYER_COVERAGE    921\n",
              "NUMBER_MEDICATIONS              0\n",
              "dtype: int64"
            ]
          },
          "metadata": {},
          "execution_count": 39
        }
      ]
    },
    {
      "cell_type": "markdown",
      "source": [
        "## Erstellen einer Kopie des Dataframes"
      ],
      "metadata": {
        "id": "M77kOHcUX3iR"
      }
    },
    {
      "cell_type": "code",
      "source": [
        "df = patient_data.copy()\n",
        "df.head()"
      ],
      "metadata": {
        "id": "tkohhSozYAio",
        "colab": {
          "base_uri": "https://localhost:8080/",
          "height": 270
        },
        "outputId": "93322d8f-5a17-4fab-c3e1-d2a196e2e732"
      },
      "execution_count": 40,
      "outputs": [
        {
          "output_type": "execute_result",
          "data": {
            "text/plain": [
              "                                             PATIENT PAT_GENDER PAT_RACE  \\\n",
              "0  001a14efaa07e86d7a2bb7750068159e7607eaeb5a508b...          M    asian   \n",
              "1  00330f2d793f5867ff4d96ce37152a9af59eef4d89fb4c...          F    white   \n",
              "2  006658a456067ed4ddea461333b5897988f79f069c04b5...          M    white   \n",
              "3  007c6b726d61f194eda6317b75282fa27d24fa9724974e...          M    white   \n",
              "4  008f7eecb74441ba68cba1b312200e58c5ca5c6c5e883d...          F    white   \n",
              "\n",
              "  DIAGNOSIS  OVERALL_ENC_BASE_COST  OVERALL_ENC_PAYER_COVERAGE  \\\n",
              "0      none                 516.64                      516.64   \n",
              "1      none                 645.80                      645.80   \n",
              "2      none                 774.96                      774.96   \n",
              "3      none                1033.28                     1033.28   \n",
              "4      none                1162.44                     1162.44   \n",
              "\n",
              "   NUMBER_ENCOUNTERS  OVERALL_PRO_BASE_COST  NUMBER_PROCEDURES  \\\n",
              "0                  4                    NaN                  0   \n",
              "1                  5                    NaN                  0   \n",
              "2                  6                    NaN                  0   \n",
              "3                  8                    NaN                  0   \n",
              "4                  9                    NaN                  0   \n",
              "\n",
              "   OVERALL_MED_BASE_COST  OVERALL_MED_DISPENSES  OVERALL_MED_TOTAL_COST  \\\n",
              "0                    NaN                    NaN                     NaN   \n",
              "1                    NaN                    NaN                     NaN   \n",
              "2                    NaN                    NaN                     NaN   \n",
              "3                    NaN                    NaN                     NaN   \n",
              "4                    NaN                    NaN                     NaN   \n",
              "\n",
              "   OVERALL_MED_PAYER_COVERAGE  NUMBER_MEDICATIONS  \n",
              "0                         NaN                   0  \n",
              "1                         NaN                   0  \n",
              "2                         NaN                   0  \n",
              "3                         NaN                   0  \n",
              "4                         NaN                   0  "
            ],
            "text/html": [
              "\n",
              "  <div id=\"df-50c7de9d-3664-49e1-9bf1-4a3363a3766c\">\n",
              "    <div class=\"colab-df-container\">\n",
              "      <div>\n",
              "<style scoped>\n",
              "    .dataframe tbody tr th:only-of-type {\n",
              "        vertical-align: middle;\n",
              "    }\n",
              "\n",
              "    .dataframe tbody tr th {\n",
              "        vertical-align: top;\n",
              "    }\n",
              "\n",
              "    .dataframe thead th {\n",
              "        text-align: right;\n",
              "    }\n",
              "</style>\n",
              "<table border=\"1\" class=\"dataframe\">\n",
              "  <thead>\n",
              "    <tr style=\"text-align: right;\">\n",
              "      <th></th>\n",
              "      <th>PATIENT</th>\n",
              "      <th>PAT_GENDER</th>\n",
              "      <th>PAT_RACE</th>\n",
              "      <th>DIAGNOSIS</th>\n",
              "      <th>OVERALL_ENC_BASE_COST</th>\n",
              "      <th>OVERALL_ENC_PAYER_COVERAGE</th>\n",
              "      <th>NUMBER_ENCOUNTERS</th>\n",
              "      <th>OVERALL_PRO_BASE_COST</th>\n",
              "      <th>NUMBER_PROCEDURES</th>\n",
              "      <th>OVERALL_MED_BASE_COST</th>\n",
              "      <th>OVERALL_MED_DISPENSES</th>\n",
              "      <th>OVERALL_MED_TOTAL_COST</th>\n",
              "      <th>OVERALL_MED_PAYER_COVERAGE</th>\n",
              "      <th>NUMBER_MEDICATIONS</th>\n",
              "    </tr>\n",
              "  </thead>\n",
              "  <tbody>\n",
              "    <tr>\n",
              "      <th>0</th>\n",
              "      <td>001a14efaa07e86d7a2bb7750068159e7607eaeb5a508b...</td>\n",
              "      <td>M</td>\n",
              "      <td>asian</td>\n",
              "      <td>none</td>\n",
              "      <td>516.64</td>\n",
              "      <td>516.64</td>\n",
              "      <td>4</td>\n",
              "      <td>NaN</td>\n",
              "      <td>0</td>\n",
              "      <td>NaN</td>\n",
              "      <td>NaN</td>\n",
              "      <td>NaN</td>\n",
              "      <td>NaN</td>\n",
              "      <td>0</td>\n",
              "    </tr>\n",
              "    <tr>\n",
              "      <th>1</th>\n",
              "      <td>00330f2d793f5867ff4d96ce37152a9af59eef4d89fb4c...</td>\n",
              "      <td>F</td>\n",
              "      <td>white</td>\n",
              "      <td>none</td>\n",
              "      <td>645.80</td>\n",
              "      <td>645.80</td>\n",
              "      <td>5</td>\n",
              "      <td>NaN</td>\n",
              "      <td>0</td>\n",
              "      <td>NaN</td>\n",
              "      <td>NaN</td>\n",
              "      <td>NaN</td>\n",
              "      <td>NaN</td>\n",
              "      <td>0</td>\n",
              "    </tr>\n",
              "    <tr>\n",
              "      <th>2</th>\n",
              "      <td>006658a456067ed4ddea461333b5897988f79f069c04b5...</td>\n",
              "      <td>M</td>\n",
              "      <td>white</td>\n",
              "      <td>none</td>\n",
              "      <td>774.96</td>\n",
              "      <td>774.96</td>\n",
              "      <td>6</td>\n",
              "      <td>NaN</td>\n",
              "      <td>0</td>\n",
              "      <td>NaN</td>\n",
              "      <td>NaN</td>\n",
              "      <td>NaN</td>\n",
              "      <td>NaN</td>\n",
              "      <td>0</td>\n",
              "    </tr>\n",
              "    <tr>\n",
              "      <th>3</th>\n",
              "      <td>007c6b726d61f194eda6317b75282fa27d24fa9724974e...</td>\n",
              "      <td>M</td>\n",
              "      <td>white</td>\n",
              "      <td>none</td>\n",
              "      <td>1033.28</td>\n",
              "      <td>1033.28</td>\n",
              "      <td>8</td>\n",
              "      <td>NaN</td>\n",
              "      <td>0</td>\n",
              "      <td>NaN</td>\n",
              "      <td>NaN</td>\n",
              "      <td>NaN</td>\n",
              "      <td>NaN</td>\n",
              "      <td>0</td>\n",
              "    </tr>\n",
              "    <tr>\n",
              "      <th>4</th>\n",
              "      <td>008f7eecb74441ba68cba1b312200e58c5ca5c6c5e883d...</td>\n",
              "      <td>F</td>\n",
              "      <td>white</td>\n",
              "      <td>none</td>\n",
              "      <td>1162.44</td>\n",
              "      <td>1162.44</td>\n",
              "      <td>9</td>\n",
              "      <td>NaN</td>\n",
              "      <td>0</td>\n",
              "      <td>NaN</td>\n",
              "      <td>NaN</td>\n",
              "      <td>NaN</td>\n",
              "      <td>NaN</td>\n",
              "      <td>0</td>\n",
              "    </tr>\n",
              "  </tbody>\n",
              "</table>\n",
              "</div>\n",
              "      <button class=\"colab-df-convert\" onclick=\"convertToInteractive('df-50c7de9d-3664-49e1-9bf1-4a3363a3766c')\"\n",
              "              title=\"Convert this dataframe to an interactive table.\"\n",
              "              style=\"display:none;\">\n",
              "        \n",
              "  <svg xmlns=\"http://www.w3.org/2000/svg\" height=\"24px\"viewBox=\"0 0 24 24\"\n",
              "       width=\"24px\">\n",
              "    <path d=\"M0 0h24v24H0V0z\" fill=\"none\"/>\n",
              "    <path d=\"M18.56 5.44l.94 2.06.94-2.06 2.06-.94-2.06-.94-.94-2.06-.94 2.06-2.06.94zm-11 1L8.5 8.5l.94-2.06 2.06-.94-2.06-.94L8.5 2.5l-.94 2.06-2.06.94zm10 10l.94 2.06.94-2.06 2.06-.94-2.06-.94-.94-2.06-.94 2.06-2.06.94z\"/><path d=\"M17.41 7.96l-1.37-1.37c-.4-.4-.92-.59-1.43-.59-.52 0-1.04.2-1.43.59L10.3 9.45l-7.72 7.72c-.78.78-.78 2.05 0 2.83L4 21.41c.39.39.9.59 1.41.59.51 0 1.02-.2 1.41-.59l7.78-7.78 2.81-2.81c.8-.78.8-2.07 0-2.86zM5.41 20L4 18.59l7.72-7.72 1.47 1.35L5.41 20z\"/>\n",
              "  </svg>\n",
              "      </button>\n",
              "      \n",
              "  <style>\n",
              "    .colab-df-container {\n",
              "      display:flex;\n",
              "      flex-wrap:wrap;\n",
              "      gap: 12px;\n",
              "    }\n",
              "\n",
              "    .colab-df-convert {\n",
              "      background-color: #E8F0FE;\n",
              "      border: none;\n",
              "      border-radius: 50%;\n",
              "      cursor: pointer;\n",
              "      display: none;\n",
              "      fill: #1967D2;\n",
              "      height: 32px;\n",
              "      padding: 0 0 0 0;\n",
              "      width: 32px;\n",
              "    }\n",
              "\n",
              "    .colab-df-convert:hover {\n",
              "      background-color: #E2EBFA;\n",
              "      box-shadow: 0px 1px 2px rgba(60, 64, 67, 0.3), 0px 1px 3px 1px rgba(60, 64, 67, 0.15);\n",
              "      fill: #174EA6;\n",
              "    }\n",
              "\n",
              "    [theme=dark] .colab-df-convert {\n",
              "      background-color: #3B4455;\n",
              "      fill: #D2E3FC;\n",
              "    }\n",
              "\n",
              "    [theme=dark] .colab-df-convert:hover {\n",
              "      background-color: #434B5C;\n",
              "      box-shadow: 0px 1px 3px 1px rgba(0, 0, 0, 0.15);\n",
              "      filter: drop-shadow(0px 1px 2px rgba(0, 0, 0, 0.3));\n",
              "      fill: #FFFFFF;\n",
              "    }\n",
              "  </style>\n",
              "\n",
              "      <script>\n",
              "        const buttonEl =\n",
              "          document.querySelector('#df-50c7de9d-3664-49e1-9bf1-4a3363a3766c button.colab-df-convert');\n",
              "        buttonEl.style.display =\n",
              "          google.colab.kernel.accessAllowed ? 'block' : 'none';\n",
              "\n",
              "        async function convertToInteractive(key) {\n",
              "          const element = document.querySelector('#df-50c7de9d-3664-49e1-9bf1-4a3363a3766c');\n",
              "          const dataTable =\n",
              "            await google.colab.kernel.invokeFunction('convertToInteractive',\n",
              "                                                     [key], {});\n",
              "          if (!dataTable) return;\n",
              "\n",
              "          const docLinkHtml = 'Like what you see? Visit the ' +\n",
              "            '<a target=\"_blank\" href=https://colab.research.google.com/notebooks/data_table.ipynb>data table notebook</a>'\n",
              "            + ' to learn more about interactive tables.';\n",
              "          element.innerHTML = '';\n",
              "          dataTable['output_type'] = 'display_data';\n",
              "          await google.colab.output.renderOutput(dataTable, element);\n",
              "          const docLink = document.createElement('div');\n",
              "          docLink.innerHTML = docLinkHtml;\n",
              "          element.appendChild(docLink);\n",
              "        }\n",
              "      </script>\n",
              "    </div>\n",
              "  </div>\n",
              "  "
            ]
          },
          "metadata": {},
          "execution_count": 40
        }
      ]
    },
    {
      "cell_type": "markdown",
      "source": [
        "## Säulendiagramm \"Gender\""
      ],
      "metadata": {
        "id": "scjIPebplG_r"
      }
    },
    {
      "cell_type": "code",
      "source": [
        "sns.countplot(x=\"PAT_GENDER\", data=df)"
      ],
      "metadata": {
        "id": "itzIjCiNaDQy",
        "colab": {
          "base_uri": "https://localhost:8080/",
          "height": 298
        },
        "outputId": "6b17d639-e272-408c-9993-f67edbc08d8f"
      },
      "execution_count": 41,
      "outputs": [
        {
          "output_type": "execute_result",
          "data": {
            "text/plain": [
              "<matplotlib.axes._subplots.AxesSubplot at 0x7f7ffd099550>"
            ]
          },
          "metadata": {},
          "execution_count": 41
        },
        {
          "output_type": "display_data",
          "data": {
            "text/plain": [
              "<Figure size 432x288 with 1 Axes>"
            ],
            "image/png": "[encoded data removed]"
          },
          "metadata": {
            "needs_background": "light"
          }
        }
      ]
    },
    {
      "cell_type": "markdown",
      "source": [
        "Ausgeglichene Anzahl von weiblichen und männlichen Patienten."
      ],
      "metadata": {
        "id": "q5jupg1iEbi6"
      }
    },
    {
      "cell_type": "markdown",
      "source": [
        "## Säulendiagramm \"Diagnosen\""
      ],
      "metadata": {
        "id": "I_XxvI8ndlPB"
      }
    },
    {
      "cell_type": "code",
      "source": [
        "sns.countplot(x=\"DIAGNOSIS\", data=df)"
      ],
      "metadata": {
        "id": "W_UIvyTBdpwX",
        "colab": {
          "base_uri": "https://localhost:8080/",
          "height": 298
        },
        "outputId": "f5abdf91-50d0-4e3a-aa85-5f5bbde54efd"
      },
      "execution_count": 42,
      "outputs": [
        {
          "output_type": "execute_result",
          "data": {
            "text/plain": [
              "<matplotlib.axes._subplots.AxesSubplot at 0x7f7ffd170730>"
            ]
          },
          "metadata": {},
          "execution_count": 42
        },
        {
          "output_type": "display_data",
          "data": {
            "text/plain": [
              "<Figure size 432x288 with 1 Axes>"
            ],
            "image/png": "[encoded data removed]"
          },
          "metadata": {
            "needs_background": "light"
          }
        }
      ]
    },
    {
      "cell_type": "markdown",
      "source": [
        "Bei den meisten Patienten wurde keine Diagnose gestellt (none). Bei ca.150 Patienten wurde eine Diagnose gestellt, die aber nicht Brustkrebs war. Und nur bei sehr wenigen Patienten ergab sich die Diagnose Brustkrebs."
      ],
      "metadata": {
        "id": "zuqT4cAAEjN3"
      }
    },
    {
      "cell_type": "markdown",
      "source": [
        "## Säulendiagramm \"Ethnicity\""
      ],
      "metadata": {
        "id": "H0wvp90heIDz"
      }
    },
    {
      "cell_type": "code",
      "source": [
        "sns.countplot(x=\"PAT_RACE\", data=df)"
      ],
      "metadata": {
        "id": "co3DOUn8eHXZ",
        "colab": {
          "base_uri": "https://localhost:8080/",
          "height": 298
        },
        "outputId": "9088143d-842a-49dd-be34-054ae488a6f5"
      },
      "execution_count": 43,
      "outputs": [
        {
          "output_type": "execute_result",
          "data": {
            "text/plain": [
              "<matplotlib.axes._subplots.AxesSubplot at 0x7f7ffcc2f760>"
            ]
          },
          "metadata": {},
          "execution_count": 43
        },
        {
          "output_type": "display_data",
          "data": {
            "text/plain": [
              "<Figure size 432x288 with 1 Axes>"
            ],
            "image/png": "[encoded data removed]"
          },
          "metadata": {
            "needs_background": "light"
          }
        }
      ]
    },
    {
      "cell_type": "markdown",
      "source": [
        "Dieses Säulendiagramm zeigt, dass die meisten Patienten kaukasischer Abstammung waren. Andere Ethnien kamen nur in Ausnahmefällen vor. (Es müsste hier eine Normalisierung stattfinden, d.h. die gesamte Anzahl der Personen unterschiedlicher Ethnien müsste mit dem Patientenklientel verglichen werden.) "
      ],
      "metadata": {
        "id": "P7YD4TxOE13-"
      }
    },
    {
      "cell_type": "markdown",
      "source": [
        "## Ausgaben für Medikamente für die unterschiedlichen Diagnosen"
      ],
      "metadata": {
        "id": "Cns84WvYh29y"
      }
    },
    {
      "cell_type": "code",
      "source": [
        "df.plot(kind='scatter', y = ('OVERALL_MED_TOTAL_COST'), x='DIAGNOSIS')"
      ],
      "metadata": {
        "id": "4O8eYcP0hq-5",
        "colab": {
          "base_uri": "https://localhost:8080/",
          "height": 298
        },
        "outputId": "c4c32ccb-e26c-4031-f0e7-a3353e6bf1f2"
      },
      "execution_count": 47,
      "outputs": [
        {
          "output_type": "execute_result",
          "data": {
            "text/plain": [
              "<matplotlib.axes._subplots.AxesSubplot at 0x7f7ff73848b0>"
            ]
          },
          "metadata": {},
          "execution_count": 47
        },
        {
          "output_type": "display_data",
          "data": {
            "text/plain": [
              "<Figure size 432x288 with 1 Axes>"
            ],
            "image/png": "[encoded data removed]"
          },
          "metadata": {
            "needs_background": "light"
          }
        }
      ]
    },
    {
      "cell_type": "markdown",
      "source": [
        "Die Analyse der Ausgaben für Medikamente lassen keine Aussagen zu, um welche Diagnose es sich handelt."
      ],
      "metadata": {
        "id": "51_3XyMwFgdd"
      }
    },
    {
      "cell_type": "markdown",
      "source": [
        "## Berechnung der Kosten, die die Patienten mit den verschiedenen Diagnosen selbst tragen müssen."
      ],
      "metadata": {
        "id": "R_BkUfBSFszs"
      }
    },
    {
      "cell_type": "markdown",
      "source": [
        "Hier eine Aufstellung wieviel die Medikamente insgesamt kosten und welcher Anteil von der Versicherung übernommen wird."
      ],
      "metadata": {
        "id": "T4L-Q_zLF1UX"
      }
    },
    {
      "cell_type": "code",
      "source": [
        "df.groupby('DIAGNOSIS')['OVERALL_MED_TOTAL_COST', 'OVERALL_MED_PAYER_COVERAGE'].mean()"
      ],
      "metadata": {
        "id": "vul-lbJHpJUi",
        "colab": {
          "base_uri": "https://localhost:8080/",
          "height": 231
        },
        "outputId": "6291dbaf-8c97-41c6-fd99-b133fafa6bcf"
      },
      "execution_count": 48,
      "outputs": [
        {
          "output_type": "stream",
          "name": "stderr",
          "text": [
            "<ipython-input-48-871ff73b6c82>:1: FutureWarning: Indexing with multiple keys (implicitly converted to a tuple of keys) will be deprecated, use a list instead.\n",
            "  df.groupby('DIAGNOSIS')['OVERALL_MED_TOTAL_COST', 'OVERALL_MED_PAYER_COVERAGE'].mean()\n"
          ]
        },
        {
          "output_type": "execute_result",
          "data": {
            "text/plain": [
              "               OVERALL_MED_TOTAL_COST  OVERALL_MED_PAYER_COVERAGE\n",
              "DIAGNOSIS                                                        \n",
              "breast_cancer            46030.308333                    0.000000\n",
              "none                              NaN                         NaN\n",
              "other                    35100.145000                  933.639891"
            ],
            "text/html": [
              "\n",
              "  <div id=\"df-5f9c752b-55cb-4af5-b1c1-ef0caa712c40\">\n",
              "    <div class=\"colab-df-container\">\n",
              "      <div>\n",
              "<style scoped>\n",
              "    .dataframe tbody tr th:only-of-type {\n",
              "        vertical-align: middle;\n",
              "    }\n",
              "\n",
              "    .dataframe tbody tr th {\n",
              "        vertical-align: top;\n",
              "    }\n",
              "\n",
              "    .dataframe thead th {\n",
              "        text-align: right;\n",
              "    }\n",
              "</style>\n",
              "<table border=\"1\" class=\"dataframe\">\n",
              "  <thead>\n",
              "    <tr style=\"text-align: right;\">\n",
              "      <th></th>\n",
              "      <th>OVERALL_MED_TOTAL_COST</th>\n",
              "      <th>OVERALL_MED_PAYER_COVERAGE</th>\n",
              "    </tr>\n",
              "    <tr>\n",
              "      <th>DIAGNOSIS</th>\n",
              "      <th></th>\n",
              "      <th></th>\n",
              "    </tr>\n",
              "  </thead>\n",
              "  <tbody>\n",
              "    <tr>\n",
              "      <th>breast_cancer</th>\n",
              "      <td>46030.308333</td>\n",
              "      <td>0.000000</td>\n",
              "    </tr>\n",
              "    <tr>\n",
              "      <th>none</th>\n",
              "      <td>NaN</td>\n",
              "      <td>NaN</td>\n",
              "    </tr>\n",
              "    <tr>\n",
              "      <th>other</th>\n",
              "      <td>35100.145000</td>\n",
              "      <td>933.639891</td>\n",
              "    </tr>\n",
              "  </tbody>\n",
              "</table>\n",
              "</div>\n",
              "      <button class=\"colab-df-convert\" onclick=\"convertToInteractive('df-5f9c752b-55cb-4af5-b1c1-ef0caa712c40')\"\n",
              "              title=\"Convert this dataframe to an interactive table.\"\n",
              "              style=\"display:none;\">\n",
              "        \n",
              "  <svg xmlns=\"http://www.w3.org/2000/svg\" height=\"24px\"viewBox=\"0 0 24 24\"\n",
              "       width=\"24px\">\n",
              "    <path d=\"M0 0h24v24H0V0z\" fill=\"none\"/>\n",
              "    <path d=\"M18.56 5.44l.94 2.06.94-2.06 2.06-.94-2.06-.94-.94-2.06-.94 2.06-2.06.94zm-11 1L8.5 8.5l.94-2.06 2.06-.94-2.06-.94L8.5 2.5l-.94 2.06-2.06.94zm10 10l.94 2.06.94-2.06 2.06-.94-2.06-.94-.94-2.06-.94 2.06-2.06.94z\"/><path d=\"M17.41 7.96l-1.37-1.37c-.4-.4-.92-.59-1.43-.59-.52 0-1.04.2-1.43.59L10.3 9.45l-7.72 7.72c-.78.78-.78 2.05 0 2.83L4 21.41c.39.39.9.59 1.41.59.51 0 1.02-.2 1.41-.59l7.78-7.78 2.81-2.81c.8-.78.8-2.07 0-2.86zM5.41 20L4 18.59l7.72-7.72 1.47 1.35L5.41 20z\"/>\n",
              "  </svg>\n",
              "      </button>\n",
              "      \n",
              "  <style>\n",
              "    .colab-df-container {\n",
              "      display:flex;\n",
              "      flex-wrap:wrap;\n",
              "      gap: 12px;\n",
              "    }\n",
              "\n",
              "    .colab-df-convert {\n",
              "      background-color: #E8F0FE;\n",
              "      border: none;\n",
              "      border-radius: 50%;\n",
              "      cursor: pointer;\n",
              "      display: none;\n",
              "      fill: #1967D2;\n",
              "      height: 32px;\n",
              "      padding: 0 0 0 0;\n",
              "      width: 32px;\n",
              "    }\n",
              "\n",
              "    .colab-df-convert:hover {\n",
              "      background-color: #E2EBFA;\n",
              "      box-shadow: 0px 1px 2px rgba(60, 64, 67, 0.3), 0px 1px 3px 1px rgba(60, 64, 67, 0.15);\n",
              "      fill: #174EA6;\n",
              "    }\n",
              "\n",
              "    [theme=dark] .colab-df-convert {\n",
              "      background-color: #3B4455;\n",
              "      fill: #D2E3FC;\n",
              "    }\n",
              "\n",
              "    [theme=dark] .colab-df-convert:hover {\n",
              "      background-color: #434B5C;\n",
              "      box-shadow: 0px 1px 3px 1px rgba(0, 0, 0, 0.15);\n",
              "      filter: drop-shadow(0px 1px 2px rgba(0, 0, 0, 0.3));\n",
              "      fill: #FFFFFF;\n",
              "    }\n",
              "  </style>\n",
              "\n",
              "      <script>\n",
              "        const buttonEl =\n",
              "          document.querySelector('#df-5f9c752b-55cb-4af5-b1c1-ef0caa712c40 button.colab-df-convert');\n",
              "        buttonEl.style.display =\n",
              "          google.colab.kernel.accessAllowed ? 'block' : 'none';\n",
              "\n",
              "        async function convertToInteractive(key) {\n",
              "          const element = document.querySelector('#df-5f9c752b-55cb-4af5-b1c1-ef0caa712c40');\n",
              "          const dataTable =\n",
              "            await google.colab.kernel.invokeFunction('convertToInteractive',\n",
              "                                                     [key], {});\n",
              "          if (!dataTable) return;\n",
              "\n",
              "          const docLinkHtml = 'Like what you see? Visit the ' +\n",
              "            '<a target=\"_blank\" href=https://colab.research.google.com/notebooks/data_table.ipynb>data table notebook</a>'\n",
              "            + ' to learn more about interactive tables.';\n",
              "          element.innerHTML = '';\n",
              "          dataTable['output_type'] = 'display_data';\n",
              "          await google.colab.output.renderOutput(dataTable, element);\n",
              "          const docLink = document.createElement('div');\n",
              "          docLink.innerHTML = docLinkHtml;\n",
              "          element.appendChild(docLink);\n",
              "        }\n",
              "      </script>\n",
              "    </div>\n",
              "  </div>\n",
              "  "
            ]
          },
          "metadata": {},
          "execution_count": 48
        }
      ]
    },
    {
      "cell_type": "markdown",
      "source": [
        "Hier eine Aufstellung wieviel die Arztbesuche insgesamt kosten und wieviel von den Versicherungen übernommen wird."
      ],
      "metadata": {
        "id": "_F8GVifXGA8P"
      }
    },
    {
      "cell_type": "code",
      "source": [
        "df.groupby('DIAGNOSIS')['OVERALL_ENC_BASE_COST', 'OVERALL_ENC_PAYER_COVERAGE'].mean()"
      ],
      "metadata": {
        "id": "8NCkjqpgsHWq",
        "colab": {
          "base_uri": "https://localhost:8080/",
          "height": 231
        },
        "outputId": "7bf62a33-ba2e-4375-efa0-974e177b2f5e"
      },
      "execution_count": 49,
      "outputs": [
        {
          "output_type": "stream",
          "name": "stderr",
          "text": [
            "<ipython-input-49-55b4a751457e>:1: FutureWarning: Indexing with multiple keys (implicitly converted to a tuple of keys) will be deprecated, use a list instead.\n",
            "  df.groupby('DIAGNOSIS')['OVERALL_ENC_BASE_COST', 'OVERALL_ENC_PAYER_COVERAGE'].mean()\n"
          ]
        },
        {
          "output_type": "execute_result",
          "data": {
            "text/plain": [
              "               OVERALL_ENC_BASE_COST  OVERALL_ENC_PAYER_COVERAGE\n",
              "DIAGNOSIS                                                       \n",
              "breast_cancer            6305.258182                 2990.123636\n",
              "none                      980.973122                  908.649367\n",
              "other                    1333.264516                 1126.682903"
            ],
            "text/html": [
              "\n",
              "  <div id=\"df-a0621604-6038-4630-b18a-2308a6a62bbb\">\n",
              "    <div class=\"colab-df-container\">\n",
              "      <div>\n",
              "<style scoped>\n",
              "    .dataframe tbody tr th:only-of-type {\n",
              "        vertical-align: middle;\n",
              "    }\n",
              "\n",
              "    .dataframe tbody tr th {\n",
              "        vertical-align: top;\n",
              "    }\n",
              "\n",
              "    .dataframe thead th {\n",
              "        text-align: right;\n",
              "    }\n",
              "</style>\n",
              "<table border=\"1\" class=\"dataframe\">\n",
              "  <thead>\n",
              "    <tr style=\"text-align: right;\">\n",
              "      <th></th>\n",
              "      <th>OVERALL_ENC_BASE_COST</th>\n",
              "      <th>OVERALL_ENC_PAYER_COVERAGE</th>\n",
              "    </tr>\n",
              "    <tr>\n",
              "      <th>DIAGNOSIS</th>\n",
              "      <th></th>\n",
              "      <th></th>\n",
              "    </tr>\n",
              "  </thead>\n",
              "  <tbody>\n",
              "    <tr>\n",
              "      <th>breast_cancer</th>\n",
              "      <td>6305.258182</td>\n",
              "      <td>2990.123636</td>\n",
              "    </tr>\n",
              "    <tr>\n",
              "      <th>none</th>\n",
              "      <td>980.973122</td>\n",
              "      <td>908.649367</td>\n",
              "    </tr>\n",
              "    <tr>\n",
              "      <th>other</th>\n",
              "      <td>1333.264516</td>\n",
              "      <td>1126.682903</td>\n",
              "    </tr>\n",
              "  </tbody>\n",
              "</table>\n",
              "</div>\n",
              "      <button class=\"colab-df-convert\" onclick=\"convertToInteractive('df-a0621604-6038-4630-b18a-2308a6a62bbb')\"\n",
              "              title=\"Convert this dataframe to an interactive table.\"\n",
              "              style=\"display:none;\">\n",
              "        \n",
              "  <svg xmlns=\"http://www.w3.org/2000/svg\" height=\"24px\"viewBox=\"0 0 24 24\"\n",
              "       width=\"24px\">\n",
              "    <path d=\"M0 0h24v24H0V0z\" fill=\"none\"/>\n",
              "    <path d=\"M18.56 5.44l.94 2.06.94-2.06 2.06-.94-2.06-.94-.94-2.06-.94 2.06-2.06.94zm-11 1L8.5 8.5l.94-2.06 2.06-.94-2.06-.94L8.5 2.5l-.94 2.06-2.06.94zm10 10l.94 2.06.94-2.06 2.06-.94-2.06-.94-.94-2.06-.94 2.06-2.06.94z\"/><path d=\"M17.41 7.96l-1.37-1.37c-.4-.4-.92-.59-1.43-.59-.52 0-1.04.2-1.43.59L10.3 9.45l-7.72 7.72c-.78.78-.78 2.05 0 2.83L4 21.41c.39.39.9.59 1.41.59.51 0 1.02-.2 1.41-.59l7.78-7.78 2.81-2.81c.8-.78.8-2.07 0-2.86zM5.41 20L4 18.59l7.72-7.72 1.47 1.35L5.41 20z\"/>\n",
              "  </svg>\n",
              "      </button>\n",
              "      \n",
              "  <style>\n",
              "    .colab-df-container {\n",
              "      display:flex;\n",
              "      flex-wrap:wrap;\n",
              "      gap: 12px;\n",
              "    }\n",
              "\n",
              "    .colab-df-convert {\n",
              "      background-color: #E8F0FE;\n",
              "      border: none;\n",
              "      border-radius: 50%;\n",
              "      cursor: pointer;\n",
              "      display: none;\n",
              "      fill: #1967D2;\n",
              "      height: 32px;\n",
              "      padding: 0 0 0 0;\n",
              "      width: 32px;\n",
              "    }\n",
              "\n",
              "    .colab-df-convert:hover {\n",
              "      background-color: #E2EBFA;\n",
              "      box-shadow: 0px 1px 2px rgba(60, 64, 67, 0.3), 0px 1px 3px 1px rgba(60, 64, 67, 0.15);\n",
              "      fill: #174EA6;\n",
              "    }\n",
              "\n",
              "    [theme=dark] .colab-df-convert {\n",
              "      background-color: #3B4455;\n",
              "      fill: #D2E3FC;\n",
              "    }\n",
              "\n",
              "    [theme=dark] .colab-df-convert:hover {\n",
              "      background-color: #434B5C;\n",
              "      box-shadow: 0px 1px 3px 1px rgba(0, 0, 0, 0.15);\n",
              "      filter: drop-shadow(0px 1px 2px rgba(0, 0, 0, 0.3));\n",
              "      fill: #FFFFFF;\n",
              "    }\n",
              "  </style>\n",
              "\n",
              "      <script>\n",
              "        const buttonEl =\n",
              "          document.querySelector('#df-a0621604-6038-4630-b18a-2308a6a62bbb button.colab-df-convert');\n",
              "        buttonEl.style.display =\n",
              "          google.colab.kernel.accessAllowed ? 'block' : 'none';\n",
              "\n",
              "        async function convertToInteractive(key) {\n",
              "          const element = document.querySelector('#df-a0621604-6038-4630-b18a-2308a6a62bbb');\n",
              "          const dataTable =\n",
              "            await google.colab.kernel.invokeFunction('convertToInteractive',\n",
              "                                                     [key], {});\n",
              "          if (!dataTable) return;\n",
              "\n",
              "          const docLinkHtml = 'Like what you see? Visit the ' +\n",
              "            '<a target=\"_blank\" href=https://colab.research.google.com/notebooks/data_table.ipynb>data table notebook</a>'\n",
              "            + ' to learn more about interactive tables.';\n",
              "          element.innerHTML = '';\n",
              "          dataTable['output_type'] = 'display_data';\n",
              "          await google.colab.output.renderOutput(dataTable, element);\n",
              "          const docLink = document.createElement('div');\n",
              "          docLink.innerHTML = docLinkHtml;\n",
              "          element.appendChild(docLink);\n",
              "        }\n",
              "      </script>\n",
              "    </div>\n",
              "  </div>\n",
              "  "
            ]
          },
          "metadata": {},
          "execution_count": 49
        }
      ]
    },
    {
      "cell_type": "code",
      "source": [
        "groupby_obj = df.groupby('DIAGNOSIS')"
      ],
      "metadata": {
        "id": "kqk7vS2Jxfww"
      },
      "execution_count": 50,
      "outputs": []
    },
    {
      "cell_type": "code",
      "source": [
        "groupby_obj.mean()"
      ],
      "metadata": {
        "id": "_24mleMyyLcC",
        "colab": {
          "base_uri": "https://localhost:8080/",
          "height": 239
        },
        "outputId": "cffe61a5-a646-401e-96e1-50ebf71cefed"
      },
      "execution_count": 51,
      "outputs": [
        {
          "output_type": "execute_result",
          "data": {
            "text/plain": [
              "               OVERALL_ENC_BASE_COST  OVERALL_ENC_PAYER_COVERAGE  \\\n",
              "DIAGNOSIS                                                          \n",
              "breast_cancer            6305.258182                 2990.123636   \n",
              "none                      980.973122                  908.649367   \n",
              "other                    1333.264516                 1126.682903   \n",
              "\n",
              "               NUMBER_ENCOUNTERS  OVERALL_PRO_BASE_COST  NUMBER_PROCEDURES  \\\n",
              "DIAGNOSIS                                                                    \n",
              "breast_cancer          55.363636          129269.329091          42.545455   \n",
              "none                    7.595023                    NaN           0.000000   \n",
              "other                  10.322581           96145.761212           2.241935   \n",
              "\n",
              "               OVERALL_MED_BASE_COST  OVERALL_MED_DISPENSES  \\\n",
              "DIAGNOSIS                                                     \n",
              "breast_cancer           27832.935000             233.666667   \n",
              "none                             NaN                    NaN   \n",
              "other                    1551.801957             418.717391   \n",
              "\n",
              "               OVERALL_MED_TOTAL_COST  OVERALL_MED_PAYER_COVERAGE  \\\n",
              "DIAGNOSIS                                                           \n",
              "breast_cancer            46030.308333                    0.000000   \n",
              "none                              NaN                         NaN   \n",
              "other                    35100.145000                  933.639891   \n",
              "\n",
              "               NUMBER_MEDICATIONS  \n",
              "DIAGNOSIS                          \n",
              "breast_cancer            5.818182  \n",
              "none                     0.000000  \n",
              "other                    2.927419  "
            ],
            "text/html": [
              "\n",
              "  <div id=\"df-d8ab6c20-31f0-4bd3-8185-f07d477b487c\">\n",
              "    <div class=\"colab-df-container\">\n",
              "      <div>\n",
              "<style scoped>\n",
              "    .dataframe tbody tr th:only-of-type {\n",
              "        vertical-align: middle;\n",
              "    }\n",
              "\n",
              "    .dataframe tbody tr th {\n",
              "        vertical-align: top;\n",
              "    }\n",
              "\n",
              "    .dataframe thead th {\n",
              "        text-align: right;\n",
              "    }\n",
              "</style>\n",
              "<table border=\"1\" class=\"dataframe\">\n",
              "  <thead>\n",
              "    <tr style=\"text-align: right;\">\n",
              "      <th></th>\n",
              "      <th>OVERALL_ENC_BASE_COST</th>\n",
              "      <th>OVERALL_ENC_PAYER_COVERAGE</th>\n",
              "      <th>NUMBER_ENCOUNTERS</th>\n",
              "      <th>OVERALL_PRO_BASE_COST</th>\n",
              "      <th>NUMBER_PROCEDURES</th>\n",
              "      <th>OVERALL_MED_BASE_COST</th>\n",
              "      <th>OVERALL_MED_DISPENSES</th>\n",
              "      <th>OVERALL_MED_TOTAL_COST</th>\n",
              "      <th>OVERALL_MED_PAYER_COVERAGE</th>\n",
              "      <th>NUMBER_MEDICATIONS</th>\n",
              "    </tr>\n",
              "    <tr>\n",
              "      <th>DIAGNOSIS</th>\n",
              "      <th></th>\n",
              "      <th></th>\n",
              "      <th></th>\n",
              "      <th></th>\n",
              "      <th></th>\n",
              "      <th></th>\n",
              "      <th></th>\n",
              "      <th></th>\n",
              "      <th></th>\n",
              "      <th></th>\n",
              "    </tr>\n",
              "  </thead>\n",
              "  <tbody>\n",
              "    <tr>\n",
              "      <th>breast_cancer</th>\n",
              "      <td>6305.258182</td>\n",
              "      <td>2990.123636</td>\n",
              "      <td>55.363636</td>\n",
              "      <td>129269.329091</td>\n",
              "      <td>42.545455</td>\n",
              "      <td>27832.935000</td>\n",
              "      <td>233.666667</td>\n",
              "      <td>46030.308333</td>\n",
              "      <td>0.000000</td>\n",
              "      <td>5.818182</td>\n",
              "    </tr>\n",
              "    <tr>\n",
              "      <th>none</th>\n",
              "      <td>980.973122</td>\n",
              "      <td>908.649367</td>\n",
              "      <td>7.595023</td>\n",
              "      <td>NaN</td>\n",
              "      <td>0.000000</td>\n",
              "      <td>NaN</td>\n",
              "      <td>NaN</td>\n",
              "      <td>NaN</td>\n",
              "      <td>NaN</td>\n",
              "      <td>0.000000</td>\n",
              "    </tr>\n",
              "    <tr>\n",
              "      <th>other</th>\n",
              "      <td>1333.264516</td>\n",
              "      <td>1126.682903</td>\n",
              "      <td>10.322581</td>\n",
              "      <td>96145.761212</td>\n",
              "      <td>2.241935</td>\n",
              "      <td>1551.801957</td>\n",
              "      <td>418.717391</td>\n",
              "      <td>35100.145000</td>\n",
              "      <td>933.639891</td>\n",
              "      <td>2.927419</td>\n",
              "    </tr>\n",
              "  </tbody>\n",
              "</table>\n",
              "</div>\n",
              "      <button class=\"colab-df-convert\" onclick=\"convertToInteractive('df-d8ab6c20-31f0-4bd3-8185-f07d477b487c')\"\n",
              "              title=\"Convert this dataframe to an interactive table.\"\n",
              "              style=\"display:none;\">\n",
              "        \n",
              "  <svg xmlns=\"http://www.w3.org/2000/svg\" height=\"24px\"viewBox=\"0 0 24 24\"\n",
              "       width=\"24px\">\n",
              "    <path d=\"M0 0h24v24H0V0z\" fill=\"none\"/>\n",
              "    <path d=\"M18.56 5.44l.94 2.06.94-2.06 2.06-.94-2.06-.94-.94-2.06-.94 2.06-2.06.94zm-11 1L8.5 8.5l.94-2.06 2.06-.94-2.06-.94L8.5 2.5l-.94 2.06-2.06.94zm10 10l.94 2.06.94-2.06 2.06-.94-2.06-.94-.94-2.06-.94 2.06-2.06.94z\"/><path d=\"M17.41 7.96l-1.37-1.37c-.4-.4-.92-.59-1.43-.59-.52 0-1.04.2-1.43.59L10.3 9.45l-7.72 7.72c-.78.78-.78 2.05 0 2.83L4 21.41c.39.39.9.59 1.41.59.51 0 1.02-.2 1.41-.59l7.78-7.78 2.81-2.81c.8-.78.8-2.07 0-2.86zM5.41 20L4 18.59l7.72-7.72 1.47 1.35L5.41 20z\"/>\n",
              "  </svg>\n",
              "      </button>\n",
              "      \n",
              "  <style>\n",
              "    .colab-df-container {\n",
              "      display:flex;\n",
              "      flex-wrap:wrap;\n",
              "      gap: 12px;\n",
              "    }\n",
              "\n",
              "    .colab-df-convert {\n",
              "      background-color: #E8F0FE;\n",
              "      border: none;\n",
              "      border-radius: 50%;\n",
              "      cursor: pointer;\n",
              "      display: none;\n",
              "      fill: #1967D2;\n",
              "      height: 32px;\n",
              "      padding: 0 0 0 0;\n",
              "      width: 32px;\n",
              "    }\n",
              "\n",
              "    .colab-df-convert:hover {\n",
              "      background-color: #E2EBFA;\n",
              "      box-shadow: 0px 1px 2px rgba(60, 64, 67, 0.3), 0px 1px 3px 1px rgba(60, 64, 67, 0.15);\n",
              "      fill: #174EA6;\n",
              "    }\n",
              "\n",
              "    [theme=dark] .colab-df-convert {\n",
              "      background-color: #3B4455;\n",
              "      fill: #D2E3FC;\n",
              "    }\n",
              "\n",
              "    [theme=dark] .colab-df-convert:hover {\n",
              "      background-color: #434B5C;\n",
              "      box-shadow: 0px 1px 3px 1px rgba(0, 0, 0, 0.15);\n",
              "      filter: drop-shadow(0px 1px 2px rgba(0, 0, 0, 0.3));\n",
              "      fill: #FFFFFF;\n",
              "    }\n",
              "  </style>\n",
              "\n",
              "      <script>\n",
              "        const buttonEl =\n",
              "          document.querySelector('#df-d8ab6c20-31f0-4bd3-8185-f07d477b487c button.colab-df-convert');\n",
              "        buttonEl.style.display =\n",
              "          google.colab.kernel.accessAllowed ? 'block' : 'none';\n",
              "\n",
              "        async function convertToInteractive(key) {\n",
              "          const element = document.querySelector('#df-d8ab6c20-31f0-4bd3-8185-f07d477b487c');\n",
              "          const dataTable =\n",
              "            await google.colab.kernel.invokeFunction('convertToInteractive',\n",
              "                                                     [key], {});\n",
              "          if (!dataTable) return;\n",
              "\n",
              "          const docLinkHtml = 'Like what you see? Visit the ' +\n",
              "            '<a target=\"_blank\" href=https://colab.research.google.com/notebooks/data_table.ipynb>data table notebook</a>'\n",
              "            + ' to learn more about interactive tables.';\n",
              "          element.innerHTML = '';\n",
              "          dataTable['output_type'] = 'display_data';\n",
              "          await google.colab.output.renderOutput(dataTable, element);\n",
              "          const docLink = document.createElement('div');\n",
              "          docLink.innerHTML = docLinkHtml;\n",
              "          element.appendChild(docLink);\n",
              "        }\n",
              "      </script>\n",
              "    </div>\n",
              "  </div>\n",
              "  "
            ]
          },
          "metadata": {},
          "execution_count": 51
        }
      ]
    },
    {
      "cell_type": "markdown",
      "source": [
        "Berechnung wieviel der Kosten der Patient selber tragen muss (Medikamente und Arztbesuche)"
      ],
      "metadata": {
        "id": "XsbFIIQ_GXb1"
      }
    },
    {
      "cell_type": "code",
      "source": [
        "df.eval('PATIENT_COST = (OVERALL_ENC_BASE_COST - OVERALL_ENC_PAYER_COVERAGE) + (OVERALL_MED_TOTAL_COST - OVERALL_MED_PAYER_COVERAGE)', inplace = True)\n",
        "df.columns"
      ],
      "metadata": {
        "id": "ScIJV--L1F8W",
        "colab": {
          "base_uri": "https://localhost:8080/"
        },
        "outputId": "7880c9f0-7871-4b46-8b28-1d2f3f7160ba"
      },
      "execution_count": 52,
      "outputs": [
        {
          "output_type": "execute_result",
          "data": {
            "text/plain": [
              "Index(['PATIENT', 'PAT_GENDER', 'PAT_RACE', 'DIAGNOSIS',\n",
              "       'OVERALL_ENC_BASE_COST', 'OVERALL_ENC_PAYER_COVERAGE',\n",
              "       'NUMBER_ENCOUNTERS', 'OVERALL_PRO_BASE_COST', 'NUMBER_PROCEDURES',\n",
              "       'OVERALL_MED_BASE_COST', 'OVERALL_MED_DISPENSES',\n",
              "       'OVERALL_MED_TOTAL_COST', 'OVERALL_MED_PAYER_COVERAGE',\n",
              "       'NUMBER_MEDICATIONS', 'PATIENT_COST'],\n",
              "      dtype='object')"
            ]
          },
          "metadata": {},
          "execution_count": 52
        }
      ]
    },
    {
      "cell_type": "code",
      "source": [
        "groupby_obj = df.groupby('DIAGNOSIS')"
      ],
      "metadata": {
        "id": "GzjRfNT11z3o"
      },
      "execution_count": 53,
      "outputs": []
    },
    {
      "cell_type": "code",
      "source": [
        "groupby_obj.mean()"
      ],
      "metadata": {
        "id": "hyl_laPa2gHK",
        "colab": {
          "base_uri": "https://localhost:8080/",
          "height": 239
        },
        "outputId": "7d9ac333-0061-493c-c01c-ae9cedb8347b"
      },
      "execution_count": 54,
      "outputs": [
        {
          "output_type": "execute_result",
          "data": {
            "text/plain": [
              "               OVERALL_ENC_BASE_COST  OVERALL_ENC_PAYER_COVERAGE  \\\n",
              "DIAGNOSIS                                                          \n",
              "breast_cancer            6305.258182                 2990.123636   \n",
              "none                      980.973122                  908.649367   \n",
              "other                    1333.264516                 1126.682903   \n",
              "\n",
              "               NUMBER_ENCOUNTERS  OVERALL_PRO_BASE_COST  NUMBER_PROCEDURES  \\\n",
              "DIAGNOSIS                                                                    \n",
              "breast_cancer          55.363636          129269.329091          42.545455   \n",
              "none                    7.595023                    NaN           0.000000   \n",
              "other                  10.322581           96145.761212           2.241935   \n",
              "\n",
              "               OVERALL_MED_BASE_COST  OVERALL_MED_DISPENSES  \\\n",
              "DIAGNOSIS                                                     \n",
              "breast_cancer           27832.935000             233.666667   \n",
              "none                             NaN                    NaN   \n",
              "other                    1551.801957             418.717391   \n",
              "\n",
              "               OVERALL_MED_TOTAL_COST  OVERALL_MED_PAYER_COVERAGE  \\\n",
              "DIAGNOSIS                                                           \n",
              "breast_cancer            46030.308333                    0.000000   \n",
              "none                              NaN                         NaN   \n",
              "other                    35100.145000                  933.639891   \n",
              "\n",
              "               NUMBER_MEDICATIONS  PATIENT_COST  \n",
              "DIAGNOSIS                                        \n",
              "breast_cancer            5.818182  50470.145000  \n",
              "none                     0.000000           NaN  \n",
              "other                    2.927419  34397.559891  "
            ],
            "text/html": [
              "\n",
              "  <div id=\"df-03755531-ce36-4583-8b43-60da34dfea86\">\n",
              "    <div class=\"colab-df-container\">\n",
              "      <div>\n",
              "<style scoped>\n",
              "    .dataframe tbody tr th:only-of-type {\n",
              "        vertical-align: middle;\n",
              "    }\n",
              "\n",
              "    .dataframe tbody tr th {\n",
              "        vertical-align: top;\n",
              "    }\n",
              "\n",
              "    .dataframe thead th {\n",
              "        text-align: right;\n",
              "    }\n",
              "</style>\n",
              "<table border=\"1\" class=\"dataframe\">\n",
              "  <thead>\n",
              "    <tr style=\"text-align: right;\">\n",
              "      <th></th>\n",
              "      <th>OVERALL_ENC_BASE_COST</th>\n",
              "      <th>OVERALL_ENC_PAYER_COVERAGE</th>\n",
              "      <th>NUMBER_ENCOUNTERS</th>\n",
              "      <th>OVERALL_PRO_BASE_COST</th>\n",
              "      <th>NUMBER_PROCEDURES</th>\n",
              "      <th>OVERALL_MED_BASE_COST</th>\n",
              "      <th>OVERALL_MED_DISPENSES</th>\n",
              "      <th>OVERALL_MED_TOTAL_COST</th>\n",
              "      <th>OVERALL_MED_PAYER_COVERAGE</th>\n",
              "      <th>NUMBER_MEDICATIONS</th>\n",
              "      <th>PATIENT_COST</th>\n",
              "    </tr>\n",
              "    <tr>\n",
              "      <th>DIAGNOSIS</th>\n",
              "      <th></th>\n",
              "      <th></th>\n",
              "      <th></th>\n",
              "      <th></th>\n",
              "      <th></th>\n",
              "      <th></th>\n",
              "      <th></th>\n",
              "      <th></th>\n",
              "      <th></th>\n",
              "      <th></th>\n",
              "      <th></th>\n",
              "    </tr>\n",
              "  </thead>\n",
              "  <tbody>\n",
              "    <tr>\n",
              "      <th>breast_cancer</th>\n",
              "      <td>6305.258182</td>\n",
              "      <td>2990.123636</td>\n",
              "      <td>55.363636</td>\n",
              "      <td>129269.329091</td>\n",
              "      <td>42.545455</td>\n",
              "      <td>27832.935000</td>\n",
              "      <td>233.666667</td>\n",
              "      <td>46030.308333</td>\n",
              "      <td>0.000000</td>\n",
              "      <td>5.818182</td>\n",
              "      <td>50470.145000</td>\n",
              "    </tr>\n",
              "    <tr>\n",
              "      <th>none</th>\n",
              "      <td>980.973122</td>\n",
              "      <td>908.649367</td>\n",
              "      <td>7.595023</td>\n",
              "      <td>NaN</td>\n",
              "      <td>0.000000</td>\n",
              "      <td>NaN</td>\n",
              "      <td>NaN</td>\n",
              "      <td>NaN</td>\n",
              "      <td>NaN</td>\n",
              "      <td>0.000000</td>\n",
              "      <td>NaN</td>\n",
              "    </tr>\n",
              "    <tr>\n",
              "      <th>other</th>\n",
              "      <td>1333.264516</td>\n",
              "      <td>1126.682903</td>\n",
              "      <td>10.322581</td>\n",
              "      <td>96145.761212</td>\n",
              "      <td>2.241935</td>\n",
              "      <td>1551.801957</td>\n",
              "      <td>418.717391</td>\n",
              "      <td>35100.145000</td>\n",
              "      <td>933.639891</td>\n",
              "      <td>2.927419</td>\n",
              "      <td>34397.559891</td>\n",
              "    </tr>\n",
              "  </tbody>\n",
              "</table>\n",
              "</div>\n",
              "      <button class=\"colab-df-convert\" onclick=\"convertToInteractive('df-03755531-ce36-4583-8b43-60da34dfea86')\"\n",
              "              title=\"Convert this dataframe to an interactive table.\"\n",
              "              style=\"display:none;\">\n",
              "        \n",
              "  <svg xmlns=\"http://www.w3.org/2000/svg\" height=\"24px\"viewBox=\"0 0 24 24\"\n",
              "       width=\"24px\">\n",
              "    <path d=\"M0 0h24v24H0V0z\" fill=\"none\"/>\n",
              "    <path d=\"M18.56 5.44l.94 2.06.94-2.06 2.06-.94-2.06-.94-.94-2.06-.94 2.06-2.06.94zm-11 1L8.5 8.5l.94-2.06 2.06-.94-2.06-.94L8.5 2.5l-.94 2.06-2.06.94zm10 10l.94 2.06.94-2.06 2.06-.94-2.06-.94-.94-2.06-.94 2.06-2.06.94z\"/><path d=\"M17.41 7.96l-1.37-1.37c-.4-.4-.92-.59-1.43-.59-.52 0-1.04.2-1.43.59L10.3 9.45l-7.72 7.72c-.78.78-.78 2.05 0 2.83L4 21.41c.39.39.9.59 1.41.59.51 0 1.02-.2 1.41-.59l7.78-7.78 2.81-2.81c.8-.78.8-2.07 0-2.86zM5.41 20L4 18.59l7.72-7.72 1.47 1.35L5.41 20z\"/>\n",
              "  </svg>\n",
              "      </button>\n",
              "      \n",
              "  <style>\n",
              "    .colab-df-container {\n",
              "      display:flex;\n",
              "      flex-wrap:wrap;\n",
              "      gap: 12px;\n",
              "    }\n",
              "\n",
              "    .colab-df-convert {\n",
              "      background-color: #E8F0FE;\n",
              "      border: none;\n",
              "      border-radius: 50%;\n",
              "      cursor: pointer;\n",
              "      display: none;\n",
              "      fill: #1967D2;\n",
              "      height: 32px;\n",
              "      padding: 0 0 0 0;\n",
              "      width: 32px;\n",
              "    }\n",
              "\n",
              "    .colab-df-convert:hover {\n",
              "      background-color: #E2EBFA;\n",
              "      box-shadow: 0px 1px 2px rgba(60, 64, 67, 0.3), 0px 1px 3px 1px rgba(60, 64, 67, 0.15);\n",
              "      fill: #174EA6;\n",
              "    }\n",
              "\n",
              "    [theme=dark] .colab-df-convert {\n",
              "      background-color: #3B4455;\n",
              "      fill: #D2E3FC;\n",
              "    }\n",
              "\n",
              "    [theme=dark] .colab-df-convert:hover {\n",
              "      background-color: #434B5C;\n",
              "      box-shadow: 0px 1px 3px 1px rgba(0, 0, 0, 0.15);\n",
              "      filter: drop-shadow(0px 1px 2px rgba(0, 0, 0, 0.3));\n",
              "      fill: #FFFFFF;\n",
              "    }\n",
              "  </style>\n",
              "\n",
              "      <script>\n",
              "        const buttonEl =\n",
              "          document.querySelector('#df-03755531-ce36-4583-8b43-60da34dfea86 button.colab-df-convert');\n",
              "        buttonEl.style.display =\n",
              "          google.colab.kernel.accessAllowed ? 'block' : 'none';\n",
              "\n",
              "        async function convertToInteractive(key) {\n",
              "          const element = document.querySelector('#df-03755531-ce36-4583-8b43-60da34dfea86');\n",
              "          const dataTable =\n",
              "            await google.colab.kernel.invokeFunction('convertToInteractive',\n",
              "                                                     [key], {});\n",
              "          if (!dataTable) return;\n",
              "\n",
              "          const docLinkHtml = 'Like what you see? Visit the ' +\n",
              "            '<a target=\"_blank\" href=https://colab.research.google.com/notebooks/data_table.ipynb>data table notebook</a>'\n",
              "            + ' to learn more about interactive tables.';\n",
              "          element.innerHTML = '';\n",
              "          dataTable['output_type'] = 'display_data';\n",
              "          await google.colab.output.renderOutput(dataTable, element);\n",
              "          const docLink = document.createElement('div');\n",
              "          docLink.innerHTML = docLinkHtml;\n",
              "          element.appendChild(docLink);\n",
              "        }\n",
              "      </script>\n",
              "    </div>\n",
              "  </div>\n",
              "  "
            ]
          },
          "metadata": {},
          "execution_count": 54
        }
      ]
    },
    {
      "cell_type": "code",
      "source": [
        "df_cost = df[['PATIENT_COST', 'DIAGNOSIS']]"
      ],
      "metadata": {
        "id": "BdhzIHg139kz"
      },
      "execution_count": 55,
      "outputs": []
    },
    {
      "cell_type": "code",
      "source": [
        "df_cost.head()"
      ],
      "metadata": {
        "id": "m0TKjJHN4Qos",
        "colab": {
          "base_uri": "https://localhost:8080/",
          "height": 206
        },
        "outputId": "a6690da8-cafa-4ff7-db17-41b6ff5109cb"
      },
      "execution_count": 56,
      "outputs": [
        {
          "output_type": "execute_result",
          "data": {
            "text/plain": [
              "   PATIENT_COST DIAGNOSIS\n",
              "0           NaN      none\n",
              "1           NaN      none\n",
              "2           NaN      none\n",
              "3           NaN      none\n",
              "4           NaN      none"
            ],
            "text/html": [
              "\n",
              "  <div id=\"df-96c6a733-980f-41d5-ace2-c8ab3764e2bb\">\n",
              "    <div class=\"colab-df-container\">\n",
              "      <div>\n",
              "<style scoped>\n",
              "    .dataframe tbody tr th:only-of-type {\n",
              "        vertical-align: middle;\n",
              "    }\n",
              "\n",
              "    .dataframe tbody tr th {\n",
              "        vertical-align: top;\n",
              "    }\n",
              "\n",
              "    .dataframe thead th {\n",
              "        text-align: right;\n",
              "    }\n",
              "</style>\n",
              "<table border=\"1\" class=\"dataframe\">\n",
              "  <thead>\n",
              "    <tr style=\"text-align: right;\">\n",
              "      <th></th>\n",
              "      <th>PATIENT_COST</th>\n",
              "      <th>DIAGNOSIS</th>\n",
              "    </tr>\n",
              "  </thead>\n",
              "  <tbody>\n",
              "    <tr>\n",
              "      <th>0</th>\n",
              "      <td>NaN</td>\n",
              "      <td>none</td>\n",
              "    </tr>\n",
              "    <tr>\n",
              "      <th>1</th>\n",
              "      <td>NaN</td>\n",
              "      <td>none</td>\n",
              "    </tr>\n",
              "    <tr>\n",
              "      <th>2</th>\n",
              "      <td>NaN</td>\n",
              "      <td>none</td>\n",
              "    </tr>\n",
              "    <tr>\n",
              "      <th>3</th>\n",
              "      <td>NaN</td>\n",
              "      <td>none</td>\n",
              "    </tr>\n",
              "    <tr>\n",
              "      <th>4</th>\n",
              "      <td>NaN</td>\n",
              "      <td>none</td>\n",
              "    </tr>\n",
              "  </tbody>\n",
              "</table>\n",
              "</div>\n",
              "      <button class=\"colab-df-convert\" onclick=\"convertToInteractive('df-96c6a733-980f-41d5-ace2-c8ab3764e2bb')\"\n",
              "              title=\"Convert this dataframe to an interactive table.\"\n",
              "              style=\"display:none;\">\n",
              "        \n",
              "  <svg xmlns=\"http://www.w3.org/2000/svg\" height=\"24px\"viewBox=\"0 0 24 24\"\n",
              "       width=\"24px\">\n",
              "    <path d=\"M0 0h24v24H0V0z\" fill=\"none\"/>\n",
              "    <path d=\"M18.56 5.44l.94 2.06.94-2.06 2.06-.94-2.06-.94-.94-2.06-.94 2.06-2.06.94zm-11 1L8.5 8.5l.94-2.06 2.06-.94-2.06-.94L8.5 2.5l-.94 2.06-2.06.94zm10 10l.94 2.06.94-2.06 2.06-.94-2.06-.94-.94-2.06-.94 2.06-2.06.94z\"/><path d=\"M17.41 7.96l-1.37-1.37c-.4-.4-.92-.59-1.43-.59-.52 0-1.04.2-1.43.59L10.3 9.45l-7.72 7.72c-.78.78-.78 2.05 0 2.83L4 21.41c.39.39.9.59 1.41.59.51 0 1.02-.2 1.41-.59l7.78-7.78 2.81-2.81c.8-.78.8-2.07 0-2.86zM5.41 20L4 18.59l7.72-7.72 1.47 1.35L5.41 20z\"/>\n",
              "  </svg>\n",
              "      </button>\n",
              "      \n",
              "  <style>\n",
              "    .colab-df-container {\n",
              "      display:flex;\n",
              "      flex-wrap:wrap;\n",
              "      gap: 12px;\n",
              "    }\n",
              "\n",
              "    .colab-df-convert {\n",
              "      background-color: #E8F0FE;\n",
              "      border: none;\n",
              "      border-radius: 50%;\n",
              "      cursor: pointer;\n",
              "      display: none;\n",
              "      fill: #1967D2;\n",
              "      height: 32px;\n",
              "      padding: 0 0 0 0;\n",
              "      width: 32px;\n",
              "    }\n",
              "\n",
              "    .colab-df-convert:hover {\n",
              "      background-color: #E2EBFA;\n",
              "      box-shadow: 0px 1px 2px rgba(60, 64, 67, 0.3), 0px 1px 3px 1px rgba(60, 64, 67, 0.15);\n",
              "      fill: #174EA6;\n",
              "    }\n",
              "\n",
              "    [theme=dark] .colab-df-convert {\n",
              "      background-color: #3B4455;\n",
              "      fill: #D2E3FC;\n",
              "    }\n",
              "\n",
              "    [theme=dark] .colab-df-convert:hover {\n",
              "      background-color: #434B5C;\n",
              "      box-shadow: 0px 1px 3px 1px rgba(0, 0, 0, 0.15);\n",
              "      filter: drop-shadow(0px 1px 2px rgba(0, 0, 0, 0.3));\n",
              "      fill: #FFFFFF;\n",
              "    }\n",
              "  </style>\n",
              "\n",
              "      <script>\n",
              "        const buttonEl =\n",
              "          document.querySelector('#df-96c6a733-980f-41d5-ace2-c8ab3764e2bb button.colab-df-convert');\n",
              "        buttonEl.style.display =\n",
              "          google.colab.kernel.accessAllowed ? 'block' : 'none';\n",
              "\n",
              "        async function convertToInteractive(key) {\n",
              "          const element = document.querySelector('#df-96c6a733-980f-41d5-ace2-c8ab3764e2bb');\n",
              "          const dataTable =\n",
              "            await google.colab.kernel.invokeFunction('convertToInteractive',\n",
              "                                                     [key], {});\n",
              "          if (!dataTable) return;\n",
              "\n",
              "          const docLinkHtml = 'Like what you see? Visit the ' +\n",
              "            '<a target=\"_blank\" href=https://colab.research.google.com/notebooks/data_table.ipynb>data table notebook</a>'\n",
              "            + ' to learn more about interactive tables.';\n",
              "          element.innerHTML = '';\n",
              "          dataTable['output_type'] = 'display_data';\n",
              "          await google.colab.output.renderOutput(dataTable, element);\n",
              "          const docLink = document.createElement('div');\n",
              "          docLink.innerHTML = docLinkHtml;\n",
              "          element.appendChild(docLink);\n",
              "        }\n",
              "      </script>\n",
              "    </div>\n",
              "  </div>\n",
              "  "
            ]
          },
          "metadata": {},
          "execution_count": 56
        }
      ]
    },
    {
      "cell_type": "code",
      "source": [
        "groupby_obj = df_cost.groupby('DIAGNOSIS')"
      ],
      "metadata": {
        "id": "XEMokb3n4ya3"
      },
      "execution_count": 57,
      "outputs": []
    },
    {
      "cell_type": "code",
      "source": [
        "groupby_obj.mean()"
      ],
      "metadata": {
        "id": "p_lFjBrz44gr",
        "colab": {
          "base_uri": "https://localhost:8080/",
          "height": 175
        },
        "outputId": "4fc37d26-d980-42cf-8519-69e53f286c7d"
      },
      "execution_count": 58,
      "outputs": [
        {
          "output_type": "execute_result",
          "data": {
            "text/plain": [
              "               PATIENT_COST\n",
              "DIAGNOSIS                  \n",
              "breast_cancer  50470.145000\n",
              "none                    NaN\n",
              "other          34397.559891"
            ],
            "text/html": [
              "\n",
              "  <div id=\"df-715f0012-144c-41e7-9069-0fdc9b5162f3\">\n",
              "    <div class=\"colab-df-container\">\n",
              "      <div>\n",
              "<style scoped>\n",
              "    .dataframe tbody tr th:only-of-type {\n",
              "        vertical-align: middle;\n",
              "    }\n",
              "\n",
              "    .dataframe tbody tr th {\n",
              "        vertical-align: top;\n",
              "    }\n",
              "\n",
              "    .dataframe thead th {\n",
              "        text-align: right;\n",
              "    }\n",
              "</style>\n",
              "<table border=\"1\" class=\"dataframe\">\n",
              "  <thead>\n",
              "    <tr style=\"text-align: right;\">\n",
              "      <th></th>\n",
              "      <th>PATIENT_COST</th>\n",
              "    </tr>\n",
              "    <tr>\n",
              "      <th>DIAGNOSIS</th>\n",
              "      <th></th>\n",
              "    </tr>\n",
              "  </thead>\n",
              "  <tbody>\n",
              "    <tr>\n",
              "      <th>breast_cancer</th>\n",
              "      <td>50470.145000</td>\n",
              "    </tr>\n",
              "    <tr>\n",
              "      <th>none</th>\n",
              "      <td>NaN</td>\n",
              "    </tr>\n",
              "    <tr>\n",
              "      <th>other</th>\n",
              "      <td>34397.559891</td>\n",
              "    </tr>\n",
              "  </tbody>\n",
              "</table>\n",
              "</div>\n",
              "      <button class=\"colab-df-convert\" onclick=\"convertToInteractive('df-715f0012-144c-41e7-9069-0fdc9b5162f3')\"\n",
              "              title=\"Convert this dataframe to an interactive table.\"\n",
              "              style=\"display:none;\">\n",
              "        \n",
              "  <svg xmlns=\"http://www.w3.org/2000/svg\" height=\"24px\"viewBox=\"0 0 24 24\"\n",
              "       width=\"24px\">\n",
              "    <path d=\"M0 0h24v24H0V0z\" fill=\"none\"/>\n",
              "    <path d=\"M18.56 5.44l.94 2.06.94-2.06 2.06-.94-2.06-.94-.94-2.06-.94 2.06-2.06.94zm-11 1L8.5 8.5l.94-2.06 2.06-.94-2.06-.94L8.5 2.5l-.94 2.06-2.06.94zm10 10l.94 2.06.94-2.06 2.06-.94-2.06-.94-.94-2.06-.94 2.06-2.06.94z\"/><path d=\"M17.41 7.96l-1.37-1.37c-.4-.4-.92-.59-1.43-.59-.52 0-1.04.2-1.43.59L10.3 9.45l-7.72 7.72c-.78.78-.78 2.05 0 2.83L4 21.41c.39.39.9.59 1.41.59.51 0 1.02-.2 1.41-.59l7.78-7.78 2.81-2.81c.8-.78.8-2.07 0-2.86zM5.41 20L4 18.59l7.72-7.72 1.47 1.35L5.41 20z\"/>\n",
              "  </svg>\n",
              "      </button>\n",
              "      \n",
              "  <style>\n",
              "    .colab-df-container {\n",
              "      display:flex;\n",
              "      flex-wrap:wrap;\n",
              "      gap: 12px;\n",
              "    }\n",
              "\n",
              "    .colab-df-convert {\n",
              "      background-color: #E8F0FE;\n",
              "      border: none;\n",
              "      border-radius: 50%;\n",
              "      cursor: pointer;\n",
              "      display: none;\n",
              "      fill: #1967D2;\n",
              "      height: 32px;\n",
              "      padding: 0 0 0 0;\n",
              "      width: 32px;\n",
              "    }\n",
              "\n",
              "    .colab-df-convert:hover {\n",
              "      background-color: #E2EBFA;\n",
              "      box-shadow: 0px 1px 2px rgba(60, 64, 67, 0.3), 0px 1px 3px 1px rgba(60, 64, 67, 0.15);\n",
              "      fill: #174EA6;\n",
              "    }\n",
              "\n",
              "    [theme=dark] .colab-df-convert {\n",
              "      background-color: #3B4455;\n",
              "      fill: #D2E3FC;\n",
              "    }\n",
              "\n",
              "    [theme=dark] .colab-df-convert:hover {\n",
              "      background-color: #434B5C;\n",
              "      box-shadow: 0px 1px 3px 1px rgba(0, 0, 0, 0.15);\n",
              "      filter: drop-shadow(0px 1px 2px rgba(0, 0, 0, 0.3));\n",
              "      fill: #FFFFFF;\n",
              "    }\n",
              "  </style>\n",
              "\n",
              "      <script>\n",
              "        const buttonEl =\n",
              "          document.querySelector('#df-715f0012-144c-41e7-9069-0fdc9b5162f3 button.colab-df-convert');\n",
              "        buttonEl.style.display =\n",
              "          google.colab.kernel.accessAllowed ? 'block' : 'none';\n",
              "\n",
              "        async function convertToInteractive(key) {\n",
              "          const element = document.querySelector('#df-715f0012-144c-41e7-9069-0fdc9b5162f3');\n",
              "          const dataTable =\n",
              "            await google.colab.kernel.invokeFunction('convertToInteractive',\n",
              "                                                     [key], {});\n",
              "          if (!dataTable) return;\n",
              "\n",
              "          const docLinkHtml = 'Like what you see? Visit the ' +\n",
              "            '<a target=\"_blank\" href=https://colab.research.google.com/notebooks/data_table.ipynb>data table notebook</a>'\n",
              "            + ' to learn more about interactive tables.';\n",
              "          element.innerHTML = '';\n",
              "          dataTable['output_type'] = 'display_data';\n",
              "          await google.colab.output.renderOutput(dataTable, element);\n",
              "          const docLink = document.createElement('div');\n",
              "          docLink.innerHTML = docLinkHtml;\n",
              "          element.appendChild(docLink);\n",
              "        }\n",
              "      </script>\n",
              "    </div>\n",
              "  </div>\n",
              "  "
            ]
          },
          "metadata": {},
          "execution_count": 58
        }
      ]
    },
    {
      "cell_type": "code",
      "source": [
        "groupby_obj.mean().plot(kind='bar')"
      ],
      "metadata": {
        "id": "rY89G9Zr46KG",
        "colab": {
          "base_uri": "https://localhost:8080/",
          "height": 358
        },
        "outputId": "d8ec698d-5e8f-4b3c-a0b4-be5627116339"
      },
      "execution_count": 59,
      "outputs": [
        {
          "output_type": "execute_result",
          "data": {
            "text/plain": [
              "<matplotlib.axes._subplots.AxesSubplot at 0x7f7ff75e3850>"
            ]
          },
          "metadata": {},
          "execution_count": 59
        },
        {
          "output_type": "display_data",
          "data": {
            "text/plain": [
              "<Figure size 432x288 with 1 Axes>"
            ],
            "image/png": "[encoded data removed]"
          },
          "metadata": {
            "needs_background": "light"
          }
        }
      ]
    },
    {
      "cell_type": "markdown",
      "source": [
        "Die Analyse zeigt, dass Patienten mit Brutkrebs deutlich mehr Kosten selber tragen müssen, als Patienten mit einer anderen Diagnose oder gar keiner Diagnose."
      ],
      "metadata": {
        "id": "aH0iPr9j8ZSJ"
      }
    },
    {
      "cell_type": "code",
      "source": [
        "df_encounters = df[[ 'DIAGNOSIS', 'NUMBER_ENCOUNTERS']]"
      ],
      "metadata": {
        "id": "4mrXTGun6yUG"
      },
      "execution_count": 60,
      "outputs": []
    },
    {
      "cell_type": "code",
      "source": [
        "df_encounters.head()"
      ],
      "metadata": {
        "id": "RGnotreD7SIO",
        "colab": {
          "base_uri": "https://localhost:8080/",
          "height": 206
        },
        "outputId": "393ce30a-7c90-471a-a6f2-143b089db2bf"
      },
      "execution_count": 61,
      "outputs": [
        {
          "output_type": "execute_result",
          "data": {
            "text/plain": [
              "  DIAGNOSIS  NUMBER_ENCOUNTERS\n",
              "0      none                  4\n",
              "1      none                  5\n",
              "2      none                  6\n",
              "3      none                  8\n",
              "4      none                  9"
            ],
            "text/html": [
              "\n",
              "  <div id=\"df-9a2ae763-ef6f-41c4-bb07-11191acd7285\">\n",
              "    <div class=\"colab-df-container\">\n",
              "      <div>\n",
              "<style scoped>\n",
              "    .dataframe tbody tr th:only-of-type {\n",
              "        vertical-align: middle;\n",
              "    }\n",
              "\n",
              "    .dataframe tbody tr th {\n",
              "        vertical-align: top;\n",
              "    }\n",
              "\n",
              "    .dataframe thead th {\n",
              "        text-align: right;\n",
              "    }\n",
              "</style>\n",
              "<table border=\"1\" class=\"dataframe\">\n",
              "  <thead>\n",
              "    <tr style=\"text-align: right;\">\n",
              "      <th></th>\n",
              "      <th>DIAGNOSIS</th>\n",
              "      <th>NUMBER_ENCOUNTERS</th>\n",
              "    </tr>\n",
              "  </thead>\n",
              "  <tbody>\n",
              "    <tr>\n",
              "      <th>0</th>\n",
              "      <td>none</td>\n",
              "      <td>4</td>\n",
              "    </tr>\n",
              "    <tr>\n",
              "      <th>1</th>\n",
              "      <td>none</td>\n",
              "      <td>5</td>\n",
              "    </tr>\n",
              "    <tr>\n",
              "      <th>2</th>\n",
              "      <td>none</td>\n",
              "      <td>6</td>\n",
              "    </tr>\n",
              "    <tr>\n",
              "      <th>3</th>\n",
              "      <td>none</td>\n",
              "      <td>8</td>\n",
              "    </tr>\n",
              "    <tr>\n",
              "      <th>4</th>\n",
              "      <td>none</td>\n",
              "      <td>9</td>\n",
              "    </tr>\n",
              "  </tbody>\n",
              "</table>\n",
              "</div>\n",
              "      <button class=\"colab-df-convert\" onclick=\"convertToInteractive('df-9a2ae763-ef6f-41c4-bb07-11191acd7285')\"\n",
              "              title=\"Convert this dataframe to an interactive table.\"\n",
              "              style=\"display:none;\">\n",
              "        \n",
              "  <svg xmlns=\"http://www.w3.org/2000/svg\" height=\"24px\"viewBox=\"0 0 24 24\"\n",
              "       width=\"24px\">\n",
              "    <path d=\"M0 0h24v24H0V0z\" fill=\"none\"/>\n",
              "    <path d=\"M18.56 5.44l.94 2.06.94-2.06 2.06-.94-2.06-.94-.94-2.06-.94 2.06-2.06.94zm-11 1L8.5 8.5l.94-2.06 2.06-.94-2.06-.94L8.5 2.5l-.94 2.06-2.06.94zm10 10l.94 2.06.94-2.06 2.06-.94-2.06-.94-.94-2.06-.94 2.06-2.06.94z\"/><path d=\"M17.41 7.96l-1.37-1.37c-.4-.4-.92-.59-1.43-.59-.52 0-1.04.2-1.43.59L10.3 9.45l-7.72 7.72c-.78.78-.78 2.05 0 2.83L4 21.41c.39.39.9.59 1.41.59.51 0 1.02-.2 1.41-.59l7.78-7.78 2.81-2.81c.8-.78.8-2.07 0-2.86zM5.41 20L4 18.59l7.72-7.72 1.47 1.35L5.41 20z\"/>\n",
              "  </svg>\n",
              "      </button>\n",
              "      \n",
              "  <style>\n",
              "    .colab-df-container {\n",
              "      display:flex;\n",
              "      flex-wrap:wrap;\n",
              "      gap: 12px;\n",
              "    }\n",
              "\n",
              "    .colab-df-convert {\n",
              "      background-color: #E8F0FE;\n",
              "      border: none;\n",
              "      border-radius: 50%;\n",
              "      cursor: pointer;\n",
              "      display: none;\n",
              "      fill: #1967D2;\n",
              "      height: 32px;\n",
              "      padding: 0 0 0 0;\n",
              "      width: 32px;\n",
              "    }\n",
              "\n",
              "    .colab-df-convert:hover {\n",
              "      background-color: #E2EBFA;\n",
              "      box-shadow: 0px 1px 2px rgba(60, 64, 67, 0.3), 0px 1px 3px 1px rgba(60, 64, 67, 0.15);\n",
              "      fill: #174EA6;\n",
              "    }\n",
              "\n",
              "    [theme=dark] .colab-df-convert {\n",
              "      background-color: #3B4455;\n",
              "      fill: #D2E3FC;\n",
              "    }\n",
              "\n",
              "    [theme=dark] .colab-df-convert:hover {\n",
              "      background-color: #434B5C;\n",
              "      box-shadow: 0px 1px 3px 1px rgba(0, 0, 0, 0.15);\n",
              "      filter: drop-shadow(0px 1px 2px rgba(0, 0, 0, 0.3));\n",
              "      fill: #FFFFFF;\n",
              "    }\n",
              "  </style>\n",
              "\n",
              "      <script>\n",
              "        const buttonEl =\n",
              "          document.querySelector('#df-9a2ae763-ef6f-41c4-bb07-11191acd7285 button.colab-df-convert');\n",
              "        buttonEl.style.display =\n",
              "          google.colab.kernel.accessAllowed ? 'block' : 'none';\n",
              "\n",
              "        async function convertToInteractive(key) {\n",
              "          const element = document.querySelector('#df-9a2ae763-ef6f-41c4-bb07-11191acd7285');\n",
              "          const dataTable =\n",
              "            await google.colab.kernel.invokeFunction('convertToInteractive',\n",
              "                                                     [key], {});\n",
              "          if (!dataTable) return;\n",
              "\n",
              "          const docLinkHtml = 'Like what you see? Visit the ' +\n",
              "            '<a target=\"_blank\" href=https://colab.research.google.com/notebooks/data_table.ipynb>data table notebook</a>'\n",
              "            + ' to learn more about interactive tables.';\n",
              "          element.innerHTML = '';\n",
              "          dataTable['output_type'] = 'display_data';\n",
              "          await google.colab.output.renderOutput(dataTable, element);\n",
              "          const docLink = document.createElement('div');\n",
              "          docLink.innerHTML = docLinkHtml;\n",
              "          element.appendChild(docLink);\n",
              "        }\n",
              "      </script>\n",
              "    </div>\n",
              "  </div>\n",
              "  "
            ]
          },
          "metadata": {},
          "execution_count": 61
        }
      ]
    },
    {
      "cell_type": "code",
      "source": [
        "groupby_obj = df_encounters.groupby('DIAGNOSIS')"
      ],
      "metadata": {
        "id": "8C_oPpt8-qmR"
      },
      "execution_count": 62,
      "outputs": []
    },
    {
      "cell_type": "code",
      "source": [
        "groupby_obj.mean()"
      ],
      "metadata": {
        "id": "fGmiGQia-6YQ",
        "colab": {
          "base_uri": "https://localhost:8080/",
          "height": 175
        },
        "outputId": "9b3424ba-e729-4b87-c825-cac98134d4d8"
      },
      "execution_count": 63,
      "outputs": [
        {
          "output_type": "execute_result",
          "data": {
            "text/plain": [
              "               NUMBER_ENCOUNTERS\n",
              "DIAGNOSIS                       \n",
              "breast_cancer          55.363636\n",
              "none                    7.595023\n",
              "other                  10.322581"
            ],
            "text/html": [
              "\n",
              "  <div id=\"df-63037462-dcc2-4227-aca9-66d7e59d811e\">\n",
              "    <div class=\"colab-df-container\">\n",
              "      <div>\n",
              "<style scoped>\n",
              "    .dataframe tbody tr th:only-of-type {\n",
              "        vertical-align: middle;\n",
              "    }\n",
              "\n",
              "    .dataframe tbody tr th {\n",
              "        vertical-align: top;\n",
              "    }\n",
              "\n",
              "    .dataframe thead th {\n",
              "        text-align: right;\n",
              "    }\n",
              "</style>\n",
              "<table border=\"1\" class=\"dataframe\">\n",
              "  <thead>\n",
              "    <tr style=\"text-align: right;\">\n",
              "      <th></th>\n",
              "      <th>NUMBER_ENCOUNTERS</th>\n",
              "    </tr>\n",
              "    <tr>\n",
              "      <th>DIAGNOSIS</th>\n",
              "      <th></th>\n",
              "    </tr>\n",
              "  </thead>\n",
              "  <tbody>\n",
              "    <tr>\n",
              "      <th>breast_cancer</th>\n",
              "      <td>55.363636</td>\n",
              "    </tr>\n",
              "    <tr>\n",
              "      <th>none</th>\n",
              "      <td>7.595023</td>\n",
              "    </tr>\n",
              "    <tr>\n",
              "      <th>other</th>\n",
              "      <td>10.322581</td>\n",
              "    </tr>\n",
              "  </tbody>\n",
              "</table>\n",
              "</div>\n",
              "      <button class=\"colab-df-convert\" onclick=\"convertToInteractive('df-63037462-dcc2-4227-aca9-66d7e59d811e')\"\n",
              "              title=\"Convert this dataframe to an interactive table.\"\n",
              "              style=\"display:none;\">\n",
              "        \n",
              "  <svg xmlns=\"http://www.w3.org/2000/svg\" height=\"24px\"viewBox=\"0 0 24 24\"\n",
              "       width=\"24px\">\n",
              "    <path d=\"M0 0h24v24H0V0z\" fill=\"none\"/>\n",
              "    <path d=\"M18.56 5.44l.94 2.06.94-2.06 2.06-.94-2.06-.94-.94-2.06-.94 2.06-2.06.94zm-11 1L8.5 8.5l.94-2.06 2.06-.94-2.06-.94L8.5 2.5l-.94 2.06-2.06.94zm10 10l.94 2.06.94-2.06 2.06-.94-2.06-.94-.94-2.06-.94 2.06-2.06.94z\"/><path d=\"M17.41 7.96l-1.37-1.37c-.4-.4-.92-.59-1.43-.59-.52 0-1.04.2-1.43.59L10.3 9.45l-7.72 7.72c-.78.78-.78 2.05 0 2.83L4 21.41c.39.39.9.59 1.41.59.51 0 1.02-.2 1.41-.59l7.78-7.78 2.81-2.81c.8-.78.8-2.07 0-2.86zM5.41 20L4 18.59l7.72-7.72 1.47 1.35L5.41 20z\"/>\n",
              "  </svg>\n",
              "      </button>\n",
              "      \n",
              "  <style>\n",
              "    .colab-df-container {\n",
              "      display:flex;\n",
              "      flex-wrap:wrap;\n",
              "      gap: 12px;\n",
              "    }\n",
              "\n",
              "    .colab-df-convert {\n",
              "      background-color: #E8F0FE;\n",
              "      border: none;\n",
              "      border-radius: 50%;\n",
              "      cursor: pointer;\n",
              "      display: none;\n",
              "      fill: #1967D2;\n",
              "      height: 32px;\n",
              "      padding: 0 0 0 0;\n",
              "      width: 32px;\n",
              "    }\n",
              "\n",
              "    .colab-df-convert:hover {\n",
              "      background-color: #E2EBFA;\n",
              "      box-shadow: 0px 1px 2px rgba(60, 64, 67, 0.3), 0px 1px 3px 1px rgba(60, 64, 67, 0.15);\n",
              "      fill: #174EA6;\n",
              "    }\n",
              "\n",
              "    [theme=dark] .colab-df-convert {\n",
              "      background-color: #3B4455;\n",
              "      fill: #D2E3FC;\n",
              "    }\n",
              "\n",
              "    [theme=dark] .colab-df-convert:hover {\n",
              "      background-color: #434B5C;\n",
              "      box-shadow: 0px 1px 3px 1px rgba(0, 0, 0, 0.15);\n",
              "      filter: drop-shadow(0px 1px 2px rgba(0, 0, 0, 0.3));\n",
              "      fill: #FFFFFF;\n",
              "    }\n",
              "  </style>\n",
              "\n",
              "      <script>\n",
              "        const buttonEl =\n",
              "          document.querySelector('#df-63037462-dcc2-4227-aca9-66d7e59d811e button.colab-df-convert');\n",
              "        buttonEl.style.display =\n",
              "          google.colab.kernel.accessAllowed ? 'block' : 'none';\n",
              "\n",
              "        async function convertToInteractive(key) {\n",
              "          const element = document.querySelector('#df-63037462-dcc2-4227-aca9-66d7e59d811e');\n",
              "          const dataTable =\n",
              "            await google.colab.kernel.invokeFunction('convertToInteractive',\n",
              "                                                     [key], {});\n",
              "          if (!dataTable) return;\n",
              "\n",
              "          const docLinkHtml = 'Like what you see? Visit the ' +\n",
              "            '<a target=\"_blank\" href=https://colab.research.google.com/notebooks/data_table.ipynb>data table notebook</a>'\n",
              "            + ' to learn more about interactive tables.';\n",
              "          element.innerHTML = '';\n",
              "          dataTable['output_type'] = 'display_data';\n",
              "          await google.colab.output.renderOutput(dataTable, element);\n",
              "          const docLink = document.createElement('div');\n",
              "          docLink.innerHTML = docLinkHtml;\n",
              "          element.appendChild(docLink);\n",
              "        }\n",
              "      </script>\n",
              "    </div>\n",
              "  </div>\n",
              "  "
            ]
          },
          "metadata": {},
          "execution_count": 63
        }
      ]
    },
    {
      "cell_type": "code",
      "source": [
        "groupby_obj.mean().plot(kind='bar')"
      ],
      "metadata": {
        "id": "rcvkpt5K-8Vd",
        "colab": {
          "base_uri": "https://localhost:8080/",
          "height": 358
        },
        "outputId": "6f436495-b9d0-4c1d-d09b-2e7b44ebc591"
      },
      "execution_count": 64,
      "outputs": [
        {
          "output_type": "execute_result",
          "data": {
            "text/plain": [
              "<matplotlib.axes._subplots.AxesSubplot at 0x7f7ffc396820>"
            ]
          },
          "metadata": {},
          "execution_count": 64
        },
        {
          "output_type": "display_data",
          "data": {
            "text/plain": [
              "<Figure size 432x288 with 1 Axes>"
            ],
            "image/png": "[encoded data removed]"
          },
          "metadata": {
            "needs_background": "light"
          }
        }
      ]
    },
    {
      "cell_type": "markdown",
      "source": [
        "Die Analyse zeigt, dass Patienten mit Brustkrebs deutlich öfter den Arzt/ein Krankenhaus aufsuchen als Patienten mit einer anderen oder gar keiner Diagnose."
      ],
      "metadata": {
        "id": "IDuSB8dL8ws3"
      }
    },
    {
      "cell_type": "markdown",
      "source": [],
      "metadata": {
        "id": "4kB-LE0n8ujW"
      }
    },
    {
      "cell_type": "markdown",
      "source": [
        "## Machine Learning\n",
        "\n",
        "###Anhand der Kosten, die für den Patienten entstehen und der Anzahl der Arztbesuche soll auf die Diagnose der einzelnen Patienten geschlossen werden."
      ],
      "metadata": {
        "id": "vHrzljWhGiQ2"
      }
    },
    {
      "cell_type": "code",
      "source": [
        "df_ml = df[['DIAGNOSIS', 'NUMBER_ENCOUNTERS', 'PATIENT_COST']]"
      ],
      "metadata": {
        "id": "a2kxX8-G_7At"
      },
      "execution_count": 65,
      "outputs": []
    },
    {
      "cell_type": "code",
      "source": [
        "df_ml.head()"
      ],
      "metadata": {
        "id": "nMJznr4GAGvw",
        "colab": {
          "base_uri": "https://localhost:8080/",
          "height": 206
        },
        "outputId": "7dce9eba-cf3b-4b7f-9104-0f1a9484845a"
      },
      "execution_count": 66,
      "outputs": [
        {
          "output_type": "execute_result",
          "data": {
            "text/plain": [
              "  DIAGNOSIS  NUMBER_ENCOUNTERS  PATIENT_COST\n",
              "0      none                  4           NaN\n",
              "1      none                  5           NaN\n",
              "2      none                  6           NaN\n",
              "3      none                  8           NaN\n",
              "4      none                  9           NaN"
            ],
            "text/html": [
              "\n",
              "  <div id=\"df-37837965-7fe5-41ec-aed6-246bbf55db54\">\n",
              "    <div class=\"colab-df-container\">\n",
              "      <div>\n",
              "<style scoped>\n",
              "    .dataframe tbody tr th:only-of-type {\n",
              "        vertical-align: middle;\n",
              "    }\n",
              "\n",
              "    .dataframe tbody tr th {\n",
              "        vertical-align: top;\n",
              "    }\n",
              "\n",
              "    .dataframe thead th {\n",
              "        text-align: right;\n",
              "    }\n",
              "</style>\n",
              "<table border=\"1\" class=\"dataframe\">\n",
              "  <thead>\n",
              "    <tr style=\"text-align: right;\">\n",
              "      <th></th>\n",
              "      <th>DIAGNOSIS</th>\n",
              "      <th>NUMBER_ENCOUNTERS</th>\n",
              "      <th>PATIENT_COST</th>\n",
              "    </tr>\n",
              "  </thead>\n",
              "  <tbody>\n",
              "    <tr>\n",
              "      <th>0</th>\n",
              "      <td>none</td>\n",
              "      <td>4</td>\n",
              "      <td>NaN</td>\n",
              "    </tr>\n",
              "    <tr>\n",
              "      <th>1</th>\n",
              "      <td>none</td>\n",
              "      <td>5</td>\n",
              "      <td>NaN</td>\n",
              "    </tr>\n",
              "    <tr>\n",
              "      <th>2</th>\n",
              "      <td>none</td>\n",
              "      <td>6</td>\n",
              "      <td>NaN</td>\n",
              "    </tr>\n",
              "    <tr>\n",
              "      <th>3</th>\n",
              "      <td>none</td>\n",
              "      <td>8</td>\n",
              "      <td>NaN</td>\n",
              "    </tr>\n",
              "    <tr>\n",
              "      <th>4</th>\n",
              "      <td>none</td>\n",
              "      <td>9</td>\n",
              "      <td>NaN</td>\n",
              "    </tr>\n",
              "  </tbody>\n",
              "</table>\n",
              "</div>\n",
              "      <button class=\"colab-df-convert\" onclick=\"convertToInteractive('df-37837965-7fe5-41ec-aed6-246bbf55db54')\"\n",
              "              title=\"Convert this dataframe to an interactive table.\"\n",
              "              style=\"display:none;\">\n",
              "        \n",
              "  <svg xmlns=\"http://www.w3.org/2000/svg\" height=\"24px\"viewBox=\"0 0 24 24\"\n",
              "       width=\"24px\">\n",
              "    <path d=\"M0 0h24v24H0V0z\" fill=\"none\"/>\n",
              "    <path d=\"M18.56 5.44l.94 2.06.94-2.06 2.06-.94-2.06-.94-.94-2.06-.94 2.06-2.06.94zm-11 1L8.5 8.5l.94-2.06 2.06-.94-2.06-.94L8.5 2.5l-.94 2.06-2.06.94zm10 10l.94 2.06.94-2.06 2.06-.94-2.06-.94-.94-2.06-.94 2.06-2.06.94z\"/><path d=\"M17.41 7.96l-1.37-1.37c-.4-.4-.92-.59-1.43-.59-.52 0-1.04.2-1.43.59L10.3 9.45l-7.72 7.72c-.78.78-.78 2.05 0 2.83L4 21.41c.39.39.9.59 1.41.59.51 0 1.02-.2 1.41-.59l7.78-7.78 2.81-2.81c.8-.78.8-2.07 0-2.86zM5.41 20L4 18.59l7.72-7.72 1.47 1.35L5.41 20z\"/>\n",
              "  </svg>\n",
              "      </button>\n",
              "      \n",
              "  <style>\n",
              "    .colab-df-container {\n",
              "      display:flex;\n",
              "      flex-wrap:wrap;\n",
              "      gap: 12px;\n",
              "    }\n",
              "\n",
              "    .colab-df-convert {\n",
              "      background-color: #E8F0FE;\n",
              "      border: none;\n",
              "      border-radius: 50%;\n",
              "      cursor: pointer;\n",
              "      display: none;\n",
              "      fill: #1967D2;\n",
              "      height: 32px;\n",
              "      padding: 0 0 0 0;\n",
              "      width: 32px;\n",
              "    }\n",
              "\n",
              "    .colab-df-convert:hover {\n",
              "      background-color: #E2EBFA;\n",
              "      box-shadow: 0px 1px 2px rgba(60, 64, 67, 0.3), 0px 1px 3px 1px rgba(60, 64, 67, 0.15);\n",
              "      fill: #174EA6;\n",
              "    }\n",
              "\n",
              "    [theme=dark] .colab-df-convert {\n",
              "      background-color: #3B4455;\n",
              "      fill: #D2E3FC;\n",
              "    }\n",
              "\n",
              "    [theme=dark] .colab-df-convert:hover {\n",
              "      background-color: #434B5C;\n",
              "      box-shadow: 0px 1px 3px 1px rgba(0, 0, 0, 0.15);\n",
              "      filter: drop-shadow(0px 1px 2px rgba(0, 0, 0, 0.3));\n",
              "      fill: #FFFFFF;\n",
              "    }\n",
              "  </style>\n",
              "\n",
              "      <script>\n",
              "        const buttonEl =\n",
              "          document.querySelector('#df-37837965-7fe5-41ec-aed6-246bbf55db54 button.colab-df-convert');\n",
              "        buttonEl.style.display =\n",
              "          google.colab.kernel.accessAllowed ? 'block' : 'none';\n",
              "\n",
              "        async function convertToInteractive(key) {\n",
              "          const element = document.querySelector('#df-37837965-7fe5-41ec-aed6-246bbf55db54');\n",
              "          const dataTable =\n",
              "            await google.colab.kernel.invokeFunction('convertToInteractive',\n",
              "                                                     [key], {});\n",
              "          if (!dataTable) return;\n",
              "\n",
              "          const docLinkHtml = 'Like what you see? Visit the ' +\n",
              "            '<a target=\"_blank\" href=https://colab.research.google.com/notebooks/data_table.ipynb>data table notebook</a>'\n",
              "            + ' to learn more about interactive tables.';\n",
              "          element.innerHTML = '';\n",
              "          dataTable['output_type'] = 'display_data';\n",
              "          await google.colab.output.renderOutput(dataTable, element);\n",
              "          const docLink = document.createElement('div');\n",
              "          docLink.innerHTML = docLinkHtml;\n",
              "          element.appendChild(docLink);\n",
              "        }\n",
              "      </script>\n",
              "    </div>\n",
              "  </div>\n",
              "  "
            ]
          },
          "metadata": {},
          "execution_count": 66
        }
      ]
    },
    {
      "cell_type": "code",
      "source": [
        "df_ml.groupby('DIAGNOSIS')"
      ],
      "metadata": {
        "id": "IAAMdUalAJ98",
        "colab": {
          "base_uri": "https://localhost:8080/"
        },
        "outputId": "7f3a443e-c9f3-4b86-f535-fe0649e89b44"
      },
      "execution_count": 67,
      "outputs": [
        {
          "output_type": "execute_result",
          "data": {
            "text/plain": [
              "<pandas.core.groupby.generic.DataFrameGroupBy object at 0x7f7ff7e483d0>"
            ]
          },
          "metadata": {},
          "execution_count": 67
        }
      ]
    },
    {
      "cell_type": "code",
      "source": [
        "df_ml.groupby('DIAGNOSIS').head()"
      ],
      "metadata": {
        "id": "LFNVw0B6AOWm",
        "colab": {
          "base_uri": "https://localhost:8080/",
          "height": 520
        },
        "outputId": "4633a578-da3c-4706-cb17-4518e51ad872"
      },
      "execution_count": 68,
      "outputs": [
        {
          "output_type": "execute_result",
          "data": {
            "text/plain": [
              "         DIAGNOSIS  NUMBER_ENCOUNTERS  PATIENT_COST\n",
              "0             none                  4           NaN\n",
              "1             none                  5           NaN\n",
              "2             none                  6           NaN\n",
              "3             none                  8           NaN\n",
              "4             none                  9           NaN\n",
              "11           other                 11           NaN\n",
              "27           other                 11        186.52\n",
              "31           other                 11      95318.00\n",
              "37   breast_cancer                 44           NaN\n",
              "47   breast_cancer                 40           NaN\n",
              "51           other                  8           NaN\n",
              "67           other                 12      20433.02\n",
              "130  breast_cancer                 43      71208.55\n",
              "217  breast_cancer                 82       5693.91\n",
              "413  breast_cancer                 44           NaN"
            ],
            "text/html": [
              "\n",
              "  <div id=\"df-c2288aea-f71f-4bef-94c7-fefb9b1d9987\">\n",
              "    <div class=\"colab-df-container\">\n",
              "      <div>\n",
              "<style scoped>\n",
              "    .dataframe tbody tr th:only-of-type {\n",
              "        vertical-align: middle;\n",
              "    }\n",
              "\n",
              "    .dataframe tbody tr th {\n",
              "        vertical-align: top;\n",
              "    }\n",
              "\n",
              "    .dataframe thead th {\n",
              "        text-align: right;\n",
              "    }\n",
              "</style>\n",
              "<table border=\"1\" class=\"dataframe\">\n",
              "  <thead>\n",
              "    <tr style=\"text-align: right;\">\n",
              "      <th></th>\n",
              "      <th>DIAGNOSIS</th>\n",
              "      <th>NUMBER_ENCOUNTERS</th>\n",
              "      <th>PATIENT_COST</th>\n",
              "    </tr>\n",
              "  </thead>\n",
              "  <tbody>\n",
              "    <tr>\n",
              "      <th>0</th>\n",
              "      <td>none</td>\n",
              "      <td>4</td>\n",
              "      <td>NaN</td>\n",
              "    </tr>\n",
              "    <tr>\n",
              "      <th>1</th>\n",
              "      <td>none</td>\n",
              "      <td>5</td>\n",
              "      <td>NaN</td>\n",
              "    </tr>\n",
              "    <tr>\n",
              "      <th>2</th>\n",
              "      <td>none</td>\n",
              "      <td>6</td>\n",
              "      <td>NaN</td>\n",
              "    </tr>\n",
              "    <tr>\n",
              "      <th>3</th>\n",
              "      <td>none</td>\n",
              "      <td>8</td>\n",
              "      <td>NaN</td>\n",
              "    </tr>\n",
              "    <tr>\n",
              "      <th>4</th>\n",
              "      <td>none</td>\n",
              "      <td>9</td>\n",
              "      <td>NaN</td>\n",
              "    </tr>\n",
              "    <tr>\n",
              "      <th>11</th>\n",
              "      <td>other</td>\n",
              "      <td>11</td>\n",
              "      <td>NaN</td>\n",
              "    </tr>\n",
              "    <tr>\n",
              "      <th>27</th>\n",
              "      <td>other</td>\n",
              "      <td>11</td>\n",
              "      <td>186.52</td>\n",
              "    </tr>\n",
              "    <tr>\n",
              "      <th>31</th>\n",
              "      <td>other</td>\n",
              "      <td>11</td>\n",
              "      <td>95318.00</td>\n",
              "    </tr>\n",
              "    <tr>\n",
              "      <th>37</th>\n",
              "      <td>breast_cancer</td>\n",
              "      <td>44</td>\n",
              "      <td>NaN</td>\n",
              "    </tr>\n",
              "    <tr>\n",
              "      <th>47</th>\n",
              "      <td>breast_cancer</td>\n",
              "      <td>40</td>\n",
              "      <td>NaN</td>\n",
              "    </tr>\n",
              "    <tr>\n",
              "      <th>51</th>\n",
              "      <td>other</td>\n",
              "      <td>8</td>\n",
              "      <td>NaN</td>\n",
              "    </tr>\n",
              "    <tr>\n",
              "      <th>67</th>\n",
              "      <td>other</td>\n",
              "      <td>12</td>\n",
              "      <td>20433.02</td>\n",
              "    </tr>\n",
              "    <tr>\n",
              "      <th>130</th>\n",
              "      <td>breast_cancer</td>\n",
              "      <td>43</td>\n",
              "      <td>71208.55</td>\n",
              "    </tr>\n",
              "    <tr>\n",
              "      <th>217</th>\n",
              "      <td>breast_cancer</td>\n",
              "      <td>82</td>\n",
              "      <td>5693.91</td>\n",
              "    </tr>\n",
              "    <tr>\n",
              "      <th>413</th>\n",
              "      <td>breast_cancer</td>\n",
              "      <td>44</td>\n",
              "      <td>NaN</td>\n",
              "    </tr>\n",
              "  </tbody>\n",
              "</table>\n",
              "</div>\n",
              "      <button class=\"colab-df-convert\" onclick=\"convertToInteractive('df-c2288aea-f71f-4bef-94c7-fefb9b1d9987')\"\n",
              "              title=\"Convert this dataframe to an interactive table.\"\n",
              "              style=\"display:none;\">\n",
              "        \n",
              "  <svg xmlns=\"http://www.w3.org/2000/svg\" height=\"24px\"viewBox=\"0 0 24 24\"\n",
              "       width=\"24px\">\n",
              "    <path d=\"M0 0h24v24H0V0z\" fill=\"none\"/>\n",
              "    <path d=\"M18.56 5.44l.94 2.06.94-2.06 2.06-.94-2.06-.94-.94-2.06-.94 2.06-2.06.94zm-11 1L8.5 8.5l.94-2.06 2.06-.94-2.06-.94L8.5 2.5l-.94 2.06-2.06.94zm10 10l.94 2.06.94-2.06 2.06-.94-2.06-.94-.94-2.06-.94 2.06-2.06.94z\"/><path d=\"M17.41 7.96l-1.37-1.37c-.4-.4-.92-.59-1.43-.59-.52 0-1.04.2-1.43.59L10.3 9.45l-7.72 7.72c-.78.78-.78 2.05 0 2.83L4 21.41c.39.39.9.59 1.41.59.51 0 1.02-.2 1.41-.59l7.78-7.78 2.81-2.81c.8-.78.8-2.07 0-2.86zM5.41 20L4 18.59l7.72-7.72 1.47 1.35L5.41 20z\"/>\n",
              "  </svg>\n",
              "      </button>\n",
              "      \n",
              "  <style>\n",
              "    .colab-df-container {\n",
              "      display:flex;\n",
              "      flex-wrap:wrap;\n",
              "      gap: 12px;\n",
              "    }\n",
              "\n",
              "    .colab-df-convert {\n",
              "      background-color: #E8F0FE;\n",
              "      border: none;\n",
              "      border-radius: 50%;\n",
              "      cursor: pointer;\n",
              "      display: none;\n",
              "      fill: #1967D2;\n",
              "      height: 32px;\n",
              "      padding: 0 0 0 0;\n",
              "      width: 32px;\n",
              "    }\n",
              "\n",
              "    .colab-df-convert:hover {\n",
              "      background-color: #E2EBFA;\n",
              "      box-shadow: 0px 1px 2px rgba(60, 64, 67, 0.3), 0px 1px 3px 1px rgba(60, 64, 67, 0.15);\n",
              "      fill: #174EA6;\n",
              "    }\n",
              "\n",
              "    [theme=dark] .colab-df-convert {\n",
              "      background-color: #3B4455;\n",
              "      fill: #D2E3FC;\n",
              "    }\n",
              "\n",
              "    [theme=dark] .colab-df-convert:hover {\n",
              "      background-color: #434B5C;\n",
              "      box-shadow: 0px 1px 3px 1px rgba(0, 0, 0, 0.15);\n",
              "      filter: drop-shadow(0px 1px 2px rgba(0, 0, 0, 0.3));\n",
              "      fill: #FFFFFF;\n",
              "    }\n",
              "  </style>\n",
              "\n",
              "      <script>\n",
              "        const buttonEl =\n",
              "          document.querySelector('#df-c2288aea-f71f-4bef-94c7-fefb9b1d9987 button.colab-df-convert');\n",
              "        buttonEl.style.display =\n",
              "          google.colab.kernel.accessAllowed ? 'block' : 'none';\n",
              "\n",
              "        async function convertToInteractive(key) {\n",
              "          const element = document.querySelector('#df-c2288aea-f71f-4bef-94c7-fefb9b1d9987');\n",
              "          const dataTable =\n",
              "            await google.colab.kernel.invokeFunction('convertToInteractive',\n",
              "                                                     [key], {});\n",
              "          if (!dataTable) return;\n",
              "\n",
              "          const docLinkHtml = 'Like what you see? Visit the ' +\n",
              "            '<a target=\"_blank\" href=https://colab.research.google.com/notebooks/data_table.ipynb>data table notebook</a>'\n",
              "            + ' to learn more about interactive tables.';\n",
              "          element.innerHTML = '';\n",
              "          dataTable['output_type'] = 'display_data';\n",
              "          await google.colab.output.renderOutput(dataTable, element);\n",
              "          const docLink = document.createElement('div');\n",
              "          docLink.innerHTML = docLinkHtml;\n",
              "          element.appendChild(docLink);\n",
              "        }\n",
              "      </script>\n",
              "    </div>\n",
              "  </div>\n",
              "  "
            ]
          },
          "metadata": {},
          "execution_count": 68
        }
      ]
    },
    {
      "cell_type": "code",
      "source": [
        "# entfernen von NaNs\n",
        "df_rest = df_ml.dropna(axis=0)"
      ],
      "metadata": {
        "id": "1bq6z_VuBsd-"
      },
      "execution_count": 69,
      "outputs": []
    },
    {
      "cell_type": "code",
      "source": [
        "df_rest.head()"
      ],
      "metadata": {
        "id": "PZnpgn5DB4-e",
        "colab": {
          "base_uri": "https://localhost:8080/",
          "height": 206
        },
        "outputId": "ce8d1920-1efb-4c02-b92f-1a3d42a13405"
      },
      "execution_count": 70,
      "outputs": [
        {
          "output_type": "execute_result",
          "data": {
            "text/plain": [
              "    DIAGNOSIS  NUMBER_ENCOUNTERS  PATIENT_COST\n",
              "27      other                 11        186.52\n",
              "31      other                 11      95318.00\n",
              "67      other                 12      20433.02\n",
              "98      other                 11     126633.09\n",
              "113     other                 13      29597.71"
            ],
            "text/html": [
              "\n",
              "  <div id=\"df-01d22072-3459-4e1c-98dc-c50cf39669b1\">\n",
              "    <div class=\"colab-df-container\">\n",
              "      <div>\n",
              "<style scoped>\n",
              "    .dataframe tbody tr th:only-of-type {\n",
              "        vertical-align: middle;\n",
              "    }\n",
              "\n",
              "    .dataframe tbody tr th {\n",
              "        vertical-align: top;\n",
              "    }\n",
              "\n",
              "    .dataframe thead th {\n",
              "        text-align: right;\n",
              "    }\n",
              "</style>\n",
              "<table border=\"1\" class=\"dataframe\">\n",
              "  <thead>\n",
              "    <tr style=\"text-align: right;\">\n",
              "      <th></th>\n",
              "      <th>DIAGNOSIS</th>\n",
              "      <th>NUMBER_ENCOUNTERS</th>\n",
              "      <th>PATIENT_COST</th>\n",
              "    </tr>\n",
              "  </thead>\n",
              "  <tbody>\n",
              "    <tr>\n",
              "      <th>27</th>\n",
              "      <td>other</td>\n",
              "      <td>11</td>\n",
              "      <td>186.52</td>\n",
              "    </tr>\n",
              "    <tr>\n",
              "      <th>31</th>\n",
              "      <td>other</td>\n",
              "      <td>11</td>\n",
              "      <td>95318.00</td>\n",
              "    </tr>\n",
              "    <tr>\n",
              "      <th>67</th>\n",
              "      <td>other</td>\n",
              "      <td>12</td>\n",
              "      <td>20433.02</td>\n",
              "    </tr>\n",
              "    <tr>\n",
              "      <th>98</th>\n",
              "      <td>other</td>\n",
              "      <td>11</td>\n",
              "      <td>126633.09</td>\n",
              "    </tr>\n",
              "    <tr>\n",
              "      <th>113</th>\n",
              "      <td>other</td>\n",
              "      <td>13</td>\n",
              "      <td>29597.71</td>\n",
              "    </tr>\n",
              "  </tbody>\n",
              "</table>\n",
              "</div>\n",
              "      <button class=\"colab-df-convert\" onclick=\"convertToInteractive('df-01d22072-3459-4e1c-98dc-c50cf39669b1')\"\n",
              "              title=\"Convert this dataframe to an interactive table.\"\n",
              "              style=\"display:none;\">\n",
              "        \n",
              "  <svg xmlns=\"http://www.w3.org/2000/svg\" height=\"24px\"viewBox=\"0 0 24 24\"\n",
              "       width=\"24px\">\n",
              "    <path d=\"M0 0h24v24H0V0z\" fill=\"none\"/>\n",
              "    <path d=\"M18.56 5.44l.94 2.06.94-2.06 2.06-.94-2.06-.94-.94-2.06-.94 2.06-2.06.94zm-11 1L8.5 8.5l.94-2.06 2.06-.94-2.06-.94L8.5 2.5l-.94 2.06-2.06.94zm10 10l.94 2.06.94-2.06 2.06-.94-2.06-.94-.94-2.06-.94 2.06-2.06.94z\"/><path d=\"M17.41 7.96l-1.37-1.37c-.4-.4-.92-.59-1.43-.59-.52 0-1.04.2-1.43.59L10.3 9.45l-7.72 7.72c-.78.78-.78 2.05 0 2.83L4 21.41c.39.39.9.59 1.41.59.51 0 1.02-.2 1.41-.59l7.78-7.78 2.81-2.81c.8-.78.8-2.07 0-2.86zM5.41 20L4 18.59l7.72-7.72 1.47 1.35L5.41 20z\"/>\n",
              "  </svg>\n",
              "      </button>\n",
              "      \n",
              "  <style>\n",
              "    .colab-df-container {\n",
              "      display:flex;\n",
              "      flex-wrap:wrap;\n",
              "      gap: 12px;\n",
              "    }\n",
              "\n",
              "    .colab-df-convert {\n",
              "      background-color: #E8F0FE;\n",
              "      border: none;\n",
              "      border-radius: 50%;\n",
              "      cursor: pointer;\n",
              "      display: none;\n",
              "      fill: #1967D2;\n",
              "      height: 32px;\n",
              "      padding: 0 0 0 0;\n",
              "      width: 32px;\n",
              "    }\n",
              "\n",
              "    .colab-df-convert:hover {\n",
              "      background-color: #E2EBFA;\n",
              "      box-shadow: 0px 1px 2px rgba(60, 64, 67, 0.3), 0px 1px 3px 1px rgba(60, 64, 67, 0.15);\n",
              "      fill: #174EA6;\n",
              "    }\n",
              "\n",
              "    [theme=dark] .colab-df-convert {\n",
              "      background-color: #3B4455;\n",
              "      fill: #D2E3FC;\n",
              "    }\n",
              "\n",
              "    [theme=dark] .colab-df-convert:hover {\n",
              "      background-color: #434B5C;\n",
              "      box-shadow: 0px 1px 3px 1px rgba(0, 0, 0, 0.15);\n",
              "      filter: drop-shadow(0px 1px 2px rgba(0, 0, 0, 0.3));\n",
              "      fill: #FFFFFF;\n",
              "    }\n",
              "  </style>\n",
              "\n",
              "      <script>\n",
              "        const buttonEl =\n",
              "          document.querySelector('#df-01d22072-3459-4e1c-98dc-c50cf39669b1 button.colab-df-convert');\n",
              "        buttonEl.style.display =\n",
              "          google.colab.kernel.accessAllowed ? 'block' : 'none';\n",
              "\n",
              "        async function convertToInteractive(key) {\n",
              "          const element = document.querySelector('#df-01d22072-3459-4e1c-98dc-c50cf39669b1');\n",
              "          const dataTable =\n",
              "            await google.colab.kernel.invokeFunction('convertToInteractive',\n",
              "                                                     [key], {});\n",
              "          if (!dataTable) return;\n",
              "\n",
              "          const docLinkHtml = 'Like what you see? Visit the ' +\n",
              "            '<a target=\"_blank\" href=https://colab.research.google.com/notebooks/data_table.ipynb>data table notebook</a>'\n",
              "            + ' to learn more about interactive tables.';\n",
              "          element.innerHTML = '';\n",
              "          dataTable['output_type'] = 'display_data';\n",
              "          await google.colab.output.renderOutput(dataTable, element);\n",
              "          const docLink = document.createElement('div');\n",
              "          docLink.innerHTML = docLinkHtml;\n",
              "          element.appendChild(docLink);\n",
              "        }\n",
              "      </script>\n",
              "    </div>\n",
              "  </div>\n",
              "  "
            ]
          },
          "metadata": {},
          "execution_count": 70
        }
      ]
    },
    {
      "cell_type": "markdown",
      "source": [
        "## Aufgrund der geringen Anzahl an vollständigen Datensätzen wird zunächst ein Decision Tree Modell versucht"
      ],
      "metadata": {
        "id": "zrh39L-eG45D"
      }
    },
    {
      "cell_type": "code",
      "source": [
        "# Importing the required packages \n",
        "import numpy as np \n",
        "import pandas as pd \n",
        "from sklearn.metrics import confusion_matrix \n",
        "from sklearn.model_selection import train_test_split \n",
        "from sklearn.tree import DecisionTreeClassifier \n",
        "from sklearn.metrics import accuracy_score \n",
        "from sklearn.metrics import classification_report \n",
        "\n",
        "# Suppress warnings \n",
        "# (sometimes you might want to ignore warnings, that's how you can achieve this)\n",
        "import warnings\n",
        "warnings.filterwarnings('ignore')\n"
      ],
      "metadata": {
        "id": "RnDN0mhHBMCM"
      },
      "execution_count": 71,
      "outputs": []
    },
    {
      "cell_type": "code",
      "source": [
        "# Defining X and y\n",
        "features = df_rest.columns.tolist()\n",
        "features.remove('DIAGNOSIS')\n",
        "X = df_rest[features]\n",
        "y = df_rest.DIAGNOSIS\n",
        "\n",
        "# Splitting the dataset\n",
        "X_train, X_test, y_train, y_test = train_test_split(X, y, test_size=0.3, random_state=150, shuffle=True)\n",
        "\n",
        "# Check the shape of the data sets\n",
        "print(\"X_train:\", X_train.shape)\n",
        "print(\"y_train:\", y_train.shape)\n",
        "print(\"X_test:\", X_test.shape)\n",
        "print(\"y_test:\", y_test.shape)"
      ],
      "metadata": {
        "id": "86al2IBnA2uH",
        "colab": {
          "base_uri": "https://localhost:8080/"
        },
        "outputId": "99fcec9f-b66e-4c31-f0ad-b04b952acbe6"
      },
      "execution_count": 72,
      "outputs": [
        {
          "output_type": "stream",
          "name": "stdout",
          "text": [
            "X_train: (68, 2)\n",
            "y_train: (68,)\n",
            "X_test: (30, 2)\n",
            "y_test: (30,)\n"
          ]
        }
      ]
    },
    {
      "cell_type": "markdown",
      "source": [
        "Es stehen 68 vollständige Trainingsdatensätze und 30 vollständige Testdatensätze zur Verfügung.\n",
        "\n",
        "Training eines Decision Trees mit dem gini-Index:"
      ],
      "metadata": {
        "id": "Sq2ufMKnHCr7"
      }
    },
    {
      "cell_type": "code",
      "source": [
        "# Creating the classifier object \n",
        "clf_gini = DecisionTreeClassifier(criterion = \"gini\", \n",
        "            max_depth=3, min_samples_leaf=5) \n",
        "# Performing training \n",
        "clf_gini.fit(X_train, y_train)"
      ],
      "metadata": {
        "id": "nWw-V4f1BZVD",
        "colab": {
          "base_uri": "https://localhost:8080/"
        },
        "outputId": "7f053e90-6511-4726-98bc-efb3126884b1"
      },
      "execution_count": 73,
      "outputs": [
        {
          "output_type": "execute_result",
          "data": {
            "text/plain": [
              "DecisionTreeClassifier(max_depth=3, min_samples_leaf=5)"
            ]
          },
          "metadata": {},
          "execution_count": 73
        }
      ]
    },
    {
      "cell_type": "markdown",
      "source": [
        "Vorhersage der Diagnose anhand der Testdaten:"
      ],
      "metadata": {
        "id": "cvVSZr_MNRqQ"
      }
    },
    {
      "cell_type": "code",
      "source": [
        " # Predicton on test with giniIndex \n",
        "y_pred = clf_gini.predict(X_test) \n",
        "print(\"Predicted values:\\n\") \n",
        "print(y_pred)"
      ],
      "metadata": {
        "id": "wjh2Bx95CIYJ",
        "colab": {
          "base_uri": "https://localhost:8080/"
        },
        "outputId": "5d02e432-297f-4ed3-8a60-a0b06e48d3e6"
      },
      "execution_count": 74,
      "outputs": [
        {
          "output_type": "stream",
          "name": "stdout",
          "text": [
            "Predicted values:\n",
            "\n",
            "['other' 'other' 'other' 'other' 'other' 'other' 'other' 'other' 'other'\n",
            " 'other' 'other' 'other' 'other' 'other' 'other' 'other' 'other' 'other'\n",
            " 'other' 'other' 'other' 'other' 'other' 'other' 'other' 'other' 'other'\n",
            " 'other' 'other' 'other']\n"
          ]
        }
      ]
    },
    {
      "cell_type": "markdown",
      "source": [
        "Darstellung der Konfusionsmatrix und der Accuracy:"
      ],
      "metadata": {
        "id": "nK1ukXv6Hdbo"
      }
    },
    {
      "cell_type": "code",
      "source": [
        "print(\"-----\"*15)\n",
        "print(\"Confusion Matrix: \\n\", \n",
        "confusion_matrix(y_test, y_pred)) \n",
        "\n",
        "print(\"-----\"*15)\n",
        "print (\"Accuracy : \\n\", \n",
        "accuracy_score(y_test,y_pred)*100) \n",
        "    \n",
        "print(\"-----\"*15)\n",
        "print(\"Report : \\n\", \n",
        "classification_report(y_test, y_pred))"
      ],
      "metadata": {
        "id": "5txK7yDBCa0d",
        "colab": {
          "base_uri": "https://localhost:8080/"
        },
        "outputId": "9dacdc6f-aff2-42b7-daf8-b1f2bad604d3"
      },
      "execution_count": 75,
      "outputs": [
        {
          "output_type": "stream",
          "name": "stdout",
          "text": [
            "---------------------------------------------------------------------------\n",
            "Confusion Matrix: \n",
            " [[ 0  4]\n",
            " [ 0 26]]\n",
            "---------------------------------------------------------------------------\n",
            "Accuracy : \n",
            " 86.66666666666667\n",
            "---------------------------------------------------------------------------\n",
            "Report : \n",
            "                precision    recall  f1-score   support\n",
            "\n",
            "breast_cancer       0.00      0.00      0.00         4\n",
            "        other       0.87      1.00      0.93        26\n",
            "\n",
            "     accuracy                           0.87        30\n",
            "    macro avg       0.43      0.50      0.46        30\n",
            " weighted avg       0.75      0.87      0.80        30\n",
            "\n"
          ]
        }
      ]
    },
    {
      "cell_type": "markdown",
      "source": [
        "Graphische Darstellung der Konfusionsmatrix:"
      ],
      "metadata": {
        "id": "IoND0OYEHkNm"
      }
    },
    {
      "cell_type": "code",
      "source": [
        "# Evaluate the model with a confusion matrix\n",
        "cm = confusion_matrix(y_test, y_pred)\n",
        "sns.heatmap(cm, cmap='YlGnBu', annot=True, fmt='d', linewidths=.5);"
      ],
      "metadata": {
        "id": "t-OoOHGSDMnf",
        "colab": {
          "base_uri": "https://localhost:8080/",
          "height": 265
        },
        "outputId": "a08df842-37e0-4281-d9e9-28030a61d160"
      },
      "execution_count": 76,
      "outputs": [
        {
          "output_type": "display_data",
          "data": {
            "text/plain": [
              "<Figure size 432x288 with 2 Axes>"
            ],
            "image/png": "[encoded data removed]"
          },
          "metadata": {
            "needs_background": "light"
          }
        }
      ]
    },
    {
      "cell_type": "markdown",
      "source": [
        "Im vorliegenden Modell wurden die Patienten mit Brustkrebs nicht erkannt. Eine Erklärung dafür ist, dass sich alle Patienten mit Brustkrebs im Testset befanden. Da keine Brustkrebs-Patienten im Trainingsset vorhanden waren, konnte das Modell diese Diagnose nicht \"lernen\" und hat sie daher auch nicht erkannt."
      ],
      "metadata": {
        "id": "Oxc9vuNR9RbJ"
      }
    },
    {
      "cell_type": "markdown",
      "source": [
        "## Ein weiterer Machine Learning Ansatz mit Hilfe einer Logistic Regression Analyse"
      ],
      "metadata": {
        "id": "6okDHiVUHpnN"
      }
    },
    {
      "cell_type": "code",
      "source": [
        "# Import libraries\n",
        "import pandas as pd\n",
        "import numpy as np\n",
        "import matplotlib.pyplot as plt\n",
        "import seaborn as sns\n",
        "\n",
        "from sklearn.datasets import load_iris\n",
        "from sklearn.model_selection import train_test_split\n",
        "from sklearn.linear_model import LogisticRegression\n",
        "from sklearn.metrics import confusion_matrix, classification_report, accuracy_score\n",
        "\n",
        "# Set plotting style\n",
        "sns.set_style('whitegrid')\n",
        "plt.rcParams['font.size'] = 14\n",
        "plt.rcParams['figure.figsize'] = (11, 7)"
      ],
      "metadata": {
        "id": "0pRcbbyFC9qK"
      },
      "execution_count": 77,
      "outputs": []
    },
    {
      "cell_type": "markdown",
      "source": [
        "Aufteilung in Trainings- und Testdaten sowie Training des Modells\n",
        "Weiterhin graphische Darstellung der Konfusionsmatrix und der Accuracy."
      ],
      "metadata": {
        "id": "5AZkm8m1H92v"
      }
    },
    {
      "cell_type": "code",
      "source": [
        "# Logistic Regression\n",
        "log_reg = LogisticRegression(max_iter=1000)\n",
        "log_reg.fit(X_train, y_train)\n",
        "\n",
        "y_pred_train = log_reg.predict(X_train)\n",
        "y_pred = log_reg.predict(X_test)\n",
        "\n",
        "# Print accuracy of our model\n",
        "print(\"Accuracy on train set:\", round(accuracy_score(y_train, y_pred_train), 2))\n",
        "print(\"Accuracy on test set:\", round(accuracy_score(y_test, y_pred), 2))\n",
        "print(\"--------\"*10)\n",
        "\n",
        "# Print classification report of our model\n",
        "print(classification_report(y_test, y_pred))\n",
        "print(\"--------\"*10)\n",
        "\n",
        "# Evaluate the model with a confusion matrix\n",
        "cm = confusion_matrix(y_test, y_pred)\n",
        "sns.heatmap(cm, cmap='YlGnBu', annot=True, fmt='d', linewidths=.5);"
      ],
      "metadata": {
        "id": "LEUXpWOECsGM",
        "colab": {
          "base_uri": "https://localhost:8080/",
          "height": 664
        },
        "outputId": "97a38fc4-6fd2-44e6-9300-07d45e14c82c"
      },
      "execution_count": 78,
      "outputs": [
        {
          "output_type": "stream",
          "name": "stdout",
          "text": [
            "Accuracy on train set: 1.0\n",
            "Accuracy on test set: 0.97\n",
            "--------------------------------------------------------------------------------\n",
            "               precision    recall  f1-score   support\n",
            "\n",
            "breast_cancer       1.00      0.75      0.86         4\n",
            "        other       0.96      1.00      0.98        26\n",
            "\n",
            "     accuracy                           0.97        30\n",
            "    macro avg       0.98      0.88      0.92        30\n",
            " weighted avg       0.97      0.97      0.96        30\n",
            "\n",
            "--------------------------------------------------------------------------------\n"
          ]
        },
        {
          "output_type": "display_data",
          "data": {
            "text/plain": [
              "<Figure size 792x504 with 2 Axes>"
            ],
            "image/png": "[encoded data removed]"
          },
          "metadata": {}
        }
      ]
    },
    {
      "cell_type": "markdown",
      "source": [],
      "metadata": {
        "id": "8BXqLnBs9Zxc"
      }
    },
    {
      "cell_type": "markdown",
      "source": [
        "Mit diesem Ansatz wurden 3 der 4 Brustkrebspatienten erkannt. Das Modell konnte die Diagnose mithilfe des Trainingssets lernen. Die Aufteilung in Trainings- und Testset war in diesem Ansatz ausgeglichener."
      ],
      "metadata": {
        "id": "dkgRp3YU90AU"
      }
    },
    {
      "cell_type": "markdown",
      "source": [
        "Aufgrund der geringen Fallzahlen sind die Ergebnisse dieser Modelle nicht belastbar. Für eine aussagekräftige Analyse ist es notwendig das Patientenkollektiv deutlich zu vergrößern."
      ],
      "metadata": {
        "id": "5xLFSiCN-G2J"
      }
    }
  ]
}